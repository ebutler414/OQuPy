{
 "cells": [
  {
   "cell_type": "code",
   "execution_count": 18,
   "metadata": {},
   "outputs": [],
   "source": [
    "import numpy as np\n",
    "import matplotlib.pyplot as plt\n",
    "\n",
    "import oqupy\n",
    "import oqupy.operators as op\n",
    "\n",
    "from scipy.optimize import minimize, Bounds\n",
    "from typing import List,Tuple\n",
    "\n",
    "# --- Parameters --------------------------------------------------------------\n",
    "\n",
    "# -- time steps --\n",
    "dt = 0.05 # 0.2\n",
    "num_steps = 100 # 20\n",
    "\n",
    "# -- bath --\n",
    "alpha =  0.126 #0.08\n",
    "omega_cutoff = 3.04 #4\n",
    "temperature =  5 * 0.1309 #1.6\n",
    "pt_dkmax =60 # 40\n",
    "pt_epsrel = 10**(-7) #1.0e-5\n",
    "\n",
    "# -- initial and target state --\n",
    "initial_state = op.spin_dm('x-')\n",
    "target_state = op.spin_dm('x+')\n",
    "\n",
    "# -- initial parameter guess --\n",
    "x0= np.zeros(num_steps)\n",
    "z0 = np.ones(num_steps) * (np.pi) / (dt*num_steps)\n",
    "'''\n",
    "for i in range(len(z0)):\n",
    "    if i % 2 == 0:\n",
    "        z0[i]=0\n",
    "'''\n",
    "\n",
    "#parameter_list=[i[0] for i in zip(x0,z0)]\n",
    "\n",
    "parameter_list=[item for pair in zip(x0, z0) for item in pair] # this makes a list without the inner tuples\n",
    "\n",
    "#parameter_list = list(zip(x0,z0))\n",
    "#num_params = len(parameter_list[0])"
   ]
  },
  {
   "cell_type": "code",
   "execution_count": 19,
   "metadata": {},
   "outputs": [],
   "source": [
    "halfparalist=[item for item in zip(x0,z0) for i in range(2)]"
   ]
  },
  {
   "cell_type": "code",
   "execution_count": 20,
   "metadata": {},
   "outputs": [
    {
     "name": "stdout",
     "output_type": "stream",
     "text": [
      "--> PT-TEMPO computation:\n",
      "100.0%  100 of  100 [########################################] 00:00:10\n",
      "Elapsed time: 10.4s\n"
     ]
    }
   ],
   "source": [
    "# --- Compute process tensors -------------------------------------------------\n",
    "correlations = oqupy.PowerLawSD(alpha=alpha,\n",
    "                                zeta=3,\n",
    "                                cutoff=omega_cutoff,\n",
    "                                cutoff_type='gaussian',\n",
    "                                temperature=temperature)\n",
    "bath = oqupy.Bath(oqupy.operators.sigma(\"z\")/2, correlations)\n",
    "\n",
    "\n",
    "pt_tempo_parameters = oqupy.TempoParameters(\n",
    "    dt=dt,\n",
    "    epsrel=pt_epsrel,\n",
    "    dkmax=pt_dkmax)\n",
    "process_tensor = oqupy.pt_tempo_compute(\n",
    "    bath=bath,\n",
    "    start_time=0.0,\n",
    "    end_time=num_steps * dt,\n",
    "    parameters=pt_tempo_parameters,\n",
    "    progress_type='bar')"
   ]
  },
  {
   "cell_type": "code",
   "execution_count": 21,
   "metadata": {},
   "outputs": [],
   "source": [
    "def hamiltonian(hx,hz):\n",
    "\n",
    "    hx_sx = 0.5 * oqupy.operators.sigma('x') * hx\n",
    "    hz_sz = 0.5 * oqupy.operators.sigma('z') * hz\n",
    "\n",
    "    return hz_sz + hx_sx\n",
    "\n",
    "parameterized_system=oqupy.ParameterizedSystem(hamiltonian)\n",
    "\n"
   ]
  },
  {
   "cell_type": "code",
   "execution_count": 22,
   "metadata": {},
   "outputs": [],
   "source": [
    "import tensornetwork as tn"
   ]
  },
  {
   "cell_type": "code",
   "execution_count": 23,
   "metadata": {},
   "outputs": [
    {
     "name": "stdout",
     "output_type": "stream",
     "text": [
      "101\n",
      "[[ 0.24999424+6.23336132e-08j -0.21167934-2.04025632e-02j\n",
      "  -0.2116791 +2.04024572e-02j  0.24999429-2.57703281e-08j]\n",
      " [-0.24824582+1.17067226e-02j  0.21261618+3.33873138e-03j\n",
      "   0.20889527-2.30607365e-02j -0.24824576+1.17071904e-02j]\n",
      " [-0.24824581-1.17068462e-02j  0.20889547+2.30608113e-02j\n",
      "   0.21261591-3.33867061e-03j -0.24824577-1.17071391e-02j]\n",
      " [ 0.24999433+6.21339780e-08j -0.21256763-6.28599506e-03j\n",
      "  -0.21256739+6.28596222e-03j  0.2499942 -2.58677562e-08j]]\n"
     ]
    }
   ],
   "source": [
    "fsadj=oqupy.compute_gradient_and_dynamics(\n",
    "        system=parameterized_system,\n",
    "        initial_state=initial_state,\n",
    "        target_state=target_state,\n",
    "        process_tensor=process_tensor,\n",
    "        parameters=halfparalist)[0][1]\n",
    "firsthalfprop,secondhalfprop=parameterized_system.get_propagators(dt,halfparalist)(1)\n",
    "fpt=tn.Node(firsthalfprop.T)\n",
    "spt=tn.Node(secondhalfprop.T)\n",
    "fsadj[0] ^ fpt[0]\n",
    "fsadj[1] ^ fpt[1]\n",
    "result1=fsadj @ fpt\n",
    "print(result1.tensor)"
   ]
  },
  {
   "cell_type": "code",
   "execution_count": null,
   "metadata": {},
   "outputs": [],
   "source": []
  },
  {
   "cell_type": "code",
   "execution_count": 24,
   "metadata": {},
   "outputs": [
    {
     "name": "stdout",
     "output_type": "stream",
     "text": [
      "101\n",
      "[[ 0.24999424+6.23336132e-08j -0.21261618-3.33873138e-03j\n",
      "  -0.21261591+3.33867061e-03j  0.2499942 -2.58677562e-08j]\n",
      " [-0.24999424-6.23336132e-08j  0.21261618+3.33873138e-03j\n",
      "   0.21261591-3.33867061e-03j -0.2499942 +2.58677562e-08j]\n",
      " [-0.24999424-6.23336132e-08j  0.21261618+3.33873138e-03j\n",
      "   0.21261591-3.33867061e-03j -0.2499942 +2.58677562e-08j]\n",
      " [ 0.24999424+6.23336132e-08j -0.21261618-3.33873138e-03j\n",
      "  -0.21261591+3.33867061e-03j  0.2499942 -2.58677562e-08j]]\n"
     ]
    }
   ],
   "source": [
    "fsadj=oqupy.compute_gradient_and_dynamics(\n",
    "        system=parameterized_system,\n",
    "        initial_state=initial_state,\n",
    "        target_state=target_state,\n",
    "        process_tensor=process_tensor,\n",
    "        parameters=halfparalist)[0][0]\n",
    "firsthalfprop,secondhalfprop=parameterized_system.get_propagators(dt,halfparalist)(0)\n",
    "fpt=tn.Node(firsthalfprop.T)\n",
    "spt=tn.Node(secondhalfprop.T)\n",
    "fsadj[2] ^ spt[0]\n",
    "fsadj[3] ^ spt[1]\n",
    "result2=fsadj @ spt\n",
    "print(result2.tensor)"
   ]
  },
  {
   "cell_type": "code",
   "execution_count": 25,
   "metadata": {},
   "outputs": [
    {
     "name": "stdout",
     "output_type": "stream",
     "text": [
      "101\n"
     ]
    }
   ],
   "source": [
    "bpl=oqupy.compute_gradient_and_dynamics(system=parameterized_system,\n",
    "                                    parameters=halfparalist,\n",
    "                                    initial_state=initial_state,\n",
    "                                    target_state=target_state.T,\n",
    "                                    process_tensor=process_tensor)"
   ]
  },
  {
   "cell_type": "code",
   "execution_count": 26,
   "metadata": {},
   "outputs": [
    {
     "data": {
      "text/plain": [
       "<oqupy.dynamics.Dynamics at 0x13d5aeaf0>"
      ]
     },
     "execution_count": 26,
     "metadata": {},
     "output_type": "execute_result"
    }
   ],
   "source": [
    "bpl[1]"
   ]
  },
  {
   "cell_type": "code",
   "execution_count": 27,
   "metadata": {},
   "outputs": [
    {
     "data": {
      "text/plain": [
       "array([[ 0.00000000e+00+0.j        ,  9.81727518e-05+0.01249949j,\n",
       "         9.81727518e-05-0.01249949j,  0.00000000e+00+0.j        ],\n",
       "       [ 9.81727518e-05+0.01249949j,  0.00000000e+00+0.j        ,\n",
       "         0.00000000e+00+0.j        , -9.81727518e-05-0.01249949j],\n",
       "       [ 9.81727518e-05-0.01249949j,  0.00000000e+00+0.j        ,\n",
       "         0.00000000e+00+0.j        , -9.81727518e-05+0.01249949j],\n",
       "       [ 0.00000000e+00+0.j        , -9.81727518e-05-0.01249949j,\n",
       "        -9.81727518e-05+0.01249949j,  0.00000000e+00+0.j        ]])"
      ]
     },
     "execution_count": 27,
     "metadata": {},
     "output_type": "execute_result"
    }
   ],
   "source": [
    "parameterized_system.get_propagator_derivatives(dt,halfparalist)(0)[0][0]"
   ]
  },
  {
   "cell_type": "code",
   "execution_count": 28,
   "metadata": {},
   "outputs": [
    {
     "data": {
      "text/plain": [
       "array([[ 0.00000000e+00+0.j        ,  9.81727518e-05+0.01249949j,\n",
       "         9.81727518e-05-0.01249949j,  0.00000000e+00+0.j        ],\n",
       "       [ 9.81727518e-05+0.01249949j,  0.00000000e+00+0.j        ,\n",
       "         0.00000000e+00+0.j        , -9.81727518e-05-0.01249949j],\n",
       "       [ 9.81727518e-05-0.01249949j,  0.00000000e+00+0.j        ,\n",
       "         0.00000000e+00+0.j        , -9.81727518e-05+0.01249949j],\n",
       "       [ 0.00000000e+00+0.j        , -9.81727518e-05-0.01249949j,\n",
       "        -9.81727518e-05+0.01249949j,  0.00000000e+00+0.j        ]])"
      ]
     },
     "execution_count": 28,
     "metadata": {},
     "output_type": "execute_result"
    }
   ],
   "source": [
    "parameterized_system.get_propagator_derivatives(dt,halfparalist)(1)[1][0]"
   ]
  },
  {
   "cell_type": "code",
   "execution_count": 29,
   "metadata": {},
   "outputs": [
    {
     "name": "stdout",
     "output_type": "stream",
     "text": [
      "101\n"
     ]
    }
   ],
   "source": [
    "bpl=oqupy.compute_gradient_and_dynamics(system=parameterized_system,\n",
    "                                    parameters=halfparalist,\n",
    "                                    initial_state=initial_state,\n",
    "                                    target_state=target_state.T,\n",
    "                                    process_tensor=process_tensor)[0]\n",
    "props=parameterized_system.get_propagators(dt,halfparalist)\n",
    "pds=parameterized_system.get_propagator_derivatives(dt,halfparalist)\n",
    "thispara=0\n",
    "resultlist=[]\n",
    "for i in range(num_steps):\n",
    "    fhprd,shprd=pds(i)\n",
    "    fhprd=fhprd[thispara]\n",
    "    shprd=shprd[thispara]\n",
    "    fhprp,shprp=props(i)\n",
    "    fpdt=tn.Node(fhprd.T)\n",
    "    spdt=tn.Node(shprd.T)\n",
    "    fpt=tn.Node(fhprp.T)\n",
    "    spt=tn.Node(shprp.T)\n",
    "    thisadjoint1=bpl[i] \n",
    "    thisadjoint2=tn.replicate_nodes([thisadjoint1])[0]\n",
    "    thisadjoint1[0] ^ fpdt[0]\n",
    "    thisadjoint1[1] ^ fpdt[1]\n",
    "    thisadjoint1[2] ^ spt[0]\n",
    "    thisadjoint1[3] ^ spt[1]\n",
    "    result1=thisadjoint1 @ fpdt @ spt\n",
    "    thisadjoint2[0] ^ fpt[0]\n",
    "    thisadjoint2[1] ^ fpt[1]\n",
    "    thisadjoint2[2] ^ spdt[0]\n",
    "    thisadjoint2[3] ^ spdt[1]\n",
    "    result2=thisadjoint2 @ spdt @ fpt\n",
    "    resultlist.append((result1.tensor,result2.tensor))\n",
    "\n"
   ]
  },
  {
   "cell_type": "code",
   "execution_count": 30,
   "metadata": {},
   "outputs": [],
   "source": [
    "eoinscode=oqupy.state_gradient(system=parameterized_system,\n",
    "        initial_state=initial_state,\n",
    "        target_state=target_state,\n",
    "        process_tensor=process_tensor,\n",
    "        parameters=halfparalist)"
   ]
  },
  {
   "cell_type": "code",
   "execution_count": 35,
   "metadata": {},
   "outputs": [
    {
     "data": {
      "text/plain": [
       "array([[0.49998847+1.24667226e-07j, 0.42528478-2.62062990e-06j],\n",
       "       [0.42528424+2.73363053e-06j, 0.49998841-5.17355123e-08j]])"
      ]
     },
     "execution_count": 35,
     "metadata": {},
     "output_type": "execute_result"
    }
   ],
   "source": [
    "eoinscode['final state']"
   ]
  },
  {
   "cell_type": "code",
   "execution_count": 41,
   "metadata": {},
   "outputs": [],
   "source": [
    "import itertools as it"
   ]
  },
  {
   "cell_type": "code",
   "execution_count": null,
   "metadata": {},
   "outputs": [],
   "source": [
    "it.slice"
   ]
  },
  {
   "cell_type": "code",
   "execution_count": 46,
   "metadata": {},
   "outputs": [
    {
     "data": {
      "text/plain": [
       "['h', 'l', 'o']"
      ]
     },
     "execution_count": 46,
     "metadata": {},
     "output_type": "execute_result"
    }
   ],
   "source": [
    "[i for i in it.islice(\"hello\",0,None,2)]"
   ]
  },
  {
   "cell_type": "code",
   "execution_count": 39,
   "metadata": {},
   "outputs": [
    {
     "data": {
      "text/plain": [
       "[]"
      ]
     },
     "execution_count": 39,
     "metadata": {},
     "output_type": "execute_result"
    }
   ],
   "source": [
    "[i for i in zip(parameter_list[],parameter_list[1:2:-1])]"
   ]
  },
  {
   "cell_type": "code",
   "execution_count": 62,
   "metadata": {},
   "outputs": [
    {
     "data": {
      "text/plain": [
       "[0.0,\n",
       " 0.6283185307179586,\n",
       " 0.0,\n",
       " 7,\n",
       " 0.0,\n",
       " 0.6283185307179586,\n",
       " 0.0,\n",
       " 0.6283185307179586,\n",
       " 0.0,\n",
       " 0.6283185307179586,\n",
       " 0.0,\n",
       " 0.6283185307179586,\n",
       " 0.0,\n",
       " 0.6283185307179586,\n",
       " 0.0,\n",
       " 0.6283185307179586,\n",
       " 0.0,\n",
       " 0.6283185307179586,\n",
       " 0.0,\n",
       " 0.6283185307179586,\n",
       " 0.0,\n",
       " 0.6283185307179586,\n",
       " 0.0,\n",
       " 0.6283185307179586,\n",
       " 0.0,\n",
       " 0.6283185307179586,\n",
       " 0.0,\n",
       " 0.6283185307179586,\n",
       " 0.0,\n",
       " 0.6283185307179586,\n",
       " 0.0,\n",
       " 0.6283185307179586,\n",
       " 0.0,\n",
       " 0.6283185307179586,\n",
       " 0.0,\n",
       " 0.6283185307179586,\n",
       " 0.0,\n",
       " 0.6283185307179586,\n",
       " 0.0,\n",
       " 0.6283185307179586,\n",
       " 0.0,\n",
       " 0.6283185307179586,\n",
       " 0.0,\n",
       " 0.6283185307179586,\n",
       " 0.0,\n",
       " 0.6283185307179586,\n",
       " 0.0,\n",
       " 0.6283185307179586,\n",
       " 0.0,\n",
       " 0.6283185307179586,\n",
       " 0.0,\n",
       " 0.6283185307179586,\n",
       " 0.0,\n",
       " 0.6283185307179586,\n",
       " 0.0,\n",
       " 0.6283185307179586,\n",
       " 0.0,\n",
       " 0.6283185307179586,\n",
       " 0.0,\n",
       " 0.6283185307179586,\n",
       " 0.0,\n",
       " 0.6283185307179586,\n",
       " 0.0,\n",
       " 0.6283185307179586,\n",
       " 0.0,\n",
       " 0.6283185307179586,\n",
       " 0.0,\n",
       " 0.6283185307179586,\n",
       " 0.0,\n",
       " 0.6283185307179586,\n",
       " 0.0,\n",
       " 0.6283185307179586,\n",
       " 0.0,\n",
       " 0.6283185307179586,\n",
       " 0.0,\n",
       " 0.6283185307179586,\n",
       " 0.0,\n",
       " 0.6283185307179586,\n",
       " 0.0,\n",
       " 0.6283185307179586,\n",
       " 0.0,\n",
       " 0.6283185307179586,\n",
       " 0.0,\n",
       " 0.6283185307179586,\n",
       " 0.0,\n",
       " 0.6283185307179586,\n",
       " 0.0,\n",
       " 0.6283185307179586,\n",
       " 0.0,\n",
       " 0.6283185307179586,\n",
       " 0.0,\n",
       " 0.6283185307179586,\n",
       " 0.0,\n",
       " 0.6283185307179586,\n",
       " 0.0,\n",
       " 0.6283185307179586,\n",
       " 0.0,\n",
       " 0.6283185307179586,\n",
       " 0.0,\n",
       " 0.6283185307179586,\n",
       " 0.0,\n",
       " 0.6283185307179586,\n",
       " 0.0,\n",
       " 0.6283185307179586,\n",
       " 0.0,\n",
       " 0.6283185307179586,\n",
       " 0.0,\n",
       " 0.6283185307179586,\n",
       " 0.0,\n",
       " 0.6283185307179586,\n",
       " 0.0,\n",
       " 0.6283185307179586,\n",
       " 0.0,\n",
       " 0.6283185307179586,\n",
       " 0.0,\n",
       " 0.6283185307179586,\n",
       " 0.0,\n",
       " 0.6283185307179586,\n",
       " 0.0,\n",
       " 0.6283185307179586,\n",
       " 0.0,\n",
       " 0.6283185307179586,\n",
       " 0.0,\n",
       " 0.6283185307179586,\n",
       " 0.0,\n",
       " 0.6283185307179586,\n",
       " 0.0,\n",
       " 0.6283185307179586,\n",
       " 0.0,\n",
       " 0.6283185307179586,\n",
       " 0.0,\n",
       " 0.6283185307179586,\n",
       " 0.0,\n",
       " 0.6283185307179586,\n",
       " 0.0,\n",
       " 0.6283185307179586,\n",
       " 0.0,\n",
       " 0.6283185307179586,\n",
       " 0.0,\n",
       " 0.6283185307179586,\n",
       " 0.0,\n",
       " 0.6283185307179586,\n",
       " 0.0,\n",
       " 0.6283185307179586,\n",
       " 0.0,\n",
       " 0.6283185307179586,\n",
       " 0.0,\n",
       " 0.6283185307179586,\n",
       " 0.0,\n",
       " 0.6283185307179586,\n",
       " 0.0,\n",
       " 0.6283185307179586,\n",
       " 0.0,\n",
       " 0.6283185307179586,\n",
       " 0.0,\n",
       " 0.6283185307179586,\n",
       " 0.0,\n",
       " 0.6283185307179586,\n",
       " 0.0,\n",
       " 0.6283185307179586,\n",
       " 0.0,\n",
       " 0.6283185307179586,\n",
       " 0.0,\n",
       " 0.6283185307179586,\n",
       " 0.0,\n",
       " 0.6283185307179586,\n",
       " 0.0,\n",
       " 0.6283185307179586,\n",
       " 0.0,\n",
       " 0.6283185307179586,\n",
       " 0.0,\n",
       " 0.6283185307179586,\n",
       " 0.0,\n",
       " 0.6283185307179586,\n",
       " 0.0,\n",
       " 0.6283185307179586,\n",
       " 0.0,\n",
       " 0.6283185307179586,\n",
       " 0.0,\n",
       " 0.6283185307179586,\n",
       " 0.0,\n",
       " 0.6283185307179586,\n",
       " 0.0,\n",
       " 0.6283185307179586,\n",
       " 0.0,\n",
       " 0.6283185307179586,\n",
       " 0.0,\n",
       " 0.6283185307179586,\n",
       " 0.0,\n",
       " 0.6283185307179586,\n",
       " 0.0,\n",
       " 0.6283185307179586,\n",
       " 0.0,\n",
       " 0.6283185307179586,\n",
       " 0.0,\n",
       " 0.6283185307179586,\n",
       " 0.0,\n",
       " 0.6283185307179586,\n",
       " 0.0,\n",
       " 0.6283185307179586]"
      ]
     },
     "execution_count": 62,
     "metadata": {},
     "output_type": "execute_result"
    }
   ],
   "source": [
    "parameter_list[3]=7\n",
    "parameter_list"
   ]
  },
  {
   "cell_type": "code",
   "execution_count": 126,
   "metadata": {},
   "outputs": [],
   "source": [
    "def infidandgrad(paras):\n",
    "    # take a flat list hx0, hz0, hx1, hz1, ... over full timesteps\n",
    "    # return the fidelity and gradient of the fidelity to the global target_state\n",
    "    reshapedparas=[i for i in (np.array(parameter_list).reshape((-1,2))).tolist() for j in range(2)]\n",
    "    eoinscode=oqupy.state_gradient(system=parameterized_system,\n",
    "        initial_state=initial_state,\n",
    "        target_state=target_state.T,\n",
    "        process_tensor=process_tensor,\n",
    "        parameters=reshapedparas)\n",
    "    fs=eoinscode['final state']\n",
    "    gps=eoinscode['gradient']\n",
    "    fidelity=np.sum(fs*target_state.T)\n",
    "    for i in range(0,gps.shape[0],2):\n",
    "        gps[i,:]=gps[i,:]+gps[i+1,:]\n",
    "    gps=gps[0:-1:2]\n",
    "    return 1-fidelity.real,(-1.0*gps.reshape((-1)).real).tolist()"
   ]
  },
  {
   "cell_type": "code",
   "execution_count": null,
   "metadata": {},
   "outputs": [],
   "source": [
    "infidandgrad"
   ]
  },
  {
   "cell_type": "code",
   "execution_count": 112,
   "metadata": {},
   "outputs": [],
   "source": [
    "lbx=[-5*np.pi for i in range(num_steps)]\n",
    "lbz=[-np.pi for i in range(num_steps)]\n",
    "lb_list=[item for pair in zip(lbx, lbz) for item in pair]\n",
    "ubx=[5*np.pi for i in range(num_steps)]\n",
    "ubz=[np.pi for i in range(num_steps)]\n",
    "lb_list=[item for pair in zip(lbx, lbz) for item in pair]\n",
    "ub_list=[item for pair in zip(ubx, ubz) for item in pair]"
   ]
  },
  {
   "cell_type": "code",
   "execution_count": 127,
   "metadata": {},
   "outputs": [
    {
     "name": "stdout",
     "output_type": "stream",
     "text": [
      "RUNNING THE L-BFGS-B CODE\n",
      "\n",
      "           * * *\n",
      "\n",
      "Machine precision = 2.220D-16\n",
      " N =          200     M =           10\n",
      "\n",
      "At X0         1 variables are exactly at the bounds\n",
      "\n",
      "At iterate    0    f=  9.61283D-02    |proj g|=  6.66055D-03\n",
      "\n",
      "           * * *\n",
      "\n",
      "Tit   = total number of iterations\n",
      "Tnf   = total number of function evaluations\n",
      "Tnint = total number of segments explored during Cauchy searches\n",
      "Skip  = number of BFGS updates skipped\n",
      "Nact  = number of active bounds at final generalized Cauchy point\n",
      "Projg = norm of the final projected gradient\n",
      "F     = final function value\n",
      "\n",
      "           * * *\n",
      "\n",
      "   N    Tit     Tnf  Tnint  Skip  Nact     Projg        F\n",
      "  200      1     21      1     0     1   6.661D-03   9.613D-02\n",
      "  F =   9.6128259109397485E-002\n",
      "\n",
      "ABNORMAL_TERMINATION_IN_LNSRCH                              \n"
     ]
    },
    {
     "name": "stderr",
     "output_type": "stream",
     "text": [
      "\n",
      " Line search cannot locate an adequate point after MAXLS\n",
      "  function and gradient evaluations.\n",
      "  Previous x, f and g restored.\n",
      " Possible causes: 1 error in function or gradient evaluation;\n",
      "                  2 rounding error dominate computation.\n"
     ]
    }
   ],
   "source": [
    "from scipy.optimize import minimize,Bounds\n",
    "\n",
    "optimization_result = minimize(\n",
    "                        fun=infidandgrad,\n",
    "                        x0=parameter_list,\n",
    "                        method='L-BFGS-B',\n",
    "                        jac=True,\n",
    "                        bounds=Bounds(lb_list,ub_list),\n",
    "                        options = {'disp':True})"
   ]
  },
  {
   "cell_type": "code",
   "execution_count": 84,
   "metadata": {},
   "outputs": [
    {
     "name": "stdout",
     "output_type": "stream",
     "text": [
      "[[ 7.19350021e-04-1.21947978e-10j -3.34641277e-07-3.40286635e-08j]\n",
      " [ 1.79837507e-04-2.61575089e-11j -6.69282554e-08-6.80573270e-09j]\n",
      " [ 1.59207946e-03-1.91267341e-11j -3.34641277e-07-3.40286635e-08j]\n",
      " [ 3.53082686e-04+8.72495676e-12j -6.69282554e-08-6.80573270e-09j]\n",
      " [ 2.40647864e-03+5.08711888e-10j -3.34641277e-07-3.40286635e-08j]\n",
      " [ 5.13436199e-04+1.29982108e-10j -6.69282554e-08-6.80573270e-09j]\n",
      " [ 3.13389493e-03+1.44301176e-09j -3.34641277e-07-3.40286635e-08j]\n",
      " [ 6.55305170e-04+3.30978186e-10j -6.69282554e-08-6.80573270e-09j]\n",
      " [ 3.75108194e-03+2.70677133e-09j -3.34641277e-07-3.40286635e-08j]\n",
      " [ 7.74269019e-04+5.94112849e-10j -6.69282554e-08-6.80573270e-09j]]\n",
      "[[ 8.99187528e-04-1.48105487e-10j -4.01569532e-07-4.08343962e-08j]\n",
      " [ 1.79837507e-04-2.61575089e-11j -6.69282554e-08-6.80573270e-09j]\n",
      " [ 1.94516214e-03-1.04017774e-11j -4.01569532e-07-4.08343962e-08j]\n",
      " [ 3.53082686e-04+8.72495676e-12j -6.69282554e-08-6.80573270e-09j]\n",
      " [ 2.91991484e-03+6.38693996e-10j -4.01569532e-07-4.08343962e-08j]\n",
      " [ 5.13436199e-04+1.29982108e-10j -6.69282554e-08-6.80573270e-09j]\n",
      " [ 3.78920010e-03+1.77398995e-09j -4.01569532e-07-4.08343962e-08j]\n",
      " [ 6.55305170e-04+3.30978186e-10j -6.69282554e-08-6.80573270e-09j]\n",
      " [ 4.52535096e-03+3.30088418e-09j -4.01569532e-07-4.08343962e-08j]\n",
      " [ 7.74269019e-04+5.94112849e-10j -6.69282554e-08-6.80573270e-09j]]\n"
     ]
    }
   ],
   "source": [
    "target_state\n",
    "fs=eoinscode['final state']\n",
    "gps=eoinscode['gradient']\n",
    "print(gps[0:10])\n",
    "for i in range(0,gps.shape[0],2):\n",
    "    gps[i,:]=gps[i,:]+gps[i+1,:]\n",
    "print(gps[0:10])\n",
    "gps=gps[0:-1:2]"
   ]
  },
  {
   "cell_type": "code",
   "execution_count": 85,
   "metadata": {},
   "outputs": [
    {
     "data": {
      "text/plain": [
       "100"
      ]
     },
     "execution_count": 85,
     "metadata": {},
     "output_type": "execute_result"
    }
   ],
   "source": [
    "gps"
   ]
  },
  {
   "cell_type": "code",
   "execution_count": 32,
   "metadata": {},
   "outputs": [
    {
     "name": "stderr",
     "output_type": "stream",
     "text": [
      "/Users/paul/Library/CloudStorage/OneDrive-TrinityCollegeDublin/EoinGitHub/OQuPy/.venv/lib/python3.9/site-packages/matplotlib/cbook.py:1699: ComplexWarning: Casting complex values to real discards the imaginary part\n",
      "  return math.isfinite(val)\n",
      "/Users/paul/Library/CloudStorage/OneDrive-TrinityCollegeDublin/EoinGitHub/OQuPy/.venv/lib/python3.9/site-packages/matplotlib/cbook.py:1345: ComplexWarning: Casting complex values to real discards the imaginary part\n",
      "  return np.asarray(x, float)\n"
     ]
    },
    {
     "data": {
      "text/plain": [
       "[<matplotlib.lines.Line2D at 0x13d52f190>]"
      ]
     },
     "execution_count": 32,
     "metadata": {},
     "output_type": "execute_result"
    },
    {
     "data": {
      "image/png": "[encoded data removed]",
      "text/plain": [
       "<Figure size 640x480 with 1 Axes>"
      ]
     },
     "metadata": {},
     "output_type": "display_data"
    }
   ],
   "source": [
    "plt.plot(eoinscode['gradient'][:,0])"
   ]
  },
  {
   "cell_type": "code",
   "execution_count": null,
   "metadata": {},
   "outputs": [],
   "source": []
  }
 ],
 "metadata": {
  "kernelspec": {
   "display_name": ".venv",
   "language": "python",
   "name": "python3"
  },
  "language_info": {
   "codemirror_mode": {
    "name": "ipython",
    "version": 3
   },
   "file_extension": ".py",
   "mimetype": "text/x-python",
   "name": "python",
   "nbconvert_exporter": "python",
   "pygments_lexer": "ipython3",
   "version": "3.9.6"
  }
 },
 "nbformat": 4,
 "nbformat_minor": 2
}
