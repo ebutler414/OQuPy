{
 "cells": [
  {
   "attachments": {},
   "cell_type": "markdown",
   "metadata": {},
   "source": [
    "# Gradient based optimisation using PT-MPO\n",
    "\n",
    "In this tutorial, ah here i'm not arsed writing this right now\n"
   ]
  },
  {
   "cell_type": "code",
   "execution_count": null,
   "metadata": {},
   "outputs": [],
   "source": [
    "import numpy as np\n",
    "import oqupy\n",
    "import matplotlib.pyplot as plt"
   ]
  },
  {
   "attachments": {},
   "cell_type": "markdown",
   "metadata": {},
   "source": [
    "## Setting up the system and the optimisation problem\n",
    "\n",
    "The first thing we do is set up the problem, generate a process tensor, save it, write a cost function"
   ]
  },
  {
   "cell_type": "code",
   "execution_count": null,
   "metadata": {},
   "outputs": [],
   "source": [
    "dt = 0.05\n",
    "dkmax = 60\n",
    "esprel = 10**(-7)\n",
    "\n",
    "omega_cutoff = 3.04\n"
   ]
  },
  {
   "cell_type": "code",
   "execution_count": null,
   "metadata": {},
   "outputs": [],
   "source": [
    "\n",
    "temperature = 5 * 0.1309 # 1K = 0.1309/ps in natural units\n",
    "max_time = 5\n",
    "\n",
    "correlations = oqupy.PowerLawSD(alpha=alpha,\n",
    "                                zeta=3,\n",
    "                                cutoff=omega_cutoff,\n",
    "                                cutoff_type='gaussian',\n",
    "                                max_correlation_time=5.0,\n",
    "                                temperature=temperature)\n",
    "bath = oqupy.Bath(oqupy.operators.sigma(\"z\")/2.0, correlations)\n",
    "\n",
    "tempo_params = oqupy.TempoParameters(dt=dt, dkmax=dkmax, epsrel=esprel)\n",
    "\n",
    "if plot_correlations:\n",
    "    oqupy.helpers.plot_correlations_with_parameters(correlations, tempo_params)\n",
    "    figname = 'correlations_dt{}dkmax{}esprel{}temp{}'.format(dt,dkmax,esprel,temperature)\n",
    "    figname_replaced = figname.replace('.','-')\n",
    "    plt.savefig(figname_replaced)\n",
    "    plt.show()\n",
    "\n",
    "process_tensor = oqupy.pt_tempo_compute(bath=bath,\n",
    "                                        start_time=0,\n",
    "                                        end_time=max_time,\n",
    "                                        parameters=oqupy,\n",
    "                                        # progress_type='silent'\n",
    "                                        )\n",
    "\n"
   ]
  },
  {
   "cell_type": "code",
   "execution_count": null,
   "metadata": {},
   "outputs": [],
   "source": [
    "process_tensor.export('optimisation_pt.processTensor')\n"
   ]
  },
  {
   "cell_type": "code",
   "execution_count": null,
   "metadata": {},
   "outputs": [],
   "source": [
    "process_tensor = oqupy.import_process_tensor('optimisation_pt.processTensor','SimpleProcessTensor')"
   ]
  },
  {
   "cell_type": "code",
   "execution_count": null,
   "metadata": {},
   "outputs": [],
   "source": []
  }
 ],
 "metadata": {
  "kernelspec": {
   "display_name": "venv_oqupy",
   "language": "python",
   "name": "python3"
  },
  "language_info": {
   "name": "python",
   "version": "3.8.15 (default, Nov 17 2022, 14:05:12) \n[Clang 14.0.0 (clang-1400.0.29.102)]"
  },
  "orig_nbformat": 4,
  "vscode": {
   "interpreter": {
    "hash": "2aabdc21c4a85c26bb9791c36aa4c7e7238312a004087a39901dd6629c50e905"
   }
  }
 },
 "nbformat": 4,
 "nbformat_minor": 2
}
