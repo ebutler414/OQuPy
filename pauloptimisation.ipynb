{
 "cells": [
  {
   "cell_type": "code",
   "execution_count": 1,
   "metadata": {},
   "outputs": [],
   "source": [
    "import numpy as np\n",
    "import matplotlib.pyplot as plt\n",
    "\n",
    "import oqupy\n",
    "import oqupy.operators as op\n",
    "\n",
    "from scipy.optimize import minimize, Bounds\n",
    "from typing import List,Tuple\n",
    "\n",
    "# --- Parameters --------------------------------------------------------------\n",
    "\n",
    "# -- time steps --\n",
    "dt = 0.05 # 0.2\n",
    "num_steps = 20 # 20\n",
    "\n",
    "# -- bath --\n",
    "alpha =  0.126 #0.08\n",
    "omega_cutoff = 3.04 #4\n",
    "temperature =  5 * 0.1309 #1.6\n",
    "pt_dkmax =60 # 40\n",
    "pt_epsrel = 10**(-7) #1.0e-5\n",
    "\n",
    "# -- initial and target state --\n",
    "initial_state = op.spin_dm('x-')\n",
    "target_state = op.spin_dm('x+')\n",
    "\n",
    "# -- initial parameter guess --\n",
    "x0= np.zeros(num_steps)\n",
    "z0 = np.ones(num_steps) * (np.pi) / (dt*num_steps)\n",
    "'''\n",
    "for i in range(len(z0)):\n",
    "    if i % 2 == 0:\n",
    "        z0[i]=0\n",
    "'''\n",
    "\n",
    "#parameter_list=[i[0] for i in zip(x0,z0)]\n",
    "\n",
    "parameter_list=[item for pair in zip(x0, z0) for item in pair] # this makes a list without the inner tuples\n",
    "\n",
    "#parameter_list = list(zip(x0,z0))\n",
    "#num_params = len(parameter_list[0])"
   ]
  },
  {
   "cell_type": "code",
   "execution_count": 2,
   "metadata": {},
   "outputs": [],
   "source": [
    "halfparalist=[item for item in zip(x0,z0) for i in range(2)]"
   ]
  },
  {
   "cell_type": "code",
   "execution_count": 56,
   "metadata": {},
   "outputs": [
    {
     "data": {
      "text/plain": [
       "[(0.0, 3.141592653589793),\n",
       " (0.0, 3.141592653589793),\n",
       " (0, 0),\n",
       " (0, 0),\n",
       " (0.0, 3.141592653589793),\n",
       " (0.0, 3.141592653589793),\n",
       " (0.0, 3.141592653589793),\n",
       " (0.0, 3.141592653589793),\n",
       " (0.0, 3.141592653589793),\n",
       " (0.0, 3.141592653589793),\n",
       " (0.0, 3.141592653589793),\n",
       " (0.0, 3.141592653589793),\n",
       " (0.0, 3.141592653589793),\n",
       " (0.0, 3.141592653589793),\n",
       " (0.0, 3.141592653589793),\n",
       " (0.0, 3.141592653589793),\n",
       " (0.0, 3.141592653589793),\n",
       " (0.0, 3.141592653589793),\n",
       " (0.0, 3.141592653589793),\n",
       " (0.0, 3.141592653589793),\n",
       " (0.0, 3.141592653589793),\n",
       " (0.0, 3.141592653589793),\n",
       " (0.0, 3.141592653589793),\n",
       " (0.0, 3.141592653589793),\n",
       " (0.0, 3.141592653589793),\n",
       " (0.0, 3.141592653589793),\n",
       " (0.0, 3.141592653589793),\n",
       " (0.0, 3.141592653589793),\n",
       " (0.0, 3.141592653589793),\n",
       " (0.0, 3.141592653589793),\n",
       " (0.0, 3.141592653589793),\n",
       " (0.0, 3.141592653589793),\n",
       " (0.0, 3.141592653589793),\n",
       " (0.0, 3.141592653589793),\n",
       " (0.0, 3.141592653589793),\n",
       " (0.0, 3.141592653589793),\n",
       " (0.0, 3.141592653589793),\n",
       " (0.0, 3.141592653589793),\n",
       " (0.0, 3.141592653589793),\n",
       " (0.0, 3.141592653589793)]"
      ]
     },
     "execution_count": 56,
     "metadata": {},
     "output_type": "execute_result"
    }
   ],
   "source": [
    "halfparalist"
   ]
  },
  {
   "cell_type": "code",
   "execution_count": 40,
   "metadata": {},
   "outputs": [],
   "source": [
    "halfparalist[2]=(0,0)\n",
    "halfparalist[3]=(0,0)"
   ]
  },
  {
   "cell_type": "code",
   "execution_count": 41,
   "metadata": {},
   "outputs": [
    {
     "data": {
      "text/plain": [
       "[(0.0, 3.141592653589793),\n",
       " (0.0, 3.141592653589793),\n",
       " (0, 0),\n",
       " (0, 0),\n",
       " (0.0, 3.141592653589793),\n",
       " (0.0, 3.141592653589793),\n",
       " (0.0, 3.141592653589793),\n",
       " (0.0, 3.141592653589793),\n",
       " (0.0, 3.141592653589793),\n",
       " (0.0, 3.141592653589793),\n",
       " (0.0, 3.141592653589793),\n",
       " (0.0, 3.141592653589793),\n",
       " (0.0, 3.141592653589793),\n",
       " (0.0, 3.141592653589793),\n",
       " (0.0, 3.141592653589793),\n",
       " (0.0, 3.141592653589793),\n",
       " (0.0, 3.141592653589793),\n",
       " (0.0, 3.141592653589793),\n",
       " (0.0, 3.141592653589793),\n",
       " (0.0, 3.141592653589793),\n",
       " (0.0, 3.141592653589793),\n",
       " (0.0, 3.141592653589793),\n",
       " (0.0, 3.141592653589793),\n",
       " (0.0, 3.141592653589793),\n",
       " (0.0, 3.141592653589793),\n",
       " (0.0, 3.141592653589793),\n",
       " (0.0, 3.141592653589793),\n",
       " (0.0, 3.141592653589793),\n",
       " (0.0, 3.141592653589793),\n",
       " (0.0, 3.141592653589793),\n",
       " (0.0, 3.141592653589793),\n",
       " (0.0, 3.141592653589793),\n",
       " (0.0, 3.141592653589793),\n",
       " (0.0, 3.141592653589793),\n",
       " (0.0, 3.141592653589793),\n",
       " (0.0, 3.141592653589793),\n",
       " (0.0, 3.141592653589793),\n",
       " (0.0, 3.141592653589793),\n",
       " (0.0, 3.141592653589793),\n",
       " (0.0, 3.141592653589793)]"
      ]
     },
     "execution_count": 41,
     "metadata": {},
     "output_type": "execute_result"
    }
   ],
   "source": []
  },
  {
   "cell_type": "code",
   "execution_count": 3,
   "metadata": {},
   "outputs": [
    {
     "name": "stdout",
     "output_type": "stream",
     "text": [
      "--> PT-TEMPO computation:\n",
      "100.0%   20 of   20 [########################################] 00:00:00\n",
      "Elapsed time: 0.4s\n"
     ]
    }
   ],
   "source": [
    "# --- Compute process tensors -------------------------------------------------\n",
    "correlations = oqupy.PowerLawSD(alpha=alpha,\n",
    "                                zeta=3,\n",
    "                                cutoff=omega_cutoff,\n",
    "                                cutoff_type='gaussian',\n",
    "                                temperature=temperature)\n",
    "bath = oqupy.Bath(oqupy.operators.sigma(\"z\")/2, correlations)\n",
    "\n",
    "\n",
    "pt_tempo_parameters = oqupy.TempoParameters(\n",
    "    dt=dt,\n",
    "    epsrel=pt_epsrel,\n",
    "    dkmax=pt_dkmax)\n",
    "process_tensor = oqupy.pt_tempo_compute(\n",
    "    bath=bath,\n",
    "    start_time=0.0,\n",
    "    end_time=num_steps * dt,\n",
    "    parameters=pt_tempo_parameters,\n",
    "    progress_type='bar')"
   ]
  },
  {
   "cell_type": "code",
   "execution_count": 4,
   "metadata": {},
   "outputs": [],
   "source": [
    "def hamiltonian(hx,hz):\n",
    "\n",
    "    hx_sx = 0.5 * oqupy.operators.sigma('x') * hx\n",
    "    hz_sz = 0.5 * oqupy.operators.sigma('z') * hz\n",
    "\n",
    "    return hz_sz + hx_sx\n",
    "\n",
    "parameterized_system=oqupy.ParameterizedSystem(hamiltonian)\n",
    "\n"
   ]
  },
  {
   "cell_type": "code",
   "execution_count": 25,
   "metadata": {},
   "outputs": [
    {
     "name": "stdout",
     "output_type": "stream",
     "text": [
      "21\n"
     ]
    }
   ],
   "source": []
  },
  {
   "cell_type": "code",
   "execution_count": 19,
   "metadata": {},
   "outputs": [],
   "source": [
    "import tensornetwork as tn"
   ]
  },
  {
   "cell_type": "code",
   "execution_count": null,
   "metadata": {},
   "outputs": [],
   "source": []
  },
  {
   "cell_type": "code",
   "execution_count": 53,
   "metadata": {},
   "outputs": [
    {
     "name": "stdout",
     "output_type": "stream",
     "text": [
      "21\n",
      "[[ 0.2499993 -4.51242786e-17j -0.20930269-1.64724789e-02j\n",
      "  -0.20930269+1.64724789e-02j  0.2499993 +4.84234469e-17j]\n",
      " [-0.2499993 +4.51242786e-17j  0.20930269+1.64724789e-02j\n",
      "   0.20930269-1.64724789e-02j -0.2499993 -4.84234469e-17j]\n",
      " [-0.2499993 +4.51242786e-17j  0.20930269+1.64724789e-02j\n",
      "   0.20930269-1.64724789e-02j -0.2499993 -4.84234469e-17j]\n",
      " [ 0.2499993 -4.51242786e-17j -0.20930269-1.64724789e-02j\n",
      "  -0.20930269+1.64724789e-02j  0.2499993 +4.84234508e-17j]]\n"
     ]
    }
   ],
   "source": [
    "fsadj=oqupy.compute_gradient_and_dynamics(\n",
    "        system=parameterized_system,\n",
    "        initial_state=initial_state,\n",
    "        target_state=target_state,\n",
    "        process_tensor=process_tensor,\n",
    "        parameters=halfparalist)[0][1]\n",
    "firsthalfprop,secondhalfprop=parameterized_system.get_propagators(dt,halfparalist)(1)\n",
    "fpt=tn.Node(firsthalfprop.T)\n",
    "spt=tn.Node(secondhalfprop.T)\n",
    "fsadj[0] ^ fpt[0]\n",
    "fsadj[1] ^ fpt[1]\n",
    "result1=fsadj @ fpt\n",
    "print(result.tensor)"
   ]
  },
  {
   "cell_type": "code",
   "execution_count": null,
   "metadata": {},
   "outputs": [],
   "source": []
  },
  {
   "cell_type": "code",
   "execution_count": 54,
   "metadata": {},
   "outputs": [
    {
     "name": "stdout",
     "output_type": "stream",
     "text": [
      "21\n",
      "[[ 0.2499993 -4.51242786e-17j -0.20930269-1.64724789e-02j\n",
      "  -0.20930269+1.64724789e-02j  0.2499993 +4.84234469e-17j]\n",
      " [-0.2499993 +4.51242786e-17j  0.20930269+1.64724789e-02j\n",
      "   0.20930269-1.64724789e-02j -0.2499993 -4.84234469e-17j]\n",
      " [-0.2499993 +4.51242786e-17j  0.20930269+1.64724789e-02j\n",
      "   0.20930269-1.64724789e-02j -0.2499993 -4.84234469e-17j]\n",
      " [ 0.2499993 -4.51242786e-17j -0.20930269-1.64724789e-02j\n",
      "  -0.20930269+1.64724789e-02j  0.2499993 +4.84234508e-17j]]\n"
     ]
    }
   ],
   "source": [
    "fsadj=oqupy.compute_gradient_and_dynamics(\n",
    "        system=parameterized_system,\n",
    "        initial_state=initial_state,\n",
    "        target_state=target_state,\n",
    "        process_tensor=process_tensor,\n",
    "        parameters=halfparalist)[0][0]\n",
    "firsthalfprop,secondhalfprop=parameterized_system.get_propagators(dt,halfparalist)(0)\n",
    "fpt=tn.Node(firsthalfprop.T)\n",
    "spt=tn.Node(secondhalfprop.T)\n",
    "fsadj[2] ^ spt[0]\n",
    "fsadj[3] ^ spt[1]\n",
    "result2=fsadj @ spt\n",
    "print(result.tensor)"
   ]
  },
  {
   "cell_type": "code",
   "execution_count": 6,
   "metadata": {},
   "outputs": [],
   "source": [
    "bpl=oqupy.compute_gradient_and_dynamics(system=parameterized_system,\n",
    "                                    parameters=halfparalist,\n",
    "                                    initial_state=initial_state,\n",
    "                                    target_state=target_state.T,\n",
    "                                    process_tensor=process_tensor)"
   ]
  },
  {
   "cell_type": "code",
   "execution_count": null,
   "metadata": {},
   "outputs": [],
   "source": []
  },
  {
   "cell_type": "code",
   "execution_count": 10,
   "metadata": {},
   "outputs": [
    {
     "data": {
      "text/plain": [
       "[\n",
       " Edge(Dangling Edge)[0] ,\n",
       " \n",
       " Edge(Dangling Edge)[1] ,\n",
       " \n",
       " Edge(Dangling Edge)[2] ,\n",
       " \n",
       " Edge(Dangling Edge)[3] ]"
      ]
     },
     "execution_count": 10,
     "metadata": {},
     "output_type": "execute_result"
    }
   ],
   "source": [
    "bpl[0][:]"
   ]
  },
  {
   "cell_type": "code",
   "execution_count": 45,
   "metadata": {},
   "outputs": [
    {
     "data": {
      "text/plain": [
       "array([[ 0.        +0.j        ,  0.00049062+0.01248715j,\n",
       "         0.00049062-0.01248715j,  0.        +0.j        ],\n",
       "       [ 0.00049062+0.01248715j,  0.        +0.j        ,\n",
       "         0.        +0.j        , -0.00049062-0.01248715j],\n",
       "       [ 0.00049062-0.01248715j,  0.        +0.j        ,\n",
       "         0.        +0.j        , -0.00049062+0.01248715j],\n",
       "       [ 0.        +0.j        , -0.00049062-0.01248715j,\n",
       "        -0.00049062+0.01248715j,  0.        +0.j        ]])"
      ]
     },
     "execution_count": 45,
     "metadata": {},
     "output_type": "execute_result"
    }
   ],
   "source": [
    "parameterized_system.get_propagator_derivatives(dt,halfparalist)(0)[0][0]"
   ]
  },
  {
   "cell_type": "code",
   "execution_count": 48,
   "metadata": {},
   "outputs": [
    {
     "data": {
      "text/plain": [
       "array([[0.+0.j    , 0.+0.0125j, 0.-0.0125j, 0.+0.j    ],\n",
       "       [0.+0.0125j, 0.+0.j    , 0.+0.j    , 0.-0.0125j],\n",
       "       [0.-0.0125j, 0.+0.j    , 0.+0.j    , 0.+0.0125j],\n",
       "       [0.+0.j    , 0.-0.0125j, 0.+0.0125j, 0.+0.j    ]])"
      ]
     },
     "execution_count": 48,
     "metadata": {},
     "output_type": "execute_result"
    }
   ],
   "source": [
    "parameterized_system.get_propagator_derivatives(dt,halfparalist)(1)[1][0]"
   ]
  },
  {
   "cell_type": "code",
   "execution_count": 58,
   "metadata": {},
   "outputs": [
    {
     "name": "stdout",
     "output_type": "stream",
     "text": [
      "21\n"
     ]
    }
   ],
   "source": [
    "bpl=oqupy.compute_gradient_and_dynamics(system=parameterized_system,\n",
    "                                    parameters=halfparalist,\n",
    "                                    initial_state=initial_state,\n",
    "                                    target_state=target_state.T,\n",
    "                                    process_tensor=process_tensor)[0]\n",
    "props=parameterized_system.get_propagators(dt,halfparalist)\n",
    "pds=parameterized_system.get_propagator_derivatives(dt,halfparalist)\n",
    "thispara=0\n",
    "for i in range(num_steps):\n",
    "    fhprd,shprd=pds(i)\n",
    "    fhprd=fhprd[thispara]\n",
    "    shprd=shprd[thispara]\n",
    "    fhprp,shprp=props(i)\n",
    "    fpt=tn.Node(firsthalfprop.T)\n",
    "    spt=tn.Node(secondhalfprop.T)\n",
    "    thisadjoint=bpl[i]\n",
    "    \n"
   ]
  }
 ],
 "metadata": {
  "kernelspec": {
   "display_name": ".venv",
   "language": "python",
   "name": "python3"
  },
  "language_info": {
   "codemirror_mode": {
    "name": "ipython",
    "version": 3
   },
   "file_extension": ".py",
   "mimetype": "text/x-python",
   "name": "python",
   "nbconvert_exporter": "python",
   "pygments_lexer": "ipython3",
   "version": "3.9.6"
  }
 },
 "nbformat": 4,
 "nbformat_minor": 2
}
