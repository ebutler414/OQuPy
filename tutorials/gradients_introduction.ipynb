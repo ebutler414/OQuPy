{
 "cells": [
  {
   "attachments": {},
   "cell_type": "markdown",
   "metadata": {},
   "source": [
    "# Adjoint Method within PT-MPO for calculating the gradient\n",
    "\n",
    "In this tutorial, we use the adjoint method to calculate the gradient of an objective function within PT-MPO. This tutorial is intended to be read in conjunction with the supplemental information in \\[insert citation here\\]\n",
    "\n",
    "The goal of this tutorial is to calculate the gradient of some generic objective function $Z$ which only depends on the value of the final density matrix $\\rho_f$. To do this we will need to evaluate each part of the sum in equation S1 of the afformentioned supplement.\n",
    "\n",
    "$$\n",
    "\\frac{\\partial Z}{\\partial c_a}=\\sum_n\\sum_{i,j,k}^{d_{H_S}^2}\n",
    "\\frac{\\partial Z}{\\partial \\rho_f^i}\n",
    "\\frac{\\partial\\rho_f^i}{\\partial U^{jk}_n}\n",
    "\\frac{\\partial U^{jk}_n}{\\partial c_a},\n",
    "$$\n",
    "\n",
    "where the last term on the right hand side of the equation is the derivative of the system propagators $U$ (which are constructed from the system hamiltonian) and the control parameter. This needs to be calculated which is shown below. The middle term is the derivative of the final state with respect to the system propagators. This is the computationally difficult part that is performed by the forward-propagation and back-propagation in the adjoint method. Finally the first term is the derivative of the objective function with respect to the final state, which we will later show that in the case of fidelity between a pure target state $|\\sigma\\rangle$ and $\\rho_f$, reduces to simply $\\sigma^T$, but more generally this will also need to be calculated.\n",
    "\n",
    "A considerably more in-depth discussion of the construction of this method is given in the supplement.\n",
    "\n",
    "## The `oqupy.gradient` method\n",
    "\n",
    "The `oqupy.gradient` method is defined as follows:\n",
    "\n",
    "``` python\n",
    "def gradient(\n",
    "        system: Union[System, TimeDependentSystem],\n",
    "        gradient_dynamics: Optional[GradientDynamics] = None,\n",
    "        initial_state: Optional[ndarray] = None,\n",
    "        target_state: Optional[ndarray] = None,\n",
    "        dprop_dparam_list: Optional[List[ndarray]] = None,\n",
    "        dprop_times_list: Optional[ndarray] = None,\n",
    "        dt: Optional[float] = None,\n",
    "        num_steps: Optional[int] = None,\n",
    "        start_time: Optional[float] = 0.0,\n",
    "        process_tensor: Optional[Union[List[BaseProcessTensor],\n",
    "                                       BaseProcessTensor]] = None,\n",
    "        control: Optional[Control] = None,\n",
    "        get_forward_backprop_list: Optional[bool] = False,\n",
    "        record_all: Optional[bool] = True,\n",
    "        subdiv_limit: Optional[int] = SUBDIV_LIMIT,\n",
    "        liouvillian_epsrel: Optional[float] = INTEGRATE_EPSREL,\n",
    "        progress_type: Optional[Text] = None) -> GradientDynamics:\n",
    "```\n",
    "Broadly speaking, `oqupy.gradient` requires a system, an initial state and a target state in hilbert space, a process tensor, from which it can compute $\\frac{\\partial\\rho_f^i}{\\partial U^{jk}_n}$. Additionally, `oqupy.gradient` requires `dprop_dparam_list` which is given in the form of a list of $(d^2_{H_S},d^2_{H_S})$ matrices in Liouville space which are $\\frac{\\partial U^{jk}_n}{\\partial c_a}$, as well as `dprop_times_list`, an array of the times that corrispond to the $\\frac{\\partial U^{jk}_n}{\\partial c_a}$ in that position in the list. These are all requirements in order to perform a `oqupy.gradient` call, and the result is returned within a `oqupy.GradientDynamics` instance. If $\\frac{\\partial\\rho_f^i}{\\partial U^{jk}_n}$ is already known, it is possible to re-use this result with a different list of $\\frac{\\partial U^{jk}_n}{\\partial c_a}$, by passing the `oqupy.GradientDynamics` instance to the `oqupy.gradient` function, and the new `dprop_dparam_list` and `dprop_times_list`. Since the adjoint method has already been computed, there is no need to supply the initial or target state, however a process tensor and system instances are still necessary to construct the deriviatives.\n",
    "\n",
    "We now show examples of how this is implemented\n"
   ]
  },
  {
   "cell_type": "code",
   "execution_count": 1,
   "metadata": {},
   "outputs": [],
   "source": [
    "import numpy as np\n",
    "import oqupy\n",
    "import matplotlib.pyplot as plt"
   ]
  },
  {
   "cell_type": "markdown",
   "metadata": {},
   "source": [
    "### Overview\n",
    "1. Set up the physical model\n",
    "2. Setting up the objective function (calculating the extra terms necessary to obtain the gradient)\n",
    "3. Using the adjoint method\n",
    "4. Comparison with brute force finite difference"
   ]
  },
  {
   "attachments": {},
   "cell_type": "markdown",
   "metadata": {},
   "source": [
    "## Setting up the system and model\n",
    "\n",
    "The first thing we do is set up the problem, generate a process tensor, and save it to our hard drive so we don't need to regenerate the PT every time you need to reload this script.\n",
    "\n",
    "We choose the spin-boson model of a quantum dot (QD) with appropriately chosen parameters as in \\[ramsay,our_paper\\].\n",
    "\n",
    "We model a quantum dot coupled to a bosonic environment evolving under a total hamiltonian of \n",
    "\n",
    "$H_S+H_B+H_{SB}$, where we use a standard, deformation potential coupling of $H_{SB}=s_z\\sum_q(g_qb_q+g_q^*b_q^\\dagger)$. This system-environment interaction is controlled by the following super-ohmic spectral density,\n",
    "$$\n",
    "J(\\omega) = 2\\alpha\\omega^3 \\omega_c^{-2}\\exp\\left[-\\frac{\\omega^2}{\\omega_c^2}\\right].\n",
    "$$ \n",
    "\n",
    "We choose units where $\\hbar=1$ and we define the physical parameters as:"
   ]
  },
  {
   "cell_type": "code",
   "execution_count": 2,
   "metadata": {},
   "outputs": [],
   "source": [
    "alpha = 0.126\n",
    "omega_cutoff = 3.04\n",
    "temperature = 5 * 0.1309 # 1K = 0.1309/ps in natural units"
   ]
  },
  {
   "cell_type": "markdown",
   "metadata": {},
   "source": [
    "And the numerical parameters for tempo as:"
   ]
  },
  {
   "cell_type": "code",
   "execution_count": 3,
   "metadata": {},
   "outputs": [],
   "source": [
    "dt = 0.05\n",
    "dkmax = 60\n",
    "esprel = 10**(-7)\n",
    "max_time = 5"
   ]
  },
  {
   "cell_type": "code",
   "execution_count": 4,
   "metadata": {},
   "outputs": [],
   "source": [
    "\n",
    "correlations = oqupy.PowerLawSD(alpha=alpha,\n",
    "                                zeta=3,\n",
    "                                cutoff=omega_cutoff,\n",
    "                                cutoff_type='gaussian',\n",
    "                                temperature=temperature)\n",
    "bath = oqupy.Bath(oqupy.operators.sigma(\"z\")/2.0, correlations)\n",
    "\n",
    "tempo_params = oqupy.TempoParameters(dt=dt, dkmax=dkmax, epsrel=esprel)"
   ]
  },
  {
   "cell_type": "code",
   "execution_count": 5,
   "metadata": {},
   "outputs": [],
   "source": [
    "generate_process_tensor = False"
   ]
  },
  {
   "cell_type": "code",
   "execution_count": 6,
   "metadata": {},
   "outputs": [
    {
     "name": "stdout",
     "output_type": "stream",
     "text": [
      "internal bond dimensions\n",
      "[ 1  4 10 16 18 21 25 25 27 31 31 30 30 32 33 35 34 37 37 37 38 39 38 39\n",
      " 39 38 38 37 39 39 41 43 40 39 41 42 41 42 42 41 41 42 43 43 41 41 42 40\n",
      " 42 40 40 41 40 39 39 39 39 39 41 40 40 39 37 38 37 39 38 38 37 37 38 36\n",
      " 37 35 34 33 32 33 35 33 30 32 30 29 29 28 26 25 24 22 21 19 18 15 14 14\n",
      " 12  9  6  3  1]\n"
     ]
    }
   ],
   "source": [
    "if generate_process_tensor:\n",
    "    process_tensor = oqupy.pt_tempo_compute(bath=bath,\n",
    "                                            start_time=0,\n",
    "                                            end_time=max_time,\n",
    "                                            parameters=tempo_params,\n",
    "                                            # progress_type='silent'\n",
    "                                            )\n",
    "\n",
    "    process_tensor.export('optimisation_pt.processTensor',overwrite=True)\n",
    "\n",
    "else:\n",
    "    process_tensor = oqupy.import_process_tensor(\n",
    "                'optimisation_pt.processTensor','simple')\n",
    "\n",
    "print('internal bond dimensions')\n",
    "print(process_tensor.get_bond_dimensions())"
   ]
  },
  {
   "attachments": {},
   "cell_type": "markdown",
   "metadata": {},
   "source": [
    "### Defining a system\n",
    "\n",
    "For simplicity we have chosen a model that can be well approximated as a two level system. In this case we assume that our system is coupled to fields conjugate to $s_z$ and $s_x$. As in the main text we treat them as piecewise constant over the discrete timesteps of the process tensor. This gives us a system hamiltonian\n",
    "\n",
    "$$\n",
    "H_S=h_xs_x + h_zs_z\n",
    "$$\n",
    "\n",
    "Where the field strengths $h_x$ and $h_z$ are discritised into timesteps `dt`. \n",
    "\n",
    "In code:"
   ]
  },
  {
   "cell_type": "code",
   "execution_count": 7,
   "metadata": {},
   "outputs": [],
   "source": [
    "from scipy.interpolate import interp1d\n",
    "from oqupy.process_tensor import BaseProcessTensor\n",
    "# function that returns the times that the density matrix is calculated at\n",
    "from oqupy.helpers import get_full_timesteps"
   ]
  },
  {
   "cell_type": "code",
   "execution_count": 8,
   "metadata": {},
   "outputs": [],
   "source": [
    "\n",
    "def get_hamiltonian(hx:np.ndarray,hz:np.ndarray,pt:BaseProcessTensor):\n",
    "    """\n",
    "    Returns a callable which takes a single parameter, t, and returns the\n",
    "    hamiltonian of the two level system at that time. This function takes a\n",
    "    process tensor, and the magnitude of $h_z$ and $h_x$ at each of those\n",
    "    timesteps\n",
    "    """\n",
    "\n",
    "    # expval times including endtime, to generate the last \"pixel\"\n",
    "    expval_times_p1 = get_full_timesteps(pt,0,inc_endtime=True)\n",
    "    assert hx.size == expval_times_p1.size-1, \\\n",
    "        'hx must be same length as number of timesteps, without endtime'\n",
    "    assert hz.size == expval_times_p1.size-1, \\\n",
    "        'hz must be same length as number of timesteps, without endtime'\n",
    "\n",
    "    # duplicate last element so any time between t_f-dt and t_f falls within\n",
    "    # this 'pixel' otherwise scipy interp1d doesn't like extrapolating so calls\n",
    "    # it out of bounds\n",
    "    hx_p1 = np.concatenate((hx,np.array([hx[-1]])))\n",
    "    hz_p1 = np.concatenate((hz,np.array([hz[-1]])))\n",
    "\n",
    "    hx_interp = interp1d(expval_times_p1,hx_p1,kind='zero')\n",
    "    hz_interp = interp1d(expval_times_p1,hz_p1,kind='zero')\n",
    "\n",
    "    def hamiltonian_t(t):\n",
    "        _hx = hx_interp(t)\n",
    "        _hz = hz_interp(t)\n",
    "\n",
    "        hx_sx = 0.5 * oqupy.operators.sigma('x') * _hx\n",
    "        hz_sz = 0.5 * oqupy.operators.sigma('z') * _hz\n",
    "        hamiltonian = hz_sz + hx_sx\n",
    "        return hamiltonian\n",
    "\n",
    "    return hamiltonian_t"
   ]
  },
  {
   "attachments": {},
   "cell_type": "markdown",
   "metadata": {},
   "source": [
    "## Setting up the gradient\n",
    "### Defining a objective function\n",
    "\n",
    "The most generic objective function conceivable can be evaluated by equation S1. For definiteness we will focus on the widely used quantum fidelity. For two valid density matrices, the general formula has a rather unwieldly definition.\n",
    "$$\n",
    "\\mathcal{F}(\\rho_A,\\rho_B) = \\left(\\text{tr}\\left[\\sqrt{\\sqrt{\\rho_A}\\rho_B\\sqrt{\\rho_A}}\\right]\\right)^2\n",
    "$$\n",
    "\n",
    "In the main text we consider the case where one of the density matrices (in our case the target density matrix) is a *pure* density matrix corresponding to the state $|\\sigma\\rangle$. So the formula for the fidelity of a control protocol resulting in a final density matrix $\\rho_f$ reduces to\n",
    "\n",
    "$$\n",
    "\\mathcal{F} = \\langle\\sigma|\\rho_f|\\sigma\\rangle.\n",
    "$$\n",
    "\n",
    "The goal of this tutorial is to show how one would calculate $\\frac{\\partial\\mathcal{F}}{\\partial c_a}$. As previously mentioned, it is possible to compute the derivative of a general objective function, by identifying $\\frac{\\partial Z}{\\partial \\rho_f^i}$, however for simplicity we will explain the functionality of the package using the example in the main text.\n",
    "\n",
    "We state in the main text that the fidelity w.r.t. a pure state can be computed within PT-MPO tensor network by starting with the pure state in Hilbert space,$|\\sigma\\rangle$ constructing the density matrix associated for this state, $\\rho_t^{i,j} = |\\sigma\\rangle\\langle\\sigma|$, of shape $(d_{H_S},d_{H_S})$ of the taking the transpose of the density matrix, $(\\rho_t^T)^{i,j}$, converting this into Liouville space, which we label as $(\\rho_t^T)^i$ which is a vector of dimension $d^2_{H_S}$. Next, we compute the target state for a given protocol, $\\rho_f^i$, which is in *Liouville* space (a vector). Finally we find the fidelity is calculated by the sum of the element wise product of these two objects\n",
    "$$\n",
    "\\mathcal{F} = \\sum_i^{d^2_{H_S}} \\rho_f^i\\rho_t^i,\n",
    "$$\n",
    "\n",
    "which is the same as the diagram shown in Fig. 1 of the main text, and Fig. S2.\n",
    "\n",
    "This is an intentional departure from the notation used in the supplement, in order to clearly distinguish when we are talking about the *target state* in Hilbert space, $|\\sigma\\rangle$, a *density matrix* in Hilbert space corresponding to the pure target state, $\\rho_t^{i,j}$, and finally a vectorised density matrix in Liouville space, $\\rho_t^i$ \n",
    "\n",
    "This fact can be seen by understanding how the vectorisation works. `oqupy` predominantly uses numpy, and `numpy.reshape` uses c notation which is a row vectorisation by default. For a two level system this looks like.\n",
    "\n",
    "$$\\rho = \\begin{bmatrix}\n",
    "\\rho_{11}&\\rho_{12}\\\\\n",
    "\\rho_{21}&\\rho_{22}\n",
    "\n",
    "\\end{bmatrix}\n",
    "\\rightarrow\n",
    "\n",
    "\\begin{bmatrix}\n",
    "\\rho_{11}\\\\ \\rho_{12}\\\\\n",
    "\\rho_{21}\\\\ \\rho_{22}\n",
    "\n",
    "\\end{bmatrix}\n",
    "$$\n",
    "\n",
    "In Einstein notation the formula for the fidelity is\n",
    "\n",
    "$$\n",
    "\\mathcal{F} = \\langle\\sigma|\\rho_f|\\sigma\\rangle = \\sum_{i,j}^{d^2_{H_S}}(\\sigma^*)^i\\rho_f^{i,j}\\sigma^j,\n",
    "$$\n",
    "and\n",
    "$$\n",
    "\\rho_T^{ij} = |\\sigma\\rangle\\langle\\sigma| = \\sigma^i(\\sigma^*)^j.\n",
    "$$\n",
    "\n",
    "Because the operators are hermitian, conjugating a matrix is equivalent to taking the transpose, so combining the two previous equations, and noting carefully the order of the indices,\n",
    "$$\n",
    "\\mathcal{F} = \\sum_{i,j}^{d^2_{H_S}}(\\sigma^*)^i\\sigma^j\\rho_f^{i,j} = \\sum_{i,j}^{d^2_{H_S}}\\rho_t^{ji}\\rho_f^{ij}.\n",
    "$$\n",
    "\n",
    "By considering how the vectorisation works one can see how this is achieved by a scalar product in Liouville space of $(\\rho_t^{T})^{ij}$ and $\\rho_f^{ij}$."
   ]
  },
  {
   "attachments": {},
   "cell_type": "markdown",
   "metadata": {},
   "source": [
    "\n",
    "### Obtaining the derivative of the propegator w.r.t. the control parameter $c_a$\n",
    "\n",
    "Now we have to identify the derivative of the system propagator with respect to the control parameter which we wish to optimise in our hamiltonian.\n",
    "In the case of our Hamiltonian this is $h_\\bullet$. Since evalutating the propagator is a $(d_{H_s}^2,d_{H_s}^2)$, this is cheap so it is not prohibitive to do this through finite differencing. I haven't provided a general function that will do this for some general hamiltonian, but it is not hard to write, and I give you an example of how to write one below.\n",
    "\n",
    "The important part of this step is to note that in the main text and supplement, for simplicity and clarity of diagrams, we have used a simple, first order, Suzuki-Trotter splitting \n",
    "\n",
    "$$\\exp[\\mathcal{L}_{\\text{tot}}(\\texttt{t})\\texttt{dt}]\\rightarrow\\exp[\\mathcal{L}_{\\text{env}}(\\texttt{t})\\texttt{dt}]\\exp[\\mathcal{L}_{\\text{S}}(\\texttt{t}+\\texttt{dt/2})\\texttt{dt}]$$\n",
    "\n",
    "Whereas the `oqupy` package uses a symmeterised splitting\n",
    "\n",
    "$$\n",
    "\\exp[\\mathcal{L}_{\\text{tot}}(\\texttt{t})\\texttt{dt}]\\rightarrow\n",
    "\\exp[\\mathcal{L}_S(\\texttt{t}+3\\texttt{dt}/4)\\texttt{dt}/2]\n",
    "\\exp[\\mathcal{L}_{\\text{env}}(\\texttt{t}+\\texttt{dt}/2)\\texttt{dt}]\n",
    "\\exp[\\mathcal{L}_S(\\texttt{t}+\\texttt{dt/4})\\texttt{dt}/2].$$\n",
    "\n",
    "As such, instead of each timestep $t_n$ having a single system propagator, $U(t_n)$ that propagates forward one timestep, one must instead consider two system propagators, $U(t_n+\\texttt{dt}/4)$, $U(t_n+3\\texttt{dt}/4)$ that propagate forward two half timesteps. So if a derivative $\\frac{\\partial U_n}{\\partial c_a}$ depends on timestep $n$, we must supply\n",
    "\n",
    "$$\n",
    "\\frac{\\partial U(t_n+\\texttt{dt}/4)}{\\partial c_a} + \\frac{\\partial U(t_n+3\\texttt{dt}/4)}{\\partial c_a}\n",
    "$$\n",
    "\n",
    "in pairs.\n",
    "\n",
    "An example function does this below in the case we have on the main text where $c_a\\rightarrow h_\\bullet(n)$ where $h\\in \\{0,\\texttt{dt},2\\texttt{dt},\\dots N\\texttt{dt}\\}$ so $\\frac{\\partial U_n}{\\partial h_\\bullet(a)}$ is only non-zero for $n=a$, and there is no sum over time in equation S1, as stated in supplement.\n",
    "\n",
    "This is coded using finite differences as follows:"
   ]
  },
  {
   "cell_type": "markdown",
   "metadata": {},
   "source": [
    "The practical way to implement the symmetrized trotter splitting is to figure out what times your control parameter $c_a$ depends on. Then once you have figured out what times your control parameter depends on, it is simply a matter of including both the pre time and post time to calculate dpropagator, and then summing over the resultant total derivatives at the end. \n",
    "\n",
    "In the case we consider here my control parameters are $h_\\bullet(t)$ where $t\\in \\{0,\\texttt{dt},2\\texttt{dt},\\dots N\\texttt{dt}\\}$, so each individual $h_\\bullet(t)$ parameter depends only on a single timestep, and when we consider $h_\\bullet(t)$ for all $t$ we use all timesteps. So the simplest way to do this is for each timestep used calculate both $U(t+\\texttt{dt}/4)$ and $U(t+3\\texttt{dt}/4)$ in pairs. The pairs of times needed can easilly be found by using the `get_half_timesteps` function."
   ]
  },
  {
   "cell_type": "code",
   "execution_count": 9,
   "metadata": {},
   "outputs": [],
   "source": [
    "from scipy.linalg import expm\n"
   ]
  },
  {
   "cell_type": "code",
   "execution_count": 10,
   "metadata": {},
   "outputs": [],
   "source": [
    "def dpropagator(hamiltonian,\n",
    "    t, # expectation value times\n",
    "    dt,\n",
    "    op,\n",
    "    h):\n",
    "    """\n",
    "    deriv of propagator wrt either a pre node or a post node\n",
    "    """\n",
    "\n",
    "    liouvillian_plus_h=-1j * oqupy.operators.commutator(hamiltonian(t)+h*op)\n",
    "    liouvillian_minus_h=-1j * oqupy.operators.commutator(hamiltonian(t)-h*op)\n",
    "\n",
    "    propagator_plus_h=expm(liouvillian_plus_h*dt/2.0).T\n",
    "    propagator_minus_h=expm(liouvillian_minus_h*dt/2.0).T\n",
    "\n",
    "    deriv=(propagator_plus_h-propagator_minus_h)/(2.0*h)\n",
    "    return deriv"
   ]
  },
  {
   "attachments": {},
   "cell_type": "markdown",
   "metadata": {},
   "source": [
    "## Pi Pulse gradient\n",
    "\n",
    "Now let's see what the gradient of a pi pulse looks like. We make use of the helper funciton that generates a list of all of the whole timesteps where we are able to calculate the density matrix and thus the expectation values of our simulation. From there we specify a protocol that is a $\\pi$ pulse"
   ]
  },
  {
   "cell_type": "code",
   "execution_count": 11,
   "metadata": {},
   "outputs": [],
   "source": [
    "times = get_full_timesteps(process_tensor,start_time=0)\n",
    "\n",
    "# pi pulse conjugate to s_x\n",
    "h_x = np.ones(times.size) * np.pi / max_time\n",
    "h_z = np.zeros(times.size)\n",
    "hamiltonian_t = get_hamiltonian(hx=h_x,hz=h_z,pt=process_tensor)\n",
    "system = oqupy.TimeDependentSystem(hamiltonian_t)"
   ]
  },
  {
   "cell_type": "code",
   "execution_count": 12,
   "metadata": {},
   "outputs": [],
   "source": [
    "from oqupy.helpers import get_half_timesteps\n",
    "\n",
    "# all propagator half timesteps\n",
    "dprop_dpram_times = get_half_timesteps(process_tensor,0)\n",
    "\n",
    "# because my control parameters cover all timesteps need derivatives w.r.t.\n",
    "# every half propagator.\n",
    "dprop_dpram_derivs_x = []\n",
    "for i in range(dprop_dpram_times.size):\n",
    "    deriv = dpropagator(\n",
    "                        hamiltonian_t,\n",
    "                        dprop_dpram_times[i],\n",
    "                        process_tensor.dt,\n",
    "                        op=0.5*oqupy.operators.sigma('x'),\n",
    "                        h = 10**(-6))\n",
    "    dprop_dpram_derivs_x.append(deriv)"
   ]
  },
  {
   "attachments": {},
   "cell_type": "markdown",
   "metadata": {},
   "source": [
    "Now we obtain our list of $\\frac{\\partial U_n}{\\partial c_a}$ for all our parameters"
   ]
  },
  {
   "attachments": {},
   "cell_type": "markdown",
   "metadata": {},
   "source": [
    "### Using adjoint method\n",
    "\n",
    "The last thing we need to do is to provide a list of the times that we have provided $\\frac{\\partial U_n}{\\partial c_a}$ at. This list should be *monotonly increasing*, once this is provided the gradient function handles the recombination described in the supplement"
   ]
  },
  {
   "cell_type": "code",
   "execution_count": 13,
   "metadata": {},
   "outputs": [
    {
     "name": "stdout",
     "output_type": "stream",
     "text": [
      "--> Compute dynamics:\n",
      "100.0%  100 of  100 [########################################] 00:00:06\n",
      "Elapsed time: 6.2s\n"
     ]
    }
   ],
   "source": [
    "\n",
    "\n",
    "gradient = oqupy.gradient(\n",
    "                system=system,\n",
    "                initial_state=oqupy.operators.spin_dm('z-'),\n",
    "                target_state=oqupy.operators.spin_dm('z+'),\n",
    "                process_tensor=process_tensor,\n",
    "                dprop_dparam_list=dprop_dpram_derivs_x)\n",
    "\n",
    "total_derivs_x = gradient.total_derivs"
   ]
  },
  {
   "attachments": {},
   "cell_type": "markdown",
   "metadata": {},
   "source": [
    "Once the `oqupy.GradientDynamics` object has been created and the adjoint method has been used to get $\\frac{\\partial \\rho_f}{\\partial U_n}$ for all $n$, we can reuse the object for a different set of $\\frac{\\partial U_n}{\\partial c_k}$ without having to redo the entire adjoint calculation. By simply passing the previously outputted `gradient` object back into `oqupy.gradient()`, it automatically takes its result and we no longer need to specify the initial and target state as they have already been given, we just need to give the `dprop_dpram_list` and times"
   ]
  },
  {
   "cell_type": "code",
   "execution_count": 14,
   "metadata": {},
   "outputs": [],
   "source": [
    "\n",
    "dprop_dpram_derivs_z = []\n",
    "for i in range(dprop_dpram_times.size):\n",
    "    deriv = dpropagator(\n",
    "                        hamiltonian_t,\n",
    "                        dprop_dpram_times[i],\n",
    "                        process_tensor.dt,\n",
    "                        op=0.5*oqupy.operators.sigma('z'),\n",
    "                        h = 10**(-6))\n",
    "    dprop_dpram_derivs_z.append(deriv)\n",
    "\n",
    "gradient_2 = oqupy.gradient(\n",
    "                        gradient_dynamics=gradient,\n",
    "                        dprop_dparam_list=dprop_dpram_derivs_z,\n",
    "                        dprop_times_list=dprop_dpram_times,\n",
    "                        process_tensor=process_tensor,\n",
    "                        system=system)\n",
    "\n",
    "\n",
    "total_derivs_z = gradient_2.total_derivs\n"
   ]
  },
  {
   "cell_type": "markdown",
   "metadata": {},
   "source": [
    "The final step is that we need to sum the elements from the pre and post propagators together. since they are held side by side, we can simply sum the adjacent elements."
   ]
  },
  {
   "cell_type": "code",
   "execution_count": 15,
   "metadata": {},
   "outputs": [],
   "source": [
    "def sum_adjacent_elements(array:np.ndarray)-> np.ndarray:\n",
    "    # maybe this goes in helpers.py or utils.py?\n",
    "    half_the_size = array.size / 2\n",
    "    assert (half_the_size).is_integer(), \\\n",
    "        'if one output from both pre and post node is given, result must be even'\n",
    "    half_the_size = int(half_the_size)\n",
    "\n",
    "    # https://stackoverflow.com/a/29392016\n",
    "    summed_array = array.reshape((half_the_size,2)).sum(axis=1)\n",
    "    return summed_array"
   ]
  },
  {
   "cell_type": "code",
   "execution_count": 16,
   "metadata": {},
   "outputs": [
    {
     "data": {
      "image/png": "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",
      "text/plain": [
       "<Figure size 432x288 with 1 Axes>"
      ]
     },
     "metadata": {
      "needs_background": "light"
     },
     "output_type": "display_data"
    }
   ],
   "source": [
    "\n",
    "# sum adjacent elements\n",
    "\n",
    "final_derivs_x = sum_adjacent_elements(total_derivs_x)\n",
    "final_derivs_z = sum_adjacent_elements(total_derivs_z)\n",
    "\n",
    "\n",
    "plt.figure()\n",
    "plt.plot(times,final_derivs_x.real,label='x')\n",
    "plt.plot(times,final_derivs_z.real,label='z')\n",
    "\n",
    "plt.legend()\n",
    "plt.show()\n"
   ]
  },
  {
   "cell_type": "markdown",
   "metadata": {},
   "source": [
    "## ARP gradient\n",
    "\n",
    "Now let us choose a time-dependent example, a chirped ARP pulse. In this case our hamiltonian is given by $H_S = \\Omega(t) s_x + \\Delta(t) s_z$, and we parameterise \n",
    "\n",
    "$$\\Omega(t) = \\frac{\\Theta_0}{\\sqrt{2\\pi\\sqrt{a^2+\\tau_0^4}}}\\text{exp}\\left[-\\frac{(t-t_0)^2\\tau_0^2}{2(a^2+\\tau_0^4)}\\right],\n",
    "$$\n",
    "$$\n",
    "\\Delta(t) = -\\frac{at}{a^2+\\tau_0^4},\n",
    "$$\n",
    "\n",
    "centred about time $t_0$, of pulse-width $\\tau_0$ and of pulse area $\\Theta_0$\n",
    "\n",
    "For simplicity let's start with an unchirped $\\pi$ pulse so $\\Theta_0=\\pi$ and $a=0$ so $\\Delta (t)=0$, and \n",
    "\n",
    "$$\\Omega(t) = \\frac{\\Theta_0}{\\sqrt{2\\pi}}\\text{exp}\\left[-\\frac{t^2}{2\\tau_0^2}\\right].\n",
    "$$\n",
    "\n",
    "However you are more than welcome to play with the parameters (though you may need to generate a longer duration process tensor)!\n",
    "\n",
    "We will plot the pulse for $5\\text{ps}$ as before and centre the pulse about $t_0=2.5$\n"
   ]
  },
  {
   "cell_type": "code",
   "execution_count": 17,
   "metadata": {},
   "outputs": [],
   "source": [
    "a = 0\n",
    "theta_0 = np.pi\n",
    "tau_0=0.5\n",
    "# pulse centre\n",
    "t_0=2.5"
   ]
  },
  {
   "cell_type": "code",
   "execution_count": 18,
   "metadata": {},
   "outputs": [],
   "source": [
    "def delta(t):\n",
    "    # delta = -a*(t-t_0) / (a**2+tau_0**4)\n",
    "    return np.ones(t.size,dtype='float64')\n",
    "\n",
    "def omega(t):\n",
    "    omega = theta_0 / (np.sqrt(2*np.pi * np.sqrt(a**2 + tau_0**2))) \\\n",
    "        * np.exp(-(t-t_0)**2 * tau_0**2 / (2*(a**2 + tau_0**4)))\n",
    "    return omega\n",
    "\n",
    "omega_vals = omega(times)\n",
    "delta_vals = delta(times)"
   ]
  },
  {
   "cell_type": "code",
   "execution_count": 19,
   "metadata": {},
   "outputs": [
    {
     "data": {
      "text/plain": [
       "<matplotlib.legend.Legend at 0x7fa1c510b0a0>"
      ]
     },
     "execution_count": 19,
     "metadata": {},
     "output_type": "execute_result"
    },
    {
     "data": {
      "image/png": "iVBORw0KGgoAAAANSUhEUgAAAXoAAAD4CAYAAADiry33AAAAOXRFWHRTb2Z0d2FyZQBNYXRwbG90bGliIHZlcnNpb24zLjUuMiwgaHR0cHM6Ly9tYXRwbG90bGliLm9yZy8qNh9FAAAACXBIWXMAAAsTAAALEwEAmpwYAAAtY0lEQVR4nO3de3iU9Z3//+d7JidyIkdIIEAOhJOgggHkIKIi4qHV1mpxtbWt1tXW7+7W7+5Wr921h+236/Xtb7vdtdufdS11uypqPVRtoYoCIichIMoZQjgFgZyAJOQ4M+/vH5lgwIRMkknuObwf1zUXM/dh5j0h85o7n/tzfz6iqhhjjIlcLqcLMMYYM7As6I0xJsJZ0BtjTISzoDfGmAhnQW+MMREuxukCupKVlaX5+flOl2GMMWFjy5Yt1aqa3dW6kAz6/Px8SktLnS7DGGPChogc7m6dNd0YY0yEs6A3xpgIZ0FvjDERLiTb6I0xpj/a2tqoqKigubnZ6VKCLiEhgby8PGJjYwPex4LeGBNxKioqSElJIT8/HxFxupygUVVqamqoqKigoKAg4P2s6cYYE3Gam5vJzMyMqJAHEBEyMzN7/ZeKBb0xJiJFWsh36Mv7sqYbYwLk8ykfHT3N1sOnmDYmjamj0nG5IjNMTGTpMehFZAlwC1CpqpO7WP93wN2dnm8ikK2qtSJyCKgHvIBHVUuCVbgxg6WmoYX/eG8/y3ecoLK+5dzy7JR4Fl2Sw19dV0x2SryDFRpzcYEc0T8L/BL4XVcrVfVnwM8AROQLwPdUtbbTJteoanU/6zTGESfONHPPbz7kSE0j104YxqLJOcwoyGDzoVre3nmCl0qPsrasmufvn8mItCFOl2tMl3pso1fVNUBtT9v53QUs7VdFxoSIo7WN3PnrDRw/3cTv7pvBU1+7gtumjmRE2hBuvXwkv7r7Cl64fybV9S3c8dQGDlWfdbpkE2IOHTrETTfdxPjx4xk3bhz/8i//cm5dU1MTV199NV6vF2jvKfTSSy8B0Nrayrx58/B4PEGpI2gnY0UkEVgEvNppsQLviMgWEXmgh/0fEJFSESmtqqoKVlnG9ElHyJ9ubOX5b1/JlYWZXW5Xkp/BC9++ksZWD3f+2sLefMbn83H77bfz4IMPsnfvXrZv305paSlPP/00AEuWLOHLX/4ybrcbgPfee4+tW7cCEBcXx3XXXXcu+PtLApkzVkTygT921UbfaZuvAveo6hc6LRupqsdEZBiwAvhf/r8QLqqkpERtUDPjFFXlrv/ayM5P63jpgVlMGpHa4z77TtZzx1MbKB6WzMt/OctO0jps9+7dTJw4EYAfvbWTXZ/WBfX5J41I5QdfuOSi2yxfvpxnnnmGV1/97Nj3+PHjXH311ezbt4/Zs2fzwgsvkJ+fz9q1a7n11ltJS0sjJSWF1157jfr6eh577DGWLVt20ffXQUS2dHceNJjdKxdzQbONqh7z/1sJvA7MCOLrGTMgXtx8lI3ltfzDTRMDCnmAccNT+KdbJlF6+BTPf9jtIIImiuzevZvLLrvsvGW5ubnU1dXR2tpKeXk5HcOxz507l+nTp/PGG2+wbds2CgsLmTx5Mps3bw5KLUHpXikiQ4GrgXs6LUsCXKpa77+/EPhxMF7PmIFysq6Zny7bzZWFGXx1+qhe7Xv7tJG8se0YTyzfw3UTh9vJ2RDR05H3QHG73TQ0NJy3TFVpbGykurqatLS089bt3buXCRMmnLd/XFwc9fX1pKSk9KuWHo/oRWQpsAEYLyIVInKfiDwoIg922uxLwDuq2rmBcjiwVkQ+BjYBf1LVP/erWmMG2ONv7KDV4+OJL1/a6wtTRISffmkKPoV/+sMOAmkWNZFr/vz5LFu27LzfgxUrVjBt2jSGDBly3tWt1dXVDB06lJiY84+9W1paSEhI6HctgfS6uUtVc1U1VlXzVPU3qvqUqj7VaZtnVXXxBfuVq+pl/tslqvp/+l2tMQPonZ0neHvnSb53/Tjys5L69ByjMhL53wvH8d6eSpbvOBHkCk04ueyyy5g6dSqPP/44ACdPnuSRRx7hpz/9Kenp6Xi93nNhf+jQIUaMGHHe/jU1NWRlZfVq8LLu2BAIxtD+J/Uv3t1PYVYS988NfLCornxzTgHjhifz7+/ux+ezo/po9cQTT1BaWspPfvITVq5cyUMPPcThw4f5zne+w6FDh1i4cCFr164FYMKECVRXVzN58mTWr18PwKpVq7j55puDU4yqhtztiiuuUGMG06o9J3XM9/+oL20+EpTne23rUR3z/T/qip0ngvJ8pnd27drldAk92rJli95zzz3drv/Sl76ke/fu7XJdV+8PKNVuMtWO6I0BfrX6ALlDE7jt8pFBeb4vXDqCvPQh/Gp1mbXVmy5NmzaNa6655twFU521trZy2223MW7cuKC8lgW9iXpbDtey6WAt919VSFxMcD4SMW4XfzmvkK1HTvPhwUAvLDfR5lvf+ta5C6Y6i4uL4+tf/3rQXseC3kS9X606QHpiLHfN6F13yp7cUTKKrOQ4frX6QFCf15jesqA3UW338Tre21PJN2YXkBgX3FG7E2LdfGtuAWv2VbG94kxQn9uY3rCgN1Htt+sOkhjn5t7ZYwbk+e+5cgwp8TEsWXdwQJ7fmEBY0JuodbbFwx8/Oc4tl+aSlhg3IK+RmhDLFy8fwfIdx6lrbhuQ1zCmJxb0Jmr9aftxGlu93FkS3Lb5C91ZMormNh9//Pj4gL6OMd2xoDdR6/elRynMSuKKMekD+jqX5g1l/PAUXi49OqCvY0x3LOhNVCqvamDzoVPcUTJqwCeRFhHuKMlj29HT7DtZP6CvZUxXLOhNVPr9lgrcLuH2acG5QKonX5o6khiX8Hs7qo86f/jDHxAR9uzZc27ZYM4uBRb0Jgp5vD5e3VLB/HHZDEvt/8iAgchMjmfBxOG8tvUYbV7foLymCQ1Lly6lpKSEpUs/m65jMGeXgiCNR29MOFmzv4rK+hbu7OV48/115/Q8/rzzBCv3VHLDJTmD+tpRbfmjcGJ7cJ8zZwrc+ESPmzU0NLB69Wreeecd7rjjDn70ox8B8Pzzz/PCCy8AsHbtWh555BHS0tJ4++23ee2117jtttt47LHHuPvuu4NSrh3Rm6jz6tZjZCbFce2EYYP6uvOKsxmWEs9rWysG9XWNc9544w0WLFjAZZddRnJyMlu2bBn02aXAjuhNlGlq9bJydyVfnjaSWPfgHufEuF3cNCWXpZuOcLbFQ1K8ffwGRQBH3gNl6dKlfPvb3wbgzjvvZOnSpeTm5g7q7FJgR/Qmyry/r5KmNi83Tcl15PVvnJxDi8fHyj2Vjry+GTy1tbV8+OGHLFq0CGgP+pdeemnQZ5cCC3oTZZZtP0FGUhwzCzIcef2S/AyyU+JZtt0unop0r7zyCjfddBPx8fEAFBYWkpuby/bt2wd1dikIbM7YJSJSKSI7ulk/X0TOiMg2/+3xTusWicheESkTkUeDUrExfdTc5uW93Se54ZLhxAxys00Ht0tYdEkOq/ZW0tgavO5zJvQsXbqUt956i/z8/HO33bt3s3Tp0sGdXYrA2uifBX4J/O4i23ygqrd0XiAibuA/geuBCmCziLypqrv6WKsx/bJmXxVnW73cONmZZpsON07J4X82Hmb13irHmpDMwFu1alW367Zu3cq//du/sWDBApKTk9m0adN561944QWeeCJ45xYCmRx8DdCXmRNmAGXaPkl4K/AicGsfnseYoFi+4wRpibHMKsp0tI6ZBZlkJsXxJ2u+iVqDObsUBK+NfpaIfCwiy0XkEv+ykUDnywAr/MuMGXQtHi/v7jrJwknDB723zYXcLuGGyTms2lNJU+vnP+gmOgzW7FIQnKDfCoxR1cuAJ4E/9OVJROQBESkVkdKqqqoglGXMZ9aVVVPf4uHGEGkquWlyLo2tXt7fZ7/rZuD1O+hVtU5VG/z3lwGxIpIFHAM6X3qY51/W3fM8raolqlqSnZ3d37KMOc+y7SdITYhhTlGW06UAcGVhBumJsSzfYc03AyVSJ2Xvy/vqd9CLSI74h/8TkRn+56wBNgPFIlIgInHAYuDN/r6eMb3l9Smr9lRyzYRhQZv8u79i3C6umzicVXsq8djYN0GXkJBATU1NxIW9qlJTU9Pr/vU99roRkaXAfCBLRCqAHwCx/hd9CvgK8JCIeIAmYLG2/3Q9IvIw8DbgBpao6s5eVWdMEHxccZqas61cN3G406Wc57oJw3hlSwVbDp9iZqGzJ4gjTV5eHhUVFURiM3BCQgJ5eXm92qfHoFfVu3pY/0vau192tW4ZsKxXFRkTZCt3V+J2CVcXh1aT4NziLGLdwso9lRb0QRYbG0tBQYHTZYSM0Pg71pgB9N6eSq4Yk87QxOBcZRgsKQmxzCjIsOEQzICzoDcR7fiZJnYfr+O6QR6pMlDXThjO/soGjtQ0Ol2KiWAW9CaidRwtXzcxNIO+4wto5Z6TDldiIpkFvYloK3dXMjojkaLsZKdL6VJ+VhKF2Ums3Bt5Jw1N6LCgNxGrqdXL2rJqrp0wbMAnAO+Pa8cPY+OBGs622CBnZmBY0JuItaG8mhaPb9BnkuqtaycOo9XrY21ZtdOlmAhlQW8i1so9lSTGuZlZ6MzY84Ganp9BSnwMK3db7xszMCzoTURSVVbtqWLO2CziYz4/cFQoiXW7mDcum/f3VUXclZwmNFjQm4h0sPosx043cfW40LpIqjvzxmVxoq6Z/ZUNTpdiIpAFvYlIH+xvb++eF2JXw3Znrr/ONTaapRkAFvQmIq3ZV8WYzERGZyY6XUpARqYNoSg7iTX77YSsCT4LehNxWj0+NpTXhM3RfId547L5sLyG5jabjMQElwW9iThbDp+isdXLVcWhMfZ8oOYVZ9Pi8bH5UF9m7jSmexb0JuJ8sL+KGJc4Pjdsb80szCDO7Tp3fsGYYLGgNxHng/3VTBudTkpCaI1W2ZPEuBhK8tPthKwJOgt6E1FqGlrY8emZsGu26XBVcTZ7TtRTWdfsdCkmgljQm4iytqwa1fYTm+Fo3rj2LyhrvjHBZEFvIsqafdWkJcYyeeRQp0vpk4k5qWQlx7FmvzXfmOCxoDcRQ1VZW1bFnKIs3K7QHa3yYlwuYe7YLNaVVdtwCCZoegx6EVkiIpUisqOb9XeLyCcisl1E1ovIZZ3WHfIv3yYipcEs3JgLHag6y8m6FuaGaft8hzljs6huaGXvyXqnSzERIpAj+meBRRdZfxC4WlWnAP8MPH3B+mtU9XJVLelbicYEZp1/mN85ReEf9ABrrZ3eBEmPQa+qa4Bur+BQ1fWqesr/cCOQF6TajOmVdWXV5KUPCZthD7ozIm0IBVlJrD9Q43QpJkIEu43+PmB5p8cKvCMiW0TkgSC/ljHneH3KxvKasD+a7zBnbCYfltfQ5vU5XYqJAEELehG5hvag/36nxXNVdRpwI/BdEZl3kf0fEJFSESmtqrIeB6Z3dhw7Q12zhzlh3j7fYU5RFmdbvXxScdrpUkwECErQi8ilwDPArap67u9NVT3m/7cSeB2Y0d1zqOrTqlqiqiXZ2eHZB9o4p2MavtlhNuxBd2YVZSICa/db843pv34HvYiMBl4Dvqaq+zotTxKRlI77wEKgy547xvTX+gPVTMhJISs53ulSgiItMY7JI4ay7oCdkDX9F9PTBiKyFJgPZIlIBfADIBZAVZ8CHgcygV+JCIDH38NmOPC6f1kM8IKq/nkA3oOJcs1tXjYfOsU9M8c4XUpQzR6byZK1B2ls9ZAY1+NH1Zhu9fjbo6p39bD+fuD+LpaXA5d9fg9jgmvL4VO0enzMGRsZzTYd5hRl8ev3y9l0sJb544c5XY4JY3ZlrAl768qqcbuEmYWRFfTT89uHLbZulqa/LOhN2Ft3oIbLR6WRHB9ZzRtD4txMG5N27kIwY/rKgt6EtbrmNrZXnI6Y3jYXmlOUxa7jdZw62+p0KSaMWdCbsLapvBafwuwIuVDqQrPHZqIKHx605hvTdxb0JqytP1BDfIyLqaPTnC5lQFyal0ZinNva6U2/WNCbsLb+QDUl+ekkxLqdLmVAxLpdzCjIsKA3/WJBb8JWTUMLe07UR2yzTYfZRZmUVTbY9IKmzyzoTdj68GD7oKqzIvREbIeOL7IN5XZUb/rGgt6ErfUHqkmKczMlTKcNDNTE3FRSE2LYYM03po8s6E3YWn+ghhkFGcS6I/vX2O0SrizMtHZ602eR/QkxEevEmWbKq85GfPt8h9lFmRypbeRobaPTpZgwZEFvwtKG8varRSO9fb7D7LHWTm/6zoLehKX1ZTUMHRLLpNxUp0sZFMXDkslKjrN2etMnFvQmLG0or2FWYSYulzhdyqAQEWYVZbH+QDWq6nQ5JsxY0Juwc7S2kYpTTVHTbNNhdlEmJ+taOFh91ulSTJixoDdhZ71/1qVIG3++Jx0Dt1nvG9NbFvQm7Kw/UEN2SjxF2clOlzKoRmckMmJogrXTm16zoDdhRVVZf6C9fd4/TWXU6Gin31Beg89n7fQmcBb0JqwcqGqgqr4lYsef78nsokxqz7ay92S906WYMBJQ0IvIEhGpFJEd3awXEfkPESkTkU9EZFqndfeKyH7/7d5gFW6iU0f7dLRcKHWhWdZOb/og0CP6Z4FFF1l/I1Dsvz0A/P8AIpIB/ACYCcwAfiAi6X0t1pgNB2oYmTaEURlDnC7FESPShlCQlWTt9KZXAppkU1XXiEj+RTa5Ffidtnfw3SgiaSKSC8wHVqhqLYCIrKD9C2Npv6ruzvJH4cT2AXlq4zxFue/wKdIT45Bn/9XpchzzG22gprwV/W06QnSdp4h4OVPgxieC/rTBaqMfCRzt9LjCv6y75Z8jIg+ISKmIlFZVVQWpLBNJGlu9eHxK6pBYp0txVOqQWLyqnG3xOl2KCRMBHdEPBlV9GngaoKSkpG9dCgbgm9CEjqUflPOTg7vZ8PVrYWh0Nt0AaH0Li//Pu3x/wgQeml/kdDkmDATriP4YMKrT4zz/su6WG9Nr6w/UUJiVRG4UhzxAdko844ennLtwzJieBCvo3wS+7u99cyVwRlWPA28DC0Uk3X8SdqF/mTG94vH62HSwNuqGPejOrKJMNh+qpcVjzTemZ4F2r1wKbADGi0iFiNwnIg+KyIP+TZYB5UAZ8F/AdwD8J2H/Gdjsv/2448SsMb3xccUZGlo8Udut8kKzizJpbvOx7chpp0sxYSDQXjd39bBege92s24JsKT3pRnzmfVl0TX+fE9mFmbiElh3oIaZhfYzMRdnV8aasLDuQDWTclPJSIpzupSQMHRILFPy0s59ARpzMRb0JuQ1tXrZevh01I1W2ZM5RZlsO3qahhaP06WYEGdBb0Le5kO1tHp9zBlr7fOdzRmbhcenbDpoV8mai7OgNyFv3YFqYt3CjIIMp0sJKVeMSScuxsW6Mgt6c3EW9CbkrS+rYeqodBLjQub6vpCQEOumZEw666yd3vTAgt6EtNONrez49AyzrX2+S3PGZrHnRD3VDS1Ol2JCmAW9CWkby2tQxdrnu9ExLr+NZmkuxoLehLR1ZTUkxrm5LC/N6VJC0pSRQ0mJj7HhEMxFWdCbkLaurJoZBRnExdivaldi3C6uLMpkrbXTm4uwT48JWcfPNFFefZY5NuzBRc0pyuRobRNHaxudLsWEKAt6E7I+2N9+lDq32IL+YuYWZwOf/byMuZAFvQlZH+yvJis5ngk5KU6XEtKKspPIHZrAB/ttwh7TNQt6E5J8PmVdWTXzirMQsenyLkZEuKo4i3Vl1Xh9fZuzx0Q2C3oTknYdr6P2bKs12wRobnE2dc0ePqk47XQpJgRZ0JuQdK593vrPB2Tu2CxErJ3edM2C3oSkD/ZXMSEnhWGpCU6XEhYykuKYPGIoay3oTRcs6E3IaWr1UnroFFdZs02vzC3OYuuRU9Q3tzldigkxFvQm5Hx4sIZWr+9ct0ETmKuK24ct3lhus3Wa81nQm5Czdn81cTEuZuTbsMS9ccWYdIbEullr3SzNBQKdHHyRiOwVkTIRebSL9f8mItv8t30icrrTOm+ndW8GsXYToT7YX82M/AyGxLmdLiWsxMe4mVmYYSdkzef0GPQi4gb+E7gRmATcJSKTOm+jqt9T1ctV9XLgSeC1TqubOtap6heDV7qJRCfrmtl7st66VfbRVcXZlFefpeKUDYdgPhPIEf0MoExVy1W1FXgRuPUi298FLA1GcSb6vL+vvdnBTsT2zdXj2n9uHT9HYyCwoB8JHO30uMK/7HNEZAxQAKzstDhBREpFZKOI3Nbdi4jIA/7tSquq7Jc0Wr2/t4rhqfFMyk11upSwVJSdzMi0Iazea58h85lgn4xdDLyiqt5Oy8aoagnwF8AvRKSoqx1V9WlVLVHVkuxs620RjTxeH2v2VzF/3DAb9qCPRIRrJmSzrqyaFo+35x1MVAgk6I8Bozo9zvMv68piLmi2UdVj/n/LgdXA1F5XaaLC1iOnqW/2MH+8fdH3x/xxw2j0X4tgDAQW9JuBYhEpEJE42sP8c71nRGQCkA5s6LQsXUTi/fezgDnArmAUbiLPqr2VxLiEOdY+3y+zx2YS53axem+l06WYENFj0KuqB3gYeBvYDbysqjtF5Mci0rkXzWLgRVXtPHzeRKBURD4GVgFPqKoFvenS6r1VXDEmndSEWKdLCWuJcTHMLMxglbXTG7+YQDZS1WXAsguWPX7B4x92sd96YEo/6jNR4sSZZnYfr+P7iyY4XUpEuHpcNj/5026O1jYyKiPR6XKMw+zKWBMS3t/X3sxwzQRrnw+GayYMA2C1dbM0WNCbELFqTxU5qQmMH26zSQVDYVYSozKG8L610xss6E0IaPP6WFtWzfzx2datMkhEhPnjhrGurMa6WRoLeuO80kOnaGixbpXBds2EbJravHxoo1lGPQt647h3d58kzu2yYYmDbFZhFgmxLt7bfdLpUozDLOiNo1SVFbtOMntsJsnxAXUCMwEaEufmquJsVuw6yfm9nk20saA3jtpf2cCR2kYWTBzudCkR6fqJw/n0TDO7jtc5XYpxkAW9cdSKXe3NCtdPsqAfCNdOHIbIZz9nE50s6I2jVuw6yWV5Qxluk4APiKzkeKaNTregj3IW9MYxlXXNbDt62o7mB9j1k4az89M6Pj3d5HQpxiEW9MYx7+1pv5hngQX9gOr4In3Xet9ELQt645gVu04yKmOIXQ07wIqykynMSrLmmyhmQW8c0djqYW1ZNddPzLGrYQfB9ZOGs7G8hrrmNqdLMQ6woDeOWLOvilaPjwWThjldSlRYMGk4bV61KQajlAW9ccSy7SfISIpjRn6G06VEhWmj08lOiWf59uNOl2IcYEFvBl1zm5d3d5/khktyiHHbr+BgcLuEGyfnsHJPJWdbPE6XYwaZfcrMoFu9t4rGVi83T8l1upSoctOUXFo8PlbusaGLo40FvRl0f9p+nIykOK4stGabwTQ9P4PslHiWWfNN1LGgN4Oquc3Le9Zs4whrvoleAX3SRGSRiOwVkTIRebSL9d8QkSoR2ea/3d9p3b0ist9/uzeYxZvws3pvpTXbOOhma76JSj0GvYi4gf8EbgQmAXeJyKQuNn1JVS/3357x75sB/ACYCcwAfiAi6UGr3oSdP/l721izjTNKrPkmKgVyRD8DKFPVclVtBV4Ebg3w+W8AVqhqraqeAlYAi/pWqgl31mzjPLdLuMmab6JOIJ+2kcDRTo8r/MsudLuIfCIir4jIqF7ui4g8ICKlIlJaVWUXdUQia7YJDR29b96z5puoEazDqreAfFW9lPaj9v/u7ROo6tOqWqKqJdnZNqVcJHr9o2NkJcdbs43DSvIzyElN4I2PjjldihkkgQT9MWBUp8d5/mXnqGqNqrb4Hz4DXBHoviY6nDrbyso9ldx2+QhrtnGY2yXcNnUkq/dVUd3Q0vMOJuwF8onbDBSLSIGIxAGLgTc7byAinf8W/yKw23//bWChiKT7T8Iu9C8zUeatTz6lzat8eVqe06UY4PZpI/H6lDe2fep0KWYQ9Bj0quoBHqY9oHcDL6vqThH5sYh80b/ZX4nIThH5GPgr4Bv+fWuBf6b9y2Iz8GP/MhNlXt16jAk5KUwakep0KQYoHp7CpXlDeW1rhdOlmEEQE8hGqroMWHbBssc73X8MeKybfZcAS/pRowlzZZUNfHz0NP9w00SnSzGdfHnqSH741i72nKhjQo59AUcyayw1A+71jypwCdx6+QinSzGdfOGyEcS4hNe32mmzSGdBbwaUz6e8vvUY88ZlM8wmAA8pmcnxzB8/jNc/OobXp06XYwaQBb0ZUBsP1vDpmWY7CRuibp82ksr6FtaVVTtdihlAFvRmQL20+Sgp8TEstAnAQ9K1E4eRlhjLS5uP9ryxCVsW9GbA1DS0sHz7CW6/Io+EWLfT5ZguxMe4+cq0PN7eeYLKumanyzEDxILeDJiXSyto9fq4e+Zop0sxF3H3lWPw+NSO6iOYBb0ZEF6f8vyHh5lZkEHx8BSnyzEXUZCVxNyxWbyw6Qger8/pcswAsKA3A2LNvioqTjXxtVljnC7FBOCeK8dw/EyzjVMfoSzozYB4buNhspLjWTgpx+lSTAAWTBxGTmoCz314xOlSzACwoDdBV3GqkZV7K1k8fRRxMfYrFg5i3C4WzxjFmn1VHK4563Q5JsjsU2iC7vkPjyDAXXYSNqwsnj4at0t4buNhp0sxQWZBb4KqvrmN5zYe5oZLchiZNsTpckwv5AxN4KYpuSzddJQzTW1Ol2OCyILeBNXSTUeob/bw4NVFTpdi+uAv5xXS0OKxo/oIY0FvgqbF4+U3aw8yqzCTy0alOV2O6YPJI4dyVXEWv113iOY2r9PlmCCxoDdB88ZHn3KyroUH59vRfDh76OoiqhtaeNXGqo8YFvQmKHw+5ak1B5iUm8q84iynyzH9MKsok0vzhvJfa8ptVMsIYUFvgmLF7pOUV53lwflFiIjT5Zh+EBEeurqIQzWN/HnHCafLMUFgQW/6zedTnly5n9EZidw02S6QigQLL8mhMCuJJ1fux2dH9WHPgt7025+2H2fHsTr+ZkExMW77lYoEbpfwN9ePY8+Jet742GagCncBfSpFZJGI7BWRMhF5tIv1j4jILhH5RETeE5ExndZ5RWSb//ZmMIs3zmvz+vjXd/YyISeFWy8f6XQ5JohumZLLJSNS+dd39tHisR444azHoBcRN/CfwI3AJOAuEZl0wWYfASWqeinwCvB/O61rUtXL/bcvBqluEyJe2nyUQzWN/N0N43G7rG0+krhcwt8vmkDFqSaW2hg4YS2QI/oZQJmqlqtqK/AicGvnDVR1lao2+h9uBGzeuCjQ2Orh39/bz/T8dK6dMMzpcswAmFecxazCTJ5cWUZDi8fpckwfBRL0I4HOMxJU+Jd15z5geafHCSJSKiIbReS27nYSkQf825VWVVUFUJZx2m/XHaKqvoXvL5pgPW0ilIjw94vGU3O2lWc+KHe6HNNHQT1zJiL3ACXAzzotHqOqJcBfAL8QkS6vplHVp1W1RFVLsrOzg1mWGQDHTjfxy5VlXD9pOCX5GU6XYwbQ1NHp3DQlh6feP8DR2saedzAhJ5CgPwaM6vQ4z7/sPCKyAPgH4Iuq2tKxXFWP+f8tB1YDU/tRrwkRP3xzJwA/+MKFp2tMJPqnWybhFuGf3tiBqnW3DDeBBP1moFhECkQkDlgMnNd7RkSmAr+mPeQrOy1PF5F4//0sYA6wK1jFG2e8s/MEK3ad5K8XFJOXnuh0OWYQ5A4dwiMLx7N6bxXL7SKqsNNj0KuqB3gYeBvYDbysqjtF5Mci0tGL5mdAMvD7C7pRTgRKReRjYBXwhKpa0Iexsy0efvjmTibkpHDf3AKnyzGD6N5ZY5iUm8qP3tpJfbMNYxxOYgLZSFWXAcsuWPZ4p/sLutlvPTClPwWa0PLzFfv49EwzT/7FVGLt4qioEuN28dMvT+FLv1rH//f2Xn5062SnSzIBsk+qCdja/dUsWXeQu2eO5ooxdgI2Gl0+Ko17Z+Xz3xsOs2qvTSQeLizoTUCqG1r43svbKMpO5h9vthOw0ezRGycwISeFv335Yyrrm50uxwTAgt70yOdT/vb3H3OmqY0n75rKkDi30yUZByXEunnyrqmcbfXwyEsf26BnYcCC3vRoybqDrN5bxT/ePJGJualOl2NCQPHwFH7whUtYW1bNr9fYhVShzoLeXNT7+6r4l+V7WDhpOF+7ckzPO5iosXj6KG6+NJefvb2HlXtOOl2OuQgLetOtXZ/W8Z3ntjBueAo//+rlNsyBOY+I8LOvXMolI4by8Asfsb3ijNMlmW5Y0JsuHT/TxLee3UxKQiy//cZ0kuMD6olrokxiXAy/ubeE9MQ4vvXfmzl2usnpkkwXLOjN59Q0tPDN326mocXDb785nZyhCU6XZELYsNQEfvvN6TS3efnGkk1U1bf0vJMZVBb05jwn65r56tMbOVh9lqfuucJOvpqAjBuewtNfK6HiVBNf/fUGjp+xI/tQYkFvzjla28gdT23g+Okm/vtbM5hbnOV0SSaMzCrK5Hf3zaCqvoU7ntrAkRob6TJUWNAbAD4+epo7f72B042tPHf/TK4szHS6JBOGpudn8Py3Z9LQ4uErT61n65FTTpdksKA3wIubjnDHUxtwifDiA7OYOjrd6ZJMGLs0L42XHphFfKyLr/56A89tPGxDGzvMgj6KNbR4+P4rn/Doa9uZWZjBW/9rLpNGWJu86b/xOSn88eGrmDs2i3/8ww7+9vef2IiXDrKgj1Ir95xk4c/f5+UtR/nuNUU8+80ZZCTFOV2WiSBDE2P5zb3T+evrinntowqu//ka3tlpY9k7wYI+yhytbeThF7byrWdLSU6I4ZUHZ/F3N0zA7bKLoUzwuVzC964fx2sPzSYtMZYH/mcLDz23hUPVZ50uLapIKLadlZSUaGlpqdNlRJSOOV5/X3oUl0t4+JqxPHh1EXEx9l1vBkeb18fTa8r5j/f24/EpX5mWx8PXjmVUhs1SFgwissU/P/fn11nQRy5VZWN5LS9sOsKfdxxHEBbPGMV3rxnL8FS7CMo4o7KumV+tPsALm47g8yk3TM7h7hmjmVWUacNs9IMFfRRRVXYfr+ftnSd465NPKa86S2pCDLdfkcf9VxUyMm2I0yUaA7QPs/HMBwd5ZUsFZ5raKMhK4guX5rLwkhwuGZFqod9LFvQR7viZJjYdrGVjeS1ry6o4WtuECEwfk8Gd00dx85RcG0PehKzmNi/Lth/npc1H2XyoFp9CXvoQrirOYkZBBjMLMhlhByg96nfQi8gi4N8BN/CMqj5xwfp44HfAFUAN8FVVPeRf9xhwH+AF/kpV3+7p9SzoP09VOdXYxqGasxyuOUtZZQM7P61j16d1VPrHFkmJj2FGQQYLJg1nwcThZKfEO1y1Mb1T09DCu7tPsmJXJR8erKG+2QNAdko8k3JTmTQileJhyYzJTKIgK4n0xFg78vfrV9CLiBvYB1wPVACbgbtUdVenbb4DXKqqD4rIYuBLqvpVEZkELAVmACOAd4Fxquq92GtGWtCrKh6f4vEqLR4vrR4fLR4fTW1eGlu9NLZ6ONvipb65jYYWD6cb26g920rt2Vaq6ls4WdfMibpmGls/+7HFuISxw5KZNCKVySOGMqMgg4m5qdZ7xkQMr0/Zc6KOTQdr2XGsjl3H69h/sh5PpxmthsS6yRmaQE5qAtkp8WQkxZGeGEdaYiwpCTGkJMSSFO8mMS6GIbFuEuPcxMW4iI9xERfjItbtIsYlEfFlcbGgD2Ts2RlAmaqW+5/sReBWYFenbW4Ffui//wrwS2n/yd0KvKiqLcBBESnzP9+GvryRntzy5Ac0t/l63K67Lze94EHHY1VFAVVQtP1f/Wy5TxWf/7HX137zKXh8Prw+pc3b++axlIQYMpPiyEyOZ2JuKvPHD2NEWgIFWUmMyUxiVMYQ4mOsOcZELrdLuGTEUC4ZMfTcslaPj6OnGjlcc5aD1Y18erqJE3XNnDzTzCcVp6k920qd/6+A3oh1C26XEONy4ZL213b7vwBcAi4RhPYx+EVov+G/718O7ffp9J1xsa+Prr5cMhLjePnBWb2uvyeBBP1I4GinxxXAzO62UVWPiJwBMv3LN16w78iuXkREHgAeABg9enQgtX/O2OzkwEO1m/+BzovF/5/bfp/z/6P9/8nnfgn8/7pEzv2SxLgEl0uIdbuIdQkx7vYjifhYF3FuF0Pi2o8wEmLdJMe3H32kJMSQmhBr3R6N6UJcjIui7GSKspO73abN6+NMUxsNzR7qmz3Ut7TR7P/ruanVS6vXR0tb+1/VHq+PNp/S5vXh87X/5f3ZwVr7TbXzwVzng73PDgAB//3P8ueiSdTNypSEgZn3IWRmk1DVp4Gnob3ppi/P8YvFU4NakzEm/MS6XWQlx5OVbOeoOgRy2HgMGNXpcZ5/WZfbiEgMMJT2k7KB7GuMMWYABRL0m4FiESkQkThgMfDmBdu8Cdzrv/8VYKW2/w3zJrBYROJFpAAoBjYFp3RjjDGB6LHpxt/m/jDwNu3dK5eo6k4R+TFQqqpvAr8B/sd/srWW9i8D/Nu9TPuJWw/w3Z563BhjjAkuu2DKGGMiwMW6V1rXDmOMiXAW9MYYE+Es6I0xJsJZ0BtjTIQLyZOxIlIFHO7j7llAdRDLCQfR+J4hOt93NL5niM733dv3PEZVs7taEZJB3x8iUtrdmedIFY3vGaLzfUfje4bofN/BfM/WdGOMMRHOgt4YYyJcJAb9004X4IBofM8Qne87Gt8zROf7Dtp7jrg2emOMMeeLxCN6Y4wxnVjQG2NMhIuYoBeRRSKyV0TKRORRp+sZDCKyREQqRWSH07UMFhEZJSKrRGSXiOwUkb92uqbBICIJIrJJRD72v+8fOV3TYBERt4h8JCJ/dLqWwSIih0Rku4hsE5F+j/AYEW30gUxgHolEZB7QAPxOVSc7Xc9gEJFcIFdVt4pICrAFuC0K/q8FSFLVBhGJBdYCf62qG3vYNeyJyCNACZCqqrc4Xc9gEJFDQImqBuUisUg5oj83gbmqtgIdE5hHNFVdQ/v4/1FDVY+r6lb//XpgN93MQxxJtF2D/2Gs/xb+R2k9EJE84GbgGadrCWeREvRdTWAe8R/+aCci+cBU4EOHSxkU/iaMbUAlsEJVo+F9/wL4e8DncB2DTYF3RGSLiDzQ3yeLlKA3UUZEkoFXgb9R1Tqn6xkMqupV1ctpn3t5hohEdHOdiNwCVKrqFqdrccBcVZ0G3Ah8199M22eREvQ2CXkU8bdRvwo8r6qvOV3PYFPV08AqYJHDpQy0OcAX/e3VLwLXishzzpY0OFT1mP/fSuB12pun+yxSgj6QCcxNBPCflPwNsFtVf+50PYNFRLJFJM1/fwjtHQ/2OFrUAFPVx1Q1T1Xzaf9Mr1TVexwua8CJSJK/owEikgQsBPrVsy4igl5VPUDHBOa7gZdVdaezVQ08EVkKbADGi0iFiNzndE2DYA7wNdqP7rb5bzc5XdQgyAVWicgntB/YrFDVqOluGGWGA2tF5GNgE/AnVf1zf54wIrpXGmOM6V5EHNEbY4zpngW9McZEOAt6Y4yJcBb0xhgT4SzojTEmwlnQG2NMhLOgN8aYCPf/ACqnmTDen1f9AAAAAElFTkSuQmCC",
      "text/plain": [
       "<Figure size 432x288 with 1 Axes>"
      ]
     },
     "metadata": {
      "needs_background": "light"
     },
     "output_type": "display_data"
    }
   ],
   "source": [
    "plt.figure(3)\n",
    "plt.plot(times,omega_vals,label=r'$\\Omega(t)$')\n",
    "plt.plot(times,delta_vals,label=r'$\\Delta(t)$')\n",
    "plt.legend()"
   ]
  },
  {
   "cell_type": "code",
   "execution_count": 20,
   "metadata": {},
   "outputs": [],
   "source": [
    "arp_hamiltonian = get_hamiltonian(hx=omega_vals,hz=delta_vals,pt=process_tensor)\n",
    "arp_system = oqupy.TimeDependentSystem(arp_hamiltonian)"
   ]
  },
  {
   "cell_type": "markdown",
   "metadata": {},
   "source": [
    "Now we need the `dprop` list, this is more complicated now because our parameters are now $\\Theta_0$ and $a$\n",
    "\n",
    "The complication arises because previously we had that $\\frac{\\partial U_n}{\\partial h_{\\bullet,k}}$ was only nonzero for $u=k$, whereas $\\frac{\\partial U_n}{\\partial \\Theta_0}$ is nonzero for all $n$. The easiest way to solve this problem is to say that $\\Omega(t)$ is $h_x$ and to use the chain rule,\n",
    "$$\n",
    "\\frac{\\partial \\mathcal{F}(t)}{\\partial \\Theta_0} = \\sum_n \\frac{\\partial{\\rho_f}}{\\partial U_n}\n",
    "\\frac{\\partial U_n}{\\partial h_x}\\frac{\\partial h_x}{\\partial \\Theta_0}\n",
    "$$\n",
    "\n",
    "The last term is just a scalar. \n"
   ]
  },
  {
   "cell_type": "code",
   "execution_count": 21,
   "metadata": {},
   "outputs": [],
   "source": [
    "def arp_hamiltonian_deriv(t):\n",
    "    omega = 1 / (np.sqrt(2*np.pi * np.sqrt(a**2 + tau_0**2))) \\\n",
    "        * np.exp(-(t-t_0)**2 * tau_0**2 / (2*(a**2 + tau_0**4)))\n",
    "    return omega\n",
    "\n",
    "dprop_dpram_derivs_omega = []\n",
    "for i in range(dprop_dpram_times.size):\n",
    "    deriv = dpropagator(\n",
    "                        arp_hamiltonian,\n",
    "                        dprop_dpram_times[i],\n",
    "                        process_tensor.dt,\n",
    "                        op=0.5*oqupy.operators.sigma('x'),\n",
    "                        h = 10**(-6))\n",
    "    dprop_dpram_derivs_omega.append(deriv)"
   ]
  },
  {
   "cell_type": "code",
   "execution_count": 22,
   "metadata": {},
   "outputs": [],
   "source": [
    "# similarly for delta (arp_hamiltonian_deriv for delta is just a)\n",
    "\n",
    "dprop_dpram_derivs_delta = []\n",
    "for i in range(dprop_dpram_times.size):\n",
    "    deriv = dpropagator(\n",
    "                        arp_hamiltonian,\n",
    "                        dprop_dpram_times[i],\n",
    "                        process_tensor.dt,\n",
    "                        op=0.5*oqupy.operators.sigma('z'),\n",
    "                        h = 10**(-6))\n",
    "    dprop_dpram_derivs_delta.append(deriv)"
   ]
  },
  {
   "cell_type": "code",
   "execution_count": 23,
   "metadata": {},
   "outputs": [
    {
     "name": "stdout",
     "output_type": "stream",
     "text": [
      "--> Compute dynamics:\n",
      "100.0%  100 of  100 [########################################] 00:00:05\n",
      "Elapsed time: 6.0s\n"
     ]
    }
   ],
   "source": [
    "gradient_arp = oqupy.gradient(\n",
    "                system=arp_system,\n",
    "                initial_state=oqupy.operators.spin_dm('z-'),\n",
    "                target_state=oqupy.operators.spin_dm('z+'),\n",
    "                process_tensor=process_tensor,\n",
    "                dprop_dparam_list=dprop_dpram_derivs_omega,\n",
    "                dprop_times_list=dprop_dpram_times)\n",
    "\n",
    "omega_derivs = gradient_arp.total_derivs\n",
    "\n",
    "gradient_delta = oqupy.gradient(\n",
    "                system=arp_system,\n",
    "                gradient_dynamics=gradient_arp,\n",
    "                process_tensor=process_tensor,\n",
    "                dprop_dparam_list=dprop_dpram_derivs_delta,\n",
    "                dprop_times_list=dprop_dpram_times)\n",
    "\n",
    "            \n",
    "delta_derivs = gradient_delta.total_derivs\n",
    "\n",
    "dham_dtheta = arp_hamiltonian_deriv(dprop_dpram_times)\n",
    "\n"
   ]
  },
  {
   "cell_type": "code",
   "execution_count": 24,
   "metadata": {},
   "outputs": [],
   "source": [
    "dprop_dpram_derivs_delta = []\n",
    "for i in range(dprop_dpram_times.size):\n",
    "    deriv = dpropagator(\n",
    "                        arp_hamiltonian,\n",
    "                        dprop_dpram_times[i],\n",
    "                        process_tensor.dt,\n",
    "                        op=0.5*oqupy.operators.sigma('y'),\n",
    "                        h = 10**(-6))\n",
    "    dprop_dpram_derivs_delta.append(deriv)\n",
    "\n",
    "hy_grad = oqupy.gradient(\n",
    "                system=arp_system,\n",
    "                gradient_dynamics=gradient_arp,\n",
    "                process_tensor=process_tensor,\n",
    "                dprop_dparam_list=dprop_dpram_derivs_delta,\n",
    "                dprop_times_list=dprop_dpram_times)\n",
    "\n",
    "            \n",
    "hy_derivs = hy_grad.total_derivs"
   ]
  },
  {
   "cell_type": "code",
   "execution_count": 25,
   "metadata": {},
   "outputs": [
    {
     "name": "stdout",
     "output_type": "stream",
     "text": [
      "the derivative of a pulse of area 3.141592653589793 and chirp 0 w.r.t:\n",
      "theta_0 = (0.19650425618439343-1.3672347340211433e-07j)\n",
      "a = 0j\n"
     ]
    }
   ],
   "source": [
    "# apply last term of chain rule\n",
    "\n",
    "omega_total_derivs = omega_derivs * dham_dtheta\n",
    "delta_total_derivs = delta_derivs * a\n",
    "\n",
    "dF_dTheta_0 = np.sum(omega_total_derivs)\n",
    "dF_da = np.sum(delta_total_derivs)\n",
    "\n",
    "print('the derivative of a pulse of area {} and chirp {} w.r.t:'.format(theta_0,a))\n",
    "print('theta_0 = {}'.format(dF_dTheta_0))\n",
    "print('a = {}'.format(dF_da))"
   ]
  },
  {
   "cell_type": "markdown",
   "metadata": {},
   "source": [
    "Now if all that is desired is to calculate $\\frac{\\partial\\mathcal{F}}{\\partial\\Theta_0}$, and $\\frac{\\partial\\mathcal{F}}{\\partial a}$ this is a massive overkill, and doesn't offer much of a saving for computational resources. However in calculating these parameters, we have also calculated the gradient of the magnitude of $\\Omega$ and $\\Delta$ at the instantanious moments in time, which is interesting to plot in itself:"
   ]
  },
  {
   "cell_type": "code",
   "execution_count": 26,
   "metadata": {},
   "outputs": [
    {
     "data": {
      "text/plain": [
       "<matplotlib.legend.Legend at 0x7fa1829009d0>"
      ]
     },
     "execution_count": 26,
     "metadata": {},
     "output_type": "execute_result"
    },
    {
     "data": {
      "image/png": "iVBORw0KGgoAAAANSUhEUgAAAYIAAAD4CAYAAADhNOGaAAAAOXRFWHRTb2Z0d2FyZQBNYXRwbG90bGliIHZlcnNpb24zLjUuMiwgaHR0cHM6Ly9tYXRwbG90bGliLm9yZy8qNh9FAAAACXBIWXMAAAsTAAALEwEAmpwYAABNk0lEQVR4nO3dd1zVZf/H8dd12EsQREFRhihOXDjS3HukqTmaapl3mWbDTBua7cy2Niz1Z7flSDO1NMy9Nwo4QFBEcICg7H2u3x+Hus00B+ec7zmc6/l4nAecw/ec7/sonM851xRSShRFURTbpdM6gKIoiqItVQgURVFsnCoEiqIoNk4VAkVRFBunCoGiKIqNs9c6wN2oVq2aDAoK0jqGoiiKVTl06NBlKaXv9bdbZSEICgri4MGDWsdQFEWxKkKIsze6XTUNKYqi2DhVCBRFUWycKgSKoig2zir7CG6kpKSElJQUCgsLtY5yx5ydnQkICMDBwUHrKIqi2KBKUwhSUlLw8PAgKCgIIYTWcW6blJKMjAxSUlIIDg7WOo6iKDao0jQNFRYW4uPjY1VFAEAIgY+Pj1V+klEUpXKoNIUAsLoi8Cdrza0oSuVQaZqGFEXRnl7qOZ97npTcFDILMskszCSnOAc9eqSU2Ak7qjhVoapTVbxdvKnjUQc/Nz90olK9J7U6qhAoinLXsoqyOHDxAPsu7CP2ciyJWYkUlBbc0WM42zkTWCWQpr5Nae7bnBbVW1Dbo7b6pGxGqhAoinJHMgsziUyKZN3pdRxNP4pE4mLvQtNqTRlSbwihXqEEVgnEx8UHH2cfPBw9/nrHX6ovJbs4m6tFV7mcf5mzOWc5k3WGxKuJRJ6JZEX8CgDqeNShS+0udKndhZbVW2Kns9PyKVd6qhAYWVJSEuPHjycxMREpJWPGjGHatGlax1KUCpFScjjtMIuOLWJ7ynbKZBn1qtbj6WZP065mO5r4NMHB7tbDn+119ng7e+Pt7E2IZwht/Nv89TO91JN4NZGDlw6yLWUbS04u4fvj31PdtToD6w5kUN1BBHkGmfBZ2i5hjVtVRkREyOvXGjpx4gQNGzbUKJGBXq+ndevWzJgxg4EDB1JUVMRDDz1E7969GTdu3L/e1xLyK8r1pJRsObeF+THzib4cjZeTF0PqDaF/SH/qV61v0nPnleSxI3UHaxLWsOv8LvRSTzv/doxqPIoONTuopqO7IIQ4JKWMuP529YnAiCIjIwkKCmLgwIEAODk5MWfOHDp37nzLQqAoluZYxjE+PPAhhy4dorZHbV5r+xoDQwfiYu9ilvO7ObjRJ6gPfYL6kJafxuqE1Sw5uYSnNz5NqFcoY5uOpW9wX9XRbASVshDMXHuM4+ezjfqYjWpWYcZ9jf/1mBMnTtCsWbO/3ebv7092djbFxcU4OjoaNZOimEJ2cTazD8zml4RfqOpcldfbvc6QekOw12n3clHdtTpPhj/J6MajWZ+0noWxC5m6YyrzY+czsflEutTuoj4hVEClLARasbOzIzc392+3SSnJz8/H3l79UyuWb8/5Pby+63UuF1xmdOPRPBn+JB6OHlrH+ouDnQMD6w5kQMgAIpMimXtkLs9ueZaW1Vsyre00Gng30DqiVaqUr063euduKl26dOHhhx/mgw8++OvdyR9//EHLli3R6dTHV8VylZSVMPvgbH48+SPBnsEs7rqYJtWaaB3rpnRCR9/gvvQM7MmqhFV8cfgLRvw6guH1hzOhxQQ8nTy1jmhV1KuTETVr1owWLVowffp0AC5dusQLL7zAu+++q3EyRbm5jIIMxm4Yy48nf+Thhg+zfMByiy4C17LX2TOs/jDWDl7LiLARLI9fzv2r72dL8hato1kVVQiM6P333+fgwYO8/fbbbN68maeffpqzZ88yfvx4kpKStI6nKP8QlxnHg789yLGMY8zqNIupbabibO+sdaw75unkySttX2Fp/6X4OPvw7JZnmbpjKlcLr2odzSqo4aMWwtrzK9Zn/4X9TNg8AQ9HDz7v+jmNq2nTpGpsJWUlfBfzHfOi5+Ht7M37nd6ntV9rrWNZhJsNHzXKJwIhRB8hRJwQIkEIMfUGP3cSQiwr//k+IURQ+e09hRCHhBAx5V+7GSOPoij/blfqLsZvGk9Nt5os6b+k0hQBMHQoP938aZYMWIKrgytPRD7BnKg5lOpLtY5msSpcCIQQdsBcoC/QCHhQCNHousOeAK5IKUOBT4APym+/DNwnpWwKjAL+W9E8iqL8u23ntjFx80SCqgSxoM8CqrtW1zqSSTTwbsCyAcsYFDqIb6K/4YnIJ7hccFnrWBbJGJ8I2gAJUsrTUspiYCkw6LpjBgGLyr9fAXQXQggpZZSU8nz57ccAFyGEkxEyKYpyA7vP7+a5rc9Rv2p95veej7ezt9aRTMrVwZW3OrzFex3f43jGcUb8OoKY9BitY1kcYxSCWsC5a66nlN92w2OklKVAFuBz3TFDgcNSyqIbnUQIMU4IcVAIcTA9Pd0IsRXFtsRlxvHC1hcI9gxmXq95NjXEckDIABb3W4yDzoHRv4/ml4RftI5kUSxi1JAQojGG5qL/3OwYKeU8KWWElDLC19fXfOEUpRK4mHeR8RvH4+bgxpfdv6SKYxWtI5ldmHcYS/svpWWNlry+63U+O/wZeqnXOpZFMEYhSAVqX3M9oPy2Gx4jhLAHPIGM8usBwCrgMSllohHyKIpyjdziXJ7e+DT5pfl81eMr/Nz8tI6kGS9nL77q8RUP1H+A72K+4+XtL1NUdsNGCJtijEJwAKgnhAgWQjgCI4E11x2zBkNnMMADwGYppRRCeAG/AVOllLuMkEVRlGtIKZmxewZnss7wSddPTL5iqDWw19kzvd10nm/1PL8n/c64DePIKsrSOpamKlwIytv8JwCRwAlguZTymBDiTSHEwPLD5gM+QogE4AXgzyGmE4BQYLoQ4kj5pXIOYVAUDSw5uYQNZzfwbMtnaeffTus4FkMIweNNHufDTh8SfTmaxyMft+kRRUbpI5BSrpNS1pdS1pVSvlN+23Qp5Zry7wullMOklKFSyjZSytPlt78tpXSTUja/5pJmjExa+uWXXxBCcPLkSa2jKDYs9nIsHx78kM4BnRndeLTWcSxSn+A+zO0+l3M553hs/WOk5KRoHUkTlXLROa0tWbKEiIgIlixZwsyZM7WOo5hYTmEJuxIuE38pl9PpuZzNzEcnBK6Odrg52lPfz4PWQVVpWacqbk7m+ZPLKsrixa0v4uviyzv3vqPW7P8X7Wu2Z17PeTyz6RlGrR/Fd72/I9gzWOtYZqUKgZHl5uaydetWNmzYwLBhw1QhqKRKyvRsOHaJtUfPszkujeJSw+iTmp7OBPq4IQTkFJZy/moBG45fRC/BTifoVK8aj7UPonM9X3Q6062fP+vALC7lX+L7vt/b1DDRu9W8enMW9lnIkxue5InIJ/iu93eEeIZoHctsKmchWD8VLhp50ohfU+j7/i0PW716NT169KBZs2a4u7tz6NAhWrVqZdwsimbK9JK1R8/zycZ4zmbk4+vhxENt6tCvqT9Na3ni4vjPTdZzCkuISr7K7sQMVhxKYczCAwT5uDK+aygPtAwwekHYkbKDNYlrGBc+jnDfcKM+dmVWv2p9FvRewBORT/BE5BPM7zWfEC/bKAbq86KRLVmyhOHDhwMwfPhwlixZonEixVgOJGXS77MdPLfsCC4Odsx7tBV7p3XnjYGNaRPsfcMiAODh7ECn+r5M7duA3VO78dnI5ni6ODBlRTRDv95NbKrxRqzkFOcwc89M6nrW5T/hN52Wo9xEXa+6LOi9ACklj0c+zpmsM1pHMgu1+qgRZWZmEhYWRkpKCk5OTpw+fZrOnTuTnJx8y230LCG/cmOFJWV88kc883acppaXC1P6NGBAU/8KvZOXUvLz4VTeW3+CzLxiHu8QzJQ+DXC0r9h7szd2v8GqhFUs7ruYpr5NK/RYtux01mnG/D4GB50Di/ouopb79YslWCeTrj6qGKxYsYJ+/frh5GRYLikkJAR/f3927NihcTLlbsVdzGHgnJ18s/00I1vX4ffnOjGwWc0KN+cIIRjaKoBNL3bhobZ1+G7nGUbM20Pq1YK7fsz9F/az8tRKRjUapYpABYV4hjCv5zzyS/MZGzmWtHyrH8z4r1QhMKIlS5awdu1agoKC/rqcOHFCNQ9ZqU0nLjHky11k5pWwcExr3hvSFHcjj/rxdHHg7fubMvehlpy6lMuAz3ewPf7O19Iq1Zfy3v73qOVei/HNxxs1o60K8w7j6x5fk1mYyZMbnuRK4RWtI5mMKgRGtGXLFjIzM0lKSvrrkpOTw1dffaV1NOUOSCn5ZlsiY78/SLCvG2sndqBrmGnnOfYP92ftxHupUcWZMf93gBWH7mw8+8r4lSRcTWByxGSr3GHMUoX7hjOn+xxSclKYsGkC+SX5WkcyCVUIFOUaer3ktV9ieW/9Sfo18een/7TH39PFLOcOrubGiqfb076uD5N/OsrX2xK5nT68rKIs5hyZQ2u/1nSv090MSW1La7/WzOo0i9iMWF7a/hIl+hKtIxmdKgSKUq60TM/kn47yw75k/tM5hDkPtbjpSCBTcXeyZ/6o1gxsVpP315/k3XUnblkMvjr6FdnF2bzc+uVbDkpQ7k73wO682vZVtqds5809b95WgbYmlXMegaLcoeJSPc8ti2JdzEVe7FmfCd1CNXtRdbTX8emI5ni7OfLtjjPohGBq3wY3zHP66mmWnlzKA/UeIMw7TIO0tmN42HDSC9L5+ujX+Lv5V6q+GFUIFJtXWqZnwo+H2XD8Eq/1b8jYjtpPItLpBDPua0SZXvLN9tM42et4odc/X+g/j/ocF3sXnmnxjAYpbc/4ZuO5kHuBr45+RW2P2txX9z6tIxmFKgSKTdPrJS+tiGbD8Uu8cV8jRnewnDVmhBDMHNiY4lI9n29OwMnBjme6hv718+MZx9mUvInxzcZX+i0nLYUQghn3zOBC3gWm756Ov5s/EX7/GJZvdVQfgWKzpJRMXxPLqqhUXuodZlFF4E86neDdIU0Z3KIWH0bGsfzA/3aF/fKIYaexRxo9omFC2+Ng58DHXT6mtkdtJm2ZRFJWktaRKkwVAiNKSkqiSZMmWsdQbtPsDXEs3mvoGB7fpa7WcW7KTieY9UA4HetVY9qqGLbGpRGdHs22lG2MbjwaD0cPrSPaHE8nT+Z2n4udsGPi5onkFOdoHalCVCFQbNLivWeZuyWRB9vUZmqfG3fEWhIHOx1fPtySsBoejP/hMB/s+4yqTlV5uOHDWkezWbU9avNRl49IyUnh5e0vU6Yv0zrSXVOFwMjKysp48sknady4Mb169eLYsWO0bNnyr5+fOnXqb9cV89t04hLTV8fSNcyXtwY1sfgi8CcPZwcWjmmNh2cK0Rn7eSD0UVwdXLWOZdNa+7VmWttp7EjdwWdRn2kd565Vys7iD/Z/wMlM4+4O1sC7AS+3efmWx506dYolS5bw7bffMnz4cKKiovD09OTIkSM0b96chQsXMmbMGKNmU25fTEoWE36MonFNT+Y81BJ7O+t6L1SjijNhDfZz+KI7kXvqMq5ZGc4O5p3roPzd8LDhxF+JZ2HsQupXrc+AkAFaR7pj1vVXYAWCg4Np3rw5AK1atSIpKYmxY8eycOFCysrKWLZsGQ899JC2IW3UxaxCnlh0AG83R+aPjjDbbmHGdOrKKaIu76Ff4DCOny/g5ZXRlW5ykzV6uc3LtKrRipm7ZxKXGad1nDtmfX8Jt+F23rmbyp8rjwLY2dlRUFDA0KFDmTlzJt26daNVq1b4+Phols9WFRSX8eT3B8krKuXn8R2o7mGd6/H837H/w8XehVc7PkEdXRqzN8TT0L8KT3W23M5uW+Cgc2B259mMWDuCSVsmsWzAMqvaGU59IjADZ2dnevfuzdNPP62ahTQgpWTyT0eJPZ/F5w+2IMzPOkfZXMy7yLoz6xhSbwieTp480zWUAeH+fPD7SXacuvMVSxXjquZSjY+7fsyl/Eu8vMO6Oo9VITCThx9+GJ1OR69evbSOYnM+35TAbzEXmNqnAd0b1tA6zl374cQPSCl5tNGjgGFy06wHwqlX3Z1nl0RVaC8DxTia+TZjWptp7ErdxdfRX2sd57apQmBEQUFBxMbG/nV98uTJvPHGGwDs3LmTMWPGYGenOvbMacOxi3yyMZ4hLWsxrpP2S0fcrZziHH6K/4legb3+tluWq6M9Xz/SipIyyfgfDlNUaj3vQiurYfWHMbDuQL45+g27U3drHee2qEJgBoMHD+b7779n0qRJWkexKQlpObyw/CjhAZ68O7ip1QwTvZGV8SvJK8ljdJPR//hZiK87s4eFc/TcVd757YT5wyl/I4TgtXavUderLlN3TOVS3iWtI92SKgRmsGrVKqKjo6lWrZrWUWxGdmEJ474/hLODjq8faWXVQyzL9GUsjVtKRI0IGvk0uuExfZr4M65TCN/vOcuao+fNnFC5nou9Cx91+YjCskKr2MOgUhUCax1GZ625LZVeL3lh2RGSM/OZ+1BLanqZZ2MZU9l1fhepuamMbDDyX497qXcYLet48crPMSRdzjNTOuVmQjxDeOOeN4hKi+KLqC+0jvOvKk0hcHZ2JiMjw+peVKWUZGRk4OxsncMZLdHcLQlsPJHGa/0b0jbE+ofqLotbRjWXanSr0+1fj3Ow0/HFQy2x0wkmLFH9BZagX0g/htUfxsLYhexK3aV1nJuqNPMIAgICSElJIT3d+obROTs7ExAQoHWMSmFbfDofb4zn/uY1GdU+SOs4FZaSk8KOlB38p9l/cNA53PL4Wl4uzB7WjCe/P8h7607yxsDGZkip/JspracQlRbFKztfYcV9K/B19dU60j9UmkLg4OBAcLDlLSOsmM+5zHwmLY0irIYH7w6x7s7hP/0U/xM6oWNovaG3fZ+ejWrweIdgFuw6Q4fQavRsZL1DZisDZ3tnPuz0IQ/+9iDTdk5jXs956IRlNcZYVhpFuUuFJWWM/+EwZXrJ14+0wtXR+t/jFJUVserUKrrU7oKfm98d3fflvmE0rlmFKSuOcim70EQJldsVWjWUqW2msu/CPhbELtA6zj+oQqBUCm/+epyY1Cw+Ht6coGpuWscxig1JG7hSdIURYSPu+L5O9nZ8/mALCkv0vLD8CHq9dfWdVUZD6g2hd1Bv5kbNJfZy7K3vYEaqEChW7+fDKfy4L5mnOtetVM0gK+JXEFglkLb+be/q/nV93XljYCN2JWQwb8dpI6dT7pQQgtfbvU4112q8vP1l8kvytY70F1UIFKt28mI2r6yKoV2IN5N71dc6jtGczT7L4bTDDA4dXKH25OERtenX1I/ZkXFEp1w1XkDlrng6efLeve9xLucc7+9/X+s4f1GFQLFaOYUljF98mCrODnz+YAur21vg36xOWI1O6Liv7n0VehwhBO8NDsfXw4nnlh2hoFgNKdVahF8EY5uOZVXCKjYkbdA6DqAKgWKlpJRMXRnD2cx8vniwhdUuK30jZfoyVieupkPNDlR3rV7hx/N0deCjYc04nZ7HO+uOGyGhUlFPN3+aJj5NmLlnpkUsQWGUQiCE6COEiBNCJAghpt7g505CiGXlP98nhAgqv91HCLFFCJErhJhjjCyKbVi0O4nfYi7wUu+wSjFp7Fp7LuwhLT+N+0PvN9pjtg+txpMdg1m8N5nNJ7V/4bF1DjoH3uv4HsVlxczYPUPzibAVLgRCCDtgLtAXaAQ8KIS4fkGUJ4ArUspQ4BPgg/LbC4HXgckVzaHYjqjkK7yz7gQ9GlZnXEfrXVH0Zn5J+AUvJy+61O5i1Med3DuMBn4eTFkRzeXcIqM+tnLngjyDmBwxmV3nd7EsbpmmWYzxiaANkCClPC2lLAaWAoOuO2YQsKj8+xVAdyGEkFLmSSl3YigIinJLV/KKmfBjFDWqOPPRsObodNY/aexaWUVZbE7eTP+Q/jjaORr1sZ3s7fhsZAuyC0uZujJG83ehimG/4w61OvDRwY84k3VGsxzGKAS1gHPXXE8pv+2Gx0gpS4Es4I4+zwshxgkhDgohDlrjMhJKxen1kheWHyE9p4gvH26Jp+utl1ywNr+d/o0SfYlRm4WuFebnwZTeYWw8cYmfDqaY5BzK7RNC8Fb7t3Cyd+LVna9Sqi/VJIfVdBZLKedJKSOklBG+vpa3Vodiel9vT2RLXDqvD2hIeICX1nFMYk3iGhp4N6CBdwOTnePxDsHcE+LDzLXHSM6wnLHstsrX1ZfX271OzOUYFsYu1CSDMQpBKlD7musB5bfd8BghhD3gCWQY4dyKjdh7OoPZkXEMCPfnkXaBWscxiTNZZziWcYwBIQNMeh6dTjB7eDN0QvDiT0coU7OONdc7qDd9gvrw5dEvicuMM/v5jVEIDgD1hBDBQghHYCSw5rpj1gCjyr9/ANgsVQOlcpvSc4p4dkkUgT5uvFdJFpO7kXVn1iEQ9A3ua/Jz1fJy4Y2BjTmQdIVv1axji/Bq21fxdPTklZ2vUFJm3o1sKlwIytv8JwCRwAlguZTymBDiTSHEwPLD5gM+QogE4AXgryGmQogk4GNgtBAi5QYjjhQbVqaXPLcsiqyCEuY+1BIP58rXLwCGeRHrTq+jjV8bo8wduB1DWtaiT2M/Pt4Qz8mL2WY5p3JzXs5ezLhnBvFX4vnq6FdmPbdR+giklOuklPWllHWllO+U3zZdSrmm/PtCKeUwKWWolLKNlPL0NfcNklJ6SyndpZQBUko140X5yxebT7ErIYM3BzWmUc0qWscxmdjLsSTnJNM/pL/ZzimE4J3BTajiYs8Ly45SXKo327mVG+tapysD6w5kQewCjmUcM9t5raazWLE9O09d5rNNpxjSohbDI2rf+g5W7Lczv+Goc6RHYA+zntfH3Yl3Bzfl+IVsvth8yqznVm5sSusp+Dj78NrO18zWRKQKgWKR0rILeW5ZFKG+7rw9uEml7RcAKNWX8vuZ3+kU0AkPRw+zn79XYz+Gtgzgy62JHDl31eznV/7O08mTGe1nkHA1gW+ivzHLOVUhUCxOaZmeiUuiyCsq48uHW1aKTWb+zf4L+8kozDBrs9D1ZgxsRA0PJ15YfoTCErUwndY6BXRiYN2BfBfzHcczTN9argqBYnE+3XiKfWcyefv+JtSrYf53yOb225nf8HDwoGNAR80yVHF2YNYDhoXpZkeaf/ii8k9TWk/B29mb13e9bvImIlUIFIuyLT6duVsTGB4RwNBWAVrHMbmisiI2J2+me2B3nOycNM1yb71qPNoukPm7zrDvtJrmozVPJ09eb/c68VfimR8736TnUoVAsRgXswp5ftkR6lf3YObAJlrHMYvdqbvJLcmlT1AfraMAMLVvA+p4uzJ5xVHyirRZ7kD5n651utI3qC/fRH9DwpUEk51HFQLFIpSW6Xl2SRSFJWXMfbglLo52Wkcyi8izkXg6edLGv43WUQBwc7Jn9rBmpFwp4N11J7SOowBT207F3cGdGbtnUKY3Tf+NKgSKRfhkYzz7kzJ5d3BTQqu7ax3HLIrKith6bivd63THQWc5E+VaB3kz9t5gftiXzM5Tl7WOY/O8nb2Z2mYq0ZejWXxisUnOoQqBorlt8enM3ZLIyNa1ub/F9QvXVl67UneRV5JH78DeWkf5hxd7hRHi68aUFUfJKTTvcgfKP/UL7kfngM7MiZrDxbyLRn98VQgUTf3ZL9DAz4M3BjbWOo5ZRSZF4uXkRWv/1lpH+QdnBztmD2vGxexC3vlNNRFpTQjB6+1e59V2r1LDtYbRH18VAkUz1/cLODvYRr8AQGFpoUU2C12rZZ2qjOtUl6UHzrElLk3rODavhlsN7g+93ySTK1UhUDTz6cZT7E/K5J3BTajraxv9An/albqL/NJ8egX10jrKv3q+Zz3q13Bn6sposgpUE1FlpQqBoont18wXGNyi8s8XuF7kWUOzUBs/yxgtdDNO9oYmosu5xbz1q1oPsrJShUAxu7RsQ79AveruNjNf4FpFZUVsO7eN7nW6Y6+z/OUzwgO8eLpzXVYcSmHzyUtax1FMQBUCxazK9JJJS4+QV1zK3IdsZ77AtXan7ia/NJ+egT21jnLbJnYPJayGB1NXxpCVr5qIKhtVCBSzmrM5gT2nM3hzkG2sI3QjG5M34uHoYfHNQtdysrfjo+HNyMgrZuZa862Tr5iHKgSK2ew9ncFnm+K5v3lNhtnAOkI3UqIvYeu5rXQJ6IKDnWWOFrqZJrU8eaZLXX6OSmXjcdVEVJmoQqCYRWZeMZOWGvYdfntw5d13+FYOXDxAdnG22TegMZYJ3erRwM+DaatiuJpfrHUcxUhUIVBMTkrJ5J+OciWvhC8ebIG7k+V3kJrKxrMbcbF3oX3N9lpHuSuO9jpmD2tGZl4xM9eqUUSVhSoEiskt2JXE5pNpvNKvAU1qeWodRzNl+jI2J2+mY62OONs7ax3nrv3ZRLQqKpU/VBNRpaAKgWJSsalZvL/+BD0a1mBU+yCt42jqSPoRMgozrGq00M382UT0imoiqhRUIVBMJreolIlLoqjm7sSHD4TbbL/Anzae3YijzlHTnciM5domojdVE5HVU4VAMZnpq2M5m5HHpyOaU9XNUes4mpJSsil5E+1rtsfNwU3rOEahRhFVHqoQKCax+kgqPx9OZWK3erQN8dE6juaOZx7nQt4FutXppnUUo7q2iUhNNLNeqhAoRpeckc+rq2KJCKzKxG6hWsexCJvObkIndHSp3UXrKEb1ZxNRRl4xM39VE82slSoEilGVlOl5dmkUQsCnI5tjb6d+xQC2nNtCqxqtqOpcVesoRteklifju9Tl58Opai0iK6X+ShWj+mzjKY6cu8r7Q8IJqOqqdRyLcDb7LAlXE+hep7vWUUxmQjfDWkTTfo5Ry1VbIVUIFKPZdzrjr6Wl+4f7ax3HYmxK3gRA19pdNU5iOk72dnw4LJzLucW885saRWRtVCFQjCKroITnlx0h0NuVGffZ1paTt7IpeRMNvRtS072m1lFMKjzAi/90CmH5wRS2qh3NrIoqBEqFSSl5dVUMaTlFfDayBW42vITE9dLz04lOj67UzULXmtSjHvWquzPt5xiy1ab3VkMVAqXCfj6cyq/RF3i+Z32a1fbSOo5F2XJuC4DNFAJDE1EzLmUX8t46tem9tVCFQKmQc5n5zFhzjDZB3jzVua7WcSzOpuRN1PGoQ10v2/m3aV7biyc7hrBk/zl2nrqsdRzlNqhCoNy1Mr3kheVHAPhoeDPsdLa9hMT1copz2H9xP93rdLe55TWe71mfEF83Xl4ZTW5RqdZxlFtQhUC5a99sT+RA0hVmDmxMbW81VPR621O2U6ovrXSziW+Hs4MdHz4QzvmsAt5fr5qILJ0qBMpdiU3N4pM/4unX1I8hLWtpHccibU7eTDWXaoT7hmsdRROtAr15vEMwi/cmsztRNRFZMlUIlDtWWFLG88uO4O3myDv32+5uY/+mqKyInak76Vq7Kzphu39mk3uFEeTjytSVMeQXqyYiS2WU31AhRB8hRJwQIkEIMfUGP3cSQiwr//k+IUTQNT+bVn57nBCitzHyKKY1OzKOU2m5zHqgmc2vKnoz+y7sI7803yabha7l4mjHB0PDSc7MZ9bvcVrHUW6iwoVACGEHzAX6Ao2AB4UQja477AngipQyFPgE+KD8vo2AkUBjoA/wZfnjKRZqT2IG83ed4dF2gXSu76t1HIu1OXkz7g7utPVrq3UUzbUN8WHUPYEs2pPEgaRMreMoN2CMmT9tgAQp5WkAIcRSYBBw7TzzQcAb5d+vAOYIQ3vCIGCplLIIOCOESCh/vD1GyPVPSx+GK2dN8tDccevINXf4W9OKuOY2cc1XXfnl2u/LLzo70NmDsAM7e8P3OgewdwS78ou9E9i7gIMzOLqBo7vhq1MVcPY0XFy9Dddv0tSTU1jC5J+OEujtyrR+De70CduMMn0ZW85toWOtjjjYOWgdxyJM6dOAzXFpTFkRzbpnO+LieBvv96SE4jwoyISCq1B4FYpyoCgXinOhJB9KCg1fS4ugrKj8awnoS0BfCvqy8q/l30v9dRdp+Ir833Xk/87/t+//CnZnT/4OD7+lJzcZ/p6NyBiFoBZw7prrKcD1b4P+OkZKWSqEyAJ8ym/fe919b9jzKIQYB4wDqFOnzt0lrVLzuv9QY7nTX4yb/FL9dbv83y/hX1+v+aWVsvyXugRkWfn3ZVBWWv615H9/DGXFUFoMpQWGP4Zb0TmAWzVwrwEe/lDFH7zqQNVgFhwuJivLjkVPdcPVUc0evpmj6UfJLMykW6BtNwtdy83Jng+GhPPQd/v4+I84Xu3fyPD7evUsZCRCZiJkpUDWOchKhdw0yEs3/N7eis4e7J3/94bHzsHwe6wrf1NkV/4mSWdn+PrXGyj7v7+5+tsbrz/fDF33/Z/uuF/MmP1oxu+Ts5q/ZinlPGAeQERExN29mvf70JiRrE9ZqeEPqzjf8I6qOA+KsqEwy3DJzzBc8tIh55Lhj/LcXii4AsAkYJITsCoQqjcEv3AIiIBaEeCmNp/506bkTTjoHLi35r1aR7EcZaW0dznLFyH7KNr7NfmJ6bheTTC8WfmTvQt4BoBnLfCpC26+hourNzh7gYsXOHmAowc4uYODKzi4GF74lQoxRiFIBWpfcz2g/LYbHZMihLAHPIGM27yvYix29mDnYfhjosZt3+3qlQyemfszDRwvM621DvvLJyHtBJzaUP6xGvCpByFdDJfgTuBcxRTPwOJJKdmcvJm2/m1xd3TXOo52pITL8RD/OyRuhnMHoCSP+4BMO0+OZYXQou3T2FdvAD6hhhd+V5+7eKetGIMxCsEBoJ4QIhjDi/hI4KHrjlkDjMLQ9v8AsFlKKYUQa4AfhRAfAzWBesB+I2RSjOiNyGT25ddi2pjh2Nfy/N8PinLhwhFIOQBJu+DID3DgW8NH9JAu0GgQhPUzvKOzEfFX4knJTeGJpk9oHUUbl45D9FI4vhquJBluq94Imj8Ege2hTjtiLjowasF+xsu6TGmh+posQYULQXmb/wQgErADFkgpjwkh3gQOSinXAPOB/5Z3BmdiKBaUH7ccQ8dyKfCMlLKsopkU4/k99iK/HDnPcz3q0eTaIgCGj+dB9xou9z5v6ItI2Q9x6+HEGli9wVAUGt4HrUZDUMdK/45vU/ImBKLSbUn5r4rz4MiPcPh7uBhtaIev2xXaPwv1exuae67RuQoMjwjgm+2n6dvEn6YBnjd5YMVchDRJ56lpRUREyIMHD2odo9LLzCum1yfb8PN0ZtX4DjjcybaTUho+LRxdCkeXGPogfEKhwyQIH2kY0VQJDV0zFHcHdxb1XaR1FNPLPg/7voZD/2f4//VvBs0egiZDwf3fhxZnFZTQ+5PteLk6sGbCvTja2+6kO3MSQhySUkZcf7v611duasaaY2QVlDB7WLM7KwJgeOdfswX0/QBejIPB8wzDVddMhM+awd6vDEP9KpHk7GTir8TTI7CH1lFMKz8TIl+Fz5rD7i8MzYCPb4Bx26DdU7csAgCeLg68M7gJJy/mMGdLgskjK/9OFQLlhn6PvcDao+d5tls9GvhVsOPXwQWajTC8UDzys6Fj8PepMKc1HFtloiG95vfnlpSVdjZxaTHs+MhQyPfMhSZDYOJhGP491Gl7x81+3RvWYHCLWny5JYFj57NMFFq5HaoQKP+QmVfMa7/E0qRWFZ7qYsR19IWA0O4w+ld4dJVhUttPo2FBb8MoJCv355aUtdwr4SJ8Z3fD1/fCpjcNfULj98Dgr8E7uEIPO+O+Rni5OvLST9GUlOmNFFa5U6oQKP/wRkWahG5X3W7w1A4Y+AVkJMDXHWHbLMNEOCuUlp/G0fSjlW8nsuI8WPscLOwLJQXw0E/w4BLDPBIj8HJ15O37m3D8QjZfb000ymMqd04VAuVvIo9dZM3R80w0RpPQrejsoOVj8Mx+w1DTLe/AvC6QdtK05zWBzcmbASpX/8CFaPims6EzuP1EeGYv1O9l9NP0aeLHgHB/Pt98iriLOUZ/fOXWVCFQ/pKVX8Jrv8TSyL8KTxuzSehW3KrBA/Nh5BLIvQTfdjWMNrIim5I3EVQliBDPEK2jVJyUsO8b+K67YQb6qDXQ621DZ7+JzBzYmCrODry04iilqonI7FQhUP7y1m/HycwrZtYD4aZrEvo3DfrBf3ZAzZaw6j+weoJhUTELl1WUxYGLByrHlpSlxYZ/9/VTypvvdhlmipuYj7sTbw5qQnRKFvN2nDb5+ZS/U4VAAWBbfDorDqXwVOeQf04cM6cq/vDYauj4IkT9F74fCHmWvbvVlnNbKJNl1t8slHcZvh8ERxZDpymGT2hmXEOqf7g/fZv48ekfp0hIU01E5qQKgUJuUSmv/BxDaHV3Jnarp3Ucw5pI3afDsEVw4Sh81wMun9I61U1tSNpATbeaNPZprHWUu5d5xtAUdP4wDJ0P3V4FnflfHt4c1AQ3Jzsm/xRNmb5yDCu2BqoQKMz6/STnswr4YGg4zg4WtC9Q4/th1K+GNei/6wHnLG8ZquzibPZc2EPPwJ7W2yyUdgIW9DHMDh79GzR9QLMovh5OvDGwMUfOXWX+TtVEZC6qENi4/Wcy+X7PWca0D6ZVYFWt4/xT7dYwdqNh4brv74eknVon+ptt57ZRqi+lZ1BPraPcnfNRsLCf4fsx6w3LimtsYLOa9GpUg9kb4klIy9U6jk1QhcCGFZaUMXVlNAFVXZjcu77WcW7OO9jwIuUZAIsfgIRNWif6y4akDfi5+RFeLVzrKHcu9TAsGmhYPPDx9UabG1BRQgjeHtwEFwc7pqw4qpqIzEAVAhv2xeZTnL6cx3tDmlr+jmMefoZmC5+6sGQknNqodSJyi3PZdX4XPer0sL5moUvHYfEQw2YvY9aDt2UNe63u4czMgY05nHyVBTvPaB2n0lOFwEYdO5/F19tOM6xVAB3rWckm9O6+MGot+DaAZY/AWdNsbX27tqZspURfQu+g3prmuGMZiYbRQfbO8NiafywTbSkGNa9Jj4Y1mL0hjsR01URkSqoQ2KDSMj1TV8ZQ1dWRV/tbRnPAbXP1Nixc51kLfhxhmP2qkT+S/qC6S3XCfa2oWSj7vKEIyDLDMN0KrhVkSkII3h3cBGcHO176STURmZIqBDZo4a4kYlKzmDmwMV6uVrgvgLsvPPqLYcvN/w6Gy+ZfxjivJI+dqTvpEdgDnbCSP6OiHPhhuGEP6kd+Bt8wrRPdUvUqzrwxsJFqIjIxK/kNVozlbEYeH/0RR4+GNejX1E/rOHfPq7bhHS3ADw9AXoZZT7/t3DaK9cX0CjL+2jsmUVYKP42BtOOG+Rk1m2ud6Lbd37yWaiIyMVUIbIiUkldWxWCv0/HW/Y2tr4PzetVCDSthZp+HZQ+bdaOb9WfWU8O1Bi2qtzDbOe+alLD+JUj4A/p/BPWsawa0EIJ3hxiaiCarJiKTsKlCEHs5lgu5F7SOoZkVh1LYlZDBy33C8Pd00TqOcdRuY1gXP3kPrH7GLJvcZBVlsfP8TvoE9bGOZqH98+DgAujwHESM0TrNXanu4cybgxoTlXyV79RaREZnBb/FxlFSVsKLW19kTOQYUnJStI5jduk5Rbz92wkiAqvycNtAreMYV5MhhiUpYn4y7GlgYhvPbqRUX0rf4L4mP1eFndkBv0+DsH7QfYbWaSpkYLOa9G5cg4/+iOfUJbUWkTHZTCFwsHPg464fk1uSy+jfR3M2+6zWkczqzV+PU1BcxvtDm6LTWXmT0I3c+wI0exC2vgsn15n0VOvPrKeORx0a+TQy6Xkq7Goy/DTKMPdi8DearB1kTEII3r6/KW6OhiYitVy18Vj3b8YdauzTmPm95lNcVsyY38dw+qptfMTccjKNtUfPM75rXUKre2gdxzSEgAGfgH9zwxLWJlqkLj0/nf0X99M3uK9l97EU58PShw07vo1cAs4m3mTITHw9nHjr/iYcTcnim+228fdrDjZVCADCvMNY0HsBeqlnTOQYEq6Yf+ihOeUVlfLaL7HUq+5u3s1mtODgAiMWg50jLH0ICrONforIpEgkkn7B/Yz+2Ea17iW4GANDvzN0qlciA8Jr0r+pP59ujOfkReP/H9simysEAKFVQ1nYZyF2wo4nNjxB/JV4rSOZzOwNcZzPKuD9oU1xsreglUVNxas2DPs/w+zZX542eufx+qT1hFUNI8TLspZk+JuoxeV7CkyG+lY26/k2vXV/EzxdHHhh2VGKS1UTUUXZZCEACPYMZkHvBdgLe8ZGjiUuM07rSEYXlXyF/9udxCNtA2kV6K11HPMJ7gg9Z8LJX2HvV0Z72JScFKLTo+kT3Mdoj2l0F2PhtxcNu4p1maZ1GpPxdnPkvSHhHL+QzZzNlrtXhbWw2UIAEOQZxII+C3Cwc2DshspVDErK9Ez7OYYaHs5M6WP5M0iN7p4J0GAA/PG60fYx+O30bwCWO1qoKMfQOezsZdhcRle5PwH2bFSDoS0DmLs1kaPnrmodx6rZdCEACKwSyMLeC3G0c+TJDU9y6krleHcxb/tpTl7M4a37m+Dh7KB1HPMTAgbNhSq14KfRFZ55LKVkTeIaImpEUMu9lnEyGpOU8OvzkHkaHlgA7tW1TmQW0+9rRHUPJ15YfoTCkjKt41gtmy8EAHWq1DE0E+nsGbthLIlXE7WOVCGn03P5bNMp+jX1o2ejGlrH0Y6LFwxfBHnphpFE+rtvSz6SfoTknGQGhQ4yXj5jOvKDYR5F11cgqIPWaczG08WBWQ+Ek5iex6zfK88nenNThaBcYJVA5veej07oGLthrNXOM9DrJdN+jsHJXscb91nxHrrGUrMF9H7XsLzCnjl3/TCrE1bjYu9Cz0AL3IksPc4wSii4k2E+hY3pWM+XUfcEsmDXGXYnXtY6jlVSheAawZ7BzO81nzJ9GWM3jOV87nmtI92xpQfOse9MJq/2a0j1Ks5ax7EMrcdCw4GwaSakHLzjuxeWFhKZFEmPOj1wc3AzQcAKKCmAFY+DgysMnlfp+wVuZmrfhoRUc+Oln6LJKSzROo7VUYXgOiFeIXzT8xvyivN4csOTpOenax3ptl3KLuS9dSe4J8SHEa1rax3HcggBA78Aj5qwYgwUXL2ju285t4XcklwGhg40Tb6K2PAaXIo1rLdUxV/rNJpxcbTjo+HNuJBVwMy1x7WOY3VUIbiBhj4N+bLHl6QXpDPuj3FkFWVpHem2TF8dS3GZnveGNLXsWa9acPEydKJmn4c1E+9ofsHqxNX4ufnRxq+N6fLdjRO/woHvDCOk6llgk5WZtahTlWe6hrLiUAq/x9ru4pJ3QxWCm2hevTlfdPuCs9lnGb9pPPkl+VpH+lfrYy4QeewSz/esT1A1C2u+sBS1W0O31+HEGsNqnLchLT+NPef3cF/IfZa10mhWimG1Vf/mVr+YnDE9270eTWt5Mu3nGNKyC7WOYzUs6Dfb8rT1b8usTrOIvRzLC9teoKTMMtser+YX8/rqYzSuWYWx91ru1oMWof2zULe7YUXOi7G3PHxN4hr0Us/AuhbULKQvg5VPgr7U8CnH3gp3mTMRBzsdn4xoTn5xGVNWRiPNsCx5ZaAKwS30COzB9HbT2ZW6i9d2vYZeWt509rd/O8GV/GJmPRCOvZ36L/1XOp1hJU6Xqob+guK8mx6ql3pWxK+gtV9rgjyDzJfxVrZ/CMm7of/HhpVFlb8Jre7OK/0asjUuncX7krWOYxUq9KohhPAWQvwhhDhV/rXqTY4bVX7MKSHEqGtuf0cIcU4IYdH7zw2tP5RJLSex7sw6Pj30qdZx/mZ7fDorDqXwVOcQGtf01DqOdXD3hSHzDCuUrnvppoftOb+H1NxUhtcfbsZwt3BmO2x9H8JHQrMRWqexWI/dE0in+r6889txEtLU3gW3UtG3j1OBTVLKesCm8ut/I4TwBmYAbYE2wIxrCsba8tss3hNNnmBk2EgWHlvIDyd+0DoOYFhZdNrPMYT4ujGxWz2t41iXkM7Q6SXDRKyoG/9/Lo9bjrezN93rdDdzuJvITTc0CfmEGracVG5KCMHsB8JxdbRn0tIjamG6W6hoIRgELCr/fhFw/w2O6Q38IaXMlFJeAf4A+gBIKfdKKa2ie18IwdQ2U+lauysf7P+ATWc3aR2JWb+f5HxWAbOGhuPsYJvjxyuky1QI6mhYpO3S34ccXsy7yLaUbQwOHYyDnQUs0aHXG2ZHF1wxrK7q5K51IotXvYozHwwN59j5bD76Q806/jcVLQQ1rnkhvwjcaD2DWsC5a66nlN9mdex0dnzQ6QOa+jbl5R0vczT9qGZZ9p7OYNGes4y6J4iIIBtaWdSYdHaGxdmcPAyLtRX9r4Vy1alVlMkyhtYfqmHAa+z6FBI3Qd/3wa+J1mmsRs9GNXi4bR3mbT/N7gQ16/hmblkIhBAbhRCxN7j8bdEVaeieN1kXvRBinBDioBDiYHq6dpO8XOxd+KLbF/i6+PLs5mdJzU01e4b84lJeXhlNHW9X21xZ1Jg8asAD8yEjAX59DqSkVF/KilMr6FCzA7U9LGBi3umtsPktaDwEWlnn5vNaeq1/I4KrufH88iNk5hVrHcci3bIQSCl7SCmb3OCyGrgkhPAHKP+adoOHSAWu/WsKKL/tjkgp50kpI6SUEb6+vnd6d6PydvZmbo+5lOhLeGbjM2QXm3eXpA8j4zibkc+s8jZQpYKCO0GXVwyLtu37mu0p20nLT2NY2DCtkxnmC6x4HKrVN8yOVhMF75iLox1fPNiCK3klTFmhhpTeSEWbhtYAf44CGgWsvsExkUAvIUTV8k7iXuW3WbUQzxA+6fIJZ7PP8uLWFynRm2eOwYGkTP5vdxKj7gmkXYiPWc5pEzq+aNi/IPJVFh+eQw3XGnQO6KxtptIiWD4KSosNW3CqfoG71rimJ1P7NmDjiUv8d691LihpShUtBO8DPYUQp4Ae5dcRQkQIIb4DkFJmAm8BB8ovb5bfhhBilhAiBXAVQqQIId6oYB6zauvflun3TGfvhb18sP8Dk58vr6iUyT8dpZaXC1P6NDD5+WyKTgf3f8Vx3xAOZJ3ikeD+2Os0/LQlpWFoa+pBuP9LqKZGhVXUmA5BdA3z5e3fTnDigtrr+FoVKgRSygwpZXcpZb3yJqTM8tsPSinHXnPcAillaPll4TW3T5FSBkgpdeVf36hIHi0MrjeYMY3HsCxuGUtPLjXpud5bf4LkzHxmD2uGm5NqEjI65yosqtcWN71k6MEVf+s8NrvdX8DhRYZPKo0saFazFRNC8OGwZni6ODBxSRT5xaVaR7IYahqqEUxqOYnOAZ15f//77Dm/xyTn2B6fzuK9yTzeIVg1CZnIxbyLRF7YxdBaXfG4dAKWPwZaLCtyfA38MR0a3Q9dXzP/+Suxau5OfDqiOYnpucxYfUzrOBZDFQIj+HNYabBnMC9ue5GkrCSjPn5WgaGTK7S6Oy/1VqOETOXPiYKPtH8F7vvUMFzzDlcqrbDUQ/DzOAiIMCwtrVN/osbWIbQaE7qG8tOhFH4+nKJ1HIugfsuMxM3BjS+6fYG9sGfi5onkFBtvWvsba46RnlvEx8ObqYljJpJbnMuK+BX0CuyFv7s/tHzMMJLo6BLY9KZ5QlyMhcUPGJbAGLkEHFzMc14bNKl7PdoEe/PaL7EkpFn0CjdmoQqBEQV4BPBRl49IyUlhyvYplOkrvpn26iOprIpKZULXUMIDvCoeUrmhladWkluSy6jGo/53Y+cp0Go07PwYNr9t2k8Gl47D9wPB3hke/cVQDBSTsbfT8fnIFjg72DHhx8M2v/G9KgRG1tqvNdPaTmNn6k4+O/xZhR4r5Uo+r/0SS8s6XkzsFmqkhMr18kvyWRC7gLZ+bWlc7Zp9noUwrPDZ4lHDip+Rr5qmGKSdgEX3gZ0jjP5VrShqJn6eznw8vBlxl3KYvvrWS5JXZqoQmMDwsOGMCBvBwmMLWZu49q4eo0wveWHZUaSET0e0UMtLm9DyuOVkFmYyvvn4f/5QZwf3fQ5tn4K9c2HtJCgz4miTxC2wsC/o7GHUWlUEzKxLWHUmdg1l+cEUlh84d+s7VFLq1cVEXm7zMq39WvPG7jeISY+54/t/tTWB/UmZzBzYmDo+riZIqMD/Pg20r9meljVa3vggnQ76vA8dJxuGdC4aAFkVXFpEStgzFxYPAXc/eHy9miugkUk96tMh1IfXV8dy/Lxtzi9QhcBEHHQOfNT5I3xdfXluy3Ok5d9o9Y0bO5CUyScbTzEg3J8hLa1yfT6rseTkEq4UXbnxp4FrCQHdX4ch38HFGPj6Xoi/ywnyOZdg5ViIfAXC+sHYP8A75O4eS6kwO53gs5Et8HJ1YPwPh8gqsMydCE1JFQITqupclc+7fU5OSQ7PbXmOorKiW94nM6+YiT9GEVDVRW1Cb2K5xbksPLaQjrU60sy32e3dKXwYjNsGVWrBj8NhyYNw/sjt3be0CHZ+Cl+0guOroeurMPy/htVPFU1Vc3di7kMtSblSwAvLjqDX29Z6RKoQmFj9qvV57973iLkcw8zdM/91wSu9XvJi+QqJcx9qiYezBayDX4ktPrGYrKKsW38auF61UBi70fBCfnYXzOtsKAhHlsCVpL93KOvLIGknrJ8Kn7eAjTMg6F54Zp9hVJKaJ2AxIoK8mX5fIzadTOOLzQlaxzErtU6BGXQP7M745uP58siX1KtajzFNbryU8Lc7TrMlLp03BzWmSS217aQpXcq7xILYBXSr3Y0m1e5ifX8HZ8MLedv/wL5vYO9XELfO8DP3GmDnBCX5UJwLpYWG63W7wsDPIbSHcZ+MYjSPtgvkyLmrfLopnqYBVejW4EZbrFQ+qhCYyVPhT5FwJYFPDn1CXa+6dAro9Lef7068zKzIOPo19ePRdoEapbQdnx3+jFJ9KZMjJlfsgZw9DQWh44uGYaDJeyD1MCANE8IcXCGgNYR2V01AVkAIwbuDm3LyQg6Tlh5h9TMdCPGt/Ku+CmtcmzsiIkIePHhQ6xh3rKC0gFHrR3Eu5xyL+y2mrpdhqGDq1QLu+2In3m6O/PJMB9zVgnImdTT9KI+se4SxTccyqeUkreMoFuhcZj6D5u7Cy9WBX57pQJVK0kwrhDgkpYy4/nbVQGlGLvYufN7tc5zsnHhm0zNkFmZSWFLGU/89REmpnm8ebaWKgInppZ73972Pr4svY5uOvfUdFJtU29uVLx9uSXJGPs8uiaKsknceq0JgZn5ufnze7XPS89N5bstzTPs5ipjULD4e0Zy6NvARVGtrEtcQmxHL862ex83BTes4igVrF+LDzEGN2RqXzqzfT2odx6RUIdBAuG8479z7DlFpUay/+DnPdgulZyPb6JTS0uWCy3x08CPCfcPpH9Jf6ziKFXi4bSCPtgvkm+2n+elg5Z15rAqBRspymlGU3hMHryjcamzVOk6lJ6Xk7b1vk1+Sz5vt30Qn1K++cnum39eIe0Or8cqqGPYkZmgdxyTUX4MGDidf4fnlR2jiNpS+Qf2Zc2TOXa9JpNyedWfWsSl5ExNaTPirk15RboeDnY65D7ck0MeNpxYfIjG98i1brQqBmZ1Oz+XJRQfxq+LMt49G8M69b9HGrw3Tdxn2PlaMLz0/nXf3vUu4bziPNXpM6ziKFfJ0cWDh6NbY6wSP/98BMvOKtY5kVKoQmNH5qwU88t0+ABaOaY2PuxMOdg580vUTgjyDeH7L88Rfidc4ZeWil3pm7J5BUVkRb3d4Gzud2thHuTu1vV2Z91gEF7MKeWLRAQqKK88eBqoQmElGbhGPzN9HTmEpix5v87cRQlUcq/BVj69wtXfl6T+eJjW3gitbKn+ZFz2PHak7eKHVCwR7BmsdR7FyrQKr8vmDLTh67ioTfjxMaZle60hGoQqBGWTllzBq4X5SrxQwf3TrGy4f4efmx9c9v6awrJBxG8ZxueCyBkkrlx0pO/jyyJf0D+nPgw0e1DqOUkn0buzHzEFN2HQyjdd+if3X9cOshSoEJpaZV8yD3+4l/mIuXz/SijbB3jc9tl7VesztPpf0gnSe+uMpsottc210YziXc46pO6ZSr2o9ZtwzQ63iqhjVo+0CmdA1lKUHzjF7Q5zWcSpMFQITSs8pYuS8PSSm5zLvsVZ0bVD9lvdpXr05n3b5lMSsRMZvHE9eSZ4ZklYu2cXZPLflOSSST7t8iou92gReMb4Xe9VnZOvazN2SyDfbErWOUyGqEJhIypV8Rszbw7nMAhaObk2XsFsXgT+1r9WeDzt9SOzlWJ7e+LQqBnegoLSAiZsmcjrrNLM7zaZ2ldpaR1IqKSEE7wxuyoBwf95bf5If9yVrHemuqUJgArGpWQz+cjfpOUUserwN7UOr3fFj9AjswaxOs4hOj2b8xvHkl+SbIGnlUqIvYfK2yUSlRfHeve/RvlZ7rSMplZydTvDx8OZ0DfPl1V9iWBWVonWku6IKgZFtPnmJ4d/swdFOx8qn2/9rn8Ct9ArqxQedPuBo+lGe2qj6DP5Nqb6UV3e+yvaU7bzW7jX6BPfROpJiIxztdXz1SCvaBfvw4vKjrD5ifaP+VCEwEiklX29LZOyig4T4urFqfHvq16j4+vO9g3ozq9MsYi7H8Pjvj6vRRDdQWFrI81ueZ/2Z9UxqOYnhYcO1jqTYGGcHO+aPjqBNsDfPLztidcVAFQIjyCooYdx/D/H++pP0beLPsnH3UL2Ks9Eev1dQL+Z2m0tyTjKPrX+MlBzr/PhpCtnF2fznj/+wLWUbr7Z9VS0trWjG1dGeBaNb0zrI+oqBKgQVdPTcVQbO2cmWk2m8PqARcx5qgZsJ9hRoX6s93/b6lqyiLB5Z9whH048a/RzWJjk7mVHrRxF9OZpZnWcxssFIrSMpNs7V0Z6FY1rTJtib55YdsZoOZFUI7lJxqZ7ZkXEM+Wo3xaV6lo5rxxP3Bpt0vHoz32b8t+9/cbF34fHfH+fX07+a7FyWblPyJkb8OoL0gnS+6vEVfYJUn4BiGVwd7fm/MW3oGladV1bF8O3201pHuiVVCO7C0XNXGTR3F3O2JDCkRS0in+9ERNDddwrfiRCvEJb0X0K4bzjTdkzj00OfUqovNcu5LUFxWTEfH/yY57Y8R2CVQJYNWEY7/3Zax1KUv3F2sOPrR1oxINyfd9adYNbvJy16BrLaF/EOZOQWMev3OJYfOkc1dye+eyyCHhpsKOPl7MW8nvN4d/+7zI+dT1RaFB90+gA/Nz+zZzGnI2lHmLF7BqezTjO8/nBebvMyjnaOWsdSlBtytNfx2cgWVHFx4MutiVzIKuSDoeE42lve+2+1ef1tyC8u5fs9Z/lySwL5xWU8fm8wE7uF4mEBG1qvTVzLW3vfwtHOkbc7vE2X2l20jmR02cXZfHnkS3488SM13Gowvd10OgZ01DqWotwWKSVztyQwe0M87ev68PWjraii0WvHzTavV4XgXxSWlPHjvmS+3JrI5dwiuoT58lr/RoRWt6y9hZOyknhp+0uczDzJfSH38VLrl6jqXFXrWBVWUlbCsrhlfBP9DVlFWYwIG8FzrZ5Tew0rVmnloRReXhlNUDU3vn0sguBq5v89VoXgDqTnFPHfvWdZvPcsmXnFtK/rw4u96tMq0Dz9AHejuKyYedHzmB8zHw9HD15q/RIDQgZY5WJrxWXFrElcw/yY+aTkptDOvx0vtHqBhj4NtY6mKBWyO/Eyz/xwmDK95IuHWtK5vq9Zz2+SQiCE8AaWAUFAEjBcSnnlBseNAl4rv/q2lHKREMIV+AmoC5QBa6WUU2/nvKYoBFJK9p7OZPnBc/wWfYHiMj09GlZnbMcQ2oX4GPVcphR/JZ6Zu2cSfTmaptWa8nyr52nt11rrWLflauFVVp5ayeITi7lccJmG3g15tuWzdKjZwSoLmqLcyLnMfJ78/iDxl3KY0qcB4zqGoNOZ5/fbVIVgFpAppXxfCDEVqCqlfPm6Y7yBg0AEIIFDQCugCGgrpdwihHAENgHvSinX3+q8xiwECWm5/BZ9gZ+jUjibkY+Hkz33t6jFmA5BhPhaVhPQ7SrTl7H29FrmRM3hUv4lOtbqyJPhT9Lct7nFvaDqpZ5Dlw6xIn4FG89upFhfTDv/djzR9Ana+rW1uLyKYgx5RaW8tOIo62Iu0q1BdWYPa4a3m+kHPpiqEMQBXaSUF4QQ/sBWKWXYdcc8WH7Mf8qvf1N+3JLrjvsMiJVSfnur81akEOj1kmPns9l08hK/x17k5MUchIC2wd6MaF2bPo39cXGsHNsZFpYW8uPJH1kQu4CsoizCq4XzaKNH6Vanm6ajbfRST8zlGCKTItmQtIFL+ZfwcPBgQN0BDK03lDDvsFs/iKJYOSkl3+85yzu/ncDH3ZHPRrao0Npkt8NUheCqlNKr/HsBXPnz+jXHTAacpZRvl19/HSiQUs6+5hgv4DDQQ0p5w9kXQohxwDiAOnXqtDp79uwdZZVS8vrqWCKPXSI9pwghoFWdqgwI96dvU39qGHFJCEuTX5LPmsQ1/Pf4f0nOSaaKYxV6BfWif3B/WlRvYZZ9fC8XXGb/hf3sTN3JrvO7yCzMxEHnQIdaHegd1JvudbqrfQMUmxSbmsWEHw9zNjOfsfcG82KvMJwdTPM3edeFQAixEbjRAPVXgUXXvvALIa5IKf82XOVWhUAIYQ+sBSKllJ/ezpO5208ETy8+hE4n6N6gOp3r++Lj7nTHj2HNyvRl7Lmwh19P/8rm5M0UlBbg4ehBW7+23FPzHppWa0qoVygOdhUb2pZTnEP8lXjiMuM4lnGMqLQozuWcA8DLyYv2Ndtzb6176VK7Cx6OFV+YT1GsXV5RKe+uO8EP+5IJ8XVj9rBmtKxj/JF/Fts0JIRYAORKKZ+93fOaex5BZZRfks/2lO3sPr+bPRf2cDHvIgD2OntCvUKp7VEbPzc//Fz98HTyxNXBFRd7FwSCMllGib6EvJI8rhZe5WrRVS7lXyIlJ4WUnBTSCtL+Oo+3szctqregRfUWtKzekkY+jczyCURRrNGOU+m8vCKaC9mFjGxdhym9w6hqxL4DUxWCD4GMazqLvaWUU647xhtDB3HL8psOA62klJlCiLeBhsAwKaX+ds+rCoFxSSlJzknmRMYJTmSeIO5KHKk5qVzKv0RBacEt728n7KjmUo0AjwAC3AMIrBJImHcY9avWp4ZrDdXhqyh3IKewhM82nmLh7iQ8nO2Z3CuMka1rY29X8RnJpioEPsByoA5wFsPw0UwhRATwlJRybPlxjwOvlN/tHSnlQiFEAHAOOIlhBBHAHCnld7c6ryoE5iGlJLs4m+zibApKC/7aJc1eZ4+9zh43ezc8nT3xcPBQL/aKYmRxF3OYvjqWfWcyCa7mxvM96zOgqX+FhpqqCWWKoihWRkrJxhNpzI6MI+5SDg39q7BoTOu73u/kZoVALTqnKIpioYQQ9GxUg24NqvNr9HnWxVygmgkGuahCoCiKYuHsdIJBzWsxqHktkzy+5a2HqiiKopiVKgSKoig2ThUCRVEUG6cKgaIoio1ThUBRFMXGqUKgKIpi41QhUBRFsXGqECiKotg4q1xiQgiRjmFto7tRDbhsxDjWwBafM9jm87bF5wy2+bzv5jkHSin/sVGyVRaCihBCHLzRWhuVmS0+Z7DN522Lzxls83kb8zmrpiFFURQbpwqBoiiKjbPFQjBP6wAasMXnDLb5vG3xOYNtPm+jPWeb6yNQFEVR/s4WPxEoiqIo11CFQFEUxcbZTCEQQvQRQsQJIRKEEFO1zmMOQogFQog0IUSs1lnMRQhRWwixRQhxXAhxTAgxSetM5iCEcBZC7BdCHC1/3jO1zmQuQgg7IUSUEOJXrbOYixAiSQgRI4Q4IoSo8L69NtFHIISwA+KBnkAKcAB4UEp5XNNgJiaE6ATkAt9LKZtonccchBD+gL+U8rAQwgM4BNxvA//XAnCTUuYKIRyAncAkKeVejaOZnBDiBSACqCKlHKB1HnMQQiQBEVJKo0yis5VPBG2ABCnlaSllMbAUGKRxJpOTUm4HMrXOYU5SygtSysPl3+cAJwDT7O9nQaRBbvlVh/JLpX+XJ4QIAPoD32mdxZrZSiGoBZy75noKNvDiYOuEEEFAC2CfxlHMoryJ5AiQBvwhpbSF5/0pMAXQa5zD3CSwQQhxSAgxrqIPZiuFQLExQgh3YCXwnJQyW+s85iClLJNSNgcCgDZCiErdHCiEGACkSSkPaZ1FA/dKKVsCfYFnypuB75qtFIJUoPY11wPKb1MqofI28pXAD1LKn7XOY25SyqvAFqCPxlFMrQMwsLy9fCnQTQixWNtI5iGlTC3/mgaswtD8fddspRAcAOoJIYKFEI7ASGCNxpkUEyjvNJ0PnJBSfqx1HnMRQvgKIbzKv3fBMDDipKahTExKOU1KGSClDMLwN71ZSvmIxrFMTgjhVj4QAiGEG9ALqNDIQJsoBFLKUmACEImh83C5lPKYtqlMTwixBNgDhAkhUoQQT2idyQw6AI9ieHd4pPzST+tQZuAPbBFCRGN44/OHlNJmhlPamBrATiHEUWA/8JuU8veKPKBNDB9VFEVRbs4mPhEoiqIoN6cKgaIoio1ThUBRFMXGqUKgKIpi41QhUBRFsXGqECiKotg4VQgURVFs3P8DyBu+3qyNcwYAAAAASUVORK5CYII=",
      "text/plain": [
       "<Figure size 432x288 with 1 Axes>"
      ]
     },
     "metadata": {
      "needs_background": "light"
     },
     "output_type": "display_data"
    }
   ],
   "source": [
    "omega_gradient = sum_adjacent_elements(omega_derivs)\n",
    "delta_gradient = sum_adjacent_elements(delta_derivs)\n",
    "hy_gradient = sum_adjacent_elements(hy_derivs)\n",
    "\n",
    "plt.plot(times,omega_gradient.real,label=r'$\\Omega$')\n",
    "plt.plot(times,delta_gradient.real,label=r'$\\Delta$')\n",
    "plt.plot(times,hy_gradient.real,label='hy')\n",
    "plt.legend()\n"
   ]
  },
  {
   "attachments": {},
   "cell_type": "markdown",
   "metadata": {},
   "source": [
    "### Comparison with Finite difference\n",
    "\n",
    "#### Constant $\\pi$ pulse"
   ]
  },
  {
   "cell_type": "code",
   "execution_count": 27,
   "metadata": {},
   "outputs": [],
   "source": [
    "from tqdm.contrib import tenumerate\n",
    "\n",
    "def compute_finite_difference_brute(\n",
    "                        pt_instance: oqupy.SimpleProcessTensor,\n",
    "                        hamiltonian,\n",
    "                        initial_state,\n",
    "                        target_state,\n",
    "                        times,\n",
    "                        operator,\n",
    "                        h = 10**-6):\n",
    "    """ doesn't use the adjoint method, just computes the frichét derivatives by\n",
    "    brute force"""\n",
    "\n",
    "    assert operator.shape[0] == pt_instance.hilbert_space_dimension,\\\n",
    "         'input operator is a different H.S. dimension to the system'\n",
    "    dt = pt_instance.dt\n",
    "    def hamiltonian_perturbed(operator,h,dt,time):\n",
    "        def _hamiltonian_perturbed(t):\n",
    "            if time-dt/2 < t < time+dt/2:\n",
    "                return hamiltonian(t) + h * operator\n",
    "            return hamiltonian(t)\n",
    "        return _hamiltonian_perturbed\n",
    "\n",
    "    derivative_array = np.zeros(times.size,dtype=np.complex128)\n",
    "    for i,time in tenumerate(times):\n",
    "        ham_plus_h = hamiltonian_perturbed(operator,h,dt,time)\n",
    "        ham_minus_h = hamiltonian_perturbed(operator,-h,dt,time)\n",
    "\n",
    "        system_plus_h = oqupy.TimeDependentSystem(ham_plus_h)\n",
    "        system_minus_h = oqupy.TimeDependentSystem(ham_minus_h)\n",
    "\n",
    "        dynamics_forward = oqupy.compute_dynamics(\n",
    "                    system_plus_h,\n",
    "                    initial_state,\n",
    "                    start_time=0,\n",
    "                    process_tensor=pt_instance,\n",
    "                    record_all=False,\n",
    "                    progress_type='silent')\n",
    "        dynamics_backward = oqupy.compute_dynamics(\n",
    "                    system_minus_h,\n",
    "                    initial_state,\n",
    "                    start_time=0,\n",
    "                    process_tensor=pt_instance,\n",
    "                    record_all=False,\n",
    "                    progress_type='silent')\n",
    "        final_state_forward = dynamics_forward.states[0,:,:]\n",
    "        final_state_backward = dynamics_backward.states[0,:,:]\n",
    "\n",
    "        fidelity_forward = 1 - np.matmul(target_state,final_state_forward).trace()\n",
    "        fidelity_backward = 1 - np.matmul(target_state,final_state_backward).trace()\n",
    "\n",
    "        derivative = (fidelity_forward - fidelity_backward) / (2 * h)\n",
    "\n",
    "        derivative_array[i] = derivative\n",
    "        np.save('deriv_array',derivative_array)\n",
    "\n",
    "    return derivative_array\n",
    "\n"
   ]
  },
  {
   "cell_type": "code",
   "execution_count": 28,
   "metadata": {},
   "outputs": [],
   "source": [
    "generate_finite_differnce_z = False\n",
    "generate_finite_differnce_x = False"
   ]
  },
  {
   "cell_type": "code",
   "execution_count": 29,
   "metadata": {},
   "outputs": [],
   "source": [
    "if generate_finite_differnce_z:\n",
    "    fd_z = compute_finite_difference_brute(\n",
    "                process_tensor,\n",
    "                hamiltonian_t,\n",
    "                initial_state=oqupy.operators.spin_dm('z-'),\n",
    "                target_state=oqupy.operators.spin_dm('z+'),\n",
    "                times=times,\n",
    "                operator=0.5*oqupy.operators.sigma('z')\n",
    "                )\n",
    "\n",
    "    np.save('constant_z',fd_z)\n"
   ]
  },
  {
   "cell_type": "code",
   "execution_count": 30,
   "metadata": {},
   "outputs": [],
   "source": [
    "if generate_finite_differnce_x:\n",
    "    fd_x = compute_finite_difference_brute(\n",
    "                process_tensor,\n",
    "                hamiltonian_t,\n",
    "                initial_state=oqupy.operators.spin_dm('z-'),\n",
    "                target_state=oqupy.operators.spin_dm('z+'),\n",
    "                times=times,\n",
    "                operator=0.5*oqupy.operators.sigma('x')\n",
    "                )\n",
    "    np.save('constant_x',fd_x)\n"
   ]
  },
  {
   "cell_type": "code",
   "execution_count": 31,
   "metadata": {},
   "outputs": [
    {
     "data": {
      "text/plain": [
       "<matplotlib.legend.Legend at 0x7fa1825c3a60>"
      ]
     },
     "execution_count": 31,
     "metadata": {},
     "output_type": "execute_result"
    },
    {
     "data": {
      "image/png": "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",
      "text/plain": [
       "<Figure size 432x288 with 1 Axes>"
      ]
     },
     "metadata": {
      "needs_background": "light"
     },
     "output_type": "display_data"
    }
   ],
   "source": [
    "\n",
    "constant_x = np.load('constant_x.npy')\n",
    "constant_z = np.load('constant_z.npy')\n",
    "plt.plot(times,constant_x.real,label='fd_x')\n",
    "plt.plot(times,constant_z.real,label='fd_z')\n",
    "\n",
    "plt.plot(times,final_derivs_x.real,label='adj_x')\n",
    "plt.plot(times,final_derivs_z.real,label='adj_z')\n",
    "\n",
    "plt.legend()"
   ]
  },
  {
   "cell_type": "markdown",
   "metadata": {},
   "source": [
    "#### ARP pulse"
   ]
  },
  {
   "cell_type": "code",
   "execution_count": 32,
   "metadata": {},
   "outputs": [],
   "source": [
    "generate_arp_fd_x = False\n",
    "generate_arp_fd_y = False\n",
    "generate_arp_fd_z = False"
   ]
  },
  {
   "cell_type": "code",
   "execution_count": 33,
   "metadata": {},
   "outputs": [],
   "source": [
    "if generate_arp_fd_x:\n",
    "    arp_x = compute_finite_difference_brute(\n",
    "                process_tensor,\n",
    "                arp_hamiltonian,\n",
    "                initial_state=oqupy.operators.spin_dm('z-'),\n",
    "                target_state=oqupy.operators.spin_dm('z+'),\n",
    "                times=times,\n",
    "                operator=0.5*oqupy.operators.sigma('x')\n",
    "                )\n",
    "    np.save('arp_x',arp_x)\n"
   ]
  },
  {
   "cell_type": "code",
   "execution_count": 34,
   "metadata": {},
   "outputs": [],
   "source": [
    "if generate_arp_fd_z:\n",
    "    arp_z = compute_finite_difference_brute(\n",
    "                process_tensor,\n",
    "                arp_hamiltonian,\n",
    "                initial_state=oqupy.operators.spin_dm('z-'),\n",
    "                target_state=oqupy.operators.spin_dm('z+'),\n",
    "                times=times,\n",
    "                operator=0.5*oqupy.operators.sigma('z')\n",
    "                )\n",
    "    np.save('arp_z',arp_z)\n"
   ]
  },
  {
   "cell_type": "code",
   "execution_count": 35,
   "metadata": {},
   "outputs": [],
   "source": [
    "if generate_arp_fd_y:\n",
    "    arp_y = compute_finite_difference_brute(\n",
    "                process_tensor,\n",
    "                arp_hamiltonian,\n",
    "                initial_state=oqupy.operators.spin_dm('z-'),\n",
    "                target_state=oqupy.operators.spin_dm('z+'),\n",
    "                times=times,\n",
    "                operator=0.5*oqupy.operators.sigma('y')\n",
    "                )\n",
    "    np.save('arp_y',arp_y)"
   ]
  },
  {
   "cell_type": "code",
   "execution_count": 36,
   "metadata": {},
   "outputs": [
    {
     "name": "stderr",
     "output_type": "stream",
     "text": [
      "/home/eobutler/dev/venv_1/lib/python3.10/site-packages/matplotlib/cbook/__init__.py:1298: ComplexWarning: Casting complex values to real discards the imaginary part\n",
      "  return np.asarray(x, float)\n"
     ]
    },
    {
     "data": {
      "text/plain": [
       "<matplotlib.legend.Legend at 0x7fa1825578e0>"
      ]
     },
     "execution_count": 36,
     "metadata": {},
     "output_type": "execute_result"
    },
    {
     "data": {
      "image/png": "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",
      "text/plain": [
       "<Figure size 432x288 with 1 Axes>"
      ]
     },
     "metadata": {
      "needs_background": "light"
     },
     "output_type": "display_data"
    }
   ],
   "source": [
    "arp_x = np.load('arp_x.npy')\n",
    "arp_y = np.load('arp_y.npy')\n",
    "arp_z = np.load('arp_z.npy')\n",
    "\n",
    "plt.figure(4)\n",
    "plt.plot(times,-1*omega_gradient.real,label=r'$\\Omega$ adj')\n",
    "plt.plot(times,-1*delta_gradient.real,label=r'$\\Delta$ adj')\n",
    "plt.plot(times,-1*hy_gradient,label=r'$h_y$ adj')\n",
    "\n",
    "plt.plot(times,arp_x.real,label=r'$\\Omega$ fd')\n",
    "plt.plot(times,arp_z.real,label=r'$\\Delta$ fd')\n",
    "plt.plot(times,arp_y.real,label=r'$h_y$ fd')\n",
    "plt.legend()\n",
    "\n",
    "\n"
   ]
  }
 ],
 "metadata": {
  "interpreter": {
   "hash": "82d10ccd8e47b3fa4e28f3b5f0363e38ab40ff5e2780345a78459005100c19ec"
  },
  "kernelspec": {
   "display_name": "Python 3.10.4 ('venv_1')",
   "language": "python",
   "name": "python3"
  },
  "language_info": {
   "codemirror_mode": {
    "name": "ipython",
    "version": 3
   },
   "file_extension": ".py",
   "mimetype": "text/x-python",
   "name": "python",
   "nbconvert_exporter": "python",
   "pygments_lexer": "ipython3",
   "version": "3.10.4"
  },
  "orig_nbformat": 4,
  "vscode": {
   "interpreter": {
    "hash": "a62a31cce7fdc7250bf1303f3a744872f35a709152d20694985a374e3193d112"
   }
  }
 },
 "nbformat": 4,
 "nbformat_minor": 2
}
