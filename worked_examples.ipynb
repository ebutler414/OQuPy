{
 "cells": [
  {
   "cell_type": "code",
   "execution_count": 8,
   "metadata": {},
   "outputs": [],
   "source": [
    "import numpy as np\n",
    "from scipy.linalg import eig\n",
    "from quantum_channel_transformations import *\n"
   ]
  },
  {
   "cell_type": "markdown",
   "metadata": {},
   "source": [
    "Choose an initial *pure* state of $|x^+\\rangle$, corresponding density matrix $\\rho_i=|x^+\\rangle\\!\\langle x^+|$. And we want to rotate our initial state to a final density matrix of $\\rho_f=|x^-\\rangle\\!\\langle x^-|$. We do this by applying $\\sigma_z\\rho_i\\sigma_z^\\dagger$"
   ]
  },
  {
   "cell_type": "code",
   "execution_count": 9,
   "metadata": {},
   "outputs": [],
   "source": [
    "x_plus = 1/np.sqrt(2) * np.array([1,1])\n",
    "sigma_z = np.array([[1,0],[0,-1]])\n",
    "density_matrix = np.outer(x_plus,x_plus.conjugate().T)\n",
    "\n",
    "rotation = sigma_z @ density_matrix @ sigma_z.conjugate().T"
   ]
  },
  {
   "cell_type": "markdown",
   "metadata": {},
   "source": [
    "Now we vectorise the density matrix and construct the superoperator that will perform $\\sigma_z\\rho_i\\sigma_z^\\dagger$\n",
    "\n",
    "In the following the \"left\" (right acting) operator is $\\sigma_z$, the \"right\" (left acting) operator is $\\sigma_z^\\dagger$"
   ]
  },
  {
   "cell_type": "code",
   "execution_count": 10,
   "metadata": {},
   "outputs": [
    {
     "name": "stdout",
     "output_type": "stream",
     "text": [
      "[0.5 0.5 0.5 0.5]\n",
      "[[ 1  0  0  0]\n",
      " [ 0 -1  0  0]\n",
      " [ 0  0 -1  0]\n",
      " [ 0  0  0  1]]\n"
     ]
    },
    {
     "ename": "ValueError",
     "evalue": "cannot reshape array of size 4 into shape (4,4)",
     "output_type": "error",
     "traceback": [
      "\u001b[0;31m---------------------------------------------------------------------------\u001b[0m",
      "\u001b[0;31mValueError\u001b[0m                                Traceback (most recent call last)",
      "Cell \u001b[0;32mIn[10], line 9\u001b[0m\n\u001b[1;32m      7\u001b[0m \u001b[38;5;66;03m# perform the rotation in liouville space\u001b[39;00m\n\u001b[1;32m      8\u001b[0m final_state \u001b[38;5;241m=\u001b[39m superoperator \u001b[38;5;241m@\u001b[39m dm_vec\n\u001b[0;32m----> 9\u001b[0m final_state_unvectorised \u001b[38;5;241m=\u001b[39m \u001b[43mdensity_matrix_to_hilbert\u001b[49m\u001b[43m(\u001b[49m\u001b[43mfinal_state\u001b[49m\u001b[43m)\u001b[49m\n\u001b[1;32m     10\u001b[0m \u001b[38;5;28mprint\u001b[39m(final_state_unvectorised)\n",
      "File \u001b[0;32m~/dev/luisa_debug/quantum_channel_transformations.py:28\u001b[0m, in \u001b[0;36mdensity_matrix_to_hilbert\u001b[0;34m(rho)\u001b[0m\n\u001b[1;32m     <a href='file:///home/eobutler/dev/luisa_debug/quantum_channel_transformations.py?line=25'>26</a>\u001b[0m \u001b[39massert\u001b[39;00m rho\u001b[39m.\u001b[39mndim \u001b[39m==\u001b[39m \u001b[39m1\u001b[39m, \u001b[39m\"\u001b[39m\u001b[39mstate vector must be a vector\u001b[39m\u001b[39m\"\u001b[39m\n\u001b[1;32m     <a href='file:///home/eobutler/dev/luisa_debug/quantum_channel_transformations.py?line=26'>27</a>\u001b[0m dimension \u001b[39m=\u001b[39m rho\u001b[39m.\u001b[39msize\n\u001b[0;32m---> <a href='file:///home/eobutler/dev/luisa_debug/quantum_channel_transformations.py?line=27'>28</a>\u001b[0m \u001b[39mreturn\u001b[39;00m rho\u001b[39m.\u001b[39;49mreshape(dimension,dimension)\n",
      "\u001b[0;31mValueError\u001b[0m: cannot reshape array of size 4 into shape (4,4)"
     ]
    }
   ],
   "source": [
    "dm_vec = density_matrix_to_liouville(density_matrix)\n",
    "print(dm_vec)\n",
    "\n",
    "superoperator = left_right_super(sigma_z,sigma_z.conjugate().T)\n",
    "print(superoperator)\n",
    "\n",
    "# perform the rotation in liouville space\n",
    "final_state = superoperator @ dm_vec\n",
    "final_state_unvectorised = density_matrix_to_hilbert(final_state)\n",
    "print(final_state_unvectorised)"
   ]
  },
  {
   "cell_type": "markdown",
   "metadata": {},
   "source": [
    "$$\\rho_f^{jl}\\equiv\\epsilon(\\rho_i) = \\Lambda^{ijkl}\\rho_i^{ij}$$"
   ]
  },
  {
   "cell_type": "code",
   "execution_count": null,
   "metadata": {},
   "outputs": [
    {
     "name": "stdout",
     "output_type": "stream",
     "text": [
      "[[ 0.5 -0.5]\n",
      " [-0.5  0.5]]\n"
     ]
    }
   ],
   "source": [
    "# need to express superoperator in rank 4 form\n",
    "superoperator_reshaped = unvectorise_superoperator(superoperator)\n",
    "\n",
    "choi_matrix = transform_superoperator_to_choi(superoperator_reshaped)\n",
    "\n",
    "# formula as in wood\n",
    "final_dm_choi = np.einsum('ijkl,ik->jl',choi_matrix,density_matrix)\n",
    "print(final_dm_choi)"
   ]
  },
  {
   "cell_type": "code",
   "execution_count": null,
   "metadata": {},
   "outputs": [
    {
     "name": "stdout",
     "output_type": "stream",
     "text": [
      "[2.+0.j 0.+0.j 0.+0.j 0.+0.j] [[ 0.70710678  0.70710678  0.          0.        ]\n",
      " [ 0.          0.          1.          0.        ]\n",
      " [ 0.          0.          0.          1.        ]\n",
      " [-0.70710678  0.70710678  0.          0.        ]]\n"
     ]
    }
   ],
   "source": [
    "# eigenvalues of choi matrix\n",
    "choi_matrix_as_matrix = vectorise_superoperator(choi_matrix)\n",
    "eigvals, eigvect = eig(choi_matrix_as_matrix)\n",
    "\n",
    "print(eigvals,eigvect)\n",
    "\n"
   ]
  },
  {
   "cell_type": "code",
   "execution_count": null,
   "metadata": {},
   "outputs": [
    {
     "name": "stdout",
     "output_type": "stream",
     "text": [
      "[[ 1.41421356+0.j  0.        +0.j]\n",
      " [ 0.        +0.j -1.41421356+0.j]]\n"
     ]
    }
   ],
   "source": [
    "coulmn_vec = eigvect[:,0]\n",
    "\n",
    "coulmn_vec_reshaped = eigvals[0] * coulmn_vec.reshape(2,2)\n",
    "print(coulmn_vec_reshaped)"
   ]
  }
 ],
 "metadata": {
  "interpreter": {
   "hash": "b41a744a86de3300de7585ad4c97d2eb2993be4b6e7144d9bb15cde71f3aeaf7"
  },
  "kernelspec": {
   "display_name": "Python 3.10.6 ('venv_luisa')",
   "language": "python",
   "name": "python3"
  },
  "language_info": {
   "codemirror_mode": {
    "name": "ipython",
    "version": 3
   },
   "file_extension": ".py",
   "mimetype": "text/x-python",
   "name": "python",
   "nbconvert_exporter": "python",
   "pygments_lexer": "ipython3",
   "version": "3.10.6"
  },
  "orig_nbformat": 4
 },
 "nbformat": 4,
 "nbformat_minor": 2
}
