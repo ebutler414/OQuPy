{
 "cells": [
  {
   "cell_type": "markdown",
   "metadata": {},
   "source": [
    "## Eoin's Minimum(ish) Working Example"
   ]
  },
  {
   "cell_type": "code",
   "execution_count": 1,
   "metadata": {},
   "outputs": [],
   "source": [
    "import oqupy\n",
    "import numpy as np\n",
    "import matplotlib.pyplot as plt"
   ]
  },
  {
   "cell_type": "code",
   "execution_count": 2,
   "metadata": {},
   "outputs": [
    {
     "data": {
      "text/plain": [
       "'0.4.0'"
      ]
     },
     "execution_count": 2,
     "metadata": {},
     "output_type": "execute_result"
    }
   ],
   "source": [
    "oqupy.__version__"
   ]
  },
  {
   "cell_type": "markdown",
   "metadata": {},
   "source": [
    "## System\n",
    "\n",
    "A four level structure with two manifolds"
   ]
  },
  {
   "cell_type": "markdown",
   "metadata": {},
   "source": [
    "Define system density matrix $\\rho$"
   ]
  },
  {
   "cell_type": "code",
   "execution_count": 3,
   "metadata": {},
   "outputs": [],
   "source": [
    "ρ_00 = np.array([[0. + 0*1j for _ in range(4)] for _ in range(4)])\n",
    "ρ_11 = np.array([[0. + 0*1j for _ in range(4)] for _ in range(4)])\n",
    "ρ_22 = np.array([[0. + 0*1j for _ in range(4)] for _ in range(4)])\n",
    "ρ_33 = np.array([[0. + 0*1j for _ in range(4)] for _ in range(4)])\n",
    "ρ_01 = np.array([[0. + 0*1j for _ in range(4)] for _ in range(4)])\n",
    "ρ_02 = np.array([[0. + 0*1j for _ in range(4)] for _ in range(4)])\n",
    "ρ_03 = np.array([[0. + 0*1j for _ in range(4)] for _ in range(4)])\n",
    "ρ_12 = np.array([[0. + 0*1j for _ in range(4)] for _ in range(4)])\n",
    "ρ_13 = np.array([[0. + 0*1j for _ in range(4)] for _ in range(4)])\n",
    "ρ_23 = np.array([[0. + 0*1j for _ in range(4)] for _ in range(4)])\n",
    "\n",
    "ρ_00[0][0] = 1 + 0*1j\n",
    "ρ_11[1][1] = 1 + 0*1j\n",
    "ρ_22[2][2] = 1 + 0*1j\n",
    "ρ_33[3][3] = 1 + 0*1j\n",
    "\n",
    "ρ_01[0][1] = 1 + 0*1j\n",
    "ρ_02[0][2] = 1 + 0*1j\n",
    "ρ_03[0][3] = 1 + 0*1j\n",
    "\n",
    "ρ_12[1][2] = 1 + 0*1j\n",
    "ρ_13[1][3] = 1 + 0*1j\n",
    "ρ_23[2][3] = 1 + 0*1j\n",
    "\n",
    "# unused\n",
    "sminus_u = np.transpose(ρ_01)\n",
    "splus_u = ρ_01\n",
    "sminus_g = np.transpose(ρ_23)\n",
    "splus_g = ρ_23"
   ]
  },
  {
   "cell_type": "markdown",
   "metadata": {},
   "source": [
    "### Contstruct initial state\n",
    "\n",
    "Initialise $\\rho$ in the thermal density matrix, with temperature given by\n",
    "\n",
    "$$\n",
    "-\\frac{\\lambda_u}{k_B\\log(a_0/a_1)}=20\\ \\text{K}\n",
    "$$"
   ]
  },
  {
   "cell_type": "code",
   "execution_count": 4,
   "metadata": {},
   "outputs": [
    {
     "name": "stdout",
     "output_type": "stream",
     "text": [
      "trace = \n",
      "1.0\n",
      "temp = \n",
      "20.0\n",
      "initial state = \n",
      "[[0.15378379+0.j 0.        +0.j 0.        +0.j 0.        +0.j]\n",
      " [0.        +0.j 0.29200445+0.j 0.        +0.j 0.        +0.j]\n",
      " [0.        +0.j 0.        +0.j 0.26220731+0.j 0.        +0.j]\n",
      " [0.        +0.j 0.        +0.j 0.        +0.j 0.29200445+0.j]]\n"
     ]
    }
   ],
   "source": [
    "kb = 0.131 # ħ = 1\n",
    "temperature = 20*kb\n",
    "\n",
    "λ_u = 1.68\n",
    "λ_g = 0.282\n",
    "\n",
    "a1 = 0.5/(0.5*(2+ np.exp(-λ_u/(temperature)) +np.exp(-λ_g/(temperature))))\n",
    "a3 = 0.5/(0.5*(2+ np.exp(-λ_u/(temperature)) +np.exp(-λ_g/(temperature))))\n",
    "a0 = a1*np.exp(-λ_u/(temperature))\n",
    "a2 = a3*np.exp(-λ_g/(temperature))\n",
    "\n",
    "print('trace = ')\n",
    "print(a0+a1+a2+a3)\n",
    "print('temp = ')\n",
    "print(-λ_u/(kb*np.log(a0/a1)))\n",
    "\n",
    "initial_state= a0*ρ_00 +  a1*ρ_11 +a2* ρ_22 +  a3*ρ_33\n",
    "\n",
    "print('initial state = ')\n",
    "print(initial_state)\n"
   ]
  },
  {
   "cell_type": "markdown",
   "metadata": {},
   "source": [
    "### Coupling to the environment\n",
    "\n",
    "Super ohmic spectral density with an exponential cutoff\n",
    "\n",
    "Note, make sure that two is factored into luisa's definition above\n",
    "$$\n",
    "J(\\omega) = 2 \\alpha\\frac{\\omega^3}{\\omega_c^2}\\exp(-\\frac{\\omega}{\\omega_c})\n",
    "$$\n",
    "\n",
    "Where $\\alpha = 0.0275$, $\\omega_c = 2\\pi$"
   ]
  },
  {
   "cell_type": "code",
   "execution_count": 5,
   "metadata": {},
   "outputs": [],
   "source": [
    "w_c = 2*np.pi #ω_c\n",
    "alpha1 = 0.0275 # A of J(ω)\n",
    "power_law = 1 # power law SD power\n",
    "\n",
    "correlations = oqupy.PowerLawSD(alpha=alpha1,\n",
    "                                zeta=power_law,\n",
    "                                cutoff=w_c,\n",
    "                                cutoff_type='exponential',\n",
    "                                temperature=temperature)\n",
    "\n",
    "tempo_parameters = oqupy.TempoParameters(dt=0.015, dkmax=50, epsrel=10**(-8))"
   ]
  },
  {
   "cell_type": "code",
   "execution_count": 6,
   "metadata": {},
   "outputs": [
    {
     "name": "stderr",
     "output_type": "stream",
     "text": [
      "/home/eobutler/dev/luisa_debug/oqupy/helpers.py:113: UserWarning: Matplotlib is currently using module://matplotlib_inline.backend_inline, which is a non-GUI backend, so cannot show the figure.\n",
      "  fig.show()\n"
     ]
    },
    {
     "data": {
      "image/png": "[encoded data removed]",
      "text/plain": [
       "<Figure size 640x480 with 1 Axes>"
      ]
     },
     "metadata": {},
     "output_type": "display_data"
    }
   ],
   "source": [
    "oqupy.helpers.plot_correlations_with_parameters(correlations,tempo_parameters)\n",
    "plt.show()"
   ]
  },
  {
   "cell_type": "code",
   "execution_count": 7,
   "metadata": {},
   "outputs": [],
   "source": [
    "Δ = 2.5\n",
    "Ω_z = 0#2*1e-1\n",
    "Ω_min = 0#02*1e-1\n",
    "Ω_plus = 0#02*1e-1\n",
    "\n",
    "# luisa what's this and where does this come from\n",
    "ϵ = np.sqrt(0.0037/(2 * alpha1 * w_c**(1-power_law)))\n",
    "\n",
    "OpPhon = (ρ_01 + ρ_23) + np.transpose(ρ_01 + ρ_23)\n",
    "OpsDef = ρ_00 + ρ_11 - ρ_22 - ρ_33\n",
    "bath = oqupy.Bath(ϵ*OpPhon + OpsDef, correlations)#bath = oqupy.Bath(ϵ*OpPhon + OpsDef, correlations)\n",
    "\n",
    "# def hamiltonian_t(t): \n",
    "#     return 0.5*np.array([[-Δ + λ_u, 0, Ω_z, Ω_plus],[0, -Δ - λ_u, Ω_min, Ω_z],[Ω_z, Ω_min, Δ + λ_g, 0],[Ω_plus, Ω_z, 0, Δ - λ_g]])\n",
    "\n",
    "hamiltonian = 0.5*np.array([[-Δ + λ_u, 0, Ω_z, Ω_plus],\n",
    "                            [0, -Δ - λ_u, Ω_min, Ω_z],\n",
    "                            [Ω_z, Ω_min, Δ + λ_g, 0],\n",
    "                            [Ω_plus, Ω_z, 0, Δ - λ_g]])\n",
    "\n",
    "system=oqupy.System(hamiltonian=hamiltonian)#,gammas=list(map(lambda x: x(0),γs)), lindblad_operators=list(map(lambda x: x(0),Ophot)))\n",
    "\n",
    "sivtmpo=oqupy.Tempo(system=system,bath=bath,parameters=tempo_parameters,\n",
    "              initial_state=initial_state,\n",
    "              start_time=0.0)\n",
    "              "
   ]
  },
  {
   "cell_type": "code",
   "execution_count": 8,
   "metadata": {},
   "outputs": [
    {
     "name": "stdout",
     "output_type": "stream",
     "text": [
      "--> PT-TEMPO computation:\n",
      "100.0%   33 of   33 [########################################] 00:00:05\n",
      "Elapsed time: 5.1s\n"
     ]
    }
   ],
   "source": [
    "compute_pt = True\n",
    "if compute_pt:\n",
    "    pt = oqupy.pt_tempo_compute(bath=bath,\n",
    "                    parameters=tempo_parameters,\n",
    "                    start_time=0.0,\n",
    "                    end_time=0.5,)\n",
    "\n",
    "    pt.export('luisa_pt.processTensor',overwrite=True)"
   ]
  },
  {
   "cell_type": "code",
   "execution_count": 9,
   "metadata": {},
   "outputs": [],
   "source": [
    "pt = oqupy.import_process_tensor('luisa_pt.processTensor')"
   ]
  },
  {
   "cell_type": "code",
   "execution_count": 10,
   "metadata": {},
   "outputs": [
    {
     "name": "stdout",
     "output_type": "stream",
     "text": [
      "--> Compute dynamics:\n",
      "100.0%   33 of   33 [########################################] 00:00:00\n",
      "Elapsed time: 0.6s\n"
     ]
    }
   ],
   "source": [
    "dyn = oqupy.compute_dynamics(\n",
    "                process_tensor=pt,\n",
    "                system=system,\n",
    "                initial_state=initial_state,\n",
    "                start_time=0\n",
    ")"
   ]
  },
  {
   "cell_type": "code",
   "execution_count": 11,
   "metadata": {},
   "outputs": [
    {
     "name": "stdout",
     "output_type": "stream",
     "text": [
      "--> TEMPO computation:\n",
      "100.0%   33 of   33 [########################################] 00:00:15\n",
      "Elapsed time: 15.5s\n"
     ]
    },
    {
     "data": {
      "text/plain": [
       "<oqupy.dynamics.Dynamics at 0x7f3d3eeec220>"
      ]
     },
     "execution_count": 11,
     "metadata": {},
     "output_type": "execute_result"
    }
   ],
   "source": [
    "sivtmpo.compute(end_time=0.5)"
   ]
  },
  {
   "cell_type": "code",
   "execution_count": 12,
   "metadata": {},
   "outputs": [],
   "source": [
    "dyn = sivtmpo.get_dynamics()"
   ]
  },
  {
   "cell_type": "code",
   "execution_count": 13,
   "metadata": {},
   "outputs": [
    {
     "data": {
      "image/png": "[encoded data removed]",
      "text/plain": [
       "<Figure size 640x480 with 1 Axes>"
      ]
     },
     "metadata": {},
     "output_type": "display_data"
    }
   ],
   "source": [
    "plt.plot(dyn.times,dyn.states[:,0,0].real, label=\"p_00\")\n",
    "plt.plot(dyn.times,dyn.states[:,1,1].real, label=\"p_11\")\n",
    "plt.plot(dyn.times,dyn.states[:,2,2].real, label=\"p_22\")\n",
    "plt.plot(dyn.times,dyn.states[:,3,3].real, label=\"p_33\")\n",
    "\n",
    "#plt.plot(t, (ρ_00 + ρ_11 + ρ_22 + ρ_33), label=\"sum\")\n",
    "#plt.plot(t, p_10.imag, label=r\"$\\Delta = $\"+f\"{delta:0.1f}\")\n",
    "plt.xlabel(r'$t/$ps')\n",
    "plt.ylabel(r'$ . $')\n",
    "#plt.ylim((0.0,1.0))\n",
    "plt.legend()\n",
    "plt.show()"
   ]
  },
  {
   "cell_type": "code",
   "execution_count": 14,
   "metadata": {},
   "outputs": [
    {
     "name": "stdout",
     "output_type": "stream",
     "text": [
      "20.0\n",
      "19.999999999999993\n"
     ]
    }
   ],
   "source": [
    "#temperature at intial time\n",
    "print(-λ_u/(kb*np.log(dyn.states[0,0,0].real/dyn.states[0,1,1].real)))\n",
    "print(-λ_g/(kb*np.log(dyn.states[0,2,2].real/dyn.states[0,3,3].real)))"
   ]
  },
  {
   "cell_type": "code",
   "execution_count": 15,
   "metadata": {},
   "outputs": [
    {
     "name": "stdout",
     "output_type": "stream",
     "text": [
      "20.50932178730898\n",
      "20.49924165717291\n"
     ]
    }
   ],
   "source": [
    "#temperature at final time\n",
    "print(-λ_u/(kb*np.log(dyn.states[-1,0,0].real/dyn.states[-1,1,1].real)))\n",
    "print(-λ_g/(kb*np.log(dyn.states[-1,2,2].real/dyn.states[-1,3,3].real)))"
   ]
  },
  {
   "cell_type": "code",
   "execution_count": 16,
   "metadata": {},
   "outputs": [
    {
     "name": "stdout",
     "output_type": "stream",
     "text": [
      "0.44578824067344636\n",
      "0.5542117593265538\n",
      "1.0\n"
     ]
    }
   ],
   "source": [
    "print(dyn.states[0,0,0].real + dyn.states[0,1,1].real)\n",
    "print(dyn.states[0,2,2].real +dyn.states[0,3,3].real)\n",
    "print(dyn.states[0,0,0].real + dyn.states[0,1,1].real + dyn.states[0,2,2].real +dyn.states[0,3,3].real)"
   ]
  },
  {
   "cell_type": "code",
   "execution_count": 17,
   "metadata": {},
   "outputs": [
    {
     "name": "stdout",
     "output_type": "stream",
     "text": [
      "0.445787798775265\n",
      "0.5542117762548222\n",
      "0.9999995750300872\n"
     ]
    }
   ],
   "source": [
    "print(dyn.states[-1,0,0].real + dyn.states[-1,1,1].real)\n",
    "print(dyn.states[-1,2,2].real + dyn.states[-1,3,3].real)\n",
    "print(dyn.states[-1,0,0].real + dyn.states[-1,1,1].real + dyn.states[-1,2,2].real + dyn.states[-1,3,3].real)"
   ]
  },
  {
   "cell_type": "code",
   "execution_count": 18,
   "metadata": {},
   "outputs": [
    {
     "name": "stdout",
     "output_type": "stream",
     "text": [
      "0.445787798775265\n",
      "0.5542117762548222\n",
      "0.9999995750300872\n"
     ]
    }
   ],
   "source": [
    "print(dyn.states[-1,0,0].real + dyn.states[-1,1,1].real)\n",
    "print(dyn.states[-1,2,2].real + dyn.states[-1,3,3].real)\n",
    "print(dyn.states[-1,0,0].real + dyn.states[-1,1,1].real + dyn.states[-1,2,2].real + dyn.states[-1,3,3].real)"
   ]
  },
  {
   "cell_type": "code",
   "execution_count": null,
   "metadata": {},
   "outputs": [],
   "source": []
  }
 ],
 "metadata": {
  "interpreter": {
   "hash": "b41a744a86de3300de7585ad4c97d2eb2993be4b6e7144d9bb15cde71f3aeaf7"
  },
  "kernelspec": {
   "display_name": "Python 3.10.6 ('venv_luisa')",
   "language": "python",
   "name": "python3"
  },
  "language_info": {
   "codemirror_mode": {
    "name": "ipython",
    "version": 3
   },
   "file_extension": ".py",
   "mimetype": "text/x-python",
   "name": "python",
   "nbconvert_exporter": "python",
   "pygments_lexer": "ipython3",
   "version": "3.10.6"
  }
 },
 "nbformat": 4,
 "nbformat_minor": 4
}
