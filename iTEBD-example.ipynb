{
 "cells": [
  {
   "cell_type": "code",
   "execution_count": null,
   "id": "8a85fd69",
   "metadata": {},
   "outputs": [],
   "source": [
    "# Based on original iTEBD-example.ipynb from https://github.com/val-link/iTEBD-TEMPO.git by Valentin Link\n",
    "# Adapted to do a simple simulation using OQuPy, and using a modified iTEBD-TEMPO code which uses OQuPy's BathCorrelations class by Paul Eastham\n"
   ]
  },
  {
   "cell_type": "code",
   "execution_count": 7,
   "id": "cac97d5e",
   "metadata": {},
   "outputs": [],
   "source": [
    "import oqupy as oqupy\n",
    "from oqupy.iTEBD_TEMPO import iTEBD_TEMPO\n",
    "from oqupy.iTEBD_TEMPO_useoqupybath import iTEBD_TEMPO_oqupy\n",
    "import numpy as np\n",
    "import matplotlib.pyplot as plt\n",
    "import qutip as qt"
   ]
  },
  {
   "cell_type": "code",
   "execution_count": 8,
   "id": "0a434573",
   "metadata": {},
   "outputs": [
    {
     "name": "stderr",
     "output_type": "stream",
     "text": [
      "building influence functional:   0%|          | 0/100 [00:00<?, ?it/s]C:\\Users\\preas\\AppData\\Local\\Temp\\ipykernel_3124\\1407429750.py:15: DeprecationWarning: `alltrue` is deprecated as of NumPy 1.25.0, and will be removed in NumPy 2.0. Please use `all` instead.\n",
      "  MyiTEBD_TEMPO_oqupy.compute_f(rank=100, rtol=1e-7)\n",
      "building influence functional: 100%|██████████| 100/100 [00:00<00:00, 274.16it/s]"
     ]
    },
    {
     "name": "stdout",
     "output_type": "stream",
     "text": [
      "rank  83\n"
     ]
    },
    {
     "name": "stderr",
     "output_type": "stream",
     "text": [
      "\n"
     ]
    }
   ],
   "source": [
    "sigma_z = oqupy.operators.sigma(\"z\")\n",
    "omega_cutoff = 3.04 \n",
    "alpha = 0.126\n",
    "temperature = 0.1309\n",
    "correlations = oqupy.PowerLawSD(alpha=alpha,\n",
    "                                zeta=3,\n",
    "                                cutoff=omega_cutoff,\n",
    "                                cutoff_type='gaussian',\n",
    "                                temperature=temperature)\n",
    "bath = oqupy.Bath(sigma_z/2.0, correlations)\n",
    "# uses a modified version of Link's iTEBD_TEMPO class, which will take the bath correlation defined in OQuPy\n",
    "# other parameters remain as in the original, i.e. eigenvalues of the coupling operator, timestep, cut-off.\n",
    "Delta=0.1\n",
    "MyiTEBD_TEMPO_oqupy = iTEBD_TEMPO_oqupy(np.diagonal(sigma_z/2), Delta, correlations, 100)\n",
    "MyiTEBD_TEMPO_oqupy.compute_f(rank=100, rtol=1e-7) \n"
   ]
  },
  {
   "cell_type": "code",
   "execution_count": 9,
   "id": "7f3668d9",
   "metadata": {},
   "outputs": [
    {
     "name": "stderr",
     "output_type": "stream",
     "text": [
      "time evolution running: 100%|██████████| 200/200 [00:00<00:00, 674.96it/s]\n"
     ]
    }
   ],
   "source": [
    "# time evolution using iTEBD\n",
    "H_S=0.0*oqupy.operators.sigma('z') # free Hamiltonian\n",
    "Rho_0=oqupy.operators.spin_dm('x+')\n",
    "N=200\n",
    "Rho_t = MyiTEBD_TEMPO_oqupy.evolve(H_S, Rho_0, N)"
   ]
  },
  {
   "cell_type": "code",
   "execution_count": 10,
   "id": "b9fe8f9b",
   "metadata": {},
   "outputs": [
    {
     "name": "stdout",
     "output_type": "stream",
     "text": [
      "--> PT-TEMPO computation:\n",
      " 58.5%  117 of  200 [#######################-----------------] 00:00:43\n",
      "Elapsed time: 43.5s\n"
     ]
    },
    {
     "ename": "KeyboardInterrupt",
     "evalue": "",
     "output_type": "error",
     "traceback": [
      "\u001b[1;31m---------------------------------------------------------------------------\u001b[0m",
      "\u001b[1;31mKeyboardInterrupt\u001b[0m                         Traceback (most recent call last)",
      "Cell \u001b[1;32mIn[10], line 7\u001b[0m\n\u001b[0;32m      4\u001b[0m sigma_z \u001b[38;5;241m=\u001b[39m oqupy\u001b[38;5;241m.\u001b[39moperators\u001b[38;5;241m.\u001b[39msigma(\u001b[38;5;124m\"\u001b[39m\u001b[38;5;124mz\u001b[39m\u001b[38;5;124m\"\u001b[39m)\n\u001b[0;32m      5\u001b[0m tempo_parameters \u001b[38;5;241m=\u001b[39m oqupy\u001b[38;5;241m.\u001b[39mTempoParameters(dt\u001b[38;5;241m=\u001b[39mDelta, epsrel\u001b[38;5;241m=\u001b[39m\u001b[38;5;241m10\u001b[39m\u001b[38;5;241m*\u001b[39m\u001b[38;5;241m*\u001b[39m(\u001b[38;5;241m-\u001b[39m\u001b[38;5;241m7\u001b[39m),dkmax\u001b[38;5;241m=\u001b[39m\u001b[38;5;241m100\u001b[39m)\n\u001b[1;32m----> 7\u001b[0m process_tensor \u001b[38;5;241m=\u001b[39m \u001b[43moqupy\u001b[49m\u001b[38;5;241;43m.\u001b[39;49m\u001b[43mpt_tempo_compute\u001b[49m\u001b[43m(\u001b[49m\u001b[43mbath\u001b[49m\u001b[38;5;241;43m=\u001b[39;49m\u001b[43mbath\u001b[49m\u001b[43m,\u001b[49m\n\u001b[0;32m      8\u001b[0m \u001b[43m                                        \u001b[49m\u001b[43mstart_time\u001b[49m\u001b[38;5;241;43m=\u001b[39;49m\u001b[38;5;241;43m0.0\u001b[39;49m\u001b[43m,\u001b[49m\n\u001b[0;32m      9\u001b[0m \u001b[43m                                        \u001b[49m\u001b[43mend_time\u001b[49m\u001b[38;5;241;43m=\u001b[39;49m\u001b[43mDelta\u001b[49m\u001b[38;5;241;43m*\u001b[39;49m\u001b[43mN\u001b[49m\u001b[43m,\u001b[49m\n\u001b[0;32m     10\u001b[0m \u001b[43m                                        \u001b[49m\u001b[43mparameters\u001b[49m\u001b[38;5;241;43m=\u001b[39;49m\u001b[43mtempo_parameters\u001b[49m\u001b[43m)\u001b[49m\n",
      "File \u001b[1;32mc:\\Users\\preas\\OQuPy\\oqupy\\pt_tempo.py:374\u001b[0m, in \u001b[0;36mpt_tempo_compute\u001b[1;34m(bath, start_time, end_time, parameters, unique, tolerance, process_tensor_file, overwrite, backend_config, progress_type, name, description)\u001b[0m\n\u001b[0;32m    360\u001b[0m     parameters \u001b[38;5;241m=\u001b[39m guess_tempo_parameters(bath\u001b[38;5;241m=\u001b[39mbath,\n\u001b[0;32m    361\u001b[0m                                         start_time\u001b[38;5;241m=\u001b[39mstart_time,\n\u001b[0;32m    362\u001b[0m                                         end_time\u001b[38;5;241m=\u001b[39mend_time,\n\u001b[0;32m    363\u001b[0m                                         tolerance\u001b[38;5;241m=\u001b[39mtolerance)\n\u001b[0;32m    364\u001b[0m ptt \u001b[38;5;241m=\u001b[39m PtTempo(bath,\n\u001b[0;32m    365\u001b[0m               start_time,\n\u001b[0;32m    366\u001b[0m               end_time,\n\u001b[1;32m   (...)\u001b[0m\n\u001b[0;32m    372\u001b[0m               name,\n\u001b[0;32m    373\u001b[0m               description)\n\u001b[1;32m--> 374\u001b[0m \u001b[43mptt\u001b[49m\u001b[38;5;241;43m.\u001b[39;49m\u001b[43mcompute\u001b[49m\u001b[43m(\u001b[49m\u001b[43mprogress_type\u001b[49m\u001b[38;5;241;43m=\u001b[39;49m\u001b[43mprogress_type\u001b[49m\u001b[43m)\u001b[49m\n\u001b[0;32m    375\u001b[0m \u001b[38;5;28;01mreturn\u001b[39;00m ptt\u001b[38;5;241m.\u001b[39mget_process_tensor()\n",
      "File \u001b[1;32mc:\\Users\\preas\\OQuPy\\oqupy\\pt_tempo.py:276\u001b[0m, in \u001b[0;36mPtTempo.compute\u001b[1;34m(self, progress_type)\u001b[0m\n\u001b[0;32m    274\u001b[0m title \u001b[38;5;241m=\u001b[39m \u001b[38;5;124m\"\u001b[39m\u001b[38;5;124m--> PT-TEMPO computation:\u001b[39m\u001b[38;5;124m\"\u001b[39m\n\u001b[0;32m    275\u001b[0m \u001b[38;5;28;01mwith\u001b[39;00m progress(\u001b[38;5;28mself\u001b[39m\u001b[38;5;241m.\u001b[39m_backend_instance\u001b[38;5;241m.\u001b[39mnum_steps, title) \u001b[38;5;28;01mas\u001b[39;00m prog_bar:\n\u001b[1;32m--> 276\u001b[0m     \u001b[38;5;28;01mwhile\u001b[39;00m \u001b[38;5;28;43mself\u001b[39;49m\u001b[38;5;241;43m.\u001b[39;49m\u001b[43m_backend_instance\u001b[49m\u001b[38;5;241;43m.\u001b[39;49m\u001b[43mcompute_step\u001b[49m\u001b[43m(\u001b[49m\u001b[43m)\u001b[49m:\n\u001b[0;32m    277\u001b[0m         prog_bar\u001b[38;5;241m.\u001b[39mupdate(\u001b[38;5;28mself\u001b[39m\u001b[38;5;241m.\u001b[39m_backend_instance\u001b[38;5;241m.\u001b[39mstep)\n\u001b[0;32m    278\u001b[0m     prog_bar\u001b[38;5;241m.\u001b[39mupdate(\u001b[38;5;28mself\u001b[39m\u001b[38;5;241m.\u001b[39m_backend_instance\u001b[38;5;241m.\u001b[39mstep)\n",
      "File \u001b[1;32mc:\\Users\\preas\\OQuPy\\oqupy\\backends\\pt_tempo_backend.py:267\u001b[0m, in \u001b[0;36mPtTempoBackend.compute_step\u001b[1;34m(self)\u001b[0m\n\u001b[0;32m    260\u001b[0m     \u001b[38;5;28mself\u001b[39m\u001b[38;5;241m.\u001b[39m_mps \u001b[38;5;241m=\u001b[39m na\u001b[38;5;241m.\u001b[39mjoin(\u001b[38;5;28mself\u001b[39m\u001b[38;5;241m.\u001b[39m_mps,\n\u001b[0;32m    261\u001b[0m                         one,\n\u001b[0;32m    262\u001b[0m                         copy\u001b[38;5;241m=\u001b[39m\u001b[38;5;28;01mFalse\u001b[39;00m,\n\u001b[0;32m    263\u001b[0m                         name\u001b[38;5;241m=\u001b[39m\u001b[38;5;124m\"\u001b[39m\u001b[38;5;124mThee updated MPS\u001b[39m\u001b[38;5;124m\"\u001b[39m)\n\u001b[0;32m    265\u001b[0m mpo \u001b[38;5;241m=\u001b[39m \u001b[38;5;28mself\u001b[39m\u001b[38;5;241m.\u001b[39m_mpo\u001b[38;5;241m.\u001b[39mcopy()\n\u001b[1;32m--> 267\u001b[0m \u001b[38;5;28;43mself\u001b[39;49m\u001b[38;5;241;43m.\u001b[39;49m\u001b[43m_mps\u001b[49m\u001b[38;5;241;43m.\u001b[39;49m\u001b[43mzip_up\u001b[49m\u001b[43m(\u001b[49m\u001b[43mmpo\u001b[49m\u001b[43m,\u001b[49m\n\u001b[0;32m    268\u001b[0m \u001b[43m                 \u001b[49m\u001b[43maxes\u001b[49m\u001b[38;5;241;43m=\u001b[39;49m\u001b[43m[\u001b[49m\u001b[43m(\u001b[49m\u001b[38;5;241;43m0\u001b[39;49m\u001b[43m,\u001b[49m\u001b[38;5;241;43m0\u001b[39;49m\u001b[43m)\u001b[49m\u001b[43m]\u001b[49m\u001b[43m,\u001b[49m\n\u001b[0;32m    269\u001b[0m \u001b[43m                 \u001b[49m\u001b[43mright_index\u001b[49m\u001b[38;5;241;43m=\u001b[39;49m\u001b[38;5;241;43m-\u001b[39;49m\u001b[38;5;241;43m1\u001b[39;49m\u001b[43m,\u001b[49m\n\u001b[0;32m    270\u001b[0m \u001b[43m                 \u001b[49m\u001b[43mdirection\u001b[49m\u001b[38;5;241;43m=\u001b[39;49m\u001b[38;5;124;43m\"\u001b[39;49m\u001b[38;5;124;43mleft\u001b[39;49m\u001b[38;5;124;43m\"\u001b[39;49m\u001b[43m,\u001b[49m\n\u001b[0;32m    271\u001b[0m \u001b[43m                 \u001b[49m\u001b[43mmax_singular_values\u001b[49m\u001b[38;5;241;43m=\u001b[39;49m\u001b[38;5;28;43;01mNone\u001b[39;49;00m\u001b[43m,\u001b[49m\n\u001b[0;32m    272\u001b[0m \u001b[43m                 \u001b[49m\u001b[43mmax_truncation_err\u001b[49m\u001b[38;5;241;43m=\u001b[39;49m\u001b[38;5;28;43mself\u001b[39;49m\u001b[38;5;241;43m.\u001b[39;49m\u001b[43m_epsrel\u001b[49m\u001b[43m,\u001b[49m\n\u001b[0;32m    273\u001b[0m \u001b[43m                 \u001b[49m\u001b[43mrelative\u001b[49m\u001b[38;5;241;43m=\u001b[39;49m\u001b[38;5;28;43;01mTrue\u001b[39;49;00m\u001b[43m,\u001b[49m\n\u001b[0;32m    274\u001b[0m \u001b[43m                 \u001b[49m\u001b[43mcopy\u001b[49m\u001b[38;5;241;43m=\u001b[39;49m\u001b[38;5;28;43;01mFalse\u001b[39;49;00m\u001b[43m)\u001b[49m\n\u001b[0;32m    276\u001b[0m \u001b[38;5;28mself\u001b[39m\u001b[38;5;241m.\u001b[39m_mps\u001b[38;5;241m.\u001b[39msvd_sweep(from_index\u001b[38;5;241m=\u001b[39m\u001b[38;5;28mself\u001b[39m\u001b[38;5;241m.\u001b[39m_step\u001b[38;5;241m-\u001b[39m\u001b[38;5;241m2\u001b[39m,\n\u001b[0;32m    277\u001b[0m                     to_index\u001b[38;5;241m=\u001b[39m\u001b[38;5;241m-\u001b[39m\u001b[38;5;241m1\u001b[39m,\n\u001b[0;32m    278\u001b[0m                     max_singular_values\u001b[38;5;241m=\u001b[39m\u001b[38;5;28;01mNone\u001b[39;00m,\n\u001b[0;32m    279\u001b[0m                     max_truncation_err\u001b[38;5;241m=\u001b[39m\u001b[38;5;28mself\u001b[39m\u001b[38;5;241m.\u001b[39m_epsrel,\n\u001b[0;32m    280\u001b[0m                     relative\u001b[38;5;241m=\u001b[39m\u001b[38;5;28;01mTrue\u001b[39;00m)\n\u001b[0;32m    282\u001b[0m \u001b[38;5;28;01mreturn\u001b[39;00m \u001b[38;5;28mself\u001b[39m\u001b[38;5;241m.\u001b[39m_step \u001b[38;5;241m<\u001b[39m \u001b[38;5;28mself\u001b[39m\u001b[38;5;241m.\u001b[39m_num_steps\n",
      "File \u001b[1;32mc:\\Users\\preas\\OQuPy\\oqupy\\backends\\node_array.py:541\u001b[0m, in \u001b[0;36mNodeArray.zip_up\u001b[1;34m(self, array, axes, left_index, right_index, direction, max_singular_values, max_truncation_err, relative, copy)\u001b[0m\n\u001b[0;32m    537\u001b[0m \u001b[38;5;66;03m# inner_bond (0 / -1)\u001b[39;00m\n\u001b[0;32m    538\u001b[0m v_edges \u001b[38;5;241m=\u001b[39m [\u001b[38;5;28mself\u001b[39m\u001b[38;5;241m.\u001b[39mbond_edges[ia \u001b[38;5;241m+\u001b[39m inner_bond],\n\u001b[0;32m    539\u001b[0m            b\u001b[38;5;241m.\u001b[39mbond_edges[ib \u001b[38;5;241m+\u001b[39m inner_bond]]\n\u001b[1;32m--> 541\u001b[0m u, s, vh, trun_vals \u001b[38;5;241m=\u001b[39m \u001b[43mtn\u001b[49m\u001b[38;5;241;43m.\u001b[39;49m\u001b[43msplit_node_full_svd\u001b[49m\u001b[43m(\u001b[49m\n\u001b[0;32m    542\u001b[0m \u001b[43m    \u001b[49m\u001b[43mnode\u001b[49m\u001b[38;5;241;43m=\u001b[39;49m\u001b[43mcontracted_node\u001b[49m\u001b[43m,\u001b[49m\n\u001b[0;32m    543\u001b[0m \u001b[43m    \u001b[49m\u001b[43mleft_edges\u001b[49m\u001b[38;5;241;43m=\u001b[39;49m\u001b[43mu_edges\u001b[49m\u001b[43m,\u001b[49m\n\u001b[0;32m    544\u001b[0m \u001b[43m    \u001b[49m\u001b[43mright_edges\u001b[49m\u001b[38;5;241;43m=\u001b[39;49m\u001b[43mv_edges\u001b[49m\u001b[43m,\u001b[49m\n\u001b[0;32m    545\u001b[0m \u001b[43m    \u001b[49m\u001b[43mmax_singular_values\u001b[49m\u001b[38;5;241;43m=\u001b[39;49m\u001b[43mmax_singular_values\u001b[49m\u001b[43m,\u001b[49m\n\u001b[0;32m    546\u001b[0m \u001b[43m    \u001b[49m\u001b[43mmax_truncation_err\u001b[49m\u001b[38;5;241;43m=\u001b[39;49m\u001b[43mmax_truncation_err\u001b[49m\u001b[43m,\u001b[49m\n\u001b[0;32m    547\u001b[0m \u001b[43m    \u001b[49m\u001b[43mrelative\u001b[49m\u001b[38;5;241;43m=\u001b[39;49m\u001b[43mrelative\u001b[49m\u001b[43m)\u001b[49m\n\u001b[0;32m    548\u001b[0m singular_values\u001b[38;5;241m.\u001b[39mappend((s\u001b[38;5;241m.\u001b[39mtensor\u001b[38;5;241m.\u001b[39mdiagonal(),trun_vals))\n\u001b[0;32m    549\u001b[0m \u001b[38;5;28mself\u001b[39m\u001b[38;5;241m.\u001b[39mnodes[ia] \u001b[38;5;241m=\u001b[39m u\n",
      "File \u001b[1;32mc:\\Users\\preas\\OQuPy\\.venv\\Lib\\site-packages\\tensornetwork\\network_operations.py:545\u001b[0m, in \u001b[0;36msplit_node_full_svd\u001b[1;34m(node, left_edges, right_edges, max_singular_values, max_truncation_err, relative, left_name, middle_name, right_name, left_edge_name, right_edge_name)\u001b[0m\n\u001b[0;32m    542\u001b[0m backend \u001b[38;5;241m=\u001b[39m node\u001b[38;5;241m.\u001b[39mbackend\n\u001b[0;32m    543\u001b[0m transp_tensor \u001b[38;5;241m=\u001b[39m node\u001b[38;5;241m.\u001b[39mtensor_from_edge_order(left_edges \u001b[38;5;241m+\u001b[39m right_edges)\n\u001b[1;32m--> 545\u001b[0m u, s, vh, trun_vals \u001b[38;5;241m=\u001b[39m \u001b[43mbackend\u001b[49m\u001b[38;5;241;43m.\u001b[39;49m\u001b[43msvd\u001b[49m\u001b[43m(\u001b[49m\u001b[43mtransp_tensor\u001b[49m\u001b[43m,\u001b[49m\n\u001b[0;32m    546\u001b[0m \u001b[43m                                  \u001b[49m\u001b[38;5;28;43mlen\u001b[39;49m\u001b[43m(\u001b[49m\u001b[43mleft_edges\u001b[49m\u001b[43m)\u001b[49m\u001b[43m,\u001b[49m\n\u001b[0;32m    547\u001b[0m \u001b[43m                                  \u001b[49m\u001b[43mmax_singular_values\u001b[49m\u001b[43m,\u001b[49m\n\u001b[0;32m    548\u001b[0m \u001b[43m                                  \u001b[49m\u001b[43mmax_truncation_err\u001b[49m\u001b[43m,\u001b[49m\n\u001b[0;32m    549\u001b[0m \u001b[43m                                  \u001b[49m\u001b[43mrelative\u001b[49m\u001b[38;5;241;43m=\u001b[39;49m\u001b[43mrelative\u001b[49m\u001b[43m)\u001b[49m\n\u001b[0;32m    550\u001b[0m left_node \u001b[38;5;241m=\u001b[39m Node(u,\n\u001b[0;32m    551\u001b[0m                  name\u001b[38;5;241m=\u001b[39mleft_name,\n\u001b[0;32m    552\u001b[0m                  axis_names\u001b[38;5;241m=\u001b[39mleft_axis_names,\n\u001b[0;32m    553\u001b[0m                  backend\u001b[38;5;241m=\u001b[39mbackend)\n\u001b[0;32m    554\u001b[0m singular_values_node \u001b[38;5;241m=\u001b[39m Node(backend\u001b[38;5;241m.\u001b[39mdiagflat(s),\n\u001b[0;32m    555\u001b[0m                             name\u001b[38;5;241m=\u001b[39mmiddle_name,\n\u001b[0;32m    556\u001b[0m                             axis_names\u001b[38;5;241m=\u001b[39mcenter_axis_names,\n\u001b[0;32m    557\u001b[0m                             backend\u001b[38;5;241m=\u001b[39mbackend)\n",
      "File \u001b[1;32mc:\\Users\\preas\\OQuPy\\.venv\\Lib\\site-packages\\tensornetwork\\backends\\numpy\\numpy_backend.py:622\u001b[0m, in \u001b[0;36mNumPyBackend.svd\u001b[1;34m(self, tensor, pivot_axis, max_singular_values, max_truncation_error, relative)\u001b[0m\n\u001b[0;32m    614\u001b[0m \u001b[38;5;28;01mdef\u001b[39;00m \u001b[38;5;21msvd\u001b[39m(\n\u001b[0;32m    615\u001b[0m     \u001b[38;5;28mself\u001b[39m,\n\u001b[0;32m    616\u001b[0m     tensor: Tensor,\n\u001b[1;32m   (...)\u001b[0m\n\u001b[0;32m    620\u001b[0m     relative: Optional[\u001b[38;5;28mbool\u001b[39m] \u001b[38;5;241m=\u001b[39m \u001b[38;5;28;01mFalse\u001b[39;00m\n\u001b[0;32m    621\u001b[0m ) \u001b[38;5;241m-\u001b[39m\u001b[38;5;241m>\u001b[39m Tuple[Tensor, Tensor, Tensor, Tensor]:\n\u001b[1;32m--> 622\u001b[0m   \u001b[38;5;28;01mreturn\u001b[39;00m \u001b[43mdecompositions\u001b[49m\u001b[38;5;241;43m.\u001b[39;49m\u001b[43msvd\u001b[49m\u001b[43m(\u001b[49m\u001b[43mnp\u001b[49m\u001b[43m,\u001b[49m\n\u001b[0;32m    623\u001b[0m \u001b[43m                            \u001b[49m\u001b[43mtensor\u001b[49m\u001b[43m,\u001b[49m\n\u001b[0;32m    624\u001b[0m \u001b[43m                            \u001b[49m\u001b[43mpivot_axis\u001b[49m\u001b[43m,\u001b[49m\n\u001b[0;32m    625\u001b[0m \u001b[43m                            \u001b[49m\u001b[43mmax_singular_values\u001b[49m\u001b[43m,\u001b[49m\n\u001b[0;32m    626\u001b[0m \u001b[43m                            \u001b[49m\u001b[43mmax_truncation_error\u001b[49m\u001b[43m,\u001b[49m\n\u001b[0;32m    627\u001b[0m \u001b[43m                            \u001b[49m\u001b[43mrelative\u001b[49m\u001b[38;5;241;43m=\u001b[39;49m\u001b[43mrelative\u001b[49m\u001b[43m)\u001b[49m\n",
      "File \u001b[1;32mc:\\Users\\preas\\OQuPy\\.venv\\Lib\\site-packages\\tensornetwork\\backends\\numpy\\decompositions.py:36\u001b[0m, in \u001b[0;36msvd\u001b[1;34m(np, tensor, pivot_axis, max_singular_values, max_truncation_error, relative)\u001b[0m\n\u001b[0;32m     33\u001b[0m right_dims \u001b[38;5;241m=\u001b[39m tensor\u001b[38;5;241m.\u001b[39mshape[pivot_axis:]\n\u001b[0;32m     35\u001b[0m tensor \u001b[38;5;241m=\u001b[39m np\u001b[38;5;241m.\u001b[39mreshape(tensor, [numpy\u001b[38;5;241m.\u001b[39mprod(left_dims), numpy\u001b[38;5;241m.\u001b[39mprod(right_dims)])\n\u001b[1;32m---> 36\u001b[0m u, s, vh \u001b[38;5;241m=\u001b[39m \u001b[43mnp\u001b[49m\u001b[38;5;241;43m.\u001b[39;49m\u001b[43mlinalg\u001b[49m\u001b[38;5;241;43m.\u001b[39;49m\u001b[43msvd\u001b[49m\u001b[43m(\u001b[49m\u001b[43mtensor\u001b[49m\u001b[43m,\u001b[49m\u001b[43m \u001b[49m\u001b[43mfull_matrices\u001b[49m\u001b[38;5;241;43m=\u001b[39;49m\u001b[38;5;28;43;01mFalse\u001b[39;49;00m\u001b[43m)\u001b[49m\n\u001b[0;32m     38\u001b[0m \u001b[38;5;28;01mif\u001b[39;00m max_singular_values \u001b[38;5;129;01mis\u001b[39;00m \u001b[38;5;28;01mNone\u001b[39;00m:\n\u001b[0;32m     39\u001b[0m   max_singular_values \u001b[38;5;241m=\u001b[39m np\u001b[38;5;241m.\u001b[39msize(s)\n",
      "File \u001b[1;32mc:\\Users\\preas\\OQuPy\\.venv\\Lib\\site-packages\\numpy\\linalg\\linalg.py:1681\u001b[0m, in \u001b[0;36msvd\u001b[1;34m(a, full_matrices, compute_uv, hermitian)\u001b[0m\n\u001b[0;32m   1678\u001b[0m         gufunc \u001b[38;5;241m=\u001b[39m _umath_linalg\u001b[38;5;241m.\u001b[39msvd_n_s\n\u001b[0;32m   1680\u001b[0m signature \u001b[38;5;241m=\u001b[39m \u001b[38;5;124m'\u001b[39m\u001b[38;5;124mD->DdD\u001b[39m\u001b[38;5;124m'\u001b[39m \u001b[38;5;28;01mif\u001b[39;00m isComplexType(t) \u001b[38;5;28;01melse\u001b[39;00m \u001b[38;5;124m'\u001b[39m\u001b[38;5;124md->ddd\u001b[39m\u001b[38;5;124m'\u001b[39m\n\u001b[1;32m-> 1681\u001b[0m u, s, vh \u001b[38;5;241m=\u001b[39m \u001b[43mgufunc\u001b[49m\u001b[43m(\u001b[49m\u001b[43ma\u001b[49m\u001b[43m,\u001b[49m\u001b[43m \u001b[49m\u001b[43msignature\u001b[49m\u001b[38;5;241;43m=\u001b[39;49m\u001b[43msignature\u001b[49m\u001b[43m,\u001b[49m\u001b[43m \u001b[49m\u001b[43mextobj\u001b[49m\u001b[38;5;241;43m=\u001b[39;49m\u001b[43mextobj\u001b[49m\u001b[43m)\u001b[49m\n\u001b[0;32m   1682\u001b[0m u \u001b[38;5;241m=\u001b[39m u\u001b[38;5;241m.\u001b[39mastype(result_t, copy\u001b[38;5;241m=\u001b[39m\u001b[38;5;28;01mFalse\u001b[39;00m)\n\u001b[0;32m   1683\u001b[0m s \u001b[38;5;241m=\u001b[39m s\u001b[38;5;241m.\u001b[39mastype(_realType(result_t), copy\u001b[38;5;241m=\u001b[39m\u001b[38;5;28;01mFalse\u001b[39;00m)\n",
      "\u001b[1;31mKeyboardInterrupt\u001b[0m: "
     ]
    }
   ],
   "source": [
    "# let's do it using OQuPy\n",
    "sigma_x = oqupy.operators.sigma(\"x\")\n",
    "sigma_y = oqupy.operators.sigma(\"y\")\n",
    "sigma_z = oqupy.operators.sigma(\"z\")\n",
    "tempo_parameters = oqupy.TempoParameters(dt=Delta, epsrel=10**(-7),dkmax=100)\n",
    "\n",
    "process_tensor = oqupy.pt_tempo_compute(bath=bath,\n",
    "                                        start_time=0.0,\n",
    "                                        end_time=Delta*N,\n",
    "                                        parameters=tempo_parameters)"
   ]
  },
  {
   "cell_type": "code",
   "execution_count": null,
   "id": "81a2330c",
   "metadata": {},
   "outputs": [
    {
     "name": "stdout",
     "output_type": "stream",
     "text": [
      "--> Compute dynamics:\n",
      "100.0%  200 of  200 [########################################] 00:00:05\n",
      "Elapsed time: 5.0s\n"
     ]
    }
   ],
   "source": [
    "def hamiltonian_t(t):\n",
    "    return 0.0 * sigma_z\n",
    "\n",
    "system = oqupy.TimeDependentSystem(hamiltonian_t)\n",
    "dynamics = oqupy.compute_dynamics(\n",
    "       process_tensor=process_tensor,        \n",
    "       system=system,\n",
    "       initial_state=Rho_0,\n",
    "       start_time=0.0)\n",
    "t, s_x = dynamics.expectations(sigma_x, real=True)\n",
    "_, s_y = dynamics.expectations(sigma_y, real=True)\n",
    "_, s_z = dynamics.expectations(sigma_z, real=True)\n"
   ]
  },
  {
   "cell_type": "code",
   "execution_count": null,
   "id": "43c7cc8a",
   "metadata": {},
   "outputs": [
    {
     "data": {
      "text/plain": [
       "[<matplotlib.lines.Line2D at 0x1a663e38b00>]"
      ]
     },
     "execution_count": 20,
     "metadata": {},
     "output_type": "execute_result"
    },
    {
     "data": {
      "image/png": "[encoded data removed]",
      "text/plain": [
       "<Figure size 640x480 with 1 Axes>"
      ]
     },
     "metadata": {},
     "output_type": "display_data"
    }
   ],
   "source": [
    "T_eval = np.linspace(0, N * Delta, N + 1)\n",
    "j=0.5\n",
    "plt.plot(T_eval,np.einsum('ij,tji->t', qt.operators.jmat(j,'x').full(), Rho_t).real/ j)\n",
    "plt.plot(t,s_x,'x')"
   ]
  },
  {
   "cell_type": "code",
   "execution_count": 1,
   "id": "f906bed1",
   "metadata": {},
   "outputs": [],
   "source": [
    "import oqupy as oqupy\n",
    "from oqupy.iTEBD_TEMPO import iTEBD_TEMPO\n",
    "from oqupy.iTEBD_TEMPO_useoqupybath import iTEBD_TEMPO_oqupy\n",
    "import numpy as np\n",
    "import matplotlib.pyplot as plt\n",
    "import qutip as qt"
   ]
  },
  {
   "cell_type": "code",
   "execution_count": 2,
   "id": "f314d374",
   "metadata": {},
   "outputs": [
    {
     "name": "stderr",
     "output_type": "stream",
     "text": [
      "building influence functional:   0%|          | 0/100 [00:00<?, ?it/s]C:\\Users\\preas\\AppData\\Local\\Temp\\ipykernel_23720\\1407429750.py:15: DeprecationWarning: `alltrue` is deprecated as of NumPy 1.25.0, and will be removed in NumPy 2.0. Please use `all` instead.\n",
      "  MyiTEBD_TEMPO_oqupy.compute_f(rank=100, rtol=1e-7)\n",
      "building influence functional: 100%|██████████| 100/100 [00:00<00:00, 338.19it/s]"
     ]
    },
    {
     "name": "stdout",
     "output_type": "stream",
     "text": [
      "rank  83\n"
     ]
    },
    {
     "name": "stderr",
     "output_type": "stream",
     "text": [
      "\n"
     ]
    }
   ],
   "source": [
    "sigma_z = oqupy.operators.sigma(\"z\")\n",
    "omega_cutoff = 3.04 \n",
    "alpha = 0.126\n",
    "temperature = 0.1309\n",
    "correlations = oqupy.PowerLawSD(alpha=alpha,\n",
    "                                zeta=3,\n",
    "                                cutoff=omega_cutoff,\n",
    "                                cutoff_type='gaussian',\n",
    "                                temperature=temperature)\n",
    "bath = oqupy.Bath(sigma_z/2.0, correlations)\n",
    "# uses a modified version of Link's iTEBD_TEMPO class, which will take the bath correlation defined in OQuPy\n",
    "# other parameters remain as in the original, i.e. eigenvalues of the coupling operator, timestep, cut-off.\n",
    "Delta=0.1\n",
    "MyiTEBD_TEMPO_oqupy = iTEBD_TEMPO_oqupy(np.diagonal(sigma_z/2), Delta, correlations, 100)\n",
    "MyiTEBD_TEMPO_oqupy.compute_f(rank=100, rtol=1e-7) \n"
   ]
  },
  {
   "cell_type": "code",
   "execution_count": 3,
   "id": "0bc1dce3",
   "metadata": {},
   "outputs": [],
   "source": [
    "from oqupy.process_tensor import TTInvariantProcessTensor"
   ]
  },
  {
   "cell_type": "code",
   "execution_count": 4,
   "id": "f6fd5342",
   "metadata": {},
   "outputs": [],
   "source": [
    "pt=TTInvariantProcessTensor(MyiTEBD_TEMPO_oqupy)"
   ]
  },
  {
   "cell_type": "code",
   "execution_count": 5,
   "id": "6057e9af",
   "metadata": {},
   "outputs": [
    {
     "data": {
      "text/plain": [
       "(1, 83, 4, 4)"
      ]
     },
     "execution_count": 5,
     "metadata": {},
     "output_type": "execute_result"
    }
   ],
   "source": [
    "pt.get_mpo_tensor(0).shape"
   ]
  },
  {
   "cell_type": "code",
   "execution_count": 6,
   "id": "102c4699",
   "metadata": {},
   "outputs": [
    {
     "data": {
      "text/plain": [
       "(83, 83, 4, 4)"
      ]
     },
     "execution_count": 6,
     "metadata": {},
     "output_type": "execute_result"
    }
   ],
   "source": [
    "pt.get_mpo_tensor(1).shape"
   ]
  },
  {
   "cell_type": "code",
   "execution_count": 8,
   "id": "b2b8e6cb",
   "metadata": {},
   "outputs": [
    {
     "name": "stdout",
     "output_type": "stream",
     "text": [
      "--> Compute dynamics:\n"
     ]
    },
    {
     "ename": "ValueError",
     "evalue": "Cannot connect edges of unequal dimension. Dimension of edge '__unnamed_edge__': 1, Dimension of edge '__unnamed_edge__': 83.",
     "output_type": "error",
     "traceback": [
      "\u001b[1;31m---------------------------------------------------------------------------\u001b[0m",
      "\u001b[1;31mValueError\u001b[0m                                Traceback (most recent call last)",
      "Cell \u001b[1;32mIn[8], line 14\u001b[0m\n\u001b[0;32m     11\u001b[0m     \u001b[38;5;28;01mreturn\u001b[39;00m \u001b[38;5;241m0.0\u001b[39m \u001b[38;5;241m*\u001b[39m sigma_z\n\u001b[0;32m     13\u001b[0m system \u001b[38;5;241m=\u001b[39m oqupy\u001b[38;5;241m.\u001b[39mTimeDependentSystem(hamiltonian_t)\n\u001b[1;32m---> 14\u001b[0m dynamics \u001b[38;5;241m=\u001b[39m \u001b[43moqupy\u001b[49m\u001b[38;5;241;43m.\u001b[39;49m\u001b[43mcompute_dynamics\u001b[49m\u001b[43m(\u001b[49m\n\u001b[0;32m     15\u001b[0m \u001b[43m       \u001b[49m\u001b[43mprocess_tensor\u001b[49m\u001b[38;5;241;43m=\u001b[39;49m\u001b[43mpt\u001b[49m\u001b[43m,\u001b[49m\u001b[43m        \u001b[49m\n\u001b[0;32m     16\u001b[0m \u001b[43m       \u001b[49m\u001b[43msystem\u001b[49m\u001b[38;5;241;43m=\u001b[39;49m\u001b[43msystem\u001b[49m\u001b[43m,\u001b[49m\n\u001b[0;32m     17\u001b[0m \u001b[43m       \u001b[49m\u001b[43minitial_state\u001b[49m\u001b[38;5;241;43m=\u001b[39;49m\u001b[43mRho_0\u001b[49m\u001b[43m,\u001b[49m\n\u001b[0;32m     18\u001b[0m \u001b[43m       \u001b[49m\u001b[43mstart_time\u001b[49m\u001b[38;5;241;43m=\u001b[39;49m\u001b[38;5;241;43m0.0\u001b[39;49m\u001b[43m,\u001b[49m\n\u001b[0;32m     19\u001b[0m \u001b[43m       \u001b[49m\u001b[43mnum_steps\u001b[49m\u001b[38;5;241;43m=\u001b[39;49m\u001b[38;5;241;43m200\u001b[39;49m\u001b[43m)\u001b[49m\n\u001b[0;32m     20\u001b[0m t, s_x \u001b[38;5;241m=\u001b[39m dynamics\u001b[38;5;241m.\u001b[39mexpectations(sigma_x, real\u001b[38;5;241m=\u001b[39m\u001b[38;5;28;01mTrue\u001b[39;00m)\n\u001b[0;32m     21\u001b[0m _, s_y \u001b[38;5;241m=\u001b[39m dynamics\u001b[38;5;241m.\u001b[39mexpectations(sigma_y, real\u001b[38;5;241m=\u001b[39m\u001b[38;5;28;01mTrue\u001b[39;00m)\n",
      "File \u001b[1;32mc:\\Users\\preas\\OQuPy\\oqupy\\system_dynamics.py:145\u001b[0m, in \u001b[0;36mcompute_dynamics\u001b[1;34m(system, initial_state, dt, num_steps, start_time, process_tensor, control, record_all, subdiv_limit, liouvillian_epsrel, progress_type)\u001b[0m\n\u001b[0;32m    143\u001b[0m \u001b[38;5;28;01mif\u001b[39;00m record_all:\n\u001b[0;32m    144\u001b[0m     caps \u001b[38;5;241m=\u001b[39m _get_caps(process_tensors, step)\n\u001b[1;32m--> 145\u001b[0m     state_tensor \u001b[38;5;241m=\u001b[39m \u001b[43m_apply_caps\u001b[49m\u001b[43m(\u001b[49m\u001b[43mcurrent_node\u001b[49m\u001b[43m,\u001b[49m\u001b[43m \u001b[49m\u001b[43mcurrent_edges\u001b[49m\u001b[43m,\u001b[49m\u001b[43m \u001b[49m\u001b[43mcaps\u001b[49m\u001b[43m)\u001b[49m\n\u001b[0;32m    146\u001b[0m     state \u001b[38;5;241m=\u001b[39m state_tensor\u001b[38;5;241m.\u001b[39mreshape(hs_dim, hs_dim)\n\u001b[0;32m    147\u001b[0m     states\u001b[38;5;241m.\u001b[39mappend(state)\n",
      "File \u001b[1;32mc:\\Users\\preas\\OQuPy\\oqupy\\system_dynamics.py:648\u001b[0m, in \u001b[0;36m_apply_caps\u001b[1;34m(current_node, current_edges, caps)\u001b[0m\n\u001b[0;32m    646\u001b[0m \u001b[38;5;28;01mfor\u001b[39;00m current_edge, cap \u001b[38;5;129;01min\u001b[39;00m \u001b[38;5;28mzip\u001b[39m(current_edges[:\u001b[38;5;241m-\u001b[39m\u001b[38;5;241m1\u001b[39m], caps):\n\u001b[0;32m    647\u001b[0m     cap_node \u001b[38;5;241m=\u001b[39m tn\u001b[38;5;241m.\u001b[39mNode(cap)\n\u001b[1;32m--> 648\u001b[0m     \u001b[43medge_dict\u001b[49m\u001b[43m[\u001b[49m\u001b[43mcurrent_edge\u001b[49m\u001b[43m]\u001b[49m\u001b[43m \u001b[49m\u001b[38;5;241;43m^\u001b[39;49m\u001b[43m \u001b[49m\u001b[43mcap_node\u001b[49m\u001b[43m[\u001b[49m\u001b[38;5;241;43m0\u001b[39;49m\u001b[43m]\u001b[49m\n\u001b[0;32m    649\u001b[0m     node_dict[current_node] \u001b[38;5;241m=\u001b[39m node_dict[current_node] \u001b[38;5;241m@\u001b[39m cap_node\n\u001b[0;32m    650\u001b[0m state_node \u001b[38;5;241m=\u001b[39m node_dict[current_node]\n",
      "File \u001b[1;32mc:\\Users\\preas\\OQuPy\\.venv\\Lib\\site-packages\\tensornetwork\\network_components.py:1215\u001b[0m, in \u001b[0;36mEdge.__xor__\u001b[1;34m(self, other)\u001b[0m\n\u001b[0;32m   1214\u001b[0m \u001b[38;5;28;01mdef\u001b[39;00m \u001b[38;5;21m__xor__\u001b[39m(\u001b[38;5;28mself\u001b[39m, other: \u001b[38;5;124m\"\u001b[39m\u001b[38;5;124mEdge\u001b[39m\u001b[38;5;124m\"\u001b[39m) \u001b[38;5;241m-\u001b[39m\u001b[38;5;241m>\u001b[39m \u001b[38;5;124m\"\u001b[39m\u001b[38;5;124mEdge\u001b[39m\u001b[38;5;124m\"\u001b[39m:\n\u001b[1;32m-> 1215\u001b[0m   \u001b[38;5;28;01mreturn\u001b[39;00m \u001b[43mconnect\u001b[49m\u001b[43m(\u001b[49m\u001b[38;5;28;43mself\u001b[39;49m\u001b[43m,\u001b[49m\u001b[43m \u001b[49m\u001b[43mother\u001b[49m\u001b[43m,\u001b[49m\u001b[43m \u001b[49m\u001b[38;5;28;43mself\u001b[39;49m\u001b[38;5;241;43m.\u001b[39;49m\u001b[43mname\u001b[49m\u001b[43m)\u001b[49m\n",
      "File \u001b[1;32mc:\\Users\\preas\\OQuPy\\.venv\\Lib\\site-packages\\tensornetwork\\network_components.py:1945\u001b[0m, in \u001b[0;36mconnect\u001b[1;34m(edge1, edge2, name)\u001b[0m\n\u001b[0;32m   1942\u001b[0m   \u001b[38;5;28;01mraise\u001b[39;00m \u001b[38;5;167;01mValueError\u001b[39;00m(\u001b[38;5;124m\"\u001b[39m\u001b[38;5;124mCannot connect edge \u001b[39m\u001b[38;5;124m'\u001b[39m\u001b[38;5;132;01m{}\u001b[39;00m\u001b[38;5;124m'\u001b[39m\u001b[38;5;124m to itself.\u001b[39m\u001b[38;5;124m\"\u001b[39m\u001b[38;5;241m.\u001b[39mformat(edge1))\n\u001b[0;32m   1944\u001b[0m \u001b[38;5;28;01mif\u001b[39;00m edge1\u001b[38;5;241m.\u001b[39mdimension \u001b[38;5;241m!=\u001b[39m edge2\u001b[38;5;241m.\u001b[39mdimension:\n\u001b[1;32m-> 1945\u001b[0m   \u001b[38;5;28;01mraise\u001b[39;00m \u001b[38;5;167;01mValueError\u001b[39;00m(\u001b[38;5;124m\"\u001b[39m\u001b[38;5;124mCannot connect edges of unequal dimension. \u001b[39m\u001b[38;5;124m\"\u001b[39m\n\u001b[0;32m   1946\u001b[0m                    \u001b[38;5;124m\"\u001b[39m\u001b[38;5;124mDimension of edge \u001b[39m\u001b[38;5;124m'\u001b[39m\u001b[38;5;132;01m{}\u001b[39;00m\u001b[38;5;124m'\u001b[39m\u001b[38;5;124m: \u001b[39m\u001b[38;5;132;01m{}\u001b[39;00m\u001b[38;5;124m, \u001b[39m\u001b[38;5;124m\"\u001b[39m\n\u001b[0;32m   1947\u001b[0m                    \u001b[38;5;124m\"\u001b[39m\u001b[38;5;124mDimension of edge \u001b[39m\u001b[38;5;124m'\u001b[39m\u001b[38;5;132;01m{}\u001b[39;00m\u001b[38;5;124m'\u001b[39m\u001b[38;5;124m: \u001b[39m\u001b[38;5;132;01m{}\u001b[39;00m\u001b[38;5;124m.\u001b[39m\u001b[38;5;124m\"\u001b[39m\u001b[38;5;241m.\u001b[39mformat(\n\u001b[0;32m   1948\u001b[0m                        edge1, edge1\u001b[38;5;241m.\u001b[39mdimension, edge2, edge2\u001b[38;5;241m.\u001b[39mdimension))\n\u001b[0;32m   1950\u001b[0m \u001b[38;5;66;03m#edge1 and edge2 are always dangling in this case\u001b[39;00m\n\u001b[0;32m   1951\u001b[0m node1 \u001b[38;5;241m=\u001b[39m edge1\u001b[38;5;241m.\u001b[39mnode1\n",
      "\u001b[1;31mValueError\u001b[0m: Cannot connect edges of unequal dimension. Dimension of edge '__unnamed_edge__': 1, Dimension of edge '__unnamed_edge__': 83."
     ]
    },
    {
     "name": "stdout",
     "output_type": "stream",
     "text": [
      "  0.0%    0 of  200 [----------------------------------------] 00:00:01"
     ]
    }
   ],
   "source": [
    "# let's do it using OQuPy\n",
    "sigma_x = oqupy.operators.sigma(\"x\")\n",
    "sigma_y = oqupy.operators.sigma(\"y\")\n",
    "sigma_z = oqupy.operators.sigma(\"z\")\n",
    "tempo_parameters = oqupy.TempoParameters(dt=Delta, epsrel=10**(-7),dkmax=100)\n",
    "\n",
    "H_S=0.0*oqupy.operators.sigma('z') # free Hamiltonian\n",
    "Rho_0=oqupy.operators.spin_dm('x+')\n",
    "\n",
    "def hamiltonian_t(t):\n",
    "    return 0.0 * sigma_z\n",
    "\n",
    "system = oqupy.TimeDependentSystem(hamiltonian_t)\n",
    "dynamics = oqupy.compute_dynamics(\n",
    "       process_tensor=pt,        \n",
    "       system=system,\n",
    "       initial_state=Rho_0,\n",
    "       start_time=0.0,\n",
    "       num_steps=200)\n",
    "t, s_x = dynamics.expectations(sigma_x, real=True)\n",
    "_, s_y = dynamics.expectations(sigma_y, real=True)\n",
    "_, s_z = dynamics.expectations(sigma_z, real=True)\n"
   ]
  }
 ],
 "metadata": {
  "kernelspec": {
   "display_name": "Python 3 (ipykernel)",
   "language": "python",
   "name": "python3"
  },
  "language_info": {
   "codemirror_mode": {
    "name": "ipython",
    "version": 3
   },
   "file_extension": ".py",
   "mimetype": "text/x-python",
   "name": "python",
   "nbconvert_exporter": "python",
   "pygments_lexer": "ipython3",
   "version": "3.12.5"
  }
 },
 "nbformat": 4,
 "nbformat_minor": 5
}
