{
 "cells": [
  {
   "attachments": {},
   "cell_type": "markdown",
   "metadata": {},
   "source": [
    "# Adjoint Method within PT-MPO for calculating the gradient\n",
    "\n",
    "In this tutorial, we use the adjoint method to calculate the gradient of an objective function within PT-MPO. This tutorial is intended to be read in conjunction with the supplemental information in \\[insert citation here\\]\n",
    "\n",
    "The goal of this tutorial is to calculate the gradient of some generic objective function $Z$ which only depends on the value of the final density matrix $\\rho_f$. To do this we will need to evaluate each part of the sum in equation S1 of the afformentioned supplement.\n",
    "\n",
    "$$\n",
    "\\frac{\\partial Z}{\\partial c_a}=\\sum_n\\sum_{i,j,k}^{d_{H_S}^2}\n",
    "\\frac{\\partial Z}{\\partial \\rho_f^i}\n",
    "\\frac{\\partial\\rho_f^i}{\\partial U^{jk}_n}\n",
    "\\frac{\\partial U^{jk}_n}{\\partial c_a},\n",
    "$$\n",
    "\n",
    "where the last term on the right hand side of the equation is the derivative of the system propagators $U$ (which are constructed from the system hamiltonian) and the control parameter. This needs to be calculated which is shown below. The middle term is the derivative of the final state with respect to the system propagators. This is the computationally difficult part that is performed by the adjoint method. Finally the first term is the derivative of the objective function with respect to the final state, which we will later show that in the case of fidelity between a pure target state $|\\sigma\\rangle$ and $\\rho_f$, reduces to simply $\\sigma^T$, but more generally this will also need to be calculated.\n",
    "\n",
    "A considerably more in-depth discussion of the construction of this method is given in the supplement. "
   ]
  },
  {
   "cell_type": "code",
   "execution_count": 1,
   "metadata": {},
   "outputs": [],
   "source": [
    "import numpy as np\n",
    "import oqupy\n",
    "import matplotlib.pyplot as plt"
   ]
  },
  {
   "cell_type": "markdown",
   "metadata": {},
   "source": [
    "### Structure\n",
    "1. Set up the physical model\n",
    "2. Setting up the objective function (calculating the extra terms necessary to obtain the gradient)\n",
    "3. Using the adjoint method\n",
    "4. Comparison with brute force finite difference"
   ]
  },
  {
   "attachments": {},
   "cell_type": "markdown",
   "metadata": {},
   "source": [
    "## Setting up the system and model\n",
    "\n",
    "The first thing we do is set up the problem, generate a process tensor, and save it so we don't need to regenerate the PT every time you need to reload this script.\n",
    "\n",
    "We choose the spin-boson model of a quantum dot (QD) with appropriately chosen parameters as in \\[ramsay,our_paper\\].\n",
    "\n",
    "We model a quantum dot coupled to a bosonic environment evolving under a total hamiltonian of \n",
    "\n",
    "$H_S+H_B+H_{SB}$, where we use a standard, deformation potential coupling of $H_{SB}=s_z\\sum_q(g_qb_q+g_q^*b_q^\\dagger)$. This system-environment interaction is controlled by the following super-ohmic spectral density,\n",
    "$$\n",
    "J(\\omega) = 2\\alpha\\omega^3 \\omega_c^{-2}\\exp\\left[-\\frac{\\omega^2}{\\omega_c^2}\\right]\n",
    "$$ \n",
    "\n",
    "and we define the physical parameters as:"
   ]
  },
  {
   "cell_type": "code",
   "execution_count": 2,
   "metadata": {},
   "outputs": [],
   "source": [
    "\n",
    "alpha = 0.126\n",
    "omega_cutoff = 3.04"
   ]
  },
  {
   "cell_type": "markdown",
   "metadata": {},
   "source": [
    "And the numerical parameters for tempo as:"
   ]
  },
  {
   "cell_type": "code",
   "execution_count": 3,
   "metadata": {},
   "outputs": [],
   "source": [
    "dt = 0.05\n",
    "dkmax = 60\n",
    "esprel = 10**(-7)\n",
    "temperature = 5 * 0.1309 # 1K = 0.1309/ps in natural units\n",
    "max_time = 5"
   ]
  },
  {
   "cell_type": "code",
   "execution_count": 4,
   "metadata": {},
   "outputs": [],
   "source": [
    "\n",
    "correlations = oqupy.PowerLawSD(alpha=alpha,\n",
    "                                zeta=3,\n",
    "                                cutoff=omega_cutoff,\n",
    "                                cutoff_type='gaussian',\n",
    "                                temperature=temperature)\n",
    "bath = oqupy.Bath(oqupy.operators.sigma(\"z\")/2.0, correlations)\n",
    "\n",
    "tempo_params = oqupy.TempoParameters(dt=dt, dkmax=dkmax, epsrel=esprel)"
   ]
  },
  {
   "cell_type": "code",
   "execution_count": 5,
   "metadata": {},
   "outputs": [],
   "source": [
    "generate_process_tensor = False"
   ]
  },
  {
   "cell_type": "code",
   "execution_count": 6,
   "metadata": {},
   "outputs": [],
   "source": [
    "if generate_process_tensor:\n",
    "    process_tensor = oqupy.pt_tempo_compute(bath=bath,\n",
    "                                            start_time=0,\n",
    "                                            end_time=max_time,\n",
    "                                            parameters=tempo_params,\n",
    "                                            # progress_type='silent'\n",
    "                                            )\n",
    "\n",
    "    process_tensor.export('optimisation_pt.processTensor',overwrite=True)\n",
    "\n",
    "else:\n",
    "    process_tensor = oqupy.import_process_tensor(\n",
    "                'optimisation_pt.processTensor','simple')"
   ]
  },
  {
   "attachments": {},
   "cell_type": "markdown",
   "metadata": {},
   "source": [
    "### Defining a system\n",
    "\n",
    "For simplicity we have chosen a model that can be well approximated as a two level system. In this case we assume that our system is coupled to fields conjugate to $s_z$ and $s_x$. As in the main text we treat them as piecewise constant over the discrete timesteps of the process tensor. This gives us a system hamiltonian\n",
    "\n",
    "$$\n",
    "H_S=h_xs_x + h_zs_z\n",
    "$$\n",
    "\n",
    "Where the field strengths $h_x$ and $h_z$ are discritised into timesteps `dt`. \n",
    "\n",
    "In code:"
   ]
  },
  {
   "cell_type": "code",
   "execution_count": 7,
   "metadata": {},
   "outputs": [],
   "source": [
    "from scipy.interpolate import interp1d\n",
    "from oqupy.process_tensor import BaseProcessTensor\n",
    "from oqupy.helpers import get_full_timesteps\n"
   ]
  },
  {
   "cell_type": "code",
   "execution_count": 8,
   "metadata": {},
   "outputs": [],
   "source": [
    "\n",
    "def get_hamiltonian(hx:np.ndarray,hz:np.ndarray,pt:BaseProcessTensor):\n",
    "\n",
    "    expval_times = get_full_timesteps(pt,0)\n",
    "    assert hx.size == expval_times.size, 'hx must be same length as number of timesteps'\n",
    "    assert hz.size == expval_times.size, 'hz must be same length as number of timesteps'\n",
    "    # interp doesn't extrapolate beyond the last data point so any time after t-dt will\n",
    "    # be out of bounds, need to duplicate the final point so we create the very last 'pixel'\n",
    "    # expval_times plus one timestep\n",
    "    expval_times_p1 = np.concatenate((expval_times,np.array([pt.dt * len(pt)])))\n",
    "    # duplicate last element so any time between t_f-dt and t_f falls within this 'pixel'\n",
    "    # otherwise scipy interp1d doesn't like extrapolating so calls it out of bounds\n",
    "    hx_p1 = np.concatenate((hx,np.array([hx[-1]])))\n",
    "    hz_p1 = np.concatenate((hz,np.array([hz[-1]])))\n",
    "\n",
    "    hx_interp = interp1d(expval_times_p1,hx_p1,kind='zero')\n",
    "    hz_interp = interp1d(expval_times_p1,hz_p1,kind='zero')\n",
    "\n",
    "    def hamiltonian_t(t):\n",
    "        _hx = hx_interp(t)\n",
    "        _hz = hz_interp(t)\n",
    "\n",
    "        hx_sx = 0.5 * oqupy.operators.sigma('x') * _hx\n",
    "        hz_sz = 0.5 * oqupy.operators.sigma('z') * _hz\n",
    "        hamiltonian = hz_sz + hx_sx\n",
    "        return hamiltonian\n",
    "\n",
    "    return hamiltonian_t"
   ]
  },
  {
   "attachments": {},
   "cell_type": "markdown",
   "metadata": {},
   "source": [
    "## Setting up the gradient\n",
    "### Defining a objective function\n",
    "\n",
    "The gradient is defined as the rate of change of some objective function. In the main text we use the Ullmann Fidelity / Infidelity between a target *pure* state $|\\sigma\\rangle$ and a final density matrix which will be computed by PT-MPO $\\rho_f$. In this case our objective function $\\mathcal{F}$ is\n",
    "$$\n",
    "\\mathcal{F} = \\langle\\sigma|\\rho_f|\\sigma\\rangle\n",
    "$$\n",
    "\n",
    "The goal of this tutorial is to show how one would calculate $\\frac{\\partial\\mathcal{F}}{\\partial c_a}$.\n",
    "This is far from the most general objective function, rather it is a convenient case of the more generalised Ullmann fidelity where one of the\n",
    "density matrices is the density matrix of a pure state. That formula has a rather ugly definition given by.\n",
    "$$\n",
    "\\mathcal{F} = \\left(\\text{tr}\\left[\\sqrt{\\sqrt{\\rho}\\tilde{\\sigma}\\sqrt{\\rho}}\\right]\\right)^2\n",
    "$$\n",
    "\n",
    "where both $\\tilde{\\sigma}$ and $\\rho$ are generic density matrices. In fact we need not restrict ourselves to the Ullmann fidelity. In fact we can consider any generic function of merit $Z(c_a)$ that warrents optimising, as we have described in the main text and supplement. In the main text and for simplicity of this tutorial we will start off using the pure state fidelity. PT-MPO gives us the final state $\\rho_f^i$ and we recall that because we are working in Liouville space, \n",
    "\n",
    "$$\\sigma = \\begin{bmatrix}\n",
    "\\sigma_{11}&\\sigma_{12}\\\\\n",
    "\\sigma_{21}&\\sigma_{22}\n",
    "\n",
    "\\end{bmatrix}\n",
    "\\rightarrow\n",
    "\n",
    "\\begin{bmatrix}\n",
    "\\sigma_{11}\\\\ \\sigma_{12}\\\\\n",
    "\\sigma_{21}\\\\ \\sigma_{22}\n",
    "\n",
    "\\end{bmatrix}\n",
    "$$\n",
    "\n",
    "for a two level system and we note that the code uses `np.reshape` which uses c notation which is a row vectorisation. In Einstein notation, $\\sum_{i,j=1}^2\\sigma^{ij}\\rightarrow\\sum_{i=1}^4\\sigma^{i}$.... TBC, do out full explanation of how element wise product of final state and transposed target works.\n"
   ]
  },
  {
   "attachments": {},
   "cell_type": "markdown",
   "metadata": {},
   "source": [
    "\n",
    "### Obtaining the derivative of the propegator w.r.t. the control parameter $c_a$\n",
    "\n",
    "Now we have to identify the derivative of the system propagator with respect to the control parameter which we wish to optimise in our hamiltonian.\n",
    "In the case of our Hamiltonian this is $h_\\bullet$. Since evalutating the propagator is a $(d_{H_s}^2,d_{H_s}^2)$, this is cheap so it is not prohibitive to do this through finite differencing. I haven't provided a general function that will do this for some general hamiltonian, but it is not hard to write, and I give you an example of how to write one below.\n",
    "\n",
    "The important part of this step is to note that in the main text and supplement, for simplicity and clarity of diagrams, we have used a simple, first order, Suzuki-Trotter splitting \n",
    "\n",
    "$$\\exp[\\mathcal{L}_{\\text{tot}}(\\texttt{t})\\texttt{dt}]\\rightarrow\\exp[\\mathcal{L}_{\\text{env}}(\\texttt{t})\\texttt{dt}]\\exp[\\mathcal{L}_{\\text{S}}(\\texttt{t}+\\texttt{dt/2})\\texttt{dt}]$$\n",
    "\n",
    "Whereas the `oqupy` package uses a symmeterised splitting\n",
    "\n",
    "$$\n",
    "\\exp[\\mathcal{L}_{\\text{tot}}(\\texttt{t})\\texttt{dt}]\\rightarrow\n",
    "\\exp[\\mathcal{L}_S(\\texttt{t}+3\\texttt{dt}/4)\\texttt{dt}/2]\n",
    "\\exp[\\mathcal{L}_{\\text{env}}(\\texttt{t})\\texttt{dt}]\n",
    "\\exp[\\mathcal{L}_S(\\texttt{t}+\\texttt{dt/4})\\texttt{dt}/2]$$\n",
    "\n",
    "As such, instead of each timestep $t_n$ having a single system propagator, $U(t_n)$, one must instead consider two system propagators, $U(t_n+\\texttt{dt}/4)$, $U(t_n+3\\texttt{dt}/4)$. So if a derivative $\\frac{\\partial U_n}{\\partial c_a}$ depends on timestep $n$, we must supply\n",
    "\n",
    "$$\n",
    "\\frac{\\partial U(t_n+\\texttt{dt}/4)}{\\partial c_a} + \\frac{\\partial U(t_n+3\\texttt{dt}/4)}{\\partial c_a}\n",
    "$$\n",
    "\n",
    "An example function does this below in the case we have on the main text where $c_a\\rightarrow h_\\bullet(n)$ where $h\\in \\{0,\\texttt{dt},2\\texttt{dt},\\dots N\\texttt{dt}\\}$ so $\\frac{\\partial U_n}{\\partial h_\\bullet(a)}$ is only non-zero for $n=a$, and there is no sum over time in equation S1, as stated in supplement.\n",
    "\n",
    "This is coded using finite differences as follows:"
   ]
  },
  {
   "cell_type": "markdown",
   "metadata": {},
   "source": [
    "The practical way to implement the symmetrized trotter splitting is to figure out what times your control parameter $c_a$ depends on. Then once you have figured out what times your control parameter depends on, it is simply a matter of including both the pre time and post time to calculate dpropagator, and then summing over the resultant total derivatives. \n",
    "\n",
    "In the case we consider here my control parameters are $h_\\bullet(t)$ where $t\\in \\{0,\\texttt{dt},2\\texttt{dt},\\dots N\\texttt{dt}\\}$, so each individual $h_\\bullet(t)$ parameter depends only on a single timestep, and when we consider $h_\\bullet(t)$ for all $t$ we use all timesteps. So the simplest way to do this is for each $t$ calculate both $U(t+\\texttt{dt}/4)$ and $U(t+3\\texttt{dt}/4)$, this can be done using the conveniently provided `get_half_timesteps` function."
   ]
  },
  {
   "cell_type": "code",
   "execution_count": 9,
   "metadata": {},
   "outputs": [],
   "source": [
    "from scipy.linalg import expm\n"
   ]
  },
  {
   "cell_type": "code",
   "execution_count": 10,
   "metadata": {},
   "outputs": [],
   "source": [
    "def dpropagator(hamiltonian,\n",
    "    t, # expectation value times\n",
    "    dt,\n",
    "    op,\n",
    "    h):\n",
    "    '''\n",
    "    deriv of propagator wrt the pre node and the post node\n",
    "    '''\n",
    "\n",
    "    liouvillian_plus_h=-1j * oqupy.operators.commutator(hamiltonian(t)+h*op)\n",
    "    liouvillian_minus_h=-1j * oqupy.operators.commutator(hamiltonian(t)-h*op)\n",
    "\n",
    "    propagator_plus_h=expm(liouvillian_plus_h*dt/2.0).T\n",
    "    propagator_minus_h=expm(liouvillian_minus_h*dt/2.0).T\n",
    "\n",
    "    deriv=(propagator_plus_h-propagator_minus_h)/(2.0*h)\n",
    "    return deriv"
   ]
  },
  {
   "cell_type": "code",
   "execution_count": 11,
   "metadata": {},
   "outputs": [],
   "source": [
    "\n",
    "def time_dependent_finite_difference(\n",
    "                    process_tensor,\n",
    "                    system,\n",
    "                    times,\n",
    "                    operator, #the operator to differentiate wrt\n",
    "                    h=10**(-6)): # finite difference timestep\n",
    "    '''this is a very specific case where the number of derivatives == the number of half timestep propagators\n",
    "    TODO: figure out if that's actually correct'''\n",
    "\n",
    "    ham=system.hamiltonian\n",
    "\n",
    "    def dpropagator(system,\n",
    "        t, # expectation value times\n",
    "        dt,\n",
    "        op,\n",
    "        h):\n",
    "        '''\n",
    "        deriv of propagator wrt the pre node and the post node\n",
    "        '''\n",
    "\n",
    "        post_liouvillian_plus_h=-1j * oqupy.operators.commutator(ham(t+dt*3.0/4.0)+h*op)\n",
    "        post_liouvillian_minus_h=-1j * oqupy.operators.commutator(ham(t+dt*3.0/4.0)-h*op)\n",
    "\n",
    "        post_propagator_plus_h=expm(post_liouvillian_plus_h*dt/2.0).T\n",
    "        post_propagator_minus_h=expm(post_liouvillian_minus_h*dt/2.0).T\n",
    "\n",
    "        postderiv=(post_propagator_plus_h-post_propagator_minus_h)/(2.0*h)\n",
    "\n",
    "        pre_liouvillian_plus_h=-1j * oqupy.operators.commutator(ham(t+dt*1.0/4.0)+h*op)\n",
    "        pre_liouvillian_minus_h=-1j * oqupy.operators.commutator(ham(t+dt*1.0/4.0)-h*op)\n",
    "\n",
    "        pre_propagator_plus_h=expm(pre_liouvillian_plus_h*dt/2.0).T\n",
    "        pre_propagator_minus_h=expm(pre_liouvillian_minus_h*dt/2.0).T\n",
    "        prederiv=(pre_propagator_plus_h-pre_propagator_minus_h)/(2.0*h)\n",
    "        return prederiv,postderiv\n",
    "\n",
    "\n",
    "    derivs = []\n",
    "\n",
    "    for step in range(times.size):\n",
    "        prederiv,postderiv=dpropagator(system,times[step],process_tensor.dt,operator,h)\n",
    "        derivs.append(prederiv)\n",
    "        derivs.append(postderiv)\n",
    "\n",
    "    return derivs\n"
   ]
  },
  {
   "attachments": {},
   "cell_type": "markdown",
   "metadata": {},
   "source": [
    "## Pi Pulse gradient\n",
    "\n",
    "Now let's see what the gradient of a pi pulse looks like. We make use of the helper funciton that generates a list of all of the whole timesteps where we are able to calculate the density matrix and thus the expectation values of our simulation. From there we specify a protocol that is a $\\pi$ pulse"
   ]
  },
  {
   "cell_type": "code",
   "execution_count": 12,
   "metadata": {},
   "outputs": [],
   "source": [
    "times = get_full_timesteps(process_tensor,start_time=0)\n",
    "\n",
    "# pi pulse conjugate to s_z\n",
    "h_x = np.ones(times.size) *np.pi / max_time\n",
    "h_z = np.zeros(times.size)\n",
    "hamiltonian_t = get_hamiltonian(hx=h_x,hz=h_z,pt=process_tensor)\n",
    "system = oqupy.TimeDependentSystem(hamiltonian_t)"
   ]
  },
  {
   "cell_type": "code",
   "execution_count": 13,
   "metadata": {},
   "outputs": [],
   "source": [
    "from oqupy.helpers import get_half_timesteps\n",
    "\n",
    "# all propagator half timesteps\n",
    "dprop_dpram_times = get_half_timesteps(process_tensor,0)\n",
    "\n",
    "# because my control parameters cover all timesteps need derivatives w.r.t.\n",
    "# every half propagator.\n",
    "dprop_dpram_derivs_x = []\n",
    "for i in range(dprop_dpram_times.size):\n",
    "    deriv = dpropagator(\n",
    "                        hamiltonian_t,\n",
    "                        dprop_dpram_times[i],\n",
    "                        process_tensor.dt,\n",
    "                        op=0.5*oqupy.operators.sigma('x'),\n",
    "                        h = 10**(-6))\n",
    "    dprop_dpram_derivs_x.append(deriv)"
   ]
  },
  {
   "attachments": {},
   "cell_type": "markdown",
   "metadata": {},
   "source": [
    "Now we obtain our list of $\\frac{\\partial U_n}{\\partial c_a}$ for all our parameters"
   ]
  },
  {
   "attachments": {},
   "cell_type": "markdown",
   "metadata": {},
   "source": [
    "### Using adjoint method\n",
    "\n",
    "The last thing we need to do is to provide a list of the times that we have provided $\\frac{\\partial U_n}{\\partial c_a}$ at. This list should be *monotonly increasing*, once this is provided the gradient function handles the recombination described in the supplement"
   ]
  },
  {
   "cell_type": "code",
   "execution_count": 14,
   "metadata": {},
   "outputs": [
    {
     "name": "stdout",
     "output_type": "stream",
     "text": [
      "--> Compute dynamics:\n",
      "100.0%  100 of  100 [########################################] 00:00:06\n",
      "Elapsed time: 7.0s\n"
     ]
    }
   ],
   "source": [
    "\n",
    "\n",
    "gradient = oqupy.gradient(\n",
    "                system=system,\n",
    "                initial_state=oqupy.operators.spin_dm('z-'),\n",
    "                target_state=oqupy.operators.spin_dm('z+'),\n",
    "                process_tensor=process_tensor,\n",
    "                dprop_dparam_list=dprop_dpram_derivs_x)\n",
    "\n",
    "total_derivs_x = gradient.total_derivs"
   ]
  },
  {
   "attachments": {},
   "cell_type": "markdown",
   "metadata": {},
   "source": [
    "Same, however for the z component"
   ]
  },
  {
   "cell_type": "code",
   "execution_count": 15,
   "metadata": {},
   "outputs": [],
   "source": [
    "\n",
    "dprop_dpram_derivs_z = []\n",
    "for i in range(dprop_dpram_times.size):\n",
    "    deriv = dpropagator(\n",
    "                        hamiltonian_t,\n",
    "                        dprop_dpram_times[i],\n",
    "                        process_tensor.dt,\n",
    "                        op=0.5*oqupy.operators.sigma('z'),\n",
    "                        h = 10**(-6))\n",
    "    dprop_dpram_derivs_z.append(deriv)\n",
    "\n",
    "gradient_2 = oqupy.gradient(\n",
    "                        gradient_dynamics=gradient,\n",
    "                        dprop_dparam_list=dprop_dpram_derivs_z,\n",
    "                        dprop_times_list=dprop_dpram_times,\n",
    "                        process_tensor=process_tensor,\n",
    "                        system=system)\n",
    "\n",
    "\n",
    "total_derivs_z = gradient_2.total_derivs\n"
   ]
  },
  {
   "cell_type": "code",
   "execution_count": 16,
   "metadata": {},
   "outputs": [],
   "source": [
    "def sum_adjacent_elements(array:np.ndarray)-> np.ndarray:\n",
    "    half_the_size = array.size / 2\n",
    "    assert (half_the_size).is_integer(), \\\n",
    "        'if one output from both pre and post node is given, result must be even'\n",
    "    half_the_size = int(half_the_size)\n",
    "\n",
    "    # https://stackoverflow.com/a/29392016\n",
    "    summed_array = array.reshape((half_the_size,2)).sum(axis=1)\n",
    "    return summed_array"
   ]
  },
  {
   "cell_type": "code",
   "execution_count": 17,
   "metadata": {},
   "outputs": [
    {
     "data": {
      "image/png": "[encoded data removed]",
      "text/plain": [
       "<Figure size 432x288 with 1 Axes>"
      ]
     },
     "metadata": {
      "needs_background": "light"
     },
     "output_type": "display_data"
    }
   ],
   "source": [
    "\n",
    "# sum adjacent elements\n",
    "\n",
    "out_x = sum_adjacent_elements(total_derivs_x)\n",
    "out_z = sum_adjacent_elements(total_derivs_z)\n",
    "\n",
    "\n",
    "plt.figure()\n",
    "plt.plot(times,out_x.real,label='x')\n",
    "plt.plot(times,out_z.real,label='z')\n",
    "\n",
    "plt.legend()\n",
    "plt.show()\n"
   ]
  },
  {
   "cell_type": "markdown",
   "metadata": {},
   "source": [
    "## ARP gradient\n",
    "\n",
    "Now let us choose a time-dependent example, a chirped ARP pulse.: $H_S = \\Omega(t) s_x + \\Delta(t) s_z$, centred about time $t_0$, of width $\\tau_0$ and of pulse area $\\Theta_0$\n",
    "\n",
    "$$\\Omega(t) = \\frac{\\Theta_0}{\\sqrt{2\\pi}}\\text{exp}\\left[-\\frac{t^2}{\\tau_0^2}\\right]\n",
    "$$\n",
    "\n",
    "For simplicity let's start with an unchirped $\\pi$ pulse so $\\Theta_0=\\pi$ and $a=0$ so $\\Delta (t)=0$. however you are more than welcome to play with the parameters (though you will need to generate a longer duration process tensor)!\n",
    "\n",
    "We will plot the pulse for $5$ps as before and centre the pulse about $t_0=2.5$\n"
   ]
  },
  {
   "cell_type": "code",
   "execution_count": 18,
   "metadata": {},
   "outputs": [],
   "source": [
    "a = 0\n",
    "theta_0 = np.pi\n",
    "tau_0=0.5\n",
    "# pulse centre\n",
    "t_0=2.5"
   ]
  },
  {
   "cell_type": "code",
   "execution_count": 19,
   "metadata": {},
   "outputs": [],
   "source": [
    "def delta(t):\n",
    "    delta = -a*(t-t_0) / (a**2+tau_0**4)\n",
    "    return delta\n",
    "\n",
    "def omega(t):\n",
    "    omega = theta_0 / (np.sqrt(2*np.pi * np.sqrt(a**2 + tau_0**2))) \\\n",
    "        * np.exp(-(t-t_0)**2 * tau_0**2 / (2*(a**2 + tau_0**4)))\n",
    "    return omega\n",
    "\n",
    "omega_vals = omega(times)\n",
    "delta_vals = delta(times)"
   ]
  },
  {
   "cell_type": "code",
   "execution_count": 20,
   "metadata": {},
   "outputs": [
    {
     "data": {
      "text/plain": [
       "<matplotlib.legend.Legend at 0x7fc65bd17460>"
      ]
     },
     "execution_count": 20,
     "metadata": {},
     "output_type": "execute_result"
    },
    {
     "data": {
      "image/png": "[encoded data removed]",
      "text/plain": [
       "<Figure size 432x288 with 1 Axes>"
      ]
     },
     "metadata": {
      "needs_background": "light"
     },
     "output_type": "display_data"
    }
   ],
   "source": [
    "plt.figure(3)\n",
    "plt.plot(times,omega_vals,label=r'$\\Omega(t)$')\n",
    "plt.plot(times,delta_vals,label=r'$\\Delta(t)$')\n",
    "plt.legend()"
   ]
  },
  {
   "cell_type": "code",
   "execution_count": 21,
   "metadata": {},
   "outputs": [],
   "source": [
    "arp_hamiltonian = get_hamiltonian(hx=omega_vals,hz=delta_vals,pt=process_tensor)\n",
    "arp_system = oqupy.TimeDependentSystem(arp_hamiltonian)"
   ]
  },
  {
   "cell_type": "markdown",
   "metadata": {},
   "source": [
    "Now we need the `dprop` list, this is more complicated now because our parameters are now $\\Theta_0$ and $a$\n",
    "\n",
    "The complication arises because previously we had that $\\frac{\\partial U_n}{\\partial h_{\\bullet,k}}$ was only nonzero for $u=k$, whereas $\\frac{\\partial U_n}{\\partial \\Theta_0}$ is nonzero for all $n$. The easiest way to solve this problem is to say that $\\Omega(t)$ is $h_x$ and to use the chain rule,\n",
    "$$\n",
    "\\frac{\\partial \\mathcal{F}(t)}{\\partial \\Theta_0} = \\sum_n \\frac{\\partial{\\rho_f}}{\\partial U_n}\n",
    "\\frac{\\partial U_n}{\\partial h_x}\\frac{\\partial h_x}{\\partial \\Theta_0}\n",
    "$$\n",
    "\n",
    "The last term is just a scalar. \n"
   ]
  },
  {
   "cell_type": "markdown",
   "metadata": {},
   "source": [
    "The last term is ju"
   ]
  },
  {
   "cell_type": "code",
   "execution_count": 22,
   "metadata": {},
   "outputs": [],
   "source": [
    "def arp_hamiltonian_deriv(t):\n",
    "    omega = 1 / (np.sqrt(2*np.pi * np.sqrt(a**2 + tau_0**2))) \\\n",
    "        * np.exp(-(t-t_0)**2 * tau_0**2 / (2*(a**2 + tau_0**4)))\n",
    "    return omega\n",
    "\n",
    "dprop_dpram_derivs_omega = []\n",
    "for i in range(dprop_dpram_times.size):\n",
    "    deriv = dpropagator(\n",
    "                        arp_hamiltonian,\n",
    "                        dprop_dpram_times[i],\n",
    "                        process_tensor.dt,\n",
    "                        op=0.5*oqupy.operators.sigma('x'),\n",
    "                        h = 10**(-6))\n",
    "    dprop_dpram_derivs_omega.append(deriv)"
   ]
  },
  {
   "cell_type": "code",
   "execution_count": 23,
   "metadata": {},
   "outputs": [],
   "source": [
    "# similarly for delta (arp_hamiltonian_deriv for delta is just a)\n",
    "\n",
    "dprop_dpram_derivs_delta = []\n",
    "for i in range(dprop_dpram_times.size):\n",
    "    deriv = dpropagator(\n",
    "                        arp_hamiltonian,\n",
    "                        dprop_dpram_times[i],\n",
    "                        process_tensor.dt,\n",
    "                        op=0.5*oqupy.operators.sigma('z'),\n",
    "                        h = 10**(-6))\n",
    "    dprop_dpram_derivs_delta.append(deriv)"
   ]
  },
  {
   "cell_type": "code",
   "execution_count": null,
   "metadata": {},
   "outputs": [],
   "source": []
  },
  {
   "cell_type": "code",
   "execution_count": 27,
   "metadata": {},
   "outputs": [
    {
     "name": "stdout",
     "output_type": "stream",
     "text": [
      "--> Compute dynamics:\n",
      "100.0%  100 of  100 [########################################] 00:00:05\n",
      "Elapsed time: 5.5s\n"
     ]
    }
   ],
   "source": [
    "gradient_arp = oqupy.gradient(\n",
    "                system=arp_system,\n",
    "                initial_state=oqupy.operators.spin_dm('z-'),\n",
    "                target_state=oqupy.operators.spin_dm('z+'),\n",
    "                process_tensor=process_tensor,\n",
    "                dprop_dparam_list=dprop_dpram_derivs_omega,\n",
    "                dprop_times_list=dprop_dpram_times)\n",
    "\n",
    "omega_derivs = gradient_arp.total_derivs\n",
    "\n",
    "gradient_delta = oqupy.gradient(\n",
    "                system=arp_system,\n",
    "                gradient_dynamics=gradient_arp,\n",
    "                process_tensor=process_tensor,\n",
    "                dprop_dparam_list=dprop_dpram_derivs_omega,\n",
    "                dprop_times_list=dprop_dpram_times)\n",
    "\n",
    "            \n",
    "delta_derivs = gradient_delta.total_derivs\n",
    "\n",
    "dham_dtheta = arp_hamiltonian_deriv(dprop_dpram_times)\n",
    "\n"
   ]
  },
  {
   "cell_type": "code",
   "execution_count": 28,
   "metadata": {},
   "outputs": [
    {
     "name": "stdout",
     "output_type": "stream",
     "text": [
      "the derivative of a pulse of area 3.141592653589793 and chirp 0 w.r.t:\n",
      "theta_0 = (0.2704788957459562-3.3223520041643124e-08j)\n",
      "a = 0j\n"
     ]
    }
   ],
   "source": [
    "# apply last term of chain rule\n",
    "\n",
    "omega_total_derivs = omega_derivs * dham_dtheta\n",
    "delta_total_derivs = delta_derivs * a\n",
    "\n",
    "dF_dTheta_0 = np.sum(omega_total_derivs)\n",
    "dF_da = np.sum(delta_total_derivs)\n",
    "\n",
    "print('the derivative of a pulse of area {} and chirp {} w.r.t:'.format(theta_0,a))\n",
    "print('theta_0 = {}'.format(dF_dTheta_0))\n",
    "print('a = {}'.format(dF_da))"
   ]
  },
  {
   "cell_type": "markdown",
   "metadata": {},
   "source": [
    "Now if all that is desired is to calculate $\\frac{\\partial\\mathcal{F}}{\\partial\\Theta_0}$, and $\\frac{\\partial\\mathcal{F}}{\\partial a}$ this is a massive overkill, and doesn't offer much of a saving for computational resources. However in calculating these parameters, we have also calculated the gradient of the magnitude of $\\Omega$ and $\\Delta$ at the instantanious moments in time, which is interesting to plot in itself:"
   ]
  },
  {
   "cell_type": "code",
   "execution_count": 36,
   "metadata": {},
   "outputs": [
    {
     "name": "stderr",
     "output_type": "stream",
     "text": [
      "/home/eobutler/dev/venv_1/lib/python3.10/site-packages/matplotlib/cbook/__init__.py:1298: ComplexWarning: Casting complex values to real discards the imaginary part\n",
      "  return np.asarray(x, float)\n"
     ]
    },
    {
     "data": {
      "text/plain": [
       "<matplotlib.legend.Legend at 0x7fc64f7e92a0>"
      ]
     },
     "execution_count": 36,
     "metadata": {},
     "output_type": "execute_result"
    },
    {
     "data": {
      "image/png": "[encoded data removed]",
      "text/plain": [
       "<Figure size 432x288 with 1 Axes>"
      ]
     },
     "metadata": {
      "needs_background": "light"
     },
     "output_type": "display_data"
    }
   ],
   "source": [
    "omega_gradient = sum_adjacent_elements(omega_derivs)\n",
    "delta_gradient = sum_adjacent_elements(delta_derivs)\n",
    "\n",
    "plt.plot(times,omega_gradient,label=r'$\\Omega$')\n",
    "plt.plot(times,delta_gradient,label=r'$\\Delta$')\n",
    "plt.legend()\n"
   ]
  },
  {
   "attachments": {},
   "cell_type": "markdown",
   "metadata": {},
   "source": [
    "### Comparison with Finite difference"
   ]
  },
  {
   "cell_type": "code",
   "execution_count": 30,
   "metadata": {},
   "outputs": [],
   "source": [
    "from tqdm.contrib import tenumerate\n",
    "\n",
    "def compute_finite_difference_brute(\n",
    "                        pt_instance: oqupy.SimpleProcessTensor,\n",
    "                        hamiltonian,\n",
    "                        initial_state,\n",
    "                        target_state,\n",
    "                        times,\n",
    "                        operator,\n",
    "                        h = 10**-6):\n",
    "    ''' doesn't use the adjoint method, just computes the frichét derivatives by\n",
    "    brute force'''\n",
    "\n",
    "    assert operator.shape[0] == pt_instance.hilbert_space_dimension,\\\n",
    "         'input operator is a different H.S. dimension to the system'\n",
    "    dt = pt_instance.dt\n",
    "    def hamiltonian_perturbed(operator,h,dt,time):\n",
    "        def _hamiltonian_perturbed(t):\n",
    "            if time-dt/2 < t < time+dt/2:\n",
    "                return hamiltonian(t) + h * operator\n",
    "            return hamiltonian(t)\n",
    "        return _hamiltonian_perturbed\n",
    "\n",
    "    derivative_array = np.zeros(times.size,dtype=np.complex128)\n",
    "    for i,time in tenumerate(times):\n",
    "        ham_plus_h = hamiltonian_perturbed(operator,h,dt,time)\n",
    "        ham_minus_h = hamiltonian_perturbed(operator,-h,dt,time)\n",
    "\n",
    "        system_plus_h = oqupy.TimeDependentSystem(ham_plus_h)\n",
    "        system_minus_h = oqupy.TimeDependentSystem(ham_minus_h)\n",
    "\n",
    "        dynamics_forward = oqupy.compute_dynamics(\n",
    "                    system_plus_h,\n",
    "                    initial_state,\n",
    "                    start_time=0,\n",
    "                    process_tensor=pt_instance,\n",
    "                    record_all=False,\n",
    "                    progress_type='silent')\n",
    "        dynamics_backward = oqupy.compute_dynamics(\n",
    "                    system_minus_h,\n",
    "                    initial_state,\n",
    "                    start_time=0,\n",
    "                    process_tensor=pt_instance,\n",
    "                    record_all=False,\n",
    "                    progress_type='silent')\n",
    "        final_state_forward = dynamics_forward.states[0,:,:]\n",
    "        final_state_backward = dynamics_backward.states[0,:,:]\n",
    "\n",
    "        fidelity_forward = 1 - np.matmul(target_state,final_state_forward).trace()\n",
    "        fidelity_backward = 1 - np.matmul(target_state,final_state_backward).trace()\n",
    "\n",
    "        derivative = (fidelity_forward - fidelity_backward) / (2 * h)\n",
    "\n",
    "        derivative_array[i] = derivative\n",
    "        np.save('deriv_array',derivative_array)\n",
    "\n",
    "    return derivative_array\n",
    "\n"
   ]
  },
  {
   "cell_type": "code",
   "execution_count": 31,
   "metadata": {},
   "outputs": [],
   "source": [
    "generate_finite_differnce_z = False\n",
    "generate_finite_differnce_x = False"
   ]
  },
  {
   "cell_type": "code",
   "execution_count": 32,
   "metadata": {},
   "outputs": [],
   "source": [
    "if generate_finite_differnce_z:\n",
    "    fd_z = compute_finite_difference_brute(\n",
    "                process_tensor,\n",
    "                hamiltonian_t,\n",
    "                initial_state=oqupy.operators.spin_dm('z-'),\n",
    "                target_state=oqupy.operators.spin_dm('z+'),\n",
    "                times=times,\n",
    "                operator=oqupy.operators.sigma('z')\n",
    "                )\n",
    "\n",
    "    np.save('deriv_array_z',fd_z)\n"
   ]
  },
  {
   "cell_type": "code",
   "execution_count": 33,
   "metadata": {},
   "outputs": [],
   "source": [
    "if generate_finite_differnce_x:\n",
    "    fd_x = compute_finite_difference_brute(\n",
    "                process_tensor,\n",
    "                hamiltonian_t,\n",
    "                initial_state=oqupy.operators.spin_dm('z-'),\n",
    "                target_state=oqupy.operators.spin_dm('z+'),\n",
    "                times=times,\n",
    "                operator=oqupy.operators.sigma('x')\n",
    "                )\n",
    "    np.save('deriv_array_x',fd_x)\n"
   ]
  },
  {
   "cell_type": "code",
   "execution_count": null,
   "metadata": {},
   "outputs": [],
   "source": []
  },
  {
   "cell_type": "code",
   "execution_count": 35,
   "metadata": {},
   "outputs": [
    {
     "data": {
      "text/plain": [
       "<matplotlib.legend.Legend at 0x7fc64f773a90>"
      ]
     },
     "execution_count": 35,
     "metadata": {},
     "output_type": "execute_result"
    },
    {
     "data": {
      "image/png": "[encoded data removed]",
      "text/plain": [
       "<Figure size 432x288 with 1 Axes>"
      ]
     },
     "metadata": {
      "needs_background": "light"
     },
     "output_type": "display_data"
    }
   ],
   "source": [
    "\n",
    "deriv_array_x = np.load('deriv_array_x.npy')\n",
    "deriv_array_z = np.load('deriv_array_z.npy')\n",
    "plt.plot(times,deriv_array_x.real,label='fd_x')\n",
    "plt.plot(times,deriv_array_z.real,label='fd_z')\n",
    "\n",
    "plt.plot(times,out_x.real,label='adj_x')\n",
    "plt.plot(times,out_z.real,label='adj_z')\n",
    "\n",
    "plt.legend()"
   ]
  }
 ],
 "metadata": {
  "interpreter": {
   "hash": "82d10ccd8e47b3fa4e28f3b5f0363e38ab40ff5e2780345a78459005100c19ec"
  },
  "kernelspec": {
   "display_name": "Python 3.10.4 ('venv_1')",
   "language": "python",
   "name": "python3"
  },
  "language_info": {
   "codemirror_mode": {
    "name": "ipython",
    "version": 3
   },
   "file_extension": ".py",
   "mimetype": "text/x-python",
   "name": "python",
   "nbconvert_exporter": "python",
   "pygments_lexer": "ipython3",
   "version": "3.10.6"
  },
  "orig_nbformat": 4,
  "vscode": {
   "interpreter": {
    "hash": "a62a31cce7fdc7250bf1303f3a744872f35a709152d20694985a374e3193d112"
   }
  }
 },
 "nbformat": 4,
 "nbformat_minor": 2
}
