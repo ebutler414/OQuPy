{
 "cells": [
  {
   "attachments": {},
   "cell_type": "markdown",
   "metadata": {},
   "source": [
    "# Adjoint Method within PT-MPO for calculating the gradient\n",
    "\n",
    "In this tutorial, we use the adjoint method to calculate the gradient of an objective function within PT-MPO. This tutorial is written to be accompanied by the supplemental information in \\[insert citation here\\]\n"
   ]
  },
  {
   "cell_type": "code",
   "execution_count": null,
   "metadata": {},
   "outputs": [],
   "source": [
    "import numpy as np\n",
    "import oqupy\n",
    "import matplotlib.pyplot as plt"
   ]
  },
  {
   "attachments": {},
   "cell_type": "markdown",
   "metadata": {},
   "source": [
    "## Setting up the system and the objective function\n",
    "\n",
    "The first thing we do is set up the problem, generate a process tensor, save it, write a cost function\n",
    "\n",
    "We choose the spin-boson model of a quantum dot (QD) with appropriately chosen parameters as in \\[ramsay,our_paper\\].\n",
    "\n",
    "We model a quantum dot coupled to a bosonic environment evolving under a total hamiltonian of $H_S+H_B+H_{SB}$, where we use a standard, deformation potential coupling of $H_{SB}=s_z\\sum_q(g_qb_q+g_q^*b_q^\\dagger)$. This system-environment interaction is controlled by the following super-ohmic spectral density,\n",
    "$$\n",
    "J(\\omega) = 2\\alpha\\omega^3 \\omega_c^{-2}\\exp\\left[-\\frac{\\omega^2}{\\omega_c^2}\\right]\n",
    "$$ \n",
    "\n",
    "and we define the physical parameters as:"
   ]
  },
  {
   "cell_type": "code",
   "execution_count": null,
   "metadata": {},
   "outputs": [],
   "source": [
    "\n",
    "alpha = 0.126\n",
    "omega_cutoff = 3.04"
   ]
  },
  {
   "cell_type": "markdown",
   "metadata": {},
   "source": [
    "And the numerical parameters for tempo as:"
   ]
  },
  {
   "cell_type": "code",
   "execution_count": null,
   "metadata": {},
   "outputs": [],
   "source": [
    "dt = 0.05\n",
    "dkmax = 60\n",
    "esprel = 10**(-7)\n",
    "temperature = 5 * 0.1309 # 1K = 0.1309/ps in natural units\n",
    "max_time = 5"
   ]
  },
  {
   "cell_type": "code",
   "execution_count": null,
   "metadata": {},
   "outputs": [],
   "source": [
    "\n",
    "correlations = oqupy.PowerLawSD(alpha=alpha,\n",
    "                                zeta=3,\n",
    "                                cutoff=omega_cutoff,\n",
    "                                cutoff_type='gaussian',\n",
    "                                temperature=temperature)\n",
    "bath = oqupy.Bath(oqupy.operators.sigma(\"z\")/2.0, correlations)\n",
    "\n",
    "tempo_params = oqupy.TempoParameters(dt=dt, dkmax=dkmax, epsrel=esprel)\n",
    "\n"
   ]
  },
  {
   "cell_type": "code",
   "execution_count": null,
   "metadata": {},
   "outputs": [],
   "source": [
    "generate_process_tensor = False"
   ]
  },
  {
   "cell_type": "code",
   "execution_count": null,
   "metadata": {},
   "outputs": [],
   "source": [
    "if generate_process_tensor:\n",
    "    process_tensor = oqupy.pt_tempo_compute(bath=bath,\n",
    "                                            start_time=0,\n",
    "                                            end_time=max_time,\n",
    "                                            parameters=tempo_params,\n",
    "                                            # progress_type='silent'\n",
    "                                            )\n",
    "\n",
    "    process_tensor.export('optimisation_pt.processTensor',overwrite=True)\n",
    "\n",
    "else:\n",
    "    process_tensor = oqupy.import_process_tensor(\n",
    "                'optimisation_pt.processTensor','simple')"
   ]
  },
  {
   "attachments": {},
   "cell_type": "markdown",
   "metadata": {},
   "source": [
    "### Defining the objective function\n",
    "\n",
    "There are two parts that are necessary: \n",
    "\n",
    "- A cost function, which in the case of this tutorial will be the Ullmann Fidelity / Infidelity between a target *pure* state $|\\sigma\\rangle$ and a final density matrix which will be computed by PT-MPO $\\rho_f$\n",
    "$$\n",
    "\\mathcal{F} = \\langle\\sigma|\\rho_f|\\sigma\\rangle\n",
    "$$\n",
    "\n",
    "- A gradient function which computes $\\frac{\\partial\\mathcal{F}}{\\partial c_i}$\n",
    "\n",
    "First we state the cost function and then show how to get the gradient using the adjoint method and the `oqupy.get_gradient_and_dynamics` function\n",
    "\n",
    "Before this we need to specify a system hamiltonian.\n",
    "\n",
    "#### Defining the system hamiltonian\n",
    "\n",
    "For simplicity we will restrict ourselves to a two level system where we apply fields conjugate to two of the spin operators\n",
    "\n",
    "$$\n",
    "H_{\\text{sys}} = h_x S_x + h_z S_z\n",
    "$$\n",
    "\n",
    "The hamiltonian is discretised into timesteps of duration `dt` and we choose the discrete value $h_\\bullet$ to be constant across each timestep. We make no other form of parameterisation."
   ]
  },
  {
   "cell_type": "code",
   "execution_count": null,
   "metadata": {},
   "outputs": [],
   "source": [
    "from scipy.interpolate import interp1d\n",
    "from oqupy.process_tensor import BaseProcessTensor\n",
    "from oqupy.helpers import get_full_timesteps\n"
   ]
  },
  {
   "cell_type": "code",
   "execution_count": null,
   "metadata": {},
   "outputs": [],
   "source": [
    "\n",
    "def get_hamiltonian(hx:np.ndarray,hz:np.ndarray,pt:BaseProcessTensor):\n",
    "\n",
    "    # interp doesn't extrapolate beyond the last point so any time after t-dt will be out of bounds\n",
    "    # need to duplicate the final point so we create the very last 'pixel'\n",
    "    expval_times = get_full_timesteps(pt,0)\n",
    "    assert hx.size == expval_times.size, 'hx must be same length as number of timesteps'\n",
    "    assert hz.size == expval_times.size, 'hz must be same length as number of timesteps'\n",
    "    # expval_times plus one timestep\n",
    "    expval_times_p1 = np.concatenate((expval_times,np.array([pt.dt * len(pt)])))\n",
    "    # duplicate last element so any time between t_f-dt and t_f falls within this 'pixel'\n",
    "    # otherwise scipy interp1d doesn't like extrapolating so calls it out of bounds\n",
    "    hx_p1 = np.concatenate((hx,np.array([hx[-1]])))\n",
    "    hz_p1 = np.concatenate((hz,np.array([hz[-1]])))\n",
    "\n",
    "    hx_interp = interp1d(expval_times_p1,hx_p1,kind='zero')\n",
    "    hz_interp = interp1d(expval_times_p1,hz_p1,kind='zero')\n",
    "\n",
    "    def hamiltonian_t(t):\n",
    "        _hx = hx_interp(t)\n",
    "        _hz = hz_interp(t)\n",
    "\n",
    "        hx_sx = 0.5 * oqupy.operators.sigma('x') * _hx\n",
    "        hz_sz = 0.5 * oqupy.operators.sigma('z') * _hz\n",
    "        hamiltonian = hz_sz + hx_sx\n",
    "        return hamiltonian\n",
    "\n",
    "    return hamiltonian_t"
   ]
  },
  {
   "cell_type": "code",
   "execution_count": null,
   "metadata": {},
   "outputs": [],
   "source": [
    "# times = get_full_timesteps(process_tensor,0)\n",
    "# # pi pulse conjugate to s_z\n",
    "# h_z = np.ones(times.size) *np.pi / max_time\n",
    "# h_x = np.zeros(times.size)\n",
    "# hamiltonian_t = get_hamiltonian(hx=h_x,hz=h_z,pt=process_tensor)\n",
    "# hamiltonian_t(4.0)"
   ]
  },
  {
   "attachments": {},
   "cell_type": "markdown",
   "metadata": {},
   "source": [
    "Now the cost function:"
   ]
  },
  {
   "cell_type": "code",
   "execution_count": null,
   "metadata": {},
   "outputs": [],
   "source": [
    "\n",
    "def cost_function(\n",
    "                control_parameters,\n",
    "                pt,\n",
    "                initial_state = oqupy.operators.spin_dm(\"z-\"),\n",
    "                target_state = oqupy.operators.spin_dm(\"z+\")):\n",
    "\n",
    "\n",
    "    # take some arbitrary hamiltonian (will specify this later)\n",
    "    hamiltonian_t = get_hamiltonian(control_parameters,pt)#  this obv broken\n",
    "\n",
    "\n",
    "    system = oqupy.TimeDependentSystem(hamiltonian_t)\n",
    "    final_state = oqupy.compute_dynamics(\n",
    "                    system,\n",
    "                    initial_state,\n",
    "                    start_time=0,\n",
    "                    process_tensor=pt)\n",
    "    final_state = pt.compute(system,initial_state=initial_state)\n",
    "    fidelity = 1 - np.matmul(final_state,target_state).trace() # infidelity\n",
    "\n",
    "    return fidelity.real\n"
   ]
  },
  {
   "attachments": {},
   "cell_type": "markdown",
   "metadata": {},
   "source": [
    "Now the gradient:\n",
    "\n",
    "We start off by finding the finite difference routine that will get the derivative of the system propagators with respect to the control parameters defined above. The finite difference routine is"
   ]
  },
  {
   "attachments": {},
   "cell_type": "markdown",
   "metadata": {},
   "source": [
    "Now we show the gradient function:\n",
    "\n",
    "We note that because the gradient and cost funciton are defined seperatedly, which is somewhat ineficient because we cannot take into account that when calculating the gradient the fidelity is also calculated. This should probabkly be fixed and i'd imagine is also not an issue with the Krotov algorithm.\n",
    "\n",
    "We restrict ourselves to an optimisation where each time-step is an optimisation parameter, and we take a finite difference chain rule as described in the other tutorial"
   ]
  },
  {
   "cell_type": "code",
   "execution_count": null,
   "metadata": {},
   "outputs": [],
   "source": [
    "from scipy.linalg import expm\n",
    "from typing import Optional"
   ]
  },
  {
   "cell_type": "code",
   "execution_count": null,
   "metadata": {},
   "outputs": [],
   "source": [
    "\n",
    "def time_dependent_finite_difference(\n",
    "                    process_tensor,\n",
    "                    system,\n",
    "                    times,  # again same point as above, why does it need to be repeated.\n",
    "                    operator, #the operator to differentiate wrt\n",
    "                    h=10**(-6),\n",
    "                    timesteps_used: Optional[int] = None): # finite difference timestep\n",
    "    '''this is a very specific case where the number of derivatives == the number of half timestep propagators\n",
    "    TODO: figure out if that's actually correct'''\n",
    "\n",
    "    ham=system.hamiltonian\n",
    "\n",
    "    def dpropagator(system,\n",
    "        t, # expectation value times\n",
    "        dt,\n",
    "        op,\n",
    "        h):\n",
    "        '''\n",
    "        deriv of propagator wrt the pre node and the post node\n",
    "        '''\n",
    "\n",
    "        post_liouvillian_plus_h=-1j * oqupy.operators.commutator(ham(t+dt*3.0/4.0)+h*op)\n",
    "        post_liouvillian_minus_h=-1j * oqupy.operators.commutator(ham(t+dt*3.0/4.0)-h*op)\n",
    "\n",
    "        post_propagator_plus_h=expm(post_liouvillian_plus_h*dt/2.0).T\n",
    "        post_propagator_minus_h=expm(post_liouvillian_minus_h*dt/2.0).T\n",
    "\n",
    "        postderiv=(post_propagator_plus_h-post_propagator_minus_h)/(2.0*h)\n",
    "\n",
    "        pre_liouvillian_plus_h=-1j * oqupy.operators.commutator(ham(t+dt*1.0/4.0)+h*op)\n",
    "        pre_liouvillian_minus_h=-1j * oqupy.operators.commutator(ham(t+dt*1.0/4.0)-h*op)\n",
    "\n",
    "        pre_propagator_plus_h=expm(pre_liouvillian_plus_h*dt/2.0).T\n",
    "        pre_propagator_minus_h=expm(pre_liouvillian_minus_h*dt/2.0).T\n",
    "        prederiv=(pre_propagator_plus_h-pre_propagator_minus_h)/(2.0*h)\n",
    "        return prederiv,postderiv\n",
    "\n",
    "\n",
    "    derivs = []\n",
    "\n",
    "    for step in range(times.size):\n",
    "        prederiv,postderiv=dpropagator(system,times[step],process_tensor.dt,operator,h)\n",
    "        derivs.append(prederiv)\n",
    "        derivs.append(postderiv)\n",
    "\n",
    "    return derivs\n"
   ]
  },
  {
   "attachments": {},
   "cell_type": "markdown",
   "metadata": {},
   "source": [
    "lets see what the gradient of a constant $\\pi$ pulse looks like"
   ]
  },
  {
   "cell_type": "code",
   "execution_count": null,
   "metadata": {},
   "outputs": [],
   "source": [
    "from oqupy.helpers import get_half_timesteps\n",
    "times = get_full_timesteps(process_tensor,0)\n",
    "expval_times = oqupy.helpers.get_full_timesteps(process_tensor,0)\n",
    "\n",
    "# pi pulse conjugate to s_z\n",
    "h_x = np.ones(times.size) *np.pi / max_time\n",
    "h_z = np.zeros(times.size)\n",
    "hamiltonian_t = get_hamiltonian(hx=h_x,hz=h_z,pt=process_tensor)\n",
    "system = oqupy.TimeDependentSystem(hamiltonian_t)\n",
    "\n",
    "dprop_dpram_times = get_half_timesteps(process_tensor,0)\n"
   ]
  },
  {
   "cell_type": "code",
   "execution_count": null,
   "metadata": {},
   "outputs": [],
   "source": [
    "\n",
    "\n",
    "dprop_dpram_derivs_x = time_dependent_finite_difference(\n",
    "                process_tensor=process_tensor,\n",
    "                system=system,\n",
    "                times=times,\n",
    "                operator=0.5*oqupy.operators.sigma('x'))\n",
    "\n",
    "\n",
    "total_derivs_x = oqupy.gradient(\n",
    "                system=system,\n",
    "                initial_state=oqupy.operators.spin_dm('z-'),\n",
    "                target_state=oqupy.operators.spin_dm('z+'),\n",
    "                dprop_dparam_list=dprop_dpram_derivs_x,\n",
    "                dprop_times_list=dprop_dpram_times,\n",
    "                process_tensor=process_tensor,)\n"
   ]
  },
  {
   "cell_type": "code",
   "execution_count": null,
   "metadata": {},
   "outputs": [],
   "source": [
    "\n",
    "\n",
    "dprop_dpram_derivs_z = time_dependent_finite_difference(\n",
    "                process_tensor=process_tensor,\n",
    "                system=system,\n",
    "                times=times,operator=oqupy.operators.sigma('z'))\n",
    "\n",
    "\n",
    "total_derivs_z = oqupy.gradient(\n",
    "                system=system,\n",
    "                initial_state=oqupy.operators.spin_dm('z-'),\n",
    "                target_state=oqupy.operators.spin_dm('z+'),\n",
    "                dprop_dparam_list=dprop_dpram_derivs_z,\n",
    "                dprop_times_list=dprop_dpram_times,\n",
    "                process_tensor=process_tensor,)\n"
   ]
  },
  {
   "cell_type": "code",
   "execution_count": null,
   "metadata": {},
   "outputs": [],
   "source": [
    "plt.figure()\n",
    "plt.plot(dprop_dpram_times,total_derivs_x.real,label='x')\n",
    "plt.plot(dprop_dpram_times,total_derivs_z.real,label='z')\n",
    "\n",
    "plt.legend()\n",
    "plt.show()\n"
   ]
  },
  {
   "cell_type": "code",
   "execution_count": null,
   "metadata": {},
   "outputs": [],
   "source": [
    "from tqdm.contrib import tenumerate\n",
    "\n",
    "def compute_finite_difference_brute(\n",
    "                        pt_instance: oqupy.SimpleProcessTensor,\n",
    "                        hamiltonian,\n",
    "                        initial_state,\n",
    "                        target_state,\n",
    "                        times,\n",
    "                        operator,\n",
    "                        h = 10**-6):\n",
    "    ''' doesn't use the adjoint method, just computes the frichét derivatives by\n",
    "    brute force'''\n",
    "\n",
    "    assert operator.shape[0] == pt_instance.hilbert_space_dimension,\\\n",
    "         'input operator is a different H.S. dimension to the system'\n",
    "    dt = pt_instance.dt\n",
    "    def hamiltonian_perturbed(operator,h,dt,time):\n",
    "        def _hamiltonian_perturbed(t):\n",
    "            if time-dt/2 < t < time+dt/2:\n",
    "                return hamiltonian(t) + h * operator\n",
    "            return hamiltonian(t)\n",
    "        return _hamiltonian_perturbed\n",
    "\n",
    "    derivative_array = np.zeros(times.size,dtype=np.complex128)\n",
    "    for i,time in tenumerate(times):\n",
    "        ham_plus_h = hamiltonian_perturbed(operator,h,dt,time)\n",
    "        ham_minus_h = hamiltonian_perturbed(operator,-h,dt,time)\n",
    "\n",
    "        system_plus_h = oqupy.TimeDependentSystem(ham_plus_h)\n",
    "        system_minus_h = oqupy.TimeDependentSystem(ham_minus_h)\n",
    "\n",
    "        dynamics_forward = oqupy.compute_dynamics(\n",
    "                    system_plus_h,\n",
    "                    initial_state,\n",
    "                    start_time=0,\n",
    "                    process_tensor=pt_instance,\n",
    "                    record_all=False,\n",
    "                    progress_type='silent')\n",
    "        dynamics_backward = oqupy.compute_dynamics(\n",
    "                    system_minus_h,\n",
    "                    initial_state,\n",
    "                    start_time=0,\n",
    "                    process_tensor=pt_instance,\n",
    "                    record_all=False,\n",
    "                    progress_type='silent')\n",
    "        final_state_forward = dynamics_forward.states[0,:,:]\n",
    "        final_state_backward = dynamics_backward.states[0,:,:]\n",
    "\n",
    "        fidelity_forward = 1 - np.matmul(target_state,final_state_forward).trace()\n",
    "        fidelity_backward = 1 - np.matmul(target_state,final_state_backward).trace()\n",
    "\n",
    "        derivative = (fidelity_forward - fidelity_backward) / (2 * h)\n",
    "\n",
    "        derivative_array[i] = derivative\n",
    "        np.save('deriv_array',derivative_array)\n",
    "\n",
    "    return derivative_array\n",
    "\n"
   ]
  },
  {
   "cell_type": "code",
   "execution_count": null,
   "metadata": {},
   "outputs": [],
   "source": [
    "generate_finite_differnce_z = False\n",
    "generate_finite_differnce_x = False"
   ]
  },
  {
   "cell_type": "code",
   "execution_count": null,
   "metadata": {},
   "outputs": [],
   "source": [
    "if generate_finite_differnce_z:\n",
    "    fd_z = compute_finite_difference_brute(\n",
    "                process_tensor,\n",
    "                hamiltonian_t,\n",
    "                initial_state=oqupy.operators.spin_dm('z-'),\n",
    "                target_state=oqupy.operators.spin_dm('z+'),\n",
    "                times=expval_times,\n",
    "                operator=oqupy.operators.sigma('z')\n",
    "                )\n",
    "\n",
    "    np.save('deriv_array_z',fd_z)\n"
   ]
  },
  {
   "cell_type": "code",
   "execution_count": null,
   "metadata": {},
   "outputs": [],
   "source": [
    "if generate_finite_differnce_x:\n",
    "    fd_x = compute_finite_difference_brute(\n",
    "                process_tensor,\n",
    "                hamiltonian_t,\n",
    "                initial_state=oqupy.operators.spin_dm('z-'),\n",
    "                target_state=oqupy.operators.spin_dm('z+'),\n",
    "                times=expval_times,\n",
    "                operator=oqupy.operators.sigma('x')\n",
    "                )\n",
    "    np.save('deriv_array_x',fd_x)\n"
   ]
  },
  {
   "cell_type": "code",
   "execution_count": null,
   "metadata": {},
   "outputs": [],
   "source": []
  },
  {
   "cell_type": "code",
   "execution_count": null,
   "metadata": {},
   "outputs": [],
   "source": [
    "\n",
    "deriv_array_x = np.load('deriv_array_x.npy')\n",
    "deriv_array_z = np.load('deriv_array_z.npy')\n",
    "plt.plot(expval_times,deriv_array_x.real,label='adj_x')\n",
    "plt.plot(expval_times,deriv_array_z.real,label='adj_z')\n",
    "\n",
    "plt.plot(dprop_dpram_times,total_derivs_x.real,label='fd_x')\n",
    "plt.plot(dprop_dpram_times,total_derivs_z.real,label='fd_z')\n",
    "\n",
    "plt.legend()"
   ]
  }
 ],
 "metadata": {
  "kernelspec": {
   "display_name": "ocupyvenv",
   "language": "python",
   "name": "python3"
  },
  "language_info": {
   "codemirror_mode": {
    "name": "ipython",
    "version": 3
   },
   "file_extension": ".py",
   "mimetype": "text/x-python",
   "name": "python",
   "nbconvert_exporter": "python",
   "pygments_lexer": "ipython3",
   "version": "3.8.10 (default, Nov 14 2022, 12:59:47) \n[GCC 9.4.0]"
  },
  "orig_nbformat": 4,
  "vscode": {
   "interpreter": {
    "hash": "a62a31cce7fdc7250bf1303f3a744872f35a709152d20694985a374e3193d112"
   }
  }
 },
 "nbformat": 4,
 "nbformat_minor": 2
}
