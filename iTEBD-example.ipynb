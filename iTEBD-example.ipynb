{
 "cells": [
  {
   "cell_type": "code",
   "execution_count": null,
   "id": "8a85fd69",
   "metadata": {},
   "outputs": [],
   "source": [
    "# Demonstration of iTEBD within OQuPy\n",
    "# Uses the original iTEBD code by Valentin Link from https://github.com/val-link/iTEBD-TEMPO.git.\n",
    "# Minimally modified by Paul Eastham to take a bath correlation object from OQuPy.\n",
    "# The resulting object can turned into a new proces tensor subclass, TTInvariantProcessTensor, which should function as all other PTs in OQuPy\n",
    "# Todo: fully integrate the creation of iTEBD process tensors so we can skip calls to iTEBD_TEMPO_oqupy class."
   ]
  },
  {
   "cell_type": "code",
   "execution_count": 1,
   "id": "f906bed1",
   "metadata": {},
   "outputs": [],
   "source": [
    "import oqupy as oqupy\n",
    "from oqupy.iTEBD_TEMPO_useoqupybath import iTEBD_TEMPO_oqupy\n",
    "from oqupy.process_tensor import TTInvariantProcessTensor\n",
    "from oqupy.tti_tempo import TTITempo\n",
    "import numpy as np\n",
    "import matplotlib.pyplot as plt"
   ]
  },
  {
   "cell_type": "code",
   "execution_count": 2,
   "id": "f314d374",
   "metadata": {},
   "outputs": [],
   "source": [
    "sigma_z = oqupy.operators.sigma(\"z\")\n",
    "sigma_x = oqupy.operators.sigma(\"x\")\n",
    "sigma_y = oqupy.operators.sigma(\"y\")\n",
    "omega_cutoff = 3.04 \n",
    "alpha = 0.126\n",
    "temperature = 0.1309\n",
    "correlations = oqupy.PowerLawSD(alpha=alpha,\n",
    "                                zeta=3,\n",
    "                                cutoff=omega_cutoff,\n",
    "                                cutoff_type='gaussian',\n",
    "                                temperature=temperature)\n",
    "bath = oqupy.Bath(sigma_x/2.0, correlations)\n",
    "# uses a modified version of Link's iTEBD_TEMPO class, which will take the bath correlation defined in OQuPy\n",
    "# other parameters remain as in the original, i.e. eigenvalues of the coupling operator, timestep, cut-off.\n",
    "Delta=0.1\n",
    "parameters=oqupy.TempoParameters(dt=Delta,epsrel=1e-7,dkmax=100)\n",
    "#MyiTEBD_TEMPO_oqupy = iTEBD_TEMPO_oqupy(np.diagonal(sigma_z/2), Delta, correlations, 100)\n",
    "#MyiTEBD_TEMPO_oqupy.compute_f(rank=100, rtol=1e-7)\n",
    "#pt=TTInvariantProcessTensor(MyiTEBD_TEMPO_oqupy) # this can now be used like a normal OQuPy process tensor\n",
    "\n"
   ]
  },
  {
   "cell_type": "code",
   "execution_count": null,
   "id": "c39678ff",
   "metadata": {},
   "outputs": [],
   "source": []
  },
  {
   "cell_type": "code",
   "execution_count": 6,
   "id": "0bc1dce3",
   "metadata": {},
   "outputs": [
    {
     "ename": "NameError",
     "evalue": "name 'pt' is not defined",
     "output_type": "error",
     "traceback": [
      "\u001b[1;31m---------------------------------------------------------------------------\u001b[0m",
      "\u001b[1;31mNameError\u001b[0m                                 Traceback (most recent call last)",
      "Cell \u001b[1;32mIn[6], line 14\u001b[0m\n\u001b[0;32m      9\u001b[0m system \u001b[38;5;241m=\u001b[39m oqupy\u001b[38;5;241m.\u001b[39mTimeDependentSystem(hamiltonian_t)\n\u001b[0;32m     11\u001b[0m Rho_0\u001b[38;5;241m=\u001b[39moqupy\u001b[38;5;241m.\u001b[39moperators\u001b[38;5;241m.\u001b[39mspin_dm(\u001b[38;5;124m'\u001b[39m\u001b[38;5;124mz-\u001b[39m\u001b[38;5;124m'\u001b[39m)\n\u001b[0;32m     13\u001b[0m dynamics \u001b[38;5;241m=\u001b[39m oqupy\u001b[38;5;241m.\u001b[39mcompute_dynamics(\n\u001b[1;32m---> 14\u001b[0m        process_tensor\u001b[38;5;241m=\u001b[39m\u001b[43mpt\u001b[49m,        \n\u001b[0;32m     15\u001b[0m        system\u001b[38;5;241m=\u001b[39msystem,\n\u001b[0;32m     16\u001b[0m        initial_state\u001b[38;5;241m=\u001b[39mRho_0,\n\u001b[0;32m     17\u001b[0m        start_time\u001b[38;5;241m=\u001b[39m\u001b[38;5;241m-\u001b[39m\u001b[38;5;241m5.0\u001b[39m,\n\u001b[0;32m     18\u001b[0m        num_steps\u001b[38;5;241m=\u001b[39m\u001b[38;5;241m200\u001b[39m)\n\u001b[0;32m     20\u001b[0m t, s_x \u001b[38;5;241m=\u001b[39m dynamics\u001b[38;5;241m.\u001b[39mexpectations(sigma_x, real\u001b[38;5;241m=\u001b[39m\u001b[38;5;28;01mTrue\u001b[39;00m)\n\u001b[0;32m     21\u001b[0m _, s_y \u001b[38;5;241m=\u001b[39m dynamics\u001b[38;5;241m.\u001b[39mexpectations(sigma_y, real\u001b[38;5;241m=\u001b[39m\u001b[38;5;28;01mTrue\u001b[39;00m)\n",
      "\u001b[1;31mNameError\u001b[0m: name 'pt' is not defined"
     ]
    }
   ],
   "source": [
    "detuning = lambda t: 0.0 * t\n",
    "def gaussian_shape(t, area = 1.0, tau = 1.0, t_0 = 0.0):\n",
    "    return area/(tau*np.sqrt(np.pi)) * np.exp(-(t-t_0)**2/(tau**2))\n",
    "\n",
    "def hamiltonian_t(t):\n",
    "    return detuning(t)/2.0 * sigma_z \\\n",
    "           + gaussian_shape(t, area = np.pi/2.0, tau = 1)/2.0 * sigma_y\n",
    "\n",
    "system = oqupy.TimeDependentSystem(hamiltonian_t)\n",
    "\n",
    "Rho_0=oqupy.operators.spin_dm('z-')\n",
    "\n",
    "dynamics = oqupy.compute_dynamics(\n",
    "       process_tensor=pt,        \n",
    "       system=system,\n",
    "       initial_state=Rho_0,\n",
    "       start_time=-5.0,\n",
    "       num_steps=200)\n",
    "\n",
    "t, s_x = dynamics.expectations(sigma_x, real=True)\n",
    "_, s_y = dynamics.expectations(sigma_y, real=True)\n",
    "_, s_z = dynamics.expectations(sigma_z, real=True)\n"
   ]
  },
  {
   "cell_type": "code",
   "execution_count": 8,
   "metadata": {},
   "outputs": [
    {
     "data": {
      "text/plain": [
       "<matplotlib.legend.Legend at 0x1c2794ab350>"
      ]
     },
     "execution_count": 8,
     "metadata": {},
     "output_type": "execute_result"
    },
    {
     "data": {
      "image/png": "[encoded data removed]",
      "text/plain": [
       "<Figure size 640x480 with 1 Axes>"
      ]
     },
     "metadata": {},
     "output_type": "display_data"
    }
   ],
   "source": [
    "t, s_x = dynamics.expectations(sigma_x, real=True)\n",
    "t, s_y = dynamics.expectations(sigma_y, real=True)\n",
    "s_xy = np.sqrt(s_x**2 + s_y**2)\n",
    "plt.plot(t, s_xy, label=r'$\\Delta = 0.0$')\n",
    "plt.xlabel(r'$t\\,\\Omega$')\n",
    "plt.ylabel(r'$<\\sigma_{xy}>$')\n",
    "plt.ylim((0.0,1.0))\n",
    "plt.legend(loc=4)"
   ]
  },
  {
   "cell_type": "code",
   "execution_count": 7,
   "id": "9cc802fa",
   "metadata": {},
   "outputs": [
    {
     "name": "stderr",
     "output_type": "stream",
     "text": [
      "building influence functional: 100%|██████████| 100/100 [00:00<00:00, 234.21it/s]"
     ]
    },
    {
     "name": "stdout",
     "output_type": "stream",
     "text": [
      "rank  83\n"
     ]
    },
    {
     "name": "stderr",
     "output_type": "stream",
     "text": [
      "\n"
     ]
    }
   ],
   "source": [
    "# ok, let's see if we can make this more OQuPylike\n",
    "# MyiTEBD_TEMPO_oqupy = iTEBD_TEMPO_oqupy(np.diagonal(sigma_z/2), Delta, correlations, 100)\n",
    "# MyiTEBD_TEMPO_oqupy.compute_f(rank=100, rtol=1e-7)\n",
    "# pt=TTInvariantProcessTensor(MyiTEBD_TEMPO_oqupy)\n",
    "\n",
    "# We would like to (i)instantiate a TT process tensor with a set of tempo parameters and a bath, (ii)then compute its f, \n",
    "# \n",
    "bath = oqupy.Bath(sigma_z/2.0, correlations)\n",
    "pt2=TTITempo(bath,0.0,parameters)\n"
   ]
  },
  {
   "cell_type": "code",
   "execution_count": 8,
   "id": "6dc20eab",
   "metadata": {},
   "outputs": [
    {
     "name": "stdout",
     "output_type": "stream",
     "text": [
      "--> Compute dynamics:\n",
      "100.0%  200 of  200 [########################################] 00:00:02\n",
      "Elapsed time: 2.7s\n"
     ]
    },
    {
     "name": "stderr",
     "output_type": "stream",
     "text": [
      "C:\\Users\\preas\\AppData\\Local\\Temp\\ipykernel_22508\\259211133.py:31: UserWarning: No artists with labels found to put in legend.  Note that artists whose label start with an underscore are ignored when legend() is called with no argument.\n",
      "  plt.legend(loc=4)\n"
     ]
    },
    {
     "data": {
      "text/plain": [
       "<matplotlib.legend.Legend at 0x1d7804fd970>"
      ]
     },
     "execution_count": 8,
     "metadata": {},
     "output_type": "execute_result"
    },
    {
     "data": {
      "image/png": "[encoded data removed]",
      "text/plain": [
       "<Figure size 640x480 with 1 Axes>"
      ]
     },
     "metadata": {},
     "output_type": "display_data"
    }
   ],
   "source": [
    "detuning = lambda t: 0.0 * t\n",
    "def gaussian_shape(t, area = 1.0, tau = 1.0, t_0 = 0.0):\n",
    "    return area/(tau*np.sqrt(np.pi)) * np.exp(-(t-t_0)**2/(tau**2))\n",
    "\n",
    "def hamiltonian_t(t):\n",
    "    return detuning(t)/2.0 * sigma_z \\\n",
    "           + gaussian_shape(t, area = np.pi/2.0, tau = 1)/2.0 * sigma_y\n",
    "\n",
    "def hamiltonian_t(t):\n",
    "    return 0.0*sigma_z\n",
    "\n",
    "system = oqupy.TimeDependentSystem(hamiltonian_t)\n",
    "\n",
    "Rho_0=oqupy.operators.spin_dm('z-')\n",
    "\n",
    "dynamics2 = oqupy.compute_dynamics(\n",
    "       process_tensor=pt2._process_tensor,        \n",
    "       system=system,\n",
    "       initial_state=Rho_0,\n",
    "       start_time=-5.0,\n",
    "       num_steps=200)\n",
    "\n",
    "t, s_x = dynamics2.expectations(sigma_x, real=True)\n",
    "_, s_y = dynamics2.expectations(sigma_y, real=True)\n",
    "_, s_z = dynamics2.expectations(sigma_z, real=True)\n",
    "\n",
    "plt.plot(t,s_x)\n",
    "plt.plot(t,s_y)\n",
    "plt.plot(t,s_z)\n",
    "plt.ylim((-1.0,1.0))\n",
    "plt.legend(loc=4)"
   ]
  }
 ],
 "metadata": {
  "kernelspec": {
   "display_name": "Python 3 (ipykernel)",
   "language": "python",
   "name": "python3"
  },
  "language_info": {
   "codemirror_mode": {
    "name": "ipython",
    "version": 3
   },
   "file_extension": ".py",
   "mimetype": "text/x-python",
   "name": "python",
   "nbconvert_exporter": "python",
   "pygments_lexer": "ipython3",
   "version": "3.12.5"
  }
 },
 "nbformat": 4,
 "nbformat_minor": 5
}
