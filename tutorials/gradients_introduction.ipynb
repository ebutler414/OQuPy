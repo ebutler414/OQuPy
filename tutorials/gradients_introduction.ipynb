{
 "cells": [
  {
   "attachments": {},
   "cell_type": "markdown",
   "metadata": {},
   "source": [
    "# Adjoint Method within PT-MPO for calculating the gradient\n",
    "\n",
    "In this tutorial, we use the adjoint method to calculate the gradient of an objective function within PT-MPO. This tutorial is intended to be read in conjunction with the supplemental information in \\[insert citation here\\]\n",
    "\n",
    "The goal of this tutorial is to calculate the gradient of some generic objective function $Z$ which only depends on the value of the final density matrix $\\rho_f$. To do this we will need to evaluate each part of the sum in equation S1 of the afformentioned supplement.\n",
    "\n",
    "$$\n",
    "\\frac{\\partial Z}{\\partial c_a}=\\sum_n\\sum_{i,j,k}^{d_{H_S}^2}\n",
    "\\frac{\\partial Z}{\\partial \\rho_f^i}\n",
    "\\frac{\\partial\\rho_f^i}{\\partial U^{jk}_n}\n",
    "\\frac{\\partial U^{jk}_n}{\\partial c_a},\n",
    "$$\n",
    "\n",
    "where the last term on the right hand side of the equation is the derivative of the system propagators $U$ (which are constructed from the system hamiltonian) and the control parameter. This needs to be calculated which is shown below. The middle term is the derivative of the final state with respect to the system propagators. This is the computationally difficult part that is performed by the forward-propagation and back-propagation in the adjoint method. Finally the first term is the derivative of the objective function with respect to the final state, which we will later show that in the case of fidelity between a pure target state $|\\sigma\\rangle$ and $\\rho_f$, reduces to simply $\\sigma^T$, but more generally this will also need to be calculated.\n",
    "\n",
    "A considerably more in-depth discussion of the construction of this method is given in the supplement.\n",
    "\n",
    "## The `oqupy.gradient` method\n",
    "\n",
    "The `oqupy.gradient` method is defined as follows:\n",
    "\n",
    "``` python\n",
    "def gradient(\n",
    "        system: Union[System, TimeDependentSystem],\n",
    "        gradient_dynamics: Optional[GradientDynamics] = None,\n",
    "        initial_state: Optional[ndarray] = None,\n",
    "        target_state: Optional[ndarray] = None,\n",
    "        dprop_dparam_list: Optional[List[ndarray]] = None,\n",
    "        dprop_times_list: Optional[ndarray] = None,\n",
    "        dt: Optional[float] = None,\n",
    "        num_steps: Optional[int] = None,\n",
    "        start_time: Optional[float] = 0.0,\n",
    "        process_tensor: Optional[Union[List[BaseProcessTensor],\n",
    "                                       BaseProcessTensor]] = None,\n",
    "        control: Optional[Control] = None,\n",
    "        get_forward_backprop_list: Optional[bool] = False,\n",
    "        record_all: Optional[bool] = True,\n",
    "        subdiv_limit: Optional[int] = SUBDIV_LIMIT,\n",
    "        liouvillian_epsrel: Optional[float] = INTEGRATE_EPSREL,\n",
    "        progress_type: Optional[Text] = None) -> GradientDynamics:\n",
    "```\n",
    "Broadly speaking, `oqupy.gradient` requires a system, an initial state and a target state in hilbert space, a process tensor, from which it can compute $\\frac{\\partial\\rho_f^i}{\\partial U^{jk}_n}$. Additionally, `oqupy.gradient` requires `dprop_dparam_list` which is given in the form of a list of $(d^2_{H_S},d^2_{H_S})$ matrices in Liouville space which are $\\frac{\\partial U^{jk}_n}{\\partial c_a}$, as well as `dprop_times_list`, an array of the times that corrispond to the $\\frac{\\partial U^{jk}_n}{\\partial c_a}$ in that position in the list. These are all requirements in order to perform a `oqupy.gradient` call, and the result is returned within a `oqupy.GradientDynamics` instance. If $\\frac{\\partial\\rho_f^i}{\\partial U^{jk}_n}$ is already known, it is possible to re-use this result with a different list of $\\frac{\\partial U^{jk}_n}{\\partial c_a}$, by passing the `oqupy.GradientDynamics` instance to the `oqupy.gradient` function, and the new `dprop_dparam_list` and `dprop_times_list`. Since the adjoint method has already been computed, there is no need to supply the initial or target state, however a process tensor and system instances are still necessary to construct the deriviatives.\n",
    "\n",
    "We now show examples of how this is implemented\n"
   ]
  },
  {
   "cell_type": "code",
   "execution_count": 1,
   "metadata": {},
   "outputs": [],
   "source": [
    "import numpy as np\n",
    "import oqupy\n",
    "import matplotlib.pyplot as plt"
   ]
  },
  {
   "cell_type": "markdown",
   "metadata": {},
   "source": [
    "### Overview\n",
    "1. Set up the physical model\n",
    "2. Setting up the objective function (calculating the extra terms necessary to obtain the gradient)\n",
    "3. Using the adjoint method\n",
    "4. Comparison with brute force finite difference"
   ]
  },
  {
   "attachments": {},
   "cell_type": "markdown",
   "metadata": {},
   "source": [
    "## Setting up the system and model\n",
    "\n",
    "The first thing we do is set up the problem, generate a process tensor, and save it to our hard drive so we don't need to regenerate the PT every time you need to reload this script.\n",
    "\n",
    "We choose the spin-boson model of a quantum dot (QD) with appropriately chosen parameters as in \\[ramsay,our_paper\\].\n",
    "\n",
    "We model a quantum dot coupled to a bosonic environment evolving under a total hamiltonian of \n",
    "\n",
    "$H_S+H_B+H_{SB}$, where we use a standard, deformation potential coupling of $H_{SB}=s_z\\sum_q(g_qb_q+g_q^*b_q^\\dagger)$. This system-environment interaction is controlled by the following super-ohmic spectral density,\n",
    "$$\n",
    "J(\\omega) = 2\\alpha\\omega^3 \\omega_c^{-2}\\exp\\left[-\\frac{\\omega^2}{\\omega_c^2}\\right].\n",
    "$$ \n",
    "\n",
    "We choose units where $\\hbar=1$ and we define the physical parameters as:"
   ]
  },
  {
   "cell_type": "code",
   "execution_count": 2,
   "metadata": {},
   "outputs": [],
   "source": [
    "alpha = 0.126\n",
    "omega_cutoff = 3.04\n",
    "temperature = 5 * 0.1309 # 1K = 0.1309/ps in natural units"
   ]
  },
  {
   "cell_type": "markdown",
   "metadata": {},
   "source": [
    "And the numerical parameters for tempo as:"
   ]
  },
  {
   "cell_type": "code",
   "execution_count": 3,
   "metadata": {},
   "outputs": [],
   "source": [
    "dt = 0.05\n",
    "dkmax = 60\n",
    "esprel = 10**(-7)\n",
    "max_time = 5"
   ]
  },
  {
   "cell_type": "code",
   "execution_count": 4,
   "metadata": {},
   "outputs": [],
   "source": [
    "\n",
    "correlations = oqupy.PowerLawSD(alpha=alpha,\n",
    "                                zeta=3,\n",
    "                                cutoff=omega_cutoff,\n",
    "                                cutoff_type='gaussian',\n",
    "                                temperature=temperature)\n",
    "bath = oqupy.Bath(oqupy.operators.sigma(\"z\")/2.0, correlations)\n",
    "\n",
    "tempo_params = oqupy.TempoParameters(dt=dt, dkmax=dkmax, epsrel=esprel)"
   ]
  },
  {
   "cell_type": "code",
   "execution_count": 5,
   "metadata": {},
   "outputs": [],
   "source": [
    "generate_process_tensor = True"
   ]
  },
  {
   "cell_type": "code",
   "execution_count": 6,
   "metadata": {},
   "outputs": [
    {
     "name": "stdout",
     "output_type": "stream",
     "text": [
      "--> PT-TEMPO computation:\n",
      "100.0%  100 of  100 [########################################] 00:00:20\n",
      "Elapsed time: 20.9s\n",
      "internal bond dimensions\n",
      "[ 1  4 10 16 18 21 25 25 27 31 31 30 30 32 33 35 34 37 37 37 38 39 38 39\n",
      " 39 38 38 37 39 39 41 43 40 39 41 42 41 42 42 41 41 42 43 42 42 41 41 42\n",
      " 42 41 41 42 41 40 39 40 39 39 40 39 39 37 38 39 38 38 38 37 38 39 38 36\n",
      " 36 36 35 35 35 34 33 32 32 31 30 30 29 28 27 25 24 21 20 19 18 16 14 13\n",
      " 12  9  6  3  1]\n"
     ]
    }
   ],
   "source": [
    "if generate_process_tensor:\n",
    "    process_tensor = oqupy.pt_tempo_compute(bath=bath,\n",
    "                                            start_time=0,\n",
    "                                            end_time=max_time,\n",
    "                                            parameters=tempo_params,\n",
    "                                            # progress_type='silent'\n",
    "                                            )\n",
    "\n",
    "    process_tensor.export('optimisation_pt.processTensor',overwrite=True)\n",
    "\n",
    "else:\n",
    "    process_tensor = oqupy.import_process_tensor(\n",
    "                'optimisation_pt.processTensor','simple')\n",
    "\n",
    "print('internal bond dimensions')\n",
    "print(process_tensor.get_bond_dimensions())"
   ]
  },
  {
   "attachments": {},
   "cell_type": "markdown",
   "metadata": {},
   "source": [
    "### Defining a system\n",
    "\n",
    "For simplicity we have chosen a model that can be well approximated as a two level system. In this case we assume that our system is coupled to fields conjugate to $s_z$ and $s_x$. As in the main text we treat them as piecewise constant over the discrete timesteps of the process tensor. This gives us a system hamiltonian\n",
    "\n",
    "$$\n",
    "H_S=h_xs_x + h_zs_z\n",
    "$$\n",
    "\n",
    "Where the field strengths $h_x$ and $h_z$ are discritised into timesteps `dt`. \n",
    "\n",
    "In code:"
   ]
  },
  {
   "cell_type": "code",
   "execution_count": 7,
   "metadata": {},
   "outputs": [],
   "source": [
    "from scipy.interpolate import interp1d\n",
    "from oqupy.process_tensor import BaseProcessTensor\n",
    "# function that returns the times that the density matrix is calculated at\n",
    "from oqupy.helpers import get_full_timesteps"
   ]
  },
  {
   "cell_type": "code",
   "execution_count": 8,
   "metadata": {},
   "outputs": [],
   "source": [
    "\n",
    "def get_hamiltonian(hx:np.ndarray,hz:np.ndarray,pt:BaseProcessTensor):\n",
    "    \"\"\"\n",
    "    Returns a callable which takes a single parameter, t, and returns the\n",
    "    hamiltonian of the two level system at that time. This function takes a\n",
    "    process tensor, and the magnitude of $h_z$ and $h_x$ at each of those\n",
    "    timesteps\n",
    "\n",
    "    \n",
    "    \"\"\"\n",
    "\n",
    "    # expval times including endtime, to generate the last \"pixel\"\n",
    "    expval_times_p1 = get_full_timesteps(pt,0,inc_endtime=True)\n",
    "    assert hx.size == expval_times_p1.size-1, \\\n",
    "        'hx must be same length as number of timesteps, without endtime'\n",
    "    assert hz.size == expval_times_p1.size-1, \\\n",
    "        'hz must be same length as number of timesteps, without endtime'\n",
    "\n",
    "    # duplicate last element so any time between t_f-dt and t_f falls within\n",
    "    # this 'pixel' otherwise scipy interp1d doesn't like extrapolating so calls\n",
    "    # it out of bounds\n",
    "    hx_p1 = np.concatenate((hx,np.array([hx[-1]])))\n",
    "    hz_p1 = np.concatenate((hz,np.array([hz[-1]])))\n",
    "\n",
    "    hx_interp = interp1d(expval_times_p1,hx_p1,kind='zero')\n",
    "    hz_interp = interp1d(expval_times_p1,hz_p1,kind='zero')\n",
    "\n",
    "    def hamiltonian_t(t):\n",
    "        _hx = hx_interp(t)\n",
    "        _hz = hz_interp(t)\n",
    "\n",
    "        hx_sx = 0.5 * oqupy.operators.sigma('x') * _hx\n",
    "        hz_sz = 0.5 * oqupy.operators.sigma('z') * _hz\n",
    "        hamiltonian = hz_sz + hx_sx\n",
    "        return hamiltonian\n",
    "\n",
    "    return hamiltonian_t"
   ]
  },
  {
   "attachments": {},
   "cell_type": "markdown",
   "metadata": {},
   "source": [
    "## Setting up the gradient\n",
    "### Defining a objective function\n",
    "\n",
    "The most generic objective function conceivable can be evaluated by equation S1. For definiteness we will focus on the widely used quantum fidelity. For two valid density matrices, the general formula has a rather unwieldly definition.\n",
    "$$\n",
    "\\mathcal{F}(\\rho_A,\\rho_B) = \\left(\\text{tr}\\left[\\sqrt{\\sqrt{\\rho_A}\\rho_B\\sqrt{\\rho_A}}\\right]\\right)^2\n",
    "$$\n",
    "\n",
    "In the main text we consider the case where one of the density matrices (in our case the target density matrix) is a *pure* density matrix corresponding to the state $|\\sigma\\rangle$. So the formula for the fidelity of a control protocol resulting in a final density matrix $\\rho_f$ reduces to\n",
    "\n",
    "$$\n",
    "\\mathcal{F} = \\langle\\sigma|\\rho_f|\\sigma\\rangle.\n",
    "$$\n",
    "\n",
    "The goal of this tutorial is to show how one would calculate $\\frac{\\partial\\mathcal{F}}{\\partial c_a}$. As previously mentioned, it is possible to compute the derivative of a general objective function, by identifying $\\frac{\\partial Z}{\\partial \\rho_f^i}$, however for simplicity we will explain the functionality of the package using the example in the main text.\n",
    "\n",
    "We state in the main text that the fidelity w.r.t. a pure state can be computed within PT-MPO tensor network by starting with the pure state in Hilbert space,$|\\sigma\\rangle$ constructing the density matrix associated for this state, $\\rho_t^{i,j} = |\\sigma\\rangle\\langle\\sigma|$, of shape $(d_{H_S},d_{H_S})$ of the taking the transpose of the density matrix, $(\\rho_t^T)^{i,j}$, converting this into Liouville space, which we label as $(\\rho_t^T)^i$ which is a vector of dimension $d^2_{H_S}$. Next, we compute the target state for a given protocol, $\\rho_f^i$, which is in *Liouville* space (a vector). Finally we find the fidelity is calculated by the sum of the element wise product of these two objects\n",
    "$$\n",
    "\\mathcal{F} = \\sum_i^{d^2_{H_S}} \\rho_f^i\\rho_t^i,\n",
    "$$\n",
    "\n",
    "which is the same as the diagram shown in Fig. 1 of the main text, and Fig. S2.\n",
    "\n",
    "This is an intentional departure from the notation used in the supplement, in order to clearly distinguish when we are talking about the *target state* in Hilbert space, $|\\sigma\\rangle$, a *density matrix* in Hilbert space corresponding to the pure target state, $\\rho_t^{i,j}$, and finally a vectorised density matrix in Liouville space, $\\rho_t^i$ \n",
    "\n",
    "This fact can be seen by understanding how the vectorisation works. `oqupy` predominantly uses numpy, and `numpy.reshape` uses c notation which is a row vectorisation by default. For a two level system this looks like.\n",
    "\n",
    "$$\\rho = \\begin{bmatrix}\n",
    "\\rho_{11}&\\rho_{12}\\\\\n",
    "\\rho_{21}&\\rho_{22}\n",
    "\n",
    "\\end{bmatrix}\n",
    "\\rightarrow\n",
    "\n",
    "\\begin{bmatrix}\n",
    "\\rho_{11}\\\\ \\rho_{12}\\\\\n",
    "\\rho_{21}\\\\ \\rho_{22}\n",
    "\n",
    "\\end{bmatrix}\n",
    "$$\n",
    "\n",
    "In Einstein notation the formula for the fidelity is\n",
    "\n",
    "$$\n",
    "\\mathcal{F} = \\langle\\sigma|\\rho_f|\\sigma\\rangle = \\sum_{i,j}^{d^2_{H_S}}(\\sigma^*)^i\\rho_f^{i,j}\\sigma^j,\n",
    "$$\n",
    "and\n",
    "$$\n",
    "\\rho_T^{ij} = |\\sigma\\rangle\\langle\\sigma| = \\sigma^i(\\sigma^*)^j.\n",
    "$$\n",
    "\n",
    "Because the operators are hermitian, conjugating a matrix is equivalent to taking the transpose, so combining the two previous equations, and noting carefully the order of the indices,\n",
    "$$\n",
    "\\mathcal{F} = \\sum_{i,j}^{d^2_{H_S}}(\\sigma^*)^i\\sigma^j\\rho_f^{i,j} = \\sum_{i,j}^{d^2_{H_S}}\\rho_t^{ji}\\rho_f^{ij}.\n",
    "$$\n",
    "\n",
    "By considering how the vectorisation works one can see how this is achieved by a scalar product in Liouville space of $(\\rho_t^{T})^{ij}$ and $\\rho_f^{ij}$."
   ]
  },
  {
   "attachments": {},
   "cell_type": "markdown",
   "metadata": {},
   "source": [
    "\n",
    "### Obtaining the derivative of the propegator w.r.t. the control parameter $c_a$\n",
    "\n",
    "Now we have to identify the derivative of the system propagator with respect to the control parameter which we wish to optimise in our hamiltonian.\n",
    "In the case of our Hamiltonian this is $h_\\bullet$. Since evalutating the propagator is a $(d_{H_s}^2,d_{H_s}^2)$, this is cheap so it is not prohibitive to do this through finite differencing. I haven't provided a general function that will do this for some general hamiltonian, but it is not hard to write, and I give you an example of how to write one below.\n",
    "\n",
    "The important part of this step is to note that in the main text and supplement, for simplicity and clarity of diagrams, we have used a simple, first order, Suzuki-Trotter splitting \n",
    "\n",
    "$$\\exp[\\mathcal{L}_{\\text{tot}}(\\texttt{t})\\texttt{dt}]\\rightarrow\\exp[\\mathcal{L}_{\\text{env}}(\\texttt{t})\\texttt{dt}]\\exp[\\mathcal{L}_{\\text{S}}(\\texttt{t}+\\texttt{dt/2})\\texttt{dt}]$$\n",
    "\n",
    "Whereas the `oqupy` package uses a symmeterised splitting\n",
    "\n",
    "$$\n",
    "\\exp[\\mathcal{L}_{\\text{tot}}(\\texttt{t})\\texttt{dt}]\\rightarrow\n",
    "\\exp[\\mathcal{L}_S(\\texttt{t}+3\\texttt{dt}/4)\\texttt{dt}/2]\n",
    "\\exp[\\mathcal{L}_{\\text{env}}(\\texttt{t}+\\texttt{dt}/2)\\texttt{dt}]\n",
    "\\exp[\\mathcal{L}_S(\\texttt{t}+\\texttt{dt/4})\\texttt{dt}/2].$$\n",
    "\n",
    "As such, instead of each timestep $t_n$ having a single system propagator, $U(t_n)$ that propagates forward one timestep, one must instead consider two system propagators, $U(t_n+\\texttt{dt}/4)$, $U(t_n+3\\texttt{dt}/4)$ that propagate forward two half timesteps. So if a derivative $\\frac{\\partial U_n}{\\partial c_a}$ depends on timestep $n$, we must supply\n",
    "\n",
    "$$\n",
    "\\frac{\\partial U(t_n+\\texttt{dt}/4)}{\\partial c_a} + \\frac{\\partial U(t_n+3\\texttt{dt}/4)}{\\partial c_a}\n",
    "$$\n",
    "\n",
    "in pairs.\n",
    "\n",
    "An example function does this below in the case we have on the main text where $c_a\\rightarrow h_\\bullet(n)$ where $h\\in \\{0,\\texttt{dt},2\\texttt{dt},\\dots N\\texttt{dt}\\}$ so $\\frac{\\partial U_n}{\\partial h_\\bullet(a)}$ is only non-zero for $n=a$, and there is no sum over time in equation S1, as stated in supplement.\n",
    "\n",
    "This is coded using finite differences as follows:"
   ]
  },
  {
   "cell_type": "markdown",
   "metadata": {},
   "source": [
    "The practical way to implement the symmetrized trotter splitting is to figure out what times your control parameter $c_a$ depends on. Then once you have figured out what times your control parameter depends on, it is simply a matter of including both the pre time and post time to calculate dpropagator, and then summing over the resultant total derivatives at the end. \n",
    "\n",
    "In the case we consider here my control parameters are $h_\\bullet(t)$ where $t\\in \\{0,\\texttt{dt},2\\texttt{dt},\\dots N\\texttt{dt}\\}$, so each individual $h_\\bullet(t)$ parameter depends only on a single timestep, and when we consider $h_\\bullet(t)$ for all $t$ we use all timesteps. So the simplest way to do this is for each timestep used calculate both $U(t+\\texttt{dt}/4)$ and $U(t+3\\texttt{dt}/4)$ in pairs. The pairs of times needed can easilly be found by using the `get_half_timesteps` function."
   ]
  },
  {
   "cell_type": "code",
   "execution_count": 9,
   "metadata": {},
   "outputs": [],
   "source": [
    "from scipy.linalg import expm\n"
   ]
  },
  {
   "cell_type": "code",
   "execution_count": 10,
   "metadata": {},
   "outputs": [],
   "source": [
    "def dpropagator(hamiltonian,\n",
    "    t, # expectation value times\n",
    "    dt,\n",
    "    op,\n",
    "    h):\n",
    "    \"\"\"\n",
    "    deriv of propagator wrt either a pre node or a post node\n",
    "    \"\"\"\n",
    "\n",
    "    liouvillian_plus_h=-1j * oqupy.operators.commutator(hamiltonian(t)+h*op)\n",
    "    liouvillian_minus_h=-1j * oqupy.operators.commutator(hamiltonian(t)-h*op)\n",
    "\n",
    "    propagator_plus_h=expm(liouvillian_plus_h*dt/2.0).T\n",
    "    propagator_minus_h=expm(liouvillian_minus_h*dt/2.0).T\n",
    "\n",
    "    deriv=(propagator_plus_h-propagator_minus_h)/(2.0*h)\n",
    "    return deriv"
   ]
  },
  {
   "attachments": {},
   "cell_type": "markdown",
   "metadata": {},
   "source": [
    "## Pi Pulse gradient\n",
    "\n",
    "Now let's see what the gradient of a pi pulse looks like. We make use of the helper funciton that generates a list of all of the whole timesteps where we are able to calculate the density matrix and thus the expectation values of our simulation. From there we specify a protocol that is a $\\pi$ pulse"
   ]
  },
  {
   "cell_type": "code",
   "execution_count": 11,
   "metadata": {},
   "outputs": [],
   "source": [
    "times = get_full_timesteps(process_tensor,start_time=0)\n",
    "\n",
    "# pi pulse conjugate to s_x\n",
    "h_x = np.ones(times.size) * np.pi / max_time\n",
    "h_z = np.zeros(times.size)\n",
    "hamiltonian_t = get_hamiltonian(hx=h_x,hz=h_z,pt=process_tensor)\n",
    "system = oqupy.TimeDependentSystem(hamiltonian_t)"
   ]
  },
  {
   "cell_type": "code",
   "execution_count": 12,
   "metadata": {},
   "outputs": [],
   "source": [
    "from oqupy.helpers import get_half_timesteps\n",
    "\n",
    "# all propagator half timesteps\n",
    "dprop_dpram_times = get_half_timesteps(process_tensor,0)\n",
    "\n",
    "# because my control parameters cover all timesteps need derivatives w.r.t.\n",
    "# every half propagator.\n",
    "dprop_dpram_derivs_x = []\n",
    "for i in range(dprop_dpram_times.size):\n",
    "    deriv = dpropagator(\n",
    "                        hamiltonian_t,\n",
    "                        dprop_dpram_times[i],\n",
    "                        process_tensor.dt,\n",
    "                        op=0.5*oqupy.operators.sigma('x'),\n",
    "                        h = 10**(-6))\n",
    "    dprop_dpram_derivs_x.append(deriv)"
   ]
  },
  {
   "attachments": {},
   "cell_type": "markdown",
   "metadata": {},
   "source": [
    "Now we obtain our list of $\\frac{\\partial U_n}{\\partial c_a}$ for all our parameters"
   ]
  },
  {
   "attachments": {},
   "cell_type": "markdown",
   "metadata": {},
   "source": [
    "### Using adjoint method\n",
    "\n",
    "The last thing we need to do is to provide a list of the times that we have provided $\\frac{\\partial U_n}{\\partial c_a}$ at. This list should be *monotonly increasing*, once this is provided the gradient function handles the recombination described in the supplement"
   ]
  },
  {
   "cell_type": "code",
   "execution_count": 13,
   "metadata": {},
   "outputs": [
    {
     "name": "stdout",
     "output_type": "stream",
     "text": [
      "--> Compute dynamics:\n",
      "100.0%  100 of  100 [########################################] 00:00:01\n",
      "Elapsed time: 1.6s\n",
      "(3, 4) , (1,) , (1, 4)\n",
      "(1, 1, 3, 4, 4)\n"
     ]
    },
    {
     "ename": "ValueError",
     "evalue": "Cannot connect edges of unequal dimension. Dimension of edge '__unnamed_edge__': 3, Dimension of edge '__unnamed_edge__': 6.",
     "output_type": "error",
     "traceback": [
      "\u001b[1;31m---------------------------------------------------------------------------\u001b[0m",
      "\u001b[1;31mValueError\u001b[0m                                Traceback (most recent call last)",
      "\u001b[1;32mc:\\Users\\Administrator\\Desktop\\Research\\EoinB_Oqupy\\OQuPy\\tutorials\\gradients_introduction.ipynb Cell 24\u001b[0m line \u001b[0;36m1\n\u001b[1;32m----> <a href='vscode-notebook-cell:/c%3A/Users/Administrator/Desktop/Research/EoinB_Oqupy/OQuPy/tutorials/gradients_introduction.ipynb#X32sZmlsZQ%3D%3D?line=0'>1</a>\u001b[0m gradient \u001b[39m=\u001b[39m oqupy\u001b[39m.\u001b[39;49mgradient(\n\u001b[0;32m      <a href='vscode-notebook-cell:/c%3A/Users/Administrator/Desktop/Research/EoinB_Oqupy/OQuPy/tutorials/gradients_introduction.ipynb#X32sZmlsZQ%3D%3D?line=1'>2</a>\u001b[0m                 system\u001b[39m=\u001b[39;49msystem,\n\u001b[0;32m      <a href='vscode-notebook-cell:/c%3A/Users/Administrator/Desktop/Research/EoinB_Oqupy/OQuPy/tutorials/gradients_introduction.ipynb#X32sZmlsZQ%3D%3D?line=2'>3</a>\u001b[0m                 initial_state\u001b[39m=\u001b[39;49moqupy\u001b[39m.\u001b[39;49moperators\u001b[39m.\u001b[39;49mspin_dm(\u001b[39m'\u001b[39;49m\u001b[39mz-\u001b[39;49m\u001b[39m'\u001b[39;49m),\n\u001b[0;32m      <a href='vscode-notebook-cell:/c%3A/Users/Administrator/Desktop/Research/EoinB_Oqupy/OQuPy/tutorials/gradients_introduction.ipynb#X32sZmlsZQ%3D%3D?line=3'>4</a>\u001b[0m                 target_state\u001b[39m=\u001b[39;49moqupy\u001b[39m.\u001b[39;49moperators\u001b[39m.\u001b[39;49mspin_dm(\u001b[39m'\u001b[39;49m\u001b[39mz+\u001b[39;49m\u001b[39m'\u001b[39;49m),\n\u001b[0;32m      <a href='vscode-notebook-cell:/c%3A/Users/Administrator/Desktop/Research/EoinB_Oqupy/OQuPy/tutorials/gradients_introduction.ipynb#X32sZmlsZQ%3D%3D?line=4'>5</a>\u001b[0m                 process_tensor\u001b[39m=\u001b[39;49mprocess_tensor,\n\u001b[0;32m      <a href='vscode-notebook-cell:/c%3A/Users/Administrator/Desktop/Research/EoinB_Oqupy/OQuPy/tutorials/gradients_introduction.ipynb#X32sZmlsZQ%3D%3D?line=5'>6</a>\u001b[0m                 dprop_dparam_list\u001b[39m=\u001b[39;49mdprop_dpram_derivs_x)\n\u001b[0;32m      <a href='vscode-notebook-cell:/c%3A/Users/Administrator/Desktop/Research/EoinB_Oqupy/OQuPy/tutorials/gradients_introduction.ipynb#X32sZmlsZQ%3D%3D?line=7'>8</a>\u001b[0m total_derivs_x \u001b[39m=\u001b[39m gradient\u001b[39m.\u001b[39mtotal_derivs\n",
      "File \u001b[1;32m~\\Desktop\\Research\\EoinB_Oqupy\\OQuPy\\oqupy\\gradient.py:133\u001b[0m, in \u001b[0;36mgradient\u001b[1;34m(system, gradient_dynamics, initial_state, target_state, dprop_dparam_list, dprop_times_list, dt, num_steps, start_time, process_tensor, control, get_forward_backprop_list, record_all, subdiv_limit, liouvillian_epsrel, progress_type)\u001b[0m\n\u001b[0;32m    126\u001b[0m     parsed_parameters \u001b[39m=\u001b[39m _compute_dynamics_input_parse(\n\u001b[0;32m    127\u001b[0m         \u001b[39mFalse\u001b[39;00m, system, initial_state, dt, num_steps, start_time,\n\u001b[0;32m    128\u001b[0m         process_tensor, control, record_all)\n\u001b[0;32m    129\u001b[0m     system, initial_state, dt, num_steps, start_time, \\\n\u001b[0;32m    130\u001b[0m         process_tensors, control, record_all, hs_dim \u001b[39m=\u001b[39m parsed_parameters\n\u001b[1;32m--> 133\u001b[0m     gradient_dynamics \u001b[39m=\u001b[39m compute_gradient_and_dynamics_amended(\n\u001b[0;32m    134\u001b[0m                     system\u001b[39m=\u001b[39;49msystem,\n\u001b[0;32m    135\u001b[0m                     initial_state\u001b[39m=\u001b[39;49minitial_state,\n\u001b[0;32m    136\u001b[0m                     target_state\u001b[39m=\u001b[39;49mtarget_state,\n\u001b[0;32m    137\u001b[0m                     dt\u001b[39m=\u001b[39;49mdt,\n\u001b[0;32m    138\u001b[0m                     num_steps\u001b[39m=\u001b[39;49mnum_steps,\n\u001b[0;32m    139\u001b[0m                     start_time\u001b[39m=\u001b[39;49mstart_time,\n\u001b[0;32m    140\u001b[0m                     process_tensor\u001b[39m=\u001b[39;49mprocess_tensors,\n\u001b[0;32m    141\u001b[0m                     control\u001b[39m=\u001b[39;49mcontrol,\n\u001b[0;32m    142\u001b[0m                     record_all\u001b[39m=\u001b[39;49mrecord_all,\n\u001b[0;32m    143\u001b[0m                     get_forward_and_backprop_list\u001b[39m=\u001b[39;49mget_forward_backprop_list,\n\u001b[0;32m    144\u001b[0m                     subdiv_limit\u001b[39m=\u001b[39;49msubdiv_limit,\n\u001b[0;32m    145\u001b[0m                     liouvillian_epsrel\u001b[39m=\u001b[39;49mliouvillian_epsrel,\n\u001b[0;32m    146\u001b[0m                     progress_type\u001b[39m=\u001b[39;49mprogress_type)\n\u001b[0;32m    148\u001b[0m \u001b[39mif\u001b[39;00m dprop_dparam_list \u001b[39mis\u001b[39;00m \u001b[39mnot\u001b[39;00m \u001b[39mNone\u001b[39;00m:\n\u001b[0;32m    150\u001b[0m     \u001b[39mif\u001b[39;00m dprop_times_list \u001b[39mis\u001b[39;00m \u001b[39mNone\u001b[39;00m:\n",
      "File \u001b[1;32m~\\Desktop\\Research\\EoinB_Oqupy\\OQuPy\\oqupy\\contractions.py:895\u001b[0m, in \u001b[0;36mcompute_gradient_and_dynamics_amended\u001b[1;34m(system, initial_state, target_state, dt, num_steps, start_time, process_tensor, control, record_all, get_forward_and_backprop_list, subdiv_limit, liouvillian_epsrel, progress_type)\u001b[0m\n\u001b[0;32m    893\u001b[0m mpo_tensor \u001b[39m=\u001b[39m pt_mpos_list[step\u001b[39m-\u001b[39m\u001b[39m1\u001b[39m]\n\u001b[0;32m    894\u001b[0m temp_edges \u001b[39m=\u001b[39m backprop_tensor[:]\n\u001b[1;32m--> 895\u001b[0m backprop_tensor, temp_edges \u001b[39m=\u001b[39m _apply_pt_mpos(backprop_tensor,temp_edges,mpo_tensor)\n\u001b[0;32m    897\u001b[0m \u001b[39mprint\u001b[39m(np\u001b[39m.\u001b[39mshape(forwardprop_tensor),\u001b[39m\"\u001b[39m\u001b[39m,\u001b[39m\u001b[39m\"\u001b[39m,np\u001b[39m.\u001b[39mshape(mpo_tensor),\u001b[39m\"\u001b[39m\u001b[39m,\u001b[39m\u001b[39m\"\u001b[39m,np\u001b[39m.\u001b[39mshape(backprop_tensor))\n\u001b[0;32m    898\u001b[0m deriv \u001b[39m=\u001b[39m forwardprop_tensor \u001b[39m@\u001b[39m backprop_tensor\n",
      "File \u001b[1;32m~\\Desktop\\Research\\EoinB_Oqupy\\OQuPy\\oqupy\\contractions.py:1397\u001b[0m, in \u001b[0;36m_apply_pt_mpos\u001b[1;34m(current_node, current_edges, pt_mpos)\u001b[0m\n\u001b[0;32m   1395\u001b[0m new_bond_edge \u001b[39m=\u001b[39m pt_mpo_node[\u001b[39m1\u001b[39m]\n\u001b[0;32m   1396\u001b[0m new_sys_edge \u001b[39m=\u001b[39m pt_mpo_node[\u001b[39m3\u001b[39m]\n\u001b[1;32m-> 1397\u001b[0m current_edges[i] \u001b[39m^\u001b[39;49m pt_mpo_node[\u001b[39m0\u001b[39;49m]\n\u001b[0;32m   1398\u001b[0m current_edges[\u001b[39m-\u001b[39m\u001b[39m1\u001b[39m] \u001b[39m^\u001b[39m pt_mpo_node[\u001b[39m2\u001b[39m]\n\u001b[0;32m   1399\u001b[0m current_node \u001b[39m=\u001b[39m current_node \u001b[39m@\u001b[39m pt_mpo_node\n",
      "File \u001b[1;32mc:\\Users\\Administrator\\Desktop\\Research\\EoinB_Oqupy\\OQuPy\\.venv\\Lib\\site-packages\\tensornetwork\\network_components.py:1215\u001b[0m, in \u001b[0;36mEdge.__xor__\u001b[1;34m(self, other)\u001b[0m\n\u001b[0;32m   1214\u001b[0m \u001b[39mdef\u001b[39;00m \u001b[39m__xor__\u001b[39m(\u001b[39mself\u001b[39m, other: \u001b[39m\"\u001b[39m\u001b[39mEdge\u001b[39m\u001b[39m\"\u001b[39m) \u001b[39m-\u001b[39m\u001b[39m>\u001b[39m \u001b[39m\"\u001b[39m\u001b[39mEdge\u001b[39m\u001b[39m\"\u001b[39m:\n\u001b[1;32m-> 1215\u001b[0m   \u001b[39mreturn\u001b[39;00m connect(\u001b[39mself\u001b[39;49m, other, \u001b[39mself\u001b[39;49m\u001b[39m.\u001b[39;49mname)\n",
      "File \u001b[1;32mc:\\Users\\Administrator\\Desktop\\Research\\EoinB_Oqupy\\OQuPy\\.venv\\Lib\\site-packages\\tensornetwork\\network_components.py:1945\u001b[0m, in \u001b[0;36mconnect\u001b[1;34m(edge1, edge2, name)\u001b[0m\n\u001b[0;32m   1942\u001b[0m   \u001b[39mraise\u001b[39;00m \u001b[39mValueError\u001b[39;00m(\u001b[39m\"\u001b[39m\u001b[39mCannot connect edge \u001b[39m\u001b[39m'\u001b[39m\u001b[39m{}\u001b[39;00m\u001b[39m'\u001b[39m\u001b[39m to itself.\u001b[39m\u001b[39m\"\u001b[39m\u001b[39m.\u001b[39mformat(edge1))\n\u001b[0;32m   1944\u001b[0m \u001b[39mif\u001b[39;00m edge1\u001b[39m.\u001b[39mdimension \u001b[39m!=\u001b[39m edge2\u001b[39m.\u001b[39mdimension:\n\u001b[1;32m-> 1945\u001b[0m   \u001b[39mraise\u001b[39;00m \u001b[39mValueError\u001b[39;00m(\u001b[39m\"\u001b[39m\u001b[39mCannot connect edges of unequal dimension. \u001b[39m\u001b[39m\"\u001b[39m\n\u001b[0;32m   1946\u001b[0m                    \u001b[39m\"\u001b[39m\u001b[39mDimension of edge \u001b[39m\u001b[39m'\u001b[39m\u001b[39m{}\u001b[39;00m\u001b[39m'\u001b[39m\u001b[39m: \u001b[39m\u001b[39m{}\u001b[39;00m\u001b[39m, \u001b[39m\u001b[39m\"\u001b[39m\n\u001b[0;32m   1947\u001b[0m                    \u001b[39m\"\u001b[39m\u001b[39mDimension of edge \u001b[39m\u001b[39m'\u001b[39m\u001b[39m{}\u001b[39;00m\u001b[39m'\u001b[39m\u001b[39m: \u001b[39m\u001b[39m{}\u001b[39;00m\u001b[39m.\u001b[39m\u001b[39m\"\u001b[39m\u001b[39m.\u001b[39mformat(\n\u001b[0;32m   1948\u001b[0m                        edge1, edge1\u001b[39m.\u001b[39mdimension, edge2, edge2\u001b[39m.\u001b[39mdimension))\n\u001b[0;32m   1950\u001b[0m \u001b[39m#edge1 and edge2 are always dangling in this case\u001b[39;00m\n\u001b[0;32m   1951\u001b[0m node1 \u001b[39m=\u001b[39m edge1\u001b[39m.\u001b[39mnode1\n",
      "\u001b[1;31mValueError\u001b[0m: Cannot connect edges of unequal dimension. Dimension of edge '__unnamed_edge__': 3, Dimension of edge '__unnamed_edge__': 6."
     ]
    }
   ],
   "source": [
    "\n",
    "\n",
    "gradient = oqupy.gradient(\n",
    "                system=system,\n",
    "                initial_state=oqupy.operators.spin_dm('z-'),\n",
    "                target_state=oqupy.operators.spin_dm('z+'),\n",
    "                process_tensor=process_tensor,\n",
    "                dprop_dparam_list=dprop_dpram_derivs_x)\n",
    "\n",
    "total_derivs_x = gradient.total_derivs"
   ]
  },
  {
   "attachments": {},
   "cell_type": "markdown",
   "metadata": {},
   "source": [
    "Once the `oqupy.GradientDynamics` object has been created and the adjoint method has been used to get $\\frac{\\partial \\rho_f}{\\partial U_n}$ for all $n$, we can reuse the object for a different set of $\\frac{\\partial U_n}{\\partial c_k}$ without having to redo the entire adjoint calculation. By simply passing the previously outputted `gradient` object back into `oqupy.gradient()`, it automatically takes its result and we no longer need to specify the initial and target state as they have already been given, we just need to give the `dprop_dpram_list` and times"
   ]
  },
  {
   "cell_type": "code",
   "execution_count": null,
   "metadata": {},
   "outputs": [
    {
     "ename": "",
     "evalue": "",
     "output_type": "error",
     "traceback": [
      "\u001b[1;31mRunning cells with 'c:\\Users\\Administrator\\AppData\\Local\\Microsoft\\WindowsApps\\python3.11.exe' requires the ipykernel package.\n",
      "\u001b[1;31mRun the following command to install 'ipykernel' into the Python environment. \n",
      "\u001b[1;31mCommand: 'c:/Users/Administrator/AppData/Local/Microsoft/WindowsApps/python3.11.exe -m pip install ipykernel -U --user --force-reinstall'"
     ]
    }
   ],
   "source": [
    "\n",
    "dprop_dpram_derivs_z = []\n",
    "for i in range(dprop_dpram_times.size):\n",
    "    deriv = dpropagator(\n",
    "                        hamiltonian_t,\n",
    "                        dprop_dpram_times[i],\n",
    "                        process_tensor.dt,\n",
    "                        op=0.5*oqupy.operators.sigma('z'),\n",
    "                        h = 10**(-6))\n",
    "    dprop_dpram_derivs_z.append(deriv)\n",
    "\n",
    "gradient_2 = oqupy.gradient(\n",
    "                        gradient_dynamics=gradient,\n",
    "                        dprop_dparam_list=dprop_dpram_derivs_z,\n",
    "                        dprop_times_list=dprop_dpram_times,\n",
    "                        process_tensor=process_tensor,\n",
    "                        system=system)\n",
    "\n",
    "\n",
    "total_derivs_z = gradient_2.total_derivs\n"
   ]
  },
  {
   "cell_type": "markdown",
   "metadata": {},
   "source": [
    "The final step is that we need to sum the elements from the pre and post propagators together. since they are held side by side, we can simply sum the adjacent elements."
   ]
  },
  {
   "cell_type": "code",
   "execution_count": null,
   "metadata": {},
   "outputs": [
    {
     "ename": "",
     "evalue": "",
     "output_type": "error",
     "traceback": [
      "\u001b[1;31mRunning cells with 'c:\\Users\\Administrator\\AppData\\Local\\Microsoft\\WindowsApps\\python3.11.exe' requires the ipykernel package.\n",
      "\u001b[1;31mRun the following command to install 'ipykernel' into the Python environment. \n",
      "\u001b[1;31mCommand: 'c:/Users/Administrator/AppData/Local/Microsoft/WindowsApps/python3.11.exe -m pip install ipykernel -U --user --force-reinstall'"
     ]
    }
   ],
   "source": [
    "def sum_adjacent_elements(array:np.ndarray)-> np.ndarray:\n",
    "    # maybe this goes in helpers.py or utils.py?\n",
    "    half_the_size = array.size / 2\n",
    "    assert (half_the_size).is_integer(), \\\n",
    "        'if one output from both pre and post node is given, result must be even'\n",
    "    half_the_size = int(half_the_size)\n",
    "\n",
    "    # https://stackoverflow.com/a/29392016\n",
    "    summed_array = array.reshape((half_the_size,2)).sum(axis=1)\n",
    "    return summed_array"
   ]
  },
  {
   "cell_type": "code",
   "execution_count": null,
   "metadata": {},
   "outputs": [
    {
     "ename": "",
     "evalue": "",
     "output_type": "error",
     "traceback": [
      "\u001b[1;31mRunning cells with 'c:\\Users\\Administrator\\AppData\\Local\\Microsoft\\WindowsApps\\python3.11.exe' requires the ipykernel package.\n",
      "\u001b[1;31mRun the following command to install 'ipykernel' into the Python environment. \n",
      "\u001b[1;31mCommand: 'c:/Users/Administrator/AppData/Local/Microsoft/WindowsApps/python3.11.exe -m pip install ipykernel -U --user --force-reinstall'"
     ]
    }
   ],
   "source": [
    "\n",
    "# sum adjacent elements\n",
    "\n",
    "final_derivs_x = sum_adjacent_elements(total_derivs_x)\n",
    "final_derivs_z = sum_adjacent_elements(total_derivs_z)\n",
    "\n",
    "\n",
    "plt.figure()\n",
    "plt.plot(times,final_derivs_x.real,label='x')\n",
    "plt.plot(times,final_derivs_z.real,label='z')\n",
    "\n",
    "plt.legend()\n",
    "plt.show()\n"
   ]
  },
  {
   "cell_type": "markdown",
   "metadata": {},
   "source": [
    "## ARP gradient\n",
    "\n",
    "Now let us choose a time-dependent example, a chirped ARP pulse. In this case our hamiltonian is given by $H_S = \\Omega(t) s_x + \\Delta(t) s_z$, and we parameterise \n",
    "\n",
    "$$\\Omega(t) = \\frac{\\Theta_0}{\\sqrt{2\\pi\\sqrt{a^2+\\tau_0^4}}}\\text{exp}\\left[-\\frac{(t-t_0)^2\\tau_0^2}{2(a^2+\\tau_0^4)}\\right],\n",
    "$$\n",
    "$$\n",
    "\\Delta(t) = -\\frac{at}{a^2+\\tau_0^4},\n",
    "$$\n",
    "\n",
    "centred about time $t_0$, of pulse-width $\\tau_0$ and of pulse area $\\Theta_0$\n",
    "\n",
    "For simplicity let's start with an unchirped $\\pi$ pulse so $\\Theta_0=\\pi$ and $a=0$ so $\\Delta (t)=0$, and \n",
    "\n",
    "$$\\Omega(t) = \\frac{\\Theta_0}{\\sqrt{2\\pi}}\\text{exp}\\left[-\\frac{t^2}{2\\tau_0^2}\\right].\n",
    "$$\n",
    "\n",
    "However you are more than welcome to play with the parameters (though you may need to generate a longer duration process tensor)!\n",
    "\n",
    "We will plot the pulse for $5\\text{ps}$ as before and centre the pulse about $t_0=2.5$\n"
   ]
  },
  {
   "cell_type": "code",
   "execution_count": null,
   "metadata": {},
   "outputs": [],
   "source": [
    "a = 0\n",
    "theta_0 = np.pi\n",
    "tau_0=0.5\n",
    "# pulse centre\n",
    "t_0=2.5"
   ]
  },
  {
   "cell_type": "code",
   "execution_count": null,
   "metadata": {},
   "outputs": [],
   "source": [
    "def delta(t):\n",
    "    # delta = -a*(t-t_0) / (a**2+tau_0**4)\n",
    "    return np.ones(t.size,dtype='float64')\n",
    "\n",
    "def omega(t):\n",
    "    omega = theta_0 / (np.sqrt(2*np.pi * np.sqrt(a**2 + tau_0**2))) \\\n",
    "        * np.exp(-(t-t_0)**2 * tau_0**2 / (2*(a**2 + tau_0**4)))\n",
    "    return omega\n",
    "\n",
    "omega_vals = omega(times)\n",
    "delta_vals = delta(times)"
   ]
  },
  {
   "cell_type": "code",
   "execution_count": null,
   "metadata": {},
   "outputs": [
    {
     "data": {
      "text/plain": [
       "<matplotlib.legend.Legend at 0x130f81010>"
      ]
     },
     "execution_count": 59,
     "metadata": {},
     "output_type": "execute_result"
    },
    {
     "data": {
      "image/png": "[encoded data removed]",
      "text/plain": [
       "<Figure size 640x480 with 1 Axes>"
      ]
     },
     "metadata": {},
     "output_type": "display_data"
    }
   ],
   "source": [
    "plt.figure(3)\n",
    "plt.plot(times,omega_vals,label=r'$\\Omega(t)$')\n",
    "plt.plot(times,delta_vals,label=r'$\\Delta(t)$')\n",
    "plt.legend()"
   ]
  },
  {
   "cell_type": "code",
   "execution_count": null,
   "metadata": {},
   "outputs": [],
   "source": [
    "arp_hamiltonian = get_hamiltonian(hx=omega_vals,hz=delta_vals,pt=process_tensor)\n",
    "arp_system = oqupy.TimeDependentSystem(arp_hamiltonian)"
   ]
  },
  {
   "cell_type": "markdown",
   "metadata": {},
   "source": [
    "Now we need the `dprop` list, this is more complicated now because our parameters are now $\\Theta_0$ and $a$\n",
    "\n",
    "The complication arises because previously we had that $\\frac{\\partial U_n}{\\partial h_{\\bullet,k}}$ was only nonzero for $u=k$, whereas $\\frac{\\partial U_n}{\\partial \\Theta_0}$ is nonzero for all $n$. The easiest way to solve this problem is to say that $\\Omega(t)$ is $h_x$ and to use the chain rule,\n",
    "$$\n",
    "\\frac{\\partial \\mathcal{F}(t)}{\\partial \\Theta_0} = \\sum_n \\frac{\\partial{\\rho_f}}{\\partial U_n}\n",
    "\\frac{\\partial U_n}{\\partial h_x}\\frac{\\partial h_x}{\\partial \\Theta_0}\n",
    "$$\n",
    "\n",
    "The last term is just a scalar. \n"
   ]
  },
  {
   "cell_type": "code",
   "execution_count": null,
   "metadata": {},
   "outputs": [],
   "source": [
    "def arp_hamiltonian_deriv(t):\n",
    "    omega = 1 / (np.sqrt(2*np.pi * np.sqrt(a**2 + tau_0**2))) \\\n",
    "        * np.exp(-(t-t_0)**2 * tau_0**2 / (2*(a**2 + tau_0**4)))\n",
    "    return omega\n",
    "\n",
    "dprop_dpram_derivs_omega = []\n",
    "for i in range(dprop_dpram_times.size):\n",
    "    deriv = dpropagator(\n",
    "                        arp_hamiltonian,\n",
    "                        dprop_dpram_times[i],\n",
    "                        process_tensor.dt,\n",
    "                        op=0.5*oqupy.operators.sigma('x'),\n",
    "                        h = 10**(-6))\n",
    "    dprop_dpram_derivs_omega.append(deriv)"
   ]
  },
  {
   "cell_type": "code",
   "execution_count": null,
   "metadata": {},
   "outputs": [],
   "source": [
    "# similarly for delta (arp_hamiltonian_deriv for delta is just a)\n",
    "\n",
    "dprop_dpram_derivs_delta = []\n",
    "for i in range(dprop_dpram_times.size):\n",
    "    deriv = dpropagator(\n",
    "                        arp_hamiltonian,\n",
    "                        dprop_dpram_times[i],\n",
    "                        process_tensor.dt,\n",
    "                        op=0.5*oqupy.operators.sigma('z'),\n",
    "                        h = 10**(-6))\n",
    "    dprop_dpram_derivs_delta.append(deriv)"
   ]
  },
  {
   "cell_type": "code",
   "execution_count": null,
   "metadata": {},
   "outputs": [
    {
     "ename": "NameError",
     "evalue": "name 'oqupy' is not defined",
     "output_type": "error",
     "traceback": [
      "\u001b[1;31m---------------------------------------------------------------------------\u001b[0m",
      "\u001b[1;31mNameError\u001b[0m                                 Traceback (most recent call last)",
      "\u001b[1;32mc:\\Users\\Administrator\\Desktop\\Research\\EoinB_Oqupy\\OQuPy\\tutorials\\gradients_introduction.ipynb Cell 38\u001b[0m line \u001b[0;36m1\n\u001b[1;32m----> <a href='vscode-notebook-cell:/c%3A/Users/Administrator/Desktop/Research/EoinB_Oqupy/OQuPy/tutorials/gradients_introduction.ipynb#X52sZmlsZQ%3D%3D?line=0'>1</a>\u001b[0m gradient_arp \u001b[39m=\u001b[39m oqupy\u001b[39m.\u001b[39mgradient(\n\u001b[0;32m      <a href='vscode-notebook-cell:/c%3A/Users/Administrator/Desktop/Research/EoinB_Oqupy/OQuPy/tutorials/gradients_introduction.ipynb#X52sZmlsZQ%3D%3D?line=1'>2</a>\u001b[0m                 system\u001b[39m=\u001b[39marp_system,\n\u001b[0;32m      <a href='vscode-notebook-cell:/c%3A/Users/Administrator/Desktop/Research/EoinB_Oqupy/OQuPy/tutorials/gradients_introduction.ipynb#X52sZmlsZQ%3D%3D?line=2'>3</a>\u001b[0m                 initial_state\u001b[39m=\u001b[39moqupy\u001b[39m.\u001b[39moperators\u001b[39m.\u001b[39mspin_dm(\u001b[39m'\u001b[39m\u001b[39mz-\u001b[39m\u001b[39m'\u001b[39m),\n\u001b[0;32m      <a href='vscode-notebook-cell:/c%3A/Users/Administrator/Desktop/Research/EoinB_Oqupy/OQuPy/tutorials/gradients_introduction.ipynb#X52sZmlsZQ%3D%3D?line=3'>4</a>\u001b[0m                 target_state\u001b[39m=\u001b[39moqupy\u001b[39m.\u001b[39moperators\u001b[39m.\u001b[39mspin_dm(\u001b[39m'\u001b[39m\u001b[39mz+\u001b[39m\u001b[39m'\u001b[39m),\n\u001b[0;32m      <a href='vscode-notebook-cell:/c%3A/Users/Administrator/Desktop/Research/EoinB_Oqupy/OQuPy/tutorials/gradients_introduction.ipynb#X52sZmlsZQ%3D%3D?line=4'>5</a>\u001b[0m                 process_tensor\u001b[39m=\u001b[39mprocess_tensor,\n\u001b[0;32m      <a href='vscode-notebook-cell:/c%3A/Users/Administrator/Desktop/Research/EoinB_Oqupy/OQuPy/tutorials/gradients_introduction.ipynb#X52sZmlsZQ%3D%3D?line=5'>6</a>\u001b[0m                 dprop_dparam_list\u001b[39m=\u001b[39mdprop_dpram_derivs_omega,\n\u001b[0;32m      <a href='vscode-notebook-cell:/c%3A/Users/Administrator/Desktop/Research/EoinB_Oqupy/OQuPy/tutorials/gradients_introduction.ipynb#X52sZmlsZQ%3D%3D?line=6'>7</a>\u001b[0m                 dprop_times_list\u001b[39m=\u001b[39mdprop_dpram_times)\n\u001b[0;32m      <a href='vscode-notebook-cell:/c%3A/Users/Administrator/Desktop/Research/EoinB_Oqupy/OQuPy/tutorials/gradients_introduction.ipynb#X52sZmlsZQ%3D%3D?line=8'>9</a>\u001b[0m omega_derivs \u001b[39m=\u001b[39m gradient_arp\u001b[39m.\u001b[39mtotal_derivs\n\u001b[0;32m     <a href='vscode-notebook-cell:/c%3A/Users/Administrator/Desktop/Research/EoinB_Oqupy/OQuPy/tutorials/gradients_introduction.ipynb#X52sZmlsZQ%3D%3D?line=10'>11</a>\u001b[0m gradient_delta \u001b[39m=\u001b[39m oqupy\u001b[39m.\u001b[39mgradient(\n\u001b[0;32m     <a href='vscode-notebook-cell:/c%3A/Users/Administrator/Desktop/Research/EoinB_Oqupy/OQuPy/tutorials/gradients_introduction.ipynb#X52sZmlsZQ%3D%3D?line=11'>12</a>\u001b[0m                 system\u001b[39m=\u001b[39marp_system,\n\u001b[0;32m     <a href='vscode-notebook-cell:/c%3A/Users/Administrator/Desktop/Research/EoinB_Oqupy/OQuPy/tutorials/gradients_introduction.ipynb#X52sZmlsZQ%3D%3D?line=12'>13</a>\u001b[0m                 gradient_dynamics\u001b[39m=\u001b[39mgradient_arp,\n\u001b[0;32m     <a href='vscode-notebook-cell:/c%3A/Users/Administrator/Desktop/Research/EoinB_Oqupy/OQuPy/tutorials/gradients_introduction.ipynb#X52sZmlsZQ%3D%3D?line=13'>14</a>\u001b[0m                 process_tensor\u001b[39m=\u001b[39mprocess_tensor,\n\u001b[0;32m     <a href='vscode-notebook-cell:/c%3A/Users/Administrator/Desktop/Research/EoinB_Oqupy/OQuPy/tutorials/gradients_introduction.ipynb#X52sZmlsZQ%3D%3D?line=14'>15</a>\u001b[0m                 dprop_dparam_list\u001b[39m=\u001b[39mdprop_dpram_derivs_delta,\n\u001b[0;32m     <a href='vscode-notebook-cell:/c%3A/Users/Administrator/Desktop/Research/EoinB_Oqupy/OQuPy/tutorials/gradients_introduction.ipynb#X52sZmlsZQ%3D%3D?line=15'>16</a>\u001b[0m                 dprop_times_list\u001b[39m=\u001b[39mdprop_dpram_times)\n",
      "\u001b[1;31mNameError\u001b[0m: name 'oqupy' is not defined"
     ]
    }
   ],
   "source": [
    "gradient_arp = oqupy.gradient(\n",
    "                system=arp_system,\n",
    "                initial_state=oqupy.operators.spin_dm('z-'),\n",
    "                target_state=oqupy.operators.spin_dm('z+'),\n",
    "                process_tensor=process_tensor,\n",
    "                dprop_dparam_list=dprop_dpram_derivs_omega,\n",
    "                dprop_times_list=dprop_dpram_times)\n",
    "\n",
    "omega_derivs = gradient_arp.total_derivs\n",
    "\n",
    "gradient_delta = oqupy.gradient(\n",
    "                system=arp_system,\n",
    "                gradient_dynamics=gradient_arp,\n",
    "                process_tensor=process_tensor,\n",
    "                dprop_dparam_list=dprop_dpram_derivs_delta,\n",
    "                dprop_times_list=dprop_dpram_times)\n",
    "\n",
    "            \n",
    "delta_derivs = gradient_delta.total_derivs\n",
    "\n",
    "dham_dtheta = arp_hamiltonian_deriv(dprop_dpram_times)\n",
    "\n"
   ]
  },
  {
   "cell_type": "code",
   "execution_count": null,
   "metadata": {},
   "outputs": [
    {
     "ename": "NameError",
     "evalue": "name 'dprop_dpram_times' is not defined",
     "output_type": "error",
     "traceback": [
      "\u001b[1;31m---------------------------------------------------------------------------\u001b[0m",
      "\u001b[1;31mNameError\u001b[0m                                 Traceback (most recent call last)",
      "\u001b[1;32mc:\\Users\\Administrator\\Desktop\\Research\\EoinB_Oqupy\\OQuPy\\tutorials\\gradients_introduction.ipynb Cell 39\u001b[0m line \u001b[0;36m2\n\u001b[0;32m      <a href='vscode-notebook-cell:/c%3A/Users/Administrator/Desktop/Research/EoinB_Oqupy/OQuPy/tutorials/gradients_introduction.ipynb#X53sZmlsZQ%3D%3D?line=0'>1</a>\u001b[0m dprop_dpram_derivs_delta \u001b[39m=\u001b[39m []\n\u001b[1;32m----> <a href='vscode-notebook-cell:/c%3A/Users/Administrator/Desktop/Research/EoinB_Oqupy/OQuPy/tutorials/gradients_introduction.ipynb#X53sZmlsZQ%3D%3D?line=1'>2</a>\u001b[0m \u001b[39mfor\u001b[39;00m i \u001b[39min\u001b[39;00m \u001b[39mrange\u001b[39m(dprop_dpram_times\u001b[39m.\u001b[39msize):\n\u001b[0;32m      <a href='vscode-notebook-cell:/c%3A/Users/Administrator/Desktop/Research/EoinB_Oqupy/OQuPy/tutorials/gradients_introduction.ipynb#X53sZmlsZQ%3D%3D?line=2'>3</a>\u001b[0m     deriv \u001b[39m=\u001b[39m dpropagator(\n\u001b[0;32m      <a href='vscode-notebook-cell:/c%3A/Users/Administrator/Desktop/Research/EoinB_Oqupy/OQuPy/tutorials/gradients_introduction.ipynb#X53sZmlsZQ%3D%3D?line=3'>4</a>\u001b[0m                         arp_hamiltonian,\n\u001b[0;32m      <a href='vscode-notebook-cell:/c%3A/Users/Administrator/Desktop/Research/EoinB_Oqupy/OQuPy/tutorials/gradients_introduction.ipynb#X53sZmlsZQ%3D%3D?line=4'>5</a>\u001b[0m                         dprop_dpram_times[i],\n\u001b[0;32m      <a href='vscode-notebook-cell:/c%3A/Users/Administrator/Desktop/Research/EoinB_Oqupy/OQuPy/tutorials/gradients_introduction.ipynb#X53sZmlsZQ%3D%3D?line=5'>6</a>\u001b[0m                         process_tensor\u001b[39m.\u001b[39mdt,\n\u001b[0;32m      <a href='vscode-notebook-cell:/c%3A/Users/Administrator/Desktop/Research/EoinB_Oqupy/OQuPy/tutorials/gradients_introduction.ipynb#X53sZmlsZQ%3D%3D?line=6'>7</a>\u001b[0m                         op\u001b[39m=\u001b[39m\u001b[39m0.5\u001b[39m\u001b[39m*\u001b[39moqupy\u001b[39m.\u001b[39moperators\u001b[39m.\u001b[39msigma(\u001b[39m'\u001b[39m\u001b[39my\u001b[39m\u001b[39m'\u001b[39m),\n\u001b[0;32m      <a href='vscode-notebook-cell:/c%3A/Users/Administrator/Desktop/Research/EoinB_Oqupy/OQuPy/tutorials/gradients_introduction.ipynb#X53sZmlsZQ%3D%3D?line=7'>8</a>\u001b[0m                         h \u001b[39m=\u001b[39m \u001b[39m10\u001b[39m\u001b[39m*\u001b[39m\u001b[39m*\u001b[39m(\u001b[39m-\u001b[39m\u001b[39m6\u001b[39m))\n\u001b[0;32m      <a href='vscode-notebook-cell:/c%3A/Users/Administrator/Desktop/Research/EoinB_Oqupy/OQuPy/tutorials/gradients_introduction.ipynb#X53sZmlsZQ%3D%3D?line=8'>9</a>\u001b[0m     dprop_dpram_derivs_delta\u001b[39m.\u001b[39mappend(deriv)\n",
      "\u001b[1;31mNameError\u001b[0m: name 'dprop_dpram_times' is not defined"
     ]
    }
   ],
   "source": [
    "dprop_dpram_derivs_delta = []\n",
    "for i in range(dprop_dpram_times.size):\n",
    "    deriv = dpropagator(\n",
    "                        arp_hamiltonian,\n",
    "                        dprop_dpram_times[i],\n",
    "                        process_tensor.dt,\n",
    "                        op=0.5*oqupy.operators.sigma('y'),\n",
    "                        h = 10**(-6))\n",
    "    dprop_dpram_derivs_delta.append(deriv)\n",
    "\n",
    "hy_grad = oqupy.gradient(\n",
    "                system=arp_system,\n",
    "                gradient_dynamics=gradient_arp,\n",
    "                process_tensor=process_tensor,\n",
    "                dprop_dparam_list=dprop_dpram_derivs_delta,\n",
    "                dprop_times_list=dprop_dpram_times)\n",
    "\n",
    "            \n",
    "hy_derivs = hy_grad.total_derivs"
   ]
  },
  {
   "cell_type": "code",
   "execution_count": null,
   "metadata": {},
   "outputs": [
    {
     "ename": "NameError",
     "evalue": "name 'omega_derivs' is not defined",
     "output_type": "error",
     "traceback": [
      "\u001b[1;31m---------------------------------------------------------------------------\u001b[0m",
      "\u001b[1;31mNameError\u001b[0m                                 Traceback (most recent call last)",
      "\u001b[1;32mc:\\Users\\Administrator\\Desktop\\Research\\EoinB_Oqupy\\OQuPy\\tutorials\\gradients_introduction.ipynb Cell 40\u001b[0m line \u001b[0;36m3\n\u001b[0;32m      <a href='vscode-notebook-cell:/c%3A/Users/Administrator/Desktop/Research/EoinB_Oqupy/OQuPy/tutorials/gradients_introduction.ipynb#X54sZmlsZQ%3D%3D?line=0'>1</a>\u001b[0m \u001b[39m# apply last term of chain rule\u001b[39;00m\n\u001b[1;32m----> <a href='vscode-notebook-cell:/c%3A/Users/Administrator/Desktop/Research/EoinB_Oqupy/OQuPy/tutorials/gradients_introduction.ipynb#X54sZmlsZQ%3D%3D?line=2'>3</a>\u001b[0m omega_total_derivs \u001b[39m=\u001b[39m omega_derivs \u001b[39m*\u001b[39m dham_dtheta\n\u001b[0;32m      <a href='vscode-notebook-cell:/c%3A/Users/Administrator/Desktop/Research/EoinB_Oqupy/OQuPy/tutorials/gradients_introduction.ipynb#X54sZmlsZQ%3D%3D?line=3'>4</a>\u001b[0m delta_total_derivs \u001b[39m=\u001b[39m delta_derivs \u001b[39m*\u001b[39m a\n\u001b[0;32m      <a href='vscode-notebook-cell:/c%3A/Users/Administrator/Desktop/Research/EoinB_Oqupy/OQuPy/tutorials/gradients_introduction.ipynb#X54sZmlsZQ%3D%3D?line=5'>6</a>\u001b[0m dF_dTheta_0 \u001b[39m=\u001b[39m np\u001b[39m.\u001b[39msum(omega_total_derivs)\n",
      "\u001b[1;31mNameError\u001b[0m: name 'omega_derivs' is not defined"
     ]
    }
   ],
   "source": [
    "# apply last term of chain rule\n",
    "\n",
    "omega_total_derivs = omega_derivs * dham_dtheta\n",
    "delta_total_derivs = delta_derivs * a\n",
    "\n",
    "dF_dTheta_0 = np.sum(omega_total_derivs)\n",
    "dF_da = np.sum(delta_total_derivs)\n",
    "\n",
    "print('the derivative of a pulse of area {} and chirp {} w.r.t:'.format(theta_0,a))\n",
    "print('theta_0 = {}'.format(dF_dTheta_0))\n",
    "print('a = {}'.format(dF_da))"
   ]
  },
  {
   "cell_type": "markdown",
   "metadata": {},
   "source": [
    "Now if all that is desired is to calculate $\\frac{\\partial\\mathcal{F}}{\\partial\\Theta_0}$, and $\\frac{\\partial\\mathcal{F}}{\\partial a}$ this is a massive overkill, and doesn't offer much of a saving for computational resources. However in calculating these parameters, we have also calculated the gradient of the magnitude of $\\Omega$ and $\\Delta$ at the instantanious moments in time, which is interesting to plot in itself:"
   ]
  },
  {
   "cell_type": "code",
   "execution_count": null,
   "metadata": {},
   "outputs": [
    {
     "ename": "NameError",
     "evalue": "name 'sum_adjacent_elements' is not defined",
     "output_type": "error",
     "traceback": [
      "\u001b[1;31m---------------------------------------------------------------------------\u001b[0m",
      "\u001b[1;31mNameError\u001b[0m                                 Traceback (most recent call last)",
      "\u001b[1;32mc:\\Users\\Administrator\\Desktop\\Research\\EoinB_Oqupy\\OQuPy\\tutorials\\gradients_introduction.ipynb Cell 42\u001b[0m line \u001b[0;36m1\n\u001b[1;32m----> <a href='vscode-notebook-cell:/c%3A/Users/Administrator/Desktop/Research/EoinB_Oqupy/OQuPy/tutorials/gradients_introduction.ipynb#X56sZmlsZQ%3D%3D?line=0'>1</a>\u001b[0m omega_gradient \u001b[39m=\u001b[39m sum_adjacent_elements(omega_derivs)\n\u001b[0;32m      <a href='vscode-notebook-cell:/c%3A/Users/Administrator/Desktop/Research/EoinB_Oqupy/OQuPy/tutorials/gradients_introduction.ipynb#X56sZmlsZQ%3D%3D?line=1'>2</a>\u001b[0m delta_gradient \u001b[39m=\u001b[39m sum_adjacent_elements(delta_derivs)\n\u001b[0;32m      <a href='vscode-notebook-cell:/c%3A/Users/Administrator/Desktop/Research/EoinB_Oqupy/OQuPy/tutorials/gradients_introduction.ipynb#X56sZmlsZQ%3D%3D?line=2'>3</a>\u001b[0m hy_gradient \u001b[39m=\u001b[39m sum_adjacent_elements(hy_derivs)\n",
      "\u001b[1;31mNameError\u001b[0m: name 'sum_adjacent_elements' is not defined"
     ]
    }
   ],
   "source": [
    "omega_gradient = sum_adjacent_elements(omega_derivs)\n",
    "delta_gradient = sum_adjacent_elements(delta_derivs)\n",
    "hy_gradient = sum_adjacent_elements(hy_derivs)\n",
    "\n",
    "plt.plot(times,omega_gradient.real,label=r'$\\Omega$')\n",
    "plt.plot(times,delta_gradient.real,label=r'$\\Delta$')\n",
    "plt.plot(times,hy_gradient.real,label='hy')\n",
    "plt.legend()\n"
   ]
  },
  {
   "attachments": {},
   "cell_type": "markdown",
   "metadata": {},
   "source": [
    "### Comparison with Finite difference\n",
    "\n",
    "#### Constant $\\pi$ pulse"
   ]
  },
  {
   "cell_type": "code",
   "execution_count": null,
   "metadata": {},
   "outputs": [
    {
     "ename": "ModuleNotFoundError",
     "evalue": "No module named 'tqdm'",
     "output_type": "error",
     "traceback": [
      "\u001b[1;31m---------------------------------------------------------------------------\u001b[0m",
      "\u001b[1;31mModuleNotFoundError\u001b[0m                       Traceback (most recent call last)",
      "\u001b[1;32mc:\\Users\\Administrator\\Desktop\\Research\\EoinB_Oqupy\\OQuPy\\tutorials\\gradients_introduction.ipynb Cell 44\u001b[0m line \u001b[0;36m1\n\u001b[1;32m----> <a href='vscode-notebook-cell:/c%3A/Users/Administrator/Desktop/Research/EoinB_Oqupy/OQuPy/tutorials/gradients_introduction.ipynb#X61sZmlsZQ%3D%3D?line=0'>1</a>\u001b[0m \u001b[39mfrom\u001b[39;00m \u001b[39mtqdm\u001b[39;00m\u001b[39m.\u001b[39;00m\u001b[39mcontrib\u001b[39;00m \u001b[39mimport\u001b[39;00m tenumerate\n\u001b[0;32m      <a href='vscode-notebook-cell:/c%3A/Users/Administrator/Desktop/Research/EoinB_Oqupy/OQuPy/tutorials/gradients_introduction.ipynb#X61sZmlsZQ%3D%3D?line=2'>3</a>\u001b[0m \u001b[39mdef\u001b[39;00m \u001b[39mcompute_finite_difference_brute\u001b[39m(\n\u001b[0;32m      <a href='vscode-notebook-cell:/c%3A/Users/Administrator/Desktop/Research/EoinB_Oqupy/OQuPy/tutorials/gradients_introduction.ipynb#X61sZmlsZQ%3D%3D?line=3'>4</a>\u001b[0m                         pt_instance: oqupy\u001b[39m.\u001b[39mSimpleProcessTensor,\n\u001b[0;32m      <a href='vscode-notebook-cell:/c%3A/Users/Administrator/Desktop/Research/EoinB_Oqupy/OQuPy/tutorials/gradients_introduction.ipynb#X61sZmlsZQ%3D%3D?line=4'>5</a>\u001b[0m                         hamiltonian,\n\u001b[1;32m   (...)\u001b[0m\n\u001b[0;32m      <a href='vscode-notebook-cell:/c%3A/Users/Administrator/Desktop/Research/EoinB_Oqupy/OQuPy/tutorials/gradients_introduction.ipynb#X61sZmlsZQ%3D%3D?line=8'>9</a>\u001b[0m                         operator,\n\u001b[0;32m     <a href='vscode-notebook-cell:/c%3A/Users/Administrator/Desktop/Research/EoinB_Oqupy/OQuPy/tutorials/gradients_introduction.ipynb#X61sZmlsZQ%3D%3D?line=9'>10</a>\u001b[0m                         h \u001b[39m=\u001b[39m \u001b[39m10\u001b[39m\u001b[39m*\u001b[39m\u001b[39m*\u001b[39m\u001b[39m-\u001b[39m\u001b[39m6\u001b[39m):\n\u001b[0;32m     <a href='vscode-notebook-cell:/c%3A/Users/Administrator/Desktop/Research/EoinB_Oqupy/OQuPy/tutorials/gradients_introduction.ipynb#X61sZmlsZQ%3D%3D?line=10'>11</a>\u001b[0m \u001b[39m    \u001b[39m\u001b[39m\"\"\" doesn't use the adjoint method, just computes the frichét derivatives by\u001b[39;00m\n\u001b[0;32m     <a href='vscode-notebook-cell:/c%3A/Users/Administrator/Desktop/Research/EoinB_Oqupy/OQuPy/tutorials/gradients_introduction.ipynb#X61sZmlsZQ%3D%3D?line=11'>12</a>\u001b[0m \u001b[39m    brute force\"\"\"\u001b[39;00m\n",
      "\u001b[1;31mModuleNotFoundError\u001b[0m: No module named 'tqdm'"
     ]
    }
   ],
   "source": [
    "from tqdm.contrib import tenumerate\n",
    "\n",
    "def compute_finite_difference_brute(\n",
    "                        pt_instance: oqupy.SimpleProcessTensor,\n",
    "                        hamiltonian,\n",
    "                        initial_state,\n",
    "                        target_state,\n",
    "                        times,\n",
    "                        operator,\n",
    "                        h = 10**-6):\n",
    "    \"\"\" doesn't use the adjoint method, just computes the frichét derivatives by\n",
    "    brute force\"\"\"\n",
    "\n",
    "    assert operator.shape[0] == pt_instance.hilbert_space_dimension,\\\n",
    "         'input operator is a different H.S. dimension to the system'\n",
    "    dt = pt_instance.dt\n",
    "    def hamiltonian_perturbed(operator,h,dt,time):\n",
    "        def _hamiltonian_perturbed(t):\n",
    "            if time-dt/2 < t < time+dt/2:\n",
    "                return hamiltonian(t) + h * operator\n",
    "            return hamiltonian(t)\n",
    "        return _hamiltonian_perturbed\n",
    "\n",
    "    derivative_array = np.zeros(times.size,dtype=np.complex128)\n",
    "    for i,time in tenumerate(times):\n",
    "        ham_plus_h = hamiltonian_perturbed(operator,h,dt,time)\n",
    "        ham_minus_h = hamiltonian_perturbed(operator,-h,dt,time)\n",
    "\n",
    "        system_plus_h = oqupy.TimeDependentSystem(ham_plus_h)\n",
    "        system_minus_h = oqupy.TimeDependentSystem(ham_minus_h)\n",
    "\n",
    "        dynamics_forward = oqupy.compute_dynamics(\n",
    "                    system_plus_h,\n",
    "                    initial_state,\n",
    "                    start_time=0,\n",
    "                    process_tensor=pt_instance,\n",
    "                    record_all=False,\n",
    "                    progress_type='silent')\n",
    "        dynamics_backward = oqupy.compute_dynamics(\n",
    "                    system_minus_h,\n",
    "                    initial_state,\n",
    "                    start_time=0,\n",
    "                    process_tensor=pt_instance,\n",
    "                    record_all=False,\n",
    "                    progress_type='silent')\n",
    "        final_state_forward = dynamics_forward.states[0,:,:]\n",
    "        final_state_backward = dynamics_backward.states[0,:,:]\n",
    "\n",
    "        fidelity_forward = 1 - np.matmul(target_state,final_state_forward).trace()\n",
    "        fidelity_backward = 1 - np.matmul(target_state,final_state_backward).trace()\n",
    "\n",
    "        derivative = (fidelity_forward - fidelity_backward) / (2 * h)\n",
    "\n",
    "        derivative_array[i] = derivative\n",
    "        np.save('deriv_array',derivative_array)\n",
    "\n",
    "    return derivative_array\n",
    "\n"
   ]
  },
  {
   "cell_type": "code",
   "execution_count": null,
   "metadata": {},
   "outputs": [],
   "source": [
    "generate_finite_differnce_z = False\n",
    "generate_finite_differnce_x = False"
   ]
  },
  {
   "cell_type": "code",
   "execution_count": null,
   "metadata": {},
   "outputs": [],
   "source": [
    "if generate_finite_differnce_z:\n",
    "    fd_z = compute_finite_difference_brute(\n",
    "                process_tensor,\n",
    "                hamiltonian_t,\n",
    "                initial_state=oqupy.operators.spin_dm('z-'),\n",
    "                target_state=oqupy.operators.spin_dm('z+'),\n",
    "                times=times,\n",
    "                operator=0.5*oqupy.operators.sigma('z')\n",
    "                )\n",
    "\n",
    "    np.save('constant_z',fd_z)\n"
   ]
  },
  {
   "cell_type": "code",
   "execution_count": null,
   "metadata": {},
   "outputs": [],
   "source": [
    "if generate_finite_differnce_x:\n",
    "    fd_x = compute_finite_difference_brute(\n",
    "                process_tensor,\n",
    "                hamiltonian_t,\n",
    "                initial_state=oqupy.operators.spin_dm('z-'),\n",
    "                target_state=oqupy.operators.spin_dm('z+'),\n",
    "                times=times,\n",
    "                operator=0.5*oqupy.operators.sigma('x')\n",
    "                )\n",
    "    np.save('constant_x',fd_x)\n"
   ]
  },
  {
   "cell_type": "code",
   "execution_count": null,
   "metadata": {},
   "outputs": [
    {
     "ename": "NameError",
     "evalue": "name 'np' is not defined",
     "output_type": "error",
     "traceback": [
      "\u001b[1;31m---------------------------------------------------------------------------\u001b[0m",
      "\u001b[1;31mNameError\u001b[0m                                 Traceback (most recent call last)",
      "\u001b[1;32mc:\\Users\\Administrator\\Desktop\\Research\\EoinB_Oqupy\\OQuPy\\tutorials\\gradients_introduction.ipynb Cell 48\u001b[0m line \u001b[0;36m1\n\u001b[1;32m----> <a href='vscode-notebook-cell:/c%3A/Users/Administrator/Desktop/Research/EoinB_Oqupy/OQuPy/tutorials/gradients_introduction.ipynb#X65sZmlsZQ%3D%3D?line=0'>1</a>\u001b[0m constant_x \u001b[39m=\u001b[39m np\u001b[39m.\u001b[39mload(\u001b[39m'\u001b[39m\u001b[39mconstant_x.npy\u001b[39m\u001b[39m'\u001b[39m)\n\u001b[0;32m      <a href='vscode-notebook-cell:/c%3A/Users/Administrator/Desktop/Research/EoinB_Oqupy/OQuPy/tutorials/gradients_introduction.ipynb#X65sZmlsZQ%3D%3D?line=1'>2</a>\u001b[0m constant_z \u001b[39m=\u001b[39m np\u001b[39m.\u001b[39mload(\u001b[39m'\u001b[39m\u001b[39mconstant_z.npy\u001b[39m\u001b[39m'\u001b[39m)\n\u001b[0;32m      <a href='vscode-notebook-cell:/c%3A/Users/Administrator/Desktop/Research/EoinB_Oqupy/OQuPy/tutorials/gradients_introduction.ipynb#X65sZmlsZQ%3D%3D?line=2'>3</a>\u001b[0m plt\u001b[39m.\u001b[39mplot(times,constant_x\u001b[39m.\u001b[39mreal,label\u001b[39m=\u001b[39m\u001b[39m'\u001b[39m\u001b[39mfd_x\u001b[39m\u001b[39m'\u001b[39m)\n",
      "\u001b[1;31mNameError\u001b[0m: name 'np' is not defined"
     ]
    }
   ],
   "source": [
    "\n",
    "constant_x = np.load('constant_x.npy')\n",
    "constant_z = np.load('constant_z.npy')\n",
    "plt.plot(times,constant_x.real,label='fd_x')\n",
    "plt.plot(times,constant_z.real,label='fd_z')\n",
    "\n",
    "plt.plot(times,final_derivs_x.real,label='adj_x')\n",
    "plt.plot(times,final_derivs_z.real,label='adj_z')\n",
    "\n",
    "plt.legend()"
   ]
  },
  {
   "cell_type": "markdown",
   "metadata": {},
   "source": [
    "#### ARP pulse"
   ]
  },
  {
   "cell_type": "code",
   "execution_count": null,
   "metadata": {},
   "outputs": [],
   "source": [
    "generate_arp_fd_x = False\n",
    "generate_arp_fd_y = False\n",
    "generate_arp_fd_z = False"
   ]
  },
  {
   "cell_type": "code",
   "execution_count": null,
   "metadata": {},
   "outputs": [],
   "source": [
    "if generate_arp_fd_x:\n",
    "    arp_x = compute_finite_difference_brute(\n",
    "                process_tensor,\n",
    "                arp_hamiltonian,\n",
    "                initial_state=oqupy.operators.spin_dm('z-'),\n",
    "                target_state=oqupy.operators.spin_dm('z+'),\n",
    "                times=times,\n",
    "                operator=0.5*oqupy.operators.sigma('x')\n",
    "                )\n",
    "    np.save('arp_x',arp_x)\n"
   ]
  },
  {
   "cell_type": "code",
   "execution_count": null,
   "metadata": {},
   "outputs": [],
   "source": [
    "if generate_arp_fd_z:\n",
    "    arp_z = compute_finite_difference_brute(\n",
    "                process_tensor,\n",
    "                arp_hamiltonian,\n",
    "                initial_state=oqupy.operators.spin_dm('z-'),\n",
    "                target_state=oqupy.operators.spin_dm('z+'),\n",
    "                times=times,\n",
    "                operator=0.5*oqupy.operators.sigma('z')\n",
    "                )\n",
    "    np.save('arp_z',arp_z)\n"
   ]
  },
  {
   "cell_type": "code",
   "execution_count": null,
   "metadata": {},
   "outputs": [],
   "source": [
    "if generate_arp_fd_y:\n",
    "    arp_y = compute_finite_difference_brute(\n",
    "                process_tensor,\n",
    "                arp_hamiltonian,\n",
    "                initial_state=oqupy.operators.spin_dm('z-'),\n",
    "                target_state=oqupy.operators.spin_dm('z+'),\n",
    "                times=times,\n",
    "                operator=0.5*oqupy.operators.sigma('y')\n",
    "                )\n",
    "    np.save('arp_y',arp_y)"
   ]
  },
  {
   "cell_type": "code",
   "execution_count": null,
   "metadata": {},
   "outputs": [
    {
     "ename": "NameError",
     "evalue": "name 'np' is not defined",
     "output_type": "error",
     "traceback": [
      "\u001b[1;31m---------------------------------------------------------------------------\u001b[0m",
      "\u001b[1;31mNameError\u001b[0m                                 Traceback (most recent call last)",
      "\u001b[1;32mc:\\Users\\Administrator\\Desktop\\Research\\EoinB_Oqupy\\OQuPy\\tutorials\\gradients_introduction.ipynb Cell 54\u001b[0m line \u001b[0;36m1\n\u001b[1;32m----> <a href='vscode-notebook-cell:/c%3A/Users/Administrator/Desktop/Research/EoinB_Oqupy/OQuPy/tutorials/gradients_introduction.ipynb#Y104sZmlsZQ%3D%3D?line=0'>1</a>\u001b[0m arp_x \u001b[39m=\u001b[39m np\u001b[39m.\u001b[39mload(\u001b[39m'\u001b[39m\u001b[39marp_x.npy\u001b[39m\u001b[39m'\u001b[39m)\n\u001b[0;32m      <a href='vscode-notebook-cell:/c%3A/Users/Administrator/Desktop/Research/EoinB_Oqupy/OQuPy/tutorials/gradients_introduction.ipynb#Y104sZmlsZQ%3D%3D?line=1'>2</a>\u001b[0m arp_y \u001b[39m=\u001b[39m np\u001b[39m.\u001b[39mload(\u001b[39m'\u001b[39m\u001b[39marp_y.npy\u001b[39m\u001b[39m'\u001b[39m)\n\u001b[0;32m      <a href='vscode-notebook-cell:/c%3A/Users/Administrator/Desktop/Research/EoinB_Oqupy/OQuPy/tutorials/gradients_introduction.ipynb#Y104sZmlsZQ%3D%3D?line=2'>3</a>\u001b[0m arp_z \u001b[39m=\u001b[39m np\u001b[39m.\u001b[39mload(\u001b[39m'\u001b[39m\u001b[39marp_z.npy\u001b[39m\u001b[39m'\u001b[39m)\n",
      "\u001b[1;31mNameError\u001b[0m: name 'np' is not defined"
     ]
    }
   ],
   "source": [
    "arp_x = np.load('arp_x.npy')\n",
    "arp_y = np.load('arp_y.npy')\n",
    "arp_z = np.load('arp_z.npy')\n",
    "\n",
    "plt.figure(4)\n",
    "plt.plot(times,-1*omega_gradient.real,label=r'$\\Omega$ adj')\n",
    "plt.plot(times,-1*delta_gradient.real,label=r'$\\Delta$ adj')\n",
    "plt.plot(times,-1*hy_gradient,label=r'$h_y$ adj')\n",
    "\n",
    "plt.plot(times,arp_x.real,label=r'$\\Omega$ fd')\n",
    "plt.plot(times,arp_z.real,label=r'$\\Delta$ fd')\n",
    "plt.plot(times,arp_y.real,label=r'$h_y$ fd')\n",
    "plt.legend()\n",
    "\n",
    "\n"
   ]
  },
  {
   "cell_type": "code",
   "execution_count": null,
   "metadata": {},
   "outputs": [],
   "source": []
  },
  {
   "cell_type": "code",
   "execution_count": null,
   "metadata": {},
   "outputs": [],
   "source": []
  }
 ],
 "metadata": {
  "interpreter": {
   "hash": "82d10ccd8e47b3fa4e28f3b5f0363e38ab40ff5e2780345a78459005100c19ec"
  },
  "kernelspec": {
   "display_name": "Python 3.10.4 ('venv_1')",
   "language": "python",
   "name": "python3"
  },
  "language_info": {
   "codemirror_mode": {
    "name": "ipython",
    "version": 3
   },
   "file_extension": ".py",
   "mimetype": "text/x-python",
   "name": "python",
   "nbconvert_exporter": "python",
   "pygments_lexer": "ipython3",
   "version": "3.11.6"
  },
  "orig_nbformat": 4,
  "vscode": {
   "interpreter": {
    "hash": "a62a31cce7fdc7250bf1303f3a744872f35a709152d20694985a374e3193d112"
   }
  }
 },
 "nbformat": 4,
 "nbformat_minor": 2
}
