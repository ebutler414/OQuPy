{
 "cells": [
  {
   "cell_type": "markdown",
   "metadata": {},
   "source": [
    "# Mean-Field Dynamics\n",
    "\n",
    "In this tutorial we discuss to use TEMPO and the process tensor approach to compute the dynamics of a many-body system of the type introduced in [FowlerWright2022]([Phys. Rev. Lett. 129, 173001 (2022).](https://doi.org/10.1103/PhysRevLett.129.173001)).\n",
    "\n",
    "- [launch binder](https://mybinder.org/v2/gh/tempoCollaboration/OQuPy/HEAD?labpath=tutorials%2Fmf_tempo.ipynb) (runs in browser),\n",
    "- [download the jupyter file](https://raw.githubusercontent.com/tempoCollaboration/OQuPy/main/tutorials/mf_tempo.ipynb), or\n",
    "- read through the text below and code along."
   ]
  },
  {
   "cell_type": "markdown",
   "metadata": {},
   "source": [
    "**Contents:**\n",
    "\n",
    "1. Background and introduction\n",
    "    * many-body system and environment Hamiltonians\n",
    "    * system Hamiltonian and field equation of motion after the mean-field reduction\n",
    "2. Creating time-dependent system with field and bath objects\n",
    "3. TEMPO computation for single dynamics\n",
    "4. PT-TEMPO computation for multiple sets of dynamics"
   ]
  },
  {
   "cell_type": "markdown",
   "metadata": {},
   "source": [
    "We firstly import OQuPy and other useful packages:"
   ]
  },
  {
   "cell_type": "code",
   "execution_count": 1,
   "metadata": {},
   "outputs": [],
   "source": [
    "import sys\n",
    "sys.path.insert(0,'..')\n",
    "import oqupy\n",
    "import numpy as np\n",
    "import matplotlib.pyplot as plt"
   ]
  },
  {
   "cell_type": "markdown",
   "metadata": {},
   "source": [
    "Check the current OQuPy version; mean-field functionality was introduced in version **0.3.0** and revised in its current format in **0.4.0.**"
   ]
  },
  {
   "cell_type": "code",
   "execution_count": 2,
   "metadata": {},
   "outputs": [
    {
     "data": {
      "text/plain": [
       "'0.4.0'"
      ]
     },
     "execution_count": 2,
     "metadata": {},
     "output_type": "execute_result"
    }
   ],
   "source": [
    "oqupy.__version__"
   ]
  },
  {
   "cell_type": "markdown",
   "metadata": {},
   "source": [
    "The following matrices will be useful below:"
   ]
  },
  {
   "cell_type": "code",
   "execution_count": 3,
   "metadata": {},
   "outputs": [],
   "source": [
    "sigma_z = oqupy.operators.sigma(\"z\")\n",
    "sigma_plus = oqupy.operators.sigma(\"+\")\n",
    "sigma_minus = oqupy.operators.sigma(\"-\")"
   ]
  },
  {
   "cell_type": "markdown",
   "metadata": {},
   "source": [
    "-------------------------------------------------\n",
    "## 1. Background and introduction\n",
    "\n",
    "Our goal will be to reproduce a line from **Fig. 2a.** of [FowlerWright2022]([Phys. Rev. Lett. 129, 173001 (2022).](https://doi.org/10.1103/PhysRevLett.129.173001)) which shows the photon number dynamics for the driven-dissipative system of molecules in a single-mode cavity.\n",
    "\n",
    "### Many-body system and environment Hamiltonian\n",
    "The Hamiltonian describing the many-body system with one-to-all light-matter coupling is\n",
    "$$\n",
    "H_{S} = \\omega_c a^{\\dagger}_{}a^{\\vphantom{\\dagger}}_{} \n",
    "\t+ \\sum_{i=1}^N \\left[\\frac{\\omega_0}{2} \\sigma^z_i\n",
    "\t+  \\frac{\\Omega}{2\\sqrt{N}} \\left( a^{\\vphantom{\\dagger}}_{} \\sigma^+_i + a^{\\dagger}_{} \\sigma^-_i \\right)\\right]\n",
    "$$\n",
    "Together with the vibrational environment of each molecule,\n",
    "$$\n",
    "\tH_{E}^{(i)} = \\sum_{j} \\left[\t\\nu_{j} b^{\\dagger}_{j} b^{\\vphantom{\\dagger}}_{j} \n",
    "\t+ \\frac{\\xi_{j}}{2} (b^{\\vphantom{\\dagger}}_{j}+b^{\\dagger}_{j})\\sigma^z_i\\right]\\text{.}\n",
    "$$\n",
    "This is taken to be a continuum of low frequency modes with coupling characterized by a spectral density with a 'Gaussian' cut-off\n",
    "$$\n",
    "\\begin{align*}\n",
    "J(\\nu) &= \\sum_{j}  \\left(\\frac{\\xi_j}{2}\\right)^2\n",
    "\\delta(\\nu-\\nu_j)= 2\\alpha \\nu e^{-(\\nu/\\nu_c)^2}\\text{,} \\quad \\nu>0\\text{,}\n",
    "\\end{align*}\n",
    "$$\n",
    "where $\\alpha=0.25$ is the unit-less coupling strenght and $\\hbar \\nu_c = 0.15$ eV is a cutoff frequency for the environment of the BODIPY-Br molecule considered in the Letter. For the numericla simulation we here choose to express all frequencies as angular frequencies in the units of $\\frac{1}{\\text{ps}}$ (setting $\\hbar = k_B = 1$) and all times in units of ps. The parameters relevant to **Fig. 2a.** given in those units are:\n",
    "\n",
    "* $\\nu_c = 0.15 \\text{eV} = 227.9 \\frac{1}{\\text{ps}}$ ... environment cutoff frequency\n",
    "* $T = 300 \\text{K} = 39.3 \\frac{1}{\\text{ps}}$  ... environment temperature\n",
    "* $\\omega_0 = 0.0 \\frac{1}{\\text{ps}}$ ... two-level system frequency **\\***\n",
    "* $\\omega_c = -0.02 \\text{eV} = -30.4 \\frac{1}{\\text{ps}}$ ... bare cavity frequency\n",
    "* $\\Omega = 0.2 \\text{eV} = 303.9 \\frac{1}{\\text{ps}}$ ... collective light-matter coupling\n",
    "\n",
    "together with the rates\n",
    "\n",
    "* $\\kappa = 15.2 \\frac{1}{\\text{ps}}$ ... field decay\n",
    "* $\\Gamma_\\downarrow = 15.2 \\frac{1}{\\text{ps}}$ ... electronic dissipation\n",
    "* $\\Gamma_\\uparrow \\in (0.2\\Gamma_\\downarrow, 0.8\\Gamma_\\downarrow)$ ... electronic pumping\n",
    "\n",
    "The latter appear as prefactors for Markovian terms in the quantum master equation for the total density operator\n",
    "$$\n",
    "\\partial_t \\rho = -i \\biggl[ H_S + \\sum_{i=1}^N H_E^{(i)}, \\rho \\biggr]\n",
    "\t+ 2 \\kappa \\mathcal{L}[a^{\\vphantom{\\dagger}}_{}]\n",
    "\t+ \\sum_{i=1}^N (\\Gamma_\\uparrow \\mathcal{L}[\\sigma^+_i]\n",
    "\t+  \\Gamma_\\downarrow \\mathcal{L}[\\sigma^-_i])\\text{.}\n",
    "$$\n",
    "As indicated, it is the pump strength $\\Gamma_\\uparrow$ that is varied to generate the different lines of **Fig. 2a.** In this tutorial we generate the $\\Gamma_\\uparrow=0.8\\,\\Gamma_\\downarrow$ line using the TEMPO method, and then the Process Tensor approach to calculate all of the lines efficiently.  \n",
    "\n",
    "The following code box defines each of the above parameters.\n",
    "\n",
    "\n",
    "**\\* N.B.** for calculating the dynamics only the detuning $\\omega_c-\\omega_0$ is relevant, so we set $\\omega_0=0$ for convenience."
   ]
  },
  {
   "cell_type": "code",
   "execution_count": 4,
   "metadata": {},
   "outputs": [],
   "source": [
    "alpha = 0.25\n",
    "nu_c = 227.9\n",
    "T = 39.3\n",
    "omega_0 = 0.0\n",
    "omega_c = -30.4\n",
    "Omega = 303.9\n",
    "\n",
    "kappa = 15.2\n",
    "Gamma_down = 15.2\n",
    "Gamma_up = 0.8 * Gamma_down"
   ]
  },
  {
   "cell_type": "markdown",
   "metadata": {},
   "source": [
    "### System Hamiltonian and field equation of motion after the mean-field reduction"
   ]
  },
  {
   "cell_type": "markdown",
   "metadata": {},
   "source": [
    "The mean-field approach is based on a product-state ansatz for the total density operator $\\rho$,\n",
    "$$\n",
    "\\rho = \\rho_a \\otimes \\bigotimes_{i=1}^N \\rho_i,\\quad \\rho_a= \\text{Tr}_{\\otimes{i}}\\rho,\\quad \\rho_i = \\text{Tr}_{a, \\otimes{j\\neq i}} \\rho,\n",
    "$$ \n",
    "where $\\text{Tr}_{\\otimes{i}}$ denotes a partial trace taken over the Hilbert space of all two-level systems and $\\text{Tr}_{a, \\otimes{j\\neq i}}$ the trace over the photonic degree of freedom and all but the $i^{\\text{th}}$ two-level system. As detailed in the Supplement of the Letter, after rescaling the field $\\langle a \\rangle \\to \\langle a \\rangle/\\sqrt{N}$ ($\\langle a \\rangle$ scales with $\\sqrt{N}$ in the lasing phase), the dynamics are controlled by the mean-field Hamiltonian $H_{\\text{MF}}$ for a *single molecule,*\n",
    "$$\n",
    "\tH_\\text{MF} = \n",
    " \\frac{\\omega_0}{2}\\sigma^z+\n",
    "\t\\frac{\\Omega}{2}\\left( \\langle a \\rangle \\sigma^+ +\n",
    "\t\\langle a \\rangle^{*}\\sigma^- \\right)\\text{,}\n",
    "$$\n",
    "together with the equation of motion for the field $\\langle a \\rangle$,\n",
    "$$\n",
    "\\partial_t \\langle a \\rangle = \n",
    "\t- (i\\omega_c+\\kappa)\\langle a \\rangle- i \\frac{\\Omega}{2}\\langle\\sigma^-\\rangle.\n",
    "$$\n",
    "Therefore in order to calculate the dynamics we need to encode the field's equation of motion in addition to the Hamiltonian for a single two level-system $\\rho_i$. This is done in OQuPy using the `MeanFieldSystem` class."
   ]
  },
  {
   "cell_type": "markdown",
   "metadata": {},
   "source": [
    "## 2. Creating time-dependent system with field and bath objects\n",
    "A `MeanFieldSystem` object is initialised with a field equation of motion and one or more `TimeDependentSystemWithField` which objects in turn are characterised by Hamiltonians with both time and field depedence. In the present example, we need only one `TimeDependentSystemWithField`, for the single molecule Hamiltonian $H_{\\text{MF}}$, but other problems may require multiple such objects e.g. to encode different types of molecules.\n",
    "\n",
    "We firstly need to define:   \n",
    "- a function `field_eom(t, state_list, a)` which takes as arguments time, a _list_ of states as square matrices (numpy ndarrays) and a field\n",
    "- a function `H_MF(t, a)` which takes a time and a field\n",
    "    \n",
    "Since positional arguments are used in the definition of these functions, the order of arguments matter, whereas their names do not. In particular, both functions must have a time variable for their first argument, even if there happens to be no explicit time-dependence in the problem (there is no '`SystemWithField`' class in OQuPy). "
   ]
  },
  {
   "cell_type": "code",
   "execution_count": 5,
   "metadata": {},
   "outputs": [],
   "source": [
    "def H_MF(t, a):\n",
    "    return 0.5 * omega_0 * sigma_z +\\\n",
    "        0.5 * Omega * (a * sigma_plus + np.conj(a) * sigma_minus)\n",
    "def field_eom(t, state_list, a):\n",
    "    state = state_list[0]\n",
    "    expect_val = np.matmul(sigma_minus, state).trace()\n",
    "    return -(1j * omega_c + kappa) * a - 0.5j * Omega * expect_val"
   ]
  },
  {
   "cell_type": "markdown",
   "metadata": {},
   "source": [
    "Note that the second argument of `field_eom` must be a list, even in the case of a single `TimeDependentSystemWithField` object (this requirement is a feature of most functionality involving the `MeanFieldSystem` class, as we will see below). Thus, in order to compute the expectation $\\langle \\sigma^- \\rangle$ we took the first element of this list - a $2\\times2$ matrix - before multiplying by $\\sigma^-$ and taking the trace.\n",
    "\n",
    "It is a good idea to test these functions:"
   ]
  },
  {
   "cell_type": "code",
   "execution_count": 6,
   "metadata": {},
   "outputs": [
    {
     "name": "stdout",
     "output_type": "stream",
     "text": [
      "H_eval = [[  0.    +0.j   151.95+151.95j]\n",
      " [151.95-151.95j   0.    +0.j  ]]\n",
      "EOM_eval = (258.29999999999995+15.2j)\n"
     ]
    }
   ],
   "source": [
    "test_field = 1.0+1.0j\n",
    "test_time = 0.01\n",
    "test_state_list = [ np.array([[0.0,2j],[-2j,1.0]]) ]\n",
    "print('H_eval =', H_MF(test_time, test_field))\n",
    "print('EOM_eval =', field_eom(test_time, test_state_list, test_field))"
   ]
  },
  {
   "cell_type": "markdown",
   "metadata": {},
   "source": [
    "In, we need to specify Lindblad operators for the pumping and dissipation processes:"
   ]
  },
  {
   "cell_type": "code",
   "execution_count": 7,
   "metadata": {},
   "outputs": [],
   "source": [
    "gammas = [ lambda t: Gamma_down, lambda t: Gamma_up]\n",
    "lindblad_operators = [ lambda t: sigma_minus, lambda t: sigma_plus]"
   ]
  },
  {
   "cell_type": "markdown",
   "metadata": {},
   "source": [
    "Here the rates and Lindblad operators must be callables taking a single argument - time - again, even though in our example there is no explicit time-dependence. The `TimeDependentSystemWithField` object is then constructed as"
   ]
  },
  {
   "cell_type": "code",
   "execution_count": 8,
   "metadata": {},
   "outputs": [],
   "source": [
    "system = oqupy.TimeDependentSystemWithField(\n",
    "        hamiltonian=H_MF,\n",
    "        gammas=gammas,\n",
    "        lindblad_operators=lindblad_operators)"
   ]
  },
  {
   "cell_type": "markdown",
   "metadata": {},
   "source": [
    "and the encompasing `MeanFieldSystem` as"
   ]
  },
  {
   "cell_type": "code",
   "execution_count": 9,
   "metadata": {},
   "outputs": [],
   "source": [
    "system_list = [system] # a list of TimeDependentiSystemWithField objects\n",
    "mean_field_system = oqupy.MeanFieldSystem(\n",
    "                    system_list=system_list,\n",
    "                    field_eom=field_eom)"
   ]
  },
  {
   "cell_type": "markdown",
   "metadata": {},
   "source": [
    "where we note the single system must be placed in a list, `system_list`, before being passed to the `MeanFieldSystem` constructor.\n",
    "\n",
    "Correlations and a Bath object are created in the same way as in any other TEMPO computation (refer to preceding tutorials), although here we will need the Bath in a list:"
   ]
  },
  {
   "cell_type": "code",
   "execution_count": 10,
   "metadata": {},
   "outputs": [],
   "source": [
    "correlations = oqupy.PowerLawSD(alpha=alpha,\n",
    "                                zeta=1,\n",
    "                                cutoff=nu_c,\n",
    "                                cutoff_type='gaussian',\n",
    "                                temperature=T)\n",
    "bath = oqupy.Bath(0.5 * sigma_z, correlations)\n",
    "bath_list = [bath]"
   ]
  },
  {
   "cell_type": "markdown",
   "metadata": {},
   "source": [
    "## 3. TEMPO computation for single dynamics"
   ]
  },
  {
   "cell_type": "markdown",
   "metadata": {},
   "source": [
    "For our simulations we use the same initial conditions for the system and state used in the Letter:"
   ]
  },
  {
   "cell_type": "code",
   "execution_count": 11,
   "metadata": {},
   "outputs": [],
   "source": [
    "initial_field = np.sqrt(0.05) # Note n_0 = <a^dagger a>(0) = 0.05\n",
    "initial_state = np.array([[0,0],[0,1]]) # spin down\n",
    "initial_state_list = [initial_state] # initial state must be provided in a list"
   ]
  },
  {
   "cell_type": "markdown",
   "metadata": {},
   "source": [
    "To reduce the computation time we simulate only the first 0.3 ps of the dynamics with much rougher convergence parameters compared to the letter."
   ]
  },
  {
   "cell_type": "code",
   "execution_count": 12,
   "metadata": {},
   "outputs": [],
   "source": [
    "tempo_parameters = oqupy.TempoParameters(dt=3.2e-3, dkmax=20, epsrel=10**(-5))\n",
    "start_time = 0.0\n",
    "end_time = 0.3"
   ]
  },
  {
   "cell_type": "markdown",
   "metadata": {},
   "source": [
    "The `oqupy.MeanFieldTempo.compute` method may then be used to compute the dynamics in an analogous way a call to `oqupy.Tempo.compute` is used to compute the dynamics for an ordinary `System`:"
   ]
  },
  {
   "cell_type": "code",
   "execution_count": 13,
   "metadata": {},
   "outputs": [
    {
     "name": "stdout",
     "output_type": "stream",
     "text": [
      "--> TEMPO-with-field computation:\n",
      "100.0%   93 of   93 [########################################] 00:00:13\n",
      "Elapsed time: 13.3s\n"
     ]
    }
   ],
   "source": [
    "tempo_sys = oqupy.MeanFieldTempo(mean_field_system=mean_field_system,\n",
    "                                 bath_list=[bath],\n",
    "                                 initial_state_list=initial_state_list,\n",
    "                                 initial_field=initial_field,\n",
    "                                 start_time=start_time,\n",
    "                                 parameters=tempo_parameters)\n",
    "mean_field_dynamics = tempo_sys.compute(end_time=end_time)"
   ]
  },
  {
   "cell_type": "markdown",
   "metadata": {},
   "source": [
    "`MeanFieldTempo.compute` returns a `MeanFieldDynamics` object containing an array of timesteps, the field values at these timesteps, and a list of ordinary `Dynamics` objects, one for each of `TimeDependentSystemWithField` objects (here only one):"
   ]
  },
  {
   "cell_type": "code",
   "execution_count": 14,
   "metadata": {},
   "outputs": [],
   "source": [
    "times = mean_field_dynamics.times\n",
    "fields = mean_field_dynamics.fields\n",
    "system_dynamics = mean_field_dynamics.system_dynamics[0]\n",
    "states = system_dynamics.states"
   ]
  },
  {
   "cell_type": "markdown",
   "metadata": {},
   "source": [
    "We plot a the square value of the fields i.e. the photon number, producing the first part of a single line of **Fig. 2a.**:\n",
    "    "
   ]
  },
  {
   "cell_type": "code",
   "execution_count": 15,
   "metadata": {},
   "outputs": [
    {
     "data": {
      "text/plain": [
       "<matplotlib.legend.Legend at 0x7f848ff957e0>"
      ]
     },
     "execution_count": 15,
     "metadata": {},
     "output_type": "execute_result"
    },
    {
     "data": {
      "image/png": "[encoded data removed]",
      "text/plain": [
       "<Figure size 432x288 with 1 Axes>"
      ]
     },
     "metadata": {
      "needs_background": "light"
     },
     "output_type": "display_data"
    }
   ],
   "source": [
    "n = np.abs(fields)**2\n",
    "plt.plot(times, n, label=r'$\\Gamma_\\uparrow = 0.8\\Gamma_\\downarrow$')\n",
    "plt.xlabel(r'$t$ (ps)')\n",
    "plt.ylabel(r'$n/N$')\n",
    "plt.ylim((0.0,0.15))\n",
    "plt.legend(loc='upper left')"
   ]
  },
  {
   "cell_type": "markdown",
   "metadata": {},
   "source": [
    "If you have the time you can calculate the dynamics to $t=1.3\\,\\text{ps}$ as in the Letter and check that, even for these very rough parameters, the results are reasonably close to being converged with respect to `dt`, `dkmax` and `epsrel`.\n",
    "\n",
    "While you could repeat the TEMPO computation for each pump strength $\\Gamma_\\uparrow$ appearing in **Fig. 2a.**, a more efficient solution for calculating dynamics for multiple sets of system parameters (in this case Lindblad rates) is provided by PT-TEMPO."
   ]
  },
  {
   "cell_type": "markdown",
   "metadata": {},
   "source": [
    "## 4. PT-TEMPO computation for multiple sets of dynamics\n",
    "The above calculation can be performed quickly for many-different pump strengths  $\\Gamma_\\uparrow$ using a single process tensor. \n",
    "\n",
    "As discussed in the Supplement Material for the Letter, there is no guarantee that computational parameters that gave a set of converged results for the TEMPO method will give converged results for a PT-TEMPO calculation. For the sake of this tutorial however let's assume the above parameters continue to be reasonable. The process tensor to time $t=0.3\\,\\text{ps}$ is calculated using these parameters and the bath via"
   ]
  },
  {
   "cell_type": "code",
   "execution_count": 16,
   "metadata": {},
   "outputs": [
    {
     "name": "stdout",
     "output_type": "stream",
     "text": [
      "--> PT-TEMPO computation:\n",
      "100.0%   93 of   93 [########################################] 00:00:02\n",
      "Elapsed time: 2.8s\n"
     ]
    }
   ],
   "source": [
    "process_tensor = oqupy.pt_tempo_compute(bath=bath,\n",
    "                                        start_time=0.0,\n",
    "                                        end_time=0.3,\n",
    "                                        parameters=tempo_parameters)"
   ]
  },
  {
   "cell_type": "markdown",
   "metadata": {},
   "source": [
    "Refer the Time Dependence and PT-TEMPO tutorial for further discussion of the process tensor.\n",
    "\n",
    "To calculate the dynamics for the 4 different pump strengths in **Fig. 2a.**, we define a separate `MeanFieldSystem` object for each pump strength. Only the `gammas` array needs to be modified between sets of constructor calls:"
   ]
  },
  {
   "cell_type": "code",
   "execution_count": 17,
   "metadata": {},
   "outputs": [],
   "source": [
    "pump_ratios = [0.2, 0.4, 0.6, 0.8]\n",
    "mean_field_systems = []\n",
    "for ratio in pump_ratios:\n",
    "    Gamma_up = ratio * Gamma_down\n",
    "    # N.B. a default argument is used to avoid the late-binding closure issue\n",
    "    # discussed here: https://docs.python-guide.org/writing/gotchas/#late-binding-closures\n",
    "    gammas = [ lambda t: Gamma_down, lambda t, Gamma_up=Gamma_up: Gamma_up]\n",
    "     # Use the same Hamiltonian, equation of motion and Lindblad operators\n",
    "    system = oqupy.TimeDependentSystemWithField(H_MF,\n",
    "        gammas=gammas,\n",
    "        lindblad_operators=lindblad_operators)\n",
    "    mean_field_system = oqupy.MeanFieldSystem(system_list=[system],\n",
    "                                             field_eom=field_eom)\n",
    "    mean_field_systems.append(mean_field_system)"
   ]
  },
  {
   "cell_type": "markdown",
   "metadata": {},
   "source": [
    "We can then use `compute_dynamics_with_field` to compute the dynamics at each $\\Gamma_\\uparrow$ for the particular initial condition using the process tensor (now in a list) calculated above:"
   ]
  },
  {
   "cell_type": "code",
   "execution_count": 18,
   "metadata": {},
   "outputs": [
    {
     "name": "stdout",
     "output_type": "stream",
     "text": [
      "--> Compute dynamics with field:\n",
      "100.0%   93 of   93 [########################################] 00:00:09\n",
      "Elapsed time: 9.6s\n",
      "--> Compute dynamics with field:\n",
      "100.0%   93 of   93 [########################################] 00:00:09\n",
      "Elapsed time: 9.9s\n",
      "--> Compute dynamics with field:\n",
      "100.0%   93 of   93 [########################################] 00:00:09\n",
      "Elapsed time: 9.9s\n",
      "--> Compute dynamics with field:\n",
      "100.0%   93 of   93 [########################################] 00:00:08\n",
      "Elapsed time: 8.7s\n"
     ]
    }
   ],
   "source": [
    "t_list = []\n",
    "n_list = []\n",
    "for i, mean_field_system in enumerate(mean_field_systems):\n",
    "    mean_field_dynamics = oqupy.compute_dynamics_with_field(\n",
    "        process_tensor_list=[process_tensor],\n",
    "        mean_field_system=mean_field_system,\n",
    "        initial_state_list=[initial_state],\n",
    "        initial_field=initial_field,\n",
    "        start_time=0.0)\n",
    "    t = mean_field_dynamics.times\n",
    "    fields = mean_field_dynamics.fields\n",
    "    n = np.abs(fields)**2\n",
    "    t_list.append(t)\n",
    "    n_list.append(n)"
   ]
  },
  {
   "cell_type": "markdown",
   "metadata": {},
   "source": [
    "Finally, plotting the results:"
   ]
  },
  {
   "cell_type": "code",
   "execution_count": 19,
   "metadata": {
    "scrolled": true
   },
   "outputs": [
    {
     "data": {
      "text/plain": [
       "<matplotlib.legend.Legend at 0x7f848f7e88b0>"
      ]
     },
     "execution_count": 19,
     "metadata": {},
     "output_type": "execute_result"
    },
    {
     "data": {
      "image/png": "[encoded data removed]",
      "text/plain": [
       "<Figure size 432x288 with 1 Axes>"
      ]
     },
     "metadata": {
      "needs_background": "light"
     },
     "output_type": "display_data"
    }
   ],
   "source": [
    "for i,n in enumerate(n_list):\n",
    "    ratio = pump_ratios[i]\n",
    "    label = r'$\\Gamma_\\uparrow = {}\\Gamma_\\downarrow$'.format(pump_ratios[i])\n",
    "    plt.plot(t_list[i], n_list[i], label=label)\n",
    "plt.xlabel(r'$t$ (ps)')\n",
    "plt.ylabel(r'$n/N$')\n",
    "plt.ylim((0.0,0.15))\n",
    "plt.legend(loc='upper left')"
   ]
  },
  {
   "cell_type": "markdown",
   "metadata": {},
   "source": [
    "## 5. Summary\n",
    "To summarise the classes and methods for calculating mean-field dynamics:\n",
    "\n",
    "- A Hamiltonian with time $t$ and field $a$ dependence is used to construct a `TimeDependentSystemWithField` object\n",
    "- One or more `TimeDependentSystemWithField` objects and a field equation of motion forms a `MeanFieldSystem`\n",
    "- `oqupy.MeanFieldTempo.compute` or `.compute_dynamics_with_field` (process tensor) may be used to calculate `MeanFieldDynamics`\n",
    "- `MeanFieldDynamics` comprises one of more system `Dynamics` and a set of field values `fields`."
   ]
  }
 ],
 "metadata": {
  "interpreter": {
   "hash": "56674a1249193ed385a20db9ba6c6497b0cb98d98f01f014399e91d8567384eb"
  },
  "kernelspec": {
   "display_name": "Python 3 (ipykernel)",
   "language": "python",
   "name": "python3"
  },
  "language_info": {
   "codemirror_mode": {
    "name": "ipython",
    "version": 3
   },
   "file_extension": ".py",
   "mimetype": "text/x-python",
   "name": "python",
   "nbconvert_exporter": "python",
   "pygments_lexer": "ipython3",
   "version": "3.10.8"
  },
  "widgets": {
   "application/vnd.jupyter.widget-state+json": {
    "state": {},
    "version_major": 1,
    "version_minor": 0
   }
  }
 },
 "nbformat": 4,
 "nbformat_minor": 2
}
