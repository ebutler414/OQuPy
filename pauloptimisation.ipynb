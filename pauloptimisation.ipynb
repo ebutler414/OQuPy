{
 "cells": [
  {
   "cell_type": "code",
   "execution_count": 1,
   "metadata": {},
   "outputs": [],
   "source": [
    "import numpy as np\n",
    "import matplotlib.pyplot as plt\n",
    "\n",
    "import oqupy\n",
    "import oqupy.operators as op\n",
    "\n",
    "from scipy.optimize import minimize, Bounds\n",
    "from typing import List,Tuple\n",
    "\n",
    "# --- Parameters --------------------------------------------------------------\n",
    "\n",
    "# -- time steps --\n",
    "dt = 0.05 # 0.2\n",
    "num_steps = 100 # 20\n",
    "\n",
    "# -- bath --\n",
    "alpha =  0.126 #0.08\n",
    "omega_cutoff = 3.04 #4\n",
    "temperature =  5 * 0.1309 #1.6\n",
    "pt_dkmax =60 # 40\n",
    "pt_epsrel = 10**(-7) #1.0e-5\n",
    "\n",
    "# -- initial and target state --\n",
    "initial_state = op.spin_dm('x-')\n",
    "target_state = op.spin_dm('x+')\n",
    "\n",
    "# -- initial parameter guess --\n",
    "x0= np.ones(num_steps)*0.0\n",
    "z0 = np.ones(num_steps) * (np.pi) / (dt*num_steps)\n",
    "\n",
    "\n",
    "\n",
    "parameter_list=[item for pair in zip(x0, z0) for item in pair] # this makes a list without the inner tuples\n"
   ]
  },
  {
   "cell_type": "code",
   "execution_count": 2,
   "metadata": {},
   "outputs": [
    {
     "name": "stdout",
     "output_type": "stream",
     "text": [
      "--> PT-TEMPO computation:\n",
      "100.0%  100 of  100 [########################################] 00:00:20\n",
      "Elapsed time: 20.8s\n"
     ]
    }
   ],
   "source": [
    "# --- Compute process tensors -------------------------------------------------\n",
    "correlations = oqupy.PowerLawSD(alpha=alpha,\n",
    "                                zeta=3,\n",
    "                                cutoff=omega_cutoff,\n",
    "                                cutoff_type='gaussian',\n",
    "                                temperature=temperature)\n",
    "bath = oqupy.Bath(oqupy.operators.sigma(\"z\")/2, correlations)\n",
    "\n",
    "\n",
    "pt_tempo_parameters = oqupy.TempoParameters(\n",
    "    dt=dt,\n",
    "    epsrel=pt_epsrel,\n",
    "    dkmax=pt_dkmax)\n",
    "process_tensor = oqupy.pt_tempo_compute(\n",
    "    bath=bath,\n",
    "    start_time=0.0,\n",
    "    end_time=num_steps * dt,\n",
    "    parameters=pt_tempo_parameters,\n",
    "    progress_type='bar')"
   ]
  },
  {
   "cell_type": "code",
   "execution_count": 3,
   "metadata": {},
   "outputs": [],
   "source": [
    "def hamiltonian(hx,hz):\n",
    "\n",
    "    hx_sx = 0.5 * oqupy.operators.sigma('x') * hx\n",
    "    hz_sz = 0.5 * oqupy.operators.sigma('z') * hz\n",
    "\n",
    "    return hz_sz + hx_sx\n",
    "\n",
    "parameterized_system=oqupy.ParameterizedSystem(hamiltonian)\n",
    "\n"
   ]
  },
  {
   "cell_type": "code",
   "execution_count": 4,
   "metadata": {},
   "outputs": [],
   "source": [
    "def infidandgrad(paras):\n",
    "    # take a numpy array hx0, hz0, hx1, hz1, ... over full timesteps\n",
    "    # return the fidelity and gradient of the fidelity to the global target_state\n",
    "    reshapedparas=[i for i in (paras.reshape((-1,2))).tolist() for j in range(2)]\n",
    "    eoinscode=oqupy.state_gradient(system=parameterized_system,\n",
    "        initial_state=initial_state,\n",
    "        target_state=target_state.T,\n",
    "        process_tensor=[process_tensor],\n",
    "        parameters=reshapedparas)\n",
    "    fs=eoinscode['final state']\n",
    "    gps=eoinscode['gradient']\n",
    "    fidelity=np.sum(fs*target_state.T)\n",
    "    for i in range(0,gps.shape[0],2): \n",
    "        gps[i,:]=gps[i,:]+gps[i+1,:]\n",
    "    gps=gps[0::2]\n",
    "    return 1-fidelity.real,(-1.0*gps.reshape((-1)).real).tolist()"
   ]
  },
  {
   "cell_type": "code",
   "execution_count": 5,
   "metadata": {},
   "outputs": [],
   "source": [
    "infid,grad=infidandgrad(np.array(parameter_list))"
   ]
  },
  {
   "cell_type": "code",
   "execution_count": 6,
   "metadata": {},
   "outputs": [],
   "source": [
    "lbx=[-5*np.pi for i in range(num_steps)]\n",
    "lbz=[-np.pi for i in range(num_steps)]\n",
    "lb_list=[item for pair in zip(lbx, lbz) for item in pair]\n",
    "ubx=[5*np.pi for i in range(num_steps)]\n",
    "ubz=[np.pi for i in range(num_steps)]\n",
    "lb_list=[item for pair in zip(lbx, lbz) for item in pair]\n",
    "ub_list=[item for pair in zip(ubx, ubz) for item in pair]"
   ]
  },
  {
   "cell_type": "code",
   "execution_count": 7,
   "metadata": {},
   "outputs": [],
   "source": [
    "from scipy.optimize import minimize,Bounds\n",
    "\n",
    "optimization_result = minimize(\n",
    "                        fun=infidandgrad,\n",
    "                        x0=np.array(parameter_list),\n",
    "                        method='L-BFGS-B',\n",
    "                        jac=True,\n",
    "                        bounds=Bounds(lb_list,ub_list),\n",
    "                        options = {'disp':True,'gtol': 7e-05})"
   ]
  },
  {
   "cell_type": "code",
   "execution_count": 8,
   "metadata": {},
   "outputs": [
    {
     "data": {
      "text/plain": [
       "[<matplotlib.lines.Line2D at 0x2387f992650>]"
      ]
     },
     "execution_count": 8,
     "metadata": {},
     "output_type": "execute_result"
    },
    {
     "data": {
      "image/png": "[encoded data removed]",
      "text/plain": [
       "<Figure size 640x480 with 1 Axes>"
      ]
     },
     "metadata": {},
     "output_type": "display_data"
    }
   ],
   "source": [
    "times=dt*np.arange(num_steps)\n",
    "plt.plot(times,optimization_result['x'][0::2])\n",
    "plt.plot(times,optimization_result['x'][1::2])"
   ]
  },
  {
   "cell_type": "code",
   "execution_count": null,
   "metadata": {},
   "outputs": [],
   "source": []
  }
 ],
 "metadata": {
  "kernelspec": {
   "display_name": ".venv",
   "language": "python",
   "name": "python3"
  },
  "language_info": {
   "codemirror_mode": {
    "name": "ipython",
    "version": 3
   },
   "file_extension": ".py",
   "mimetype": "text/x-python",
   "name": "python",
   "nbconvert_exporter": "python",
   "pygments_lexer": "ipython3",
   "version": "3.11.8"
  }
 },
 "nbformat": 4,
 "nbformat_minor": 2
}
