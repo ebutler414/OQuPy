{
 "cells": [
  {
   "cell_type": "code",
   "execution_count": 1,
   "metadata": {},
   "outputs": [],
   "source": [
    "import numpy as np\n",
    "import matplotlib.pyplot as plt\n",
    "\n",
    "import oqupy\n",
    "import oqupy.operators as op\n",
    "\n",
    "from scipy.optimize import minimize, Bounds\n",
    "from typing import List,Tuple\n",
    "\n",
    "# --- Parameters --------------------------------------------------------------\n",
    "\n",
    "# -- time steps --\n",
    "dt = 0.05 # 0.2\n",
    "num_steps = 20 # 20\n",
    "\n",
    "# -- bath --\n",
    "alpha =  0.126 #0.08\n",
    "omega_cutoff = 3.04 #4\n",
    "temperature =  5 * 0.1309 #1.6\n",
    "pt_dkmax =60 # 40\n",
    "pt_epsrel = 10**(-7) #1.0e-5\n",
    "\n",
    "# -- initial and target state --\n",
    "initial_state = op.spin_dm('x-')\n",
    "target_state = op.spin_dm('x+')\n",
    "\n",
    "# -- initial parameter guess --\n",
    "x0= np.zeros(num_steps)\n",
    "z0 = np.ones(num_steps) * (np.pi) / (dt*num_steps)\n",
    "'''\n",
    "for i in range(len(z0)):\n",
    "    if i % 2 == 0:\n",
    "        z0[i]=0\n",
    "'''\n",
    "\n",
    "#parameter_list=[i[0] for i in zip(x0,z0)]\n",
    "\n",
    "parameter_list=[item for pair in zip(x0, z0) for item in pair] # this makes a list without the inner tuples\n",
    "\n",
    "#parameter_list = list(zip(x0,z0))\n",
    "#num_params = len(parameter_list[0])"
   ]
  },
  {
   "cell_type": "code",
   "execution_count": 2,
   "metadata": {},
   "outputs": [],
   "source": [
    "halfparalist=[item for item in zip(x0,z0) for i in range(2)]"
   ]
  },
  {
   "cell_type": "code",
   "execution_count": 3,
   "metadata": {},
   "outputs": [
    {
     "name": "stdout",
     "output_type": "stream",
     "text": [
      "--> PT-TEMPO computation:\n",
      "100.0%   20 of   20 [########################################] 00:00:00\n",
      "Elapsed time: 0.4s\n"
     ]
    }
   ],
   "source": [
    "# --- Compute process tensors -------------------------------------------------\n",
    "correlations = oqupy.PowerLawSD(alpha=alpha,\n",
    "                                zeta=3,\n",
    "                                cutoff=omega_cutoff,\n",
    "                                cutoff_type='gaussian',\n",
    "                                temperature=temperature)\n",
    "bath = oqupy.Bath(oqupy.operators.sigma(\"z\")/2, correlations)\n",
    "\n",
    "\n",
    "pt_tempo_parameters = oqupy.TempoParameters(\n",
    "    dt=dt,\n",
    "    epsrel=pt_epsrel,\n",
    "    dkmax=pt_dkmax)\n",
    "process_tensor = oqupy.pt_tempo_compute(\n",
    "    bath=bath,\n",
    "    start_time=0.0,\n",
    "    end_time=num_steps * dt,\n",
    "    parameters=pt_tempo_parameters,\n",
    "    progress_type='bar')"
   ]
  },
  {
   "cell_type": "code",
   "execution_count": 4,
   "metadata": {},
   "outputs": [],
   "source": [
    "def hamiltonian(hx,hz):\n",
    "\n",
    "    hx_sx = 0.5 * oqupy.operators.sigma('x') * hx\n",
    "    hz_sz = 0.5 * oqupy.operators.sigma('z') * hz\n",
    "\n",
    "    return hz_sz + hx_sx\n",
    "\n",
    "parameterized_system=oqupy.ParameterizedSystem(hamiltonian)\n",
    "\n"
   ]
  },
  {
   "cell_type": "code",
   "execution_count": 5,
   "metadata": {},
   "outputs": [],
   "source": [
    "import tensornetwork as tn"
   ]
  },
  {
   "cell_type": "code",
   "execution_count": 6,
   "metadata": {},
   "outputs": [
    {
     "name": "stdout",
     "output_type": "stream",
     "text": [
      "21\n",
      "[[ 0.2499993 -4.66359997e-16j -0.19708521-7.43323897e-02j\n",
      "  -0.19708521+7.43323897e-02j  0.24999983-6.12421243e-18j]\n",
      " [-0.24166009+5.80173732e-02j  0.20930269+1.64724789e-02j\n",
      "   0.17806491-1.09118316e-01j -0.24166005+5.80175259e-02j]\n",
      " [-0.24166009-5.80173732e-02j  0.17806491+1.09118316e-01j\n",
      "   0.20930269-1.64724789e-02j -0.24166005-5.80175259e-02j]\n",
      " [ 0.24999983+4.21271836e-18j -0.20313677-5.57076148e-02j\n",
      "  -0.20313677+5.57076148e-02j  0.2499993 +4.45793440e-17j]]\n"
     ]
    }
   ],
   "source": [
    "fsadj=oqupy.compute_gradient_and_dynamics(\n",
    "        system=parameterized_system,\n",
    "        initial_state=initial_state,\n",
    "        target_state=target_state,\n",
    "        process_tensor=process_tensor,\n",
    "        parameters=halfparalist)[0][1]\n",
    "firsthalfprop,secondhalfprop=parameterized_system.get_propagators(dt,halfparalist)(1)\n",
    "fpt=tn.Node(firsthalfprop.T)\n",
    "spt=tn.Node(secondhalfprop.T)\n",
    "fsadj[0] ^ fpt[0]\n",
    "fsadj[1] ^ fpt[1]\n",
    "result1=fsadj @ fpt\n",
    "print(result1.tensor)"
   ]
  },
  {
   "cell_type": "code",
   "execution_count": null,
   "metadata": {},
   "outputs": [],
   "source": []
  },
  {
   "cell_type": "code",
   "execution_count": 7,
   "metadata": {},
   "outputs": [
    {
     "name": "stdout",
     "output_type": "stream",
     "text": [
      "21\n",
      "[[ 0.2499993 -4.66359782e-16j -0.20930269-1.64724789e-02j\n",
      "  -0.20930269+1.64724789e-02j  0.2499993 +4.45792678e-17j]\n",
      " [-0.2499993 +4.66359782e-16j  0.20930269+1.64724789e-02j\n",
      "   0.20930269-1.64724789e-02j -0.2499993 -4.45792678e-17j]\n",
      " [-0.2499993 +4.66359782e-16j  0.20930269+1.64724789e-02j\n",
      "   0.20930269-1.64724789e-02j -0.2499993 -4.45792678e-17j]\n",
      " [ 0.2499993 -4.66359782e-16j -0.20930269-1.64724789e-02j\n",
      "  -0.20930269+1.64724789e-02j  0.2499993 +4.45792778e-17j]]\n"
     ]
    }
   ],
   "source": [
    "fsadj=oqupy.compute_gradient_and_dynamics(\n",
    "        system=parameterized_system,\n",
    "        initial_state=initial_state,\n",
    "        target_state=target_state,\n",
    "        process_tensor=process_tensor,\n",
    "        parameters=halfparalist)[0][0]\n",
    "firsthalfprop,secondhalfprop=parameterized_system.get_propagators(dt,halfparalist)(0)\n",
    "fpt=tn.Node(firsthalfprop.T)\n",
    "spt=tn.Node(secondhalfprop.T)\n",
    "fsadj[2] ^ spt[0]\n",
    "fsadj[3] ^ spt[1]\n",
    "result2=fsadj @ spt\n",
    "print(result2.tensor)"
   ]
  },
  {
   "cell_type": "code",
   "execution_count": 8,
   "metadata": {},
   "outputs": [
    {
     "name": "stdout",
     "output_type": "stream",
     "text": [
      "21\n"
     ]
    }
   ],
   "source": [
    "bpl=oqupy.compute_gradient_and_dynamics(system=parameterized_system,\n",
    "                                    parameters=halfparalist,\n",
    "                                    initial_state=initial_state,\n",
    "                                    target_state=target_state.T,\n",
    "                                    process_tensor=process_tensor)"
   ]
  },
  {
   "cell_type": "code",
   "execution_count": 9,
   "metadata": {},
   "outputs": [
    {
     "data": {
      "text/plain": [
       "<oqupy.dynamics.Dynamics at 0x145dd5af0>"
      ]
     },
     "execution_count": 9,
     "metadata": {},
     "output_type": "execute_result"
    }
   ],
   "source": [
    "bpl[1]"
   ]
  },
  {
   "cell_type": "code",
   "execution_count": 10,
   "metadata": {},
   "outputs": [
    {
     "data": {
      "text/plain": [
       "array([[ 0.        +0.j        ,  0.00049062+0.01248715j,\n",
       "         0.00049062-0.01248715j,  0.        +0.j        ],\n",
       "       [ 0.00049062+0.01248715j,  0.        +0.j        ,\n",
       "         0.        +0.j        , -0.00049062-0.01248715j],\n",
       "       [ 0.00049062-0.01248715j,  0.        +0.j        ,\n",
       "         0.        +0.j        , -0.00049062+0.01248715j],\n",
       "       [ 0.        +0.j        , -0.00049062-0.01248715j,\n",
       "        -0.00049062+0.01248715j,  0.        +0.j        ]])"
      ]
     },
     "execution_count": 10,
     "metadata": {},
     "output_type": "execute_result"
    }
   ],
   "source": [
    "parameterized_system.get_propagator_derivatives(dt,halfparalist)(0)[0][0]"
   ]
  },
  {
   "cell_type": "code",
   "execution_count": 11,
   "metadata": {},
   "outputs": [
    {
     "data": {
      "text/plain": [
       "array([[ 0.        +0.j        ,  0.00049062+0.01248715j,\n",
       "         0.00049062-0.01248715j,  0.        +0.j        ],\n",
       "       [ 0.00049062+0.01248715j,  0.        +0.j        ,\n",
       "         0.        +0.j        , -0.00049062-0.01248715j],\n",
       "       [ 0.00049062-0.01248715j,  0.        +0.j        ,\n",
       "         0.        +0.j        , -0.00049062+0.01248715j],\n",
       "       [ 0.        +0.j        , -0.00049062-0.01248715j,\n",
       "        -0.00049062+0.01248715j,  0.        +0.j        ]])"
      ]
     },
     "execution_count": 11,
     "metadata": {},
     "output_type": "execute_result"
    }
   ],
   "source": [
    "parameterized_system.get_propagator_derivatives(dt,halfparalist)(1)[1][0]"
   ]
  },
  {
   "cell_type": "code",
   "execution_count": 12,
   "metadata": {},
   "outputs": [
    {
     "name": "stdout",
     "output_type": "stream",
     "text": [
      "21\n"
     ]
    }
   ],
   "source": [
    "bpl=oqupy.compute_gradient_and_dynamics(system=parameterized_system,\n",
    "                                    parameters=halfparalist,\n",
    "                                    initial_state=initial_state,\n",
    "                                    target_state=target_state.T,\n",
    "                                    process_tensor=process_tensor)[0]\n",
    "props=parameterized_system.get_propagators(dt,halfparalist)\n",
    "pds=parameterized_system.get_propagator_derivatives(dt,halfparalist)\n",
    "thispara=0\n",
    "resultlist=[]\n",
    "for i in range(num_steps):\n",
    "    fhprd,shprd=pds(i)\n",
    "    fhprd=fhprd[thispara]\n",
    "    shprd=shprd[thispara]\n",
    "    fhprp,shprp=props(i)\n",
    "    fpdt=tn.Node(fhprd.T)\n",
    "    spdt=tn.Node(shprd.T)\n",
    "    fpt=tn.Node(fhprp.T)\n",
    "    spt=tn.Node(shprp.T)\n",
    "    thisadjoint1=bpl[i] \n",
    "    thisadjoint2=tn.replicate_nodes([thisadjoint1])[0]\n",
    "    thisadjoint1[0] ^ fpdt[0]\n",
    "    thisadjoint1[1] ^ fpdt[1]\n",
    "    thisadjoint1[2] ^ spt[0]\n",
    "    thisadjoint1[3] ^ spt[1]\n",
    "    result1=thisadjoint1 @ fpdt @ spt\n",
    "    thisadjoint2[0] ^ fpt[0]\n",
    "    thisadjoint2[1] ^ fpt[1]\n",
    "    thisadjoint2[2] ^ spdt[0]\n",
    "    thisadjoint2[3] ^ spdt[1]\n",
    "    result2=thisadjoint2 @ spdt @ fpt\n",
    "    resultlist.append((result1.tensor,result2.tensor))\n",
    "\n"
   ]
  },
  {
   "cell_type": "code",
   "execution_count": 17,
   "metadata": {},
   "outputs": [],
   "source": [
    "eoinscode=oqupy.state_gradient(system=parameterized_system,\n",
    "        initial_state=initial_state,\n",
    "        target_state=target_state,\n",
    "        process_tensor=process_tensor,\n",
    "        parameters=halfparalist)"
   ]
  },
  {
   "cell_type": "code",
   "execution_count": 19,
   "metadata": {},
   "outputs": [
    {
     "data": {
      "text/plain": [
       "array([[-8.85452913e-17+8.64445355e-19j, -7.93852831e-16-4.57167399e-16j],\n",
       "       [ 2.42731992e-04-1.08216929e-17j, -7.93961251e-16-4.56286484e-16j],\n",
       "       [ 2.39729661e-04-2.16501621e-17j, -7.93852831e-16-4.55419123e-16j],\n",
       "       [ 4.71082653e-04-4.28327621e-17j, -7.93961251e-16-4.55412346e-16j],\n",
       "       [ 4.59206461e-04-5.47047759e-17j, -7.93419150e-16-4.53650518e-16j],\n",
       "       [ 6.61727323e-04-6.08034131e-17j, -7.93527570e-16-4.53650518e-16j],\n",
       "       [ 6.35752669e-04-7.14048775e-17j, -7.95370714e-16-4.53691175e-16j],\n",
       "       [ 7.94521571e-04-6.24839265e-17j, -7.95262294e-16-4.52823814e-16j],\n",
       "       [ 7.50419778e-04-6.71459958e-17j, -7.95695974e-16-4.54572090e-16j],\n",
       "       [ 8.54840653e-04-7.51081055e-17j, -7.95587554e-16-4.53697952e-16j],\n",
       "       [ 7.90206571e-04-7.84115340e-17j, -7.93527570e-16-4.53630189e-16j],\n",
       "       [ 8.35060008e-04-8.40256684e-17j, -7.93419150e-16-4.53623413e-16j],\n",
       "       [ 7.49376543e-04-8.86470801e-17j, -7.95370714e-16-4.51922571e-16j],\n",
       "       [ 7.35293894e-04-1.03134732e-17j, -7.95479134e-16-4.51041656e-16j],\n",
       "       [ 6.30013439e-04-9.26654044e-18j, -7.95370714e-16-4.53833477e-16j],\n",
       "       [ 5.63356973e-04+1.53726316e-16j, -7.95370714e-16-4.53826701e-16j],\n",
       "       [ 4.41809691e-04+1.59853752e-16j, -7.95479134e-16-4.54673734e-16j],\n",
       "       [ 3.34259612e-04+1.40946282e-18j, -7.95370714e-16-4.54673734e-16j],\n",
       "       [ 2.01383669e-04+3.01543729e-19j, -7.94720192e-16-4.51976781e-16j],\n",
       "       [ 6.90425346e-05-6.03494034e-17j, -7.94720192e-16-4.51976781e-16j],\n",
       "       [-6.90425346e-05-5.89331643e-17j, -7.94503352e-16-4.52884800e-16j],\n",
       "       [-2.06944223e-04+2.84874121e-17j, -7.94611772e-16-4.52878024e-16j],\n",
       "       [-3.43489102e-04+2.80334024e-17j, -7.95045453e-16-4.52925458e-16j],\n",
       "       [-4.66233234e-04+1.90778925e-16j, -7.95153873e-16-4.52918681e-16j],\n",
       "       [-5.94499733e-04+1.84375356e-16j, -7.94178091e-16-4.52878024e-16j],\n",
       "       [-6.81798996e-04+1.15630162e-16j, -7.94069671e-16-4.52864471e-16j],\n",
       "       [-7.95733246e-04+1.10392110e-16j, -7.94503352e-16-4.53806372e-16j],\n",
       "       [-8.29985822e-04-2.29932176e-16j, -7.94503352e-16-4.53792819e-16j],\n",
       "       [-9.24886126e-04-2.18676802e-16j, -7.95045453e-16-4.52898353e-16j],\n",
       "       [-8.93504732e-04-1.20996962e-16j, -7.95153873e-16-4.52024214e-16j],\n",
       "       [-9.66587973e-04-1.11794797e-16j, -7.94611772e-16-4.52878024e-16j],\n",
       "       [-8.63720200e-04+9.44611143e-17j, -7.94503352e-16-4.51997109e-16j],\n",
       "       [-9.14480602e-04+8.44457967e-17j, -7.94720192e-16-4.49320485e-16j],\n",
       "       [-7.42251142e-04+6.48352899e-17j, -7.94611772e-16-4.48439571e-16j],\n",
       "       [-7.72576954e-04+5.75033727e-17j, -7.92985469e-16-4.48453124e-16j],\n",
       "       [-5.41881392e-04+2.55532900e-17j, -7.92985469e-16-4.48446347e-16j],\n",
       "       [-5.55895757e-04+2.04405991e-17j, -7.93635990e-16-4.48595425e-16j],\n",
       "       [-2.84751923e-04+3.04931861e-19j, -7.93744410e-16-4.47714511e-16j],\n",
       "       [-2.88318104e-04+1.03846239e-18j, -7.94720192e-16-4.50316596e-16j],\n",
       "       [ 8.87961579e-17-4.99749439e-19j, -7.94720192e-16-4.49442458e-16j]])"
      ]
     },
     "execution_count": 19,
     "metadata": {},
     "output_type": "execute_result"
    }
   ],
   "source": [
    "eoinscode['gradient']"
   ]
  },
  {
   "cell_type": "code",
   "execution_count": 15,
   "metadata": {},
   "outputs": [
    {
     "ename": "AttributeError",
     "evalue": "module 'oqupy' has no attribute 'forward_backward_propagation'",
     "output_type": "error",
     "traceback": [
      "\u001b[0;31m---------------------------------------------------------------------------\u001b[0m",
      "\u001b[0;31mAttributeError\u001b[0m                            Traceback (most recent call last)",
      "Cell \u001b[0;32mIn[15], line 1\u001b[0m\n\u001b[0;32m----> 1\u001b[0m \u001b[43moqupy\u001b[49m\u001b[38;5;241;43m.\u001b[39;49m\u001b[43mforward_backward_propagation\u001b[49m(\n\u001b[1;32m      2\u001b[0m         parametrized_system,\n\u001b[1;32m      3\u001b[0m         initial_state,\n\u001b[1;32m      4\u001b[0m         target_state,\n\u001b[1;32m      5\u001b[0m         process_tensor,\n\u001b[1;32m      6\u001b[0m         parameters\u001b[38;5;241m=\u001b[39mhalfparalist,\n\u001b[1;32m      7\u001b[0m         dynamics_only\u001b[38;5;241m=\u001b[39m\u001b[38;5;28;01mTrue\u001b[39;00m)\n",
      "\u001b[0;31mAttributeError\u001b[0m: module 'oqupy' has no attribute 'forward_backward_propagation'"
     ]
    }
   ],
   "source": [
    "oqupy.forward_backward_propagation(\n",
    "        parametrized_system,\n",
    "        initial_state,\n",
    "        target_state,\n",
    "        process_tensor,\n",
    "        parameters=halfparalist,\n",
    "        dynamics_only=True)"
   ]
  },
  {
   "cell_type": "code",
   "execution_count": null,
   "metadata": {},
   "outputs": [
    {
     "data": {
      "text/plain": [
       "[<matplotlib.lines.Line2D at 0x1486a1220>]"
      ]
     },
     "execution_count": 37,
     "metadata": {},
     "output_type": "execute_result"
    },
    {
     "data": {
      "image/png": "[encoded data removed]",
      "text/plain": [
       "<Figure size 640x480 with 1 Axes>"
      ]
     },
     "metadata": {},
     "output_type": "display_data"
    }
   ],
   "source": [
    "plt.plot(eoinscode['gradient'][:,0])"
   ]
  },
  {
   "cell_type": "code",
   "execution_count": null,
   "metadata": {},
   "outputs": [],
   "source": []
  }
 ],
 "metadata": {
  "kernelspec": {
   "display_name": ".venv",
   "language": "python",
   "name": "python3"
  },
  "language_info": {
   "codemirror_mode": {
    "name": "ipython",
    "version": 3
   },
   "file_extension": ".py",
   "mimetype": "text/x-python",
   "name": "python",
   "nbconvert_exporter": "python",
   "pygments_lexer": "ipython3",
   "version": "3.9.6"
  }
 },
 "nbformat": 4,
 "nbformat_minor": 2
}
