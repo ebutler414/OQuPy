{
 "cells": [
  {
   "cell_type": "code",
   "execution_count": 2,
   "id": "8a85fd69",
   "metadata": {},
   "outputs": [],
   "source": [
    "# Demonstration of iTEBD within OQuPy\n",
    "# Uses the original iTEBD code by Valentin Link from https://github.com/val-link/iTEBD-TEMPO.git.\n",
    "# Minimally modified by Paul Eastham to take a bath correlation object from OQuPy.\n",
    "# The resulting object can turned into a new proces tensor subclass, TTInvariantProcessTensor, which should function as all other PTs in OQuPy\n",
    "# Todo: fully integrate the creation of iTEBD process tensors so we can skip calls to iTEBD_TEMPO_oqupy class."
   ]
  },
  {
   "cell_type": "code",
   "execution_count": 1,
   "id": "f906bed1",
   "metadata": {},
   "outputs": [],
   "source": [
    "import oqupy as oqupy\n",
    "from oqupy.iTEBD_TEMPO_useoqupybath import iTEBD_TEMPO_oqupy\n",
    "from oqupy.process_tensor import TTInvariantProcessTensor\n",
    "from oqupy.tti_tempo import TTITempo\n",
    "import numpy as np\n",
    "import matplotlib.pyplot as plt"
   ]
  },
  {
   "cell_type": "code",
   "execution_count": 2,
   "id": "f314d374",
   "metadata": {},
   "outputs": [
    {
     "name": "stderr",
     "output_type": "stream",
     "text": [
      "building influence functional: 100%|██████████| 100/100 [00:00<00:00, 358.47it/s]"
     ]
    },
    {
     "name": "stdout",
     "output_type": "stream",
     "text": [
      "rank  83\n"
     ]
    },
    {
     "name": "stderr",
     "output_type": "stream",
     "text": [
      "\n"
     ]
    }
   ],
   "source": [
    "sigma_z = oqupy.operators.sigma(\"z\")\n",
    "sigma_x = oqupy.operators.sigma(\"x\")\n",
    "sigma_y = oqupy.operators.sigma(\"y\")\n",
    "omega_cutoff = 3.04 \n",
    "alpha = 0.126\n",
    "temperature = 0.1309\n",
    "correlations = oqupy.PowerLawSD(alpha=alpha,\n",
    "                                zeta=3,\n",
    "                                cutoff=omega_cutoff,\n",
    "                                cutoff_type='gaussian',\n",
    "                                temperature=temperature)\n",
    "bath = oqupy.Bath(sigma_z/2.0, correlations)\n",
    "parameters=oqupy.TempoParameters(dt=0.1,epsrel=1e-7,dkmax=100)\n",
    "pt=TTITempo(bath,start_time=0.0,parameters=parameters)\n"
   ]
  },
  {
   "cell_type": "code",
   "execution_count": 3,
   "id": "6dc20eab",
   "metadata": {},
   "outputs": [
    {
     "name": "stdout",
     "output_type": "stream",
     "text": [
      "--> Compute dynamics:\n",
      "100.0%  200 of  200 [########################################] 00:00:02\n",
      "Elapsed time: 2.5s\n"
     ]
    },
    {
     "data": {
      "text/plain": [
       "<matplotlib.legend.Legend at 0x2951c40c3e0>"
      ]
     },
     "execution_count": 3,
     "metadata": {},
     "output_type": "execute_result"
    },
    {
     "data": {
      "image/png": "[encoded data removed]",
      "text/plain": [
       "<Figure size 640x480 with 1 Axes>"
      ]
     },
     "metadata": {},
     "output_type": "display_data"
    }
   ],
   "source": [
    "detuning = lambda t: 0.0 * t\n",
    "def gaussian_shape(t, area = 1.0, tau = 1.0, t_0 = 0.0):\n",
    "    return area/(tau*np.sqrt(np.pi)) * np.exp(-(t-t_0)**2/(tau**2))\n",
    "\n",
    "def hamiltonian_t(t):\n",
    "    return detuning(t)/2.0 * sigma_z \\\n",
    "           + gaussian_shape(t, area = np.pi/2.0, tau = 0.5)/2.0 * sigma_y\n",
    "\n",
    "system = oqupy.TimeDependentSystem(hamiltonian_t)\n",
    "\n",
    "Rho_0=oqupy.operators.spin_dm('x-')\n",
    "\n",
    "dynamics = oqupy.compute_dynamics(\n",
    "       process_tensor=pt._process_tensor,        \n",
    "       system=system,\n",
    "       initial_state=Rho_0,\n",
    "       start_time=-5.0,\n",
    "       num_steps=200)\n",
    "\n",
    "t, s_x = dynamics.expectations(sigma_x, real=True)\n",
    "_, s_y = dynamics.expectations(sigma_y, real=True)\n",
    "_, s_z = dynamics.expectations(sigma_z, real=True)\n",
    "\n",
    "plt.plot(t,s_x,label='sx')\n",
    "plt.plot(t,s_y,label='sy')\n",
    "plt.plot(t,s_z,label='sz')\n",
    "plt.ylim((-1.0,1.0))\n",
    "plt.legend(loc=4)"
   ]
  }
 ],
 "metadata": {
  "kernelspec": {
   "display_name": "Python 3 (ipykernel)",
   "language": "python",
   "name": "python3"
  },
  "language_info": {
   "codemirror_mode": {
    "name": "ipython",
    "version": 3
   },
   "file_extension": ".py",
   "mimetype": "text/x-python",
   "name": "python",
   "nbconvert_exporter": "python",
   "pygments_lexer": "ipython3",
   "version": "3.12.5"
  }
 },
 "nbformat": 4,
 "nbformat_minor": 5
}
