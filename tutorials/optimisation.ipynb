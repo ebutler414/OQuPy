{
 "cells": [
  {
   "cell_type": "code",
   "execution_count": 68,
   "metadata": {},
   "outputs": [],
   "source": [
    "import numpy as np\n",
    "import matplotlib.pyplot as plt\n",
    "\n",
    "import oqupy\n",
    "import oqupy.operators as op\n",
    "\n",
    "from scipy.optimize import minimize, Bounds\n",
    "from typing import List,Tuple\n",
    "\n",
    "# --- Parameters --------------------------------------------------------------\n",
    "\n",
    "# -- time steps --\n",
    "dt = 0.05 # 0.2\n",
    "num_steps = 20 # 20\n",
    "\n",
    "# -- bath --\n",
    "alpha =  0.126 #0.08\n",
    "omega_cutoff = 3.04 #4\n",
    "temperature =  5 * 0.1309 #1.6\n",
    "pt_dkmax =60 # 40\n",
    "pt_epsrel = 10**(-7) #1.0e-5\n",
    "\n",
    "# -- initial and target state --\n",
    "initial_state = op.spin_dm('x-')\n",
    "target_state = op.spin_dm('x+')\n",
    "\n",
    "# -- initial parameter guess --\n",
    "x0= np.zeros(2*num_steps)\n",
    "z0 = np.ones(2*num_steps) * (np.pi) / (dt*num_steps)\n",
    "\n",
    "parameter_list = list(zip(x0,z0))\n",
    "num_params = len(parameter_list[0])"
   ]
  },
  {
   "cell_type": "code",
   "execution_count": 69,
   "metadata": {},
   "outputs": [
    {
     "name": "stdout",
     "output_type": "stream",
     "text": [
      "--> PT-TEMPO computation:\n",
      "100.0%   20 of   20 [########################################] 00:00:00\n",
      "Elapsed time: 0.2s\n"
     ]
    }
   ],
   "source": [
    "# --- Compute process tensors -------------------------------------------------\n",
    "correlations = oqupy.PowerLawSD(alpha=alpha,\n",
    "                                zeta=3,\n",
    "                                cutoff=omega_cutoff,\n",
    "                                cutoff_type='gaussian',\n",
    "                                temperature=temperature)\n",
    "bath = oqupy.Bath(oqupy.operators.sigma(\"z\")/2, correlations)\n",
    "\n",
    "\n",
    "pt_tempo_parameters = oqupy.TempoParameters(\n",
    "    dt=dt,\n",
    "    epsrel=pt_epsrel,\n",
    "    dkmax=pt_dkmax)\n",
    "process_tensor = oqupy.pt_tempo_compute(\n",
    "    bath=bath,\n",
    "    start_time=0.0,\n",
    "    end_time=num_steps * dt,\n",
    "    parameters=pt_tempo_parameters,\n",
    "    progress_type='bar')"
   ]
  },
  {
   "cell_type": "code",
   "execution_count": 70,
   "metadata": {},
   "outputs": [
    {
     "name": "stdout",
     "output_type": "stream",
     "text": [
      "--> Compute dynamics:\n",
      "100.0%   20 of   20 [########################################] 00:00:00\n",
      "Elapsed time: 0.0s\n",
      "21\n"
     ]
    }
   ],
   "source": [
    "# --- Define parametrized system ----------------------------------------------\n",
    "\n",
    "def get_hamiltonian_discrete():\n",
    "    \"\"\"\n",
    "    Returns a callable which takes a set of parameters for a given time and returns the corresponding Hamiltonian\n",
    "\n",
    "    \"\"\"\n",
    "    def hamiltonian(hx,hz):\n",
    "\n",
    "        hx_sx = 0.5 * oqupy.operators.sigma('x') * hx\n",
    "        hz_sz = 0.5 * oqupy.operators.sigma('z') * hz\n",
    "\n",
    "        return hz_sz + hx_sx\n",
    "    \n",
    "    return hamiltonian\n",
    "\n",
    "parametrized_system = oqupy.ParameterizedSystem(get_hamiltonian_discrete())\n",
    "\n",
    "# --- Compute fidelity, dynamics, and fidelity gradient -----------------------\n",
    "\n",
    "from oqupy.gradient import state_gradient\n",
    "\n",
    "fidelity_dict = oqupy.state_gradient(\n",
    "                system=parametrized_system,\n",
    "                initial_state=initial_state,\n",
    "                target_state=target_state,\n",
    "                process_tensor=process_tensor,\n",
    "                parameters=parameter_list,\n",
    "                return_dynamics=True,\n",
    "                return_fidelity=True)\n",
    "\n",
    "\n",
    "total_derivs_x = np.array([parameter[0] for parameter in fidelity_dict['gradient']])\n",
    "total_derivs_z = np.array([parameter[1] for parameter in fidelity_dict['gradient']])"
   ]
  },
  {
   "cell_type": "code",
   "execution_count": 71,
   "metadata": {},
   "outputs": [
    {
     "name": "stdout",
     "output_type": "stream",
     "text": [
      "the fidelity is (0.9198983875526694+5.90550368830208e-16j)\n",
      "the fidelity gradient is [[ 2.42731992e-04-1.84788708e-17j -1.45174671e-16-5.36253171e-16j]\n",
      " [-8.55533871e-17-4.88609589e-19j -1.45283091e-16-5.36232842e-16j]\n",
      " [ 4.71082653e-04-5.45828031e-17j -1.45716772e-16-5.37933684e-16j]\n",
      " [ 2.39729661e-04-3.34747421e-17j -1.45716772e-16-5.37920132e-16j]\n",
      " [ 6.61727323e-04-7.37799578e-17j -1.43548368e-16-5.38821375e-16j]\n",
      " [ 4.59206461e-04-7.25263491e-17j -1.43656788e-16-5.38807822e-16j]\n",
      " [ 7.94521571e-04-7.91535349e-17j -1.41922064e-16-5.39627750e-16j]\n",
      " [ 6.35752669e-04-8.79457368e-17j -1.42030485e-16-5.40488336e-16j]\n",
      " [ 8.54840653e-04-1.06360233e-16j -1.44740990e-16-5.39573540e-16j]\n",
      " [ 7.50419778e-04-9.19911662e-17j -1.44740990e-16-5.40434125e-16j]\n",
      " [ 8.35060008e-04-1.30714124e-16j -1.48318857e-16-5.38814598e-16j]\n",
      " [ 7.90206571e-04-1.15027074e-16j -1.48318857e-16-5.38814598e-16j]\n",
      " [ 7.35293894e-04+3.56431464e-18j -1.47343075e-16-5.43266604e-16j]\n",
      " [ 7.49376543e-04-1.36423126e-16j -1.47451495e-16-5.43259827e-16j]\n",
      " [ 5.63356973e-04+2.66523999e-16j -1.45825192e-16-5.41396355e-16j]\n",
      " [ 6.30013439e-04+1.69067776e-18j -1.45825192e-16-5.41382802e-16j]\n",
      " [ 3.34259612e-04+1.68051337e-18j -1.43982049e-16-5.44920012e-16j]\n",
      " [ 4.41809691e-04+2.72031407e-16j -1.44090469e-16-5.44913236e-16j]\n",
      " [ 6.90425346e-05-1.02294475e-16j -1.44740990e-16-5.43171736e-16j]\n",
      " [ 2.01383669e-04+3.46859992e-19j -1.44740990e-16-5.44032321e-16j]\n",
      " [-2.06944223e-04+3.34205320e-17j -1.45391511e-16-5.43198841e-16j]\n",
      " [-6.90425346e-05-1.05226903e-16j -1.45283091e-16-5.44052650e-16j]\n",
      " [-4.66233234e-04+3.16871637e-16j -1.44198889e-16-5.44879354e-16j]\n",
      " [-3.43489102e-04+3.02932863e-17j -1.44307309e-16-5.44872578e-16j]\n",
      " [-6.81798996e-04+2.05198814e-16j -1.44415729e-16-5.44072979e-16j]\n",
      " [-5.94499733e-04+3.03458024e-16j -1.44307309e-16-5.44926788e-16j]\n",
      " [-8.29985822e-04-3.65769155e-16j -1.43656788e-16-5.42107863e-16j]\n",
      " [-7.95733246e-04+1.94065413e-16j -1.43656788e-16-5.42961672e-16j]\n",
      " [-8.93504732e-04-2.13316777e-16j -1.44198889e-16-5.43103973e-16j]\n",
      " [-9.24886126e-04-3.47764623e-16j -1.44198889e-16-5.43957782e-16j]\n",
      " [-8.63720200e-04+1.48630565e-16j -1.41596804e-16-5.43720613e-16j]\n",
      " [-9.66587973e-04-2.02291797e-16j -1.41705224e-16-5.44581199e-16j]\n",
      " [-7.42251142e-04+9.12965992e-17j -1.41705224e-16-5.40298600e-16j]\n",
      " [-9.14480602e-04+1.33627918e-16j -1.41705224e-16-5.41152409e-16j]\n",
      " [-5.41881392e-04+2.79588635e-17j -1.40621022e-16-5.39532882e-16j]\n",
      " [-7.72576954e-04+7.54198136e-17j -1.40729442e-16-5.40393468e-16j]\n",
      " [-2.84751923e-04+8.16539761e-19j -1.40837862e-16-5.40393468e-16j]\n",
      " [-5.55895757e-04+1.79875917e-17j -1.40729442e-16-5.41247277e-16j]\n",
      " [ 8.66277536e-17-3.00288420e-19j -1.41054703e-16-5.40352810e-16j]\n",
      " [-2.88318104e-04-4.63327022e-19j -1.41054703e-16-5.41213396e-16j]]\n"
     ]
    },
    {
     "name": "stderr",
     "output_type": "stream",
     "text": [
      "c:\\Users\\Administrator\\Desktop\\Research\\OQuPy\\.venv\\Lib\\site-packages\\matplotlib\\cbook.py:1699: ComplexWarning: Casting complex values to real discards the imaginary part\n",
      "  return math.isfinite(val)\n",
      "c:\\Users\\Administrator\\Desktop\\Research\\OQuPy\\.venv\\Lib\\site-packages\\matplotlib\\cbook.py:1345: ComplexWarning: Casting complex values to real discards the imaginary part\n",
      "  return np.asarray(x, float)\n"
     ]
    },
    {
     "data": {
      "image/png": "[encoded data removed]",
      "text/plain": [
       "<Figure size 640x480 with 1 Axes>"
      ]
     },
     "metadata": {},
     "output_type": "display_data"
    },
    {
     "data": {
      "image/png": "[encoded data removed]",
      "text/plain": [
       "<Figure size 640x480 with 1 Axes>"
      ]
     },
     "metadata": {},
     "output_type": "display_data"
    },
    {
     "name": "stderr",
     "output_type": "stream",
     "text": [
      "No artists with labels found to put in legend.  Note that artists whose label start with an underscore are ignored when legend() is called with no argument.\n"
     ]
    },
    {
     "data": {
      "image/png": "[encoded data removed]",
      "text/plain": [
       "<Figure size 640x480 with 1 Axes>"
      ]
     },
     "metadata": {},
     "output_type": "display_data"
    }
   ],
   "source": [
    "from scipy.linalg import sqrtm\n",
    "\n",
    "\n",
    "# --- Fidelity Gradient results ------\n",
    "\n",
    "print(f\"the fidelity is {fidelity_dict['fidelity']}\")\n",
    "print(f\"the fidelity gradient is {fidelity_dict['gradient']}\")\n",
    "\n",
    "# ----------- Initial Dynamics on Bloch sphere -------------\n",
    "t, s_x = fidelity_dict['dynamics'].expectations(op.sigma(\"x\"))\n",
    "t, s_y = fidelity_dict['dynamics'].expectations(op.sigma(\"y\"))\n",
    "t, s_z = fidelity_dict['dynamics'].expectations(op.sigma(\"z\"))\n",
    "\n",
    "plt.title(\"Pre-optimisation evolution of components\")\n",
    "\n",
    "plt.plot(t,s_x,label='x')\n",
    "plt.plot(t,s_y,label='y')\n",
    "plt.plot(t,s_z,label='z')\n",
    "\n",
    "plt.legend()\n",
    "plt.show()\n",
    "\n",
    "# ----- Fidelity Gradient Graph --------\n",
    "\n",
    "def sum_adjacent_elements(list:List)->List:\n",
    "\n",
    "    half_the_size = len(list) / 2\n",
    "    assert (half_the_size).is_integer(), \\\n",
    "        'if one output from both pre and post node is given, result must be even'\n",
    "    half_the_size = int(half_the_size)\n",
    "\n",
    "    summed_array = np.reshape(list,(half_the_size,2)).sum(axis=1)\n",
    "    return summed_array\n",
    "\n",
    "\n",
    "final_derivs_x = sum_adjacent_elements(total_derivs_x)\n",
    "final_derivs_z = sum_adjacent_elements(total_derivs_z)\n",
    "\n",
    "\n",
    "plt.plot(t[:-1],final_derivs_x,label='x')\n",
    "plt.plot(t[:-1],final_derivs_z,label='z')\n",
    "\n",
    "plt.legend()\n",
    "plt.ylabel(r\"$\\frac{\\partial \\mathcal{F(T)}}{\\partial h_i (t)}$\",rotation=0,fontsize=16)\n",
    "plt.xlabel(\"t\")\n",
    "plt.show()\n",
    "\n",
    "# Fidelity Graph \n",
    "dynamics = fidelity_dict['dynamics']\n",
    "fidelity=[]\n",
    "\n",
    "for state in dynamics.states:\n",
    "    sqrt_final_state = sqrtm(state)\n",
    "    intermediate_1 = sqrt_final_state @ target_state\n",
    "    inside_of_sqrt = intermediate_1 @ sqrt_final_state\n",
    "    fidelity.append((sqrtm(inside_of_sqrt).trace())**2)\n",
    "\n",
    "plt.plot(fidelity)\n",
    "plt.ylabel(r\"$\\mathcal{F} (t)$\",rotation=0,fontsize=16)\n",
    "plt.xlabel(\"t\")\n",
    "\n",
    "plt.legend()\n",
    "plt.show()\n"
   ]
  },
  {
   "cell_type": "code",
   "execution_count": 72,
   "metadata": {},
   "outputs": [],
   "source": [
    "\n",
    "# ----------- Optimisation of control parameters w.r.t. infidelity ---------------\n",
    "\n",
    "def flatten_list(parameter_list):\n",
    "    assert np.shape(parameter_list) == (2*process_tensor.__len__(),num_params)\n",
    "    parameter_list_flat = [\n",
    "    x\n",
    "    for xs in parameter_list\n",
    "    for x in xs\n",
    "    ]\n",
    "    print(np.shape(parameter_list_flat))\n",
    "    return parameter_list_flat\n",
    "\n",
    "def unflatten_list(flat_list):\n",
    "    assert np.shape(flat_list) == (2*num_params*process_tensor.__len__(),)\n",
    "    parameter_list = np.reshape(flat_list,(2*process_tensor.__len__(),num_params))\n",
    "    return parameter_list\n",
    "\n",
    "def sum_adjacent_elements(list:List)->List:\n",
    "    # maybe this goes in helpers.py or utils.py?\n",
    "    half_the_size = len(list) / 2\n",
    "    assert (half_the_size).is_integer(), \\\n",
    "        'if one output from both pre and post node is given, result must be even'\n",
    "    half_the_size = int(half_the_size)\n",
    "\n",
    "    # https://stackoverflow.com/a/29392016\n",
    "    summed_array = np.reshape(list,(half_the_size,2)).sum(axis=1)\n",
    "    return summed_array\n",
    "\n",
    "def infidelity(parameter_list_flat):\n",
    "\n",
    "    parameter_list_var = unflatten_list(parameter_list_flat)\n",
    "\n",
    "    return_dict = state_gradient(system=parametrized_system,\n",
    "        initial_state=initial_state,\n",
    "        target_state=target_state,\n",
    "        process_tensor=process_tensor,\n",
    "        parameters=parameter_list_var,\n",
    "        return_fidelity=True,\n",
    "        return_dynamics=False)\n",
    "    \n",
    "    return 1-float(return_dict['fidelity'].real)\n",
    "\n",
    "def fidelity_jacobian(parameter_list_flat):\n",
    "\n",
    "    parameter_list_var = unflatten_list(parameter_list_flat)\n",
    "\n",
    "    fidelity_dict = state_gradient(\n",
    "        system=parametrized_system,\n",
    "        initial_state=initial_state,\n",
    "        target_state=target_state,\n",
    "        process_tensor=process_tensor,\n",
    "        parameters=parameter_list_var)\n",
    "    \n",
    "    fidelity_jacobian = flatten_list(fidelity_dict['gradient'])\n",
    "\n",
    "    fidelity_jacobian = sum_adjacent_elements(fidelity_jacobian)\n",
    "\n",
    "    piecewiseconst_jacobian = [0]*num_steps*2*num_params\n",
    "\n",
    "    for i,element in enumerate(fidelity_jacobian):\n",
    "        piecewiseconst_jacobian[2*i] = fidelity_jacobian[i]\n",
    "        piecewiseconst_jacobian[2*i+1] = fidelity_jacobian[i]\n",
    "\n",
    "    fort_jac =np.asfortranarray(piecewiseconst_jacobian)\n",
    "\n",
    "    return -fort_jac"
   ]
  },
  {
   "cell_type": "code",
   "execution_count": 73,
   "metadata": {},
   "outputs": [
    {
     "name": "stdout",
     "output_type": "stream",
     "text": [
      "(80,)\n",
      "--> Compute dynamics:\n",
      "100.0%   20 of   20 [########################################] 00:00:00\n",
      "Elapsed time: 0.0s\n",
      "--> Compute dynamics:\n",
      "100.0%   20 of   20 [########################################] 00:00:00\n",
      "Elapsed time: 0.0s\n",
      "(80,)\n",
      "--> Compute dynamics:\n",
      "100.0%   20 of   20 [########################################] 00:00:00\n",
      "Elapsed time: 0.0s\n"
     ]
    },
    {
     "name": "stderr",
     "output_type": "stream",
     "text": [
      "c:\\Users\\Administrator\\Desktop\\Research\\OQuPy\\.venv\\Lib\\site-packages\\scipy\\optimize\\_lbfgsb_py.py:354: ComplexWarning: Casting complex values to real discards the imaginary part\n",
      "  g = g.astype(np.float64)\n"
     ]
    },
    {
     "name": "stdout",
     "output_type": "stream",
     "text": [
      "--> Compute dynamics:\n",
      "100.0%   20 of   20 [########################################] 00:00:00\n",
      "Elapsed time: 0.0s\n",
      "(80,)\n",
      "--> Compute dynamics:\n",
      "100.0%   20 of   20 [########################################] 00:00:00\n",
      "Elapsed time: 0.0s\n"
     ]
    },
    {
     "name": "stderr",
     "output_type": "stream",
     "text": [
      "c:\\Users\\Administrator\\Desktop\\Research\\OQuPy\\.venv\\Lib\\site-packages\\scipy\\optimize\\_lbfgsb_py.py:354: ComplexWarning: Casting complex values to real discards the imaginary part\n",
      "  g = g.astype(np.float64)\n"
     ]
    },
    {
     "name": "stdout",
     "output_type": "stream",
     "text": [
      "--> Compute dynamics:\n",
      "100.0%   20 of   20 [########################################] 00:00:00\n",
      "Elapsed time: 0.0s\n",
      "--> Compute dynamics:\n",
      "100.0%   20 of   20 [########################################] 00:00:00\n",
      "Elapsed time: 0.0s\n",
      "(80,)\n",
      "--> Compute dynamics:\n",
      "100.0%   20 of   20 [########################################] 00:00:00\n",
      "Elapsed time: 0.0s\n"
     ]
    },
    {
     "name": "stderr",
     "output_type": "stream",
     "text": [
      "c:\\Users\\Administrator\\Desktop\\Research\\OQuPy\\.venv\\Lib\\site-packages\\scipy\\optimize\\_lbfgsb_py.py:354: ComplexWarning: Casting complex values to real discards the imaginary part\n",
      "  g = g.astype(np.float64)\n"
     ]
    },
    {
     "name": "stdout",
     "output_type": "stream",
     "text": [
      "--> Compute dynamics:\n",
      "100.0%   20 of   20 [########################################] 00:00:00\n",
      "Elapsed time: 0.0s\n",
      "(80,)\n",
      "--> Compute dynamics:\n",
      "100.0%   20 of   20 [########################################] 00:00:00\n",
      "Elapsed time: 0.0s\n"
     ]
    },
    {
     "name": "stderr",
     "output_type": "stream",
     "text": [
      "c:\\Users\\Administrator\\Desktop\\Research\\OQuPy\\.venv\\Lib\\site-packages\\scipy\\optimize\\_lbfgsb_py.py:354: ComplexWarning: Casting complex values to real discards the imaginary part\n",
      "  g = g.astype(np.float64)\n"
     ]
    },
    {
     "name": "stdout",
     "output_type": "stream",
     "text": [
      "--> Compute dynamics:\n",
      "100.0%   20 of   20 [########################################] 00:00:00\n",
      "Elapsed time: 0.0s\n",
      "(80,)\n",
      "--> Compute dynamics:\n",
      "100.0%   20 of   20 [########################################] 00:00:00\n",
      "Elapsed time: 0.0s\n"
     ]
    },
    {
     "name": "stderr",
     "output_type": "stream",
     "text": [
      "c:\\Users\\Administrator\\Desktop\\Research\\OQuPy\\.venv\\Lib\\site-packages\\scipy\\optimize\\_lbfgsb_py.py:354: ComplexWarning: Casting complex values to real discards the imaginary part\n",
      "  g = g.astype(np.float64)\n"
     ]
    },
    {
     "name": "stdout",
     "output_type": "stream",
     "text": [
      "--> Compute dynamics:\n",
      "100.0%   20 of   20 [########################################] 00:00:00\n",
      "Elapsed time: 0.0s\n",
      "(80,)\n",
      "--> Compute dynamics:\n",
      "100.0%   20 of   20 [########################################] 00:00:00\n",
      "Elapsed time: 0.0s\n"
     ]
    },
    {
     "name": "stderr",
     "output_type": "stream",
     "text": [
      "c:\\Users\\Administrator\\Desktop\\Research\\OQuPy\\.venv\\Lib\\site-packages\\scipy\\optimize\\_lbfgsb_py.py:354: ComplexWarning: Casting complex values to real discards the imaginary part\n",
      "  g = g.astype(np.float64)\n"
     ]
    },
    {
     "name": "stdout",
     "output_type": "stream",
     "text": [
      "--> Compute dynamics:\n",
      "100.0%   20 of   20 [########################################] 00:00:00\n",
      "Elapsed time: 0.0s\n",
      "(80,)\n",
      "--> Compute dynamics:\n",
      "100.0%   20 of   20 [########################################] 00:00:00\n",
      "Elapsed time: 0.0s\n"
     ]
    },
    {
     "name": "stderr",
     "output_type": "stream",
     "text": [
      "c:\\Users\\Administrator\\Desktop\\Research\\OQuPy\\.venv\\Lib\\site-packages\\scipy\\optimize\\_lbfgsb_py.py:354: ComplexWarning: Casting complex values to real discards the imaginary part\n",
      "  g = g.astype(np.float64)\n"
     ]
    },
    {
     "name": "stdout",
     "output_type": "stream",
     "text": [
      "--> Compute dynamics:\n",
      "100.0%   20 of   20 [########################################] 00:00:00\n",
      "Elapsed time: 0.0s\n",
      "(80,)\n",
      "--> Compute dynamics:\n",
      "100.0%   20 of   20 [########################################] 00:00:00\n",
      "Elapsed time: 0.0s\n"
     ]
    },
    {
     "name": "stderr",
     "output_type": "stream",
     "text": [
      "c:\\Users\\Administrator\\Desktop\\Research\\OQuPy\\.venv\\Lib\\site-packages\\scipy\\optimize\\_lbfgsb_py.py:354: ComplexWarning: Casting complex values to real discards the imaginary part\n",
      "  g = g.astype(np.float64)\n"
     ]
    },
    {
     "name": "stdout",
     "output_type": "stream",
     "text": [
      "--> Compute dynamics:\n",
      "100.0%   20 of   20 [########################################] 00:00:00\n",
      "Elapsed time: 0.0s\n",
      "--> Compute dynamics:\n",
      "100.0%   20 of   20 [########################################] 00:00:00\n",
      "Elapsed time: 0.0s\n",
      "(80,)\n",
      "--> Compute dynamics:\n",
      "100.0%   20 of   20 [########################################] 00:00:00\n",
      "Elapsed time: 0.1s\n"
     ]
    },
    {
     "name": "stderr",
     "output_type": "stream",
     "text": [
      "c:\\Users\\Administrator\\Desktop\\Research\\OQuPy\\.venv\\Lib\\site-packages\\scipy\\optimize\\_lbfgsb_py.py:354: ComplexWarning: Casting complex values to real discards the imaginary part\n",
      "  g = g.astype(np.float64)\n"
     ]
    },
    {
     "name": "stdout",
     "output_type": "stream",
     "text": [
      "--> Compute dynamics:\n",
      "100.0%   20 of   20 [########################################] 00:00:00\n",
      "Elapsed time: 0.0s\n",
      "(80,)\n",
      "--> Compute dynamics:\n",
      "100.0%   20 of   20 [########################################] 00:00:00\n",
      "Elapsed time: 0.0s\n"
     ]
    },
    {
     "name": "stderr",
     "output_type": "stream",
     "text": [
      "c:\\Users\\Administrator\\Desktop\\Research\\OQuPy\\.venv\\Lib\\site-packages\\scipy\\optimize\\_lbfgsb_py.py:354: ComplexWarning: Casting complex values to real discards the imaginary part\n",
      "  g = g.astype(np.float64)\n"
     ]
    },
    {
     "name": "stdout",
     "output_type": "stream",
     "text": [
      "--> Compute dynamics:\n",
      "100.0%   20 of   20 [########################################] 00:00:00\n",
      "Elapsed time: 0.0s\n",
      "(80,)\n",
      "--> Compute dynamics:\n",
      "100.0%   20 of   20 [########################################] 00:00:00\n",
      "Elapsed time: 0.0s\n"
     ]
    },
    {
     "name": "stderr",
     "output_type": "stream",
     "text": [
      "c:\\Users\\Administrator\\Desktop\\Research\\OQuPy\\.venv\\Lib\\site-packages\\scipy\\optimize\\_lbfgsb_py.py:354: ComplexWarning: Casting complex values to real discards the imaginary part\n",
      "  g = g.astype(np.float64)\n"
     ]
    },
    {
     "name": "stdout",
     "output_type": "stream",
     "text": [
      "--> Compute dynamics:\n",
      "100.0%   20 of   20 [########################################] 00:00:00\n",
      "Elapsed time: 0.0s\n",
      "--> Compute dynamics:\n",
      "100.0%   20 of   20 [########################################] 00:00:00\n",
      "Elapsed time: 0.0s\n",
      "(80,)\n",
      "--> Compute dynamics:\n",
      "100.0%   20 of   20 [########################################] 00:00:00\n",
      "Elapsed time: 0.0s\n"
     ]
    },
    {
     "name": "stderr",
     "output_type": "stream",
     "text": [
      "c:\\Users\\Administrator\\Desktop\\Research\\OQuPy\\.venv\\Lib\\site-packages\\scipy\\optimize\\_lbfgsb_py.py:354: ComplexWarning: Casting complex values to real discards the imaginary part\n",
      "  g = g.astype(np.float64)\n"
     ]
    },
    {
     "name": "stdout",
     "output_type": "stream",
     "text": [
      "--> Compute dynamics:\n",
      "100.0%   20 of   20 [########################################] 00:00:00\n",
      "Elapsed time: 0.0s\n",
      "(80,)\n",
      "--> Compute dynamics:\n",
      "100.0%   20 of   20 [########################################] 00:00:00\n",
      "Elapsed time: 0.0s\n"
     ]
    },
    {
     "name": "stderr",
     "output_type": "stream",
     "text": [
      "c:\\Users\\Administrator\\Desktop\\Research\\OQuPy\\.venv\\Lib\\site-packages\\scipy\\optimize\\_lbfgsb_py.py:354: ComplexWarning: Casting complex values to real discards the imaginary part\n",
      "  g = g.astype(np.float64)\n"
     ]
    },
    {
     "name": "stdout",
     "output_type": "stream",
     "text": [
      "--> Compute dynamics:\n",
      "100.0%   20 of   20 [########################################] 00:00:00\n",
      "Elapsed time: 0.0s\n",
      "--> Compute dynamics:\n",
      "100.0%   20 of   20 [########################################] 00:00:00\n",
      "Elapsed time: 0.0s\n",
      "(80,)\n",
      "--> Compute dynamics:\n",
      "100.0%   20 of   20 [########################################] 00:00:00\n",
      "Elapsed time: 0.0s\n"
     ]
    },
    {
     "name": "stderr",
     "output_type": "stream",
     "text": [
      "c:\\Users\\Administrator\\Desktop\\Research\\OQuPy\\.venv\\Lib\\site-packages\\scipy\\optimize\\_lbfgsb_py.py:354: ComplexWarning: Casting complex values to real discards the imaginary part\n",
      "  g = g.astype(np.float64)\n"
     ]
    },
    {
     "name": "stdout",
     "output_type": "stream",
     "text": [
      "--> Compute dynamics:\n",
      "100.0%   20 of   20 [########################################] 00:00:00\n",
      "Elapsed time: 0.0s\n",
      "(80,)\n",
      "--> Compute dynamics:\n",
      "100.0%   20 of   20 [########################################] 00:00:00\n",
      "Elapsed time: 0.0s\n"
     ]
    },
    {
     "name": "stderr",
     "output_type": "stream",
     "text": [
      "c:\\Users\\Administrator\\Desktop\\Research\\OQuPy\\.venv\\Lib\\site-packages\\scipy\\optimize\\_lbfgsb_py.py:354: ComplexWarning: Casting complex values to real discards the imaginary part\n",
      "  g = g.astype(np.float64)\n"
     ]
    },
    {
     "name": "stdout",
     "output_type": "stream",
     "text": [
      "--> Compute dynamics:\n",
      "100.0%   20 of   20 [########################################] 00:00:00\n",
      "Elapsed time: 0.0s\n",
      "(80,)\n",
      "--> Compute dynamics:\n",
      "100.0%   20 of   20 [########################################] 00:00:00\n",
      "Elapsed time: 0.0s\n"
     ]
    },
    {
     "name": "stderr",
     "output_type": "stream",
     "text": [
      "c:\\Users\\Administrator\\Desktop\\Research\\OQuPy\\.venv\\Lib\\site-packages\\scipy\\optimize\\_lbfgsb_py.py:354: ComplexWarning: Casting complex values to real discards the imaginary part\n",
      "  g = g.astype(np.float64)\n"
     ]
    },
    {
     "name": "stdout",
     "output_type": "stream",
     "text": [
      "--> Compute dynamics:\n",
      "100.0%   20 of   20 [########################################] 00:00:00\n",
      "Elapsed time: 0.0s\n",
      "(80,)\n",
      "--> Compute dynamics:\n",
      "100.0%   20 of   20 [########################################] 00:00:00\n",
      "Elapsed time: 0.0s\n"
     ]
    },
    {
     "name": "stderr",
     "output_type": "stream",
     "text": [
      "c:\\Users\\Administrator\\Desktop\\Research\\OQuPy\\.venv\\Lib\\site-packages\\scipy\\optimize\\_lbfgsb_py.py:354: ComplexWarning: Casting complex values to real discards the imaginary part\n",
      "  g = g.astype(np.float64)\n"
     ]
    },
    {
     "name": "stdout",
     "output_type": "stream",
     "text": [
      "--> Compute dynamics:\n",
      "100.0%   20 of   20 [########################################] 00:00:00\n",
      "Elapsed time: 0.0s\n",
      "(80,)\n",
      "--> Compute dynamics:\n",
      "100.0%   20 of   20 [########################################] 00:00:00\n",
      "Elapsed time: 0.0s\n"
     ]
    },
    {
     "name": "stderr",
     "output_type": "stream",
     "text": [
      "c:\\Users\\Administrator\\Desktop\\Research\\OQuPy\\.venv\\Lib\\site-packages\\scipy\\optimize\\_lbfgsb_py.py:354: ComplexWarning: Casting complex values to real discards the imaginary part\n",
      "  g = g.astype(np.float64)\n"
     ]
    },
    {
     "name": "stdout",
     "output_type": "stream",
     "text": [
      "--> Compute dynamics:\n",
      "100.0%   20 of   20 [########################################] 00:00:00\n",
      "Elapsed time: 0.0s\n",
      "(80,)\n",
      "--> Compute dynamics:\n",
      "100.0%   20 of   20 [########################################] 00:00:00\n",
      "Elapsed time: 0.0s\n"
     ]
    },
    {
     "name": "stderr",
     "output_type": "stream",
     "text": [
      "c:\\Users\\Administrator\\Desktop\\Research\\OQuPy\\.venv\\Lib\\site-packages\\scipy\\optimize\\_lbfgsb_py.py:354: ComplexWarning: Casting complex values to real discards the imaginary part\n",
      "  g = g.astype(np.float64)\n"
     ]
    },
    {
     "name": "stdout",
     "output_type": "stream",
     "text": [
      "--> Compute dynamics:\n",
      "100.0%   20 of   20 [########################################] 00:00:00\n",
      "Elapsed time: 0.0s\n",
      "(80,)\n",
      "--> Compute dynamics:\n",
      "100.0%   20 of   20 [########################################] 00:00:00\n",
      "Elapsed time: 0.0s\n"
     ]
    },
    {
     "name": "stderr",
     "output_type": "stream",
     "text": [
      "c:\\Users\\Administrator\\Desktop\\Research\\OQuPy\\.venv\\Lib\\site-packages\\scipy\\optimize\\_lbfgsb_py.py:354: ComplexWarning: Casting complex values to real discards the imaginary part\n",
      "  g = g.astype(np.float64)\n"
     ]
    },
    {
     "name": "stdout",
     "output_type": "stream",
     "text": [
      "--> Compute dynamics:\n",
      "100.0%   20 of   20 [########################################] 00:00:00\n",
      "Elapsed time: 0.0s\n",
      "(80,)\n",
      "--> Compute dynamics:\n",
      "100.0%   20 of   20 [########################################] 00:00:00\n",
      "Elapsed time: 0.0s\n"
     ]
    },
    {
     "name": "stderr",
     "output_type": "stream",
     "text": [
      "c:\\Users\\Administrator\\Desktop\\Research\\OQuPy\\.venv\\Lib\\site-packages\\scipy\\optimize\\_lbfgsb_py.py:354: ComplexWarning: Casting complex values to real discards the imaginary part\n",
      "  g = g.astype(np.float64)\n"
     ]
    },
    {
     "name": "stdout",
     "output_type": "stream",
     "text": [
      "--> Compute dynamics:\n",
      "100.0%   20 of   20 [########################################] 00:00:00\n",
      "Elapsed time: 0.0s\n",
      "(80,)\n",
      "--> Compute dynamics:\n",
      "100.0%   20 of   20 [########################################] 00:00:00\n",
      "Elapsed time: 0.0s\n"
     ]
    },
    {
     "name": "stderr",
     "output_type": "stream",
     "text": [
      "c:\\Users\\Administrator\\Desktop\\Research\\OQuPy\\.venv\\Lib\\site-packages\\scipy\\optimize\\_lbfgsb_py.py:354: ComplexWarning: Casting complex values to real discards the imaginary part\n",
      "  g = g.astype(np.float64)\n"
     ]
    },
    {
     "name": "stdout",
     "output_type": "stream",
     "text": [
      "--> Compute dynamics:\n",
      "100.0%   20 of   20 [########################################] 00:00:00\n",
      "Elapsed time: 0.0s\n",
      "(80,)\n",
      "--> Compute dynamics:\n",
      "100.0%   20 of   20 [########################################] 00:00:00\n",
      "Elapsed time: 0.0s\n"
     ]
    },
    {
     "name": "stderr",
     "output_type": "stream",
     "text": [
      "c:\\Users\\Administrator\\Desktop\\Research\\OQuPy\\.venv\\Lib\\site-packages\\scipy\\optimize\\_lbfgsb_py.py:354: ComplexWarning: Casting complex values to real discards the imaginary part\n",
      "  g = g.astype(np.float64)\n"
     ]
    },
    {
     "name": "stdout",
     "output_type": "stream",
     "text": [
      "--> Compute dynamics:\n",
      "100.0%   20 of   20 [########################################] 00:00:00\n",
      "Elapsed time: 0.0s\n",
      "(80,)\n",
      "--> Compute dynamics:\n",
      "100.0%   20 of   20 [########################################] 00:00:00\n",
      "Elapsed time: 0.0s\n"
     ]
    },
    {
     "name": "stderr",
     "output_type": "stream",
     "text": [
      "c:\\Users\\Administrator\\Desktop\\Research\\OQuPy\\.venv\\Lib\\site-packages\\scipy\\optimize\\_lbfgsb_py.py:354: ComplexWarning: Casting complex values to real discards the imaginary part\n",
      "  g = g.astype(np.float64)\n"
     ]
    },
    {
     "name": "stdout",
     "output_type": "stream",
     "text": [
      "--> Compute dynamics:\n",
      "100.0%   20 of   20 [########################################] 00:00:00\n",
      "Elapsed time: 0.0s\n",
      "(80,)\n",
      "--> Compute dynamics:\n",
      "100.0%   20 of   20 [########################################] 00:00:00\n",
      "Elapsed time: 0.0s\n"
     ]
    },
    {
     "name": "stderr",
     "output_type": "stream",
     "text": [
      "c:\\Users\\Administrator\\Desktop\\Research\\OQuPy\\.venv\\Lib\\site-packages\\scipy\\optimize\\_lbfgsb_py.py:354: ComplexWarning: Casting complex values to real discards the imaginary part\n",
      "  g = g.astype(np.float64)\n"
     ]
    },
    {
     "name": "stdout",
     "output_type": "stream",
     "text": [
      "--> Compute dynamics:\n",
      "100.0%   20 of   20 [########################################] 00:00:00\n",
      "Elapsed time: 0.0s\n",
      "(80,)\n",
      "--> Compute dynamics:\n",
      "100.0%   20 of   20 [########################################] 00:00:00\n",
      "Elapsed time: 0.0s\n"
     ]
    },
    {
     "name": "stderr",
     "output_type": "stream",
     "text": [
      "c:\\Users\\Administrator\\Desktop\\Research\\OQuPy\\.venv\\Lib\\site-packages\\scipy\\optimize\\_lbfgsb_py.py:354: ComplexWarning: Casting complex values to real discards the imaginary part\n",
      "  g = g.astype(np.float64)\n"
     ]
    },
    {
     "name": "stdout",
     "output_type": "stream",
     "text": [
      "--> Compute dynamics:\n",
      "100.0%   20 of   20 [########################################] 00:00:00\n",
      "Elapsed time: 0.0s\n",
      "--> Compute dynamics:\n",
      "100.0%   20 of   20 [########################################] 00:00:00\n",
      "Elapsed time: 0.0s\n",
      "(80,)\n",
      "--> Compute dynamics:\n",
      "100.0%   20 of   20 [########################################] 00:00:00\n",
      "Elapsed time: 0.0s\n"
     ]
    },
    {
     "name": "stderr",
     "output_type": "stream",
     "text": [
      "c:\\Users\\Administrator\\Desktop\\Research\\OQuPy\\.venv\\Lib\\site-packages\\scipy\\optimize\\_lbfgsb_py.py:354: ComplexWarning: Casting complex values to real discards the imaginary part\n",
      "  g = g.astype(np.float64)\n"
     ]
    },
    {
     "name": "stdout",
     "output_type": "stream",
     "text": [
      "--> Compute dynamics:\n",
      "100.0%   20 of   20 [########################################] 00:00:00\n",
      "Elapsed time: 0.0s\n",
      "(80,)\n",
      "--> Compute dynamics:\n",
      "100.0%   20 of   20 [########################################] 00:00:00\n",
      "Elapsed time: 0.0s\n"
     ]
    },
    {
     "name": "stderr",
     "output_type": "stream",
     "text": [
      "c:\\Users\\Administrator\\Desktop\\Research\\OQuPy\\.venv\\Lib\\site-packages\\scipy\\optimize\\_lbfgsb_py.py:354: ComplexWarning: Casting complex values to real discards the imaginary part\n",
      "  g = g.astype(np.float64)\n"
     ]
    },
    {
     "name": "stdout",
     "output_type": "stream",
     "text": [
      "--> Compute dynamics:\n",
      "100.0%   20 of   20 [########################################] 00:00:00\n",
      "Elapsed time: 0.0s\n",
      "(80,)\n",
      "--> Compute dynamics:\n",
      "100.0%   20 of   20 [########################################] 00:00:00\n",
      "Elapsed time: 0.0s\n"
     ]
    },
    {
     "name": "stderr",
     "output_type": "stream",
     "text": [
      "c:\\Users\\Administrator\\Desktop\\Research\\OQuPy\\.venv\\Lib\\site-packages\\scipy\\optimize\\_lbfgsb_py.py:354: ComplexWarning: Casting complex values to real discards the imaginary part\n",
      "  g = g.astype(np.float64)\n"
     ]
    },
    {
     "name": "stdout",
     "output_type": "stream",
     "text": [
      "--> Compute dynamics:\n",
      "100.0%   20 of   20 [########################################] 00:00:00\n",
      "Elapsed time: 0.0s\n",
      "(80,)\n",
      "--> Compute dynamics:\n",
      "100.0%   20 of   20 [########################################] 00:00:00\n",
      "Elapsed time: 0.0s\n"
     ]
    },
    {
     "name": "stderr",
     "output_type": "stream",
     "text": [
      "c:\\Users\\Administrator\\Desktop\\Research\\OQuPy\\.venv\\Lib\\site-packages\\scipy\\optimize\\_lbfgsb_py.py:354: ComplexWarning: Casting complex values to real discards the imaginary part\n",
      "  g = g.astype(np.float64)\n"
     ]
    },
    {
     "name": "stdout",
     "output_type": "stream",
     "text": [
      "--> Compute dynamics:\n",
      "100.0%   20 of   20 [########################################] 00:00:00\n",
      "Elapsed time: 0.0s\n",
      "(80,)\n",
      "--> Compute dynamics:\n",
      "100.0%   20 of   20 [########################################] 00:00:00\n",
      "Elapsed time: 0.0s\n"
     ]
    },
    {
     "name": "stderr",
     "output_type": "stream",
     "text": [
      "c:\\Users\\Administrator\\Desktop\\Research\\OQuPy\\.venv\\Lib\\site-packages\\scipy\\optimize\\_lbfgsb_py.py:354: ComplexWarning: Casting complex values to real discards the imaginary part\n",
      "  g = g.astype(np.float64)\n"
     ]
    },
    {
     "name": "stdout",
     "output_type": "stream",
     "text": [
      "--> Compute dynamics:\n",
      "100.0%   20 of   20 [########################################] 00:00:00\n",
      "Elapsed time: 0.0s\n",
      "(80,)\n",
      "--> Compute dynamics:\n",
      "100.0%   20 of   20 [########################################] 00:00:00\n",
      "Elapsed time: 0.0s\n"
     ]
    },
    {
     "name": "stderr",
     "output_type": "stream",
     "text": [
      "c:\\Users\\Administrator\\Desktop\\Research\\OQuPy\\.venv\\Lib\\site-packages\\scipy\\optimize\\_lbfgsb_py.py:354: ComplexWarning: Casting complex values to real discards the imaginary part\n",
      "  g = g.astype(np.float64)\n"
     ]
    },
    {
     "name": "stdout",
     "output_type": "stream",
     "text": [
      "--> Compute dynamics:\n",
      "100.0%   20 of   20 [########################################] 00:00:00\n",
      "Elapsed time: 0.0s\n",
      "(80,)\n",
      "--> Compute dynamics:\n",
      "100.0%   20 of   20 [########################################] 00:00:00\n",
      "Elapsed time: 0.0s\n"
     ]
    },
    {
     "name": "stderr",
     "output_type": "stream",
     "text": [
      "c:\\Users\\Administrator\\Desktop\\Research\\OQuPy\\.venv\\Lib\\site-packages\\scipy\\optimize\\_lbfgsb_py.py:354: ComplexWarning: Casting complex values to real discards the imaginary part\n",
      "  g = g.astype(np.float64)\n"
     ]
    },
    {
     "name": "stdout",
     "output_type": "stream",
     "text": [
      "--> Compute dynamics:\n",
      "100.0%   20 of   20 [########################################] 00:00:00\n",
      "Elapsed time: 0.0s\n",
      "(80,)\n",
      "--> Compute dynamics:\n",
      "100.0%   20 of   20 [########################################] 00:00:00\n",
      "Elapsed time: 0.0s\n"
     ]
    },
    {
     "name": "stderr",
     "output_type": "stream",
     "text": [
      "c:\\Users\\Administrator\\Desktop\\Research\\OQuPy\\.venv\\Lib\\site-packages\\scipy\\optimize\\_lbfgsb_py.py:354: ComplexWarning: Casting complex values to real discards the imaginary part\n",
      "  g = g.astype(np.float64)\n"
     ]
    },
    {
     "name": "stdout",
     "output_type": "stream",
     "text": [
      "--> Compute dynamics:\n",
      "100.0%   20 of   20 [########################################] 00:00:00\n",
      "Elapsed time: 0.0s\n",
      "(80,)\n",
      "--> Compute dynamics:\n",
      "100.0%   20 of   20 [########################################] 00:00:00\n",
      "Elapsed time: 0.0s\n"
     ]
    },
    {
     "name": "stderr",
     "output_type": "stream",
     "text": [
      "c:\\Users\\Administrator\\Desktop\\Research\\OQuPy\\.venv\\Lib\\site-packages\\scipy\\optimize\\_lbfgsb_py.py:354: ComplexWarning: Casting complex values to real discards the imaginary part\n",
      "  g = g.astype(np.float64)\n"
     ]
    },
    {
     "name": "stdout",
     "output_type": "stream",
     "text": [
      "--> Compute dynamics:\n",
      "100.0%   20 of   20 [########################################] 00:00:00\n",
      "Elapsed time: 0.0s\n",
      "(80,)\n",
      "--> Compute dynamics:\n",
      "100.0%   20 of   20 [########################################] 00:00:00\n",
      "Elapsed time: 0.0s\n"
     ]
    },
    {
     "name": "stderr",
     "output_type": "stream",
     "text": [
      "c:\\Users\\Administrator\\Desktop\\Research\\OQuPy\\.venv\\Lib\\site-packages\\scipy\\optimize\\_lbfgsb_py.py:354: ComplexWarning: Casting complex values to real discards the imaginary part\n",
      "  g = g.astype(np.float64)\n"
     ]
    },
    {
     "name": "stdout",
     "output_type": "stream",
     "text": [
      "--> Compute dynamics:\n",
      "100.0%   20 of   20 [########################################] 00:00:00\n",
      "Elapsed time: 0.0s\n",
      "(80,)\n",
      "--> Compute dynamics:\n",
      "100.0%   20 of   20 [########################################] 00:00:00\n",
      "Elapsed time: 0.0s\n"
     ]
    },
    {
     "name": "stderr",
     "output_type": "stream",
     "text": [
      "c:\\Users\\Administrator\\Desktop\\Research\\OQuPy\\.venv\\Lib\\site-packages\\scipy\\optimize\\_lbfgsb_py.py:354: ComplexWarning: Casting complex values to real discards the imaginary part\n",
      "  g = g.astype(np.float64)\n"
     ]
    },
    {
     "name": "stdout",
     "output_type": "stream",
     "text": [
      "--> Compute dynamics:\n",
      "100.0%   20 of   20 [########################################] 00:00:00\n",
      "Elapsed time: 0.0s\n",
      "(80,)\n",
      "--> Compute dynamics:\n",
      "100.0%   20 of   20 [########################################] 00:00:00\n",
      "Elapsed time: 0.0s\n"
     ]
    },
    {
     "name": "stderr",
     "output_type": "stream",
     "text": [
      "c:\\Users\\Administrator\\Desktop\\Research\\OQuPy\\.venv\\Lib\\site-packages\\scipy\\optimize\\_lbfgsb_py.py:354: ComplexWarning: Casting complex values to real discards the imaginary part\n",
      "  g = g.astype(np.float64)\n"
     ]
    },
    {
     "name": "stdout",
     "output_type": "stream",
     "text": [
      "--> Compute dynamics:\n",
      "100.0%   20 of   20 [########################################] 00:00:00\n",
      "Elapsed time: 0.0s\n",
      "(80,)\n",
      "--> Compute dynamics:\n",
      "100.0%   20 of   20 [########################################] 00:00:00\n",
      "Elapsed time: 0.0s\n"
     ]
    },
    {
     "name": "stderr",
     "output_type": "stream",
     "text": [
      "c:\\Users\\Administrator\\Desktop\\Research\\OQuPy\\.venv\\Lib\\site-packages\\scipy\\optimize\\_lbfgsb_py.py:354: ComplexWarning: Casting complex values to real discards the imaginary part\n",
      "  g = g.astype(np.float64)\n"
     ]
    },
    {
     "name": "stdout",
     "output_type": "stream",
     "text": [
      "--> Compute dynamics:\n",
      "100.0%   20 of   20 [########################################] 00:00:00\n",
      "Elapsed time: 0.0s\n",
      "(80,)\n",
      "--> Compute dynamics:\n",
      "100.0%   20 of   20 [########################################] 00:00:00\n",
      "Elapsed time: 0.0s\n"
     ]
    },
    {
     "name": "stderr",
     "output_type": "stream",
     "text": [
      "c:\\Users\\Administrator\\Desktop\\Research\\OQuPy\\.venv\\Lib\\site-packages\\scipy\\optimize\\_lbfgsb_py.py:354: ComplexWarning: Casting complex values to real discards the imaginary part\n",
      "  g = g.astype(np.float64)\n"
     ]
    },
    {
     "name": "stdout",
     "output_type": "stream",
     "text": [
      "--> Compute dynamics:\n",
      "100.0%   20 of   20 [########################################] 00:00:00\n",
      "Elapsed time: 0.0s\n",
      "(80,)\n",
      "--> Compute dynamics:\n",
      "100.0%   20 of   20 [########################################] 00:00:00\n",
      "Elapsed time: 0.0s\n"
     ]
    },
    {
     "name": "stderr",
     "output_type": "stream",
     "text": [
      "c:\\Users\\Administrator\\Desktop\\Research\\OQuPy\\.venv\\Lib\\site-packages\\scipy\\optimize\\_lbfgsb_py.py:354: ComplexWarning: Casting complex values to real discards the imaginary part\n",
      "  g = g.astype(np.float64)\n"
     ]
    },
    {
     "name": "stdout",
     "output_type": "stream",
     "text": [
      "--> Compute dynamics:\n",
      "100.0%   20 of   20 [########################################] 00:00:00\n",
      "Elapsed time: 0.0s\n",
      "(80,)\n",
      "--> Compute dynamics:\n",
      "100.0%   20 of   20 [########################################] 00:00:00\n",
      "Elapsed time: 0.0s\n"
     ]
    },
    {
     "name": "stderr",
     "output_type": "stream",
     "text": [
      "c:\\Users\\Administrator\\Desktop\\Research\\OQuPy\\.venv\\Lib\\site-packages\\scipy\\optimize\\_lbfgsb_py.py:354: ComplexWarning: Casting complex values to real discards the imaginary part\n",
      "  g = g.astype(np.float64)\n"
     ]
    },
    {
     "name": "stdout",
     "output_type": "stream",
     "text": [
      "--> Compute dynamics:\n",
      "100.0%   20 of   20 [########################################] 00:00:00\n",
      "Elapsed time: 0.0s\n",
      "(80,)\n",
      "--> Compute dynamics:\n",
      "100.0%   20 of   20 [########################################] 00:00:00\n",
      "Elapsed time: 0.0s\n"
     ]
    },
    {
     "name": "stderr",
     "output_type": "stream",
     "text": [
      "c:\\Users\\Administrator\\Desktop\\Research\\OQuPy\\.venv\\Lib\\site-packages\\scipy\\optimize\\_lbfgsb_py.py:354: ComplexWarning: Casting complex values to real discards the imaginary part\n",
      "  g = g.astype(np.float64)\n"
     ]
    },
    {
     "name": "stdout",
     "output_type": "stream",
     "text": [
      "--> Compute dynamics:\n",
      "100.0%   20 of   20 [########################################] 00:00:00\n",
      "Elapsed time: 0.0s\n",
      "(80,)\n",
      "--> Compute dynamics:\n",
      "100.0%   20 of   20 [########################################] 00:00:00\n",
      "Elapsed time: 0.0s\n"
     ]
    },
    {
     "name": "stderr",
     "output_type": "stream",
     "text": [
      "c:\\Users\\Administrator\\Desktop\\Research\\OQuPy\\.venv\\Lib\\site-packages\\scipy\\optimize\\_lbfgsb_py.py:354: ComplexWarning: Casting complex values to real discards the imaginary part\n",
      "  g = g.astype(np.float64)\n"
     ]
    },
    {
     "name": "stdout",
     "output_type": "stream",
     "text": [
      "--> Compute dynamics:\n",
      "100.0%   20 of   20 [########################################] 00:00:00\n",
      "Elapsed time: 0.0s\n",
      "(80,)\n",
      "--> Compute dynamics:\n",
      "100.0%   20 of   20 [########################################] 00:00:00\n",
      "Elapsed time: 0.0s\n"
     ]
    },
    {
     "name": "stderr",
     "output_type": "stream",
     "text": [
      "c:\\Users\\Administrator\\Desktop\\Research\\OQuPy\\.venv\\Lib\\site-packages\\scipy\\optimize\\_lbfgsb_py.py:354: ComplexWarning: Casting complex values to real discards the imaginary part\n",
      "  g = g.astype(np.float64)\n"
     ]
    },
    {
     "name": "stdout",
     "output_type": "stream",
     "text": [
      "--> Compute dynamics:\n",
      "100.0%   20 of   20 [########################################] 00:00:00\n",
      "Elapsed time: 0.0s\n",
      "(80,)\n",
      "--> Compute dynamics:\n",
      "100.0%   20 of   20 [########################################] 00:00:00\n",
      "Elapsed time: 0.0s\n"
     ]
    },
    {
     "name": "stderr",
     "output_type": "stream",
     "text": [
      "c:\\Users\\Administrator\\Desktop\\Research\\OQuPy\\.venv\\Lib\\site-packages\\scipy\\optimize\\_lbfgsb_py.py:354: ComplexWarning: Casting complex values to real discards the imaginary part\n",
      "  g = g.astype(np.float64)\n"
     ]
    },
    {
     "name": "stdout",
     "output_type": "stream",
     "text": [
      "--> Compute dynamics:\n",
      "100.0%   20 of   20 [########################################] 00:00:00\n",
      "Elapsed time: 0.0s\n",
      "--> Compute dynamics:\n",
      "100.0%   20 of   20 [########################################] 00:00:00\n",
      "Elapsed time: 0.0s\n",
      "(80,)\n",
      "--> Compute dynamics:\n",
      "100.0%   20 of   20 [########################################] 00:00:00\n",
      "Elapsed time: 0.0s\n"
     ]
    },
    {
     "name": "stderr",
     "output_type": "stream",
     "text": [
      "c:\\Users\\Administrator\\Desktop\\Research\\OQuPy\\.venv\\Lib\\site-packages\\scipy\\optimize\\_lbfgsb_py.py:354: ComplexWarning: Casting complex values to real discards the imaginary part\n",
      "  g = g.astype(np.float64)\n"
     ]
    },
    {
     "name": "stdout",
     "output_type": "stream",
     "text": [
      "--> Compute dynamics:\n",
      "100.0%   20 of   20 [########################################] 00:00:00\n",
      "Elapsed time: 0.0s\n",
      "--> Compute dynamics:\n",
      "100.0%   20 of   20 [########################################] 00:00:00\n",
      "Elapsed time: 0.0s\n",
      "(80,)\n",
      "--> Compute dynamics:\n",
      "100.0%   20 of   20 [########################################] 00:00:00\n",
      "Elapsed time: 0.0s\n"
     ]
    },
    {
     "name": "stderr",
     "output_type": "stream",
     "text": [
      "c:\\Users\\Administrator\\Desktop\\Research\\OQuPy\\.venv\\Lib\\site-packages\\scipy\\optimize\\_lbfgsb_py.py:354: ComplexWarning: Casting complex values to real discards the imaginary part\n",
      "  g = g.astype(np.float64)\n"
     ]
    },
    {
     "name": "stdout",
     "output_type": "stream",
     "text": [
      "--> Compute dynamics:\n",
      "100.0%   20 of   20 [########################################] 00:00:00\n",
      "Elapsed time: 0.0s\n",
      "--> Compute dynamics:\n",
      "100.0%   20 of   20 [########################################] 00:00:00\n",
      "Elapsed time: 0.0s\n",
      "(80,)\n",
      "--> Compute dynamics:\n",
      "100.0%   20 of   20 [########################################] 00:00:00\n",
      "Elapsed time: 0.0s\n"
     ]
    },
    {
     "name": "stderr",
     "output_type": "stream",
     "text": [
      "c:\\Users\\Administrator\\Desktop\\Research\\OQuPy\\.venv\\Lib\\site-packages\\scipy\\optimize\\_lbfgsb_py.py:354: ComplexWarning: Casting complex values to real discards the imaginary part\n",
      "  g = g.astype(np.float64)\n"
     ]
    },
    {
     "name": "stdout",
     "output_type": "stream",
     "text": [
      "--> Compute dynamics:\n",
      "100.0%   20 of   20 [########################################] 00:00:00\n",
      "Elapsed time: 0.0s\n",
      "--> Compute dynamics:\n",
      "100.0%   20 of   20 [########################################] 00:00:00\n",
      "Elapsed time: 0.0s\n",
      "(80,)\n",
      "--> Compute dynamics:\n",
      "100.0%   20 of   20 [########################################] 00:00:00\n",
      "Elapsed time: 0.0s\n"
     ]
    },
    {
     "name": "stderr",
     "output_type": "stream",
     "text": [
      "c:\\Users\\Administrator\\Desktop\\Research\\OQuPy\\.venv\\Lib\\site-packages\\scipy\\optimize\\_lbfgsb_py.py:354: ComplexWarning: Casting complex values to real discards the imaginary part\n",
      "  g = g.astype(np.float64)\n"
     ]
    },
    {
     "name": "stdout",
     "output_type": "stream",
     "text": [
      "--> Compute dynamics:\n",
      "100.0%   20 of   20 [########################################] 00:00:00\n",
      "Elapsed time: 0.0s\n",
      "(80,)\n",
      "--> Compute dynamics:\n",
      "100.0%   20 of   20 [########################################] 00:00:00\n",
      "Elapsed time: 0.0s\n"
     ]
    },
    {
     "name": "stderr",
     "output_type": "stream",
     "text": [
      "c:\\Users\\Administrator\\Desktop\\Research\\OQuPy\\.venv\\Lib\\site-packages\\scipy\\optimize\\_lbfgsb_py.py:354: ComplexWarning: Casting complex values to real discards the imaginary part\n",
      "  g = g.astype(np.float64)\n"
     ]
    },
    {
     "name": "stdout",
     "output_type": "stream",
     "text": [
      "--> Compute dynamics:\n",
      "100.0%   20 of   20 [########################################] 00:00:00\n",
      "Elapsed time: 0.0s\n",
      "(80,)\n",
      "--> Compute dynamics:\n",
      "100.0%   20 of   20 [########################################] 00:00:00\n",
      "Elapsed time: 0.0s\n"
     ]
    },
    {
     "name": "stderr",
     "output_type": "stream",
     "text": [
      "c:\\Users\\Administrator\\Desktop\\Research\\OQuPy\\.venv\\Lib\\site-packages\\scipy\\optimize\\_lbfgsb_py.py:354: ComplexWarning: Casting complex values to real discards the imaginary part\n",
      "  g = g.astype(np.float64)\n"
     ]
    },
    {
     "name": "stdout",
     "output_type": "stream",
     "text": [
      "--> Compute dynamics:\n",
      "100.0%   20 of   20 [########################################] 00:00:00\n",
      "Elapsed time: 0.0s\n",
      "(80,)\n",
      "--> Compute dynamics:\n",
      "100.0%   20 of   20 [########################################] 00:00:00\n",
      "Elapsed time: 0.0s\n"
     ]
    },
    {
     "name": "stderr",
     "output_type": "stream",
     "text": [
      "c:\\Users\\Administrator\\Desktop\\Research\\OQuPy\\.venv\\Lib\\site-packages\\scipy\\optimize\\_lbfgsb_py.py:354: ComplexWarning: Casting complex values to real discards the imaginary part\n",
      "  g = g.astype(np.float64)\n"
     ]
    },
    {
     "name": "stdout",
     "output_type": "stream",
     "text": [
      "--> Compute dynamics:\n",
      "100.0%   20 of   20 [########################################] 00:00:00\n",
      "Elapsed time: 0.0s\n",
      "(80,)\n",
      "--> Compute dynamics:\n",
      "100.0%   20 of   20 [########################################] 00:00:00\n",
      "Elapsed time: 0.0s\n"
     ]
    },
    {
     "name": "stderr",
     "output_type": "stream",
     "text": [
      "c:\\Users\\Administrator\\Desktop\\Research\\OQuPy\\.venv\\Lib\\site-packages\\scipy\\optimize\\_lbfgsb_py.py:354: ComplexWarning: Casting complex values to real discards the imaginary part\n",
      "  g = g.astype(np.float64)\n"
     ]
    },
    {
     "name": "stdout",
     "output_type": "stream",
     "text": [
      "--> Compute dynamics:\n",
      "100.0%   20 of   20 [########################################] 00:00:00\n",
      "Elapsed time: 0.0s\n",
      "(80,)\n",
      "--> Compute dynamics:\n",
      "100.0%   20 of   20 [########################################] 00:00:00\n",
      "Elapsed time: 0.0s\n"
     ]
    },
    {
     "name": "stderr",
     "output_type": "stream",
     "text": [
      "c:\\Users\\Administrator\\Desktop\\Research\\OQuPy\\.venv\\Lib\\site-packages\\scipy\\optimize\\_lbfgsb_py.py:354: ComplexWarning: Casting complex values to real discards the imaginary part\n",
      "  g = g.astype(np.float64)\n"
     ]
    },
    {
     "name": "stdout",
     "output_type": "stream",
     "text": [
      "--> Compute dynamics:\n",
      "100.0%   20 of   20 [########################################] 00:00:00\n",
      "Elapsed time: 0.0s\n",
      "(80,)\n",
      "--> Compute dynamics:\n",
      "100.0%   20 of   20 [########################################] 00:00:00\n",
      "Elapsed time: 0.0s\n"
     ]
    },
    {
     "name": "stderr",
     "output_type": "stream",
     "text": [
      "c:\\Users\\Administrator\\Desktop\\Research\\OQuPy\\.venv\\Lib\\site-packages\\scipy\\optimize\\_lbfgsb_py.py:354: ComplexWarning: Casting complex values to real discards the imaginary part\n",
      "  g = g.astype(np.float64)\n"
     ]
    },
    {
     "name": "stdout",
     "output_type": "stream",
     "text": [
      "--> Compute dynamics:\n",
      "100.0%   20 of   20 [########################################] 00:00:00\n",
      "Elapsed time: 0.0s\n",
      "(80,)\n",
      "--> Compute dynamics:\n",
      "100.0%   20 of   20 [########################################] 00:00:00\n",
      "Elapsed time: 0.0s\n"
     ]
    },
    {
     "name": "stderr",
     "output_type": "stream",
     "text": [
      "c:\\Users\\Administrator\\Desktop\\Research\\OQuPy\\.venv\\Lib\\site-packages\\scipy\\optimize\\_lbfgsb_py.py:354: ComplexWarning: Casting complex values to real discards the imaginary part\n",
      "  g = g.astype(np.float64)\n"
     ]
    },
    {
     "name": "stdout",
     "output_type": "stream",
     "text": [
      "--> Compute dynamics:\n",
      "100.0%   20 of   20 [########################################] 00:00:00\n",
      "Elapsed time: 0.0s\n",
      "(80,)\n",
      "--> Compute dynamics:\n",
      "100.0%   20 of   20 [########################################] 00:00:00\n",
      "Elapsed time: 0.0s\n"
     ]
    },
    {
     "name": "stderr",
     "output_type": "stream",
     "text": [
      "c:\\Users\\Administrator\\Desktop\\Research\\OQuPy\\.venv\\Lib\\site-packages\\scipy\\optimize\\_lbfgsb_py.py:354: ComplexWarning: Casting complex values to real discards the imaginary part\n",
      "  g = g.astype(np.float64)\n"
     ]
    },
    {
     "name": "stdout",
     "output_type": "stream",
     "text": [
      "--> Compute dynamics:\n",
      "100.0%   20 of   20 [########################################] 00:00:00\n",
      "Elapsed time: 0.0s\n",
      "(80,)\n",
      "--> Compute dynamics:\n",
      "100.0%   20 of   20 [########################################] 00:00:00\n",
      "Elapsed time: 0.0s\n"
     ]
    },
    {
     "name": "stderr",
     "output_type": "stream",
     "text": [
      "c:\\Users\\Administrator\\Desktop\\Research\\OQuPy\\.venv\\Lib\\site-packages\\scipy\\optimize\\_lbfgsb_py.py:354: ComplexWarning: Casting complex values to real discards the imaginary part\n",
      "  g = g.astype(np.float64)\n"
     ]
    },
    {
     "name": "stdout",
     "output_type": "stream",
     "text": [
      "--> Compute dynamics:\n",
      "100.0%   20 of   20 [########################################] 00:00:00\n",
      "Elapsed time: 0.0s\n",
      "(80,)\n",
      "--> Compute dynamics:\n",
      "100.0%   20 of   20 [########################################] 00:00:00\n",
      "Elapsed time: 0.0s\n"
     ]
    },
    {
     "name": "stderr",
     "output_type": "stream",
     "text": [
      "c:\\Users\\Administrator\\Desktop\\Research\\OQuPy\\.venv\\Lib\\site-packages\\scipy\\optimize\\_lbfgsb_py.py:354: ComplexWarning: Casting complex values to real discards the imaginary part\n",
      "  g = g.astype(np.float64)\n"
     ]
    },
    {
     "name": "stdout",
     "output_type": "stream",
     "text": [
      "--> Compute dynamics:\n",
      "100.0%   20 of   20 [########################################] 00:00:00\n",
      "Elapsed time: 0.0s\n",
      "(80,)\n",
      "--> Compute dynamics:\n",
      "100.0%   20 of   20 [########################################] 00:00:00\n",
      "Elapsed time: 0.0s\n"
     ]
    },
    {
     "name": "stderr",
     "output_type": "stream",
     "text": [
      "c:\\Users\\Administrator\\Desktop\\Research\\OQuPy\\.venv\\Lib\\site-packages\\scipy\\optimize\\_lbfgsb_py.py:354: ComplexWarning: Casting complex values to real discards the imaginary part\n",
      "  g = g.astype(np.float64)\n"
     ]
    },
    {
     "name": "stdout",
     "output_type": "stream",
     "text": [
      "--> Compute dynamics:\n",
      "100.0%   20 of   20 [########################################] 00:00:00\n",
      "Elapsed time: 0.0s\n",
      "--> Compute dynamics:\n",
      "100.0%   20 of   20 [########################################] 00:00:00\n",
      "Elapsed time: 0.0s\n",
      "(80,)\n",
      "--> Compute dynamics:\n",
      "100.0%   20 of   20 [########################################] 00:00:00\n",
      "Elapsed time: 0.0s\n"
     ]
    },
    {
     "name": "stderr",
     "output_type": "stream",
     "text": [
      "c:\\Users\\Administrator\\Desktop\\Research\\OQuPy\\.venv\\Lib\\site-packages\\scipy\\optimize\\_lbfgsb_py.py:354: ComplexWarning: Casting complex values to real discards the imaginary part\n",
      "  g = g.astype(np.float64)\n"
     ]
    },
    {
     "name": "stdout",
     "output_type": "stream",
     "text": [
      "--> Compute dynamics:\n",
      "100.0%   20 of   20 [########################################] 00:00:00\n",
      "Elapsed time: 0.0s\n",
      "(80,)\n",
      "--> Compute dynamics:\n",
      "100.0%   20 of   20 [########################################] 00:00:00\n",
      "Elapsed time: 0.0s\n"
     ]
    },
    {
     "name": "stderr",
     "output_type": "stream",
     "text": [
      "c:\\Users\\Administrator\\Desktop\\Research\\OQuPy\\.venv\\Lib\\site-packages\\scipy\\optimize\\_lbfgsb_py.py:354: ComplexWarning: Casting complex values to real discards the imaginary part\n",
      "  g = g.astype(np.float64)\n"
     ]
    },
    {
     "name": "stdout",
     "output_type": "stream",
     "text": [
      "--> Compute dynamics:\n",
      "100.0%   20 of   20 [########################################] 00:00:00\n",
      "Elapsed time: 0.0s\n",
      "(80,)\n",
      "--> Compute dynamics:\n",
      "100.0%   20 of   20 [########################################] 00:00:00\n",
      "Elapsed time: 0.0s\n"
     ]
    },
    {
     "name": "stderr",
     "output_type": "stream",
     "text": [
      "c:\\Users\\Administrator\\Desktop\\Research\\OQuPy\\.venv\\Lib\\site-packages\\scipy\\optimize\\_lbfgsb_py.py:354: ComplexWarning: Casting complex values to real discards the imaginary part\n",
      "  g = g.astype(np.float64)\n"
     ]
    },
    {
     "name": "stdout",
     "output_type": "stream",
     "text": [
      "--> Compute dynamics:\n",
      "100.0%   20 of   20 [########################################] 00:00:00\n",
      "Elapsed time: 0.0s\n",
      "(80,)\n",
      "--> Compute dynamics:\n",
      "100.0%   20 of   20 [########################################] 00:00:00\n",
      "Elapsed time: 0.0s\n"
     ]
    },
    {
     "name": "stderr",
     "output_type": "stream",
     "text": [
      "c:\\Users\\Administrator\\Desktop\\Research\\OQuPy\\.venv\\Lib\\site-packages\\scipy\\optimize\\_lbfgsb_py.py:354: ComplexWarning: Casting complex values to real discards the imaginary part\n",
      "  g = g.astype(np.float64)\n"
     ]
    },
    {
     "name": "stdout",
     "output_type": "stream",
     "text": [
      "--> Compute dynamics:\n",
      "100.0%   20 of   20 [########################################] 00:00:00\n",
      "Elapsed time: 0.0s\n",
      "(80,)\n",
      "--> Compute dynamics:\n",
      "100.0%   20 of   20 [########################################] 00:00:00\n",
      "Elapsed time: 0.0s\n"
     ]
    },
    {
     "name": "stderr",
     "output_type": "stream",
     "text": [
      "c:\\Users\\Administrator\\Desktop\\Research\\OQuPy\\.venv\\Lib\\site-packages\\scipy\\optimize\\_lbfgsb_py.py:354: ComplexWarning: Casting complex values to real discards the imaginary part\n",
      "  g = g.astype(np.float64)\n"
     ]
    },
    {
     "name": "stdout",
     "output_type": "stream",
     "text": [
      "--> Compute dynamics:\n",
      "100.0%   20 of   20 [########################################] 00:00:00\n",
      "Elapsed time: 0.0s\n",
      "(80,)\n",
      "--> Compute dynamics:\n",
      "100.0%   20 of   20 [########################################] 00:00:00\n",
      "Elapsed time: 0.0s\n"
     ]
    },
    {
     "name": "stderr",
     "output_type": "stream",
     "text": [
      "c:\\Users\\Administrator\\Desktop\\Research\\OQuPy\\.venv\\Lib\\site-packages\\scipy\\optimize\\_lbfgsb_py.py:354: ComplexWarning: Casting complex values to real discards the imaginary part\n",
      "  g = g.astype(np.float64)\n"
     ]
    },
    {
     "name": "stdout",
     "output_type": "stream",
     "text": [
      "--> Compute dynamics:\n",
      "100.0%   20 of   20 [########################################] 00:00:00\n",
      "Elapsed time: 0.0s\n",
      "(80,)\n",
      "--> Compute dynamics:\n",
      "100.0%   20 of   20 [########################################] 00:00:00\n",
      "Elapsed time: 0.0s\n"
     ]
    },
    {
     "name": "stderr",
     "output_type": "stream",
     "text": [
      "c:\\Users\\Administrator\\Desktop\\Research\\OQuPy\\.venv\\Lib\\site-packages\\scipy\\optimize\\_lbfgsb_py.py:354: ComplexWarning: Casting complex values to real discards the imaginary part\n",
      "  g = g.astype(np.float64)\n"
     ]
    },
    {
     "name": "stdout",
     "output_type": "stream",
     "text": [
      "--> Compute dynamics:\n",
      "100.0%   20 of   20 [########################################] 00:00:00\n",
      "Elapsed time: 0.0s\n",
      "(80,)\n",
      "--> Compute dynamics:\n",
      "100.0%   20 of   20 [########################################] 00:00:00\n",
      "Elapsed time: 0.0s\n"
     ]
    },
    {
     "name": "stderr",
     "output_type": "stream",
     "text": [
      "c:\\Users\\Administrator\\Desktop\\Research\\OQuPy\\.venv\\Lib\\site-packages\\scipy\\optimize\\_lbfgsb_py.py:354: ComplexWarning: Casting complex values to real discards the imaginary part\n",
      "  g = g.astype(np.float64)\n"
     ]
    },
    {
     "name": "stdout",
     "output_type": "stream",
     "text": [
      "--> Compute dynamics:\n",
      "100.0%   20 of   20 [########################################] 00:00:00\n",
      "Elapsed time: 0.0s\n",
      "(80,)\n",
      "--> Compute dynamics:\n",
      "100.0%   20 of   20 [########################################] 00:00:00\n",
      "Elapsed time: 0.0s\n"
     ]
    },
    {
     "name": "stderr",
     "output_type": "stream",
     "text": [
      "c:\\Users\\Administrator\\Desktop\\Research\\OQuPy\\.venv\\Lib\\site-packages\\scipy\\optimize\\_lbfgsb_py.py:354: ComplexWarning: Casting complex values to real discards the imaginary part\n",
      "  g = g.astype(np.float64)\n"
     ]
    },
    {
     "name": "stdout",
     "output_type": "stream",
     "text": [
      "--> Compute dynamics:\n",
      "100.0%   20 of   20 [########################################] 00:00:00\n",
      "Elapsed time: 0.0s\n",
      "(80,)\n",
      "--> Compute dynamics:\n",
      "100.0%   20 of   20 [########################################] 00:00:00\n",
      "Elapsed time: 0.0s\n"
     ]
    },
    {
     "name": "stderr",
     "output_type": "stream",
     "text": [
      "c:\\Users\\Administrator\\Desktop\\Research\\OQuPy\\.venv\\Lib\\site-packages\\scipy\\optimize\\_lbfgsb_py.py:354: ComplexWarning: Casting complex values to real discards the imaginary part\n",
      "  g = g.astype(np.float64)\n"
     ]
    },
    {
     "name": "stdout",
     "output_type": "stream",
     "text": [
      "--> Compute dynamics:\n",
      "100.0%   20 of   20 [########################################] 00:00:00\n",
      "Elapsed time: 0.0s\n",
      "(80,)\n",
      "--> Compute dynamics:\n",
      "100.0%   20 of   20 [########################################] 00:00:00\n",
      "Elapsed time: 0.0s\n"
     ]
    },
    {
     "name": "stderr",
     "output_type": "stream",
     "text": [
      "c:\\Users\\Administrator\\Desktop\\Research\\OQuPy\\.venv\\Lib\\site-packages\\scipy\\optimize\\_lbfgsb_py.py:354: ComplexWarning: Casting complex values to real discards the imaginary part\n",
      "  g = g.astype(np.float64)\n"
     ]
    },
    {
     "name": "stdout",
     "output_type": "stream",
     "text": [
      "--> Compute dynamics:\n",
      "100.0%   20 of   20 [########################################] 00:00:00\n",
      "Elapsed time: 0.0s\n",
      "(80,)\n",
      "--> Compute dynamics:\n",
      "100.0%   20 of   20 [########################################] 00:00:00\n",
      "Elapsed time: 0.0s\n"
     ]
    },
    {
     "name": "stderr",
     "output_type": "stream",
     "text": [
      "c:\\Users\\Administrator\\Desktop\\Research\\OQuPy\\.venv\\Lib\\site-packages\\scipy\\optimize\\_lbfgsb_py.py:354: ComplexWarning: Casting complex values to real discards the imaginary part\n",
      "  g = g.astype(np.float64)\n"
     ]
    },
    {
     "name": "stdout",
     "output_type": "stream",
     "text": [
      "--> Compute dynamics:\n",
      "100.0%   20 of   20 [########################################] 00:00:00\n",
      "Elapsed time: 0.0s\n",
      "(80,)\n",
      "--> Compute dynamics:\n",
      "100.0%   20 of   20 [########################################] 00:00:00\n",
      "Elapsed time: 0.0s\n"
     ]
    },
    {
     "name": "stderr",
     "output_type": "stream",
     "text": [
      "c:\\Users\\Administrator\\Desktop\\Research\\OQuPy\\.venv\\Lib\\site-packages\\scipy\\optimize\\_lbfgsb_py.py:354: ComplexWarning: Casting complex values to real discards the imaginary part\n",
      "  g = g.astype(np.float64)\n"
     ]
    },
    {
     "name": "stdout",
     "output_type": "stream",
     "text": [
      "--> Compute dynamics:\n",
      "100.0%   20 of   20 [########################################] 00:00:00\n",
      "Elapsed time: 0.0s\n",
      "(80,)\n",
      "--> Compute dynamics:\n",
      "100.0%   20 of   20 [########################################] 00:00:00\n",
      "Elapsed time: 0.0s\n"
     ]
    },
    {
     "name": "stderr",
     "output_type": "stream",
     "text": [
      "c:\\Users\\Administrator\\Desktop\\Research\\OQuPy\\.venv\\Lib\\site-packages\\scipy\\optimize\\_lbfgsb_py.py:354: ComplexWarning: Casting complex values to real discards the imaginary part\n",
      "  g = g.astype(np.float64)\n"
     ]
    },
    {
     "name": "stdout",
     "output_type": "stream",
     "text": [
      "--> Compute dynamics:\n",
      "100.0%   20 of   20 [########################################] 00:00:00\n",
      "Elapsed time: 0.0s\n",
      "(80,)\n",
      "--> Compute dynamics:\n",
      "100.0%   20 of   20 [########################################] 00:00:00\n",
      "Elapsed time: 0.0s\n"
     ]
    },
    {
     "name": "stderr",
     "output_type": "stream",
     "text": [
      "c:\\Users\\Administrator\\Desktop\\Research\\OQuPy\\.venv\\Lib\\site-packages\\scipy\\optimize\\_lbfgsb_py.py:354: ComplexWarning: Casting complex values to real discards the imaginary part\n",
      "  g = g.astype(np.float64)\n"
     ]
    },
    {
     "name": "stdout",
     "output_type": "stream",
     "text": [
      "--> Compute dynamics:\n",
      "100.0%   20 of   20 [########################################] 00:00:00\n",
      "Elapsed time: 0.0s\n",
      "(80,)\n",
      "--> Compute dynamics:\n",
      "100.0%   20 of   20 [########################################] 00:00:00\n",
      "Elapsed time: 0.0s\n"
     ]
    },
    {
     "name": "stderr",
     "output_type": "stream",
     "text": [
      "c:\\Users\\Administrator\\Desktop\\Research\\OQuPy\\.venv\\Lib\\site-packages\\scipy\\optimize\\_lbfgsb_py.py:354: ComplexWarning: Casting complex values to real discards the imaginary part\n",
      "  g = g.astype(np.float64)\n"
     ]
    },
    {
     "name": "stdout",
     "output_type": "stream",
     "text": [
      "--> Compute dynamics:\n",
      "100.0%   20 of   20 [########################################] 00:00:00\n",
      "Elapsed time: 0.0s\n",
      "(80,)\n",
      "--> Compute dynamics:\n",
      "100.0%   20 of   20 [########################################] 00:00:00\n",
      "Elapsed time: 0.0s\n"
     ]
    },
    {
     "name": "stderr",
     "output_type": "stream",
     "text": [
      "c:\\Users\\Administrator\\Desktop\\Research\\OQuPy\\.venv\\Lib\\site-packages\\scipy\\optimize\\_lbfgsb_py.py:354: ComplexWarning: Casting complex values to real discards the imaginary part\n",
      "  g = g.astype(np.float64)\n"
     ]
    },
    {
     "name": "stdout",
     "output_type": "stream",
     "text": [
      "--> Compute dynamics:\n",
      "100.0%   20 of   20 [########################################] 00:00:00\n",
      "Elapsed time: 0.0s\n",
      "(80,)\n",
      "--> Compute dynamics:\n",
      "100.0%   20 of   20 [########################################] 00:00:00\n",
      "Elapsed time: 0.0s\n"
     ]
    },
    {
     "name": "stderr",
     "output_type": "stream",
     "text": [
      "c:\\Users\\Administrator\\Desktop\\Research\\OQuPy\\.venv\\Lib\\site-packages\\scipy\\optimize\\_lbfgsb_py.py:354: ComplexWarning: Casting complex values to real discards the imaginary part\n",
      "  g = g.astype(np.float64)\n"
     ]
    },
    {
     "name": "stdout",
     "output_type": "stream",
     "text": [
      "--> Compute dynamics:\n",
      "100.0%   20 of   20 [########################################] 00:00:00\n",
      "Elapsed time: 0.0s\n",
      "(80,)\n",
      "--> Compute dynamics:\n",
      "100.0%   20 of   20 [########################################] 00:00:00\n",
      "Elapsed time: 0.0s\n"
     ]
    },
    {
     "name": "stderr",
     "output_type": "stream",
     "text": [
      "c:\\Users\\Administrator\\Desktop\\Research\\OQuPy\\.venv\\Lib\\site-packages\\scipy\\optimize\\_lbfgsb_py.py:354: ComplexWarning: Casting complex values to real discards the imaginary part\n",
      "  g = g.astype(np.float64)\n"
     ]
    },
    {
     "name": "stdout",
     "output_type": "stream",
     "text": [
      "--> Compute dynamics:\n",
      "100.0%   20 of   20 [########################################] 00:00:00\n",
      "Elapsed time: 0.0s\n",
      "(80,)\n",
      "--> Compute dynamics:\n",
      "100.0%   20 of   20 [########################################] 00:00:00\n",
      "Elapsed time: 0.0s\n"
     ]
    },
    {
     "name": "stderr",
     "output_type": "stream",
     "text": [
      "c:\\Users\\Administrator\\Desktop\\Research\\OQuPy\\.venv\\Lib\\site-packages\\scipy\\optimize\\_lbfgsb_py.py:354: ComplexWarning: Casting complex values to real discards the imaginary part\n",
      "  g = g.astype(np.float64)\n"
     ]
    },
    {
     "name": "stdout",
     "output_type": "stream",
     "text": [
      "--> Compute dynamics:\n",
      "100.0%   20 of   20 [########################################] 00:00:00\n",
      "Elapsed time: 0.0s\n",
      "--> Compute dynamics:\n",
      "100.0%   20 of   20 [########################################] 00:00:00\n",
      "Elapsed time: 0.0s\n",
      "(80,)\n",
      "--> Compute dynamics:\n",
      "100.0%   20 of   20 [########################################] 00:00:00\n",
      "Elapsed time: 0.0s\n"
     ]
    },
    {
     "name": "stderr",
     "output_type": "stream",
     "text": [
      "c:\\Users\\Administrator\\Desktop\\Research\\OQuPy\\.venv\\Lib\\site-packages\\scipy\\optimize\\_lbfgsb_py.py:354: ComplexWarning: Casting complex values to real discards the imaginary part\n",
      "  g = g.astype(np.float64)\n"
     ]
    },
    {
     "name": "stdout",
     "output_type": "stream",
     "text": [
      "--> Compute dynamics:\n",
      "100.0%   20 of   20 [########################################] 00:00:00\n",
      "Elapsed time: 0.0s\n",
      "(80,)\n",
      "--> Compute dynamics:\n",
      "100.0%   20 of   20 [########################################] 00:00:00\n",
      "Elapsed time: 0.0s\n"
     ]
    },
    {
     "name": "stderr",
     "output_type": "stream",
     "text": [
      "c:\\Users\\Administrator\\Desktop\\Research\\OQuPy\\.venv\\Lib\\site-packages\\scipy\\optimize\\_lbfgsb_py.py:354: ComplexWarning: Casting complex values to real discards the imaginary part\n",
      "  g = g.astype(np.float64)\n"
     ]
    },
    {
     "name": "stdout",
     "output_type": "stream",
     "text": [
      "--> Compute dynamics:\n",
      "100.0%   20 of   20 [########################################] 00:00:00\n",
      "Elapsed time: 0.0s\n",
      "--> Compute dynamics:\n",
      "100.0%   20 of   20 [########################################] 00:00:00\n",
      "Elapsed time: 0.0s\n",
      "(80,)\n",
      "--> Compute dynamics:\n",
      "100.0%   20 of   20 [########################################] 00:00:00\n",
      "Elapsed time: 0.0s\n"
     ]
    },
    {
     "name": "stderr",
     "output_type": "stream",
     "text": [
      "c:\\Users\\Administrator\\Desktop\\Research\\OQuPy\\.venv\\Lib\\site-packages\\scipy\\optimize\\_lbfgsb_py.py:354: ComplexWarning: Casting complex values to real discards the imaginary part\n",
      "  g = g.astype(np.float64)\n"
     ]
    },
    {
     "name": "stdout",
     "output_type": "stream",
     "text": [
      "--> Compute dynamics:\n",
      "100.0%   20 of   20 [########################################] 00:00:00\n",
      "Elapsed time: 0.0s\n",
      "(80,)\n",
      "--> Compute dynamics:\n",
      "100.0%   20 of   20 [########################################] 00:00:00\n",
      "Elapsed time: 0.0s\n"
     ]
    },
    {
     "name": "stderr",
     "output_type": "stream",
     "text": [
      "c:\\Users\\Administrator\\Desktop\\Research\\OQuPy\\.venv\\Lib\\site-packages\\scipy\\optimize\\_lbfgsb_py.py:354: ComplexWarning: Casting complex values to real discards the imaginary part\n",
      "  g = g.astype(np.float64)\n"
     ]
    },
    {
     "name": "stdout",
     "output_type": "stream",
     "text": [
      "--> Compute dynamics:\n",
      "100.0%   20 of   20 [########################################] 00:00:00\n",
      "Elapsed time: 0.0s\n",
      "(80,)\n",
      "--> Compute dynamics:\n",
      "100.0%   20 of   20 [########################################] 00:00:00\n",
      "Elapsed time: 0.0s\n"
     ]
    },
    {
     "name": "stderr",
     "output_type": "stream",
     "text": [
      "c:\\Users\\Administrator\\Desktop\\Research\\OQuPy\\.venv\\Lib\\site-packages\\scipy\\optimize\\_lbfgsb_py.py:354: ComplexWarning: Casting complex values to real discards the imaginary part\n",
      "  g = g.astype(np.float64)\n"
     ]
    },
    {
     "name": "stdout",
     "output_type": "stream",
     "text": [
      "--> Compute dynamics:\n",
      "100.0%   20 of   20 [########################################] 00:00:00\n",
      "Elapsed time: 0.0s\n",
      "(80,)\n",
      "--> Compute dynamics:\n",
      "100.0%   20 of   20 [########################################] 00:00:00\n",
      "Elapsed time: 0.0s\n"
     ]
    },
    {
     "name": "stderr",
     "output_type": "stream",
     "text": [
      "c:\\Users\\Administrator\\Desktop\\Research\\OQuPy\\.venv\\Lib\\site-packages\\scipy\\optimize\\_lbfgsb_py.py:354: ComplexWarning: Casting complex values to real discards the imaginary part\n",
      "  g = g.astype(np.float64)\n"
     ]
    },
    {
     "name": "stdout",
     "output_type": "stream",
     "text": [
      "--> Compute dynamics:\n",
      "100.0%   20 of   20 [########################################] 00:00:00\n",
      "Elapsed time: 0.0s\n",
      "(80,)\n",
      "--> Compute dynamics:\n",
      "100.0%   20 of   20 [########################################] 00:00:00\n",
      "Elapsed time: 0.0s\n"
     ]
    },
    {
     "name": "stderr",
     "output_type": "stream",
     "text": [
      "c:\\Users\\Administrator\\Desktop\\Research\\OQuPy\\.venv\\Lib\\site-packages\\scipy\\optimize\\_lbfgsb_py.py:354: ComplexWarning: Casting complex values to real discards the imaginary part\n",
      "  g = g.astype(np.float64)\n"
     ]
    },
    {
     "name": "stdout",
     "output_type": "stream",
     "text": [
      "--> Compute dynamics:\n",
      "100.0%   20 of   20 [########################################] 00:00:00\n",
      "Elapsed time: 0.0s\n",
      "(80,)\n",
      "--> Compute dynamics:\n",
      "100.0%   20 of   20 [########################################] 00:00:00\n",
      "Elapsed time: 0.0s\n"
     ]
    },
    {
     "name": "stderr",
     "output_type": "stream",
     "text": [
      "c:\\Users\\Administrator\\Desktop\\Research\\OQuPy\\.venv\\Lib\\site-packages\\scipy\\optimize\\_lbfgsb_py.py:354: ComplexWarning: Casting complex values to real discards the imaginary part\n",
      "  g = g.astype(np.float64)\n"
     ]
    },
    {
     "name": "stdout",
     "output_type": "stream",
     "text": [
      "--> Compute dynamics:\n",
      "100.0%   20 of   20 [########################################] 00:00:00\n",
      "Elapsed time: 0.0s\n",
      "(80,)\n",
      "--> Compute dynamics:\n",
      "100.0%   20 of   20 [########################################] 00:00:00\n",
      "Elapsed time: 0.0s\n"
     ]
    },
    {
     "name": "stderr",
     "output_type": "stream",
     "text": [
      "c:\\Users\\Administrator\\Desktop\\Research\\OQuPy\\.venv\\Lib\\site-packages\\scipy\\optimize\\_lbfgsb_py.py:354: ComplexWarning: Casting complex values to real discards the imaginary part\n",
      "  g = g.astype(np.float64)\n"
     ]
    },
    {
     "name": "stdout",
     "output_type": "stream",
     "text": [
      "--> Compute dynamics:\n",
      "100.0%   20 of   20 [########################################] 00:00:00\n",
      "Elapsed time: 0.0s\n",
      "(80,)\n",
      "--> Compute dynamics:\n",
      "100.0%   20 of   20 [########################################] 00:00:00\n",
      "Elapsed time: 0.0s\n"
     ]
    },
    {
     "name": "stderr",
     "output_type": "stream",
     "text": [
      "c:\\Users\\Administrator\\Desktop\\Research\\OQuPy\\.venv\\Lib\\site-packages\\scipy\\optimize\\_lbfgsb_py.py:354: ComplexWarning: Casting complex values to real discards the imaginary part\n",
      "  g = g.astype(np.float64)\n"
     ]
    },
    {
     "name": "stdout",
     "output_type": "stream",
     "text": [
      "--> Compute dynamics:\n",
      "100.0%   20 of   20 [########################################] 00:00:00\n",
      "Elapsed time: 0.0s\n",
      "--> Compute dynamics:\n",
      "100.0%   20 of   20 [########################################] 00:00:00\n",
      "Elapsed time: 0.0s\n",
      "(80,)\n",
      "--> Compute dynamics:\n",
      "100.0%   20 of   20 [########################################] 00:00:00\n",
      "Elapsed time: 0.0s\n"
     ]
    },
    {
     "name": "stderr",
     "output_type": "stream",
     "text": [
      "c:\\Users\\Administrator\\Desktop\\Research\\OQuPy\\.venv\\Lib\\site-packages\\scipy\\optimize\\_lbfgsb_py.py:354: ComplexWarning: Casting complex values to real discards the imaginary part\n",
      "  g = g.astype(np.float64)\n"
     ]
    },
    {
     "name": "stdout",
     "output_type": "stream",
     "text": [
      "--> Compute dynamics:\n",
      "100.0%   20 of   20 [########################################] 00:00:00\n",
      "Elapsed time: 0.0s\n",
      "(80,)\n",
      "--> Compute dynamics:\n",
      "100.0%   20 of   20 [########################################] 00:00:00\n",
      "Elapsed time: 0.0s\n"
     ]
    },
    {
     "name": "stderr",
     "output_type": "stream",
     "text": [
      "c:\\Users\\Administrator\\Desktop\\Research\\OQuPy\\.venv\\Lib\\site-packages\\scipy\\optimize\\_lbfgsb_py.py:354: ComplexWarning: Casting complex values to real discards the imaginary part\n",
      "  g = g.astype(np.float64)\n"
     ]
    },
    {
     "name": "stdout",
     "output_type": "stream",
     "text": [
      "--> Compute dynamics:\n",
      "100.0%   20 of   20 [########################################] 00:00:00\n",
      "Elapsed time: 0.0s\n",
      "(80,)\n",
      "--> Compute dynamics:\n",
      "100.0%   20 of   20 [########################################] 00:00:00\n",
      "Elapsed time: 0.0s\n"
     ]
    },
    {
     "name": "stderr",
     "output_type": "stream",
     "text": [
      "c:\\Users\\Administrator\\Desktop\\Research\\OQuPy\\.venv\\Lib\\site-packages\\scipy\\optimize\\_lbfgsb_py.py:354: ComplexWarning: Casting complex values to real discards the imaginary part\n",
      "  g = g.astype(np.float64)\n"
     ]
    },
    {
     "name": "stdout",
     "output_type": "stream",
     "text": [
      "--> Compute dynamics:\n",
      "100.0%   20 of   20 [########################################] 00:00:00\n",
      "Elapsed time: 0.0s\n",
      "(80,)\n",
      "--> Compute dynamics:\n",
      "100.0%   20 of   20 [########################################] 00:00:00\n",
      "Elapsed time: 0.0s\n"
     ]
    },
    {
     "name": "stderr",
     "output_type": "stream",
     "text": [
      "c:\\Users\\Administrator\\Desktop\\Research\\OQuPy\\.venv\\Lib\\site-packages\\scipy\\optimize\\_lbfgsb_py.py:354: ComplexWarning: Casting complex values to real discards the imaginary part\n",
      "  g = g.astype(np.float64)\n"
     ]
    },
    {
     "name": "stdout",
     "output_type": "stream",
     "text": [
      "--> Compute dynamics:\n",
      "100.0%   20 of   20 [########################################] 00:00:00\n",
      "Elapsed time: 0.0s\n",
      "(80,)\n",
      "--> Compute dynamics:\n",
      "100.0%   20 of   20 [########################################] 00:00:00\n",
      "Elapsed time: 0.0s\n"
     ]
    },
    {
     "name": "stderr",
     "output_type": "stream",
     "text": [
      "c:\\Users\\Administrator\\Desktop\\Research\\OQuPy\\.venv\\Lib\\site-packages\\scipy\\optimize\\_lbfgsb_py.py:354: ComplexWarning: Casting complex values to real discards the imaginary part\n",
      "  g = g.astype(np.float64)\n"
     ]
    },
    {
     "name": "stdout",
     "output_type": "stream",
     "text": [
      "--> Compute dynamics:\n",
      "100.0%   20 of   20 [########################################] 00:00:00\n",
      "Elapsed time: 0.0s\n",
      "(80,)\n",
      "--> Compute dynamics:\n",
      "100.0%   20 of   20 [########################################] 00:00:00\n",
      "Elapsed time: 0.0s\n"
     ]
    },
    {
     "name": "stderr",
     "output_type": "stream",
     "text": [
      "c:\\Users\\Administrator\\Desktop\\Research\\OQuPy\\.venv\\Lib\\site-packages\\scipy\\optimize\\_lbfgsb_py.py:354: ComplexWarning: Casting complex values to real discards the imaginary part\n",
      "  g = g.astype(np.float64)\n"
     ]
    },
    {
     "name": "stdout",
     "output_type": "stream",
     "text": [
      "--> Compute dynamics:\n",
      "100.0%   20 of   20 [########################################] 00:00:00\n",
      "Elapsed time: 0.0s\n",
      "(80,)\n",
      "--> Compute dynamics:\n",
      "100.0%   20 of   20 [########################################] 00:00:00\n",
      "Elapsed time: 0.0s\n"
     ]
    },
    {
     "name": "stderr",
     "output_type": "stream",
     "text": [
      "c:\\Users\\Administrator\\Desktop\\Research\\OQuPy\\.venv\\Lib\\site-packages\\scipy\\optimize\\_lbfgsb_py.py:354: ComplexWarning: Casting complex values to real discards the imaginary part\n",
      "  g = g.astype(np.float64)\n"
     ]
    },
    {
     "name": "stdout",
     "output_type": "stream",
     "text": [
      "--> Compute dynamics:\n",
      "100.0%   20 of   20 [########################################] 00:00:00\n",
      "Elapsed time: 0.0s\n",
      "(80,)\n",
      "--> Compute dynamics:\n",
      "100.0%   20 of   20 [########################################] 00:00:00\n",
      "Elapsed time: 0.0s\n"
     ]
    },
    {
     "name": "stderr",
     "output_type": "stream",
     "text": [
      "c:\\Users\\Administrator\\Desktop\\Research\\OQuPy\\.venv\\Lib\\site-packages\\scipy\\optimize\\_lbfgsb_py.py:354: ComplexWarning: Casting complex values to real discards the imaginary part\n",
      "  g = g.astype(np.float64)\n"
     ]
    },
    {
     "name": "stdout",
     "output_type": "stream",
     "text": [
      "--> Compute dynamics:\n",
      "100.0%   20 of   20 [########################################] 00:00:00\n",
      "Elapsed time: 0.0s\n",
      "(80,)\n",
      "--> Compute dynamics:\n",
      "100.0%   20 of   20 [########################################] 00:00:00\n",
      "Elapsed time: 0.0s\n"
     ]
    },
    {
     "name": "stderr",
     "output_type": "stream",
     "text": [
      "c:\\Users\\Administrator\\Desktop\\Research\\OQuPy\\.venv\\Lib\\site-packages\\scipy\\optimize\\_lbfgsb_py.py:354: ComplexWarning: Casting complex values to real discards the imaginary part\n",
      "  g = g.astype(np.float64)\n"
     ]
    },
    {
     "name": "stdout",
     "output_type": "stream",
     "text": [
      "--> Compute dynamics:\n",
      "100.0%   20 of   20 [########################################] 00:00:00\n",
      "Elapsed time: 0.0s\n",
      "(80,)\n",
      "--> Compute dynamics:\n",
      "100.0%   20 of   20 [########################################] 00:00:00\n",
      "Elapsed time: 0.0s\n"
     ]
    },
    {
     "name": "stderr",
     "output_type": "stream",
     "text": [
      "c:\\Users\\Administrator\\Desktop\\Research\\OQuPy\\.venv\\Lib\\site-packages\\scipy\\optimize\\_lbfgsb_py.py:354: ComplexWarning: Casting complex values to real discards the imaginary part\n",
      "  g = g.astype(np.float64)\n"
     ]
    },
    {
     "name": "stdout",
     "output_type": "stream",
     "text": [
      "--> Compute dynamics:\n",
      "100.0%   20 of   20 [########################################] 00:00:00\n",
      "Elapsed time: 0.0s\n",
      "(80,)\n",
      "--> Compute dynamics:\n",
      "100.0%   20 of   20 [########################################] 00:00:00\n",
      "Elapsed time: 0.0s\n"
     ]
    },
    {
     "name": "stderr",
     "output_type": "stream",
     "text": [
      "c:\\Users\\Administrator\\Desktop\\Research\\OQuPy\\.venv\\Lib\\site-packages\\scipy\\optimize\\_lbfgsb_py.py:354: ComplexWarning: Casting complex values to real discards the imaginary part\n",
      "  g = g.astype(np.float64)\n"
     ]
    },
    {
     "name": "stdout",
     "output_type": "stream",
     "text": [
      "--> Compute dynamics:\n",
      "100.0%   20 of   20 [########################################] 00:00:00\n",
      "Elapsed time: 0.0s\n",
      "(80,)\n",
      "--> Compute dynamics:\n",
      "100.0%   20 of   20 [########################################] 00:00:00\n",
      "Elapsed time: 0.0s\n"
     ]
    },
    {
     "name": "stderr",
     "output_type": "stream",
     "text": [
      "c:\\Users\\Administrator\\Desktop\\Research\\OQuPy\\.venv\\Lib\\site-packages\\scipy\\optimize\\_lbfgsb_py.py:354: ComplexWarning: Casting complex values to real discards the imaginary part\n",
      "  g = g.astype(np.float64)\n"
     ]
    },
    {
     "name": "stdout",
     "output_type": "stream",
     "text": [
      "--> Compute dynamics:\n",
      "100.0%   20 of   20 [########################################] 00:00:00\n",
      "Elapsed time: 0.0s\n",
      "--> Compute dynamics:\n",
      "100.0%   20 of   20 [########################################] 00:00:00\n",
      "Elapsed time: 0.0s\n",
      "(80,)\n",
      "--> Compute dynamics:\n",
      "100.0%   20 of   20 [########################################] 00:00:00\n",
      "Elapsed time: 0.0s\n"
     ]
    },
    {
     "name": "stderr",
     "output_type": "stream",
     "text": [
      "c:\\Users\\Administrator\\Desktop\\Research\\OQuPy\\.venv\\Lib\\site-packages\\scipy\\optimize\\_lbfgsb_py.py:354: ComplexWarning: Casting complex values to real discards the imaginary part\n",
      "  g = g.astype(np.float64)\n"
     ]
    },
    {
     "name": "stdout",
     "output_type": "stream",
     "text": [
      "--> Compute dynamics:\n",
      "100.0%   20 of   20 [########################################] 00:00:00\n",
      "Elapsed time: 0.0s\n",
      "(80,)\n",
      "--> Compute dynamics:\n",
      "100.0%   20 of   20 [########################################] 00:00:00\n",
      "Elapsed time: 0.0s\n"
     ]
    },
    {
     "name": "stderr",
     "output_type": "stream",
     "text": [
      "c:\\Users\\Administrator\\Desktop\\Research\\OQuPy\\.venv\\Lib\\site-packages\\scipy\\optimize\\_lbfgsb_py.py:354: ComplexWarning: Casting complex values to real discards the imaginary part\n",
      "  g = g.astype(np.float64)\n"
     ]
    },
    {
     "name": "stdout",
     "output_type": "stream",
     "text": [
      "--> Compute dynamics:\n",
      "100.0%   20 of   20 [########################################] 00:00:00\n",
      "Elapsed time: 0.1s\n",
      "(80,)\n",
      "--> Compute dynamics:\n",
      "100.0%   20 of   20 [########################################] 00:00:00\n",
      "Elapsed time: 0.0s\n"
     ]
    },
    {
     "name": "stderr",
     "output_type": "stream",
     "text": [
      "c:\\Users\\Administrator\\Desktop\\Research\\OQuPy\\.venv\\Lib\\site-packages\\scipy\\optimize\\_lbfgsb_py.py:354: ComplexWarning: Casting complex values to real discards the imaginary part\n",
      "  g = g.astype(np.float64)\n"
     ]
    },
    {
     "name": "stdout",
     "output_type": "stream",
     "text": [
      "--> Compute dynamics:\n",
      "100.0%   20 of   20 [########################################] 00:00:00\n",
      "Elapsed time: 0.0s\n",
      "(80,)\n",
      "--> Compute dynamics:\n",
      "100.0%   20 of   20 [########################################] 00:00:00\n",
      "Elapsed time: 0.0s\n"
     ]
    },
    {
     "name": "stderr",
     "output_type": "stream",
     "text": [
      "c:\\Users\\Administrator\\Desktop\\Research\\OQuPy\\.venv\\Lib\\site-packages\\scipy\\optimize\\_lbfgsb_py.py:354: ComplexWarning: Casting complex values to real discards the imaginary part\n",
      "  g = g.astype(np.float64)\n"
     ]
    },
    {
     "name": "stdout",
     "output_type": "stream",
     "text": [
      "--> Compute dynamics:\n",
      "100.0%   20 of   20 [########################################] 00:00:00\n",
      "Elapsed time: 0.0s\n",
      "(80,)\n",
      "--> Compute dynamics:\n",
      "100.0%   20 of   20 [########################################] 00:00:00\n",
      "Elapsed time: 0.0s\n"
     ]
    },
    {
     "name": "stderr",
     "output_type": "stream",
     "text": [
      "c:\\Users\\Administrator\\Desktop\\Research\\OQuPy\\.venv\\Lib\\site-packages\\scipy\\optimize\\_lbfgsb_py.py:354: ComplexWarning: Casting complex values to real discards the imaginary part\n",
      "  g = g.astype(np.float64)\n"
     ]
    },
    {
     "name": "stdout",
     "output_type": "stream",
     "text": [
      "--> Compute dynamics:\n",
      "100.0%   20 of   20 [########################################] 00:00:00\n",
      "Elapsed time: 0.0s\n",
      "(80,)\n",
      "--> Compute dynamics:\n",
      "100.0%   20 of   20 [########################################] 00:00:00\n",
      "Elapsed time: 0.0s\n"
     ]
    },
    {
     "name": "stderr",
     "output_type": "stream",
     "text": [
      "c:\\Users\\Administrator\\Desktop\\Research\\OQuPy\\.venv\\Lib\\site-packages\\scipy\\optimize\\_lbfgsb_py.py:354: ComplexWarning: Casting complex values to real discards the imaginary part\n",
      "  g = g.astype(np.float64)\n"
     ]
    },
    {
     "name": "stdout",
     "output_type": "stream",
     "text": [
      "--> Compute dynamics:\n",
      "100.0%   20 of   20 [########################################] 00:00:00\n",
      "Elapsed time: 0.0s\n",
      "(80,)\n",
      "--> Compute dynamics:\n",
      "100.0%   20 of   20 [########################################] 00:00:00\n",
      "Elapsed time: 0.0s\n"
     ]
    },
    {
     "name": "stderr",
     "output_type": "stream",
     "text": [
      "c:\\Users\\Administrator\\Desktop\\Research\\OQuPy\\.venv\\Lib\\site-packages\\scipy\\optimize\\_lbfgsb_py.py:354: ComplexWarning: Casting complex values to real discards the imaginary part\n",
      "  g = g.astype(np.float64)\n"
     ]
    },
    {
     "name": "stdout",
     "output_type": "stream",
     "text": [
      "--> Compute dynamics:\n",
      "100.0%   20 of   20 [########################################] 00:00:00\n",
      "Elapsed time: 0.0s\n",
      "(80,)\n",
      "--> Compute dynamics:\n",
      "100.0%   20 of   20 [########################################] 00:00:00\n",
      "Elapsed time: 0.0s\n"
     ]
    },
    {
     "name": "stderr",
     "output_type": "stream",
     "text": [
      "c:\\Users\\Administrator\\Desktop\\Research\\OQuPy\\.venv\\Lib\\site-packages\\scipy\\optimize\\_lbfgsb_py.py:354: ComplexWarning: Casting complex values to real discards the imaginary part\n",
      "  g = g.astype(np.float64)\n"
     ]
    },
    {
     "name": "stdout",
     "output_type": "stream",
     "text": [
      "--> Compute dynamics:\n",
      "100.0%   20 of   20 [########################################] 00:00:00\n",
      "Elapsed time: 0.0s\n",
      "(80,)\n",
      "--> Compute dynamics:\n",
      "100.0%   20 of   20 [########################################] 00:00:00\n",
      "Elapsed time: 0.0s\n"
     ]
    },
    {
     "name": "stderr",
     "output_type": "stream",
     "text": [
      "c:\\Users\\Administrator\\Desktop\\Research\\OQuPy\\.venv\\Lib\\site-packages\\scipy\\optimize\\_lbfgsb_py.py:354: ComplexWarning: Casting complex values to real discards the imaginary part\n",
      "  g = g.astype(np.float64)\n"
     ]
    },
    {
     "name": "stdout",
     "output_type": "stream",
     "text": [
      "--> Compute dynamics:\n",
      "100.0%   20 of   20 [########################################] 00:00:00\n",
      "Elapsed time: 0.0s\n",
      "(80,)\n",
      "--> Compute dynamics:\n",
      "100.0%   20 of   20 [########################################] 00:00:00\n",
      "Elapsed time: 0.0s\n"
     ]
    },
    {
     "name": "stderr",
     "output_type": "stream",
     "text": [
      "c:\\Users\\Administrator\\Desktop\\Research\\OQuPy\\.venv\\Lib\\site-packages\\scipy\\optimize\\_lbfgsb_py.py:354: ComplexWarning: Casting complex values to real discards the imaginary part\n",
      "  g = g.astype(np.float64)\n"
     ]
    },
    {
     "name": "stdout",
     "output_type": "stream",
     "text": [
      "--> Compute dynamics:\n",
      "100.0%   20 of   20 [########################################] 00:00:00\n",
      "Elapsed time: 0.0s\n",
      "(80,)\n",
      "--> Compute dynamics:\n",
      "100.0%   20 of   20 [########################################] 00:00:00\n",
      "Elapsed time: 0.0s\n"
     ]
    },
    {
     "name": "stderr",
     "output_type": "stream",
     "text": [
      "c:\\Users\\Administrator\\Desktop\\Research\\OQuPy\\.venv\\Lib\\site-packages\\scipy\\optimize\\_lbfgsb_py.py:354: ComplexWarning: Casting complex values to real discards the imaginary part\n",
      "  g = g.astype(np.float64)\n"
     ]
    },
    {
     "name": "stdout",
     "output_type": "stream",
     "text": [
      "--> Compute dynamics:\n",
      "100.0%   20 of   20 [########################################] 00:00:00\n",
      "Elapsed time: 0.0s\n",
      "(80,)\n",
      "--> Compute dynamics:\n",
      "100.0%   20 of   20 [########################################] 00:00:00\n",
      "Elapsed time: 0.0s\n"
     ]
    },
    {
     "name": "stderr",
     "output_type": "stream",
     "text": [
      "c:\\Users\\Administrator\\Desktop\\Research\\OQuPy\\.venv\\Lib\\site-packages\\scipy\\optimize\\_lbfgsb_py.py:354: ComplexWarning: Casting complex values to real discards the imaginary part\n",
      "  g = g.astype(np.float64)\n"
     ]
    },
    {
     "name": "stdout",
     "output_type": "stream",
     "text": [
      "--> Compute dynamics:\n",
      "100.0%   20 of   20 [########################################] 00:00:00\n",
      "Elapsed time: 0.0s\n",
      "(80,)\n",
      "--> Compute dynamics:\n",
      "100.0%   20 of   20 [########################################] 00:00:00\n",
      "Elapsed time: 0.0s\n"
     ]
    },
    {
     "name": "stderr",
     "output_type": "stream",
     "text": [
      "c:\\Users\\Administrator\\Desktop\\Research\\OQuPy\\.venv\\Lib\\site-packages\\scipy\\optimize\\_lbfgsb_py.py:354: ComplexWarning: Casting complex values to real discards the imaginary part\n",
      "  g = g.astype(np.float64)\n"
     ]
    },
    {
     "name": "stdout",
     "output_type": "stream",
     "text": [
      "--> Compute dynamics:\n",
      "100.0%   20 of   20 [########################################] 00:00:00\n",
      "Elapsed time: 0.0s\n",
      "(80,)\n",
      "--> Compute dynamics:\n",
      "100.0%   20 of   20 [########################################] 00:00:00\n",
      "Elapsed time: 0.0s\n"
     ]
    },
    {
     "name": "stderr",
     "output_type": "stream",
     "text": [
      "c:\\Users\\Administrator\\Desktop\\Research\\OQuPy\\.venv\\Lib\\site-packages\\scipy\\optimize\\_lbfgsb_py.py:354: ComplexWarning: Casting complex values to real discards the imaginary part\n",
      "  g = g.astype(np.float64)\n"
     ]
    },
    {
     "name": "stdout",
     "output_type": "stream",
     "text": [
      "--> Compute dynamics:\n",
      "100.0%   20 of   20 [########################################] 00:00:00\n",
      "Elapsed time: 0.0s\n",
      "(80,)\n",
      "--> Compute dynamics:\n",
      "100.0%   20 of   20 [########################################] 00:00:00\n",
      "Elapsed time: 0.0s\n"
     ]
    },
    {
     "name": "stderr",
     "output_type": "stream",
     "text": [
      "c:\\Users\\Administrator\\Desktop\\Research\\OQuPy\\.venv\\Lib\\site-packages\\scipy\\optimize\\_lbfgsb_py.py:354: ComplexWarning: Casting complex values to real discards the imaginary part\n",
      "  g = g.astype(np.float64)\n"
     ]
    },
    {
     "name": "stdout",
     "output_type": "stream",
     "text": [
      "--> Compute dynamics:\n",
      "100.0%   20 of   20 [########################################] 00:00:00\n",
      "Elapsed time: 0.0s\n",
      "(80,)\n",
      "--> Compute dynamics:\n",
      "100.0%   20 of   20 [########################################] 00:00:00\n",
      "Elapsed time: 0.0s\n"
     ]
    },
    {
     "name": "stderr",
     "output_type": "stream",
     "text": [
      "c:\\Users\\Administrator\\Desktop\\Research\\OQuPy\\.venv\\Lib\\site-packages\\scipy\\optimize\\_lbfgsb_py.py:354: ComplexWarning: Casting complex values to real discards the imaginary part\n",
      "  g = g.astype(np.float64)\n"
     ]
    },
    {
     "name": "stdout",
     "output_type": "stream",
     "text": [
      "--> Compute dynamics:\n",
      "100.0%   20 of   20 [########################################] 00:00:00\n",
      "Elapsed time: 0.0s\n",
      "(80,)\n",
      "--> Compute dynamics:\n",
      "100.0%   20 of   20 [########################################] 00:00:00\n",
      "Elapsed time: 0.0s\n"
     ]
    },
    {
     "name": "stderr",
     "output_type": "stream",
     "text": [
      "c:\\Users\\Administrator\\Desktop\\Research\\OQuPy\\.venv\\Lib\\site-packages\\scipy\\optimize\\_lbfgsb_py.py:354: ComplexWarning: Casting complex values to real discards the imaginary part\n",
      "  g = g.astype(np.float64)\n"
     ]
    },
    {
     "name": "stdout",
     "output_type": "stream",
     "text": [
      "--> Compute dynamics:\n",
      "100.0%   20 of   20 [########################################] 00:00:00\n",
      "Elapsed time: 0.0s\n",
      "(80,)\n",
      "--> Compute dynamics:\n",
      "100.0%   20 of   20 [########################################] 00:00:00\n",
      "Elapsed time: 0.0s\n"
     ]
    },
    {
     "name": "stderr",
     "output_type": "stream",
     "text": [
      "c:\\Users\\Administrator\\Desktop\\Research\\OQuPy\\.venv\\Lib\\site-packages\\scipy\\optimize\\_lbfgsb_py.py:354: ComplexWarning: Casting complex values to real discards the imaginary part\n",
      "  g = g.astype(np.float64)\n"
     ]
    },
    {
     "name": "stdout",
     "output_type": "stream",
     "text": [
      "--> Compute dynamics:\n",
      "100.0%   20 of   20 [########################################] 00:00:00\n",
      "Elapsed time: 0.0s\n",
      "(80,)\n",
      "--> Compute dynamics:\n",
      "100.0%   20 of   20 [########################################] 00:00:00\n",
      "Elapsed time: 0.0s\n"
     ]
    },
    {
     "name": "stderr",
     "output_type": "stream",
     "text": [
      "c:\\Users\\Administrator\\Desktop\\Research\\OQuPy\\.venv\\Lib\\site-packages\\scipy\\optimize\\_lbfgsb_py.py:354: ComplexWarning: Casting complex values to real discards the imaginary part\n",
      "  g = g.astype(np.float64)\n"
     ]
    },
    {
     "name": "stdout",
     "output_type": "stream",
     "text": [
      "--> Compute dynamics:\n",
      "100.0%   20 of   20 [########################################] 00:00:00\n",
      "Elapsed time: 0.0s\n",
      "(80,)\n",
      "--> Compute dynamics:\n",
      "100.0%   20 of   20 [########################################] 00:00:00\n",
      "Elapsed time: 0.0s\n"
     ]
    },
    {
     "name": "stderr",
     "output_type": "stream",
     "text": [
      "c:\\Users\\Administrator\\Desktop\\Research\\OQuPy\\.venv\\Lib\\site-packages\\scipy\\optimize\\_lbfgsb_py.py:354: ComplexWarning: Casting complex values to real discards the imaginary part\n",
      "  g = g.astype(np.float64)\n"
     ]
    },
    {
     "name": "stdout",
     "output_type": "stream",
     "text": [
      "--> Compute dynamics:\n",
      "100.0%   20 of   20 [########################################] 00:00:00\n",
      "Elapsed time: 0.0s\n",
      "--> Compute dynamics:\n",
      "100.0%   20 of   20 [########################################] 00:00:00\n",
      "Elapsed time: 0.0s\n",
      "(80,)\n",
      "--> Compute dynamics:\n",
      "100.0%   20 of   20 [########################################] 00:00:00\n",
      "Elapsed time: 0.0s\n"
     ]
    },
    {
     "name": "stderr",
     "output_type": "stream",
     "text": [
      "c:\\Users\\Administrator\\Desktop\\Research\\OQuPy\\.venv\\Lib\\site-packages\\scipy\\optimize\\_lbfgsb_py.py:354: ComplexWarning: Casting complex values to real discards the imaginary part\n",
      "  g = g.astype(np.float64)\n"
     ]
    },
    {
     "name": "stdout",
     "output_type": "stream",
     "text": [
      "--> Compute dynamics:\n",
      "100.0%   20 of   20 [########################################] 00:00:00\n",
      "Elapsed time: 0.0s\n",
      "(80,)\n",
      "--> Compute dynamics:\n",
      "100.0%   20 of   20 [########################################] 00:00:00\n",
      "Elapsed time: 0.0s\n"
     ]
    },
    {
     "name": "stderr",
     "output_type": "stream",
     "text": [
      "c:\\Users\\Administrator\\Desktop\\Research\\OQuPy\\.venv\\Lib\\site-packages\\scipy\\optimize\\_lbfgsb_py.py:354: ComplexWarning: Casting complex values to real discards the imaginary part\n",
      "  g = g.astype(np.float64)\n"
     ]
    },
    {
     "name": "stdout",
     "output_type": "stream",
     "text": [
      "--> Compute dynamics:\n",
      "100.0%   20 of   20 [########################################] 00:00:00\n",
      "Elapsed time: 0.0s\n",
      "(80,)\n",
      "--> Compute dynamics:\n",
      "100.0%   20 of   20 [########################################] 00:00:00\n",
      "Elapsed time: 0.0s\n"
     ]
    },
    {
     "name": "stderr",
     "output_type": "stream",
     "text": [
      "c:\\Users\\Administrator\\Desktop\\Research\\OQuPy\\.venv\\Lib\\site-packages\\scipy\\optimize\\_lbfgsb_py.py:354: ComplexWarning: Casting complex values to real discards the imaginary part\n",
      "  g = g.astype(np.float64)\n"
     ]
    },
    {
     "name": "stdout",
     "output_type": "stream",
     "text": [
      "--> Compute dynamics:\n",
      "100.0%   20 of   20 [########################################] 00:00:00\n",
      "Elapsed time: 0.0s\n",
      "(80,)\n",
      "--> Compute dynamics:\n",
      "100.0%   20 of   20 [########################################] 00:00:00\n",
      "Elapsed time: 0.0s\n"
     ]
    },
    {
     "name": "stderr",
     "output_type": "stream",
     "text": [
      "c:\\Users\\Administrator\\Desktop\\Research\\OQuPy\\.venv\\Lib\\site-packages\\scipy\\optimize\\_lbfgsb_py.py:354: ComplexWarning: Casting complex values to real discards the imaginary part\n",
      "  g = g.astype(np.float64)\n"
     ]
    },
    {
     "name": "stdout",
     "output_type": "stream",
     "text": [
      "--> Compute dynamics:\n",
      "100.0%   20 of   20 [########################################] 00:00:00\n",
      "Elapsed time: 0.0s\n",
      "(80,)\n",
      "--> Compute dynamics:\n",
      "100.0%   20 of   20 [########################################] 00:00:00\n",
      "Elapsed time: 0.0s\n"
     ]
    },
    {
     "name": "stderr",
     "output_type": "stream",
     "text": [
      "c:\\Users\\Administrator\\Desktop\\Research\\OQuPy\\.venv\\Lib\\site-packages\\scipy\\optimize\\_lbfgsb_py.py:354: ComplexWarning: Casting complex values to real discards the imaginary part\n",
      "  g = g.astype(np.float64)\n"
     ]
    },
    {
     "name": "stdout",
     "output_type": "stream",
     "text": [
      "--> Compute dynamics:\n",
      "100.0%   20 of   20 [########################################] 00:00:00\n",
      "Elapsed time: 0.0s\n",
      "(80,)\n",
      "--> Compute dynamics:\n",
      "100.0%   20 of   20 [########################################] 00:00:00\n",
      "Elapsed time: 0.0s\n"
     ]
    },
    {
     "name": "stderr",
     "output_type": "stream",
     "text": [
      "c:\\Users\\Administrator\\Desktop\\Research\\OQuPy\\.venv\\Lib\\site-packages\\scipy\\optimize\\_lbfgsb_py.py:354: ComplexWarning: Casting complex values to real discards the imaginary part\n",
      "  g = g.astype(np.float64)\n"
     ]
    },
    {
     "name": "stdout",
     "output_type": "stream",
     "text": [
      "--> Compute dynamics:\n",
      "100.0%   20 of   20 [########################################] 00:00:00\n",
      "Elapsed time: 0.0s\n",
      "(80,)\n",
      "--> Compute dynamics:\n",
      "100.0%   20 of   20 [########################################] 00:00:00\n",
      "Elapsed time: 0.0s\n"
     ]
    },
    {
     "name": "stderr",
     "output_type": "stream",
     "text": [
      "c:\\Users\\Administrator\\Desktop\\Research\\OQuPy\\.venv\\Lib\\site-packages\\scipy\\optimize\\_lbfgsb_py.py:354: ComplexWarning: Casting complex values to real discards the imaginary part\n",
      "  g = g.astype(np.float64)\n"
     ]
    },
    {
     "name": "stdout",
     "output_type": "stream",
     "text": [
      "--> Compute dynamics:\n",
      "100.0%   20 of   20 [########################################] 00:00:00\n",
      "Elapsed time: 0.0s\n",
      "(80,)\n",
      "--> Compute dynamics:\n",
      "100.0%   20 of   20 [########################################] 00:00:00\n",
      "Elapsed time: 0.0s\n"
     ]
    },
    {
     "name": "stderr",
     "output_type": "stream",
     "text": [
      "c:\\Users\\Administrator\\Desktop\\Research\\OQuPy\\.venv\\Lib\\site-packages\\scipy\\optimize\\_lbfgsb_py.py:354: ComplexWarning: Casting complex values to real discards the imaginary part\n",
      "  g = g.astype(np.float64)\n"
     ]
    },
    {
     "name": "stdout",
     "output_type": "stream",
     "text": [
      "--> Compute dynamics:\n",
      "100.0%   20 of   20 [########################################] 00:00:00\n",
      "Elapsed time: 0.0s\n",
      "(80,)\n",
      "--> Compute dynamics:\n",
      "100.0%   20 of   20 [########################################] 00:00:00\n",
      "Elapsed time: 0.0s\n"
     ]
    },
    {
     "name": "stderr",
     "output_type": "stream",
     "text": [
      "c:\\Users\\Administrator\\Desktop\\Research\\OQuPy\\.venv\\Lib\\site-packages\\scipy\\optimize\\_lbfgsb_py.py:354: ComplexWarning: Casting complex values to real discards the imaginary part\n",
      "  g = g.astype(np.float64)\n"
     ]
    },
    {
     "name": "stdout",
     "output_type": "stream",
     "text": [
      "--> Compute dynamics:\n",
      "100.0%   20 of   20 [########################################] 00:00:00\n",
      "Elapsed time: 0.0s\n",
      "(80,)\n",
      "--> Compute dynamics:\n",
      "100.0%   20 of   20 [########################################] 00:00:00\n",
      "Elapsed time: 0.0s\n"
     ]
    },
    {
     "name": "stderr",
     "output_type": "stream",
     "text": [
      "c:\\Users\\Administrator\\Desktop\\Research\\OQuPy\\.venv\\Lib\\site-packages\\scipy\\optimize\\_lbfgsb_py.py:354: ComplexWarning: Casting complex values to real discards the imaginary part\n",
      "  g = g.astype(np.float64)\n"
     ]
    },
    {
     "name": "stdout",
     "output_type": "stream",
     "text": [
      "--> Compute dynamics:\n",
      "100.0%   20 of   20 [########################################] 00:00:00\n",
      "Elapsed time: 0.0s\n",
      "(80,)\n",
      "--> Compute dynamics:\n",
      "100.0%   20 of   20 [########################################] 00:00:00\n",
      "Elapsed time: 0.0s\n"
     ]
    },
    {
     "name": "stderr",
     "output_type": "stream",
     "text": [
      "c:\\Users\\Administrator\\Desktop\\Research\\OQuPy\\.venv\\Lib\\site-packages\\scipy\\optimize\\_lbfgsb_py.py:354: ComplexWarning: Casting complex values to real discards the imaginary part\n",
      "  g = g.astype(np.float64)\n"
     ]
    },
    {
     "name": "stdout",
     "output_type": "stream",
     "text": [
      "--> Compute dynamics:\n",
      "100.0%   20 of   20 [########################################] 00:00:00\n",
      "Elapsed time: 0.0s\n",
      "--> Compute dynamics:\n",
      "100.0%   20 of   20 [########################################] 00:00:00\n",
      "Elapsed time: 0.0s\n",
      "(80,)\n",
      "--> Compute dynamics:\n",
      "100.0%   20 of   20 [########################################] 00:00:00\n",
      "Elapsed time: 0.0s\n"
     ]
    },
    {
     "name": "stderr",
     "output_type": "stream",
     "text": [
      "c:\\Users\\Administrator\\Desktop\\Research\\OQuPy\\.venv\\Lib\\site-packages\\scipy\\optimize\\_lbfgsb_py.py:354: ComplexWarning: Casting complex values to real discards the imaginary part\n",
      "  g = g.astype(np.float64)\n"
     ]
    },
    {
     "name": "stdout",
     "output_type": "stream",
     "text": [
      "--> Compute dynamics:\n",
      "100.0%   20 of   20 [########################################] 00:00:00\n",
      "Elapsed time: 0.0s\n",
      "(80,)\n",
      "--> Compute dynamics:\n",
      "100.0%   20 of   20 [########################################] 00:00:00\n",
      "Elapsed time: 0.0s\n"
     ]
    },
    {
     "name": "stderr",
     "output_type": "stream",
     "text": [
      "c:\\Users\\Administrator\\Desktop\\Research\\OQuPy\\.venv\\Lib\\site-packages\\scipy\\optimize\\_lbfgsb_py.py:354: ComplexWarning: Casting complex values to real discards the imaginary part\n",
      "  g = g.astype(np.float64)\n"
     ]
    },
    {
     "name": "stdout",
     "output_type": "stream",
     "text": [
      "--> Compute dynamics:\n",
      "100.0%   20 of   20 [########################################] 00:00:00\n",
      "Elapsed time: 0.0s\n",
      "(80,)\n",
      "--> Compute dynamics:\n",
      "100.0%   20 of   20 [########################################] 00:00:00\n",
      "Elapsed time: 0.0s\n"
     ]
    },
    {
     "name": "stderr",
     "output_type": "stream",
     "text": [
      "c:\\Users\\Administrator\\Desktop\\Research\\OQuPy\\.venv\\Lib\\site-packages\\scipy\\optimize\\_lbfgsb_py.py:354: ComplexWarning: Casting complex values to real discards the imaginary part\n",
      "  g = g.astype(np.float64)\n"
     ]
    },
    {
     "name": "stdout",
     "output_type": "stream",
     "text": [
      "--> Compute dynamics:\n",
      "100.0%   20 of   20 [########################################] 00:00:00\n",
      "Elapsed time: 0.0s\n",
      "(80,)\n",
      "--> Compute dynamics:\n",
      "100.0%   20 of   20 [########################################] 00:00:00\n",
      "Elapsed time: 0.0s\n"
     ]
    },
    {
     "name": "stderr",
     "output_type": "stream",
     "text": [
      "c:\\Users\\Administrator\\Desktop\\Research\\OQuPy\\.venv\\Lib\\site-packages\\scipy\\optimize\\_lbfgsb_py.py:354: ComplexWarning: Casting complex values to real discards the imaginary part\n",
      "  g = g.astype(np.float64)\n"
     ]
    },
    {
     "name": "stdout",
     "output_type": "stream",
     "text": [
      "--> Compute dynamics:\n",
      "100.0%   20 of   20 [########################################] 00:00:00\n",
      "Elapsed time: 0.0s\n",
      "(80,)\n",
      "--> Compute dynamics:\n",
      "100.0%   20 of   20 [########################################] 00:00:00\n",
      "Elapsed time: 0.0s\n"
     ]
    },
    {
     "name": "stderr",
     "output_type": "stream",
     "text": [
      "c:\\Users\\Administrator\\Desktop\\Research\\OQuPy\\.venv\\Lib\\site-packages\\scipy\\optimize\\_lbfgsb_py.py:354: ComplexWarning: Casting complex values to real discards the imaginary part\n",
      "  g = g.astype(np.float64)\n"
     ]
    },
    {
     "name": "stdout",
     "output_type": "stream",
     "text": [
      "--> Compute dynamics:\n",
      "100.0%   20 of   20 [########################################] 00:00:00\n",
      "Elapsed time: 0.0s\n",
      "(80,)\n",
      "--> Compute dynamics:\n",
      "100.0%   20 of   20 [########################################] 00:00:00\n",
      "Elapsed time: 0.0s\n"
     ]
    },
    {
     "name": "stderr",
     "output_type": "stream",
     "text": [
      "c:\\Users\\Administrator\\Desktop\\Research\\OQuPy\\.venv\\Lib\\site-packages\\scipy\\optimize\\_lbfgsb_py.py:354: ComplexWarning: Casting complex values to real discards the imaginary part\n",
      "  g = g.astype(np.float64)\n"
     ]
    },
    {
     "name": "stdout",
     "output_type": "stream",
     "text": [
      "--> Compute dynamics:\n",
      "100.0%   20 of   20 [########################################] 00:00:00\n",
      "Elapsed time: 0.0s\n",
      "(80,)\n",
      "--> Compute dynamics:\n",
      "100.0%   20 of   20 [########################################] 00:00:00\n",
      "Elapsed time: 0.0s\n"
     ]
    },
    {
     "name": "stderr",
     "output_type": "stream",
     "text": [
      "c:\\Users\\Administrator\\Desktop\\Research\\OQuPy\\.venv\\Lib\\site-packages\\scipy\\optimize\\_lbfgsb_py.py:354: ComplexWarning: Casting complex values to real discards the imaginary part\n",
      "  g = g.astype(np.float64)\n"
     ]
    },
    {
     "name": "stdout",
     "output_type": "stream",
     "text": [
      "--> Compute dynamics:\n",
      "100.0%   20 of   20 [########################################] 00:00:00\n",
      "Elapsed time: 0.0s\n",
      "(80,)\n",
      "--> Compute dynamics:\n",
      "100.0%   20 of   20 [########################################] 00:00:00\n",
      "Elapsed time: 0.0s\n"
     ]
    },
    {
     "name": "stderr",
     "output_type": "stream",
     "text": [
      "c:\\Users\\Administrator\\Desktop\\Research\\OQuPy\\.venv\\Lib\\site-packages\\scipy\\optimize\\_lbfgsb_py.py:354: ComplexWarning: Casting complex values to real discards the imaginary part\n",
      "  g = g.astype(np.float64)\n"
     ]
    },
    {
     "name": "stdout",
     "output_type": "stream",
     "text": [
      "--> Compute dynamics:\n",
      "100.0%   20 of   20 [########################################] 00:00:00\n",
      "Elapsed time: 0.0s\n",
      "(80,)\n",
      "--> Compute dynamics:\n",
      "100.0%   20 of   20 [########################################] 00:00:00\n",
      "Elapsed time: 0.0s\n"
     ]
    },
    {
     "name": "stderr",
     "output_type": "stream",
     "text": [
      "c:\\Users\\Administrator\\Desktop\\Research\\OQuPy\\.venv\\Lib\\site-packages\\scipy\\optimize\\_lbfgsb_py.py:354: ComplexWarning: Casting complex values to real discards the imaginary part\n",
      "  g = g.astype(np.float64)\n"
     ]
    },
    {
     "name": "stdout",
     "output_type": "stream",
     "text": [
      "--> Compute dynamics:\n",
      "100.0%   20 of   20 [########################################] 00:00:00\n",
      "Elapsed time: 0.0s\n",
      "(80,)\n",
      "--> Compute dynamics:\n",
      "100.0%   20 of   20 [########################################] 00:00:00\n",
      "Elapsed time: 0.0s\n"
     ]
    },
    {
     "name": "stderr",
     "output_type": "stream",
     "text": [
      "c:\\Users\\Administrator\\Desktop\\Research\\OQuPy\\.venv\\Lib\\site-packages\\scipy\\optimize\\_lbfgsb_py.py:354: ComplexWarning: Casting complex values to real discards the imaginary part\n",
      "  g = g.astype(np.float64)\n"
     ]
    },
    {
     "name": "stdout",
     "output_type": "stream",
     "text": [
      "--> Compute dynamics:\n",
      "100.0%   20 of   20 [########################################] 00:00:00\n",
      "Elapsed time: 0.0s\n",
      "(80,)\n",
      "--> Compute dynamics:\n",
      "100.0%   20 of   20 [########################################] 00:00:00\n",
      "Elapsed time: 0.0s\n"
     ]
    },
    {
     "name": "stderr",
     "output_type": "stream",
     "text": [
      "c:\\Users\\Administrator\\Desktop\\Research\\OQuPy\\.venv\\Lib\\site-packages\\scipy\\optimize\\_lbfgsb_py.py:354: ComplexWarning: Casting complex values to real discards the imaginary part\n",
      "  g = g.astype(np.float64)\n"
     ]
    },
    {
     "name": "stdout",
     "output_type": "stream",
     "text": [
      "--> Compute dynamics:\n",
      "100.0%   20 of   20 [########################################] 00:00:00\n",
      "Elapsed time: 0.0s\n",
      "(80,)\n",
      "--> Compute dynamics:\n",
      "100.0%   20 of   20 [########################################] 00:00:00\n",
      "Elapsed time: 0.0s\n"
     ]
    },
    {
     "name": "stderr",
     "output_type": "stream",
     "text": [
      "c:\\Users\\Administrator\\Desktop\\Research\\OQuPy\\.venv\\Lib\\site-packages\\scipy\\optimize\\_lbfgsb_py.py:354: ComplexWarning: Casting complex values to real discards the imaginary part\n",
      "  g = g.astype(np.float64)\n"
     ]
    },
    {
     "name": "stdout",
     "output_type": "stream",
     "text": [
      "--> Compute dynamics:\n",
      "100.0%   20 of   20 [########################################] 00:00:00\n",
      "Elapsed time: 0.0s\n",
      "(80,)\n",
      "--> Compute dynamics:\n",
      "100.0%   20 of   20 [########################################] 00:00:00\n",
      "Elapsed time: 0.0s\n"
     ]
    },
    {
     "name": "stderr",
     "output_type": "stream",
     "text": [
      "c:\\Users\\Administrator\\Desktop\\Research\\OQuPy\\.venv\\Lib\\site-packages\\scipy\\optimize\\_lbfgsb_py.py:354: ComplexWarning: Casting complex values to real discards the imaginary part\n",
      "  g = g.astype(np.float64)\n"
     ]
    },
    {
     "name": "stdout",
     "output_type": "stream",
     "text": [
      "--> Compute dynamics:\n",
      "100.0%   20 of   20 [########################################] 00:00:00\n",
      "Elapsed time: 0.0s\n",
      "(80,)\n",
      "--> Compute dynamics:\n",
      "100.0%   20 of   20 [########################################] 00:00:00\n",
      "Elapsed time: 0.0s\n"
     ]
    },
    {
     "name": "stderr",
     "output_type": "stream",
     "text": [
      "c:\\Users\\Administrator\\Desktop\\Research\\OQuPy\\.venv\\Lib\\site-packages\\scipy\\optimize\\_lbfgsb_py.py:354: ComplexWarning: Casting complex values to real discards the imaginary part\n",
      "  g = g.astype(np.float64)\n"
     ]
    },
    {
     "name": "stdout",
     "output_type": "stream",
     "text": [
      "--> Compute dynamics:\n",
      "100.0%   20 of   20 [########################################] 00:00:00\n",
      "Elapsed time: 0.0s\n",
      "(80,)\n",
      "--> Compute dynamics:\n",
      "100.0%   20 of   20 [########################################] 00:00:00\n",
      "Elapsed time: 0.0s\n"
     ]
    },
    {
     "name": "stderr",
     "output_type": "stream",
     "text": [
      "c:\\Users\\Administrator\\Desktop\\Research\\OQuPy\\.venv\\Lib\\site-packages\\scipy\\optimize\\_lbfgsb_py.py:354: ComplexWarning: Casting complex values to real discards the imaginary part\n",
      "  g = g.astype(np.float64)\n"
     ]
    },
    {
     "name": "stdout",
     "output_type": "stream",
     "text": [
      "--> Compute dynamics:\n",
      "100.0%   20 of   20 [########################################] 00:00:00\n",
      "Elapsed time: 0.0s\n",
      "(80,)\n",
      "--> Compute dynamics:\n",
      "100.0%   20 of   20 [########################################] 00:00:00\n",
      "Elapsed time: 0.0s\n"
     ]
    },
    {
     "name": "stderr",
     "output_type": "stream",
     "text": [
      "c:\\Users\\Administrator\\Desktop\\Research\\OQuPy\\.venv\\Lib\\site-packages\\scipy\\optimize\\_lbfgsb_py.py:354: ComplexWarning: Casting complex values to real discards the imaginary part\n",
      "  g = g.astype(np.float64)\n"
     ]
    },
    {
     "name": "stdout",
     "output_type": "stream",
     "text": [
      "--> Compute dynamics:\n",
      "100.0%   20 of   20 [########################################] 00:00:00\n",
      "Elapsed time: 0.0s\n",
      "(80,)\n",
      "--> Compute dynamics:\n",
      "100.0%   20 of   20 [########################################] 00:00:00\n",
      "Elapsed time: 0.0s\n"
     ]
    },
    {
     "name": "stderr",
     "output_type": "stream",
     "text": [
      "c:\\Users\\Administrator\\Desktop\\Research\\OQuPy\\.venv\\Lib\\site-packages\\scipy\\optimize\\_lbfgsb_py.py:354: ComplexWarning: Casting complex values to real discards the imaginary part\n",
      "  g = g.astype(np.float64)\n"
     ]
    },
    {
     "name": "stdout",
     "output_type": "stream",
     "text": [
      "--> Compute dynamics:\n",
      "100.0%   20 of   20 [########################################] 00:00:00\n",
      "Elapsed time: 0.0s\n",
      "(80,)\n",
      "--> Compute dynamics:\n",
      "100.0%   20 of   20 [########################################] 00:00:00\n",
      "Elapsed time: 0.0s\n"
     ]
    },
    {
     "name": "stderr",
     "output_type": "stream",
     "text": [
      "c:\\Users\\Administrator\\Desktop\\Research\\OQuPy\\.venv\\Lib\\site-packages\\scipy\\optimize\\_lbfgsb_py.py:354: ComplexWarning: Casting complex values to real discards the imaginary part\n",
      "  g = g.astype(np.float64)\n"
     ]
    },
    {
     "name": "stdout",
     "output_type": "stream",
     "text": [
      "--> Compute dynamics:\n",
      "100.0%   20 of   20 [########################################] 00:00:00\n",
      "Elapsed time: 0.0s\n",
      "(80,)\n",
      "--> Compute dynamics:\n",
      "100.0%   20 of   20 [########################################] 00:00:00\n",
      "Elapsed time: 0.0s\n"
     ]
    },
    {
     "name": "stderr",
     "output_type": "stream",
     "text": [
      "c:\\Users\\Administrator\\Desktop\\Research\\OQuPy\\.venv\\Lib\\site-packages\\scipy\\optimize\\_lbfgsb_py.py:354: ComplexWarning: Casting complex values to real discards the imaginary part\n",
      "  g = g.astype(np.float64)\n"
     ]
    },
    {
     "name": "stdout",
     "output_type": "stream",
     "text": [
      "--> Compute dynamics:\n",
      "100.0%   20 of   20 [########################################] 00:00:00\n",
      "Elapsed time: 0.0s\n",
      "(80,)\n",
      "--> Compute dynamics:\n",
      "100.0%   20 of   20 [########################################] 00:00:00\n",
      "Elapsed time: 0.0s\n"
     ]
    },
    {
     "name": "stderr",
     "output_type": "stream",
     "text": [
      "c:\\Users\\Administrator\\Desktop\\Research\\OQuPy\\.venv\\Lib\\site-packages\\scipy\\optimize\\_lbfgsb_py.py:354: ComplexWarning: Casting complex values to real discards the imaginary part\n",
      "  g = g.astype(np.float64)\n"
     ]
    },
    {
     "name": "stdout",
     "output_type": "stream",
     "text": [
      "--> Compute dynamics:\n",
      "100.0%   20 of   20 [########################################] 00:00:00\n",
      "Elapsed time: 0.0s\n",
      "(80,)\n",
      "--> Compute dynamics:\n",
      "100.0%   20 of   20 [########################################] 00:00:00\n",
      "Elapsed time: 0.0s\n"
     ]
    },
    {
     "name": "stderr",
     "output_type": "stream",
     "text": [
      "c:\\Users\\Administrator\\Desktop\\Research\\OQuPy\\.venv\\Lib\\site-packages\\scipy\\optimize\\_lbfgsb_py.py:354: ComplexWarning: Casting complex values to real discards the imaginary part\n",
      "  g = g.astype(np.float64)\n"
     ]
    },
    {
     "name": "stdout",
     "output_type": "stream",
     "text": [
      "--> Compute dynamics:\n",
      "100.0%   20 of   20 [########################################] 00:00:00\n",
      "Elapsed time: 0.0s\n",
      "(80,)\n",
      "--> Compute dynamics:\n",
      "100.0%   20 of   20 [########################################] 00:00:00\n",
      "Elapsed time: 0.0s\n"
     ]
    },
    {
     "name": "stderr",
     "output_type": "stream",
     "text": [
      "c:\\Users\\Administrator\\Desktop\\Research\\OQuPy\\.venv\\Lib\\site-packages\\scipy\\optimize\\_lbfgsb_py.py:354: ComplexWarning: Casting complex values to real discards the imaginary part\n",
      "  g = g.astype(np.float64)\n"
     ]
    },
    {
     "name": "stdout",
     "output_type": "stream",
     "text": [
      "--> Compute dynamics:\n",
      "100.0%   20 of   20 [########################################] 00:00:00\n",
      "Elapsed time: 0.0s\n",
      "(80,)\n",
      "--> Compute dynamics:\n",
      "100.0%   20 of   20 [########################################] 00:00:00\n",
      "Elapsed time: 0.0s\n"
     ]
    },
    {
     "name": "stderr",
     "output_type": "stream",
     "text": [
      "c:\\Users\\Administrator\\Desktop\\Research\\OQuPy\\.venv\\Lib\\site-packages\\scipy\\optimize\\_lbfgsb_py.py:354: ComplexWarning: Casting complex values to real discards the imaginary part\n",
      "  g = g.astype(np.float64)\n"
     ]
    },
    {
     "name": "stdout",
     "output_type": "stream",
     "text": [
      "--> Compute dynamics:\n",
      "100.0%   20 of   20 [########################################] 00:00:00\n",
      "Elapsed time: 0.0s\n",
      "(80,)\n",
      "--> Compute dynamics:\n",
      "100.0%   20 of   20 [########################################] 00:00:00\n",
      "Elapsed time: 0.0s\n"
     ]
    },
    {
     "name": "stderr",
     "output_type": "stream",
     "text": [
      "c:\\Users\\Administrator\\Desktop\\Research\\OQuPy\\.venv\\Lib\\site-packages\\scipy\\optimize\\_lbfgsb_py.py:354: ComplexWarning: Casting complex values to real discards the imaginary part\n",
      "  g = g.astype(np.float64)\n"
     ]
    },
    {
     "name": "stdout",
     "output_type": "stream",
     "text": [
      "--> Compute dynamics:\n",
      "100.0%   20 of   20 [########################################] 00:00:00\n",
      "Elapsed time: 0.0s\n",
      "(80,)\n",
      "--> Compute dynamics:\n",
      "100.0%   20 of   20 [########################################] 00:00:00\n",
      "Elapsed time: 0.0s\n"
     ]
    },
    {
     "name": "stderr",
     "output_type": "stream",
     "text": [
      "c:\\Users\\Administrator\\Desktop\\Research\\OQuPy\\.venv\\Lib\\site-packages\\scipy\\optimize\\_lbfgsb_py.py:354: ComplexWarning: Casting complex values to real discards the imaginary part\n",
      "  g = g.astype(np.float64)\n"
     ]
    },
    {
     "name": "stdout",
     "output_type": "stream",
     "text": [
      "--> Compute dynamics:\n",
      "100.0%   20 of   20 [########################################] 00:00:00\n",
      "Elapsed time: 0.0s\n",
      "(80,)\n",
      "--> Compute dynamics:\n",
      "100.0%   20 of   20 [########################################] 00:00:00\n",
      "Elapsed time: 0.0s\n"
     ]
    },
    {
     "name": "stderr",
     "output_type": "stream",
     "text": [
      "c:\\Users\\Administrator\\Desktop\\Research\\OQuPy\\.venv\\Lib\\site-packages\\scipy\\optimize\\_lbfgsb_py.py:354: ComplexWarning: Casting complex values to real discards the imaginary part\n",
      "  g = g.astype(np.float64)\n"
     ]
    },
    {
     "name": "stdout",
     "output_type": "stream",
     "text": [
      "--> Compute dynamics:\n",
      "100.0%   20 of   20 [########################################] 00:00:00\n",
      "Elapsed time: 0.0s\n",
      "(80,)\n",
      "--> Compute dynamics:\n",
      "100.0%   20 of   20 [########################################] 00:00:00\n",
      "Elapsed time: 0.0s\n"
     ]
    },
    {
     "name": "stderr",
     "output_type": "stream",
     "text": [
      "c:\\Users\\Administrator\\Desktop\\Research\\OQuPy\\.venv\\Lib\\site-packages\\scipy\\optimize\\_lbfgsb_py.py:354: ComplexWarning: Casting complex values to real discards the imaginary part\n",
      "  g = g.astype(np.float64)\n"
     ]
    },
    {
     "name": "stdout",
     "output_type": "stream",
     "text": [
      "--> Compute dynamics:\n",
      "100.0%   20 of   20 [########################################] 00:00:00\n",
      "Elapsed time: 0.0s\n",
      "(80,)\n",
      "--> Compute dynamics:\n",
      "100.0%   20 of   20 [########################################] 00:00:00\n",
      "Elapsed time: 0.0s\n"
     ]
    },
    {
     "name": "stderr",
     "output_type": "stream",
     "text": [
      "c:\\Users\\Administrator\\Desktop\\Research\\OQuPy\\.venv\\Lib\\site-packages\\scipy\\optimize\\_lbfgsb_py.py:354: ComplexWarning: Casting complex values to real discards the imaginary part\n",
      "  g = g.astype(np.float64)\n"
     ]
    },
    {
     "name": "stdout",
     "output_type": "stream",
     "text": [
      "--> Compute dynamics:\n",
      "100.0%   20 of   20 [########################################] 00:00:00\n",
      "Elapsed time: 0.0s\n",
      "(80,)\n",
      "--> Compute dynamics:\n",
      "100.0%   20 of   20 [########################################] 00:00:00\n",
      "Elapsed time: 0.0s\n"
     ]
    },
    {
     "name": "stderr",
     "output_type": "stream",
     "text": [
      "c:\\Users\\Administrator\\Desktop\\Research\\OQuPy\\.venv\\Lib\\site-packages\\scipy\\optimize\\_lbfgsb_py.py:354: ComplexWarning: Casting complex values to real discards the imaginary part\n",
      "  g = g.astype(np.float64)\n"
     ]
    },
    {
     "name": "stdout",
     "output_type": "stream",
     "text": [
      "--> Compute dynamics:\n",
      "100.0%   20 of   20 [########################################] 00:00:00\n",
      "Elapsed time: 0.0s\n",
      "(80,)\n",
      "--> Compute dynamics:\n",
      "100.0%   20 of   20 [########################################] 00:00:00\n",
      "Elapsed time: 0.0s\n"
     ]
    },
    {
     "name": "stderr",
     "output_type": "stream",
     "text": [
      "c:\\Users\\Administrator\\Desktop\\Research\\OQuPy\\.venv\\Lib\\site-packages\\scipy\\optimize\\_lbfgsb_py.py:354: ComplexWarning: Casting complex values to real discards the imaginary part\n",
      "  g = g.astype(np.float64)\n"
     ]
    },
    {
     "name": "stdout",
     "output_type": "stream",
     "text": [
      "--> Compute dynamics:\n",
      "100.0%   20 of   20 [########################################] 00:00:00\n",
      "Elapsed time: 0.0s\n",
      "(80,)\n",
      "--> Compute dynamics:\n",
      "100.0%   20 of   20 [########################################] 00:00:00\n",
      "Elapsed time: 0.0s\n"
     ]
    },
    {
     "name": "stderr",
     "output_type": "stream",
     "text": [
      "c:\\Users\\Administrator\\Desktop\\Research\\OQuPy\\.venv\\Lib\\site-packages\\scipy\\optimize\\_lbfgsb_py.py:354: ComplexWarning: Casting complex values to real discards the imaginary part\n",
      "  g = g.astype(np.float64)\n"
     ]
    },
    {
     "name": "stdout",
     "output_type": "stream",
     "text": [
      "--> Compute dynamics:\n",
      "100.0%   20 of   20 [########################################] 00:00:00\n",
      "Elapsed time: 0.0s\n",
      "(80,)\n"
     ]
    },
    {
     "name": "stderr",
     "output_type": "stream",
     "text": [
      "c:\\Users\\Administrator\\Desktop\\Research\\OQuPy\\.venv\\Lib\\site-packages\\scipy\\optimize\\_lbfgsb_py.py:354: ComplexWarning: Casting complex values to real discards the imaginary part\n",
      "  g = g.astype(np.float64)\n"
     ]
    }
   ],
   "source": [
    "#x_bound = [-5,5]\n",
    "#z_bound = [-1,1]\n",
    "#bounds = np.zeros((2*num_steps*num_params,2))\n",
    "\n",
    "#for i in range(0, 2*num_params*num_steps,2):\n",
    "    #bounds[i] = x_bound\n",
    "    #bounds[i+1] = z_bound\n",
    "\n",
    "bounds = Bounds(lb=-5,ub=5)\n",
    "\n",
    "optimization_result = minimize(\n",
    "                        fun=infidelity,\n",
    "                        x0=flatten_list(parameter_list),\n",
    "                        method='L-BFGS-B',\n",
    "                        jac=fidelity_jacobian,\n",
    "                        bounds=bounds,\n",
    "                        callback=infidelity,\n",
    "                        options = {'disp':True}\n",
    ")\n",
    "\n"
   ]
  },
  {
   "cell_type": "code",
   "execution_count": 74,
   "metadata": {},
   "outputs": [
    {
     "name": "stdout",
     "output_type": "stream",
     "text": [
      "The maximal fidelity was found to be :  -0.04494156221659906\n",
      "The jacobian was found to be :  [-0.00073294 -0.00073294 -0.0006675  -0.0006675  -0.00073045 -0.00073045\n",
      " -0.00066182 -0.00066182 -0.0007261  -0.0007261  -0.00067016 -0.00067016\n",
      " -0.00070246 -0.00070246 -0.00067645 -0.00067645 -0.00064704 -0.00064704\n",
      " -0.00066116 -0.00066116 -0.00055935 -0.00055935 -0.00061335 -0.00061335\n",
      " -0.00045697 -0.00045697 -0.000537   -0.000537   -0.0003575  -0.0003575\n",
      " -0.00044849 -0.00044849 -0.00027384 -0.00027384 -0.00036259 -0.00036259\n",
      " -0.00021224 -0.00021224 -0.00028904 -0.00028904 -0.00017387 -0.00017387\n",
      " -0.00023233 -0.00023233 -0.00015758 -0.00015758 -0.00019292 -0.00019292\n",
      " -0.00016235 -0.00016235 -0.00017095 -0.00017095 -0.00018857 -0.00018857\n",
      " -0.00016769 -0.00016769 -0.00023948 -0.00023948 -0.00018668 -0.00018668\n",
      " -0.00032302 -0.00032302 -0.00023462 -0.00023462 -0.00045259 -0.00045259\n",
      " -0.00032235 -0.00032235 -0.0006448  -0.0006448  -0.00046504 -0.00046504\n",
      " -0.00090237 -0.00090237 -0.00067525 -0.00067525 -0.00117352 -0.00117352\n",
      " -0.0009391  -0.0009391 ]\n"
     ]
    },
    {
     "data": {
      "image/png": "[encoded data removed]",
      "text/plain": [
       "<Figure size 640x480 with 1 Axes>"
      ]
     },
     "metadata": {},
     "output_type": "display_data"
    },
    {
     "name": "stdout",
     "output_type": "stream",
     "text": [
      "--> Compute dynamics:\n",
      "100.0%   20 of   20 [########################################] 00:00:00\n",
      "Elapsed time: 0.0s\n",
      "21\n",
      "the fidelity is (0.9550584431410724-5.49815926478404e-10j)\n",
      "the fidelity gradient is [[-5.72656563e-05+1.02931444e-16j  7.90203946e-04-3.48869154e-16j]\n",
      " [-6.80782630e-05-4.99241219e-18j  7.35577130e-04-4.30008134e-16j]\n",
      " [-1.79688419e-04-1.61139548e-16j  9.10141174e-04-3.64806926e-16j]\n",
      " [-1.86526139e-04-5.96988821e-17j  8.48347901e-04-4.09909736e-16j]\n",
      " [-3.10011933e-04-1.44876515e-16j  1.03611037e-03-2.65954793e-16j]\n",
      " [-3.02311447e-04-2.11256793e-16j  9.72468116e-04-3.14879416e-16j]\n",
      " [-4.50996531e-04-6.01732206e-17j  1.15346021e-03-3.12467066e-16j]\n",
      " [-4.19392996e-04-1.61437703e-16j  1.09584094e-03-3.27483266e-16j]\n",
      " [-6.00762105e-04-6.77626358e-19j  1.24780710e-03-4.57438449e-16j]\n",
      " [-5.42376673e-04-3.79199710e-17j  1.20354089e-03-1.95888228e-16j]\n",
      " [-7.50073762e-04+3.17400186e-17j  1.30942021e-03-4.04895301e-16j]\n",
      " [-6.69346652e-04+1.59106669e-17j  1.28269921e-03-3.10190242e-16j]\n",
      " [-8.80709380e-04+1.91497209e-17j  1.33768289e-03-3.43299065e-16j]\n",
      " [-7.90263818e-04+4.29615111e-17j  1.32726714e-03-3.33527693e-16j]\n",
      " [-9.85599292e-04-4.72441097e-17j  1.34309877e-03-2.94333785e-16j]\n",
      " [-8.94004152e-04+2.29850861e-17j  1.34249023e-03-2.49054792e-16j]\n",
      " [-1.06866684e-03-1.07430883e-16j  1.34250990e-03-3.68398346e-16j]\n",
      " [-9.80276783e-04-8.29956763e-17j  1.34286247e-03-3.08170915e-16j]\n",
      " [-1.13729958e-03-3.23769874e-16j  1.34953978e-03-3.43475248e-16j]\n",
      " [-1.05571220e-03-1.69379484e-16j  1.34475113e-03-3.51240846e-16j]\n",
      " [-1.19427014e-03-2.62349821e-16j  1.36814197e-03-3.54561215e-16j]\n",
      " [-1.12523580e-03-3.41171319e-16j  1.35756649e-03-3.48550670e-16j]\n",
      " [-1.23451872e-03-2.24971951e-16j  1.39209546e-03-3.90543175e-16j]\n",
      " [-1.18701677e-03-2.97234026e-16j  1.37993232e-03-3.81886498e-16j]\n",
      " [-1.24832972e-03-4.35009017e-16j  1.41067775e-03-4.74799236e-16j]\n",
      " [-1.23150820e-03-2.86392004e-16j  1.40245599e-03-4.23735008e-16j]\n",
      " [-1.22831283e-03-7.03755630e-16j  1.41688040e-03-5.08931276e-16j]\n",
      " [-1.24756120e-03-5.05238212e-16j  1.41524790e-03-4.91052952e-16j]\n",
      " [-1.17347558e-03-4.19911501e-16j  1.41295158e-03-4.37807614e-16j]\n",
      " [-1.22881882e-03-6.66621706e-16j  1.41550335e-03-4.61654979e-16j]\n",
      " [-1.08557873e-03-9.36208576e-17j  1.40860054e-03-4.41453243e-16j]\n",
      " [-1.17522997e-03-4.45695184e-16j  1.40984572e-03-4.25122448e-16j]\n",
      " [-9.58426744e-04-2.77555756e-17j  1.41101229e-03-4.52186845e-16j]\n",
      " [-1.08595988e-03-1.03134732e-16j  1.40831408e-03-4.20168999e-16j]\n",
      " [-7.65814834e-04+8.64651233e-18j  1.41061037e-03-4.59972772e-16j]\n",
      " [-9.46524964e-04-2.77826807e-17j  1.41156621e-03-4.16496265e-16j]\n",
      " [-4.68853453e-04+2.60615097e-17j  1.37122761e-03-4.51353364e-16j]\n",
      " [-7.22224851e-04-8.25619954e-17j  1.39747808e-03-4.19342295e-16j]\n",
      " [-6.44134026e-05+5.02934283e-17j  1.23793571e-03-5.23886490e-16j]\n",
      " [-3.79210626e-04-2.42590236e-17j  1.31831389e-03-4.94667241e-16j]]\n"
     ]
    },
    {
     "name": "stderr",
     "output_type": "stream",
     "text": [
      "c:\\Users\\Administrator\\Desktop\\Research\\OQuPy\\.venv\\Lib\\site-packages\\matplotlib\\cbook.py:1699: ComplexWarning: Casting complex values to real discards the imaginary part\n",
      "  return math.isfinite(val)\n",
      "c:\\Users\\Administrator\\Desktop\\Research\\OQuPy\\.venv\\Lib\\site-packages\\matplotlib\\cbook.py:1345: ComplexWarning: Casting complex values to real discards the imaginary part\n",
      "  return np.asarray(x, float)\n"
     ]
    },
    {
     "data": {
      "image/png": "[encoded data removed]",
      "text/plain": [
       "<Figure size 640x480 with 1 Axes>"
      ]
     },
     "metadata": {},
     "output_type": "display_data"
    },
    {
     "data": {
      "image/png": "[encoded data removed]",
      "text/plain": [
       "<Figure size 640x480 with 1 Axes>"
      ]
     },
     "metadata": {},
     "output_type": "display_data"
    },
    {
     "name": "stderr",
     "output_type": "stream",
     "text": [
      "No artists with labels found to put in legend.  Note that artists whose label start with an underscore are ignored when legend() is called with no argument.\n"
     ]
    },
    {
     "data": {
      "image/png": "[encoded data removed]",
      "text/plain": [
       "<Figure size 640x480 with 1 Axes>"
      ]
     },
     "metadata": {},
     "output_type": "display_data"
    }
   ],
   "source": [
    "\n",
    "print(\"The maximal fidelity was found to be : \",-optimization_result.fun)\n",
    "\n",
    "print(\"The jacobian was found to be : \",optimization_result.jac)\n",
    "\n",
    "optimized_parameters_flat = optimization_result.x\n",
    "\n",
    "times = np.arange(0,2*num_steps)\n",
    "optimized_parameters = unflatten_list(optimized_parameters_flat)\n",
    "\n",
    "opt_params_x = np.array([parameter[0] for parameter in optimized_parameters])\n",
    "opt_params_z = np.array([parameter[1] for parameter in optimized_parameters])\n",
    "\n",
    "plt.plot(times,opt_params_x,label='x')\n",
    "plt.plot(times,opt_params_z,label='z')\n",
    "\n",
    "plt.legend()\n",
    "plt.show()\n",
    "\n",
    "optimized_dynamics = state_gradient(\n",
    "        system=parametrized_system,\n",
    "        initial_state=initial_state,\n",
    "        target_state=target_state,\n",
    "        process_tensor=process_tensor,\n",
    "        parameters=optimized_parameters,\n",
    "        return_fidelity=True,\n",
    "        return_dynamics=True)\n",
    "\n",
    "# --- Optimised Fidelity Gradient results ------\n",
    "\n",
    "print(f\"the fidelity is {optimized_dynamics['fidelity']}\")\n",
    "print(f\"the fidelity gradient is {optimized_dynamics['gradient']}\")\n",
    "\n",
    "# ----------- Optimised Dynamics on Bloch sphere -------------\n",
    "t, s_x = optimized_dynamics['dynamics'].expectations(op.sigma(\"x\"))\n",
    "t, s_y = optimized_dynamics['dynamics'].expectations(op.sigma(\"y\"))\n",
    "t, s_z = optimized_dynamics['dynamics'].expectations(op.sigma(\"z\"))\n",
    "\n",
    "plt.title(\"Evolution of components under optimised controls\")\n",
    "\n",
    "plt.plot(t,s_x,label='x')\n",
    "plt.plot(t,s_y,label='y')\n",
    "plt.plot(t,s_z,label='z')\n",
    "\n",
    "plt.legend()\n",
    "plt.show()\n",
    "\n",
    "# ----- Fidelity Gradient Graph --------\n",
    "\n",
    "opt_derivs_x = np.array([parameter[0] for parameter in optimized_dynamics['gradient']])\n",
    "opt_derivs_z = np.array([parameter[1] for parameter in optimized_dynamics['gradient']])\n",
    "\n",
    "\n",
    "final_opt_derivs_x = sum_adjacent_elements(opt_derivs_x)\n",
    "final_opt_derivs_z = sum_adjacent_elements(opt_derivs_z)\n",
    "\n",
    "\n",
    "plt.plot(t[:-1],final_opt_derivs_x,label='x')\n",
    "plt.plot(t[:-1],final_opt_derivs_z,label='z')\n",
    "\n",
    "plt.legend()\n",
    "plt.ylabel(r\"$\\frac{\\partial \\mathcal{F(T)}}{\\partial h_i (t)}$\",rotation=0,fontsize=16)\n",
    "plt.xlabel(\"t\")\n",
    "plt.show()\n",
    "\n",
    "# Optimised Fidelity Graph \n",
    "dynamics = optimized_dynamics['dynamics']\n",
    "fidelity=[]\n",
    "\n",
    "for state in dynamics.states:\n",
    "    sqrt_final_state = sqrtm(state)\n",
    "    intermediate_1 = sqrt_final_state @ target_state\n",
    "    inside_of_sqrt = intermediate_1 @ sqrt_final_state\n",
    "    fidelity.append((sqrtm(inside_of_sqrt).trace())**2)\n",
    "\n",
    "plt.plot(fidelity)\n",
    "plt.ylabel(r\"$\\mathcal{F} (t)$\",rotation=0,fontsize=16)\n",
    "plt.xlabel(\"t\")\n",
    "\n",
    "plt.legend()\n",
    "plt.show()\n"
   ]
  },
  {
   "cell_type": "code",
   "execution_count": null,
   "metadata": {},
   "outputs": [],
   "source": []
  },
  {
   "cell_type": "code",
   "execution_count": null,
   "metadata": {},
   "outputs": [],
   "source": []
  },
  {
   "cell_type": "code",
   "execution_count": null,
   "metadata": {},
   "outputs": [],
   "source": []
  }
 ],
 "metadata": {
  "kernelspec": {
   "display_name": ".venv",
   "language": "python",
   "name": "python3"
  },
  "language_info": {
   "codemirror_mode": {
    "name": "ipython",
    "version": 3
   },
   "file_extension": ".py",
   "mimetype": "text/x-python",
   "name": "python",
   "nbconvert_exporter": "python",
   "pygments_lexer": "ipython3",
   "version": "3.11.8"
  }
 },
 "nbformat": 4,
 "nbformat_minor": 2
}
