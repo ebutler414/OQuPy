{
 "cells": [
  {
   "cell_type": "markdown",
   "metadata": {},
   "source": [
    "# Quickstart\n",
    "\n",
    "A quick introduction on how to use the OQuPy package to compute the dynamics of a quantum system that is possibly strongly coupled to a structured environment. We illustrate this by applying the TEMPO method to the strongly coupled spin boson model.\n",
    "\n",
    "- [launch binder](https://mybinder.org/v2/gh/tempoCollaboration/OQuPy/HEAD?labpath=tutorials%2Fquickstart.ipynb) (runs in browser),\n",
    "- [download the jupyter file](https://raw.githubusercontent.com/tempoCollaboration/OQuPy/main/tutorials/quickstart.ipynb), or\n",
    "- read through the text below and code along."
   ]
  },
  {
   "cell_type": "markdown",
   "metadata": {},
   "source": [
    "**Contents:**\n",
    "\n",
    "* Example - The spin boson model\n",
    "    * 1. The model and its parameters\n",
    "    * 2. Create system, correlations and bath objects\n",
    "    * 3. TEMPO computation"
   ]
  },
  {
   "cell_type": "markdown",
   "metadata": {},
   "source": [
    "First, let's import OQuPy and some other packages we are going to use"
   ]
  },
  {
   "cell_type": "code",
   "execution_count": 1,
   "metadata": {},
   "outputs": [],
   "source": [
    "import sys\n",
    "sys.path.insert(0,'..')\n",
    "\n",
    "import oqupy\n",
    "import numpy as np\n",
    "import matplotlib.pyplot as plt"
   ]
  },
  {
   "cell_type": "markdown",
   "metadata": {},
   "source": [
    "and check what version of tempo we are using."
   ]
  },
  {
   "cell_type": "code",
   "execution_count": 2,
   "metadata": {},
   "outputs": [
    {
     "data": {
      "text/plain": [
       "'0.4.0'"
      ]
     },
     "execution_count": 2,
     "metadata": {},
     "output_type": "execute_result"
    }
   ],
   "source": [
    "oqupy.__version__"
   ]
  },
  {
   "cell_type": "markdown",
   "metadata": {},
   "source": [
    "Let's also import some shorthands for the spin Pauli operators and density matrices."
   ]
  },
  {
   "cell_type": "code",
   "execution_count": 3,
   "metadata": {},
   "outputs": [],
   "source": [
    "sigma_x = oqupy.operators.sigma(\"x\")\n",
    "sigma_y = oqupy.operators.sigma(\"y\")\n",
    "sigma_z = oqupy.operators.sigma(\"z\")\n",
    "up_density_matrix = oqupy.operators.spin_dm(\"z+\")\n",
    "down_density_matrix = oqupy.operators.spin_dm(\"z-\")"
   ]
  },
  {
   "cell_type": "markdown",
   "metadata": {},
   "source": [
    "-------------------------------------------------\n",
    "## Example - The spin boson model\n",
    "As a first example let's try to reconstruct one of the lines in figure 2a of [Strathearn2018] ([Nat. Comm. 9, 3322 (2018)](https://doi.org/10.1038/s41467-018-05617-3) / [arXiv:1711.09641v3](https://arxiv.org/abs/1711.09641)). In this example we compute the time evolution of a spin which is strongly coupled to an ohmic bath (spin-boson model). Before we go through this step by step below, let's have a brief look at the script that will do the job - just to have an idea where we are going:"
   ]
  },
  {
   "cell_type": "code",
   "execution_count": 4,
   "metadata": {},
   "outputs": [
    {
     "name": "stdout",
     "output_type": "stream",
     "text": [
      "--> TEMPO computation:\n",
      "100.0%  150 of  150 [########################################] 00:00:08\n",
      "Elapsed time: 8.5s\n"
     ]
    },
    {
     "data": {
      "text/plain": [
       "<matplotlib.legend.Legend at 0x7fd9c63c8d90>"
      ]
     },
     "execution_count": 4,
     "metadata": {},
     "output_type": "execute_result"
    },
    {
     "data": {
      "image/png": "[encoded data removed]",
      "text/plain": [
       "<Figure size 432x288 with 1 Axes>"
      ]
     },
     "metadata": {
      "needs_background": "light"
     },
     "output_type": "display_data"
    }
   ],
   "source": [
    "Omega = 1.0\n",
    "omega_cutoff = 5.0\n",
    "alpha = 0.3\n",
    "\n",
    "system = oqupy.System(0.5 * Omega * sigma_x)\n",
    "correlations = oqupy.PowerLawSD(alpha=alpha,\n",
    "                                zeta=1,\n",
    "                                cutoff=omega_cutoff,\n",
    "                                cutoff_type='exponential')\n",
    "bath = oqupy.Bath(0.5 * sigma_z, correlations)\n",
    "tempo_parameters = oqupy.TempoParameters(dt=0.1, dkmax=30, epsrel=10**(-4))\n",
    "\n",
    "dynamics = oqupy.tempo_compute(system=system,\n",
    "                               bath=bath,\n",
    "                               initial_state=up_density_matrix,\n",
    "                               start_time=0.0,\n",
    "                               end_time=15.0,\n",
    "                               parameters=tempo_parameters)\n",
    "t, s_z = dynamics.expectations(0.5*sigma_z, real=True)\n",
    "\n",
    "plt.plot(t, s_z, label=r'$\\alpha=0.3$')\n",
    "plt.xlabel(r'$t\\,\\Omega$')\n",
    "plt.ylabel(r'$\\langle\\sigma_z\\rangle$')\n",
    "plt.legend()"
   ]
  },
  {
   "cell_type": "markdown",
   "metadata": {},
   "source": [
    "### 1. The model and its parameters \n",
    "We consider a system Hamiltonian\n",
    "$$ H_{S} = \\frac{\\Omega}{2} \\hat{\\sigma}_x \\mathrm{,}$$\n",
    "a bath Hamiltonian\n",
    "$$ H_{B} = \\sum_k \\omega_k \\hat{b}^\\dagger_k \\hat{b}_k  \\mathrm{,}$$\n",
    "and an interaction Hamiltonian\n",
    "$$ H_{I} =  \\frac{1}{2} \\hat{\\sigma}_z \\sum_k \\left( g_k \\hat{b}^\\dagger_k + g^*_k \\hat{b}_k \\right) \\mathrm{,}$$\n",
    "where $\\hat{\\sigma}_i$ are the Pauli operators, and the $g_k$ and $\\omega_k$ are such that the spectral density $J(\\omega)$ is\n",
    "$$ J(\\omega) = \\sum_k |g_k|^2 \\delta(\\omega - \\omega_k) = 2 \\, \\alpha \\, \\omega \\, \\exp\\left(-\\frac{\\omega}{\\omega_\\mathrm{cutoff}}\\right) \\mathrm{.} $$\n",
    "Also, let's assume the initial density matrix of the spin is the up state\n",
    "$$ \\rho(0) = \\begin{pmatrix} 1 & 0 \\\\ 0 & 0 \\end{pmatrix} $$\n",
    "and the bath is initially at zero temperature."
   ]
  },
  {
   "cell_type": "markdown",
   "metadata": {},
   "source": [
    "For the numerical simulation it is advisable to choose a characteristic frequency and express all other physical parameters in terms of this frequency. Here, we choose $\\Omega$ for this and write:\n",
    "    \n",
    "* $\\Omega = 1.0 \\Omega$\n",
    "* $\\omega_c = 5.0 \\Omega$\n",
    "* $\\alpha = 0.3$"
   ]
  },
  {
   "cell_type": "code",
   "execution_count": 5,
   "metadata": {},
   "outputs": [],
   "source": [
    "Omega = 1.0\n",
    "omega_cutoff = 5.0\n",
    "alpha = 0.3"
   ]
  },
  {
   "cell_type": "markdown",
   "metadata": {},
   "source": [
    "### 2. Create system, correlations and bath objects"
   ]
  },
  {
   "cell_type": "markdown",
   "metadata": {},
   "source": [
    "#### System\n",
    "$$ H_{S} = \\frac{\\Omega}{2} \\hat{\\sigma}_x \\mathrm{,}$$"
   ]
  },
  {
   "cell_type": "code",
   "execution_count": 6,
   "metadata": {},
   "outputs": [],
   "source": [
    "system = oqupy.System(0.5 * Omega * sigma_x)"
   ]
  },
  {
   "cell_type": "markdown",
   "metadata": {},
   "source": [
    "#### Correlations\n",
    "$$ J(\\omega) = 2 \\, \\alpha \\, \\omega \\, \\exp\\left(-\\frac{\\omega}{\\omega_\\mathrm{cutoff}}\\right) $$"
   ]
  },
  {
   "cell_type": "markdown",
   "metadata": {},
   "source": [
    "Because the spectral density is of the standard power-law form,\n",
    "$$ J(\\omega) = 2 \\alpha \\frac{\\omega^\\zeta}{\\omega_c^{\\zeta-1}} X(\\omega,\\omega_c) $$\n",
    "with $\\zeta=1$ and $X$ of the type ``'exponential'`` we define the spectral density with:"
   ]
  },
  {
   "cell_type": "code",
   "execution_count": 7,
   "metadata": {},
   "outputs": [],
   "source": [
    "correlations = oqupy.PowerLawSD(alpha=alpha,\n",
    "                                  zeta=1,\n",
    "                                  cutoff=omega_cutoff,\n",
    "                                  cutoff_type='exponential')"
   ]
  },
  {
   "cell_type": "markdown",
   "metadata": {},
   "source": [
    "#### Bath\n",
    "The bath couples with the operator $\\frac{1}{2}\\hat{\\sigma}_z$ to the system."
   ]
  },
  {
   "cell_type": "code",
   "execution_count": 8,
   "metadata": {},
   "outputs": [],
   "source": [
    "bath = oqupy.Bath(0.5 * sigma_z, correlations)"
   ]
  },
  {
   "cell_type": "markdown",
   "metadata": {},
   "source": [
    "### 3. TEMPO computation\n",
    "Now, that we have the system and the bath objects ready we can compute the dynamics of the spin starting in the up state, from time $t=0$ to $t=5\\,\\Omega^{-1}$"
   ]
  },
  {
   "cell_type": "code",
   "execution_count": 9,
   "metadata": {},
   "outputs": [
    {
     "name": "stderr",
     "output_type": "stream",
     "text": [
      "/home/pip/documents/saints/phd/tempo/OQuPy/tutorials/../oqupy/tempo.py:850: UserWarning: Estimating parameters for TEMPO computation. No guarantee that resulting TEMPO computation converges towards the correct dynamics! Please refer to the TEMPO documentation and check convergence by varying the parameters for TEMPO manually.\n",
      "  warnings.warn(GUESS_WARNING_MSG, UserWarning)\n",
      "WARNING: Estimating parameters for TEMPO computation. No guarantee that resulting TEMPO computation converges towards the correct dynamics! Please refer to the TEMPO documentation and check convergence by varying the parameters for TEMPO manually.\n"
     ]
    },
    {
     "name": "stdout",
     "output_type": "stream",
     "text": [
      "--> TEMPO computation:\n",
      "100.0%   80 of   80 [########################################] 00:00:04\n",
      "Elapsed time: 4.3s\n"
     ]
    }
   ],
   "source": [
    "dynamics_1 = oqupy.tempo_compute(system=system,\n",
    "                                   bath=bath,\n",
    "                                   initial_state=up_density_matrix,\n",
    "                                   start_time=0.0,\n",
    "                                   end_time=5.0,\n",
    "                                   tolerance=0.01)"
   ]
  },
  {
   "cell_type": "markdown",
   "metadata": {},
   "source": [
    "and plot the result:"
   ]
  },
  {
   "cell_type": "code",
   "execution_count": 10,
   "metadata": {},
   "outputs": [
    {
     "data": {
      "text/plain": [
       "<matplotlib.legend.Legend at 0x7fd9c63263e0>"
      ]
     },
     "execution_count": 10,
     "metadata": {},
     "output_type": "execute_result"
    },
    {
     "data": {
      "image/png": "[encoded data removed]",
      "text/plain": [
       "<Figure size 432x288 with 1 Axes>"
      ]
     },
     "metadata": {
      "needs_background": "light"
     },
     "output_type": "display_data"
    }
   ],
   "source": [
    "t_1, z_1 = dynamics_1.expectations(0.5*sigma_z, real=True)\n",
    "plt.plot(t_1, z_1, label=r'$\\alpha=0.3$')\n",
    "plt.xlabel(r'$t\\,\\Omega$')\n",
    "plt.ylabel(r'$\\langle\\sigma_z\\rangle$')\n",
    "plt.legend()"
   ]
  },
  {
   "cell_type": "markdown",
   "metadata": {},
   "source": [
    "Yay! This looks like the plot in figure 2a [Strathearn2018]."
   ]
  },
  {
   "cell_type": "markdown",
   "metadata": {},
   "source": [
    "Let's have a look at the above warning. It said:\n",
    "\n",
    "```\n",
    "WARNING: Estimating parameters for TEMPO calculation. No guarantie that resulting TEMPO calculation converges towards the correct dynamics! Please refere to the TEMPO documentation and check convergence by varying the parameters for TEMPO manually.\n",
    "```\n",
    "We got this message because we didn't tell the package what parameters to use for the TEMPO computation, but instead only specified a `tolerance`. The package tries it's best by implicitly calling the function `oqupy.guess_tempo_parameters()` to find parameters that are appropriate for the spectral density and system objects given."
   ]
  },
  {
   "cell_type": "markdown",
   "metadata": {},
   "source": [
    "#### TEMPO Parameters"
   ]
  },
  {
   "cell_type": "markdown",
   "metadata": {},
   "source": [
    "There are **three key parameters** to a TEMPO computation:\n",
    "\n",
    "* `dt` - Length of a time step $\\delta t$ - It should be small enough such that a trotterisation between the system Hamiltonian and the environment it valid, and the environment auto-correlation function is reasonably well sampled.\n",
    "    \n",
    "* `dkmax` - Number of time steps $K \\in \\mathbb{N}$ - It must be large enough such that $\\delta t \\times K$ is larger than the neccessary memory time $\\tau_\\mathrm{cut}$.\n",
    "\n",
    "* `epsrel` - The maximal relative error $\\epsilon_\\mathrm{rel}$ in the singular value truncation - It must be small enough such that the numerical compression (using tensor network algorithms) does not truncate relevant correlations."
   ]
  },
  {
   "cell_type": "markdown",
   "metadata": {},
   "source": [
    "To choose the right set of initial parameters, we recommend to first use the `oqupy.guess_tempo_parameters()` function and then check with the helper function `oqupy.helpers.plot_correlations_with_parameters()` whether it satisfies the above requirements:"
   ]
  },
  {
   "cell_type": "code",
   "execution_count": 11,
   "metadata": {},
   "outputs": [
    {
     "name": "stderr",
     "output_type": "stream",
     "text": [
      "/home/pip/documents/saints/phd/tempo/OQuPy/tutorials/../oqupy/tempo.py:850: UserWarning: Estimating parameters for TEMPO computation. No guarantee that resulting TEMPO computation converges towards the correct dynamics! Please refer to the TEMPO documentation and check convergence by varying the parameters for TEMPO manually.\n",
      "  warnings.warn(GUESS_WARNING_MSG, UserWarning)\n",
      "WARNING: Estimating parameters for TEMPO computation. No guarantee that resulting TEMPO computation converges towards the correct dynamics! Please refer to the TEMPO documentation and check convergence by varying the parameters for TEMPO manually.\n"
     ]
    },
    {
     "name": "stdout",
     "output_type": "stream",
     "text": [
      "----------------------------------------------\n",
      "TempoParameters object: Roughly estimated parameters\n",
      " Estimated with 'guess_tempo_parameters()'\n",
      "  dt                   = 0.0625 \n",
      "  dkmax                = 37 \n",
      "  epsrel               = 2.4846963223857106e-05 \n",
      "  add_correlation_time = None \n",
      "\n"
     ]
    }
   ],
   "source": [
    "parameters = oqupy.guess_tempo_parameters(system=system,\n",
    "                                          bath=bath,\n",
    "                                          start_time=0.0,\n",
    "                                          end_time=5.0,\n",
    "                                          tolerance=0.01)\n",
    "print(parameters)"
   ]
  },
  {
   "cell_type": "code",
   "execution_count": 12,
   "metadata": {},
   "outputs": [
    {
     "data": {
      "text/plain": [
       "<AxesSubplot:>"
      ]
     },
     "execution_count": 12,
     "metadata": {},
     "output_type": "execute_result"
    },
    {
     "data": {
      "image/png": "[encoded data removed]",
      "text/plain": [
       "<Figure size 432x288 with 1 Axes>"
      ]
     },
     "metadata": {
      "needs_background": "light"
     },
     "output_type": "display_data"
    }
   ],
   "source": [
    "fig, ax = plt.subplots(1,1)\n",
    "oqupy.helpers.plot_correlations_with_parameters(bath.correlations, parameters, ax=ax)"
   ]
  },
  {
   "cell_type": "markdown",
   "metadata": {},
   "source": [
    "In this plot you see the real and imaginary part of the environments auto-correlation as a function of the delay time $\\tau$ and the sampling of it corresponding the the chosen parameters. The spacing and the number of sampling points is given by `dt` and `dkmax` respectively. We can see that the auto-correlation function is close to zero for delay times larger than approx $2 \\Omega^{-1}$ and that the sampling points follow the curve reasonably well. Thus this is a reasonable set of parameters."
   ]
  },
  {
   "cell_type": "markdown",
   "metadata": {},
   "source": [
    "We can choose a set of parameters by hand and bundle them into a `TempoParameters` object,"
   ]
  },
  {
   "cell_type": "code",
   "execution_count": 13,
   "metadata": {},
   "outputs": [
    {
     "name": "stdout",
     "output_type": "stream",
     "text": [
      "----------------------------------------------\n",
      "TempoParameters object: my rough parameters\n",
      " __no_description__\n",
      "  dt                   = 0.1 \n",
      "  dkmax                = 30 \n",
      "  epsrel               = 0.0001 \n",
      "  add_correlation_time = None \n",
      "\n"
     ]
    }
   ],
   "source": [
    "tempo_parameters = oqupy.TempoParameters(dt=0.1, dkmax=30, epsrel=10**(-4), name=\"my rough parameters\")\n",
    "print(tempo_parameters)"
   ]
  },
  {
   "cell_type": "markdown",
   "metadata": {},
   "source": [
    "and check again with the helper function:"
   ]
  },
  {
   "cell_type": "code",
   "execution_count": 14,
   "metadata": {},
   "outputs": [
    {
     "data": {
      "text/plain": [
       "<AxesSubplot:>"
      ]
     },
     "execution_count": 14,
     "metadata": {},
     "output_type": "execute_result"
    },
    {
     "data": {
      "image/png": "[encoded data removed]",
      "text/plain": [
       "<Figure size 432x288 with 1 Axes>"
      ]
     },
     "metadata": {
      "needs_background": "light"
     },
     "output_type": "display_data"
    }
   ],
   "source": [
    "fig, ax = plt.subplots(1,1)\n",
    "oqupy.helpers.plot_correlations_with_parameters(bath.correlations, tempo_parameters, ax=ax)"
   ]
  },
  {
   "cell_type": "markdown",
   "metadata": {},
   "source": [
    "We could feed this object into the `oqupy.tempo_compute()` function to get the dynamics of the system. However, instead of that, we can split up the work that `oqupy.tempo_compute()` does into several steps, which allows us to resume a computation to get later system dynamics without having to start over. For this we start with creating a `Tempo` object:"
   ]
  },
  {
   "cell_type": "code",
   "execution_count": 15,
   "metadata": {},
   "outputs": [],
   "source": [
    "tempo = oqupy.Tempo(system=system,\n",
    "                      bath=bath,\n",
    "                      parameters=tempo_parameters,\n",
    "                      initial_state=up_density_matrix,\n",
    "                      start_time=0.0)"
   ]
  },
  {
   "cell_type": "markdown",
   "metadata": {},
   "source": [
    "We can start by computing the dynamics up to time $5.0\\,\\Omega^{-1}$,"
   ]
  },
  {
   "cell_type": "code",
   "execution_count": 16,
   "metadata": {},
   "outputs": [
    {
     "name": "stdout",
     "output_type": "stream",
     "text": [
      "--> TEMPO computation:\n",
      "100.0%   50 of   50 [########################################] 00:00:01\n",
      "Elapsed time: 1.9s\n"
     ]
    },
    {
     "data": {
      "text/plain": [
       "<oqupy.dynamics.Dynamics at 0x7fd9c53e3760>"
      ]
     },
     "execution_count": 16,
     "metadata": {},
     "output_type": "execute_result"
    }
   ],
   "source": [
    "tempo.compute(end_time=5.0)"
   ]
  },
  {
   "cell_type": "markdown",
   "metadata": {},
   "source": [
    "then get and plot the dynamics of expecatation values,"
   ]
  },
  {
   "cell_type": "code",
   "execution_count": 17,
   "metadata": {},
   "outputs": [
    {
     "data": {
      "text/plain": [
       "<matplotlib.legend.Legend at 0x7fd9c4f45ba0>"
      ]
     },
     "execution_count": 17,
     "metadata": {},
     "output_type": "execute_result"
    },
    {
     "data": {
      "image/png": "[encoded data removed]",
      "text/plain": [
       "<Figure size 432x288 with 1 Axes>"
      ]
     },
     "metadata": {
      "needs_background": "light"
     },
     "output_type": "display_data"
    }
   ],
   "source": [
    "dynamics_2 = tempo.get_dynamics()\n",
    "plt.plot(*dynamics_2.expectations(0.5*sigma_z, real=True), label=r'$\\alpha=0.3$')\n",
    "plt.xlabel(r'$t\\,\\Omega$')\n",
    "plt.ylabel(r'$\\langle\\sigma_z\\rangle$')\n",
    "plt.legend()"
   ]
  },
  {
   "cell_type": "markdown",
   "metadata": {},
   "source": [
    "then continue the computation to $15.0\\,\\Omega^{-1}$,"
   ]
  },
  {
   "cell_type": "code",
   "execution_count": 18,
   "metadata": {},
   "outputs": [
    {
     "name": "stdout",
     "output_type": "stream",
     "text": [
      "--> TEMPO computation:\n",
      "100.0%  100 of  100 [########################################] 00:00:06\n",
      "Elapsed time: 6.1s\n"
     ]
    },
    {
     "data": {
      "text/plain": [
       "<oqupy.dynamics.Dynamics at 0x7fd9c53e3760>"
      ]
     },
     "execution_count": 18,
     "metadata": {},
     "output_type": "execute_result"
    }
   ],
   "source": [
    "tempo.compute(end_time=15.0)"
   ]
  },
  {
   "cell_type": "markdown",
   "metadata": {},
   "source": [
    "and then again get and plot the dynamics of expecatation values."
   ]
  },
  {
   "cell_type": "code",
   "execution_count": 19,
   "metadata": {},
   "outputs": [
    {
     "data": {
      "text/plain": [
       "<matplotlib.legend.Legend at 0x7fd9c5f05870>"
      ]
     },
     "execution_count": 19,
     "metadata": {},
     "output_type": "execute_result"
    },
    {
     "data": {
      "image/png": "[encoded data removed]",
      "text/plain": [
       "<Figure size 432x288 with 1 Axes>"
      ]
     },
     "metadata": {
      "needs_background": "light"
     },
     "output_type": "display_data"
    }
   ],
   "source": [
    "dynamics_2 = tempo.get_dynamics()\n",
    "plt.plot(*dynamics_2.expectations(0.5*sigma_z, real=True), label=r'$\\alpha=0.3$')\n",
    "plt.xlabel(r'$t\\,\\Omega$')\n",
    "plt.ylabel(r'$\\langle\\sigma_z\\rangle$')\n",
    "plt.legend()"
   ]
  },
  {
   "cell_type": "markdown",
   "metadata": {},
   "source": [
    "Finally, we note: to validate the accuracy the result **it vital to check the convergence of such a simulation by varying all three computational parameters!** For this we recommend repeating the same simulation with slightly \"better\" parameters (smaller `dt`, larger `dkmax`, smaller `epsrel`) and to consider the difference of the result as an estimate of the upper bound of the accuracy of the simulation."
   ]
  },
  {
   "cell_type": "markdown",
   "metadata": {},
   "source": [
    "-------------------------------------------------"
   ]
  }
 ],
 "metadata": {
  "interpreter": {
   "hash": "3306e98808c0871e8a1685f50cc307ae5b4a4a013844b10634a4efe89132c3fe"
  },
  "kernelspec": {
   "display_name": "Python 3 (ipykernel)",
   "language": "python",
   "name": "python3"
  },
  "language_info": {
   "codemirror_mode": {
    "name": "ipython",
    "version": 3
   },
   "file_extension": ".py",
   "mimetype": "text/x-python",
   "name": "python",
   "nbconvert_exporter": "python",
   "pygments_lexer": "ipython3",
   "version": "3.10.8"
  },
  "widgets": {
   "application/vnd.jupyter.widget-state+json": {
    "state": {},
    "version_major": 1,
    "version_minor": 0
   }
  }
 },
 "nbformat": 4,
 "nbformat_minor": 2
}
