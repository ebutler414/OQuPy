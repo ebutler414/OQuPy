{
 "cells": [
  {
   "attachments": {},
   "cell_type": "markdown",
   "metadata": {},
   "source": [
    "# Gradient based optimisation using PT-MPO\n",
    "\n",
    "In this tutorial, ah here i'm not arsed writing this right now\n"
   ]
  },
  {
   "cell_type": "code",
   "execution_count": 1,
   "metadata": {},
   "outputs": [],
   "source": [
    "import numpy as np\n",
    "import oqupy\n",
    "import matplotlib.pyplot as plt"
   ]
  },
  {
   "attachments": {},
   "cell_type": "markdown",
   "metadata": {},
   "source": [
    "## Setting up the system and the optimisation problem\n",
    "\n",
    "The first thing we do is set up the problem, generate a process tensor, save it, write a cost function"
   ]
  },
  {
   "cell_type": "code",
   "execution_count": 2,
   "metadata": {},
   "outputs": [],
   "source": [
    "dt = 0.05\n",
    "dkmax = 60\n",
    "esprel = 10**(-7)\n",
    "alpha = 0.126\n",
    "\n",
    "omega_cutoff = 3.04\n"
   ]
  },
  {
   "cell_type": "code",
   "execution_count": 3,
   "metadata": {},
   "outputs": [],
   "source": [
    "\n",
    "temperature = 5 * 0.1309 # 1K = 0.1309/ps in natural units\n",
    "max_time = 5\n",
    "\n",
    "correlations = oqupy.PowerLawSD(alpha=alpha,\n",
    "                                zeta=3,\n",
    "                                cutoff=omega_cutoff,\n",
    "                                cutoff_type='gaussian',\n",
    "                                temperature=temperature)\n",
    "bath = oqupy.Bath(oqupy.operators.sigma(\"z\")/2.0, correlations)\n",
    "\n",
    "tempo_params = oqupy.TempoParameters(dt=dt, dkmax=dkmax, epsrel=esprel)\n",
    "\n",
    "\n",
    "# process_tensor = oqupy.pt_tempo_compute(bath=bath,\n",
    "#                                         start_time=0,\n",
    "#                                         end_time=max_time,\n",
    "#                                         parameters=tempo_params,\n",
    "#                                         # progress_type='silent'\n",
    "#                                         )\n",
    "\n",
    "# process_tensor.export('optimisation_pt.processTensor',overwrite=True)"
   ]
  },
  {
   "cell_type": "code",
   "execution_count": 4,
   "metadata": {},
   "outputs": [],
   "source": [
    "process_tensor = oqupy.import_process_tensor('optimisation_pt.processTensor','simple')"
   ]
  },
  {
   "attachments": {},
   "cell_type": "markdown",
   "metadata": {},
   "source": [
    "### Defining the objective function\n",
    "\n",
    "There are two parts that are necessary: \n",
    "\n",
    "- A cost function, which in the case of this tutorial will be the Ullmann Fidelity / Infidelity between a target *pure* state $|\\sigma\\rangle$ and a final density matrix which will be computed by PT-MPO $\\rho_f$\n",
    "$$\n",
    "\\mathcal{F} = \\langle\\sigma|\\rho_f|\\sigma\\rangle\n",
    "$$\n",
    "\n",
    "- A gradient function which computes $\\frac{\\partial\\mathcal{F}}{\\partial c_i}$\n",
    "\n",
    "First we state the cost function and then show how to get the gradient using the adjoint method and the `oqupy.get_gradient_and_dynamics` function\n",
    "\n",
    "Before this we need to specify a system hamiltonian.\n",
    "\n",
    "#### Defining the system hamiltonian\n",
    "\n",
    "For simplicity we will restrict ourselves to a two level system where we apply fields conjugate to two of the spin operators\n",
    "\n",
    "$$\n",
    "H_{\\text{sys}} = h_x S_x + h_z S_z\n",
    "$$\n",
    "\n",
    "The hamiltonian is discretised into timesteps of duration `dt` and we choose the discrete value $h_\\bullet$ to be constant across each timestep. We make no other form of parameterisation."
   ]
  },
  {
   "cell_type": "code",
   "execution_count": 5,
   "metadata": {},
   "outputs": [],
   "source": [
    "from scipy.interpolate import interp1d\n",
    "from oqupy.process_tensor import BaseProcessTensor\n",
    "from oqupy.helpers import get_full_timesteps\n"
   ]
  },
  {
   "cell_type": "code",
   "execution_count": 6,
   "metadata": {},
   "outputs": [],
   "source": [
    "\n",
    "def get_hamiltonian(hx:np.ndarray,hz:np.ndarray,pt:BaseProcessTensor):\n",
    "\n",
    "    # interp doesn't extrapolate beyond the last point so any time after t-dt will be out of bounds\n",
    "    # need to duplicate the final point so we create the very last 'pixel\n",
    "    expval_times = get_full_timesteps(pt,0)\n",
    "    assert hx.size == expval_times.size, 'hx must be same length as number of timesteps'\n",
    "    assert hz.size == expval_times.size, 'hz must be same length as number of timesteps'\n",
    "    # expval_times plus one timestep\n",
    "    expval_times_p1 = np.concatenate((expval_times,np.array([pt.dt * len(pt)])))\n",
    "    # duplicate last element so any time between t_f-dt and t_f falls within this 'pixel'\n",
    "    # otherwise scipy interp1d doesn't like extrapolating so calls it out of bounds\n",
    "    hx_p1 = np.concatenate((hx,np.array([hx[-1]])))\n",
    "    hz_p1 = np.concatenate((hz,np.array([hz[-1]])))\n",
    "\n",
    "    hx_interp = interp1d(expval_times_p1,hx_p1,kind='zero')\n",
    "    hz_interp = interp1d(expval_times_p1,hz_p1,kind='zero')\n",
    "\n",
    "    def hamiltonian_t(t):\n",
    "        _hx = hx_interp(t)\n",
    "        _hz = hz_interp(t)\n",
    "\n",
    "        hx_sx = 0.5 * oqupy.operators.sigma('x') * _hx\n",
    "        hz_sz = 0.5 * oqupy.operators.sigma('z') * _hz\n",
    "        hamiltonian = hz_sz + hx_sx\n",
    "        return hamiltonian\n",
    "\n",
    "    return hamiltonian_t"
   ]
  },
  {
   "cell_type": "code",
   "execution_count": 7,
   "metadata": {},
   "outputs": [],
   "source": [
    "# times = get_full_timesteps(process_tensor,0)\n",
    "# # pi pulse conjugate to s_z\n",
    "# h_z = np.ones(times.size) *np.pi / max_time\n",
    "# h_x = np.zeros(times.size)\n",
    "# hamiltonian_t = get_hamiltonian(hx=h_x,hz=h_z,pt=process_tensor)\n",
    "# hamiltonian_t(4.0)"
   ]
  },
  {
   "attachments": {},
   "cell_type": "markdown",
   "metadata": {},
   "source": [
    "Now the cost function:"
   ]
  },
  {
   "cell_type": "code",
   "execution_count": 8,
   "metadata": {},
   "outputs": [],
   "source": [
    "\n",
    "def cost_function(\n",
    "                control_parameters,\n",
    "                pt,\n",
    "                initial_state = oqupy.operators.spin_dm(\"z-\"),\n",
    "                target_state = oqupy.operators.spin_dm(\"z+\")):\n",
    "\n",
    "\n",
    "    # take some arbitrary hamiltonian (will specify this later)\n",
    "    hamiltonian_t = get_hamiltonian(control_parameters,pt)#  this obv broken\n",
    "\n",
    "\n",
    "    system = oqupy.TimeDependentSystem(hamiltonian_t)\n",
    "    final_state = oqupy.compute_dynamics(\n",
    "                    system,\n",
    "                    initial_state,\n",
    "                    start_time=0,\n",
    "                    process_tensor=pt)\n",
    "    final_state = pt.compute(system,initial_state=initial_state)\n",
    "    fidelity = 1 - np.matmul(final_state,target_state).trace() # infidelity\n",
    "\n",
    "    return fidelity.real\n"
   ]
  },
  {
   "attachments": {},
   "cell_type": "markdown",
   "metadata": {},
   "source": [
    "Now the gradient:\n",
    "\n",
    "We start off by finding the finite difference routine that will get the derivative of the system propagators with respect to the control parameters defined above. The finite difference routine is"
   ]
  },
  {
   "attachments": {},
   "cell_type": "markdown",
   "metadata": {},
   "source": [
    "Now we show the gradient function:\n",
    "\n",
    "We note that because the gradient and cost funciton are defined seperatedly, which is somewhat ineficient because we cannot take into account that when calculating the gradient the fidelity is also calculated. This should probabkly be fixed and i'd imagine is also not an issue with the Krotov algorithm.\n",
    "\n",
    "We restrict ourselves to an optimisation where each time-step is an optimisation parameter, and we take a finite difference chain rule as described in the other tutorial"
   ]
  },
  {
   "cell_type": "code",
   "execution_count": 9,
   "metadata": {},
   "outputs": [],
   "source": [
    "from scipy.linalg import expm\n",
    "from typing import Optional"
   ]
  },
  {
   "cell_type": "code",
   "execution_count": 10,
   "metadata": {},
   "outputs": [],
   "source": [
    "\n",
    "def time_dependent_finite_difference(\n",
    "                    process_tensor,\n",
    "                    system,\n",
    "                    times,  # again same point as above, why does it need to be repeated.\n",
    "                    operator, #the operator to differentiate wrt\n",
    "                    h=10**(-6),\n",
    "                    timesteps_used: Optional[int] = None): # finite difference timestep\n",
    "    '''this is a very specific case where the number of derivatives == the number of half timestep propagators\n",
    "    TODO: figure out if that's actually correct'''\n",
    "\n",
    "    ham=system.hamiltonian\n",
    "\n",
    "    def dpropagator(system,\n",
    "        t, # expectation value times\n",
    "        dt,\n",
    "        op,\n",
    "        h):\n",
    "        temp=h # i don't know what this does\n",
    "        h=temp\n",
    "        '''\n",
    "        deriv of propagator wrt the pre node and the post node\n",
    "        '''\n",
    "\n",
    "        post_liouvillian_plus_h=-1j * oqupy.operators.commutator(ham(t+dt*3.0/4.0)+h*op)\n",
    "        post_liouvillian_minus_h=-1j * oqupy.operators.commutator(ham(t+dt*3.0/4.0)-h*op)\n",
    "\n",
    "        post_propagator_plus_h=expm(post_liouvillian_plus_h*dt/2.0).T\n",
    "        post_propagator_minus_h=expm(post_liouvillian_minus_h*dt/2.0).T\n",
    "\n",
    "        postderiv=(post_propagator_plus_h-post_propagator_minus_h)/(2.*h)\n",
    "\n",
    "        pre_liouvillian_plus_h=-1j * oqupy.operators.commutator(ham(t+dt*1.0/4.0)+h*op)\n",
    "        pre_liouvillian_minus_h=-1j * oqupy.operators.commutator(ham(t+dt*1.0/4.0)-h*op)\n",
    "\n",
    "        pre_propagator_plus_h=expm(pre_liouvillian_plus_h*dt/2.0).T\n",
    "        pre_propagator_minus_h=expm(pre_liouvillian_minus_h*dt/2.0).T\n",
    "        prederiv=(pre_propagator_plus_h-pre_propagator_minus_h)/(2.*h)\n",
    "        return prederiv,postderiv\n",
    "\n",
    "    # pre_derivs = []\n",
    "    # post_derivs = []\n",
    "    derivs = []\n",
    "\n",
    "    for step in range(times.size):\n",
    "        prederiv,postderiv=dpropagator(system,times[step],process_tensor.dt,operator,h)\n",
    "        derivs.append(prederiv)\n",
    "        derivs.append(postderiv)\n",
    "\n",
    "    return derivs\n"
   ]
  },
  {
   "attachments": {},
   "cell_type": "markdown",
   "metadata": {},
   "source": [
    "lets see what the gradient of a constant $\\pi$ pulse looks like"
   ]
  },
  {
   "cell_type": "code",
   "execution_count": 11,
   "metadata": {},
   "outputs": [
    {
     "name": "stdout",
     "output_type": "stream",
     "text": [
      "--> Compute dynamics:\n",
      "100.0%  100 of  100 [########################################] 00:00:06\n",
      "Elapsed time: 6.1s\n"
     ]
    },
    {
     "ename": "ValueError",
     "evalue": "Cannot connect edges of unequal dimension. Dimension of edge '__unnamed_edge__': 1, Dimension of edge '__unnamed_edge__': 3.",
     "output_type": "error",
     "traceback": [
      "\u001b[0;31m---------------------------------------------------------------------------\u001b[0m",
      "\u001b[0;31mValueError\u001b[0m                                Traceback (most recent call last)",
      "\u001b[1;32m/home/eobutler/dev/OQuPy/tutorials/gradient_based_optimisation.ipynb Cell 18'\u001b[0m in \u001b[0;36m<cell line: 16>\u001b[0;34m()\u001b[0m\n\u001b[1;32m      <a href='vscode-notebook-cell:/home/eobutler/dev/OQuPy/tutorials/gradient_based_optimisation.ipynb#ch0000016?line=8'>9</a>\u001b[0m dprop_dpram_derivs \u001b[39m=\u001b[39m time_dependent_finite_difference(\n\u001b[1;32m     <a href='vscode-notebook-cell:/home/eobutler/dev/OQuPy/tutorials/gradient_based_optimisation.ipynb#ch0000016?line=9'>10</a>\u001b[0m                 process_tensor\u001b[39m=\u001b[39mprocess_tensor,\n\u001b[1;32m     <a href='vscode-notebook-cell:/home/eobutler/dev/OQuPy/tutorials/gradient_based_optimisation.ipynb#ch0000016?line=10'>11</a>\u001b[0m                 system\u001b[39m=\u001b[39msystem,\n\u001b[1;32m     <a href='vscode-notebook-cell:/home/eobutler/dev/OQuPy/tutorials/gradient_based_optimisation.ipynb#ch0000016?line=11'>12</a>\u001b[0m                 times\u001b[39m=\u001b[39mtimes,operator\u001b[39m=\u001b[39moqupy\u001b[39m.\u001b[39moperators\u001b[39m.\u001b[39msigma(\u001b[39m'\u001b[39m\u001b[39mx\u001b[39m\u001b[39m'\u001b[39m))\n\u001b[1;32m     <a href='vscode-notebook-cell:/home/eobutler/dev/OQuPy/tutorials/gradient_based_optimisation.ipynb#ch0000016?line=13'>14</a>\u001b[0m dprop_dpram_times \u001b[39m=\u001b[39m get_half_timesteps(process_tensor,\u001b[39m0\u001b[39m)\n\u001b[0;32m---> <a href='vscode-notebook-cell:/home/eobutler/dev/OQuPy/tutorials/gradient_based_optimisation.ipynb#ch0000016?line=15'>16</a>\u001b[0m total_derivs \u001b[39m=\u001b[39m oqupy\u001b[39m.\u001b[39;49mgradient(\n\u001b[1;32m     <a href='vscode-notebook-cell:/home/eobutler/dev/OQuPy/tutorials/gradient_based_optimisation.ipynb#ch0000016?line=16'>17</a>\u001b[0m                 system\u001b[39m=\u001b[39;49msystem,\n\u001b[1;32m     <a href='vscode-notebook-cell:/home/eobutler/dev/OQuPy/tutorials/gradient_based_optimisation.ipynb#ch0000016?line=17'>18</a>\u001b[0m                 initial_state\u001b[39m=\u001b[39;49moqupy\u001b[39m.\u001b[39;49moperators\u001b[39m.\u001b[39;49mspin_dm(\u001b[39m'\u001b[39;49m\u001b[39mz-\u001b[39;49m\u001b[39m'\u001b[39;49m),\n\u001b[1;32m     <a href='vscode-notebook-cell:/home/eobutler/dev/OQuPy/tutorials/gradient_based_optimisation.ipynb#ch0000016?line=18'>19</a>\u001b[0m                 target_state\u001b[39m=\u001b[39;49moqupy\u001b[39m.\u001b[39;49moperators\u001b[39m.\u001b[39;49mspin_dm(\u001b[39m'\u001b[39;49m\u001b[39mz+\u001b[39;49m\u001b[39m'\u001b[39;49m),\n\u001b[1;32m     <a href='vscode-notebook-cell:/home/eobutler/dev/OQuPy/tutorials/gradient_based_optimisation.ipynb#ch0000016?line=19'>20</a>\u001b[0m                 dprop_dparam_list\u001b[39m=\u001b[39;49mdprop_dpram_derivs,\n\u001b[1;32m     <a href='vscode-notebook-cell:/home/eobutler/dev/OQuPy/tutorials/gradient_based_optimisation.ipynb#ch0000016?line=20'>21</a>\u001b[0m                 dprop_times_list\u001b[39m=\u001b[39;49mdprop_dpram_times,\n\u001b[1;32m     <a href='vscode-notebook-cell:/home/eobutler/dev/OQuPy/tutorials/gradient_based_optimisation.ipynb#ch0000016?line=21'>22</a>\u001b[0m                 process_tensor\u001b[39m=\u001b[39;49mprocess_tensor,)\n",
      "File \u001b[0;32m~/dev/OQuPy/oqupy/gradient.py:108\u001b[0m, in \u001b[0;36mgradient\u001b[0;34m(system, initial_state, target_state, dprop_dparam_list, dprop_times_list, dt, num_steps, start_time, process_tensor, control, record_all, subdiv_limit, liouvillian_epsrel, progress_type)\u001b[0m\n\u001b[1;32m    <a href='file:///home/eobutler/dev/OQuPy/oqupy/gradient.py?line=101'>102</a>\u001b[0m parsed_parameters \u001b[39m=\u001b[39m _compute_dynamics_input_parse(\n\u001b[1;32m    <a href='file:///home/eobutler/dev/OQuPy/oqupy/gradient.py?line=102'>103</a>\u001b[0m     \u001b[39mFalse\u001b[39;00m, system, initial_state, dt, num_steps, start_time,\n\u001b[1;32m    <a href='file:///home/eobutler/dev/OQuPy/oqupy/gradient.py?line=103'>104</a>\u001b[0m     process_tensor, control, record_all)\n\u001b[1;32m    <a href='file:///home/eobutler/dev/OQuPy/oqupy/gradient.py?line=104'>105</a>\u001b[0m system, initial_state, dt, num_steps, start_time, \\\n\u001b[1;32m    <a href='file:///home/eobutler/dev/OQuPy/oqupy/gradient.py?line=105'>106</a>\u001b[0m     process_tensors, control, record_all, hs_dim \u001b[39m=\u001b[39m parsed_parameters\n\u001b[0;32m--> <a href='file:///home/eobutler/dev/OQuPy/oqupy/gradient.py?line=107'>108</a>\u001b[0m gradient_dynamics \u001b[39m=\u001b[39m compute_gradient_and_dynamics(\n\u001b[1;32m    <a href='file:///home/eobutler/dev/OQuPy/oqupy/gradient.py?line=108'>109</a>\u001b[0m                 system\u001b[39m=\u001b[39;49msystem,\n\u001b[1;32m    <a href='file:///home/eobutler/dev/OQuPy/oqupy/gradient.py?line=109'>110</a>\u001b[0m                 initial_state\u001b[39m=\u001b[39;49minitial_state,\n\u001b[1;32m    <a href='file:///home/eobutler/dev/OQuPy/oqupy/gradient.py?line=110'>111</a>\u001b[0m                 target_state\u001b[39m=\u001b[39;49mtarget_state,\n\u001b[1;32m    <a href='file:///home/eobutler/dev/OQuPy/oqupy/gradient.py?line=111'>112</a>\u001b[0m                 dt\u001b[39m=\u001b[39;49mdt,\n\u001b[1;32m    <a href='file:///home/eobutler/dev/OQuPy/oqupy/gradient.py?line=112'>113</a>\u001b[0m                 num_steps\u001b[39m=\u001b[39;49mnum_steps,\n\u001b[1;32m    <a href='file:///home/eobutler/dev/OQuPy/oqupy/gradient.py?line=113'>114</a>\u001b[0m                 start_time\u001b[39m=\u001b[39;49mstart_time,\n\u001b[1;32m    <a href='file:///home/eobutler/dev/OQuPy/oqupy/gradient.py?line=114'>115</a>\u001b[0m                 process_tensor\u001b[39m=\u001b[39;49mprocess_tensors,\n\u001b[1;32m    <a href='file:///home/eobutler/dev/OQuPy/oqupy/gradient.py?line=115'>116</a>\u001b[0m                 control\u001b[39m=\u001b[39;49mcontrol,\n\u001b[1;32m    <a href='file:///home/eobutler/dev/OQuPy/oqupy/gradient.py?line=116'>117</a>\u001b[0m                 record_all\u001b[39m=\u001b[39;49mrecord_all,\n\u001b[1;32m    <a href='file:///home/eobutler/dev/OQuPy/oqupy/gradient.py?line=117'>118</a>\u001b[0m                 subdiv_limit\u001b[39m=\u001b[39;49msubdiv_limit,\n\u001b[1;32m    <a href='file:///home/eobutler/dev/OQuPy/oqupy/gradient.py?line=118'>119</a>\u001b[0m                 liouvillian_epsrel\u001b[39m=\u001b[39;49mliouvillian_epsrel,\n\u001b[1;32m    <a href='file:///home/eobutler/dev/OQuPy/oqupy/gradient.py?line=119'>120</a>\u001b[0m                 progress_type\u001b[39m=\u001b[39;49mprogress_type)\n\u001b[1;32m    <a href='file:///home/eobutler/dev/OQuPy/oqupy/gradient.py?line=121'>122</a>\u001b[0m total_derivs \u001b[39m=\u001b[39m _chain_rule(\n\u001b[1;32m    <a href='file:///home/eobutler/dev/OQuPy/oqupy/gradient.py?line=122'>123</a>\u001b[0m             gradient_dynamics\u001b[39m.\u001b[39mderiv_list,\n\u001b[1;32m    <a href='file:///home/eobutler/dev/OQuPy/oqupy/gradient.py?line=123'>124</a>\u001b[0m             dprop_dparam_list,\n\u001b[1;32m    <a href='file:///home/eobutler/dev/OQuPy/oqupy/gradient.py?line=124'>125</a>\u001b[0m             dprop_times_list,\n\u001b[1;32m    <a href='file:///home/eobutler/dev/OQuPy/oqupy/gradient.py?line=125'>126</a>\u001b[0m             start_time,\n\u001b[1;32m    <a href='file:///home/eobutler/dev/OQuPy/oqupy/gradient.py?line=126'>127</a>\u001b[0m             process_tensor)\n\u001b[1;32m    <a href='file:///home/eobutler/dev/OQuPy/oqupy/gradient.py?line=127'>128</a>\u001b[0m \u001b[39mreturn\u001b[39;00m total_derivs\n",
      "File \u001b[0;32m~/dev/OQuPy/oqupy/contractions.py:455\u001b[0m, in \u001b[0;36mcompute_gradient_and_dynamics\u001b[0;34m(system, initial_state, target_state, dt, num_steps, start_time, process_tensor, control, record_all, get_forward_and_backprop_list, subdiv_limit, liouvillian_epsrel, progress_type)\u001b[0m\n\u001b[1;32m    <a href='file:///home/eobutler/dev/OQuPy/oqupy/contractions.py?line=450'>451</a>\u001b[0m pt_mpos \u001b[39m=\u001b[39m _get_pt_mpos_backprop(process_tensors, step\u001b[39m-\u001b[39m\u001b[39m1\u001b[39m)\n\u001b[1;32m    <a href='file:///home/eobutler/dev/OQuPy/oqupy/contractions.py?line=452'>453</a>\u001b[0m current_node, current_edges \u001b[39m=\u001b[39m _apply_system_superoperator(\n\u001b[1;32m    <a href='file:///home/eobutler/dev/OQuPy/oqupy/contractions.py?line=453'>454</a>\u001b[0m     current_node, current_edges, second_half_prop\u001b[39m.\u001b[39mT)\n\u001b[0;32m--> <a href='file:///home/eobutler/dev/OQuPy/oqupy/contractions.py?line=454'>455</a>\u001b[0m current_node, current_edges \u001b[39m=\u001b[39m _apply_pt_mpos(\n\u001b[1;32m    <a href='file:///home/eobutler/dev/OQuPy/oqupy/contractions.py?line=455'>456</a>\u001b[0m     current_node, current_edges, pt_mpos)\n\u001b[1;32m    <a href='file:///home/eobutler/dev/OQuPy/oqupy/contractions.py?line=457'>458</a>\u001b[0m \u001b[39m# appropriate timeslice in diagram is here\u001b[39;00m\n\u001b[1;32m    <a href='file:///home/eobutler/dev/OQuPy/oqupy/contractions.py?line=458'>459</a>\u001b[0m \u001b[39m# store derivative node\u001b[39;00m\n\u001b[1;32m    <a href='file:///home/eobutler/dev/OQuPy/oqupy/contractions.py?line=459'>460</a>\u001b[0m \u001b[39mif\u001b[39;00m get_forward_and_backprop_list:\n",
      "File \u001b[0;32m~/dev/OQuPy/oqupy/contractions.py:977\u001b[0m, in \u001b[0;36m_apply_pt_mpos\u001b[0;34m(current_node, current_edges, pt_mpos)\u001b[0m\n\u001b[1;32m    <a href='file:///home/eobutler/dev/OQuPy/oqupy/contractions.py?line=974'>975</a>\u001b[0m new_bond_edge \u001b[39m=\u001b[39m pt_mpo_node[\u001b[39m1\u001b[39m]\n\u001b[1;32m    <a href='file:///home/eobutler/dev/OQuPy/oqupy/contractions.py?line=975'>976</a>\u001b[0m new_sys_edge \u001b[39m=\u001b[39m pt_mpo_node[\u001b[39m3\u001b[39m]\n\u001b[0;32m--> <a href='file:///home/eobutler/dev/OQuPy/oqupy/contractions.py?line=976'>977</a>\u001b[0m current_edges[i] \u001b[39m^\u001b[39;49m pt_mpo_node[\u001b[39m0\u001b[39;49m]\n\u001b[1;32m    <a href='file:///home/eobutler/dev/OQuPy/oqupy/contractions.py?line=977'>978</a>\u001b[0m current_edges[\u001b[39m-\u001b[39m\u001b[39m1\u001b[39m] \u001b[39m^\u001b[39m pt_mpo_node[\u001b[39m2\u001b[39m]\n\u001b[1;32m    <a href='file:///home/eobutler/dev/OQuPy/oqupy/contractions.py?line=978'>979</a>\u001b[0m current_node \u001b[39m=\u001b[39m current_node \u001b[39m@\u001b[39m pt_mpo_node\n",
      "File \u001b[0;32m~/dev/venv_1/lib/python3.10/site-packages/tensornetwork/network_components.py:1215\u001b[0m, in \u001b[0;36mEdge.__xor__\u001b[0;34m(self, other)\u001b[0m\n\u001b[1;32m   <a href='file:///home/eobutler/dev/venv_1/lib/python3.10/site-packages/tensornetwork/network_components.py?line=1213'>1214</a>\u001b[0m \u001b[39mdef\u001b[39;00m \u001b[39m__xor__\u001b[39m(\u001b[39mself\u001b[39m, other: \u001b[39m\"\u001b[39m\u001b[39mEdge\u001b[39m\u001b[39m\"\u001b[39m) \u001b[39m-\u001b[39m\u001b[39m>\u001b[39m \u001b[39m\"\u001b[39m\u001b[39mEdge\u001b[39m\u001b[39m\"\u001b[39m:\n\u001b[0;32m-> <a href='file:///home/eobutler/dev/venv_1/lib/python3.10/site-packages/tensornetwork/network_components.py?line=1214'>1215</a>\u001b[0m   \u001b[39mreturn\u001b[39;00m connect(\u001b[39mself\u001b[39;49m, other, \u001b[39mself\u001b[39;49m\u001b[39m.\u001b[39;49mname)\n",
      "File \u001b[0;32m~/dev/venv_1/lib/python3.10/site-packages/tensornetwork/network_components.py:1945\u001b[0m, in \u001b[0;36mconnect\u001b[0;34m(edge1, edge2, name)\u001b[0m\n\u001b[1;32m   <a href='file:///home/eobutler/dev/venv_1/lib/python3.10/site-packages/tensornetwork/network_components.py?line=1941'>1942</a>\u001b[0m   \u001b[39mraise\u001b[39;00m \u001b[39mValueError\u001b[39;00m(\u001b[39m\"\u001b[39m\u001b[39mCannot connect edge \u001b[39m\u001b[39m'\u001b[39m\u001b[39m{}\u001b[39;00m\u001b[39m'\u001b[39m\u001b[39m to itself.\u001b[39m\u001b[39m\"\u001b[39m\u001b[39m.\u001b[39mformat(edge1))\n\u001b[1;32m   <a href='file:///home/eobutler/dev/venv_1/lib/python3.10/site-packages/tensornetwork/network_components.py?line=1943'>1944</a>\u001b[0m \u001b[39mif\u001b[39;00m edge1\u001b[39m.\u001b[39mdimension \u001b[39m!=\u001b[39m edge2\u001b[39m.\u001b[39mdimension:\n\u001b[0;32m-> <a href='file:///home/eobutler/dev/venv_1/lib/python3.10/site-packages/tensornetwork/network_components.py?line=1944'>1945</a>\u001b[0m   \u001b[39mraise\u001b[39;00m \u001b[39mValueError\u001b[39;00m(\u001b[39m\"\u001b[39m\u001b[39mCannot connect edges of unequal dimension. \u001b[39m\u001b[39m\"\u001b[39m\n\u001b[1;32m   <a href='file:///home/eobutler/dev/venv_1/lib/python3.10/site-packages/tensornetwork/network_components.py?line=1945'>1946</a>\u001b[0m                    \u001b[39m\"\u001b[39m\u001b[39mDimension of edge \u001b[39m\u001b[39m'\u001b[39m\u001b[39m{}\u001b[39;00m\u001b[39m'\u001b[39m\u001b[39m: \u001b[39m\u001b[39m{}\u001b[39;00m\u001b[39m, \u001b[39m\u001b[39m\"\u001b[39m\n\u001b[1;32m   <a href='file:///home/eobutler/dev/venv_1/lib/python3.10/site-packages/tensornetwork/network_components.py?line=1946'>1947</a>\u001b[0m                    \u001b[39m\"\u001b[39m\u001b[39mDimension of edge \u001b[39m\u001b[39m'\u001b[39m\u001b[39m{}\u001b[39;00m\u001b[39m'\u001b[39m\u001b[39m: \u001b[39m\u001b[39m{}\u001b[39;00m\u001b[39m.\u001b[39m\u001b[39m\"\u001b[39m\u001b[39m.\u001b[39mformat(\n\u001b[1;32m   <a href='file:///home/eobutler/dev/venv_1/lib/python3.10/site-packages/tensornetwork/network_components.py?line=1947'>1948</a>\u001b[0m                        edge1, edge1\u001b[39m.\u001b[39mdimension, edge2, edge2\u001b[39m.\u001b[39mdimension))\n\u001b[1;32m   <a href='file:///home/eobutler/dev/venv_1/lib/python3.10/site-packages/tensornetwork/network_components.py?line=1949'>1950</a>\u001b[0m \u001b[39m#edge1 and edge2 are always dangling in this case\u001b[39;00m\n\u001b[1;32m   <a href='file:///home/eobutler/dev/venv_1/lib/python3.10/site-packages/tensornetwork/network_components.py?line=1950'>1951</a>\u001b[0m node1 \u001b[39m=\u001b[39m edge1\u001b[39m.\u001b[39mnode1\n",
      "\u001b[0;31mValueError\u001b[0m: Cannot connect edges of unequal dimension. Dimension of edge '__unnamed_edge__': 1, Dimension of edge '__unnamed_edge__': 3."
     ]
    }
   ],
   "source": [
    "from oqupy.helpers import get_half_timesteps\n",
    "times = get_full_timesteps(process_tensor,0)\n",
    "# pi pulse conjugate to s_z\n",
    "h_z = np.ones(times.size) *np.pi / max_time\n",
    "h_x = np.zeros(times.size)\n",
    "hamiltonian_t = get_hamiltonian(hx=h_x,hz=h_z,pt=process_tensor)\n",
    "system = oqupy.TimeDependentSystem(hamiltonian_t)\n",
    "\n",
    "dprop_dpram_derivs = time_dependent_finite_difference(\n",
    "                process_tensor=process_tensor,\n",
    "                system=system,\n",
    "                times=times,operator=oqupy.operators.sigma('x'))\n",
    "\n",
    "dprop_dpram_times = get_half_timesteps(process_tensor,0)\n",
    "\n",
    "total_derivs = oqupy.gradient(\n",
    "                system=system,\n",
    "                initial_state=oqupy.operators.spin_dm('z-'),\n",
    "                target_state=oqupy.operators.spin_dm('z+'),\n",
    "                dprop_dparam_list=dprop_dpram_derivs,\n",
    "                dprop_times_list=dprop_dpram_times,\n",
    "                process_tensor=process_tensor,)\n"
   ]
  }
 ],
 "metadata": {
  "interpreter": {
   "hash": "82d10ccd8e47b3fa4e28f3b5f0363e38ab40ff5e2780345a78459005100c19ec"
  },
  "kernelspec": {
   "display_name": "Python 3.10.4 ('venv_1')",
   "language": "python",
   "name": "python3"
  },
  "language_info": {
   "codemirror_mode": {
    "name": "ipython",
    "version": 3
   },
   "file_extension": ".py",
   "mimetype": "text/x-python",
   "name": "python",
   "nbconvert_exporter": "python",
   "pygments_lexer": "ipython3",
   "version": "3.10.6"
  },
  "orig_nbformat": 4,
  "vscode": {
   "interpreter": {
    "hash": "2aabdc21c4a85c26bb9791c36aa4c7e7238312a004087a39901dd6629c50e905"
   }
  }
 },
 "nbformat": 4,
 "nbformat_minor": 2
}
