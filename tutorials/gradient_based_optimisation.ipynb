{
 "cells": [
  {
   "attachments": {},
   "cell_type": "markdown",
   "metadata": {},
   "source": [
    "# Gradient based optimisation using PT-MPO\n",
    "\n",
    "In this tutorial, ah here i'm not arsed writing this right now\n"
   ]
  },
  {
   "cell_type": "code",
   "execution_count": 12,
   "metadata": {},
   "outputs": [],
   "source": [
    "import numpy as np\n",
    "import oqupy\n",
    "import matplotlib.pyplot as plt"
   ]
  },
  {
   "attachments": {},
   "cell_type": "markdown",
   "metadata": {},
   "source": [
    "## Setting up the system and the optimisation problem\n",
    "\n",
    "The first thing we do is set up the problem, generate a process tensor, save it, write a cost function"
   ]
  },
  {
   "cell_type": "code",
   "execution_count": 13,
   "metadata": {},
   "outputs": [],
   "source": [
    "dt = 0.05\n",
    "dkmax = 60\n",
    "esprel = 10**(-7)\n",
    "alpha = 0.126\n",
    "\n",
    "omega_cutoff = 3.04\n"
   ]
  },
  {
   "cell_type": "code",
   "execution_count": 14,
   "metadata": {},
   "outputs": [],
   "source": [
    "\n",
    "temperature = 5 * 0.1309 # 1K = 0.1309/ps in natural units\n",
    "max_time = 5\n",
    "\n",
    "correlations = oqupy.PowerLawSD(alpha=alpha,\n",
    "                                zeta=3,\n",
    "                                cutoff=omega_cutoff,\n",
    "                                cutoff_type='gaussian',\n",
    "                                temperature=temperature)\n",
    "bath = oqupy.Bath(oqupy.operators.sigma(\"z\")/2.0, correlations)\n",
    "\n",
    "tempo_params = oqupy.TempoParameters(dt=dt, dkmax=dkmax, epsrel=esprel)\n",
    "\n",
    "\n",
    "# process_tensor = oqupy.pt_tempo_compute(bath=bath,\n",
    "#                                         start_time=0,\n",
    "#                                         end_time=max_time,\n",
    "#                                         parameters=tempo_params,\n",
    "#                                         # progress_type='silent'\n",
    "#                                         )\n",
    "\n",
    "# process_tensor.export('optimisation_pt.processTensor',overwrite=True)"
   ]
  },
  {
   "cell_type": "code",
   "execution_count": 15,
   "metadata": {},
   "outputs": [],
   "source": [
    "process_tensor = oqupy.import_process_tensor('optimisation_pt.processTensor','simple')"
   ]
  },
  {
   "attachments": {},
   "cell_type": "markdown",
   "metadata": {},
   "source": [
    "### Defining the objective function\n",
    "\n",
    "There are two parts that are necessary: \n",
    "\n",
    "- A cost function, which in the case of this tutorial will be the Ullmann Fidelity / Infidelity between a target *pure* state $|\\sigma\\rangle$ and a final density matrix which will be computed by PT-MPO $\\rho_f$\n",
    "$$\n",
    "\\mathcal{F} = \\langle\\sigma|\\rho_f|\\sigma\\rangle\n",
    "$$\n",
    "\n",
    "- A gradient function which computes $\\frac{\\partial\\mathcal{F}}{\\partial c_i}$\n",
    "\n",
    "First we state the cost function and then show how to get the gradient using the adjoint method and the `oqupy.get_gradient_and_dynamics` function\n",
    "\n",
    "Before this we need to specify a system hamiltonian.\n",
    "\n",
    "#### Defining the system hamiltonian\n",
    "\n",
    "For simplicity we will restrict ourselves to a two level system where we apply fields conjugate to two of the spin operators\n",
    "\n",
    "$$\n",
    "H_{\\text{sys}} = h_x S_x + h_z S_z\n",
    "$$\n",
    "\n",
    "The hamiltonian is discretised into timesteps of duration `dt` and we choose the discrete value $h_\\bullet$ to be constant across each timestep. We make no other form of parameterisation."
   ]
  },
  {
   "cell_type": "code",
   "execution_count": 16,
   "metadata": {},
   "outputs": [],
   "source": [
    "from scipy.interpolate import interp1d\n",
    "from oqupy.process_tensor import BaseProcessTensor\n",
    "from oqupy.helpers import get_full_timesteps\n"
   ]
  },
  {
   "cell_type": "code",
   "execution_count": 17,
   "metadata": {},
   "outputs": [],
   "source": [
    "\n",
    "def get_hamiltonian(hx:np.ndarray,hz:np.ndarray,pt:BaseProcessTensor):\n",
    "\n",
    "    # interp doesn't extrapolate beyond the last point so any time after t-dt will be out of bounds\n",
    "    # need to duplicate the final point so we create the very last 'pixel\n",
    "    expval_times = get_full_timesteps(pt,0)\n",
    "    assert hx.size == expval_times.size, 'hx must be same length as number of timesteps'\n",
    "    assert hz.size == expval_times.size, 'hz must be same length as number of timesteps'\n",
    "    # expval_times plus one timestep\n",
    "    expval_times_p1 = np.concatenate((expval_times,np.array([pt.dt * len(pt)])))\n",
    "    # duplicate last element so any time between t_f-dt and t_f falls within this 'pixel'\n",
    "    # otherwise scipy interp1d doesn't like extrapolating so calls it out of bounds\n",
    "    hx_p1 = np.concatenate((hx,np.array([hx[-1]])))\n",
    "    hz_p1 = np.concatenate((hz,np.array([hz[-1]])))\n",
    "\n",
    "    hx_interp = interp1d(expval_times_p1,hx_p1,kind='zero')\n",
    "    hz_interp = interp1d(expval_times_p1,hz_p1,kind='zero')\n",
    "\n",
    "    def hamiltonian_t(t):\n",
    "        _hx = hx_interp(t)\n",
    "        _hz = hz_interp(t)\n",
    "\n",
    "        hx_sx = 0.5 * oqupy.operators.sigma('x') * _hx\n",
    "        hz_sz = 0.5 * oqupy.operators.sigma('z') * _hz\n",
    "        hamiltonian = hz_sz + hx_sx\n",
    "        return hamiltonian\n",
    "\n",
    "    return hamiltonian_t"
   ]
  },
  {
   "cell_type": "code",
   "execution_count": 18,
   "metadata": {},
   "outputs": [],
   "source": [
    "# times = get_full_timesteps(process_tensor,0)\n",
    "# # pi pulse conjugate to s_z\n",
    "# h_z = np.ones(times.size) *np.pi / max_time\n",
    "# h_x = np.zeros(times.size)\n",
    "# hamiltonian_t = get_hamiltonian(hx=h_x,hz=h_z,pt=process_tensor)\n",
    "# hamiltonian_t(4.0)"
   ]
  },
  {
   "attachments": {},
   "cell_type": "markdown",
   "metadata": {},
   "source": [
    "Now the cost function:"
   ]
  },
  {
   "cell_type": "code",
   "execution_count": 19,
   "metadata": {},
   "outputs": [],
   "source": [
    "\n",
    "def cost_function(\n",
    "                control_parameters,\n",
    "                pt,\n",
    "                initial_state = oqupy.operators.spin_dm(\"z-\"),\n",
    "                target_state = oqupy.operators.spin_dm(\"z+\")):\n",
    "\n",
    "\n",
    "    # take some arbitrary hamiltonian (will specify this later)\n",
    "    hamiltonian_t = get_hamiltonian(control_parameters,pt)#  this obv broken\n",
    "\n",
    "\n",
    "    system = oqupy.TimeDependentSystem(hamiltonian_t)\n",
    "    final_state = oqupy.compute_dynamics(\n",
    "                    system,\n",
    "                    initial_state,\n",
    "                    start_time=0,\n",
    "                    process_tensor=pt)\n",
    "    final_state = pt.compute(system,initial_state=initial_state)\n",
    "    fidelity = 1 - np.matmul(final_state,target_state).trace() # infidelity\n",
    "\n",
    "    return fidelity.real\n"
   ]
  },
  {
   "attachments": {},
   "cell_type": "markdown",
   "metadata": {},
   "source": [
    "Now the gradient:\n",
    "\n",
    "We start off by finding the finite difference routine that will get the derivative of the system propagators with respect to the control parameters defined above. The finite difference routine is"
   ]
  },
  {
   "attachments": {},
   "cell_type": "markdown",
   "metadata": {},
   "source": [
    "Now we show the gradient function:\n",
    "\n",
    "We note that because the gradient and cost funciton are defined seperatedly, which is somewhat ineficient because we cannot take into account that when calculating the gradient the fidelity is also calculated. This should probabkly be fixed and i'd imagine is also not an issue with the Krotov algorithm.\n",
    "\n",
    "We restrict ourselves to an optimisation where each time-step is an optimisation parameter, and we take a finite difference chain rule as described in the other tutorial"
   ]
  },
  {
   "cell_type": "code",
   "execution_count": 20,
   "metadata": {},
   "outputs": [],
   "source": [
    "from scipy.linalg import expm\n",
    "from typing import Optional"
   ]
  },
  {
   "cell_type": "code",
   "execution_count": 21,
   "metadata": {},
   "outputs": [],
   "source": [
    "\n",
    "def time_dependent_finite_difference(\n",
    "                    process_tensor,\n",
    "                    system,\n",
    "                    times,  # again same point as above, why does it need to be repeated.\n",
    "                    operator, #the operator to differentiate wrt\n",
    "                    h=10**(-6),\n",
    "                    timesteps_used: Optional[int] = None): # finite difference timestep\n",
    "    '''this is a very specific case where the number of derivatives == the number of half timestep propagators\n",
    "    TODO: figure out if that's actually correct'''\n",
    "\n",
    "    ham=system.hamiltonian\n",
    "\n",
    "    def dpropagator(system,\n",
    "        t, # expectation value times\n",
    "        dt,\n",
    "        op,\n",
    "        h):\n",
    "        temp=h # i don't know what this does\n",
    "        h=temp\n",
    "        '''\n",
    "        deriv of propagator wrt the pre node and the post node\n",
    "        '''\n",
    "\n",
    "        post_liouvillian_plus_h=-1j * oqupy.operators.commutator(ham(t+dt*3.0/4.0)+h*op)\n",
    "        post_liouvillian_minus_h=-1j * oqupy.operators.commutator(ham(t+dt*3.0/4.0)-h*op)\n",
    "\n",
    "        post_propagator_plus_h=expm(post_liouvillian_plus_h*dt/2.0).T\n",
    "        post_propagator_minus_h=expm(post_liouvillian_minus_h*dt/2.0).T\n",
    "\n",
    "        postderiv=(post_propagator_plus_h-post_propagator_minus_h)/(2.*h)\n",
    "\n",
    "        pre_liouvillian_plus_h=-1j * oqupy.operators.commutator(ham(t+dt*1.0/4.0)+h*op)\n",
    "        pre_liouvillian_minus_h=-1j * oqupy.operators.commutator(ham(t+dt*1.0/4.0)-h*op)\n",
    "\n",
    "        pre_propagator_plus_h=expm(pre_liouvillian_plus_h*dt/2.0).T\n",
    "        pre_propagator_minus_h=expm(pre_liouvillian_minus_h*dt/2.0).T\n",
    "        prederiv=(pre_propagator_plus_h-pre_propagator_minus_h)/(2.*h)\n",
    "        return prederiv,postderiv\n",
    "\n",
    "    # pre_derivs = []\n",
    "    # post_derivs = []\n",
    "    derivs = []\n",
    "\n",
    "    for step in range(times.size):\n",
    "        prederiv,postderiv=dpropagator(system,times[step],process_tensor.dt,operator,h)\n",
    "        derivs.append(prederiv)\n",
    "        derivs.append(postderiv)\n",
    "\n",
    "    return derivs\n"
   ]
  },
  {
   "attachments": {},
   "cell_type": "markdown",
   "metadata": {},
   "source": [
    "lets see what the gradient of a constant $\\pi$ pulse looks like"
   ]
  },
  {
   "cell_type": "code",
   "execution_count": 22,
   "metadata": {},
   "outputs": [],
   "source": [
    "from oqupy.helpers import get_half_timesteps\n",
    "times = get_full_timesteps(process_tensor,0)\n",
    "# pi pulse conjugate to s_z\n",
    "h_z = np.ones(times.size) *np.pi / max_time\n",
    "h_x = np.zeros(times.size)\n",
    "hamiltonian_t = get_hamiltonian(hx=h_x,hz=h_z,pt=process_tensor)\n",
    "system = oqupy.TimeDependentSystem(hamiltonian_t)\n",
    "\n",
    "dprop_dpram_times = get_half_timesteps(process_tensor,0)\n"
   ]
  },
  {
   "cell_type": "code",
   "execution_count": 23,
   "metadata": {},
   "outputs": [
    {
     "name": "stdout",
     "output_type": "stream",
     "text": [
      "--> Compute dynamics:\n",
      "100.0%  100 of  100 [########################################] 00:00:06\n",
      "Elapsed time: 6.1s\n"
     ]
    }
   ],
   "source": [
    "\n",
    "\n",
    "dprop_dpram_derivs_x = time_dependent_finite_difference(\n",
    "                process_tensor=process_tensor,\n",
    "                system=system,\n",
    "                times=times,operator=oqupy.operators.sigma('x'))\n",
    "\n",
    "\n",
    "total_derivs_x = oqupy.gradient(\n",
    "                system=system,\n",
    "                initial_state=oqupy.operators.spin_dm('z-'),\n",
    "                target_state=oqupy.operators.spin_dm('z+'),\n",
    "                dprop_dparam_list=dprop_dpram_derivs_x,\n",
    "                dprop_times_list=dprop_dpram_times,\n",
    "                process_tensor=process_tensor,)\n"
   ]
  },
  {
   "cell_type": "code",
   "execution_count": 24,
   "metadata": {},
   "outputs": [
    {
     "name": "stdout",
     "output_type": "stream",
     "text": [
      "--> Compute dynamics:\n",
      "100.0%  100 of  100 [########################################] 00:00:06\n",
      "Elapsed time: 6.2s\n"
     ]
    }
   ],
   "source": [
    "\n",
    "\n",
    "dprop_dpram_derivs_z = time_dependent_finite_difference(\n",
    "                process_tensor=process_tensor,\n",
    "                system=system,\n",
    "                times=times,operator=oqupy.operators.sigma('z'))\n",
    "\n",
    "\n",
    "total_derivs_z = oqupy.gradient(\n",
    "                system=system,\n",
    "                initial_state=oqupy.operators.spin_dm('z-'),\n",
    "                target_state=oqupy.operators.spin_dm('z+'),\n",
    "                dprop_dparam_list=dprop_dpram_derivs_z,\n",
    "                dprop_times_list=dprop_dpram_times,\n",
    "                process_tensor=process_tensor,)\n"
   ]
  },
  {
   "cell_type": "code",
   "execution_count": 26,
   "metadata": {},
   "outputs": [
    {
     "name": "stderr",
     "output_type": "stream",
     "text": [
      "/home/eobutler/dev/venv_1/lib/python3.10/site-packages/matplotlib/cbook/__init__.py:1298: ComplexWarning: Casting complex values to real discards the imaginary part\n",
      "  return np.asarray(x, float)\n"
     ]
    },
    {
     "data": {
      "image/png": "[encoded data removed]",
      "text/plain": [
       "<Figure size 432x288 with 1 Axes>"
      ]
     },
     "metadata": {
      "needs_background": "light"
     },
     "output_type": "display_data"
    }
   ],
   "source": [
    "plt.figure()\n",
    "plt.plot(dprop_dpram_times,total_derivs_x,label='x')\n",
    "plt.plot(dprop_dpram_times,total_derivs_z,label='z')\n",
    "\n",
    "plt.legend()\n",
    "plt.show()\n"
   ]
  }
 ],
 "metadata": {
  "interpreter": {
   "hash": "82d10ccd8e47b3fa4e28f3b5f0363e38ab40ff5e2780345a78459005100c19ec"
  },
  "kernelspec": {
   "display_name": "Python 3.10.4 ('venv_1')",
   "language": "python",
   "name": "python3"
  },
  "language_info": {
   "codemirror_mode": {
    "name": "ipython",
    "version": 3
   },
   "file_extension": ".py",
   "mimetype": "text/x-python",
   "name": "python",
   "nbconvert_exporter": "python",
   "pygments_lexer": "ipython3",
   "version": "3.10.6"
  },
  "orig_nbformat": 4,
  "vscode": {
   "interpreter": {
    "hash": "2aabdc21c4a85c26bb9791c36aa4c7e7238312a004087a39901dd6629c50e905"
   }
  }
 },
 "nbformat": 4,
 "nbformat_minor": 2
}
