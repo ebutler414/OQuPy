{
 "cells": [
  {
   "cell_type": "code",
   "execution_count": null,
   "id": "8a85fd69",
   "metadata": {},
   "outputs": [],
   "source": [
    "# Based on original iTEBD-example.ipynb from https://github.com/val-link/iTEBD-TEMPO.git by Valentin Link\n",
    "# Adapted to do a simple simulation using OQuPy, and using a modified iTEBD-TEMPO code which uses OQuPy's BathCorrelations class by Paul Eastham\n"
   ]
  },
  {
   "cell_type": "code",
   "execution_count": 1,
   "id": "cac97d5e",
   "metadata": {},
   "outputs": [],
   "source": [
    "import oqupy as oqupy\n",
    "from oqupy.iTEBD_TEMPO import iTEBD_TEMPO\n",
    "from oqupy.iTEBD_TEMPO_useoqupybath import iTEBD_TEMPO_oqupy\n",
    "import numpy as np\n",
    "import matplotlib.pyplot as plt\n",
    "import qutip as qt"
   ]
  },
  {
   "cell_type": "code",
   "execution_count": 2,
   "id": "0a434573",
   "metadata": {},
   "outputs": [
    {
     "name": "stderr",
     "output_type": "stream",
     "text": [
      "building influence functional:   0%|          | 0/100 [00:00<?, ?it/s]C:\\Users\\preas\\AppData\\Local\\Temp\\ipykernel_13032\\1407429750.py:15: DeprecationWarning: `alltrue` is deprecated as of NumPy 1.25.0, and will be removed in NumPy 2.0. Please use `all` instead.\n",
      "  MyiTEBD_TEMPO_oqupy.compute_f(rank=100, rtol=1e-7)\n",
      "building influence functional: 100%|██████████| 100/100 [00:00<00:00, 323.06it/s]"
     ]
    },
    {
     "name": "stdout",
     "output_type": "stream",
     "text": [
      "rank  83\n"
     ]
    },
    {
     "name": "stderr",
     "output_type": "stream",
     "text": [
      "\n"
     ]
    }
   ],
   "source": [
    "sigma_z = oqupy.operators.sigma(\"z\")\n",
    "omega_cutoff = 3.04 \n",
    "alpha = 0.126\n",
    "temperature = 0.1309\n",
    "correlations = oqupy.PowerLawSD(alpha=alpha,\n",
    "                                zeta=3,\n",
    "                                cutoff=omega_cutoff,\n",
    "                                cutoff_type='gaussian',\n",
    "                                temperature=temperature)\n",
    "bath = oqupy.Bath(sigma_z/2.0, correlations)\n",
    "# uses a modified version of Link's iTEBD_TEMPO class, which will take the bath correlation defined in OQuPy\n",
    "# other parameters remain as in the original, i.e. eigenvalues of the coupling operator, timestep, cut-off.\n",
    "Delta=0.1\n",
    "MyiTEBD_TEMPO_oqupy = iTEBD_TEMPO_oqupy(np.diagonal(sigma_z/2), Delta, correlations, 100)\n",
    "MyiTEBD_TEMPO_oqupy.compute_f(rank=100, rtol=1e-7) \n"
   ]
  },
  {
   "cell_type": "code",
   "execution_count": 9,
   "id": "7f3668d9",
   "metadata": {},
   "outputs": [
    {
     "name": "stderr",
     "output_type": "stream",
     "text": [
      "time evolution running: 100%|██████████| 200/200 [00:00<00:00, 1080.97it/s]\n"
     ]
    }
   ],
   "source": [
    "%timeit \n",
    "# time evolution using iTEBD\n",
    "H_S=0.0*oqupy.operators.sigma('z') # free Hamiltonian\n",
    "Rho_0=oqupy.operators.spin_dm('x+')\n",
    "N=200\n",
    "Rho_t = MyiTEBD_TEMPO_oqupy.evolve(H_S, Rho_0, N)"
   ]
  },
  {
   "cell_type": "code",
   "execution_count": 15,
   "id": "b9fe8f9b",
   "metadata": {},
   "outputs": [
    {
     "name": "stdout",
     "output_type": "stream",
     "text": [
      "--> PT-TEMPO computation:\n",
      "100.0%  200 of  200 [########################################] 00:01:04\n",
      "Elapsed time: 64.6s\n"
     ]
    }
   ],
   "source": [
    "# let's do it using OQuPy\n",
    "sigma_x = oqupy.operators.sigma(\"x\")\n",
    "sigma_y = oqupy.operators.sigma(\"y\")\n",
    "sigma_z = oqupy.operators.sigma(\"z\")\n",
    "tempo_parameters = oqupy.TempoParameters(dt=Delta, epsrel=10**(-7),dkmax=100)\n",
    "\n",
    "process_tensor = oqupy.pt_tempo_compute(bath=bath,\n",
    "                                        start_time=0.0,\n",
    "                                        end_time=Delta*N,\n",
    "                                        parameters=tempo_parameters)"
   ]
  },
  {
   "cell_type": "code",
   "execution_count": null,
   "id": "81a2330c",
   "metadata": {},
   "outputs": [
    {
     "name": "stdout",
     "output_type": "stream",
     "text": [
      "--> Compute dynamics:\n",
      "100.0%  200 of  200 [########################################] 00:00:05\n",
      "Elapsed time: 5.0s\n"
     ]
    }
   ],
   "source": [
    "def hamiltonian_t(t):\n",
    "    return 0.0 * sigma_z\n",
    "\n",
    "system = oqupy.TimeDependentSystem(hamiltonian_t)\n",
    "dynamics = oqupy.compute_dynamics(\n",
    "       process_tensor=process_tensor,        \n",
    "       system=system,\n",
    "       initial_state=Rho_0,\n",
    "       start_time=0.0)\n",
    "t, s_x = dynamics.expectations(sigma_x, real=True)\n",
    "_, s_y = dynamics.expectations(sigma_y, real=True)\n",
    "_, s_z = dynamics.expectations(sigma_z, real=True)\n"
   ]
  },
  {
   "cell_type": "code",
   "execution_count": null,
   "id": "43c7cc8a",
   "metadata": {},
   "outputs": [
    {
     "data": {
      "text/plain": [
       "[<matplotlib.lines.Line2D at 0x1a663e38b00>]"
      ]
     },
     "execution_count": 20,
     "metadata": {},
     "output_type": "execute_result"
    },
    {
     "data": {
      "image/png": "[encoded data removed]",
      "text/plain": [
       "<Figure size 640x480 with 1 Axes>"
      ]
     },
     "metadata": {},
     "output_type": "display_data"
    }
   ],
   "source": [
    "T_eval = np.linspace(0, N * Delta, N + 1)\n",
    "j=0.5\n",
    "plt.plot(T_eval,np.einsum('ij,tji->t', qt.operators.jmat(j,'x').full(), Rho_t).real/ j)\n",
    "plt.plot(t,s_x,'x')"
   ]
  },
  {
   "cell_type": "code",
   "execution_count": 1,
   "id": "f906bed1",
   "metadata": {},
   "outputs": [],
   "source": [
    "import oqupy as oqupy\n",
    "from oqupy.iTEBD_TEMPO import iTEBD_TEMPO\n",
    "from oqupy.iTEBD_TEMPO_useoqupybath import iTEBD_TEMPO_oqupy\n",
    "import numpy as np\n",
    "import matplotlib.pyplot as plt\n",
    "import qutip as qt"
   ]
  },
  {
   "cell_type": "code",
   "execution_count": 3,
   "id": "f314d374",
   "metadata": {},
   "outputs": [
    {
     "name": "stderr",
     "output_type": "stream",
     "text": [
      "building influence functional:   0%|          | 0/100 [00:00<?, ?it/s]C:\\Users\\preas\\AppData\\Local\\Temp\\ipykernel_13032\\1407429750.py:15: DeprecationWarning: `alltrue` is deprecated as of NumPy 1.25.0, and will be removed in NumPy 2.0. Please use `all` instead.\n",
      "  MyiTEBD_TEMPO_oqupy.compute_f(rank=100, rtol=1e-7)\n",
      "building influence functional: 100%|██████████| 100/100 [00:00<00:00, 344.95it/s]"
     ]
    },
    {
     "name": "stdout",
     "output_type": "stream",
     "text": [
      "rank  83\n"
     ]
    },
    {
     "name": "stderr",
     "output_type": "stream",
     "text": [
      "\n"
     ]
    }
   ],
   "source": [
    "sigma_z = oqupy.operators.sigma(\"z\")\n",
    "omega_cutoff = 3.04 \n",
    "alpha = 0.126\n",
    "temperature = 0.1309\n",
    "correlations = oqupy.PowerLawSD(alpha=alpha,\n",
    "                                zeta=3,\n",
    "                                cutoff=omega_cutoff,\n",
    "                                cutoff_type='gaussian',\n",
    "                                temperature=temperature)\n",
    "bath = oqupy.Bath(sigma_z/2.0, correlations)\n",
    "# uses a modified version of Link's iTEBD_TEMPO class, which will take the bath correlation defined in OQuPy\n",
    "# other parameters remain as in the original, i.e. eigenvalues of the coupling operator, timestep, cut-off.\n",
    "Delta=0.1\n",
    "MyiTEBD_TEMPO_oqupy = iTEBD_TEMPO_oqupy(np.diagonal(sigma_z/2), Delta, correlations, 100)\n",
    "MyiTEBD_TEMPO_oqupy.compute_f(rank=100, rtol=1e-7) \n"
   ]
  },
  {
   "cell_type": "code",
   "execution_count": 4,
   "id": "0bc1dce3",
   "metadata": {},
   "outputs": [],
   "source": [
    "from oqupy.process_tensor import TTInvariantProcessTensor"
   ]
  },
  {
   "cell_type": "code",
   "execution_count": 5,
   "id": "f6fd5342",
   "metadata": {},
   "outputs": [],
   "source": [
    "pt=TTInvariantProcessTensor(MyiTEBD_TEMPO_oqupy)"
   ]
  },
  {
   "cell_type": "code",
   "execution_count": 5,
   "id": "6057e9af",
   "metadata": {},
   "outputs": [
    {
     "data": {
      "text/plain": [
       "(1, 83, 4, 4)"
      ]
     },
     "execution_count": 5,
     "metadata": {},
     "output_type": "execute_result"
    }
   ],
   "source": [
    "pt.get_mpo_tensor(0).shape"
   ]
  },
  {
   "cell_type": "code",
   "execution_count": 6,
   "id": "102c4699",
   "metadata": {},
   "outputs": [
    {
     "data": {
      "text/plain": [
       "(83, 83, 4, 4)"
      ]
     },
     "execution_count": 6,
     "metadata": {},
     "output_type": "execute_result"
    }
   ],
   "source": [
    "pt.get_mpo_tensor(1).shape"
   ]
  },
  {
   "cell_type": "code",
   "execution_count": 6,
   "id": "b2b8e6cb",
   "metadata": {},
   "outputs": [
    {
     "name": "stdout",
     "output_type": "stream",
     "text": [
      "--> Compute dynamics:\n",
      "100.0%  200 of  200 [########################################] 00:00:02\n",
      "Elapsed time: 2.9s\n"
     ]
    }
   ],
   "source": [
    "# let's do it using OQuPy\n",
    "sigma_x = oqupy.operators.sigma(\"x\")\n",
    "sigma_y = oqupy.operators.sigma(\"y\")\n",
    "sigma_z = oqupy.operators.sigma(\"z\")\n",
    "tempo_parameters = oqupy.TempoParameters(dt=Delta, epsrel=10**(-7),dkmax=100)\n",
    "\n",
    "H_S=0.0*oqupy.operators.sigma('z') # free Hamiltonian\n",
    "Rho_0=oqupy.operators.spin_dm('x+')\n",
    "\n",
    "def hamiltonian_t(t):\n",
    "    return 0.0 * sigma_z\n",
    "\n",
    "system = oqupy.TimeDependentSystem(hamiltonian_t)\n",
    "\n",
    "dynamics = oqupy.compute_dynamics(\n",
    "       process_tensor=pt,        \n",
    "       system=system,\n",
    "       initial_state=Rho_0,\n",
    "       start_time=0.0,\n",
    "       num_steps=200)\n",
    "\n",
    "t, s_x = dynamics.expectations(sigma_x, real=True)\n",
    "_, s_y = dynamics.expectations(sigma_y, real=True)\n",
    "_, s_z = dynamics.expectations(sigma_z, real=True)\n"
   ]
  },
  {
   "cell_type": "code",
   "execution_count": 7,
   "id": "f2a111f3",
   "metadata": {},
   "outputs": [
    {
     "data": {
      "text/plain": [
       "[<matplotlib.lines.Line2D at 0x2025a8839b0>]"
      ]
     },
     "execution_count": 7,
     "metadata": {},
     "output_type": "execute_result"
    },
    {
     "data": {
      "image/png": "[encoded data removed]",
      "text/plain": [
       "<Figure size 640x480 with 1 Axes>"
      ]
     },
     "metadata": {},
     "output_type": "display_data"
    }
   ],
   "source": [
    "plt.plot(t,s_x,'x')"
   ]
  },
  {
   "cell_type": "code",
   "execution_count": 32,
   "id": "e49dcf4e",
   "metadata": {},
   "outputs": [],
   "source": [
    "detuning = lambda t: 0.0 * t\n",
    "def gaussian_shape(t, area = 1.0, tau = 1.0, t_0 = 0.0):\n",
    "    return area/(tau*np.sqrt(np.pi)) * np.exp(-(t-t_0)**2/(tau**2))\n",
    "\n",
    "def hamiltonian_t(t):\n",
    "    return detuning(t)/2.0 * sigma_z \\\n",
    "           + gaussian_shape(t, area = np.pi/2.0, tau = 1)/2.0 * sigma_y\n",
    "\n",
    "system = oqupy.TimeDependentSystem(hamiltonian_t)\n"
   ]
  },
  {
   "cell_type": "code",
   "execution_count": 33,
   "id": "f0c05b3a",
   "metadata": {},
   "outputs": [
    {
     "name": "stdout",
     "output_type": "stream",
     "text": [
      "--> Compute dynamics:\n",
      "100.0%  200 of  200 [########################################] 00:00:03\n",
      "Elapsed time: 3.4s\n"
     ]
    }
   ],
   "source": [
    "Rho_0=oqupy.operators.spin_dm('z-')\n",
    "dynamics = oqupy.compute_dynamics(\n",
    "       process_tensor=pt,        \n",
    "       system=system,\n",
    "       initial_state=Rho_0,\n",
    "       start_time=-5.0,\n",
    "       num_steps=200)\n",
    "\n",
    "t, s_x = dynamics.expectations(sigma_x, real=True)\n",
    "_, s_y = dynamics.expectations(sigma_y, real=True)\n",
    "_, s_z = dynamics.expectations(sigma_z, real=True)\n"
   ]
  },
  {
   "cell_type": "code",
   "execution_count": 34,
   "id": "78e30a68",
   "metadata": {},
   "outputs": [
    {
     "data": {
      "text/plain": [
       "<matplotlib.legend.Legend at 0x2025d52dac0>"
      ]
     },
     "execution_count": 34,
     "metadata": {},
     "output_type": "execute_result"
    },
    {
     "data": {
      "image/png": "[encoded data removed]",
      "text/plain": [
       "<Figure size 640x480 with 1 Axes>"
      ]
     },
     "metadata": {},
     "output_type": "display_data"
    }
   ],
   "source": [
    "t, s_x = dynamics.expectations(sigma_x, real=True)\n",
    "t, s_y = dynamics.expectations(sigma_y, real=True)\n",
    "s_xy = np.sqrt(s_x**2 + s_y**2)\n",
    "plt.plot(t, s_xy, label=r'$\\Delta = 0.0$')\n",
    "plt.xlabel(r'$t\\,\\Omega$')\n",
    "plt.ylabel(r'$<\\sigma_{xy}>$')\n",
    "plt.ylim((0.0,1.0))\n",
    "plt.legend(loc=4)"
   ]
  }
 ],
 "metadata": {
  "kernelspec": {
   "display_name": "Python 3 (ipykernel)",
   "language": "python",
   "name": "python3"
  },
  "language_info": {
   "codemirror_mode": {
    "name": "ipython",
    "version": 3
   },
   "file_extension": ".py",
   "mimetype": "text/x-python",
   "name": "python",
   "nbconvert_exporter": "python",
   "pygments_lexer": "ipython3",
   "version": "3.12.5"
  }
 },
 "nbformat": 4,
 "nbformat_minor": 5
}
