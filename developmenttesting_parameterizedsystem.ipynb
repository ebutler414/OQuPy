{
 "cells": [
  {
   "cell_type": "code",
   "execution_count": 104,
   "metadata": {},
   "outputs": [],
   "source": [
    "from random import uniform\n",
    "import oqupy\n",
    "import numpy as np\n",
    "import inspect\n",
    "from scipy.linalg import ishermitian,issymmetric"
   ]
  },
  {
   "cell_type": "code",
   "execution_count": 13,
   "metadata": {},
   "outputs": [],
   "source": [
    "def ham(x,y,z):\n",
    "    return x*oqupy.operators.sigma('x') \\\n",
    "            +y*oqupy.operators.sigma('y') \\\n",
    "            +z*oqupy.operators.sigma('z')\n",
    "\n",
    "sys=oqupy.ParameterizedSystem(ham)\n",
    "num_args = len(inspect.signature(ham).parameters)\n",
    "num_steps = 1"
   ]
  },
  {
   "cell_type": "code",
   "execution_count": 30,
   "metadata": {},
   "outputs": [],
   "source": [
    "paras=[[uniform(-5,5) for i in range(num_args)] for j in range(2*num_steps)]"
   ]
  },
  {
   "cell_type": "code",
   "execution_count": 135,
   "metadata": {},
   "outputs": [
    {
     "name": "stdout",
     "output_type": "stream",
     "text": [
      "[[ 3.86429921  4.60444756  0.95377972]\n",
      " [ 4.58504039 -4.05893236 -2.22265819]]\n",
      "\n"
     ]
    }
   ],
   "source": [
    "# use finite differencing to construct the derivative of the first-step prepropagator\n",
    "# in the list fd\n",
    "parasarray=np.array(paras)\n",
    "parashifts=np.identity(num_args)\n",
    "gp=sys.get_propagators(0.1,parasarray)\n",
    "firstpreprop=gp(0)[0]\n",
    "h=1e-6\n",
    "print(parasarray)\n",
    "print()\n",
    "fd=[] \n",
    "for i in range(num_args):\n",
    "    shift=parashifts[i,:]\n",
    "    parasarrayshifted=np.array(parasarray)\n",
    "    parasarrayshifted[0,:]=parasarray[0,:]+h*shift\n",
    "    gp2=sys.get_propagators(0.1,parasarrayshifted)\n",
    "    shiftedfirstpreprop=gp2(0)[0]\n",
    "    fd.append((shiftedfirstpreprop-firstpreprop)/h)"
   ]
  },
  {
   "cell_type": "code",
   "execution_count": 127,
   "metadata": {},
   "outputs": [],
   "source": [
    "# call system.py to get the derivatives of the first-step prepropagator\n",
    "gpd=sys.get_propagator_derivatives(0.1,parasarray)\n",
    "firstprepropderivs=gpd(0)[0]\n"
   ]
  },
  {
   "cell_type": "code",
   "execution_count": 132,
   "metadata": {},
   "outputs": [
    {
     "name": "stdout",
     "output_type": "stream",
     "text": [
      "Difference between fd and system.py (max abs)=  4.77782522612377e-07\n",
      "Largest magnitude element of the derivative from finite differencing =  0.09408837807259753\n",
      "Largest magnitude element of the derivative from system.py =  0.09408837777988445\n"
     ]
    }
   ],
   "source": [
    "# compare the two\n",
    "print(\"Difference between fd and system.py (max abs)= \",np.max(np.abs(np.array(fd)-np.array(firstprepropderivs))))\n",
    "print(\"Largest magnitude element of the derivative from finite differencing = \",np.max(np.abs(np.array(fd))))\n",
    "print(\"Largest magnitude element of the derivative from system.py = \",np.max(np.abs(np.array(firstprepropderivs))))"
   ]
  },
  {
   "cell_type": "code",
   "execution_count": 136,
   "metadata": {},
   "outputs": [],
   "source": [
    "# check equality to numerical tolerance. works for h=1e-6\n",
    "assert(np.allclose(np.array(fd),np.array(firstprepropderivs)))"
   ]
  },
  {
   "cell_type": "code",
   "execution_count": 137,
   "metadata": {},
   "outputs": [
    {
     "name": "stdout",
     "output_type": "stream",
     "text": [
      "Maximum difference in opposing elements =  0.04352260454648309\n"
     ]
    },
    {
     "data": {
      "text/plain": [
       "False"
      ]
     },
     "execution_count": 137,
     "metadata": {},
     "output_type": "execute_result"
    }
   ],
   "source": [
    "# the above would not test for transposition error if the results are symmetric\n",
    "# however, they are not - check here \n",
    "temp=np.array(firstprepropderivs[0])\n",
    "print(\"Maximum difference in opposing elements = \",np.max(np.abs(temp-temp.transpose())))\n",
    "issymmetric(temp,rtol=1e-05, atol=1e-08)"
   ]
  }
 ],
 "metadata": {
  "kernelspec": {
   "display_name": ".venv",
   "language": "python",
   "name": "python3"
  },
  "language_info": {
   "codemirror_mode": {
    "name": "ipython",
    "version": 3
   },
   "file_extension": ".py",
   "mimetype": "text/x-python",
   "name": "python",
   "nbconvert_exporter": "python",
   "pygments_lexer": "ipython3",
   "version": "3.9.12"
  }
 },
 "nbformat": 4,
 "nbformat_minor": 2
}
