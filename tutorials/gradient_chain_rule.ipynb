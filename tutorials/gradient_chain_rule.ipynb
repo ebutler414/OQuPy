{
 "cells": [
  {
   "attachments": {},
   "cell_type": "markdown",
   "metadata": {},
   "source": [
    "# Chain rule and finite difference routines\n",
    "\n",
    "This package provides code that uses the adjoint method to efficiently solve the problem described in the supplimental information of ...\n",
    "\n",
    "In this notebook we describe methods for numerically computing the second part of the chain rule, using an autograd (Jax) and finite differences. Using finite differences is computationally inexpensive, however for completeness an autograd method is also shown."
   ]
  },
  {
   "cell_type": "code",
   "execution_count": null,
   "metadata": {},
   "outputs": [],
   "source": []
  }
 ],
 "metadata": {
  "kernelspec": {
   "display_name": "venv_oqupy",
   "language": "python",
   "name": "python3"
  },
  "language_info": {
   "name": "python",
   "version": "3.8.15 (default, Nov 17 2022, 14:05:12) \n[Clang 14.0.0 (clang-1400.0.29.102)]"
  },
  "orig_nbformat": 4,
  "vscode": {
   "interpreter": {
    "hash": "2aabdc21c4a85c26bb9791c36aa4c7e7238312a004087a39901dd6629c50e905"
   }
  }
 },
 "nbformat": 4,
 "nbformat_minor": 2
}
