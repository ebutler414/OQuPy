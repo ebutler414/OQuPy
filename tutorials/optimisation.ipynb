{
 "cells": [
  {
   "cell_type": "code",
   "execution_count": 48,
   "metadata": {},
   "outputs": [],
   "source": [
    "import numpy as np\n",
    "import matplotlib.pyplot as plt\n",
    "\n",
    "import oqupy\n",
    "import oqupy.operators as op\n",
    "\n",
    "from scipy.optimize import minimize, Bounds\n",
    "from typing import List,Tuple\n",
    "\n",
    "# --- Parameters --------------------------------------------------------------\n",
    "\n",
    "# -- time steps --\n",
    "dt = 0.05 # 0.2\n",
    "num_steps = 20 # 20\n",
    "\n",
    "# -- bath --\n",
    "alpha =  0.126 #0.08\n",
    "omega_cutoff = 3.04 #4\n",
    "temperature =  5 * 0.1309 #1.6\n",
    "pt_dkmax =60 # 40\n",
    "pt_epsrel = 10**(-7) #1.0e-5\n",
    "\n",
    "# -- initial and target state --\n",
    "initial_state = op.spin_dm('x-')\n",
    "target_state = op.spin_dm('x+')\n",
    "\n",
    "# -- initial parameter guess --\n",
    "x0= np.zeros(2*num_steps)\n",
    "z0 = np.ones(2*num_steps) * (np.pi) / (dt*num_steps)\n",
    "\n",
    "parameter_list = list(zip(x0,z0))\n",
    "num_params = len(parameter_list[0])"
   ]
  },
  {
   "cell_type": "code",
   "execution_count": 49,
   "metadata": {},
   "outputs": [
    {
     "name": "stdout",
     "output_type": "stream",
     "text": [
      "--> PT-TEMPO computation:\n",
      "100.0%   20 of   20 [########################################] 00:00:00\n",
      "Elapsed time: 0.1s\n"
     ]
    }
   ],
   "source": [
    "# --- Compute process tensors -------------------------------------------------\n",
    "correlations = oqupy.PowerLawSD(alpha=alpha,\n",
    "                                zeta=3,\n",
    "                                cutoff=omega_cutoff,\n",
    "                                cutoff_type='gaussian',\n",
    "                                temperature=temperature)\n",
    "bath = oqupy.Bath(oqupy.operators.sigma(\"z\")/2, correlations)\n",
    "\n",
    "\n",
    "pt_tempo_parameters = oqupy.TempoParameters(\n",
    "    dt=dt,\n",
    "    epsrel=pt_epsrel,\n",
    "    dkmax=pt_dkmax)\n",
    "process_tensor = oqupy.pt_tempo_compute(\n",
    "    bath=bath,\n",
    "    start_time=0.0,\n",
    "    end_time=num_steps * dt,\n",
    "    parameters=pt_tempo_parameters,\n",
    "    progress_type='bar')"
   ]
  },
  {
   "cell_type": "code",
   "execution_count": 50,
   "metadata": {},
   "outputs": [
    {
     "name": "stdout",
     "output_type": "stream",
     "text": [
      "--> Compute dynamics:\n",
      "100.0%   20 of   20 [########################################] 00:00:00\n",
      "Elapsed time: 0.0s\n",
      "21\n"
     ]
    }
   ],
   "source": [
    "# --- Define parametrized system ----------------------------------------------\n",
    "\n",
    "def get_hamiltonian_discrete():\n",
    "    \"\"\"\n",
    "    Returns a callable which takes a set of parameters for a given time and returns the corresponding Hamiltonian\n",
    "\n",
    "    \"\"\"\n",
    "    def hamiltonian(hx,hz):\n",
    "\n",
    "        hx_sx = 0.5 * oqupy.operators.sigma('x') * hx\n",
    "        hz_sz = 0.5 * oqupy.operators.sigma('z') * hz\n",
    "\n",
    "        return hz_sz + hx_sx\n",
    "    \n",
    "    return hamiltonian\n",
    "\n",
    "parametrized_system = oqupy.ParameterizedSystem(get_hamiltonian_discrete())\n",
    "\n",
    "# --- Compute fidelity, dynamics, and fidelity gradient -----------------------\n",
    "\n",
    "from oqupy.gradient import state_gradient\n",
    "\n",
    "fidelity_dict = oqupy.state_gradient(\n",
    "                system=parametrized_system,\n",
    "                initial_state=initial_state,\n",
    "                target_state=target_state,\n",
    "                process_tensor=process_tensor,\n",
    "                parameters=parameter_list,\n",
    "                return_dynamics=True,\n",
    "                return_fidelity=True)\n",
    "\n",
    "\n",
    "total_derivs_x = np.array([parameter[0] for parameter in fidelity_dict['gradient']])\n",
    "total_derivs_z = np.array([parameter[1] for parameter in fidelity_dict['gradient']])"
   ]
  },
  {
   "cell_type": "code",
   "execution_count": 51,
   "metadata": {},
   "outputs": [
    {
     "name": "stdout",
     "output_type": "stream",
     "text": [
      "the fidelity is (0.9198983875526671-1.2018012532922501e-08j)\n",
      "the fidelity gradient is [[ 2.42731992e-04-4.47843260e-17j  9.70360944e-17-1.84527144e-15j]\n",
      " [-8.22200067e-17+2.62623344e-18j  9.68192540e-17-1.84527822e-15j]\n",
      " [ 4.71082653e-04-1.61136160e-16j  9.54097912e-17-1.84700616e-15j]\n",
      " [ 2.39729661e-04-8.74171883e-17j  9.53013710e-17-1.84787353e-15j]\n",
      " [ 6.61727323e-04-2.24253667e-16j  9.41087486e-17-1.84441085e-15j]\n",
      " [ 4.59206461e-04-2.15034560e-16j  9.38919081e-17-1.84527822e-15j]\n",
      " [ 7.94521571e-04-2.45287189e-16j  9.70360944e-17-1.84531887e-15j]\n",
      " [ 6.35752669e-04-2.65856537e-16j  9.68192540e-17-1.84618624e-15j]\n",
      " [ 8.54840653e-04-3.21479497e-16j  9.17235038e-17-1.84424145e-15j]\n",
      " [ 7.50419778e-04-2.79327749e-16j  9.17235038e-17-1.84337409e-15j]\n",
      " [ 8.35060008e-04-3.75269477e-16j  9.26992857e-17-1.84014858e-15j]\n",
      " [ 7.90206571e-04-3.48662478e-16j  9.25908655e-17-1.84014858e-15j]\n",
      " [ 7.35293894e-04-2.43945489e-19j  9.23740251e-17-1.84178844e-15j]\n",
      " [ 7.49376543e-04-3.96909475e-16j  9.20487644e-17-1.84264903e-15j]\n",
      " [ 5.63356973e-04+7.76600464e-16j  9.22656049e-17-1.84252705e-15j]\n",
      " [ 6.30013439e-04-2.06337226e-18j  9.21571847e-17-1.84339441e-15j]\n",
      " [ 3.34259612e-04+8.83624771e-18j  9.18319240e-17-1.84169357e-15j]\n",
      " [ 4.41809691e-04+7.95391043e-16j  9.17235038e-17-1.84169357e-15j]\n",
      " [ 6.90425346e-05-3.23946057e-16j  9.29161262e-17-1.84171390e-15j]\n",
      " [ 2.01383669e-04+6.74111171e-18j  9.28077060e-17-1.84083976e-15j]\n",
      " [-2.06944223e-04+1.19763682e-16j  9.28077060e-17-1.83997240e-15j]\n",
      " [-6.90425346e-05-3.25941666e-16j  9.28077060e-17-1.83997240e-15j]\n",
      " [-4.66233234e-04+9.62703767e-16j  9.23740251e-17-1.83996563e-15j]\n",
      " [-3.43489102e-04+1.16626272e-16j  9.21571847e-17-1.84082621e-15j]\n",
      " [-6.81798996e-04+6.54451536e-16j  9.17235038e-17-1.84350284e-15j]\n",
      " [-5.94499733e-04+9.36106932e-16j  9.15066634e-17-1.84349606e-15j]\n",
      " [-8.29985822e-04-1.07842880e-15j  9.41087486e-17-1.84440408e-15j]\n",
      " [-7.95733246e-04+6.26987340e-16j  9.40003284e-17-1.84439730e-15j]\n",
      " [-8.93504732e-04-6.20448246e-16j  9.30245464e-17-1.84348251e-15j]\n",
      " [-9.24886126e-04-1.02347330e-15j  9.29161262e-17-1.84348251e-15j]\n",
      " [-8.63720200e-04+4.47870365e-16j  9.44340092e-17-1.84173423e-15j]\n",
      " [-9.66587973e-04-5.73380319e-16j  9.44340092e-17-1.84173423e-15j]\n",
      " [-7.42251142e-04+2.79988435e-16j  9.58434720e-17-1.84165292e-15j]\n",
      " [-9.14480602e-04+4.04481949e-16j  9.58434720e-17-1.84078555e-15j]\n",
      " [-5.41881392e-04+7.78253872e-17j  9.58434720e-17-1.83985043e-15j]\n",
      " [-7.72576954e-04+2.42630894e-16j  9.57350518e-17-1.83985043e-15j]\n",
      " [-2.84751923e-04-5.31936691e-18j  9.58434720e-17-1.83993174e-15j]\n",
      " [-5.55895757e-04+6.06035133e-17j  9.57350518e-17-1.83993174e-15j]\n",
      " [ 8.25891005e-17-3.29767441e-18j  9.49761103e-17-1.84075167e-15j]\n",
      " [-2.88318104e-04-3.59565486e-18j  9.49761103e-17-1.84075167e-15j]]\n"
     ]
    },
    {
     "name": "stderr",
     "output_type": "stream",
     "text": [
      "c:\\Users\\Administrator\\Desktop\\Research\\OQuPy\\.venv\\Lib\\site-packages\\matplotlib\\cbook.py:1699: ComplexWarning: Casting complex values to real discards the imaginary part\n",
      "  return math.isfinite(val)\n",
      "c:\\Users\\Administrator\\Desktop\\Research\\OQuPy\\.venv\\Lib\\site-packages\\matplotlib\\cbook.py:1345: ComplexWarning: Casting complex values to real discards the imaginary part\n",
      "  return np.asarray(x, float)\n"
     ]
    },
    {
     "data": {
      "image/png": "[encoded data removed]",
      "text/plain": [
       "<Figure size 640x480 with 1 Axes>"
      ]
     },
     "metadata": {},
     "output_type": "display_data"
    },
    {
     "data": {
      "image/png": "[encoded data removed]",
      "text/plain": [
       "<Figure size 640x480 with 1 Axes>"
      ]
     },
     "metadata": {},
     "output_type": "display_data"
    },
    {
     "name": "stderr",
     "output_type": "stream",
     "text": [
      "No artists with labels found to put in legend.  Note that artists whose label start with an underscore are ignored when legend() is called with no argument.\n"
     ]
    },
    {
     "data": {
      "image/png": "[encoded data removed]",
      "text/plain": [
       "<Figure size 640x480 with 1 Axes>"
      ]
     },
     "metadata": {},
     "output_type": "display_data"
    }
   ],
   "source": [
    "from scipy.linalg import sqrtm\n",
    "\n",
    "\n",
    "# --- Fidelity Gradient results ------\n",
    "\n",
    "print(f\"the fidelity is {fidelity_dict['fidelity']}\")\n",
    "print(f\"the fidelity gradient is {fidelity_dict['gradient']}\")\n",
    "\n",
    "# ----------- Initial Dynamics on Bloch sphere -------------\n",
    "t, s_x = fidelity_dict['dynamics'].expectations(op.sigma(\"x\"))\n",
    "t, s_y = fidelity_dict['dynamics'].expectations(op.sigma(\"y\"))\n",
    "t, s_z = fidelity_dict['dynamics'].expectations(op.sigma(\"z\"))\n",
    "\n",
    "plt.title(\"Pre-optimisation evolution of components\")\n",
    "\n",
    "plt.plot(t,s_x,label='x')\n",
    "plt.plot(t,s_y,label='y')\n",
    "plt.plot(t,s_z,label='z')\n",
    "\n",
    "plt.legend()\n",
    "plt.show()\n",
    "\n",
    "# ----- Fidelity Gradient Graph --------\n",
    "\n",
    "def sum_adjacent_elements(list:List)->List:\n",
    "\n",
    "    half_the_size = len(list) / 2\n",
    "    assert (half_the_size).is_integer(), \\\n",
    "        'if one output from both pre and post node is given, result must be even'\n",
    "    half_the_size = int(half_the_size)\n",
    "\n",
    "    summed_array = np.reshape(list,(half_the_size,2)).sum(axis=1)\n",
    "    return summed_array\n",
    "\n",
    "\n",
    "final_derivs_x = sum_adjacent_elements(total_derivs_x)\n",
    "final_derivs_z = sum_adjacent_elements(total_derivs_z)\n",
    "\n",
    "\n",
    "plt.plot(t[:-1],final_derivs_x,label='x')\n",
    "plt.plot(t[:-1],final_derivs_z,label='z')\n",
    "\n",
    "plt.legend()\n",
    "plt.ylabel(r\"$\\frac{\\partial \\mathcal{F(T)}}{\\partial h_i (t)}$\",rotation=0,fontsize=16)\n",
    "plt.xlabel(\"t\")\n",
    "plt.show()\n",
    "\n",
    "# Fidelity Graph \n",
    "dynamics = fidelity_dict['dynamics']\n",
    "fidelity=[]\n",
    "\n",
    "for state in dynamics.states:\n",
    "    sqrt_final_state = sqrtm(state)\n",
    "    intermediate_1 = sqrt_final_state @ target_state\n",
    "    inside_of_sqrt = intermediate_1 @ sqrt_final_state\n",
    "    fidelity.append((sqrtm(inside_of_sqrt).trace())**2)\n",
    "\n",
    "plt.plot(fidelity)\n",
    "plt.ylabel(r\"$\\mathcal{F} (t)$\",rotation=0,fontsize=16)\n",
    "plt.xlabel(\"t\")\n",
    "\n",
    "plt.legend()\n",
    "plt.show()\n"
   ]
  },
  {
   "cell_type": "code",
   "execution_count": 52,
   "metadata": {},
   "outputs": [],
   "source": [
    "\n",
    "# ----------- Optimisation of control parameters w.r.t. infidelity ---------------\n",
    "\n",
    "def flatten_list(parameter_list):\n",
    "    assert np.shape(parameter_list) == (2*process_tensor.__len__(),num_params)\n",
    "    parameter_list_flat = [\n",
    "    x\n",
    "    for xs in parameter_list\n",
    "    for x in xs\n",
    "    ]\n",
    "    print(np.shape(parameter_list_flat))\n",
    "    return parameter_list_flat\n",
    "\n",
    "def unflatten_list(flat_list):\n",
    "    assert np.shape(flat_list) == (2*num_params*process_tensor.__len__(),)\n",
    "    parameter_list = np.reshape(flat_list,(2*process_tensor.__len__(),num_params))\n",
    "    return parameter_list\n",
    "\n",
    "def sum_adjacent_elements(list:List)->List:\n",
    "    # maybe this goes in helpers.py or utils.py?\n",
    "    half_the_size = len(list) / 2\n",
    "    assert (half_the_size).is_integer(), \\\n",
    "        'if one output from both pre and post node is given, result must be even'\n",
    "    half_the_size = int(half_the_size)\n",
    "\n",
    "    # https://stackoverflow.com/a/29392016\n",
    "    summed_array = np.reshape(list,(half_the_size,2)).sum(axis=1)\n",
    "    return summed_array\n",
    "\n",
    "def infidelity(parameter_list_flat):\n",
    "\n",
    "    parameter_list_var = unflatten_list(parameter_list_flat)\n",
    "\n",
    "    return_dict = state_gradient(system=parametrized_system,\n",
    "        initial_state=initial_state,\n",
    "        target_state=target_state,\n",
    "        process_tensor=process_tensor,\n",
    "        parameters=parameter_list_var,\n",
    "        return_fidelity=True,\n",
    "        return_dynamics=False)\n",
    "    \n",
    "    return 1-float(return_dict['fidelity'])\n",
    "\n",
    "def fidelity_jacobian(parameter_list_flat):\n",
    "\n",
    "    parameter_list_var = unflatten_list(parameter_list_flat)\n",
    "\n",
    "    fidelity_dict = state_gradient(\n",
    "        system=parametrized_system,\n",
    "        initial_state=initial_state,\n",
    "        target_state=target_state,\n",
    "        process_tensor=process_tensor,\n",
    "        parameters=parameter_list_var)\n",
    "    \n",
    "    fidelity_jacobian = flatten_list(fidelity_dict['gradient'])\n",
    "\n",
    "    fidelity_jacobian = sum_adjacent_elements(fidelity_jacobian)\n",
    "\n",
    "    piecewiseconst_jacobian = [0]*num_steps*2*num_params\n",
    "\n",
    "    for i,element in enumerate(fidelity_jacobian):\n",
    "        piecewiseconst_jacobian[2*i] = fidelity_jacobian[i]\n",
    "        piecewiseconst_jacobian[2*i+1] = fidelity_jacobian[i]\n",
    "\n",
    "    fort_jac =np.asfortranarray(piecewiseconst_jacobian)\n",
    "\n",
    "    return -fort_jac"
   ]
  },
  {
   "cell_type": "code",
   "execution_count": 53,
   "metadata": {},
   "outputs": [
    {
     "name": "stdout",
     "output_type": "stream",
     "text": [
      "(80,)\n",
      "--> Compute dynamics:\n",
      "100.0%   20 of   20 [########################################] 00:00:00\n",
      "Elapsed time: 0.0s\n",
      "--> Compute dynamics:\n",
      "100.0%   20 of   20 [########################################] 00:00:00\n",
      "Elapsed time: 0.0s\n"
     ]
    },
    {
     "name": "stderr",
     "output_type": "stream",
     "text": [
      "C:\\Users\\Administrator\\AppData\\Local\\Temp\\ipykernel_40804\\1375674678.py:41: ComplexWarning: Casting complex values to real discards the imaginary part\n",
      "  return 1-float(return_dict['fidelity'])\n"
     ]
    },
    {
     "name": "stdout",
     "output_type": "stream",
     "text": [
      "(80,)\n",
      "--> Compute dynamics:\n",
      "100.0%   20 of   20 [########################################] 00:00:00\n",
      "Elapsed time: 0.0s\n"
     ]
    },
    {
     "name": "stderr",
     "output_type": "stream",
     "text": [
      "c:\\Users\\Administrator\\Desktop\\Research\\OQuPy\\.venv\\Lib\\site-packages\\scipy\\optimize\\_lbfgsb_py.py:354: ComplexWarning: Casting complex values to real discards the imaginary part\n",
      "  g = g.astype(np.float64)\n"
     ]
    },
    {
     "name": "stdout",
     "output_type": "stream",
     "text": [
      "--> Compute dynamics:\n",
      "100.0%   20 of   20 [########################################] 00:00:00\n",
      "Elapsed time: 0.0s\n"
     ]
    },
    {
     "name": "stderr",
     "output_type": "stream",
     "text": [
      "C:\\Users\\Administrator\\AppData\\Local\\Temp\\ipykernel_40804\\1375674678.py:41: ComplexWarning: Casting complex values to real discards the imaginary part\n",
      "  return 1-float(return_dict['fidelity'])\n"
     ]
    },
    {
     "name": "stdout",
     "output_type": "stream",
     "text": [
      "(80,)\n",
      "--> Compute dynamics:\n",
      "100.0%   20 of   20 [########################################] 00:00:00\n",
      "Elapsed time: 0.0s\n"
     ]
    },
    {
     "name": "stderr",
     "output_type": "stream",
     "text": [
      "c:\\Users\\Administrator\\Desktop\\Research\\OQuPy\\.venv\\Lib\\site-packages\\scipy\\optimize\\_lbfgsb_py.py:354: ComplexWarning: Casting complex values to real discards the imaginary part\n",
      "  g = g.astype(np.float64)\n"
     ]
    },
    {
     "name": "stdout",
     "output_type": "stream",
     "text": [
      "--> Compute dynamics:\n",
      "100.0%   20 of   20 [########################################] 00:00:00\n",
      "Elapsed time: 0.0s\n"
     ]
    },
    {
     "name": "stderr",
     "output_type": "stream",
     "text": [
      "C:\\Users\\Administrator\\AppData\\Local\\Temp\\ipykernel_40804\\1375674678.py:41: ComplexWarning: Casting complex values to real discards the imaginary part\n",
      "  return 1-float(return_dict['fidelity'])\n"
     ]
    },
    {
     "name": "stdout",
     "output_type": "stream",
     "text": [
      "--> Compute dynamics:\n",
      "100.0%   20 of   20 [########################################] 00:00:00\n",
      "Elapsed time: 0.0s\n"
     ]
    },
    {
     "name": "stderr",
     "output_type": "stream",
     "text": [
      "C:\\Users\\Administrator\\AppData\\Local\\Temp\\ipykernel_40804\\1375674678.py:41: ComplexWarning: Casting complex values to real discards the imaginary part\n",
      "  return 1-float(return_dict['fidelity'])\n"
     ]
    },
    {
     "name": "stdout",
     "output_type": "stream",
     "text": [
      "(80,)\n",
      "--> Compute dynamics:\n",
      "100.0%   20 of   20 [########################################] 00:00:00\n",
      "Elapsed time: 0.0s\n"
     ]
    },
    {
     "name": "stderr",
     "output_type": "stream",
     "text": [
      "c:\\Users\\Administrator\\Desktop\\Research\\OQuPy\\.venv\\Lib\\site-packages\\scipy\\optimize\\_lbfgsb_py.py:354: ComplexWarning: Casting complex values to real discards the imaginary part\n",
      "  g = g.astype(np.float64)\n"
     ]
    },
    {
     "name": "stdout",
     "output_type": "stream",
     "text": [
      "--> Compute dynamics:\n",
      "100.0%   20 of   20 [########################################] 00:00:00\n",
      "Elapsed time: 0.0s\n"
     ]
    },
    {
     "name": "stderr",
     "output_type": "stream",
     "text": [
      "C:\\Users\\Administrator\\AppData\\Local\\Temp\\ipykernel_40804\\1375674678.py:41: ComplexWarning: Casting complex values to real discards the imaginary part\n",
      "  return 1-float(return_dict['fidelity'])\n"
     ]
    },
    {
     "name": "stdout",
     "output_type": "stream",
     "text": [
      "(80,)\n",
      "--> Compute dynamics:\n",
      "100.0%   20 of   20 [########################################] 00:00:00\n",
      "Elapsed time: 0.0s\n"
     ]
    },
    {
     "name": "stderr",
     "output_type": "stream",
     "text": [
      "c:\\Users\\Administrator\\Desktop\\Research\\OQuPy\\.venv\\Lib\\site-packages\\scipy\\optimize\\_lbfgsb_py.py:354: ComplexWarning: Casting complex values to real discards the imaginary part\n",
      "  g = g.astype(np.float64)\n"
     ]
    },
    {
     "name": "stdout",
     "output_type": "stream",
     "text": [
      "--> Compute dynamics:\n",
      "100.0%   20 of   20 [########################################] 00:00:00\n",
      "Elapsed time: 0.0s\n"
     ]
    },
    {
     "name": "stderr",
     "output_type": "stream",
     "text": [
      "C:\\Users\\Administrator\\AppData\\Local\\Temp\\ipykernel_40804\\1375674678.py:41: ComplexWarning: Casting complex values to real discards the imaginary part\n",
      "  return 1-float(return_dict['fidelity'])\n"
     ]
    },
    {
     "name": "stdout",
     "output_type": "stream",
     "text": [
      "(80,)\n",
      "--> Compute dynamics:\n",
      "100.0%   20 of   20 [########################################] 00:00:00\n",
      "Elapsed time: 0.0s\n"
     ]
    },
    {
     "name": "stderr",
     "output_type": "stream",
     "text": [
      "c:\\Users\\Administrator\\Desktop\\Research\\OQuPy\\.venv\\Lib\\site-packages\\scipy\\optimize\\_lbfgsb_py.py:354: ComplexWarning: Casting complex values to real discards the imaginary part\n",
      "  g = g.astype(np.float64)\n"
     ]
    },
    {
     "name": "stdout",
     "output_type": "stream",
     "text": [
      "--> Compute dynamics:\n",
      "100.0%   20 of   20 [########################################] 00:00:00\n",
      "Elapsed time: 0.0s\n"
     ]
    },
    {
     "name": "stderr",
     "output_type": "stream",
     "text": [
      "C:\\Users\\Administrator\\AppData\\Local\\Temp\\ipykernel_40804\\1375674678.py:41: ComplexWarning: Casting complex values to real discards the imaginary part\n",
      "  return 1-float(return_dict['fidelity'])\n"
     ]
    },
    {
     "name": "stdout",
     "output_type": "stream",
     "text": [
      "(80,)\n",
      "--> Compute dynamics:\n",
      "100.0%   20 of   20 [########################################] 00:00:00\n",
      "Elapsed time: 0.0s\n"
     ]
    },
    {
     "name": "stderr",
     "output_type": "stream",
     "text": [
      "c:\\Users\\Administrator\\Desktop\\Research\\OQuPy\\.venv\\Lib\\site-packages\\scipy\\optimize\\_lbfgsb_py.py:354: ComplexWarning: Casting complex values to real discards the imaginary part\n",
      "  g = g.astype(np.float64)\n"
     ]
    },
    {
     "name": "stdout",
     "output_type": "stream",
     "text": [
      "--> Compute dynamics:\n",
      "100.0%   20 of   20 [########################################] 00:00:00\n",
      "Elapsed time: 0.0s\n"
     ]
    },
    {
     "name": "stderr",
     "output_type": "stream",
     "text": [
      "C:\\Users\\Administrator\\AppData\\Local\\Temp\\ipykernel_40804\\1375674678.py:41: ComplexWarning: Casting complex values to real discards the imaginary part\n",
      "  return 1-float(return_dict['fidelity'])\n"
     ]
    },
    {
     "name": "stdout",
     "output_type": "stream",
     "text": [
      "(80,)\n",
      "--> Compute dynamics:\n",
      "100.0%   20 of   20 [########################################] 00:00:00\n",
      "Elapsed time: 0.0s\n"
     ]
    },
    {
     "name": "stderr",
     "output_type": "stream",
     "text": [
      "c:\\Users\\Administrator\\Desktop\\Research\\OQuPy\\.venv\\Lib\\site-packages\\scipy\\optimize\\_lbfgsb_py.py:354: ComplexWarning: Casting complex values to real discards the imaginary part\n",
      "  g = g.astype(np.float64)\n"
     ]
    },
    {
     "name": "stdout",
     "output_type": "stream",
     "text": [
      "--> Compute dynamics:\n",
      "100.0%   20 of   20 [########################################] 00:00:00\n",
      "Elapsed time: 0.0s\n"
     ]
    },
    {
     "name": "stderr",
     "output_type": "stream",
     "text": [
      "C:\\Users\\Administrator\\AppData\\Local\\Temp\\ipykernel_40804\\1375674678.py:41: ComplexWarning: Casting complex values to real discards the imaginary part\n",
      "  return 1-float(return_dict['fidelity'])\n"
     ]
    },
    {
     "name": "stdout",
     "output_type": "stream",
     "text": [
      "(80,)\n",
      "--> Compute dynamics:\n",
      "100.0%   20 of   20 [########################################] 00:00:00\n",
      "Elapsed time: 0.0s\n"
     ]
    },
    {
     "name": "stderr",
     "output_type": "stream",
     "text": [
      "c:\\Users\\Administrator\\Desktop\\Research\\OQuPy\\.venv\\Lib\\site-packages\\scipy\\optimize\\_lbfgsb_py.py:354: ComplexWarning: Casting complex values to real discards the imaginary part\n",
      "  g = g.astype(np.float64)\n"
     ]
    },
    {
     "name": "stdout",
     "output_type": "stream",
     "text": [
      "--> Compute dynamics:\n",
      "100.0%   20 of   20 [########################################] 00:00:00\n",
      "Elapsed time: 0.0s\n"
     ]
    },
    {
     "name": "stderr",
     "output_type": "stream",
     "text": [
      "C:\\Users\\Administrator\\AppData\\Local\\Temp\\ipykernel_40804\\1375674678.py:41: ComplexWarning: Casting complex values to real discards the imaginary part\n",
      "  return 1-float(return_dict['fidelity'])\n"
     ]
    },
    {
     "name": "stdout",
     "output_type": "stream",
     "text": [
      "--> Compute dynamics:\n",
      "100.0%   20 of   20 [########################################] 00:00:00\n",
      "Elapsed time: 0.0s\n"
     ]
    },
    {
     "name": "stderr",
     "output_type": "stream",
     "text": [
      "C:\\Users\\Administrator\\AppData\\Local\\Temp\\ipykernel_40804\\1375674678.py:41: ComplexWarning: Casting complex values to real discards the imaginary part\n",
      "  return 1-float(return_dict['fidelity'])\n"
     ]
    },
    {
     "name": "stdout",
     "output_type": "stream",
     "text": [
      "(80,)\n",
      "--> Compute dynamics:\n",
      "100.0%   20 of   20 [########################################] 00:00:00\n",
      "Elapsed time: 0.0s\n"
     ]
    },
    {
     "name": "stderr",
     "output_type": "stream",
     "text": [
      "c:\\Users\\Administrator\\Desktop\\Research\\OQuPy\\.venv\\Lib\\site-packages\\scipy\\optimize\\_lbfgsb_py.py:354: ComplexWarning: Casting complex values to real discards the imaginary part\n",
      "  g = g.astype(np.float64)\n"
     ]
    },
    {
     "name": "stdout",
     "output_type": "stream",
     "text": [
      "--> Compute dynamics:\n",
      "100.0%   20 of   20 [########################################] 00:00:00\n",
      "Elapsed time: 0.0s\n"
     ]
    },
    {
     "name": "stderr",
     "output_type": "stream",
     "text": [
      "C:\\Users\\Administrator\\AppData\\Local\\Temp\\ipykernel_40804\\1375674678.py:41: ComplexWarning: Casting complex values to real discards the imaginary part\n",
      "  return 1-float(return_dict['fidelity'])\n"
     ]
    },
    {
     "name": "stdout",
     "output_type": "stream",
     "text": [
      "(80,)\n",
      "--> Compute dynamics:\n",
      "100.0%   20 of   20 [########################################] 00:00:00\n",
      "Elapsed time: 0.0s\n"
     ]
    },
    {
     "name": "stderr",
     "output_type": "stream",
     "text": [
      "c:\\Users\\Administrator\\Desktop\\Research\\OQuPy\\.venv\\Lib\\site-packages\\scipy\\optimize\\_lbfgsb_py.py:354: ComplexWarning: Casting complex values to real discards the imaginary part\n",
      "  g = g.astype(np.float64)\n"
     ]
    },
    {
     "name": "stdout",
     "output_type": "stream",
     "text": [
      "--> Compute dynamics:\n",
      "100.0%   20 of   20 [########################################] 00:00:00\n",
      "Elapsed time: 0.0s\n"
     ]
    },
    {
     "name": "stderr",
     "output_type": "stream",
     "text": [
      "C:\\Users\\Administrator\\AppData\\Local\\Temp\\ipykernel_40804\\1375674678.py:41: ComplexWarning: Casting complex values to real discards the imaginary part\n",
      "  return 1-float(return_dict['fidelity'])\n"
     ]
    },
    {
     "name": "stdout",
     "output_type": "stream",
     "text": [
      "(80,)\n",
      "--> Compute dynamics:\n",
      "100.0%   20 of   20 [########################################] 00:00:00\n",
      "Elapsed time: 0.0s\n"
     ]
    },
    {
     "name": "stderr",
     "output_type": "stream",
     "text": [
      "c:\\Users\\Administrator\\Desktop\\Research\\OQuPy\\.venv\\Lib\\site-packages\\scipy\\optimize\\_lbfgsb_py.py:354: ComplexWarning: Casting complex values to real discards the imaginary part\n",
      "  g = g.astype(np.float64)\n"
     ]
    },
    {
     "name": "stdout",
     "output_type": "stream",
     "text": [
      "--> Compute dynamics:\n",
      "100.0%   20 of   20 [########################################] 00:00:00\n",
      "Elapsed time: 0.0s\n"
     ]
    },
    {
     "name": "stderr",
     "output_type": "stream",
     "text": [
      "C:\\Users\\Administrator\\AppData\\Local\\Temp\\ipykernel_40804\\1375674678.py:41: ComplexWarning: Casting complex values to real discards the imaginary part\n",
      "  return 1-float(return_dict['fidelity'])\n"
     ]
    },
    {
     "name": "stdout",
     "output_type": "stream",
     "text": [
      "--> Compute dynamics:\n",
      "100.0%   20 of   20 [########################################] 00:00:00\n",
      "Elapsed time: 0.0s\n"
     ]
    },
    {
     "name": "stderr",
     "output_type": "stream",
     "text": [
      "C:\\Users\\Administrator\\AppData\\Local\\Temp\\ipykernel_40804\\1375674678.py:41: ComplexWarning: Casting complex values to real discards the imaginary part\n",
      "  return 1-float(return_dict['fidelity'])\n"
     ]
    },
    {
     "name": "stdout",
     "output_type": "stream",
     "text": [
      "(80,)\n",
      "--> Compute dynamics:\n",
      "100.0%   20 of   20 [########################################] 00:00:00\n",
      "Elapsed time: 0.0s\n"
     ]
    },
    {
     "name": "stderr",
     "output_type": "stream",
     "text": [
      "c:\\Users\\Administrator\\Desktop\\Research\\OQuPy\\.venv\\Lib\\site-packages\\scipy\\optimize\\_lbfgsb_py.py:354: ComplexWarning: Casting complex values to real discards the imaginary part\n",
      "  g = g.astype(np.float64)\n"
     ]
    },
    {
     "name": "stdout",
     "output_type": "stream",
     "text": [
      "--> Compute dynamics:\n",
      "100.0%   20 of   20 [########################################] 00:00:00\n",
      "Elapsed time: 0.0s\n"
     ]
    },
    {
     "name": "stderr",
     "output_type": "stream",
     "text": [
      "C:\\Users\\Administrator\\AppData\\Local\\Temp\\ipykernel_40804\\1375674678.py:41: ComplexWarning: Casting complex values to real discards the imaginary part\n",
      "  return 1-float(return_dict['fidelity'])\n"
     ]
    },
    {
     "name": "stdout",
     "output_type": "stream",
     "text": [
      "(80,)\n",
      "--> Compute dynamics:\n",
      "100.0%   20 of   20 [########################################] 00:00:00\n",
      "Elapsed time: 0.0s\n"
     ]
    },
    {
     "name": "stderr",
     "output_type": "stream",
     "text": [
      "c:\\Users\\Administrator\\Desktop\\Research\\OQuPy\\.venv\\Lib\\site-packages\\scipy\\optimize\\_lbfgsb_py.py:354: ComplexWarning: Casting complex values to real discards the imaginary part\n",
      "  g = g.astype(np.float64)\n"
     ]
    },
    {
     "name": "stdout",
     "output_type": "stream",
     "text": [
      "--> Compute dynamics:\n",
      "100.0%   20 of   20 [########################################] 00:00:00\n",
      "Elapsed time: 0.0s\n"
     ]
    },
    {
     "name": "stderr",
     "output_type": "stream",
     "text": [
      "C:\\Users\\Administrator\\AppData\\Local\\Temp\\ipykernel_40804\\1375674678.py:41: ComplexWarning: Casting complex values to real discards the imaginary part\n",
      "  return 1-float(return_dict['fidelity'])\n"
     ]
    },
    {
     "name": "stdout",
     "output_type": "stream",
     "text": [
      "--> Compute dynamics:\n",
      "100.0%   20 of   20 [########################################] 00:00:00\n",
      "Elapsed time: 0.0s\n"
     ]
    },
    {
     "name": "stderr",
     "output_type": "stream",
     "text": [
      "C:\\Users\\Administrator\\AppData\\Local\\Temp\\ipykernel_40804\\1375674678.py:41: ComplexWarning: Casting complex values to real discards the imaginary part\n",
      "  return 1-float(return_dict['fidelity'])\n"
     ]
    },
    {
     "name": "stdout",
     "output_type": "stream",
     "text": [
      "(80,)\n",
      "--> Compute dynamics:\n",
      "100.0%   20 of   20 [########################################] 00:00:00\n",
      "Elapsed time: 0.0s\n"
     ]
    },
    {
     "name": "stderr",
     "output_type": "stream",
     "text": [
      "c:\\Users\\Administrator\\Desktop\\Research\\OQuPy\\.venv\\Lib\\site-packages\\scipy\\optimize\\_lbfgsb_py.py:354: ComplexWarning: Casting complex values to real discards the imaginary part\n",
      "  g = g.astype(np.float64)\n"
     ]
    },
    {
     "name": "stdout",
     "output_type": "stream",
     "text": [
      "--> Compute dynamics:\n",
      "100.0%   20 of   20 [########################################] 00:00:00\n",
      "Elapsed time: 0.0s\n"
     ]
    },
    {
     "name": "stderr",
     "output_type": "stream",
     "text": [
      "C:\\Users\\Administrator\\AppData\\Local\\Temp\\ipykernel_40804\\1375674678.py:41: ComplexWarning: Casting complex values to real discards the imaginary part\n",
      "  return 1-float(return_dict['fidelity'])\n"
     ]
    },
    {
     "name": "stdout",
     "output_type": "stream",
     "text": [
      "(80,)\n",
      "--> Compute dynamics:\n",
      "100.0%   20 of   20 [########################################] 00:00:00\n",
      "Elapsed time: 0.0s\n"
     ]
    },
    {
     "name": "stderr",
     "output_type": "stream",
     "text": [
      "c:\\Users\\Administrator\\Desktop\\Research\\OQuPy\\.venv\\Lib\\site-packages\\scipy\\optimize\\_lbfgsb_py.py:354: ComplexWarning: Casting complex values to real discards the imaginary part\n",
      "  g = g.astype(np.float64)\n"
     ]
    },
    {
     "name": "stdout",
     "output_type": "stream",
     "text": [
      "--> Compute dynamics:\n",
      "100.0%   20 of   20 [########################################] 00:00:00\n",
      "Elapsed time: 0.0s\n"
     ]
    },
    {
     "name": "stderr",
     "output_type": "stream",
     "text": [
      "C:\\Users\\Administrator\\AppData\\Local\\Temp\\ipykernel_40804\\1375674678.py:41: ComplexWarning: Casting complex values to real discards the imaginary part\n",
      "  return 1-float(return_dict['fidelity'])\n"
     ]
    },
    {
     "name": "stdout",
     "output_type": "stream",
     "text": [
      "(80,)\n",
      "--> Compute dynamics:\n",
      "100.0%   20 of   20 [########################################] 00:00:00\n",
      "Elapsed time: 0.0s\n"
     ]
    },
    {
     "name": "stderr",
     "output_type": "stream",
     "text": [
      "c:\\Users\\Administrator\\Desktop\\Research\\OQuPy\\.venv\\Lib\\site-packages\\scipy\\optimize\\_lbfgsb_py.py:354: ComplexWarning: Casting complex values to real discards the imaginary part\n",
      "  g = g.astype(np.float64)\n"
     ]
    },
    {
     "name": "stdout",
     "output_type": "stream",
     "text": [
      "--> Compute dynamics:\n",
      "100.0%   20 of   20 [########################################] 00:00:00\n",
      "Elapsed time: 0.0s\n"
     ]
    },
    {
     "name": "stderr",
     "output_type": "stream",
     "text": [
      "C:\\Users\\Administrator\\AppData\\Local\\Temp\\ipykernel_40804\\1375674678.py:41: ComplexWarning: Casting complex values to real discards the imaginary part\n",
      "  return 1-float(return_dict['fidelity'])\n"
     ]
    },
    {
     "name": "stdout",
     "output_type": "stream",
     "text": [
      "(80,)\n",
      "--> Compute dynamics:\n",
      "100.0%   20 of   20 [########################################] 00:00:00\n",
      "Elapsed time: 0.0s\n"
     ]
    },
    {
     "name": "stderr",
     "output_type": "stream",
     "text": [
      "c:\\Users\\Administrator\\Desktop\\Research\\OQuPy\\.venv\\Lib\\site-packages\\scipy\\optimize\\_lbfgsb_py.py:354: ComplexWarning: Casting complex values to real discards the imaginary part\n",
      "  g = g.astype(np.float64)\n"
     ]
    },
    {
     "name": "stdout",
     "output_type": "stream",
     "text": [
      "--> Compute dynamics:\n",
      "100.0%   20 of   20 [########################################] 00:00:00\n",
      "Elapsed time: 0.0s\n"
     ]
    },
    {
     "name": "stderr",
     "output_type": "stream",
     "text": [
      "C:\\Users\\Administrator\\AppData\\Local\\Temp\\ipykernel_40804\\1375674678.py:41: ComplexWarning: Casting complex values to real discards the imaginary part\n",
      "  return 1-float(return_dict['fidelity'])\n"
     ]
    },
    {
     "name": "stdout",
     "output_type": "stream",
     "text": [
      "(80,)\n",
      "--> Compute dynamics:\n",
      "100.0%   20 of   20 [########################################] 00:00:00\n",
      "Elapsed time: 0.0s\n"
     ]
    },
    {
     "name": "stderr",
     "output_type": "stream",
     "text": [
      "c:\\Users\\Administrator\\Desktop\\Research\\OQuPy\\.venv\\Lib\\site-packages\\scipy\\optimize\\_lbfgsb_py.py:354: ComplexWarning: Casting complex values to real discards the imaginary part\n",
      "  g = g.astype(np.float64)\n"
     ]
    },
    {
     "name": "stdout",
     "output_type": "stream",
     "text": [
      "--> Compute dynamics:\n",
      "100.0%   20 of   20 [########################################] 00:00:00\n",
      "Elapsed time: 0.0s\n"
     ]
    },
    {
     "name": "stderr",
     "output_type": "stream",
     "text": [
      "C:\\Users\\Administrator\\AppData\\Local\\Temp\\ipykernel_40804\\1375674678.py:41: ComplexWarning: Casting complex values to real discards the imaginary part\n",
      "  return 1-float(return_dict['fidelity'])\n"
     ]
    },
    {
     "name": "stdout",
     "output_type": "stream",
     "text": [
      "(80,)\n",
      "--> Compute dynamics:\n",
      "100.0%   20 of   20 [########################################] 00:00:00\n",
      "Elapsed time: 0.0s\n"
     ]
    },
    {
     "name": "stderr",
     "output_type": "stream",
     "text": [
      "c:\\Users\\Administrator\\Desktop\\Research\\OQuPy\\.venv\\Lib\\site-packages\\scipy\\optimize\\_lbfgsb_py.py:354: ComplexWarning: Casting complex values to real discards the imaginary part\n",
      "  g = g.astype(np.float64)\n"
     ]
    },
    {
     "name": "stdout",
     "output_type": "stream",
     "text": [
      "--> Compute dynamics:\n",
      "100.0%   20 of   20 [########################################] 00:00:00\n",
      "Elapsed time: 0.0s\n"
     ]
    },
    {
     "name": "stderr",
     "output_type": "stream",
     "text": [
      "C:\\Users\\Administrator\\AppData\\Local\\Temp\\ipykernel_40804\\1375674678.py:41: ComplexWarning: Casting complex values to real discards the imaginary part\n",
      "  return 1-float(return_dict['fidelity'])\n"
     ]
    },
    {
     "name": "stdout",
     "output_type": "stream",
     "text": [
      "(80,)\n",
      "--> Compute dynamics:\n",
      "100.0%   20 of   20 [########################################] 00:00:00\n",
      "Elapsed time: 0.1s\n"
     ]
    },
    {
     "name": "stderr",
     "output_type": "stream",
     "text": [
      "c:\\Users\\Administrator\\Desktop\\Research\\OQuPy\\.venv\\Lib\\site-packages\\scipy\\optimize\\_lbfgsb_py.py:354: ComplexWarning: Casting complex values to real discards the imaginary part\n",
      "  g = g.astype(np.float64)\n"
     ]
    },
    {
     "name": "stdout",
     "output_type": "stream",
     "text": [
      "--> Compute dynamics:\n",
      "100.0%   20 of   20 [########################################] 00:00:00\n",
      "Elapsed time: 0.0s\n"
     ]
    },
    {
     "name": "stderr",
     "output_type": "stream",
     "text": [
      "C:\\Users\\Administrator\\AppData\\Local\\Temp\\ipykernel_40804\\1375674678.py:41: ComplexWarning: Casting complex values to real discards the imaginary part\n",
      "  return 1-float(return_dict['fidelity'])\n"
     ]
    },
    {
     "name": "stdout",
     "output_type": "stream",
     "text": [
      "(80,)\n",
      "--> Compute dynamics:\n",
      "100.0%   20 of   20 [########################################] 00:00:00\n",
      "Elapsed time: 0.0s\n"
     ]
    },
    {
     "name": "stderr",
     "output_type": "stream",
     "text": [
      "c:\\Users\\Administrator\\Desktop\\Research\\OQuPy\\.venv\\Lib\\site-packages\\scipy\\optimize\\_lbfgsb_py.py:354: ComplexWarning: Casting complex values to real discards the imaginary part\n",
      "  g = g.astype(np.float64)\n"
     ]
    },
    {
     "name": "stdout",
     "output_type": "stream",
     "text": [
      "--> Compute dynamics:\n",
      "100.0%   20 of   20 [########################################] 00:00:00\n",
      "Elapsed time: 0.0s\n"
     ]
    },
    {
     "name": "stderr",
     "output_type": "stream",
     "text": [
      "C:\\Users\\Administrator\\AppData\\Local\\Temp\\ipykernel_40804\\1375674678.py:41: ComplexWarning: Casting complex values to real discards the imaginary part\n",
      "  return 1-float(return_dict['fidelity'])\n"
     ]
    },
    {
     "name": "stdout",
     "output_type": "stream",
     "text": [
      "(80,)\n",
      "--> Compute dynamics:\n",
      "100.0%   20 of   20 [########################################] 00:00:00\n",
      "Elapsed time: 0.0s\n"
     ]
    },
    {
     "name": "stderr",
     "output_type": "stream",
     "text": [
      "c:\\Users\\Administrator\\Desktop\\Research\\OQuPy\\.venv\\Lib\\site-packages\\scipy\\optimize\\_lbfgsb_py.py:354: ComplexWarning: Casting complex values to real discards the imaginary part\n",
      "  g = g.astype(np.float64)\n"
     ]
    },
    {
     "name": "stdout",
     "output_type": "stream",
     "text": [
      "--> Compute dynamics:\n",
      "100.0%   20 of   20 [########################################] 00:00:00\n",
      "Elapsed time: 0.0s\n"
     ]
    },
    {
     "name": "stderr",
     "output_type": "stream",
     "text": [
      "C:\\Users\\Administrator\\AppData\\Local\\Temp\\ipykernel_40804\\1375674678.py:41: ComplexWarning: Casting complex values to real discards the imaginary part\n",
      "  return 1-float(return_dict['fidelity'])\n"
     ]
    },
    {
     "name": "stdout",
     "output_type": "stream",
     "text": [
      "(80,)\n",
      "--> Compute dynamics:\n",
      "100.0%   20 of   20 [########################################] 00:00:00\n",
      "Elapsed time: 0.0s\n"
     ]
    },
    {
     "name": "stderr",
     "output_type": "stream",
     "text": [
      "c:\\Users\\Administrator\\Desktop\\Research\\OQuPy\\.venv\\Lib\\site-packages\\scipy\\optimize\\_lbfgsb_py.py:354: ComplexWarning: Casting complex values to real discards the imaginary part\n",
      "  g = g.astype(np.float64)\n"
     ]
    },
    {
     "name": "stdout",
     "output_type": "stream",
     "text": [
      "--> Compute dynamics:\n",
      "100.0%   20 of   20 [########################################] 00:00:00\n",
      "Elapsed time: 0.0s\n"
     ]
    },
    {
     "name": "stderr",
     "output_type": "stream",
     "text": [
      "C:\\Users\\Administrator\\AppData\\Local\\Temp\\ipykernel_40804\\1375674678.py:41: ComplexWarning: Casting complex values to real discards the imaginary part\n",
      "  return 1-float(return_dict['fidelity'])\n"
     ]
    },
    {
     "name": "stdout",
     "output_type": "stream",
     "text": [
      "(80,)\n",
      "--> Compute dynamics:\n",
      "100.0%   20 of   20 [########################################] 00:00:00\n",
      "Elapsed time: 0.0s\n"
     ]
    },
    {
     "name": "stderr",
     "output_type": "stream",
     "text": [
      "c:\\Users\\Administrator\\Desktop\\Research\\OQuPy\\.venv\\Lib\\site-packages\\scipy\\optimize\\_lbfgsb_py.py:354: ComplexWarning: Casting complex values to real discards the imaginary part\n",
      "  g = g.astype(np.float64)\n"
     ]
    },
    {
     "name": "stdout",
     "output_type": "stream",
     "text": [
      "--> Compute dynamics:\n",
      "100.0%   20 of   20 [########################################] 00:00:00\n",
      "Elapsed time: 0.0s\n"
     ]
    },
    {
     "name": "stderr",
     "output_type": "stream",
     "text": [
      "C:\\Users\\Administrator\\AppData\\Local\\Temp\\ipykernel_40804\\1375674678.py:41: ComplexWarning: Casting complex values to real discards the imaginary part\n",
      "  return 1-float(return_dict['fidelity'])\n"
     ]
    },
    {
     "name": "stdout",
     "output_type": "stream",
     "text": [
      "--> Compute dynamics:\n",
      "100.0%   20 of   20 [########################################] 00:00:00\n",
      "Elapsed time: 0.0s\n"
     ]
    },
    {
     "name": "stderr",
     "output_type": "stream",
     "text": [
      "C:\\Users\\Administrator\\AppData\\Local\\Temp\\ipykernel_40804\\1375674678.py:41: ComplexWarning: Casting complex values to real discards the imaginary part\n",
      "  return 1-float(return_dict['fidelity'])\n"
     ]
    },
    {
     "name": "stdout",
     "output_type": "stream",
     "text": [
      "(80,)\n",
      "--> Compute dynamics:\n",
      "100.0%   20 of   20 [########################################] 00:00:00\n",
      "Elapsed time: 0.0s\n"
     ]
    },
    {
     "name": "stderr",
     "output_type": "stream",
     "text": [
      "c:\\Users\\Administrator\\Desktop\\Research\\OQuPy\\.venv\\Lib\\site-packages\\scipy\\optimize\\_lbfgsb_py.py:354: ComplexWarning: Casting complex values to real discards the imaginary part\n",
      "  g = g.astype(np.float64)\n"
     ]
    },
    {
     "name": "stdout",
     "output_type": "stream",
     "text": [
      "--> Compute dynamics:\n",
      "100.0%   20 of   20 [########################################] 00:00:00\n",
      "Elapsed time: 0.0s\n"
     ]
    },
    {
     "name": "stderr",
     "output_type": "stream",
     "text": [
      "C:\\Users\\Administrator\\AppData\\Local\\Temp\\ipykernel_40804\\1375674678.py:41: ComplexWarning: Casting complex values to real discards the imaginary part\n",
      "  return 1-float(return_dict['fidelity'])\n"
     ]
    },
    {
     "name": "stdout",
     "output_type": "stream",
     "text": [
      "(80,)\n",
      "--> Compute dynamics:\n",
      "100.0%   20 of   20 [########################################] 00:00:00\n",
      "Elapsed time: 0.0s\n"
     ]
    },
    {
     "name": "stderr",
     "output_type": "stream",
     "text": [
      "c:\\Users\\Administrator\\Desktop\\Research\\OQuPy\\.venv\\Lib\\site-packages\\scipy\\optimize\\_lbfgsb_py.py:354: ComplexWarning: Casting complex values to real discards the imaginary part\n",
      "  g = g.astype(np.float64)\n"
     ]
    },
    {
     "name": "stdout",
     "output_type": "stream",
     "text": [
      "--> Compute dynamics:\n",
      "100.0%   20 of   20 [########################################] 00:00:00\n",
      "Elapsed time: 0.0s\n"
     ]
    },
    {
     "name": "stderr",
     "output_type": "stream",
     "text": [
      "C:\\Users\\Administrator\\AppData\\Local\\Temp\\ipykernel_40804\\1375674678.py:41: ComplexWarning: Casting complex values to real discards the imaginary part\n",
      "  return 1-float(return_dict['fidelity'])\n"
     ]
    },
    {
     "name": "stdout",
     "output_type": "stream",
     "text": [
      "(80,)\n",
      "--> Compute dynamics:\n",
      "100.0%   20 of   20 [########################################] 00:00:00\n",
      "Elapsed time: 0.0s\n"
     ]
    },
    {
     "name": "stderr",
     "output_type": "stream",
     "text": [
      "c:\\Users\\Administrator\\Desktop\\Research\\OQuPy\\.venv\\Lib\\site-packages\\scipy\\optimize\\_lbfgsb_py.py:354: ComplexWarning: Casting complex values to real discards the imaginary part\n",
      "  g = g.astype(np.float64)\n"
     ]
    },
    {
     "name": "stdout",
     "output_type": "stream",
     "text": [
      "--> Compute dynamics:\n",
      "100.0%   20 of   20 [########################################] 00:00:00\n",
      "Elapsed time: 0.0s\n"
     ]
    },
    {
     "name": "stderr",
     "output_type": "stream",
     "text": [
      "C:\\Users\\Administrator\\AppData\\Local\\Temp\\ipykernel_40804\\1375674678.py:41: ComplexWarning: Casting complex values to real discards the imaginary part\n",
      "  return 1-float(return_dict['fidelity'])\n"
     ]
    },
    {
     "name": "stdout",
     "output_type": "stream",
     "text": [
      "(80,)\n",
      "--> Compute dynamics:\n",
      "100.0%   20 of   20 [########################################] 00:00:00\n",
      "Elapsed time: 0.0s\n"
     ]
    },
    {
     "name": "stderr",
     "output_type": "stream",
     "text": [
      "c:\\Users\\Administrator\\Desktop\\Research\\OQuPy\\.venv\\Lib\\site-packages\\scipy\\optimize\\_lbfgsb_py.py:354: ComplexWarning: Casting complex values to real discards the imaginary part\n",
      "  g = g.astype(np.float64)\n"
     ]
    },
    {
     "name": "stdout",
     "output_type": "stream",
     "text": [
      "--> Compute dynamics:\n",
      "100.0%   20 of   20 [########################################] 00:00:00\n",
      "Elapsed time: 0.0s\n"
     ]
    },
    {
     "name": "stderr",
     "output_type": "stream",
     "text": [
      "C:\\Users\\Administrator\\AppData\\Local\\Temp\\ipykernel_40804\\1375674678.py:41: ComplexWarning: Casting complex values to real discards the imaginary part\n",
      "  return 1-float(return_dict['fidelity'])\n"
     ]
    },
    {
     "name": "stdout",
     "output_type": "stream",
     "text": [
      "(80,)\n",
      "--> Compute dynamics:\n",
      "100.0%   20 of   20 [########################################] 00:00:00\n",
      "Elapsed time: 0.0s\n"
     ]
    },
    {
     "name": "stderr",
     "output_type": "stream",
     "text": [
      "c:\\Users\\Administrator\\Desktop\\Research\\OQuPy\\.venv\\Lib\\site-packages\\scipy\\optimize\\_lbfgsb_py.py:354: ComplexWarning: Casting complex values to real discards the imaginary part\n",
      "  g = g.astype(np.float64)\n"
     ]
    },
    {
     "name": "stdout",
     "output_type": "stream",
     "text": [
      "--> Compute dynamics:\n",
      "100.0%   20 of   20 [########################################] 00:00:00\n",
      "Elapsed time: 0.0s\n"
     ]
    },
    {
     "name": "stderr",
     "output_type": "stream",
     "text": [
      "C:\\Users\\Administrator\\AppData\\Local\\Temp\\ipykernel_40804\\1375674678.py:41: ComplexWarning: Casting complex values to real discards the imaginary part\n",
      "  return 1-float(return_dict['fidelity'])\n"
     ]
    },
    {
     "name": "stdout",
     "output_type": "stream",
     "text": [
      "(80,)\n",
      "--> Compute dynamics:\n",
      "100.0%   20 of   20 [########################################] 00:00:00\n",
      "Elapsed time: 0.0s\n"
     ]
    },
    {
     "name": "stderr",
     "output_type": "stream",
     "text": [
      "c:\\Users\\Administrator\\Desktop\\Research\\OQuPy\\.venv\\Lib\\site-packages\\scipy\\optimize\\_lbfgsb_py.py:354: ComplexWarning: Casting complex values to real discards the imaginary part\n",
      "  g = g.astype(np.float64)\n"
     ]
    },
    {
     "name": "stdout",
     "output_type": "stream",
     "text": [
      "--> Compute dynamics:\n",
      "100.0%   20 of   20 [########################################] 00:00:00\n",
      "Elapsed time: 0.0s\n"
     ]
    },
    {
     "name": "stderr",
     "output_type": "stream",
     "text": [
      "C:\\Users\\Administrator\\AppData\\Local\\Temp\\ipykernel_40804\\1375674678.py:41: ComplexWarning: Casting complex values to real discards the imaginary part\n",
      "  return 1-float(return_dict['fidelity'])\n"
     ]
    },
    {
     "name": "stdout",
     "output_type": "stream",
     "text": [
      "(80,)\n",
      "--> Compute dynamics:\n",
      "100.0%   20 of   20 [########################################] 00:00:00\n",
      "Elapsed time: 0.0s\n"
     ]
    },
    {
     "name": "stderr",
     "output_type": "stream",
     "text": [
      "c:\\Users\\Administrator\\Desktop\\Research\\OQuPy\\.venv\\Lib\\site-packages\\scipy\\optimize\\_lbfgsb_py.py:354: ComplexWarning: Casting complex values to real discards the imaginary part\n",
      "  g = g.astype(np.float64)\n"
     ]
    },
    {
     "name": "stdout",
     "output_type": "stream",
     "text": [
      "--> Compute dynamics:\n",
      "100.0%   20 of   20 [########################################] 00:00:00\n",
      "Elapsed time: 0.0s\n"
     ]
    },
    {
     "name": "stderr",
     "output_type": "stream",
     "text": [
      "C:\\Users\\Administrator\\AppData\\Local\\Temp\\ipykernel_40804\\1375674678.py:41: ComplexWarning: Casting complex values to real discards the imaginary part\n",
      "  return 1-float(return_dict['fidelity'])\n"
     ]
    },
    {
     "name": "stdout",
     "output_type": "stream",
     "text": [
      "(80,)\n",
      "--> Compute dynamics:\n",
      "100.0%   20 of   20 [########################################] 00:00:00\n",
      "Elapsed time: 0.0s\n"
     ]
    },
    {
     "name": "stderr",
     "output_type": "stream",
     "text": [
      "c:\\Users\\Administrator\\Desktop\\Research\\OQuPy\\.venv\\Lib\\site-packages\\scipy\\optimize\\_lbfgsb_py.py:354: ComplexWarning: Casting complex values to real discards the imaginary part\n",
      "  g = g.astype(np.float64)\n"
     ]
    },
    {
     "name": "stdout",
     "output_type": "stream",
     "text": [
      "--> Compute dynamics:\n",
      "100.0%   20 of   20 [########################################] 00:00:00\n",
      "Elapsed time: 0.0s\n"
     ]
    },
    {
     "name": "stderr",
     "output_type": "stream",
     "text": [
      "C:\\Users\\Administrator\\AppData\\Local\\Temp\\ipykernel_40804\\1375674678.py:41: ComplexWarning: Casting complex values to real discards the imaginary part\n",
      "  return 1-float(return_dict['fidelity'])\n"
     ]
    },
    {
     "name": "stdout",
     "output_type": "stream",
     "text": [
      "(80,)\n",
      "--> Compute dynamics:\n",
      "100.0%   20 of   20 [########################################] 00:00:00\n",
      "Elapsed time: 0.0s\n"
     ]
    },
    {
     "name": "stderr",
     "output_type": "stream",
     "text": [
      "c:\\Users\\Administrator\\Desktop\\Research\\OQuPy\\.venv\\Lib\\site-packages\\scipy\\optimize\\_lbfgsb_py.py:354: ComplexWarning: Casting complex values to real discards the imaginary part\n",
      "  g = g.astype(np.float64)\n"
     ]
    },
    {
     "name": "stdout",
     "output_type": "stream",
     "text": [
      "--> Compute dynamics:\n",
      "100.0%   20 of   20 [########################################] 00:00:00\n",
      "Elapsed time: 0.0s\n"
     ]
    },
    {
     "name": "stderr",
     "output_type": "stream",
     "text": [
      "C:\\Users\\Administrator\\AppData\\Local\\Temp\\ipykernel_40804\\1375674678.py:41: ComplexWarning: Casting complex values to real discards the imaginary part\n",
      "  return 1-float(return_dict['fidelity'])\n"
     ]
    },
    {
     "name": "stdout",
     "output_type": "stream",
     "text": [
      "(80,)\n",
      "--> Compute dynamics:\n",
      "100.0%   20 of   20 [########################################] 00:00:00\n",
      "Elapsed time: 0.0s\n"
     ]
    },
    {
     "name": "stderr",
     "output_type": "stream",
     "text": [
      "c:\\Users\\Administrator\\Desktop\\Research\\OQuPy\\.venv\\Lib\\site-packages\\scipy\\optimize\\_lbfgsb_py.py:354: ComplexWarning: Casting complex values to real discards the imaginary part\n",
      "  g = g.astype(np.float64)\n"
     ]
    },
    {
     "name": "stdout",
     "output_type": "stream",
     "text": [
      "--> Compute dynamics:\n",
      "100.0%   20 of   20 [########################################] 00:00:00\n",
      "Elapsed time: 0.0s\n"
     ]
    },
    {
     "name": "stderr",
     "output_type": "stream",
     "text": [
      "C:\\Users\\Administrator\\AppData\\Local\\Temp\\ipykernel_40804\\1375674678.py:41: ComplexWarning: Casting complex values to real discards the imaginary part\n",
      "  return 1-float(return_dict['fidelity'])\n"
     ]
    },
    {
     "name": "stdout",
     "output_type": "stream",
     "text": [
      "(80,)\n",
      "--> Compute dynamics:\n",
      "100.0%   20 of   20 [########################################] 00:00:00\n",
      "Elapsed time: 0.0s\n"
     ]
    },
    {
     "name": "stderr",
     "output_type": "stream",
     "text": [
      "c:\\Users\\Administrator\\Desktop\\Research\\OQuPy\\.venv\\Lib\\site-packages\\scipy\\optimize\\_lbfgsb_py.py:354: ComplexWarning: Casting complex values to real discards the imaginary part\n",
      "  g = g.astype(np.float64)\n"
     ]
    },
    {
     "name": "stdout",
     "output_type": "stream",
     "text": [
      "--> Compute dynamics:\n",
      "100.0%   20 of   20 [########################################] 00:00:00\n",
      "Elapsed time: 0.0s\n"
     ]
    },
    {
     "name": "stderr",
     "output_type": "stream",
     "text": [
      "C:\\Users\\Administrator\\AppData\\Local\\Temp\\ipykernel_40804\\1375674678.py:41: ComplexWarning: Casting complex values to real discards the imaginary part\n",
      "  return 1-float(return_dict['fidelity'])\n"
     ]
    },
    {
     "name": "stdout",
     "output_type": "stream",
     "text": [
      "(80,)\n",
      "--> Compute dynamics:\n",
      "100.0%   20 of   20 [########################################] 00:00:00\n",
      "Elapsed time: 0.0s\n"
     ]
    },
    {
     "name": "stderr",
     "output_type": "stream",
     "text": [
      "c:\\Users\\Administrator\\Desktop\\Research\\OQuPy\\.venv\\Lib\\site-packages\\scipy\\optimize\\_lbfgsb_py.py:354: ComplexWarning: Casting complex values to real discards the imaginary part\n",
      "  g = g.astype(np.float64)\n"
     ]
    },
    {
     "name": "stdout",
     "output_type": "stream",
     "text": [
      "--> Compute dynamics:\n",
      "100.0%   20 of   20 [########################################] 00:00:00\n",
      "Elapsed time: 0.0s\n"
     ]
    },
    {
     "name": "stderr",
     "output_type": "stream",
     "text": [
      "C:\\Users\\Administrator\\AppData\\Local\\Temp\\ipykernel_40804\\1375674678.py:41: ComplexWarning: Casting complex values to real discards the imaginary part\n",
      "  return 1-float(return_dict['fidelity'])\n"
     ]
    },
    {
     "name": "stdout",
     "output_type": "stream",
     "text": [
      "(80,)\n",
      "--> Compute dynamics:\n",
      "100.0%   20 of   20 [########################################] 00:00:00\n",
      "Elapsed time: 0.0s\n"
     ]
    },
    {
     "name": "stderr",
     "output_type": "stream",
     "text": [
      "c:\\Users\\Administrator\\Desktop\\Research\\OQuPy\\.venv\\Lib\\site-packages\\scipy\\optimize\\_lbfgsb_py.py:354: ComplexWarning: Casting complex values to real discards the imaginary part\n",
      "  g = g.astype(np.float64)\n"
     ]
    },
    {
     "name": "stdout",
     "output_type": "stream",
     "text": [
      "--> Compute dynamics:\n",
      "100.0%   20 of   20 [########################################] 00:00:00\n",
      "Elapsed time: 0.0s\n"
     ]
    },
    {
     "name": "stderr",
     "output_type": "stream",
     "text": [
      "C:\\Users\\Administrator\\AppData\\Local\\Temp\\ipykernel_40804\\1375674678.py:41: ComplexWarning: Casting complex values to real discards the imaginary part\n",
      "  return 1-float(return_dict['fidelity'])\n"
     ]
    },
    {
     "name": "stdout",
     "output_type": "stream",
     "text": [
      "(80,)\n",
      "--> Compute dynamics:\n",
      "100.0%   20 of   20 [########################################] 00:00:00\n",
      "Elapsed time: 0.0s\n"
     ]
    },
    {
     "name": "stderr",
     "output_type": "stream",
     "text": [
      "c:\\Users\\Administrator\\Desktop\\Research\\OQuPy\\.venv\\Lib\\site-packages\\scipy\\optimize\\_lbfgsb_py.py:354: ComplexWarning: Casting complex values to real discards the imaginary part\n",
      "  g = g.astype(np.float64)\n"
     ]
    },
    {
     "name": "stdout",
     "output_type": "stream",
     "text": [
      "--> Compute dynamics:\n",
      "100.0%   20 of   20 [########################################] 00:00:00\n",
      "Elapsed time: 0.0s\n"
     ]
    },
    {
     "name": "stderr",
     "output_type": "stream",
     "text": [
      "C:\\Users\\Administrator\\AppData\\Local\\Temp\\ipykernel_40804\\1375674678.py:41: ComplexWarning: Casting complex values to real discards the imaginary part\n",
      "  return 1-float(return_dict['fidelity'])\n"
     ]
    },
    {
     "name": "stdout",
     "output_type": "stream",
     "text": [
      "(80,)\n",
      "--> Compute dynamics:\n",
      "100.0%   20 of   20 [########################################] 00:00:00\n",
      "Elapsed time: 0.0s\n"
     ]
    },
    {
     "name": "stderr",
     "output_type": "stream",
     "text": [
      "c:\\Users\\Administrator\\Desktop\\Research\\OQuPy\\.venv\\Lib\\site-packages\\scipy\\optimize\\_lbfgsb_py.py:354: ComplexWarning: Casting complex values to real discards the imaginary part\n",
      "  g = g.astype(np.float64)\n"
     ]
    },
    {
     "name": "stdout",
     "output_type": "stream",
     "text": [
      "--> Compute dynamics:\n",
      "100.0%   20 of   20 [########################################] 00:00:00\n",
      "Elapsed time: 0.0s\n"
     ]
    },
    {
     "name": "stderr",
     "output_type": "stream",
     "text": [
      "C:\\Users\\Administrator\\AppData\\Local\\Temp\\ipykernel_40804\\1375674678.py:41: ComplexWarning: Casting complex values to real discards the imaginary part\n",
      "  return 1-float(return_dict['fidelity'])\n"
     ]
    },
    {
     "name": "stdout",
     "output_type": "stream",
     "text": [
      "(80,)\n",
      "--> Compute dynamics:\n",
      "100.0%   20 of   20 [########################################] 00:00:00\n",
      "Elapsed time: 0.0s\n"
     ]
    },
    {
     "name": "stderr",
     "output_type": "stream",
     "text": [
      "c:\\Users\\Administrator\\Desktop\\Research\\OQuPy\\.venv\\Lib\\site-packages\\scipy\\optimize\\_lbfgsb_py.py:354: ComplexWarning: Casting complex values to real discards the imaginary part\n",
      "  g = g.astype(np.float64)\n"
     ]
    },
    {
     "name": "stdout",
     "output_type": "stream",
     "text": [
      "--> Compute dynamics:\n",
      "100.0%   20 of   20 [########################################] 00:00:00\n",
      "Elapsed time: 0.0s\n"
     ]
    },
    {
     "name": "stderr",
     "output_type": "stream",
     "text": [
      "C:\\Users\\Administrator\\AppData\\Local\\Temp\\ipykernel_40804\\1375674678.py:41: ComplexWarning: Casting complex values to real discards the imaginary part\n",
      "  return 1-float(return_dict['fidelity'])\n"
     ]
    },
    {
     "name": "stdout",
     "output_type": "stream",
     "text": [
      "(80,)\n",
      "--> Compute dynamics:\n",
      "100.0%   20 of   20 [########################################] 00:00:00\n",
      "Elapsed time: 0.0s\n"
     ]
    },
    {
     "name": "stderr",
     "output_type": "stream",
     "text": [
      "c:\\Users\\Administrator\\Desktop\\Research\\OQuPy\\.venv\\Lib\\site-packages\\scipy\\optimize\\_lbfgsb_py.py:354: ComplexWarning: Casting complex values to real discards the imaginary part\n",
      "  g = g.astype(np.float64)\n"
     ]
    },
    {
     "name": "stdout",
     "output_type": "stream",
     "text": [
      "--> Compute dynamics:\n",
      "100.0%   20 of   20 [########################################] 00:00:00\n",
      "Elapsed time: 0.0s\n"
     ]
    },
    {
     "name": "stderr",
     "output_type": "stream",
     "text": [
      "C:\\Users\\Administrator\\AppData\\Local\\Temp\\ipykernel_40804\\1375674678.py:41: ComplexWarning: Casting complex values to real discards the imaginary part\n",
      "  return 1-float(return_dict['fidelity'])\n"
     ]
    },
    {
     "name": "stdout",
     "output_type": "stream",
     "text": [
      "(80,)\n",
      "--> Compute dynamics:\n",
      "100.0%   20 of   20 [########################################] 00:00:00\n",
      "Elapsed time: 0.0s\n"
     ]
    },
    {
     "name": "stderr",
     "output_type": "stream",
     "text": [
      "c:\\Users\\Administrator\\Desktop\\Research\\OQuPy\\.venv\\Lib\\site-packages\\scipy\\optimize\\_lbfgsb_py.py:354: ComplexWarning: Casting complex values to real discards the imaginary part\n",
      "  g = g.astype(np.float64)\n"
     ]
    },
    {
     "name": "stdout",
     "output_type": "stream",
     "text": [
      "--> Compute dynamics:\n",
      "100.0%   20 of   20 [########################################] 00:00:00\n",
      "Elapsed time: 0.0s\n"
     ]
    },
    {
     "name": "stderr",
     "output_type": "stream",
     "text": [
      "C:\\Users\\Administrator\\AppData\\Local\\Temp\\ipykernel_40804\\1375674678.py:41: ComplexWarning: Casting complex values to real discards the imaginary part\n",
      "  return 1-float(return_dict['fidelity'])\n"
     ]
    },
    {
     "name": "stdout",
     "output_type": "stream",
     "text": [
      "(80,)\n",
      "--> Compute dynamics:\n",
      "100.0%   20 of   20 [########################################] 00:00:00\n",
      "Elapsed time: 0.0s\n"
     ]
    },
    {
     "name": "stderr",
     "output_type": "stream",
     "text": [
      "c:\\Users\\Administrator\\Desktop\\Research\\OQuPy\\.venv\\Lib\\site-packages\\scipy\\optimize\\_lbfgsb_py.py:354: ComplexWarning: Casting complex values to real discards the imaginary part\n",
      "  g = g.astype(np.float64)\n"
     ]
    },
    {
     "name": "stdout",
     "output_type": "stream",
     "text": [
      "--> Compute dynamics:\n",
      "100.0%   20 of   20 [########################################] 00:00:00\n",
      "Elapsed time: 0.0s\n"
     ]
    },
    {
     "name": "stderr",
     "output_type": "stream",
     "text": [
      "C:\\Users\\Administrator\\AppData\\Local\\Temp\\ipykernel_40804\\1375674678.py:41: ComplexWarning: Casting complex values to real discards the imaginary part\n",
      "  return 1-float(return_dict['fidelity'])\n"
     ]
    },
    {
     "name": "stdout",
     "output_type": "stream",
     "text": [
      "(80,)\n",
      "--> Compute dynamics:\n",
      "100.0%   20 of   20 [########################################] 00:00:00\n",
      "Elapsed time: 0.0s\n"
     ]
    },
    {
     "name": "stderr",
     "output_type": "stream",
     "text": [
      "c:\\Users\\Administrator\\Desktop\\Research\\OQuPy\\.venv\\Lib\\site-packages\\scipy\\optimize\\_lbfgsb_py.py:354: ComplexWarning: Casting complex values to real discards the imaginary part\n",
      "  g = g.astype(np.float64)\n"
     ]
    },
    {
     "name": "stdout",
     "output_type": "stream",
     "text": [
      "--> Compute dynamics:\n",
      "100.0%   20 of   20 [########################################] 00:00:00\n",
      "Elapsed time: 0.0s\n"
     ]
    },
    {
     "name": "stderr",
     "output_type": "stream",
     "text": [
      "C:\\Users\\Administrator\\AppData\\Local\\Temp\\ipykernel_40804\\1375674678.py:41: ComplexWarning: Casting complex values to real discards the imaginary part\n",
      "  return 1-float(return_dict['fidelity'])\n"
     ]
    },
    {
     "name": "stdout",
     "output_type": "stream",
     "text": [
      "--> Compute dynamics:\n",
      "100.0%   20 of   20 [########################################] 00:00:00\n",
      "Elapsed time: 0.0s\n"
     ]
    },
    {
     "name": "stderr",
     "output_type": "stream",
     "text": [
      "C:\\Users\\Administrator\\AppData\\Local\\Temp\\ipykernel_40804\\1375674678.py:41: ComplexWarning: Casting complex values to real discards the imaginary part\n",
      "  return 1-float(return_dict['fidelity'])\n"
     ]
    },
    {
     "name": "stdout",
     "output_type": "stream",
     "text": [
      "(80,)\n",
      "--> Compute dynamics:\n",
      "100.0%   20 of   20 [########################################] 00:00:00\n",
      "Elapsed time: 0.1s\n"
     ]
    },
    {
     "name": "stderr",
     "output_type": "stream",
     "text": [
      "c:\\Users\\Administrator\\Desktop\\Research\\OQuPy\\.venv\\Lib\\site-packages\\scipy\\optimize\\_lbfgsb_py.py:354: ComplexWarning: Casting complex values to real discards the imaginary part\n",
      "  g = g.astype(np.float64)\n"
     ]
    },
    {
     "name": "stdout",
     "output_type": "stream",
     "text": [
      "--> Compute dynamics:\n",
      "100.0%   20 of   20 [########################################] 00:00:00\n",
      "Elapsed time: 0.0s\n"
     ]
    },
    {
     "name": "stderr",
     "output_type": "stream",
     "text": [
      "C:\\Users\\Administrator\\AppData\\Local\\Temp\\ipykernel_40804\\1375674678.py:41: ComplexWarning: Casting complex values to real discards the imaginary part\n",
      "  return 1-float(return_dict['fidelity'])\n"
     ]
    },
    {
     "name": "stdout",
     "output_type": "stream",
     "text": [
      "--> Compute dynamics:\n",
      "100.0%   20 of   20 [########################################] 00:00:00\n",
      "Elapsed time: 0.0s\n"
     ]
    },
    {
     "name": "stderr",
     "output_type": "stream",
     "text": [
      "C:\\Users\\Administrator\\AppData\\Local\\Temp\\ipykernel_40804\\1375674678.py:41: ComplexWarning: Casting complex values to real discards the imaginary part\n",
      "  return 1-float(return_dict['fidelity'])\n"
     ]
    },
    {
     "name": "stdout",
     "output_type": "stream",
     "text": [
      "(80,)\n",
      "--> Compute dynamics:\n",
      "100.0%   20 of   20 [########################################] 00:00:00\n",
      "Elapsed time: 0.0s\n"
     ]
    },
    {
     "name": "stderr",
     "output_type": "stream",
     "text": [
      "c:\\Users\\Administrator\\Desktop\\Research\\OQuPy\\.venv\\Lib\\site-packages\\scipy\\optimize\\_lbfgsb_py.py:354: ComplexWarning: Casting complex values to real discards the imaginary part\n",
      "  g = g.astype(np.float64)\n"
     ]
    },
    {
     "name": "stdout",
     "output_type": "stream",
     "text": [
      "--> Compute dynamics:\n",
      "100.0%   20 of   20 [########################################] 00:00:00\n",
      "Elapsed time: 0.0s\n"
     ]
    },
    {
     "name": "stderr",
     "output_type": "stream",
     "text": [
      "C:\\Users\\Administrator\\AppData\\Local\\Temp\\ipykernel_40804\\1375674678.py:41: ComplexWarning: Casting complex values to real discards the imaginary part\n",
      "  return 1-float(return_dict['fidelity'])\n"
     ]
    },
    {
     "name": "stdout",
     "output_type": "stream",
     "text": [
      "--> Compute dynamics:\n",
      "100.0%   20 of   20 [########################################] 00:00:00\n",
      "Elapsed time: 0.0s\n"
     ]
    },
    {
     "name": "stderr",
     "output_type": "stream",
     "text": [
      "C:\\Users\\Administrator\\AppData\\Local\\Temp\\ipykernel_40804\\1375674678.py:41: ComplexWarning: Casting complex values to real discards the imaginary part\n",
      "  return 1-float(return_dict['fidelity'])\n"
     ]
    },
    {
     "name": "stdout",
     "output_type": "stream",
     "text": [
      "(80,)\n",
      "--> Compute dynamics:\n",
      "100.0%   20 of   20 [########################################] 00:00:00\n",
      "Elapsed time: 0.0s\n"
     ]
    },
    {
     "name": "stderr",
     "output_type": "stream",
     "text": [
      "c:\\Users\\Administrator\\Desktop\\Research\\OQuPy\\.venv\\Lib\\site-packages\\scipy\\optimize\\_lbfgsb_py.py:354: ComplexWarning: Casting complex values to real discards the imaginary part\n",
      "  g = g.astype(np.float64)\n"
     ]
    },
    {
     "name": "stdout",
     "output_type": "stream",
     "text": [
      "--> Compute dynamics:\n",
      "100.0%   20 of   20 [########################################] 00:00:00\n",
      "Elapsed time: 0.0s\n"
     ]
    },
    {
     "name": "stderr",
     "output_type": "stream",
     "text": [
      "C:\\Users\\Administrator\\AppData\\Local\\Temp\\ipykernel_40804\\1375674678.py:41: ComplexWarning: Casting complex values to real discards the imaginary part\n",
      "  return 1-float(return_dict['fidelity'])\n"
     ]
    },
    {
     "name": "stdout",
     "output_type": "stream",
     "text": [
      "--> Compute dynamics:\n",
      "100.0%   20 of   20 [########################################] 00:00:00\n",
      "Elapsed time: 0.0s\n"
     ]
    },
    {
     "name": "stderr",
     "output_type": "stream",
     "text": [
      "C:\\Users\\Administrator\\AppData\\Local\\Temp\\ipykernel_40804\\1375674678.py:41: ComplexWarning: Casting complex values to real discards the imaginary part\n",
      "  return 1-float(return_dict['fidelity'])\n"
     ]
    },
    {
     "name": "stdout",
     "output_type": "stream",
     "text": [
      "(80,)\n",
      "--> Compute dynamics:\n",
      "100.0%   20 of   20 [########################################] 00:00:00\n",
      "Elapsed time: 0.0s\n"
     ]
    },
    {
     "name": "stderr",
     "output_type": "stream",
     "text": [
      "c:\\Users\\Administrator\\Desktop\\Research\\OQuPy\\.venv\\Lib\\site-packages\\scipy\\optimize\\_lbfgsb_py.py:354: ComplexWarning: Casting complex values to real discards the imaginary part\n",
      "  g = g.astype(np.float64)\n"
     ]
    },
    {
     "name": "stdout",
     "output_type": "stream",
     "text": [
      "--> Compute dynamics:\n",
      "100.0%   20 of   20 [########################################] 00:00:00\n",
      "Elapsed time: 0.0s\n"
     ]
    },
    {
     "name": "stderr",
     "output_type": "stream",
     "text": [
      "C:\\Users\\Administrator\\AppData\\Local\\Temp\\ipykernel_40804\\1375674678.py:41: ComplexWarning: Casting complex values to real discards the imaginary part\n",
      "  return 1-float(return_dict['fidelity'])\n"
     ]
    },
    {
     "name": "stdout",
     "output_type": "stream",
     "text": [
      "(80,)\n",
      "--> Compute dynamics:\n",
      "100.0%   20 of   20 [########################################] 00:00:00\n",
      "Elapsed time: 0.0s\n"
     ]
    },
    {
     "name": "stderr",
     "output_type": "stream",
     "text": [
      "c:\\Users\\Administrator\\Desktop\\Research\\OQuPy\\.venv\\Lib\\site-packages\\scipy\\optimize\\_lbfgsb_py.py:354: ComplexWarning: Casting complex values to real discards the imaginary part\n",
      "  g = g.astype(np.float64)\n"
     ]
    },
    {
     "name": "stdout",
     "output_type": "stream",
     "text": [
      "--> Compute dynamics:\n",
      "100.0%   20 of   20 [########################################] 00:00:00\n",
      "Elapsed time: 0.0s\n"
     ]
    },
    {
     "name": "stderr",
     "output_type": "stream",
     "text": [
      "C:\\Users\\Administrator\\AppData\\Local\\Temp\\ipykernel_40804\\1375674678.py:41: ComplexWarning: Casting complex values to real discards the imaginary part\n",
      "  return 1-float(return_dict['fidelity'])\n"
     ]
    },
    {
     "name": "stdout",
     "output_type": "stream",
     "text": [
      "(80,)\n",
      "--> Compute dynamics:\n",
      "100.0%   20 of   20 [########################################] 00:00:00\n",
      "Elapsed time: 0.0s\n"
     ]
    },
    {
     "name": "stderr",
     "output_type": "stream",
     "text": [
      "c:\\Users\\Administrator\\Desktop\\Research\\OQuPy\\.venv\\Lib\\site-packages\\scipy\\optimize\\_lbfgsb_py.py:354: ComplexWarning: Casting complex values to real discards the imaginary part\n",
      "  g = g.astype(np.float64)\n"
     ]
    },
    {
     "name": "stdout",
     "output_type": "stream",
     "text": [
      "--> Compute dynamics:\n",
      "100.0%   20 of   20 [########################################] 00:00:00\n",
      "Elapsed time: 0.0s\n"
     ]
    },
    {
     "name": "stderr",
     "output_type": "stream",
     "text": [
      "C:\\Users\\Administrator\\AppData\\Local\\Temp\\ipykernel_40804\\1375674678.py:41: ComplexWarning: Casting complex values to real discards the imaginary part\n",
      "  return 1-float(return_dict['fidelity'])\n"
     ]
    },
    {
     "name": "stdout",
     "output_type": "stream",
     "text": [
      "(80,)\n",
      "--> Compute dynamics:\n",
      "100.0%   20 of   20 [########################################] 00:00:00\n",
      "Elapsed time: 0.0s\n"
     ]
    },
    {
     "name": "stderr",
     "output_type": "stream",
     "text": [
      "c:\\Users\\Administrator\\Desktop\\Research\\OQuPy\\.venv\\Lib\\site-packages\\scipy\\optimize\\_lbfgsb_py.py:354: ComplexWarning: Casting complex values to real discards the imaginary part\n",
      "  g = g.astype(np.float64)\n"
     ]
    },
    {
     "name": "stdout",
     "output_type": "stream",
     "text": [
      "--> Compute dynamics:\n",
      "100.0%   20 of   20 [########################################] 00:00:00\n",
      "Elapsed time: 0.0s\n"
     ]
    },
    {
     "name": "stderr",
     "output_type": "stream",
     "text": [
      "C:\\Users\\Administrator\\AppData\\Local\\Temp\\ipykernel_40804\\1375674678.py:41: ComplexWarning: Casting complex values to real discards the imaginary part\n",
      "  return 1-float(return_dict['fidelity'])\n"
     ]
    },
    {
     "name": "stdout",
     "output_type": "stream",
     "text": [
      "(80,)\n",
      "--> Compute dynamics:\n",
      "100.0%   20 of   20 [########################################] 00:00:00\n",
      "Elapsed time: 0.0s\n"
     ]
    },
    {
     "name": "stderr",
     "output_type": "stream",
     "text": [
      "c:\\Users\\Administrator\\Desktop\\Research\\OQuPy\\.venv\\Lib\\site-packages\\scipy\\optimize\\_lbfgsb_py.py:354: ComplexWarning: Casting complex values to real discards the imaginary part\n",
      "  g = g.astype(np.float64)\n"
     ]
    },
    {
     "name": "stdout",
     "output_type": "stream",
     "text": [
      "--> Compute dynamics:\n",
      "100.0%   20 of   20 [########################################] 00:00:00\n",
      "Elapsed time: 0.0s\n"
     ]
    },
    {
     "name": "stderr",
     "output_type": "stream",
     "text": [
      "C:\\Users\\Administrator\\AppData\\Local\\Temp\\ipykernel_40804\\1375674678.py:41: ComplexWarning: Casting complex values to real discards the imaginary part\n",
      "  return 1-float(return_dict['fidelity'])\n"
     ]
    },
    {
     "name": "stdout",
     "output_type": "stream",
     "text": [
      "(80,)\n",
      "--> Compute dynamics:\n",
      "100.0%   20 of   20 [########################################] 00:00:00\n",
      "Elapsed time: 0.0s\n"
     ]
    },
    {
     "name": "stderr",
     "output_type": "stream",
     "text": [
      "c:\\Users\\Administrator\\Desktop\\Research\\OQuPy\\.venv\\Lib\\site-packages\\scipy\\optimize\\_lbfgsb_py.py:354: ComplexWarning: Casting complex values to real discards the imaginary part\n",
      "  g = g.astype(np.float64)\n"
     ]
    },
    {
     "name": "stdout",
     "output_type": "stream",
     "text": [
      "--> Compute dynamics:\n",
      "100.0%   20 of   20 [########################################] 00:00:00\n",
      "Elapsed time: 0.0s\n"
     ]
    },
    {
     "name": "stderr",
     "output_type": "stream",
     "text": [
      "C:\\Users\\Administrator\\AppData\\Local\\Temp\\ipykernel_40804\\1375674678.py:41: ComplexWarning: Casting complex values to real discards the imaginary part\n",
      "  return 1-float(return_dict['fidelity'])\n"
     ]
    },
    {
     "name": "stdout",
     "output_type": "stream",
     "text": [
      "(80,)\n",
      "--> Compute dynamics:\n",
      "100.0%   20 of   20 [########################################] 00:00:00\n",
      "Elapsed time: 0.0s\n"
     ]
    },
    {
     "name": "stderr",
     "output_type": "stream",
     "text": [
      "c:\\Users\\Administrator\\Desktop\\Research\\OQuPy\\.venv\\Lib\\site-packages\\scipy\\optimize\\_lbfgsb_py.py:354: ComplexWarning: Casting complex values to real discards the imaginary part\n",
      "  g = g.astype(np.float64)\n"
     ]
    },
    {
     "name": "stdout",
     "output_type": "stream",
     "text": [
      "--> Compute dynamics:\n",
      "100.0%   20 of   20 [########################################] 00:00:00\n",
      "Elapsed time: 0.0s\n"
     ]
    },
    {
     "name": "stderr",
     "output_type": "stream",
     "text": [
      "C:\\Users\\Administrator\\AppData\\Local\\Temp\\ipykernel_40804\\1375674678.py:41: ComplexWarning: Casting complex values to real discards the imaginary part\n",
      "  return 1-float(return_dict['fidelity'])\n"
     ]
    },
    {
     "name": "stdout",
     "output_type": "stream",
     "text": [
      "(80,)\n",
      "--> Compute dynamics:\n",
      "100.0%   20 of   20 [########################################] 00:00:00\n",
      "Elapsed time: 0.0s\n"
     ]
    },
    {
     "name": "stderr",
     "output_type": "stream",
     "text": [
      "c:\\Users\\Administrator\\Desktop\\Research\\OQuPy\\.venv\\Lib\\site-packages\\scipy\\optimize\\_lbfgsb_py.py:354: ComplexWarning: Casting complex values to real discards the imaginary part\n",
      "  g = g.astype(np.float64)\n"
     ]
    },
    {
     "name": "stdout",
     "output_type": "stream",
     "text": [
      "--> Compute dynamics:\n",
      "100.0%   20 of   20 [########################################] 00:00:00\n",
      "Elapsed time: 0.0s\n"
     ]
    },
    {
     "name": "stderr",
     "output_type": "stream",
     "text": [
      "C:\\Users\\Administrator\\AppData\\Local\\Temp\\ipykernel_40804\\1375674678.py:41: ComplexWarning: Casting complex values to real discards the imaginary part\n",
      "  return 1-float(return_dict['fidelity'])\n"
     ]
    },
    {
     "name": "stdout",
     "output_type": "stream",
     "text": [
      "(80,)\n",
      "--> Compute dynamics:\n",
      "100.0%   20 of   20 [########################################] 00:00:00\n",
      "Elapsed time: 0.0s\n"
     ]
    },
    {
     "name": "stderr",
     "output_type": "stream",
     "text": [
      "c:\\Users\\Administrator\\Desktop\\Research\\OQuPy\\.venv\\Lib\\site-packages\\scipy\\optimize\\_lbfgsb_py.py:354: ComplexWarning: Casting complex values to real discards the imaginary part\n",
      "  g = g.astype(np.float64)\n"
     ]
    },
    {
     "name": "stdout",
     "output_type": "stream",
     "text": [
      "--> Compute dynamics:\n",
      "100.0%   20 of   20 [########################################] 00:00:00\n",
      "Elapsed time: 0.0s\n"
     ]
    },
    {
     "name": "stderr",
     "output_type": "stream",
     "text": [
      "C:\\Users\\Administrator\\AppData\\Local\\Temp\\ipykernel_40804\\1375674678.py:41: ComplexWarning: Casting complex values to real discards the imaginary part\n",
      "  return 1-float(return_dict['fidelity'])\n"
     ]
    },
    {
     "name": "stdout",
     "output_type": "stream",
     "text": [
      "(80,)\n",
      "--> Compute dynamics:\n",
      "100.0%   20 of   20 [########################################] 00:00:00\n",
      "Elapsed time: 0.0s\n"
     ]
    },
    {
     "name": "stderr",
     "output_type": "stream",
     "text": [
      "c:\\Users\\Administrator\\Desktop\\Research\\OQuPy\\.venv\\Lib\\site-packages\\scipy\\optimize\\_lbfgsb_py.py:354: ComplexWarning: Casting complex values to real discards the imaginary part\n",
      "  g = g.astype(np.float64)\n"
     ]
    },
    {
     "name": "stdout",
     "output_type": "stream",
     "text": [
      "--> Compute dynamics:\n",
      "100.0%   20 of   20 [########################################] 00:00:00\n",
      "Elapsed time: 0.0s\n"
     ]
    },
    {
     "name": "stderr",
     "output_type": "stream",
     "text": [
      "C:\\Users\\Administrator\\AppData\\Local\\Temp\\ipykernel_40804\\1375674678.py:41: ComplexWarning: Casting complex values to real discards the imaginary part\n",
      "  return 1-float(return_dict['fidelity'])\n"
     ]
    },
    {
     "name": "stdout",
     "output_type": "stream",
     "text": [
      "(80,)\n",
      "--> Compute dynamics:\n",
      "100.0%   20 of   20 [########################################] 00:00:00\n",
      "Elapsed time: 0.0s\n"
     ]
    },
    {
     "name": "stderr",
     "output_type": "stream",
     "text": [
      "c:\\Users\\Administrator\\Desktop\\Research\\OQuPy\\.venv\\Lib\\site-packages\\scipy\\optimize\\_lbfgsb_py.py:354: ComplexWarning: Casting complex values to real discards the imaginary part\n",
      "  g = g.astype(np.float64)\n"
     ]
    },
    {
     "name": "stdout",
     "output_type": "stream",
     "text": [
      "--> Compute dynamics:\n",
      "100.0%   20 of   20 [########################################] 00:00:00\n",
      "Elapsed time: 0.0s\n"
     ]
    },
    {
     "name": "stderr",
     "output_type": "stream",
     "text": [
      "C:\\Users\\Administrator\\AppData\\Local\\Temp\\ipykernel_40804\\1375674678.py:41: ComplexWarning: Casting complex values to real discards the imaginary part\n",
      "  return 1-float(return_dict['fidelity'])\n"
     ]
    },
    {
     "name": "stdout",
     "output_type": "stream",
     "text": [
      "(80,)\n",
      "--> Compute dynamics:\n",
      "100.0%   20 of   20 [########################################] 00:00:00\n",
      "Elapsed time: 0.0s\n"
     ]
    },
    {
     "name": "stderr",
     "output_type": "stream",
     "text": [
      "c:\\Users\\Administrator\\Desktop\\Research\\OQuPy\\.venv\\Lib\\site-packages\\scipy\\optimize\\_lbfgsb_py.py:354: ComplexWarning: Casting complex values to real discards the imaginary part\n",
      "  g = g.astype(np.float64)\n"
     ]
    },
    {
     "name": "stdout",
     "output_type": "stream",
     "text": [
      "--> Compute dynamics:\n",
      "100.0%   20 of   20 [########################################] 00:00:00\n",
      "Elapsed time: 0.0s\n"
     ]
    },
    {
     "name": "stderr",
     "output_type": "stream",
     "text": [
      "C:\\Users\\Administrator\\AppData\\Local\\Temp\\ipykernel_40804\\1375674678.py:41: ComplexWarning: Casting complex values to real discards the imaginary part\n",
      "  return 1-float(return_dict['fidelity'])\n"
     ]
    },
    {
     "name": "stdout",
     "output_type": "stream",
     "text": [
      "--> Compute dynamics:\n",
      "100.0%   20 of   20 [########################################] 00:00:00\n",
      "Elapsed time: 0.0s\n"
     ]
    },
    {
     "name": "stderr",
     "output_type": "stream",
     "text": [
      "C:\\Users\\Administrator\\AppData\\Local\\Temp\\ipykernel_40804\\1375674678.py:41: ComplexWarning: Casting complex values to real discards the imaginary part\n",
      "  return 1-float(return_dict['fidelity'])\n"
     ]
    },
    {
     "name": "stdout",
     "output_type": "stream",
     "text": [
      "(80,)\n",
      "--> Compute dynamics:\n",
      "100.0%   20 of   20 [########################################] 00:00:00\n",
      "Elapsed time: 0.0s\n"
     ]
    },
    {
     "name": "stderr",
     "output_type": "stream",
     "text": [
      "c:\\Users\\Administrator\\Desktop\\Research\\OQuPy\\.venv\\Lib\\site-packages\\scipy\\optimize\\_lbfgsb_py.py:354: ComplexWarning: Casting complex values to real discards the imaginary part\n",
      "  g = g.astype(np.float64)\n"
     ]
    },
    {
     "name": "stdout",
     "output_type": "stream",
     "text": [
      "--> Compute dynamics:\n",
      "100.0%   20 of   20 [########################################] 00:00:00\n",
      "Elapsed time: 0.0s\n"
     ]
    },
    {
     "name": "stderr",
     "output_type": "stream",
     "text": [
      "C:\\Users\\Administrator\\AppData\\Local\\Temp\\ipykernel_40804\\1375674678.py:41: ComplexWarning: Casting complex values to real discards the imaginary part\n",
      "  return 1-float(return_dict['fidelity'])\n"
     ]
    },
    {
     "name": "stdout",
     "output_type": "stream",
     "text": [
      "(80,)\n",
      "--> Compute dynamics:\n",
      "100.0%   20 of   20 [########################################] 00:00:00\n",
      "Elapsed time: 0.0s\n"
     ]
    },
    {
     "name": "stderr",
     "output_type": "stream",
     "text": [
      "c:\\Users\\Administrator\\Desktop\\Research\\OQuPy\\.venv\\Lib\\site-packages\\scipy\\optimize\\_lbfgsb_py.py:354: ComplexWarning: Casting complex values to real discards the imaginary part\n",
      "  g = g.astype(np.float64)\n"
     ]
    },
    {
     "name": "stdout",
     "output_type": "stream",
     "text": [
      "--> Compute dynamics:\n",
      "100.0%   20 of   20 [########################################] 00:00:00\n",
      "Elapsed time: 0.0s\n"
     ]
    },
    {
     "name": "stderr",
     "output_type": "stream",
     "text": [
      "C:\\Users\\Administrator\\AppData\\Local\\Temp\\ipykernel_40804\\1375674678.py:41: ComplexWarning: Casting complex values to real discards the imaginary part\n",
      "  return 1-float(return_dict['fidelity'])\n"
     ]
    },
    {
     "name": "stdout",
     "output_type": "stream",
     "text": [
      "(80,)\n",
      "--> Compute dynamics:\n",
      "100.0%   20 of   20 [########################################] 00:00:00\n",
      "Elapsed time: 0.0s\n"
     ]
    },
    {
     "name": "stderr",
     "output_type": "stream",
     "text": [
      "c:\\Users\\Administrator\\Desktop\\Research\\OQuPy\\.venv\\Lib\\site-packages\\scipy\\optimize\\_lbfgsb_py.py:354: ComplexWarning: Casting complex values to real discards the imaginary part\n",
      "  g = g.astype(np.float64)\n"
     ]
    },
    {
     "name": "stdout",
     "output_type": "stream",
     "text": [
      "--> Compute dynamics:\n",
      "100.0%   20 of   20 [########################################] 00:00:00\n",
      "Elapsed time: 0.0s\n"
     ]
    },
    {
     "name": "stderr",
     "output_type": "stream",
     "text": [
      "C:\\Users\\Administrator\\AppData\\Local\\Temp\\ipykernel_40804\\1375674678.py:41: ComplexWarning: Casting complex values to real discards the imaginary part\n",
      "  return 1-float(return_dict['fidelity'])\n"
     ]
    },
    {
     "name": "stdout",
     "output_type": "stream",
     "text": [
      "(80,)\n",
      "--> Compute dynamics:\n",
      "100.0%   20 of   20 [########################################] 00:00:00\n",
      "Elapsed time: 0.0s\n"
     ]
    },
    {
     "name": "stderr",
     "output_type": "stream",
     "text": [
      "c:\\Users\\Administrator\\Desktop\\Research\\OQuPy\\.venv\\Lib\\site-packages\\scipy\\optimize\\_lbfgsb_py.py:354: ComplexWarning: Casting complex values to real discards the imaginary part\n",
      "  g = g.astype(np.float64)\n"
     ]
    },
    {
     "name": "stdout",
     "output_type": "stream",
     "text": [
      "--> Compute dynamics:\n",
      "100.0%   20 of   20 [########################################] 00:00:00\n",
      "Elapsed time: 0.0s\n"
     ]
    },
    {
     "name": "stderr",
     "output_type": "stream",
     "text": [
      "C:\\Users\\Administrator\\AppData\\Local\\Temp\\ipykernel_40804\\1375674678.py:41: ComplexWarning: Casting complex values to real discards the imaginary part\n",
      "  return 1-float(return_dict['fidelity'])\n"
     ]
    },
    {
     "name": "stdout",
     "output_type": "stream",
     "text": [
      "(80,)\n",
      "--> Compute dynamics:\n",
      "100.0%   20 of   20 [########################################] 00:00:00\n",
      "Elapsed time: 0.0s\n"
     ]
    },
    {
     "name": "stderr",
     "output_type": "stream",
     "text": [
      "c:\\Users\\Administrator\\Desktop\\Research\\OQuPy\\.venv\\Lib\\site-packages\\scipy\\optimize\\_lbfgsb_py.py:354: ComplexWarning: Casting complex values to real discards the imaginary part\n",
      "  g = g.astype(np.float64)\n"
     ]
    },
    {
     "name": "stdout",
     "output_type": "stream",
     "text": [
      "--> Compute dynamics:\n",
      "100.0%   20 of   20 [########################################] 00:00:00\n",
      "Elapsed time: 0.0s\n"
     ]
    },
    {
     "name": "stderr",
     "output_type": "stream",
     "text": [
      "C:\\Users\\Administrator\\AppData\\Local\\Temp\\ipykernel_40804\\1375674678.py:41: ComplexWarning: Casting complex values to real discards the imaginary part\n",
      "  return 1-float(return_dict['fidelity'])\n"
     ]
    },
    {
     "name": "stdout",
     "output_type": "stream",
     "text": [
      "(80,)\n",
      "--> Compute dynamics:\n",
      "100.0%   20 of   20 [########################################] 00:00:00\n",
      "Elapsed time: 0.0s\n"
     ]
    },
    {
     "name": "stderr",
     "output_type": "stream",
     "text": [
      "c:\\Users\\Administrator\\Desktop\\Research\\OQuPy\\.venv\\Lib\\site-packages\\scipy\\optimize\\_lbfgsb_py.py:354: ComplexWarning: Casting complex values to real discards the imaginary part\n",
      "  g = g.astype(np.float64)\n"
     ]
    },
    {
     "name": "stdout",
     "output_type": "stream",
     "text": [
      "--> Compute dynamics:\n",
      "100.0%   20 of   20 [########################################] 00:00:00\n",
      "Elapsed time: 0.0s\n"
     ]
    },
    {
     "name": "stderr",
     "output_type": "stream",
     "text": [
      "C:\\Users\\Administrator\\AppData\\Local\\Temp\\ipykernel_40804\\1375674678.py:41: ComplexWarning: Casting complex values to real discards the imaginary part\n",
      "  return 1-float(return_dict['fidelity'])\n"
     ]
    },
    {
     "name": "stdout",
     "output_type": "stream",
     "text": [
      "(80,)\n",
      "--> Compute dynamics:\n",
      "100.0%   20 of   20 [########################################] 00:00:00\n",
      "Elapsed time: 0.0s\n"
     ]
    },
    {
     "name": "stderr",
     "output_type": "stream",
     "text": [
      "c:\\Users\\Administrator\\Desktop\\Research\\OQuPy\\.venv\\Lib\\site-packages\\scipy\\optimize\\_lbfgsb_py.py:354: ComplexWarning: Casting complex values to real discards the imaginary part\n",
      "  g = g.astype(np.float64)\n"
     ]
    },
    {
     "name": "stdout",
     "output_type": "stream",
     "text": [
      "--> Compute dynamics:\n",
      "100.0%   20 of   20 [########################################] 00:00:00\n",
      "Elapsed time: 0.0s\n"
     ]
    },
    {
     "name": "stderr",
     "output_type": "stream",
     "text": [
      "C:\\Users\\Administrator\\AppData\\Local\\Temp\\ipykernel_40804\\1375674678.py:41: ComplexWarning: Casting complex values to real discards the imaginary part\n",
      "  return 1-float(return_dict['fidelity'])\n"
     ]
    },
    {
     "name": "stdout",
     "output_type": "stream",
     "text": [
      "(80,)\n",
      "--> Compute dynamics:\n",
      "100.0%   20 of   20 [########################################] 00:00:00\n",
      "Elapsed time: 0.0s\n"
     ]
    },
    {
     "name": "stderr",
     "output_type": "stream",
     "text": [
      "c:\\Users\\Administrator\\Desktop\\Research\\OQuPy\\.venv\\Lib\\site-packages\\scipy\\optimize\\_lbfgsb_py.py:354: ComplexWarning: Casting complex values to real discards the imaginary part\n",
      "  g = g.astype(np.float64)\n"
     ]
    },
    {
     "name": "stdout",
     "output_type": "stream",
     "text": [
      "--> Compute dynamics:\n",
      "100.0%   20 of   20 [########################################] 00:00:00\n",
      "Elapsed time: 0.0s\n"
     ]
    },
    {
     "name": "stderr",
     "output_type": "stream",
     "text": [
      "C:\\Users\\Administrator\\AppData\\Local\\Temp\\ipykernel_40804\\1375674678.py:41: ComplexWarning: Casting complex values to real discards the imaginary part\n",
      "  return 1-float(return_dict['fidelity'])\n"
     ]
    },
    {
     "name": "stdout",
     "output_type": "stream",
     "text": [
      "(80,)\n",
      "--> Compute dynamics:\n",
      "100.0%   20 of   20 [########################################] 00:00:00\n",
      "Elapsed time: 0.0s\n"
     ]
    },
    {
     "name": "stderr",
     "output_type": "stream",
     "text": [
      "c:\\Users\\Administrator\\Desktop\\Research\\OQuPy\\.venv\\Lib\\site-packages\\scipy\\optimize\\_lbfgsb_py.py:354: ComplexWarning: Casting complex values to real discards the imaginary part\n",
      "  g = g.astype(np.float64)\n"
     ]
    },
    {
     "name": "stdout",
     "output_type": "stream",
     "text": [
      "--> Compute dynamics:\n",
      "100.0%   20 of   20 [########################################] 00:00:00\n",
      "Elapsed time: 0.0s\n"
     ]
    },
    {
     "name": "stderr",
     "output_type": "stream",
     "text": [
      "C:\\Users\\Administrator\\AppData\\Local\\Temp\\ipykernel_40804\\1375674678.py:41: ComplexWarning: Casting complex values to real discards the imaginary part\n",
      "  return 1-float(return_dict['fidelity'])\n"
     ]
    },
    {
     "name": "stdout",
     "output_type": "stream",
     "text": [
      "(80,)\n",
      "--> Compute dynamics:\n",
      "100.0%   20 of   20 [########################################] 00:00:00\n",
      "Elapsed time: 0.0s\n"
     ]
    },
    {
     "name": "stderr",
     "output_type": "stream",
     "text": [
      "c:\\Users\\Administrator\\Desktop\\Research\\OQuPy\\.venv\\Lib\\site-packages\\scipy\\optimize\\_lbfgsb_py.py:354: ComplexWarning: Casting complex values to real discards the imaginary part\n",
      "  g = g.astype(np.float64)\n"
     ]
    },
    {
     "name": "stdout",
     "output_type": "stream",
     "text": [
      "--> Compute dynamics:\n",
      "100.0%   20 of   20 [########################################] 00:00:00\n",
      "Elapsed time: 0.0s\n"
     ]
    },
    {
     "name": "stderr",
     "output_type": "stream",
     "text": [
      "C:\\Users\\Administrator\\AppData\\Local\\Temp\\ipykernel_40804\\1375674678.py:41: ComplexWarning: Casting complex values to real discards the imaginary part\n",
      "  return 1-float(return_dict['fidelity'])\n"
     ]
    },
    {
     "name": "stdout",
     "output_type": "stream",
     "text": [
      "(80,)\n",
      "--> Compute dynamics:\n",
      "100.0%   20 of   20 [########################################] 00:00:00\n",
      "Elapsed time: 0.0s\n"
     ]
    },
    {
     "name": "stderr",
     "output_type": "stream",
     "text": [
      "c:\\Users\\Administrator\\Desktop\\Research\\OQuPy\\.venv\\Lib\\site-packages\\scipy\\optimize\\_lbfgsb_py.py:354: ComplexWarning: Casting complex values to real discards the imaginary part\n",
      "  g = g.astype(np.float64)\n"
     ]
    },
    {
     "name": "stdout",
     "output_type": "stream",
     "text": [
      "--> Compute dynamics:\n",
      "100.0%   20 of   20 [########################################] 00:00:00\n",
      "Elapsed time: 0.0s\n"
     ]
    },
    {
     "name": "stderr",
     "output_type": "stream",
     "text": [
      "C:\\Users\\Administrator\\AppData\\Local\\Temp\\ipykernel_40804\\1375674678.py:41: ComplexWarning: Casting complex values to real discards the imaginary part\n",
      "  return 1-float(return_dict['fidelity'])\n"
     ]
    },
    {
     "name": "stdout",
     "output_type": "stream",
     "text": [
      "(80,)\n",
      "--> Compute dynamics:\n",
      "100.0%   20 of   20 [########################################] 00:00:00\n",
      "Elapsed time: 0.0s\n"
     ]
    },
    {
     "name": "stderr",
     "output_type": "stream",
     "text": [
      "c:\\Users\\Administrator\\Desktop\\Research\\OQuPy\\.venv\\Lib\\site-packages\\scipy\\optimize\\_lbfgsb_py.py:354: ComplexWarning: Casting complex values to real discards the imaginary part\n",
      "  g = g.astype(np.float64)\n"
     ]
    },
    {
     "name": "stdout",
     "output_type": "stream",
     "text": [
      "--> Compute dynamics:\n",
      "100.0%   20 of   20 [########################################] 00:00:00\n",
      "Elapsed time: 0.0s\n"
     ]
    },
    {
     "name": "stderr",
     "output_type": "stream",
     "text": [
      "C:\\Users\\Administrator\\AppData\\Local\\Temp\\ipykernel_40804\\1375674678.py:41: ComplexWarning: Casting complex values to real discards the imaginary part\n",
      "  return 1-float(return_dict['fidelity'])\n"
     ]
    },
    {
     "name": "stdout",
     "output_type": "stream",
     "text": [
      "(80,)\n",
      "--> Compute dynamics:\n",
      "100.0%   20 of   20 [########################################] 00:00:00\n",
      "Elapsed time: 0.0s\n"
     ]
    },
    {
     "name": "stderr",
     "output_type": "stream",
     "text": [
      "c:\\Users\\Administrator\\Desktop\\Research\\OQuPy\\.venv\\Lib\\site-packages\\scipy\\optimize\\_lbfgsb_py.py:354: ComplexWarning: Casting complex values to real discards the imaginary part\n",
      "  g = g.astype(np.float64)\n"
     ]
    },
    {
     "name": "stdout",
     "output_type": "stream",
     "text": [
      "--> Compute dynamics:\n",
      "100.0%   20 of   20 [########################################] 00:00:00\n",
      "Elapsed time: 0.0s\n"
     ]
    },
    {
     "name": "stderr",
     "output_type": "stream",
     "text": [
      "C:\\Users\\Administrator\\AppData\\Local\\Temp\\ipykernel_40804\\1375674678.py:41: ComplexWarning: Casting complex values to real discards the imaginary part\n",
      "  return 1-float(return_dict['fidelity'])\n"
     ]
    },
    {
     "name": "stdout",
     "output_type": "stream",
     "text": [
      "(80,)\n",
      "--> Compute dynamics:\n",
      "100.0%   20 of   20 [########################################] 00:00:00\n",
      "Elapsed time: 0.0s\n"
     ]
    },
    {
     "name": "stderr",
     "output_type": "stream",
     "text": [
      "c:\\Users\\Administrator\\Desktop\\Research\\OQuPy\\.venv\\Lib\\site-packages\\scipy\\optimize\\_lbfgsb_py.py:354: ComplexWarning: Casting complex values to real discards the imaginary part\n",
      "  g = g.astype(np.float64)\n"
     ]
    },
    {
     "name": "stdout",
     "output_type": "stream",
     "text": [
      "--> Compute dynamics:\n",
      "100.0%   20 of   20 [########################################] 00:00:00\n",
      "Elapsed time: 0.0s\n"
     ]
    },
    {
     "name": "stderr",
     "output_type": "stream",
     "text": [
      "C:\\Users\\Administrator\\AppData\\Local\\Temp\\ipykernel_40804\\1375674678.py:41: ComplexWarning: Casting complex values to real discards the imaginary part\n",
      "  return 1-float(return_dict['fidelity'])\n"
     ]
    },
    {
     "name": "stdout",
     "output_type": "stream",
     "text": [
      "(80,)\n",
      "--> Compute dynamics:\n",
      "100.0%   20 of   20 [########################################] 00:00:00\n",
      "Elapsed time: 0.0s\n"
     ]
    },
    {
     "name": "stderr",
     "output_type": "stream",
     "text": [
      "c:\\Users\\Administrator\\Desktop\\Research\\OQuPy\\.venv\\Lib\\site-packages\\scipy\\optimize\\_lbfgsb_py.py:354: ComplexWarning: Casting complex values to real discards the imaginary part\n",
      "  g = g.astype(np.float64)\n"
     ]
    },
    {
     "name": "stdout",
     "output_type": "stream",
     "text": [
      "--> Compute dynamics:\n",
      "100.0%   20 of   20 [########################################] 00:00:00\n",
      "Elapsed time: 0.0s\n"
     ]
    },
    {
     "name": "stderr",
     "output_type": "stream",
     "text": [
      "C:\\Users\\Administrator\\AppData\\Local\\Temp\\ipykernel_40804\\1375674678.py:41: ComplexWarning: Casting complex values to real discards the imaginary part\n",
      "  return 1-float(return_dict['fidelity'])\n"
     ]
    },
    {
     "name": "stdout",
     "output_type": "stream",
     "text": [
      "(80,)\n",
      "--> Compute dynamics:\n",
      "100.0%   20 of   20 [########################################] 00:00:00\n",
      "Elapsed time: 0.0s\n"
     ]
    },
    {
     "name": "stderr",
     "output_type": "stream",
     "text": [
      "c:\\Users\\Administrator\\Desktop\\Research\\OQuPy\\.venv\\Lib\\site-packages\\scipy\\optimize\\_lbfgsb_py.py:354: ComplexWarning: Casting complex values to real discards the imaginary part\n",
      "  g = g.astype(np.float64)\n"
     ]
    },
    {
     "name": "stdout",
     "output_type": "stream",
     "text": [
      "--> Compute dynamics:\n",
      "100.0%   20 of   20 [########################################] 00:00:00\n",
      "Elapsed time: 0.0s\n"
     ]
    },
    {
     "name": "stderr",
     "output_type": "stream",
     "text": [
      "C:\\Users\\Administrator\\AppData\\Local\\Temp\\ipykernel_40804\\1375674678.py:41: ComplexWarning: Casting complex values to real discards the imaginary part\n",
      "  return 1-float(return_dict['fidelity'])\n"
     ]
    },
    {
     "name": "stdout",
     "output_type": "stream",
     "text": [
      "(80,)\n",
      "--> Compute dynamics:\n",
      "100.0%   20 of   20 [########################################] 00:00:00\n",
      "Elapsed time: 0.0s\n"
     ]
    },
    {
     "name": "stderr",
     "output_type": "stream",
     "text": [
      "c:\\Users\\Administrator\\Desktop\\Research\\OQuPy\\.venv\\Lib\\site-packages\\scipy\\optimize\\_lbfgsb_py.py:354: ComplexWarning: Casting complex values to real discards the imaginary part\n",
      "  g = g.astype(np.float64)\n"
     ]
    },
    {
     "name": "stdout",
     "output_type": "stream",
     "text": [
      "--> Compute dynamics:\n",
      "100.0%   20 of   20 [########################################] 00:00:00\n",
      "Elapsed time: 0.0s\n"
     ]
    },
    {
     "name": "stderr",
     "output_type": "stream",
     "text": [
      "C:\\Users\\Administrator\\AppData\\Local\\Temp\\ipykernel_40804\\1375674678.py:41: ComplexWarning: Casting complex values to real discards the imaginary part\n",
      "  return 1-float(return_dict['fidelity'])\n"
     ]
    },
    {
     "name": "stdout",
     "output_type": "stream",
     "text": [
      "(80,)\n",
      "--> Compute dynamics:\n",
      "100.0%   20 of   20 [########################################] 00:00:00\n",
      "Elapsed time: 0.0s\n"
     ]
    },
    {
     "name": "stderr",
     "output_type": "stream",
     "text": [
      "c:\\Users\\Administrator\\Desktop\\Research\\OQuPy\\.venv\\Lib\\site-packages\\scipy\\optimize\\_lbfgsb_py.py:354: ComplexWarning: Casting complex values to real discards the imaginary part\n",
      "  g = g.astype(np.float64)\n"
     ]
    },
    {
     "name": "stdout",
     "output_type": "stream",
     "text": [
      "--> Compute dynamics:\n",
      "100.0%   20 of   20 [########################################] 00:00:00\n",
      "Elapsed time: 0.0s\n"
     ]
    },
    {
     "name": "stderr",
     "output_type": "stream",
     "text": [
      "C:\\Users\\Administrator\\AppData\\Local\\Temp\\ipykernel_40804\\1375674678.py:41: ComplexWarning: Casting complex values to real discards the imaginary part\n",
      "  return 1-float(return_dict['fidelity'])\n"
     ]
    },
    {
     "name": "stdout",
     "output_type": "stream",
     "text": [
      "(80,)\n",
      "--> Compute dynamics:\n",
      "100.0%   20 of   20 [########################################] 00:00:00\n",
      "Elapsed time: 0.1s\n"
     ]
    },
    {
     "name": "stderr",
     "output_type": "stream",
     "text": [
      "c:\\Users\\Administrator\\Desktop\\Research\\OQuPy\\.venv\\Lib\\site-packages\\scipy\\optimize\\_lbfgsb_py.py:354: ComplexWarning: Casting complex values to real discards the imaginary part\n",
      "  g = g.astype(np.float64)\n"
     ]
    },
    {
     "name": "stdout",
     "output_type": "stream",
     "text": [
      "--> Compute dynamics:\n",
      "100.0%   20 of   20 [########################################] 00:00:00\n",
      "Elapsed time: 0.0s\n"
     ]
    },
    {
     "name": "stderr",
     "output_type": "stream",
     "text": [
      "C:\\Users\\Administrator\\AppData\\Local\\Temp\\ipykernel_40804\\1375674678.py:41: ComplexWarning: Casting complex values to real discards the imaginary part\n",
      "  return 1-float(return_dict['fidelity'])\n"
     ]
    },
    {
     "name": "stdout",
     "output_type": "stream",
     "text": [
      "(80,)\n",
      "--> Compute dynamics:\n",
      "100.0%   20 of   20 [########################################] 00:00:00\n",
      "Elapsed time: 0.0s\n"
     ]
    },
    {
     "name": "stderr",
     "output_type": "stream",
     "text": [
      "c:\\Users\\Administrator\\Desktop\\Research\\OQuPy\\.venv\\Lib\\site-packages\\scipy\\optimize\\_lbfgsb_py.py:354: ComplexWarning: Casting complex values to real discards the imaginary part\n",
      "  g = g.astype(np.float64)\n"
     ]
    },
    {
     "name": "stdout",
     "output_type": "stream",
     "text": [
      "--> Compute dynamics:\n",
      "100.0%   20 of   20 [########################################] 00:00:00\n",
      "Elapsed time: 0.0s\n"
     ]
    },
    {
     "name": "stderr",
     "output_type": "stream",
     "text": [
      "C:\\Users\\Administrator\\AppData\\Local\\Temp\\ipykernel_40804\\1375674678.py:41: ComplexWarning: Casting complex values to real discards the imaginary part\n",
      "  return 1-float(return_dict['fidelity'])\n"
     ]
    },
    {
     "name": "stdout",
     "output_type": "stream",
     "text": [
      "--> Compute dynamics:\n",
      "100.0%   20 of   20 [########################################] 00:00:00\n",
      "Elapsed time: 0.0s\n"
     ]
    },
    {
     "name": "stderr",
     "output_type": "stream",
     "text": [
      "C:\\Users\\Administrator\\AppData\\Local\\Temp\\ipykernel_40804\\1375674678.py:41: ComplexWarning: Casting complex values to real discards the imaginary part\n",
      "  return 1-float(return_dict['fidelity'])\n"
     ]
    },
    {
     "name": "stdout",
     "output_type": "stream",
     "text": [
      "(80,)\n",
      "--> Compute dynamics:\n",
      "100.0%   20 of   20 [########################################] 00:00:00\n",
      "Elapsed time: 0.0s\n"
     ]
    },
    {
     "name": "stderr",
     "output_type": "stream",
     "text": [
      "c:\\Users\\Administrator\\Desktop\\Research\\OQuPy\\.venv\\Lib\\site-packages\\scipy\\optimize\\_lbfgsb_py.py:354: ComplexWarning: Casting complex values to real discards the imaginary part\n",
      "  g = g.astype(np.float64)\n"
     ]
    },
    {
     "name": "stdout",
     "output_type": "stream",
     "text": [
      "--> Compute dynamics:\n",
      "100.0%   20 of   20 [########################################] 00:00:00\n",
      "Elapsed time: 0.0s\n"
     ]
    },
    {
     "name": "stderr",
     "output_type": "stream",
     "text": [
      "C:\\Users\\Administrator\\AppData\\Local\\Temp\\ipykernel_40804\\1375674678.py:41: ComplexWarning: Casting complex values to real discards the imaginary part\n",
      "  return 1-float(return_dict['fidelity'])\n"
     ]
    },
    {
     "name": "stdout",
     "output_type": "stream",
     "text": [
      "(80,)\n",
      "--> Compute dynamics:\n",
      "100.0%   20 of   20 [########################################] 00:00:00\n",
      "Elapsed time: 0.0s\n"
     ]
    },
    {
     "name": "stderr",
     "output_type": "stream",
     "text": [
      "c:\\Users\\Administrator\\Desktop\\Research\\OQuPy\\.venv\\Lib\\site-packages\\scipy\\optimize\\_lbfgsb_py.py:354: ComplexWarning: Casting complex values to real discards the imaginary part\n",
      "  g = g.astype(np.float64)\n"
     ]
    },
    {
     "name": "stdout",
     "output_type": "stream",
     "text": [
      "--> Compute dynamics:\n",
      "100.0%   20 of   20 [########################################] 00:00:00\n",
      "Elapsed time: 0.0s\n"
     ]
    },
    {
     "name": "stderr",
     "output_type": "stream",
     "text": [
      "C:\\Users\\Administrator\\AppData\\Local\\Temp\\ipykernel_40804\\1375674678.py:41: ComplexWarning: Casting complex values to real discards the imaginary part\n",
      "  return 1-float(return_dict['fidelity'])\n"
     ]
    },
    {
     "name": "stdout",
     "output_type": "stream",
     "text": [
      "--> Compute dynamics:\n",
      "100.0%   20 of   20 [########################################] 00:00:00\n",
      "Elapsed time: 0.0s\n"
     ]
    },
    {
     "name": "stderr",
     "output_type": "stream",
     "text": [
      "C:\\Users\\Administrator\\AppData\\Local\\Temp\\ipykernel_40804\\1375674678.py:41: ComplexWarning: Casting complex values to real discards the imaginary part\n",
      "  return 1-float(return_dict['fidelity'])\n"
     ]
    },
    {
     "name": "stdout",
     "output_type": "stream",
     "text": [
      "(80,)\n",
      "--> Compute dynamics:\n",
      "100.0%   20 of   20 [########################################] 00:00:00\n",
      "Elapsed time: 0.0s\n"
     ]
    },
    {
     "name": "stderr",
     "output_type": "stream",
     "text": [
      "c:\\Users\\Administrator\\Desktop\\Research\\OQuPy\\.venv\\Lib\\site-packages\\scipy\\optimize\\_lbfgsb_py.py:354: ComplexWarning: Casting complex values to real discards the imaginary part\n",
      "  g = g.astype(np.float64)\n"
     ]
    },
    {
     "name": "stdout",
     "output_type": "stream",
     "text": [
      "--> Compute dynamics:\n",
      "100.0%   20 of   20 [########################################] 00:00:00\n",
      "Elapsed time: 0.0s\n"
     ]
    },
    {
     "name": "stderr",
     "output_type": "stream",
     "text": [
      "C:\\Users\\Administrator\\AppData\\Local\\Temp\\ipykernel_40804\\1375674678.py:41: ComplexWarning: Casting complex values to real discards the imaginary part\n",
      "  return 1-float(return_dict['fidelity'])\n"
     ]
    },
    {
     "name": "stdout",
     "output_type": "stream",
     "text": [
      "(80,)\n",
      "--> Compute dynamics:\n",
      "100.0%   20 of   20 [########################################] 00:00:00\n",
      "Elapsed time: 0.0s\n"
     ]
    },
    {
     "name": "stderr",
     "output_type": "stream",
     "text": [
      "c:\\Users\\Administrator\\Desktop\\Research\\OQuPy\\.venv\\Lib\\site-packages\\scipy\\optimize\\_lbfgsb_py.py:354: ComplexWarning: Casting complex values to real discards the imaginary part\n",
      "  g = g.astype(np.float64)\n"
     ]
    },
    {
     "name": "stdout",
     "output_type": "stream",
     "text": [
      "--> Compute dynamics:\n",
      "100.0%   20 of   20 [########################################] 00:00:00\n",
      "Elapsed time: 0.0s\n"
     ]
    },
    {
     "name": "stderr",
     "output_type": "stream",
     "text": [
      "C:\\Users\\Administrator\\AppData\\Local\\Temp\\ipykernel_40804\\1375674678.py:41: ComplexWarning: Casting complex values to real discards the imaginary part\n",
      "  return 1-float(return_dict['fidelity'])\n"
     ]
    },
    {
     "name": "stdout",
     "output_type": "stream",
     "text": [
      "(80,)\n",
      "--> Compute dynamics:\n",
      "100.0%   20 of   20 [########################################] 00:00:00\n",
      "Elapsed time: 0.0s\n"
     ]
    },
    {
     "name": "stderr",
     "output_type": "stream",
     "text": [
      "c:\\Users\\Administrator\\Desktop\\Research\\OQuPy\\.venv\\Lib\\site-packages\\scipy\\optimize\\_lbfgsb_py.py:354: ComplexWarning: Casting complex values to real discards the imaginary part\n",
      "  g = g.astype(np.float64)\n"
     ]
    },
    {
     "name": "stdout",
     "output_type": "stream",
     "text": [
      "--> Compute dynamics:\n",
      "100.0%   20 of   20 [########################################] 00:00:00\n",
      "Elapsed time: 0.0s\n"
     ]
    },
    {
     "name": "stderr",
     "output_type": "stream",
     "text": [
      "C:\\Users\\Administrator\\AppData\\Local\\Temp\\ipykernel_40804\\1375674678.py:41: ComplexWarning: Casting complex values to real discards the imaginary part\n",
      "  return 1-float(return_dict['fidelity'])\n"
     ]
    },
    {
     "name": "stdout",
     "output_type": "stream",
     "text": [
      "(80,)\n",
      "--> Compute dynamics:\n",
      "100.0%   20 of   20 [########################################] 00:00:00\n",
      "Elapsed time: 0.0s\n"
     ]
    },
    {
     "name": "stderr",
     "output_type": "stream",
     "text": [
      "c:\\Users\\Administrator\\Desktop\\Research\\OQuPy\\.venv\\Lib\\site-packages\\scipy\\optimize\\_lbfgsb_py.py:354: ComplexWarning: Casting complex values to real discards the imaginary part\n",
      "  g = g.astype(np.float64)\n"
     ]
    },
    {
     "name": "stdout",
     "output_type": "stream",
     "text": [
      "--> Compute dynamics:\n",
      "100.0%   20 of   20 [########################################] 00:00:00\n",
      "Elapsed time: 0.0s\n"
     ]
    },
    {
     "name": "stderr",
     "output_type": "stream",
     "text": [
      "C:\\Users\\Administrator\\AppData\\Local\\Temp\\ipykernel_40804\\1375674678.py:41: ComplexWarning: Casting complex values to real discards the imaginary part\n",
      "  return 1-float(return_dict['fidelity'])\n"
     ]
    },
    {
     "name": "stdout",
     "output_type": "stream",
     "text": [
      "(80,)\n",
      "--> Compute dynamics:\n",
      "100.0%   20 of   20 [########################################] 00:00:00\n",
      "Elapsed time: 0.0s\n"
     ]
    },
    {
     "name": "stderr",
     "output_type": "stream",
     "text": [
      "c:\\Users\\Administrator\\Desktop\\Research\\OQuPy\\.venv\\Lib\\site-packages\\scipy\\optimize\\_lbfgsb_py.py:354: ComplexWarning: Casting complex values to real discards the imaginary part\n",
      "  g = g.astype(np.float64)\n"
     ]
    },
    {
     "name": "stdout",
     "output_type": "stream",
     "text": [
      "--> Compute dynamics:\n",
      "100.0%   20 of   20 [########################################] 00:00:00\n",
      "Elapsed time: 0.0s\n"
     ]
    },
    {
     "name": "stderr",
     "output_type": "stream",
     "text": [
      "C:\\Users\\Administrator\\AppData\\Local\\Temp\\ipykernel_40804\\1375674678.py:41: ComplexWarning: Casting complex values to real discards the imaginary part\n",
      "  return 1-float(return_dict['fidelity'])\n"
     ]
    },
    {
     "name": "stdout",
     "output_type": "stream",
     "text": [
      "(80,)\n",
      "--> Compute dynamics:\n",
      "100.0%   20 of   20 [########################################] 00:00:00\n",
      "Elapsed time: 0.0s\n"
     ]
    },
    {
     "name": "stderr",
     "output_type": "stream",
     "text": [
      "c:\\Users\\Administrator\\Desktop\\Research\\OQuPy\\.venv\\Lib\\site-packages\\scipy\\optimize\\_lbfgsb_py.py:354: ComplexWarning: Casting complex values to real discards the imaginary part\n",
      "  g = g.astype(np.float64)\n"
     ]
    },
    {
     "name": "stdout",
     "output_type": "stream",
     "text": [
      "--> Compute dynamics:\n",
      "100.0%   20 of   20 [########################################] 00:00:00\n",
      "Elapsed time: 0.0s\n"
     ]
    },
    {
     "name": "stderr",
     "output_type": "stream",
     "text": [
      "C:\\Users\\Administrator\\AppData\\Local\\Temp\\ipykernel_40804\\1375674678.py:41: ComplexWarning: Casting complex values to real discards the imaginary part\n",
      "  return 1-float(return_dict['fidelity'])\n"
     ]
    },
    {
     "name": "stdout",
     "output_type": "stream",
     "text": [
      "(80,)\n",
      "--> Compute dynamics:\n",
      "100.0%   20 of   20 [########################################] 00:00:00\n",
      "Elapsed time: 0.0s\n"
     ]
    },
    {
     "name": "stderr",
     "output_type": "stream",
     "text": [
      "c:\\Users\\Administrator\\Desktop\\Research\\OQuPy\\.venv\\Lib\\site-packages\\scipy\\optimize\\_lbfgsb_py.py:354: ComplexWarning: Casting complex values to real discards the imaginary part\n",
      "  g = g.astype(np.float64)\n"
     ]
    },
    {
     "name": "stdout",
     "output_type": "stream",
     "text": [
      "--> Compute dynamics:\n",
      "100.0%   20 of   20 [########################################] 00:00:00\n",
      "Elapsed time: 0.0s\n"
     ]
    },
    {
     "name": "stderr",
     "output_type": "stream",
     "text": [
      "C:\\Users\\Administrator\\AppData\\Local\\Temp\\ipykernel_40804\\1375674678.py:41: ComplexWarning: Casting complex values to real discards the imaginary part\n",
      "  return 1-float(return_dict['fidelity'])\n"
     ]
    },
    {
     "name": "stdout",
     "output_type": "stream",
     "text": [
      "--> Compute dynamics:\n",
      "100.0%   20 of   20 [########################################] 00:00:00\n",
      "Elapsed time: 0.0s\n"
     ]
    },
    {
     "name": "stderr",
     "output_type": "stream",
     "text": [
      "C:\\Users\\Administrator\\AppData\\Local\\Temp\\ipykernel_40804\\1375674678.py:41: ComplexWarning: Casting complex values to real discards the imaginary part\n",
      "  return 1-float(return_dict['fidelity'])\n"
     ]
    },
    {
     "name": "stdout",
     "output_type": "stream",
     "text": [
      "(80,)\n",
      "--> Compute dynamics:\n",
      "100.0%   20 of   20 [########################################] 00:00:00\n",
      "Elapsed time: 0.0s\n"
     ]
    },
    {
     "name": "stderr",
     "output_type": "stream",
     "text": [
      "c:\\Users\\Administrator\\Desktop\\Research\\OQuPy\\.venv\\Lib\\site-packages\\scipy\\optimize\\_lbfgsb_py.py:354: ComplexWarning: Casting complex values to real discards the imaginary part\n",
      "  g = g.astype(np.float64)\n"
     ]
    },
    {
     "name": "stdout",
     "output_type": "stream",
     "text": [
      "--> Compute dynamics:\n",
      "100.0%   20 of   20 [########################################] 00:00:00\n",
      "Elapsed time: 0.0s\n"
     ]
    },
    {
     "name": "stderr",
     "output_type": "stream",
     "text": [
      "C:\\Users\\Administrator\\AppData\\Local\\Temp\\ipykernel_40804\\1375674678.py:41: ComplexWarning: Casting complex values to real discards the imaginary part\n",
      "  return 1-float(return_dict['fidelity'])\n"
     ]
    },
    {
     "name": "stdout",
     "output_type": "stream",
     "text": [
      "(80,)\n",
      "--> Compute dynamics:\n",
      "100.0%   20 of   20 [########################################] 00:00:00\n",
      "Elapsed time: 0.0s\n"
     ]
    },
    {
     "name": "stderr",
     "output_type": "stream",
     "text": [
      "c:\\Users\\Administrator\\Desktop\\Research\\OQuPy\\.venv\\Lib\\site-packages\\scipy\\optimize\\_lbfgsb_py.py:354: ComplexWarning: Casting complex values to real discards the imaginary part\n",
      "  g = g.astype(np.float64)\n"
     ]
    },
    {
     "name": "stdout",
     "output_type": "stream",
     "text": [
      "--> Compute dynamics:\n",
      "100.0%   20 of   20 [########################################] 00:00:00\n",
      "Elapsed time: 0.0s\n"
     ]
    },
    {
     "name": "stderr",
     "output_type": "stream",
     "text": [
      "C:\\Users\\Administrator\\AppData\\Local\\Temp\\ipykernel_40804\\1375674678.py:41: ComplexWarning: Casting complex values to real discards the imaginary part\n",
      "  return 1-float(return_dict['fidelity'])\n"
     ]
    },
    {
     "name": "stdout",
     "output_type": "stream",
     "text": [
      "(80,)\n",
      "--> Compute dynamics:\n",
      "100.0%   20 of   20 [########################################] 00:00:00\n",
      "Elapsed time: 0.0s\n"
     ]
    },
    {
     "name": "stderr",
     "output_type": "stream",
     "text": [
      "c:\\Users\\Administrator\\Desktop\\Research\\OQuPy\\.venv\\Lib\\site-packages\\scipy\\optimize\\_lbfgsb_py.py:354: ComplexWarning: Casting complex values to real discards the imaginary part\n",
      "  g = g.astype(np.float64)\n"
     ]
    },
    {
     "name": "stdout",
     "output_type": "stream",
     "text": [
      "--> Compute dynamics:\n",
      "100.0%   20 of   20 [########################################] 00:00:00\n",
      "Elapsed time: 0.0s\n"
     ]
    },
    {
     "name": "stderr",
     "output_type": "stream",
     "text": [
      "C:\\Users\\Administrator\\AppData\\Local\\Temp\\ipykernel_40804\\1375674678.py:41: ComplexWarning: Casting complex values to real discards the imaginary part\n",
      "  return 1-float(return_dict['fidelity'])\n"
     ]
    },
    {
     "name": "stdout",
     "output_type": "stream",
     "text": [
      "(80,)\n",
      "--> Compute dynamics:\n",
      "100.0%   20 of   20 [########################################] 00:00:00\n",
      "Elapsed time: 0.0s\n"
     ]
    },
    {
     "name": "stderr",
     "output_type": "stream",
     "text": [
      "c:\\Users\\Administrator\\Desktop\\Research\\OQuPy\\.venv\\Lib\\site-packages\\scipy\\optimize\\_lbfgsb_py.py:354: ComplexWarning: Casting complex values to real discards the imaginary part\n",
      "  g = g.astype(np.float64)\n"
     ]
    },
    {
     "name": "stdout",
     "output_type": "stream",
     "text": [
      "--> Compute dynamics:\n",
      "100.0%   20 of   20 [########################################] 00:00:00\n",
      "Elapsed time: 0.0s\n"
     ]
    },
    {
     "name": "stderr",
     "output_type": "stream",
     "text": [
      "C:\\Users\\Administrator\\AppData\\Local\\Temp\\ipykernel_40804\\1375674678.py:41: ComplexWarning: Casting complex values to real discards the imaginary part\n",
      "  return 1-float(return_dict['fidelity'])\n"
     ]
    },
    {
     "name": "stdout",
     "output_type": "stream",
     "text": [
      "(80,)\n",
      "--> Compute dynamics:\n",
      "100.0%   20 of   20 [########################################] 00:00:00\n",
      "Elapsed time: 0.0s\n"
     ]
    },
    {
     "name": "stderr",
     "output_type": "stream",
     "text": [
      "c:\\Users\\Administrator\\Desktop\\Research\\OQuPy\\.venv\\Lib\\site-packages\\scipy\\optimize\\_lbfgsb_py.py:354: ComplexWarning: Casting complex values to real discards the imaginary part\n",
      "  g = g.astype(np.float64)\n"
     ]
    },
    {
     "name": "stdout",
     "output_type": "stream",
     "text": [
      "--> Compute dynamics:\n",
      "100.0%   20 of   20 [########################################] 00:00:00\n",
      "Elapsed time: 0.0s\n"
     ]
    },
    {
     "name": "stderr",
     "output_type": "stream",
     "text": [
      "C:\\Users\\Administrator\\AppData\\Local\\Temp\\ipykernel_40804\\1375674678.py:41: ComplexWarning: Casting complex values to real discards the imaginary part\n",
      "  return 1-float(return_dict['fidelity'])\n"
     ]
    },
    {
     "name": "stdout",
     "output_type": "stream",
     "text": [
      "(80,)\n",
      "--> Compute dynamics:\n",
      "100.0%   20 of   20 [########################################] 00:00:00\n",
      "Elapsed time: 0.0s\n"
     ]
    },
    {
     "name": "stderr",
     "output_type": "stream",
     "text": [
      "c:\\Users\\Administrator\\Desktop\\Research\\OQuPy\\.venv\\Lib\\site-packages\\scipy\\optimize\\_lbfgsb_py.py:354: ComplexWarning: Casting complex values to real discards the imaginary part\n",
      "  g = g.astype(np.float64)\n"
     ]
    },
    {
     "name": "stdout",
     "output_type": "stream",
     "text": [
      "--> Compute dynamics:\n",
      "100.0%   20 of   20 [########################################] 00:00:00\n",
      "Elapsed time: 0.0s\n"
     ]
    },
    {
     "name": "stderr",
     "output_type": "stream",
     "text": [
      "C:\\Users\\Administrator\\AppData\\Local\\Temp\\ipykernel_40804\\1375674678.py:41: ComplexWarning: Casting complex values to real discards the imaginary part\n",
      "  return 1-float(return_dict['fidelity'])\n"
     ]
    },
    {
     "name": "stdout",
     "output_type": "stream",
     "text": [
      "(80,)\n",
      "--> Compute dynamics:\n",
      "100.0%   20 of   20 [########################################] 00:00:00\n",
      "Elapsed time: 0.0s\n"
     ]
    },
    {
     "name": "stderr",
     "output_type": "stream",
     "text": [
      "c:\\Users\\Administrator\\Desktop\\Research\\OQuPy\\.venv\\Lib\\site-packages\\scipy\\optimize\\_lbfgsb_py.py:354: ComplexWarning: Casting complex values to real discards the imaginary part\n",
      "  g = g.astype(np.float64)\n"
     ]
    },
    {
     "name": "stdout",
     "output_type": "stream",
     "text": [
      "--> Compute dynamics:\n",
      "100.0%   20 of   20 [########################################] 00:00:00\n",
      "Elapsed time: 0.0s\n"
     ]
    },
    {
     "name": "stderr",
     "output_type": "stream",
     "text": [
      "C:\\Users\\Administrator\\AppData\\Local\\Temp\\ipykernel_40804\\1375674678.py:41: ComplexWarning: Casting complex values to real discards the imaginary part\n",
      "  return 1-float(return_dict['fidelity'])\n"
     ]
    },
    {
     "name": "stdout",
     "output_type": "stream",
     "text": [
      "(80,)\n",
      "--> Compute dynamics:\n",
      "100.0%   20 of   20 [########################################] 00:00:00\n",
      "Elapsed time: 0.0s\n"
     ]
    },
    {
     "name": "stderr",
     "output_type": "stream",
     "text": [
      "c:\\Users\\Administrator\\Desktop\\Research\\OQuPy\\.venv\\Lib\\site-packages\\scipy\\optimize\\_lbfgsb_py.py:354: ComplexWarning: Casting complex values to real discards the imaginary part\n",
      "  g = g.astype(np.float64)\n"
     ]
    },
    {
     "name": "stdout",
     "output_type": "stream",
     "text": [
      "--> Compute dynamics:\n",
      "100.0%   20 of   20 [########################################] 00:00:00\n",
      "Elapsed time: 0.0s\n"
     ]
    },
    {
     "name": "stderr",
     "output_type": "stream",
     "text": [
      "C:\\Users\\Administrator\\AppData\\Local\\Temp\\ipykernel_40804\\1375674678.py:41: ComplexWarning: Casting complex values to real discards the imaginary part\n",
      "  return 1-float(return_dict['fidelity'])\n"
     ]
    },
    {
     "name": "stdout",
     "output_type": "stream",
     "text": [
      "(80,)\n",
      "--> Compute dynamics:\n",
      "100.0%   20 of   20 [########################################] 00:00:00\n",
      "Elapsed time: 0.0s\n"
     ]
    },
    {
     "name": "stderr",
     "output_type": "stream",
     "text": [
      "c:\\Users\\Administrator\\Desktop\\Research\\OQuPy\\.venv\\Lib\\site-packages\\scipy\\optimize\\_lbfgsb_py.py:354: ComplexWarning: Casting complex values to real discards the imaginary part\n",
      "  g = g.astype(np.float64)\n"
     ]
    },
    {
     "name": "stdout",
     "output_type": "stream",
     "text": [
      "--> Compute dynamics:\n",
      "100.0%   20 of   20 [########################################] 00:00:00\n",
      "Elapsed time: 0.0s\n"
     ]
    },
    {
     "name": "stderr",
     "output_type": "stream",
     "text": [
      "C:\\Users\\Administrator\\AppData\\Local\\Temp\\ipykernel_40804\\1375674678.py:41: ComplexWarning: Casting complex values to real discards the imaginary part\n",
      "  return 1-float(return_dict['fidelity'])\n"
     ]
    },
    {
     "name": "stdout",
     "output_type": "stream",
     "text": [
      "(80,)\n",
      "--> Compute dynamics:\n",
      "100.0%   20 of   20 [########################################] 00:00:00\n",
      "Elapsed time: 0.0s\n"
     ]
    },
    {
     "name": "stderr",
     "output_type": "stream",
     "text": [
      "c:\\Users\\Administrator\\Desktop\\Research\\OQuPy\\.venv\\Lib\\site-packages\\scipy\\optimize\\_lbfgsb_py.py:354: ComplexWarning: Casting complex values to real discards the imaginary part\n",
      "  g = g.astype(np.float64)\n"
     ]
    },
    {
     "name": "stdout",
     "output_type": "stream",
     "text": [
      "--> Compute dynamics:\n",
      "100.0%   20 of   20 [########################################] 00:00:00\n",
      "Elapsed time: 0.0s\n"
     ]
    },
    {
     "name": "stderr",
     "output_type": "stream",
     "text": [
      "C:\\Users\\Administrator\\AppData\\Local\\Temp\\ipykernel_40804\\1375674678.py:41: ComplexWarning: Casting complex values to real discards the imaginary part\n",
      "  return 1-float(return_dict['fidelity'])\n"
     ]
    },
    {
     "name": "stdout",
     "output_type": "stream",
     "text": [
      "(80,)\n",
      "--> Compute dynamics:\n",
      "100.0%   20 of   20 [########################################] 00:00:00\n",
      "Elapsed time: 0.0s\n"
     ]
    },
    {
     "name": "stderr",
     "output_type": "stream",
     "text": [
      "c:\\Users\\Administrator\\Desktop\\Research\\OQuPy\\.venv\\Lib\\site-packages\\scipy\\optimize\\_lbfgsb_py.py:354: ComplexWarning: Casting complex values to real discards the imaginary part\n",
      "  g = g.astype(np.float64)\n"
     ]
    },
    {
     "name": "stdout",
     "output_type": "stream",
     "text": [
      "--> Compute dynamics:\n",
      "100.0%   20 of   20 [########################################] 00:00:00\n",
      "Elapsed time: 0.0s\n"
     ]
    },
    {
     "name": "stderr",
     "output_type": "stream",
     "text": [
      "C:\\Users\\Administrator\\AppData\\Local\\Temp\\ipykernel_40804\\1375674678.py:41: ComplexWarning: Casting complex values to real discards the imaginary part\n",
      "  return 1-float(return_dict['fidelity'])\n"
     ]
    },
    {
     "name": "stdout",
     "output_type": "stream",
     "text": [
      "(80,)\n",
      "--> Compute dynamics:\n",
      "100.0%   20 of   20 [########################################] 00:00:00\n",
      "Elapsed time: 0.0s\n"
     ]
    },
    {
     "name": "stderr",
     "output_type": "stream",
     "text": [
      "c:\\Users\\Administrator\\Desktop\\Research\\OQuPy\\.venv\\Lib\\site-packages\\scipy\\optimize\\_lbfgsb_py.py:354: ComplexWarning: Casting complex values to real discards the imaginary part\n",
      "  g = g.astype(np.float64)\n",
      "C:\\Users\\Administrator\\AppData\\Local\\Temp\\ipykernel_40804\\1375674678.py:41: ComplexWarning: Casting complex values to real discards the imaginary part\n",
      "  return 1-float(return_dict['fidelity'])\n"
     ]
    }
   ],
   "source": [
    "#x_bound = [-5,5]\n",
    "#z_bound = [0,1]\n",
    "#bounds = np.zeros((2*num_steps*num_params,2))\n",
    "\n",
    "#for i in range(0, 2*num_params*num_steps-3,2):\n",
    "    #bounds[i] = x_bound\n",
    "    #bounds[i+1] = z_bound\n",
    "\n",
    "bounds = Bounds(lb=-5,ub=5)\n",
    "\n",
    "optimization_result = minimize(\n",
    "                        fun=infidelity,\n",
    "                        x0=flatten_list(parameter_list),\n",
    "                        method='L-BFGS-B',\n",
    "                        jac=fidelity_jacobian,\n",
    "                        bounds=bounds,\n",
    "                        callback=infidelity,\n",
    "                        options = {'disp':True}\n",
    ")\n",
    "\n"
   ]
  },
  {
   "cell_type": "code",
   "execution_count": 54,
   "metadata": {},
   "outputs": [
    {
     "name": "stdout",
     "output_type": "stream",
     "text": [
      "The maximal fidelity was found to be :  -0.04495482334396084\n",
      "The jacobian was found to be :  [-0.00081828 -0.00081828 -0.00075075 -0.00075075 -0.00081944 -0.00081944\n",
      " -0.00074936 -0.00074936 -0.00081813 -0.00081813 -0.00076123 -0.00076123\n",
      " -0.00079731 -0.00079731 -0.00077055 -0.00077055 -0.0007449  -0.0007449\n",
      " -0.00075814 -0.00075814 -0.00066067 -0.00066067 -0.00071344 -0.00071344\n",
      " -0.00056179 -0.00056179 -0.00064043 -0.00064043 -0.00046512 -0.00046512\n",
      " -0.00055496 -0.00055496 -0.00038314 -0.00038314 -0.00047116 -0.00047116\n",
      " -0.00032185 -0.00032185 -0.0003985  -0.0003985  -0.00028238 -0.00028238\n",
      " -0.0003413  -0.0003413  -0.00026361 -0.00026361 -0.00030003 -0.00030003\n",
      " -0.00026458 -0.00026458 -0.00027488 -0.00027488 -0.00028571 -0.00028571\n",
      " -0.00026715 -0.00026715 -0.00033025 -0.00033025 -0.00028045 -0.00028045\n",
      " -0.00040606 -0.00040606 -0.00032142 -0.00032142 -0.00052633 -0.00052633\n",
      " -0.00040078 -0.00040078 -0.00070748 -0.00070748 -0.00053346 -0.00053346\n",
      " -0.00095383 -0.00095383 -0.00073257 -0.00073257 -0.00121803 -0.00121803\n",
      " -0.00098664 -0.00098664]\n"
     ]
    },
    {
     "data": {
      "image/png": "[encoded data removed]",
      "text/plain": [
       "<Figure size 640x480 with 1 Axes>"
      ]
     },
     "metadata": {},
     "output_type": "display_data"
    },
    {
     "name": "stdout",
     "output_type": "stream",
     "text": [
      "--> Compute dynamics:\n",
      "100.0%   20 of   20 [########################################] 00:00:00\n",
      "Elapsed time: 0.0s\n",
      "21\n",
      "the fidelity is (0.9550451766560392-3.0282566705248925e-10j)\n",
      "the fidelity gradient is [[-5.11416089e-05-2.60205133e-16j  8.69425403e-04-1.14944404e-15j]\n",
      " [-6.61122773e-05+3.80233090e-17j  8.16866296e-04-1.40359458e-15j]\n",
      " [-1.64892109e-04-3.81530744e-16j  9.84334581e-04-1.35170195e-15j]\n",
      " [-1.75851055e-04-1.56341953e-16j  9.25211352e-04-1.37699097e-15j]\n",
      " [-2.86117786e-04-4.01317434e-16j  1.10424304e-03-1.13673177e-15j]\n",
      " [-2.82543266e-04-5.14670771e-16j  1.04376845e-03-1.13461757e-15j]\n",
      " [-4.17750446e-04-7.58670470e-17j  1.21506178e-03-1.46055585e-15j]\n",
      " [-3.90221392e-04-3.67409011e-16j  1.16077300e-03-1.41602225e-15j]\n",
      " [-5.58345457e-04+2.02691596e-16j  1.30324645e-03-1.24439304e-15j]\n",
      " [-5.03866013e-04-8.53809211e-17j  1.26200881e-03-1.24748302e-15j]\n",
      " [-6.99270329e-04+9.89876583e-17j  1.35994062e-03-1.22083875e-15j]\n",
      " [-6.22072224e-04+1.69786060e-16j  1.33550832e-03-1.16546313e-15j]\n",
      " [-8.23312415e-04+8.29279137e-17j  1.38510667e-03-1.25911109e-15j]\n",
      " [-7.35586785e-04+1.14112279e-16j  1.37601502e-03-1.18481613e-15j]\n",
      " [-9.24108019e-04-1.68593438e-16j  1.38923089e-03-1.12621501e-15j]\n",
      " [-8.34107847e-04+4.70814793e-17j  1.38906874e-03-1.16787548e-15j]\n",
      " [-1.00534572e-03-3.72436999e-16j  1.38848555e-03-1.15661333e-15j]\n",
      " [-9.17654705e-04-1.93638508e-16j  1.38881170e-03-1.15060956e-15j]\n",
      " [-1.07368484e-03-9.53081472e-16j  1.39553235e-03-1.22155704e-15j]\n",
      " [-9.92256250e-04-4.76886326e-16j  1.39075324e-03-1.17696922e-15j]\n",
      " [-1.13102713e-03-7.96292286e-16j  1.41340384e-03-1.31214213e-15j]\n",
      " [-1.06201960e-03-1.05633818e-15j  1.40332360e-03-1.28175058e-15j]\n",
      " [-1.17163205e-03-7.30752264e-16j  1.43523757e-03-1.43544302e-15j]\n",
      " [-1.12430942e-03-8.34564622e-16j  1.42433940e-03-1.35528490e-15j]\n",
      " [-1.18550224e-03-1.27195888e-15j  1.45007974e-03-1.61357744e-15j]\n",
      " [-1.16908078e-03-7.84067906e-16j  1.44395617e-03-1.59687352e-15j]\n",
      " [-1.16545020e-03-1.98444234e-15j  1.45116339e-03-1.67789095e-15j]\n",
      " [-1.18512906e-03-1.31142384e-15j  1.45228280e-03-1.67447953e-15j]\n",
      " [-1.11118003e-03-1.35500877e-15j  1.44143189e-03-1.58269123e-15j]\n",
      " [-1.16653494e-03-1.99956696e-15j  1.44698734e-03-1.66796246e-15j]\n",
      " [-1.02561265e-03-2.79697055e-16j  1.43167189e-03-1.53485758e-15j]\n",
      " [-1.11416961e-03-1.37585256e-15j  1.43558606e-03-1.53797127e-15j]\n",
      " [-9.04180063e-04-1.31920299e-16j  1.43050870e-03-1.53730381e-15j]\n",
      " [-1.02858827e-03-3.06476849e-16j  1.42937163e-03-1.55410895e-15j]\n",
      " [-7.22782833e-04-5.28548559e-17j  1.43026024e-03-1.67913101e-15j]\n",
      " [-8.97192290e-04-8.82879382e-17j  1.43064852e-03-1.57218802e-15j]\n",
      " [-4.43158594e-04+6.25042552e-17j  1.39698952e-03-1.51213677e-15j]\n",
      " [-6.86835816e-04-1.15535294e-16j  1.41940106e-03-1.56935554e-15j]\n",
      " [-5.92322832e-05+1.68403702e-16j  1.27725917e-03-1.49674110e-15j]\n",
      " [-3.63318496e-04+1.82986222e-16j  1.34995404e-03-1.59824953e-15j]]\n"
     ]
    },
    {
     "name": "stderr",
     "output_type": "stream",
     "text": [
      "c:\\Users\\Administrator\\Desktop\\Research\\OQuPy\\.venv\\Lib\\site-packages\\matplotlib\\cbook.py:1699: ComplexWarning: Casting complex values to real discards the imaginary part\n",
      "  return math.isfinite(val)\n",
      "c:\\Users\\Administrator\\Desktop\\Research\\OQuPy\\.venv\\Lib\\site-packages\\matplotlib\\cbook.py:1345: ComplexWarning: Casting complex values to real discards the imaginary part\n",
      "  return np.asarray(x, float)\n"
     ]
    },
    {
     "data": {
      "image/png": "[encoded data removed]",
      "text/plain": [
       "<Figure size 640x480 with 1 Axes>"
      ]
     },
     "metadata": {},
     "output_type": "display_data"
    },
    {
     "data": {
      "image/png": "[encoded data removed]",
      "text/plain": [
       "<Figure size 640x480 with 1 Axes>"
      ]
     },
     "metadata": {},
     "output_type": "display_data"
    },
    {
     "name": "stderr",
     "output_type": "stream",
     "text": [
      "No artists with labels found to put in legend.  Note that artists whose label start with an underscore are ignored when legend() is called with no argument.\n"
     ]
    },
    {
     "data": {
      "image/png": "[encoded data removed]",
      "text/plain": [
       "<Figure size 640x480 with 1 Axes>"
      ]
     },
     "metadata": {},
     "output_type": "display_data"
    }
   ],
   "source": [
    "\n",
    "print(\"The maximal fidelity was found to be : \",-optimization_result.fun)\n",
    "\n",
    "print(\"The jacobian was found to be : \",optimization_result.jac)\n",
    "\n",
    "optimized_parameters_flat = optimization_result.x\n",
    "\n",
    "times = np.arange(0,2*num_steps)\n",
    "optimized_parameters = unflatten_list(optimized_parameters_flat)\n",
    "\n",
    "opt_params_x = np.array([parameter[0] for parameter in optimized_parameters])\n",
    "opt_params_z = np.array([parameter[1] for parameter in optimized_parameters])\n",
    "\n",
    "plt.plot(times,opt_params_x,label='x')\n",
    "plt.plot(times,opt_params_z,label='z')\n",
    "\n",
    "plt.legend()\n",
    "plt.show()\n",
    "\n",
    "optimized_dynamics = state_gradient(\n",
    "        system=parametrized_system,\n",
    "        initial_state=initial_state,\n",
    "        target_state=target_state,\n",
    "        process_tensor=process_tensor,\n",
    "        parameters=optimized_parameters,\n",
    "        return_fidelity=True,\n",
    "        return_dynamics=True)\n",
    "\n",
    "# --- Optimised Fidelity Gradient results ------\n",
    "\n",
    "print(f\"the fidelity is {optimized_dynamics['fidelity']}\")\n",
    "print(f\"the fidelity gradient is {optimized_dynamics['gradient']}\")\n",
    "\n",
    "# ----------- Optimised Dynamics on Bloch sphere -------------\n",
    "t, s_x = optimized_dynamics['dynamics'].expectations(op.sigma(\"x\"))\n",
    "t, s_y = optimized_dynamics['dynamics'].expectations(op.sigma(\"y\"))\n",
    "t, s_z = optimized_dynamics['dynamics'].expectations(op.sigma(\"z\"))\n",
    "\n",
    "plt.title(\"Evolution of components under optimised controls\")\n",
    "\n",
    "plt.plot(t,s_x,label='x')\n",
    "plt.plot(t,s_y,label='y')\n",
    "plt.plot(t,s_z,label='z')\n",
    "\n",
    "plt.legend()\n",
    "plt.show()\n",
    "\n",
    "# ----- Fidelity Gradient Graph --------\n",
    "\n",
    "opt_derivs_x = np.array([parameter[0] for parameter in optimized_dynamics['gradient']])\n",
    "opt_derivs_z = np.array([parameter[1] for parameter in optimized_dynamics['gradient']])\n",
    "\n",
    "\n",
    "final_opt_derivs_x = sum_adjacent_elements(opt_derivs_x)\n",
    "final_opt_derivs_z = sum_adjacent_elements(opt_derivs_z)\n",
    "\n",
    "\n",
    "plt.plot(t[:-1],final_opt_derivs_x,label='x')\n",
    "plt.plot(t[:-1],final_opt_derivs_z,label='z')\n",
    "\n",
    "plt.legend()\n",
    "plt.ylabel(r\"$\\frac{\\partial \\mathcal{F(T)}}{\\partial h_i (t)}$\",rotation=0,fontsize=16)\n",
    "plt.xlabel(\"t\")\n",
    "plt.show()\n",
    "\n",
    "# Optimised Fidelity Graph \n",
    "dynamics = optimized_dynamics['dynamics']\n",
    "fidelity=[]\n",
    "\n",
    "for state in dynamics.states:\n",
    "    sqrt_final_state = sqrtm(state)\n",
    "    intermediate_1 = sqrt_final_state @ target_state\n",
    "    inside_of_sqrt = intermediate_1 @ sqrt_final_state\n",
    "    fidelity.append((sqrtm(inside_of_sqrt).trace())**2)\n",
    "\n",
    "plt.plot(fidelity)\n",
    "plt.ylabel(r\"$\\mathcal{F} (t)$\",rotation=0,fontsize=16)\n",
    "plt.xlabel(\"t\")\n",
    "\n",
    "plt.legend()\n",
    "plt.show()\n"
   ]
  },
  {
   "cell_type": "code",
   "execution_count": null,
   "metadata": {},
   "outputs": [],
   "source": []
  },
  {
   "cell_type": "code",
   "execution_count": null,
   "metadata": {},
   "outputs": [],
   "source": []
  },
  {
   "cell_type": "code",
   "execution_count": null,
   "metadata": {},
   "outputs": [],
   "source": []
  }
 ],
 "metadata": {
  "kernelspec": {
   "display_name": ".venv",
   "language": "python",
   "name": "python3"
  },
  "language_info": {
   "codemirror_mode": {
    "name": "ipython",
    "version": 3
   },
   "file_extension": ".py",
   "mimetype": "text/x-python",
   "name": "python",
   "nbconvert_exporter": "python",
   "pygments_lexer": "ipython3",
   "version": "3.11.8"
  }
 },
 "nbformat": 4,
 "nbformat_minor": 2
}
