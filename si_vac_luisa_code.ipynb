{
 "cells": [
  {
   "cell_type": "markdown",
   "metadata": {},
   "source": [
    "### Luisa's original calculation"
   ]
  },
  {
   "cell_type": "code",
   "execution_count": null,
   "metadata": {},
   "outputs": [
    {
     "ename": "",
     "evalue": "",
     "output_type": "error",
     "traceback": [
      "\u001b[1;31mRunning cells with 'Python 3.10.6 ('slm_venv')' requires ipykernel package.\n",
      "Run the following command to install 'ipykernel' into the Python environment. \n",
      "Command: '/home/eobutler/dev/slm_work/slm_venv/bin/python3 -m pip install ipykernel -U --force-reinstall'"
     ]
    }
   ],
   "source": [
    "import oqupy\n",
    "import numpy as np\n",
    "import matplotlib.pyplot as plt"
   ]
  },
  {
   "cell_type": "code",
   "execution_count": 2,
   "metadata": {},
   "outputs": [
    {
     "data": {
      "text/plain": [
       "'0.4.0'"
      ]
     },
     "execution_count": 2,
     "metadata": {},
     "output_type": "execute_result"
    }
   ],
   "source": [
    "oqupy.__version__"
   ]
  },
  {
   "cell_type": "code",
   "execution_count": 3,
   "metadata": {},
   "outputs": [],
   "source": [
    "ρ_00 = np.array([[0. + 0*1j for _ in range(4)] for _ in range(4)])\n",
    "ρ_11 = np.array([[0. + 0*1j for _ in range(4)] for _ in range(4)])\n",
    "ρ_22 = np.array([[0. + 0*1j for _ in range(4)] for _ in range(4)])\n",
    "ρ_33 = np.array([[0. + 0*1j for _ in range(4)] for _ in range(4)])\n",
    "ρ_01 = np.array([[0. + 0*1j for _ in range(4)] for _ in range(4)])\n",
    "ρ_02 = np.array([[0. + 0*1j for _ in range(4)] for _ in range(4)])\n",
    "ρ_03 = np.array([[0. + 0*1j for _ in range(4)] for _ in range(4)])\n",
    "ρ_12 = np.array([[0. + 0*1j for _ in range(4)] for _ in range(4)])\n",
    "ρ_13 = np.array([[0. + 0*1j for _ in range(4)] for _ in range(4)])\n",
    "ρ_23 = np.array([[0. + 0*1j for _ in range(4)] for _ in range(4)])\n",
    "\n",
    "ρ_00[0][0] = 1 + 0*1j\n",
    "ρ_11[1][1] = 1 + 0*1j\n",
    "ρ_22[2][2] = 1 + 0*1j\n",
    "ρ_33[3][3] = 1 + 0*1j\n",
    "\n",
    "ρ_01[0][1] = 1 + 0*1j\n",
    "ρ_02[0][2] = 1 + 0*1j\n",
    "ρ_03[0][3] = 1 + 0*1j\n",
    "\n",
    "ρ_12[1][2] = 1 + 0*1j\n",
    "ρ_13[1][3] = 1 + 0*1j\n",
    "ρ_23[2][3] = 1 + 0*1j\n",
    "\n",
    "\n",
    "sminus_u = np.transpose(ρ_01)\n",
    "splus_u = ρ_01\n",
    "sminus_g = np.transpose(ρ_23)\n",
    "splus_g = ρ_23"
   ]
  },
  {
   "cell_type": "code",
   "execution_count": 4,
   "metadata": {},
   "outputs": [
    {
     "name": "stdout",
     "output_type": "stream",
     "text": [
      "1.0\n",
      "20.0\n"
     ]
    }
   ],
   "source": [
    "kb = 0.131\n",
    "w_c = 2*np.pi #ω_c\n",
    "alpha1 = 0.0275 # A of J(ω)\n",
    "alpha2 = 0.073 \n",
    "\n",
    "λ_u = 1.68\n",
    "λ_g = 0.282\n",
    "temperature = 20*kb\n",
    "a1 = 0.5/(0.5*(2+ np.exp(-λ_u/(temperature)) +np.exp(-λ_g/(temperature))))\n",
    "a3 = 0.5/(0.5*(2+ np.exp(-λ_u/(temperature)) +np.exp(-λ_g/(temperature))))\n",
    "a0 = a1*np.exp(-λ_u/(temperature))\n",
    "a2 = a3*np.exp(-λ_g/(temperature))\n",
    "\n",
    "print(a0+a1+a2+a3)\n",
    "print(-λ_u/(kb*np.log(a0/a1)))\n",
    "\n",
    "#initial_state = (1/4.0) * (ρ_00 + ρ_11 + ρ_22 + ρ_33)\n",
    "initial_state= a0*ρ_00 +  a1*ρ_11 +a2* ρ_22 +  a3*ρ_33\n",
    "#initial_state = np.matmul(np.matmul(sminus_u + sminus_g,initial_state), np.transpose(sminus_u + sminus_g))\n",
    "\n",
    "\n",
    "\n",
    "Δ = 2.5\n",
    "Ω_z = 0#2*1e-1\n",
    "Ω_min = 0#02*1e-1\n",
    "Ω_plus = 0#02*1e-1\n",
    "\n",
    "dim = 3\n",
    "A = alpha1\n",
    "J1 = 0.0025/(4*np.pi**2)\n",
    "sig = 2.4042*2*np.pi\n",
    "w_0 = 9.35*2*np.pi\n",
    "J0 = 0.0235/(2*np.pi)\n",
    "Gam = 0.8414*2*np.pi\n",
    "w_loc = 15.19*2*np.pi\n",
    "ϵ = np.sqrt(0.0037/(2 * A * w_c**(1-dim)))\n",
    "\n"
   ]
  },
  {
   "cell_type": "code",
   "execution_count": 15,
   "metadata": {},
   "outputs": [],
   "source": [
    "correlations = oqupy.PowerLawSD(alpha=A,\n",
    "                                zeta=dim,\n",
    "                                cutoff=w_c,\n",
    "                                cutoff_type='exponential',\n",
    "                                temperature=temperature)\n",
    "\n",
    "OpPhon = (ρ_01 + ρ_23) + np.transpose(ρ_01 + ρ_23)\n",
    "OpsDef = ρ_00 + ρ_11 - ρ_22 - ρ_33\n",
    "bath = oqupy.Bath(ϵ*OpPhon + 0*OpsDef, correlations)#bath = oqupy.Bath(ϵ*OpPhon + OpsDef, correlations)\n",
    "tempo_parameters = oqupy.TempoParameters(dt=0.015, dkmax=50, epsrel=10**(-9))\n",
    "\n",
    "def hamiltonian_t(t): \n",
    "    return 0.5*np.array([[-Δ + λ_u, 0, Ω_z, Ω_plus],[0, -Δ - λ_u, Ω_min, Ω_z],[Ω_z, Ω_min, Δ + λ_g, 0],[Ω_plus, Ω_z, 0, Δ - λ_g]])\n",
    "\n",
    "#γs = [ lambda t: 0.0, lambda t: 0.0, lambda t: 0.0]#[ lambda t: 0.001, lambda t: 0.001, lambda t: 0.001]\n",
    "#Ophot = [lambda t: np.transpose(ρ_12), lambda t: np.transpose(ρ_03), lambda t: np.transpose(ρ_02) + np.transpose(ρ_13)]\n",
    "\n",
    "#system = oqupy.TimeDependentSystem(hamiltonian=hamiltonian_t)#, gammas=γs, lindblad_operators=Ophot)\n",
    "\n",
    "system=oqupy.System(hamiltonian=hamiltonian_t(0))#,gammas=list(map(lambda x: x(0),γs)), lindblad_operators=list(map(lambda x: x(0),Ophot)))\n",
    "sivtmpo=oqupy.Tempo(system=system,bath=bath,parameters=tempo_parameters,\n",
    "              initial_state=initial_state,\n",
    "              start_time=0.0)\n",
    "              "
   ]
  },
  {
   "cell_type": "code",
   "execution_count": 16,
   "metadata": {},
   "outputs": [
    {
     "name": "stderr",
     "output_type": "stream",
     "text": [
      "/home/luisa/.local/lib/python3.10/site-packages/oqupy/helpers.py:113: UserWarning: Matplotlib is currently using module://matplotlib_inline.backend_inline, which is a non-GUI backend, so cannot show the figure.\n",
      "  fig.show()\n"
     ]
    },
    {
     "data": {
      "image/png": "[encoded data removed]",
      "text/plain": [
       "<Figure size 432x288 with 1 Axes>"
      ]
     },
     "metadata": {
      "needs_background": "light"
     },
     "output_type": "display_data"
    }
   ],
   "source": [
    "oqupy.helpers.plot_correlations_with_parameters(correlations,tempo_parameters)\n",
    "plt.show()"
   ]
  },
  {
   "cell_type": "code",
   "execution_count": 17,
   "metadata": {},
   "outputs": [
    {
     "name": "stdout",
     "output_type": "stream",
     "text": [
      "--> TEMPO computation:\n",
      "100.0%   33 of   33 [########################################] 00:03:57\n",
      "Elapsed time: 237.3s\n"
     ]
    },
    {
     "data": {
      "text/plain": [
       "<oqupy.dynamics.Dynamics at 0x7f4b363332b0>"
      ]
     },
     "execution_count": 17,
     "metadata": {},
     "output_type": "execute_result"
    }
   ],
   "source": [
    "sivtmpo.compute(end_time=0.5)"
   ]
  },
  {
   "cell_type": "code",
   "execution_count": 18,
   "metadata": {},
   "outputs": [],
   "source": [
    "dyn = sivtmpo.get_dynamics()"
   ]
  },
  {
   "cell_type": "code",
   "execution_count": 19,
   "metadata": {},
   "outputs": [
    {
     "data": {
      "image/png": "[encoded data removed]",
      "text/plain": [
       "<Figure size 432x288 with 1 Axes>"
      ]
     },
     "metadata": {
      "needs_background": "light"
     },
     "output_type": "display_data"
    }
   ],
   "source": [
    "plt.plot(dyn.times,dyn.states[:,0,0].real, label=\"p_00\")\n",
    "plt.plot(dyn.times,dyn.states[:,1,1].real, label=\"p_11\")\n",
    "plt.plot(dyn.times,dyn.states[:,2,2].real, label=\"p_22\")\n",
    "plt.plot(dyn.times,dyn.states[:,3,3].real, label=\"p_33\")\n",
    "\n",
    "#plt.plot(t, (ρ_00 + ρ_11 + ρ_22 + ρ_33), label=\"sum\")\n",
    "#plt.plot(t, p_10.imag, label=r\"$\\Delta = $\"+f\"{delta:0.1f}\")\n",
    "plt.xlabel(r'$t/$ps')\n",
    "plt.ylabel(r'$ . $')\n",
    "#plt.ylim((0.0,1.0))\n",
    "plt.legend()\n",
    "plt.show()"
   ]
  },
  {
   "cell_type": "code",
   "execution_count": 20,
   "metadata": {},
   "outputs": [
    {
     "name": "stdout",
     "output_type": "stream",
     "text": [
      "20.0\n",
      "19.999999999999993\n"
     ]
    }
   ],
   "source": [
    "#temperature at intial time\n",
    "print(-λ_u/(kb*np.log(dyn.states[0,0,0].real/dyn.states[0,1,1].real)))\n",
    "print(-λ_g/(kb*np.log(dyn.states[0,2,2].real/dyn.states[0,3,3].real)))"
   ]
  },
  {
   "cell_type": "code",
   "execution_count": 21,
   "metadata": {},
   "outputs": [
    {
     "name": "stdout",
     "output_type": "stream",
     "text": [
      "22.241774394155275\n",
      "22.043924574057446\n"
     ]
    }
   ],
   "source": [
    "#temperature at final time\n",
    "print(-λ_u/(kb*np.log(dyn.states[-1,0,0].real/dyn.states[-1,1,1].real)))\n",
    "print(-λ_g/(kb*np.log(dyn.states[-1,2,2].real/dyn.states[-1,3,3].real)))"
   ]
  },
  {
   "cell_type": "code",
   "execution_count": 22,
   "metadata": {},
   "outputs": [
    {
     "name": "stdout",
     "output_type": "stream",
     "text": [
      "0.44578824067344636\n",
      "0.5542117593265538\n",
      "1.0\n"
     ]
    }
   ],
   "source": [
    "print(dyn.states[0,0,0].real + dyn.states[0,1,1].real)\n",
    "print(dyn.states[0,2,2].real +dyn.states[0,3,3].real)\n",
    "print(dyn.states[0,0,0].real + dyn.states[0,1,1].real + dyn.states[0,2,2].real +dyn.states[0,3,3].real)"
   ]
  },
  {
   "cell_type": "code",
   "execution_count": 23,
   "metadata": {},
   "outputs": [
    {
     "name": "stdout",
     "output_type": "stream",
     "text": [
      "0.44578824119905464\n",
      "0.5542117478476848\n",
      "0.9999999890467394\n"
     ]
    }
   ],
   "source": [
    "print(dyn.states[-1,0,0].real + dyn.states[-1,1,1].real)\n",
    "print(dyn.states[-1,2,2].real + dyn.states[-1,3,3].real)\n",
    "print(dyn.states[-1,0,0].real + dyn.states[-1,1,1].real + dyn.states[-1,2,2].real + dyn.states[-1,3,3].real)"
   ]
  },
  {
   "cell_type": "code",
   "execution_count": 14,
   "metadata": {},
   "outputs": [
    {
     "name": "stdout",
     "output_type": "stream",
     "text": [
      "0.4457860404415688\n",
      "0.5542119707006242\n",
      "0.999998011142193\n"
     ]
    }
   ],
   "source": [
    "print(dyn.states[-1,0,0].real + dyn.states[-1,1,1].real)\n",
    "print(dyn.states[-1,2,2].real + dyn.states[-1,3,3].real)\n",
    "print(dyn.states[-1,0,0].real + dyn.states[-1,1,1].real + dyn.states[-1,2,2].real + dyn.states[-1,3,3].real)"
   ]
  },
  {
   "cell_type": "code",
   "execution_count": null,
   "metadata": {},
   "outputs": [],
   "source": []
  }
 ],
 "metadata": {
  "interpreter": {
   "hash": "7533612e3b8b4ce84bfdaecdfbe1a873c53b2e4c7b080e955d3ae5abd7357826"
  },
  "kernelspec": {
   "display_name": "Python 3.10.6 ('slm_venv')",
   "language": "python",
   "name": "python3"
  },
  "language_info": {
   "codemirror_mode": {
    "name": "ipython",
    "version": 3
   },
   "file_extension": ".py",
   "mimetype": "text/x-python",
   "name": "python",
   "nbconvert_exporter": "python",
   "pygments_lexer": "ipython3",
   "version": "3.10.6"
  }
 },
 "nbformat": 4,
 "nbformat_minor": 4
}
